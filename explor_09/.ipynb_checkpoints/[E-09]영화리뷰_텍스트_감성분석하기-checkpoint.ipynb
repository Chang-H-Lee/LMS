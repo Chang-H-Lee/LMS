{
 "cells": [
  {
   "cell_type": "markdown",
   "id": "928a8be2",
   "metadata": {
    "id": "928a8be2"
   },
   "source": [
    "#  네이버 영화리뷰 텍스트 감성분석하기 "
   ]
  },
  {
   "cell_type": "markdown",
   "id": "3d839fe0",
   "metadata": {
    "id": "3d839fe0"
   },
   "source": [
    "## [ 목차 ]\n",
    "\n",
    "1) 데이터 준비와 확인   \n",
    " * 활용할 데이터셋은 네이버 영화의 댓글을 모아 구성된 Naver sentiment movie corpus\n",
    "\n",
    "2) 데이터로더 구성   \n",
    " * 데이터의 중복 제거\n",
    " * NaN 결측치 제거\n",
    " * 한국어 토크나이저로 토큰화\n",
    " * 불용어(Stopwords) 제거\n",
    " * 사전word_to_index 구성\n",
    " * 텍스트 스트링을 사전 인덱스 스트링으로 변환\n",
    " * X_train, y_train, X_test, y_test, word_to_index 리턴   \n",
    " \n",
    "3) 모델 구성을 위한 데이터 분석 및 가공   \n",
    " * 데이터셋 내 문장 길이 분포\n",
    " * 적절한 최대 문장 길이 지정\n",
    " * keras.preprocessing.sequence.pad_sequences 을 활용한 패딩 추가   \n",
    " \n",
    "4) 모델 구성 및 validation set 구성   \n",
    " * 모델은 3가지 이상 다양하게 구성하여 실험\n",
    "\n",
    "5) 모델 훈련   \n",
    "6) Loss, Accuracy 그래프 시각화   \n",
    "7) 학습된 Embedding 레이어 분석   \n",
    "8) 한국어 Word2Vec 임베딩 활용하여 성능 개선   \n",
    "9) 회  고"
   ]
  },
  {
   "cell_type": "code",
   "execution_count": null,
   "id": "Vblf9h0A1A1I",
   "metadata": {
    "colab": {
     "base_uri": "https://localhost:8080/"
    },
    "executionInfo": {
     "elapsed": 160103,
     "status": "ok",
     "timestamp": 1654349142771,
     "user": {
      "displayName": "changhwan lee",
      "userId": "04303211996600941657"
     },
     "user_tz": -540
    },
    "id": "Vblf9h0A1A1I",
    "outputId": "cafe8e75-63b4-4866-904d-7cc2d2f016fb"
   },
   "outputs": [
    {
     "name": "stdout",
     "output_type": "stream",
     "text": [
      "Get:1 https://cloud.r-project.org/bin/linux/ubuntu bionic-cran40/ InRelease [3,626 B]\n",
      "Hit:2 https://developer.download.nvidia.com/compute/cuda/repos/ubuntu1804/x86_64  InRelease\n",
      "Ign:3 https://developer.download.nvidia.com/compute/machine-learning/repos/ubuntu1804/x86_64  InRelease\n",
      "Get:4 http://security.ubuntu.com/ubuntu bionic-security InRelease [88.7 kB]\n",
      "Hit:5 https://developer.download.nvidia.com/compute/machine-learning/repos/ubuntu1804/x86_64  Release\n",
      "Hit:6 http://archive.ubuntu.com/ubuntu bionic InRelease\n",
      "Get:7 http://archive.ubuntu.com/ubuntu bionic-updates InRelease [88.7 kB]\n",
      "Get:8 http://ppa.launchpad.net/c2d4u.team/c2d4u4.0+/ubuntu bionic InRelease [15.9 kB]\n",
      "Hit:10 http://ppa.launchpad.net/cran/libgit2/ubuntu bionic InRelease\n",
      "Get:11 http://archive.ubuntu.com/ubuntu bionic-backports InRelease [74.6 kB]\n",
      "Get:12 http://security.ubuntu.com/ubuntu bionic-security/main amd64 Packages [2,799 kB]\n",
      "Get:13 http://ppa.launchpad.net/deadsnakes/ppa/ubuntu bionic InRelease [15.9 kB]\n",
      "Get:14 http://security.ubuntu.com/ubuntu bionic-security/universe amd64 Packages [1,512 kB]\n",
      "Hit:15 http://ppa.launchpad.net/graphics-drivers/ppa/ubuntu bionic InRelease\n",
      "Get:16 http://archive.ubuntu.com/ubuntu bionic-updates/universe amd64 Packages [2,286 kB]\n",
      "Get:17 http://ppa.launchpad.net/c2d4u.team/c2d4u4.0+/ubuntu bionic/main Sources [1,992 kB]\n",
      "Get:18 http://archive.ubuntu.com/ubuntu bionic-updates/main amd64 Packages [3,231 kB]\n",
      "Get:19 http://ppa.launchpad.net/c2d4u.team/c2d4u4.0+/ubuntu bionic/main amd64 Packages [1,021 kB]\n",
      "Get:20 http://ppa.launchpad.net/deadsnakes/ppa/ubuntu bionic/main amd64 Packages [45.3 kB]\n",
      "Fetched 13.2 MB in 4s (3,023 kB/s)\n",
      "Reading package lists...\n",
      "Reading package lists...\n",
      "Building dependency tree...\n",
      "Reading state information...\n",
      "python-dev is already the newest version (2.7.15~rc1-1).\n",
      "g++ is already the newest version (4:7.4.0-1ubuntu2.3).\n",
      "g++ set to manually installed.\n",
      "python3-dev is already the newest version (3.6.7-1~18.04).\n",
      "python3-dev set to manually installed.\n",
      "The following package was automatically installed and is no longer required:\n",
      "  libnvidia-common-460\n",
      "Use 'apt autoremove' to remove it.\n",
      "The following additional packages will be installed:\n",
      "  fonts-dejavu-core fonts-dejavu-extra libatk-wrapper-java\n",
      "  libatk-wrapper-java-jni libgail-common libgail18 libgtk2.0-0 libgtk2.0-bin\n",
      "  libgtk2.0-common libxxf86dga1 openjdk-8-jdk-headless openjdk-8-jre\n",
      "  openjdk-8-jre-headless x11-utils\n",
      "Suggested packages:\n",
      "  gvfs openjdk-8-demo openjdk-8-source visualvm icedtea-8-plugin libnss-mdns\n",
      "  fonts-ipafont-gothic fonts-ipafont-mincho fonts-wqy-microhei\n",
      "  fonts-wqy-zenhei fonts-indic mesa-utils\n",
      "The following NEW packages will be installed:\n",
      "  fonts-dejavu-core fonts-dejavu-extra libatk-wrapper-java\n",
      "  libatk-wrapper-java-jni libgail-common libgail18 libgtk2.0-0 libgtk2.0-bin\n",
      "  libgtk2.0-common libxxf86dga1 openjdk-8-jdk openjdk-8-jdk-headless\n",
      "  openjdk-8-jre openjdk-8-jre-headless x11-utils\n",
      "0 upgraded, 15 newly installed, 0 to remove and 45 not upgraded.\n",
      "Need to get 43.5 MB of archives.\n",
      "After this operation, 163 MB of additional disk space will be used.\n",
      "Get:1 http://archive.ubuntu.com/ubuntu bionic/main amd64 libxxf86dga1 amd64 2:1.1.4-1 [13.7 kB]\n",
      "Get:2 http://archive.ubuntu.com/ubuntu bionic/main amd64 fonts-dejavu-core all 2.37-1 [1,041 kB]\n",
      "Get:3 http://archive.ubuntu.com/ubuntu bionic/main amd64 fonts-dejavu-extra all 2.37-1 [1,953 kB]\n",
      "Get:4 http://archive.ubuntu.com/ubuntu bionic/main amd64 x11-utils amd64 7.7+3build1 [196 kB]\n",
      "Get:5 http://archive.ubuntu.com/ubuntu bionic/main amd64 libatk-wrapper-java all 0.33.3-20ubuntu0.1 [34.7 kB]\n",
      "Get:6 http://archive.ubuntu.com/ubuntu bionic/main amd64 libatk-wrapper-java-jni amd64 0.33.3-20ubuntu0.1 [28.3 kB]\n",
      "Get:7 http://archive.ubuntu.com/ubuntu bionic/main amd64 libgtk2.0-common all 2.24.32-1ubuntu1 [125 kB]\n",
      "Get:8 http://archive.ubuntu.com/ubuntu bionic/main amd64 libgtk2.0-0 amd64 2.24.32-1ubuntu1 [1,769 kB]\n",
      "Get:9 http://archive.ubuntu.com/ubuntu bionic/main amd64 libgail18 amd64 2.24.32-1ubuntu1 [14.2 kB]\n",
      "Get:10 http://archive.ubuntu.com/ubuntu bionic/main amd64 libgail-common amd64 2.24.32-1ubuntu1 [112 kB]\n",
      "Get:11 http://archive.ubuntu.com/ubuntu bionic/main amd64 libgtk2.0-bin amd64 2.24.32-1ubuntu1 [7,536 B]\n",
      "Get:12 http://archive.ubuntu.com/ubuntu bionic-updates/universe amd64 openjdk-8-jre-headless amd64 8u312-b07-0ubuntu1~18.04 [28.2 MB]\n",
      "Get:13 http://archive.ubuntu.com/ubuntu bionic-updates/universe amd64 openjdk-8-jre amd64 8u312-b07-0ubuntu1~18.04 [69.6 kB]\n",
      "Get:14 http://archive.ubuntu.com/ubuntu bionic-updates/universe amd64 openjdk-8-jdk-headless amd64 8u312-b07-0ubuntu1~18.04 [8,298 kB]\n",
      "Get:15 http://archive.ubuntu.com/ubuntu bionic-updates/universe amd64 openjdk-8-jdk amd64 8u312-b07-0ubuntu1~18.04 [1,625 kB]\n",
      "Fetched 43.5 MB in 3s (13.2 MB/s)\n",
      "Selecting previously unselected package libxxf86dga1:amd64.\r\n",
      "(Reading database ... \r(Reading database ... 5%\r(Reading database ... 10%\r(Reading database ... 15%\r(Reading database ... 20%\r(Reading database ... 25%\r(Reading database ... 30%\r(Reading database ... 35%\r(Reading database ... 40%\r(Reading database ... 45%\r(Reading database ... 50%\r(Reading database ... 55%\r(Reading database ... 60%\r(Reading database ... 65%\r(Reading database ... 70%\r(Reading database ... 75%\r(Reading database ... 80%\r(Reading database ... 85%\r(Reading database ... 90%\r(Reading database ... 95%\r(Reading database ... 100%\r(Reading database ... 155632 files and directories currently installed.)\r\n",
      "Preparing to unpack .../00-libxxf86dga1_2%3a1.1.4-1_amd64.deb ...\r\n",
      "Unpacking libxxf86dga1:amd64 (2:1.1.4-1) ...\r\n",
      "Selecting previously unselected package fonts-dejavu-core.\r\n",
      "Preparing to unpack .../01-fonts-dejavu-core_2.37-1_all.deb ...\r\n",
      "Unpacking fonts-dejavu-core (2.37-1) ...\r\n",
      "Selecting previously unselected package fonts-dejavu-extra.\r\n",
      "Preparing to unpack .../02-fonts-dejavu-extra_2.37-1_all.deb ...\r\n",
      "Unpacking fonts-dejavu-extra (2.37-1) ...\r\n",
      "Selecting previously unselected package x11-utils.\r\n",
      "Preparing to unpack .../03-x11-utils_7.7+3build1_amd64.deb ...\r\n",
      "Unpacking x11-utils (7.7+3build1) ...\r\n",
      "Selecting previously unselected package libatk-wrapper-java.\r\n",
      "Preparing to unpack .../04-libatk-wrapper-java_0.33.3-20ubuntu0.1_all.deb ...\r\n",
      "Unpacking libatk-wrapper-java (0.33.3-20ubuntu0.1) ...\r\n",
      "Selecting previously unselected package libatk-wrapper-java-jni:amd64.\r\n",
      "Preparing to unpack .../05-libatk-wrapper-java-jni_0.33.3-20ubuntu0.1_amd64.deb ...\r\n",
      "Unpacking libatk-wrapper-java-jni:amd64 (0.33.3-20ubuntu0.1) ...\r\n",
      "Selecting previously unselected package libgtk2.0-common.\r\n",
      "Preparing to unpack .../06-libgtk2.0-common_2.24.32-1ubuntu1_all.deb ...\r\n",
      "Unpacking libgtk2.0-common (2.24.32-1ubuntu1) ...\r\n",
      "Selecting previously unselected package libgtk2.0-0:amd64.\r\n",
      "Preparing to unpack .../07-libgtk2.0-0_2.24.32-1ubuntu1_amd64.deb ...\r\n",
      "Unpacking libgtk2.0-0:amd64 (2.24.32-1ubuntu1) ...\r\n",
      "Selecting previously unselected package libgail18:amd64.\r\n",
      "Preparing to unpack .../08-libgail18_2.24.32-1ubuntu1_amd64.deb ...\r\n",
      "Unpacking libgail18:amd64 (2.24.32-1ubuntu1) ...\r\n",
      "Selecting previously unselected package libgail-common:amd64.\r\n",
      "Preparing to unpack .../09-libgail-common_2.24.32-1ubuntu1_amd64.deb ...\r\n",
      "Unpacking libgail-common:amd64 (2.24.32-1ubuntu1) ...\r\n",
      "Selecting previously unselected package libgtk2.0-bin.\r\n",
      "Preparing to unpack .../10-libgtk2.0-bin_2.24.32-1ubuntu1_amd64.deb ...\r\n",
      "Unpacking libgtk2.0-bin (2.24.32-1ubuntu1) ...\r\n",
      "Selecting previously unselected package openjdk-8-jre-headless:amd64.\r\n",
      "Preparing to unpack .../11-openjdk-8-jre-headless_8u312-b07-0ubuntu1~18.04_amd64.deb ...\r\n",
      "Unpacking openjdk-8-jre-headless:amd64 (8u312-b07-0ubuntu1~18.04) ...\r\n",
      "Selecting previously unselected package openjdk-8-jre:amd64.\r\n",
      "Preparing to unpack .../12-openjdk-8-jre_8u312-b07-0ubuntu1~18.04_amd64.deb ...\r\n",
      "Unpacking openjdk-8-jre:amd64 (8u312-b07-0ubuntu1~18.04) ...\r\n",
      "Selecting previously unselected package openjdk-8-jdk-headless:amd64.\r\n",
      "Preparing to unpack .../13-openjdk-8-jdk-headless_8u312-b07-0ubuntu1~18.04_amd64.deb ...\r\n",
      "Unpacking openjdk-8-jdk-headless:amd64 (8u312-b07-0ubuntu1~18.04) ...\r\n",
      "Selecting previously unselected package openjdk-8-jdk:amd64.\r\n",
      "Preparing to unpack .../14-openjdk-8-jdk_8u312-b07-0ubuntu1~18.04_amd64.deb ...\r\n",
      "Unpacking openjdk-8-jdk:amd64 (8u312-b07-0ubuntu1~18.04) ...\r\n",
      "Setting up libgtk2.0-common (2.24.32-1ubuntu1) ...\r\n",
      "Setting up fonts-dejavu-core (2.37-1) ...\r\n",
      "Setting up libxxf86dga1:amd64 (2:1.1.4-1) ...\r\n",
      "Setting up fonts-dejavu-extra (2.37-1) ...\r\n",
      "Setting up openjdk-8-jre-headless:amd64 (8u312-b07-0ubuntu1~18.04) ...\r\n",
      "update-alternatives: using /usr/lib/jvm/java-8-openjdk-amd64/jre/bin/orbd to provide /usr/bin/orbd (orbd) in auto mode\r\n",
      "update-alternatives: using /usr/lib/jvm/java-8-openjdk-amd64/jre/bin/servertool to provide /usr/bin/servertool (servertool) in auto mode\r\n",
      "update-alternatives: using /usr/lib/jvm/java-8-openjdk-amd64/jre/bin/tnameserv to provide /usr/bin/tnameserv (tnameserv) in auto mode\r\n",
      "Setting up libgtk2.0-0:amd64 (2.24.32-1ubuntu1) ...\r\n",
      "Setting up libgail18:amd64 (2.24.32-1ubuntu1) ...\r\n",
      "Setting up openjdk-8-jdk-headless:amd64 (8u312-b07-0ubuntu1~18.04) ...\r\n",
      "update-alternatives: using /usr/lib/jvm/java-8-openjdk-amd64/bin/idlj to provide /usr/bin/idlj (idlj) in auto mode\r\n",
      "update-alternatives: using /usr/lib/jvm/java-8-openjdk-amd64/bin/wsimport to provide /usr/bin/wsimport (wsimport) in auto mode\r\n",
      "update-alternatives: using /usr/lib/jvm/java-8-openjdk-amd64/bin/jsadebugd to provide /usr/bin/jsadebugd (jsadebugd) in auto mode\r\n",
      "update-alternatives: using /usr/lib/jvm/java-8-openjdk-amd64/bin/native2ascii to provide /usr/bin/native2ascii (native2ascii) in auto mode\r\n",
      "update-alternatives: using /usr/lib/jvm/java-8-openjdk-amd64/bin/javah to provide /usr/bin/javah (javah) in auto mode\r\n",
      "update-alternatives: using /usr/lib/jvm/java-8-openjdk-amd64/bin/hsdb to provide /usr/bin/hsdb (hsdb) in auto mode\r\n",
      "update-alternatives: using /usr/lib/jvm/java-8-openjdk-amd64/bin/clhsdb to provide /usr/bin/clhsdb (clhsdb) in auto mode\r\n",
      "update-alternatives: using /usr/lib/jvm/java-8-openjdk-amd64/bin/xjc to provide /usr/bin/xjc (xjc) in auto mode\r\n",
      "update-alternatives: using /usr/lib/jvm/java-8-openjdk-amd64/bin/schemagen to provide /usr/bin/schemagen (schemagen) in auto mode\r\n",
      "update-alternatives: using /usr/lib/jvm/java-8-openjdk-amd64/bin/extcheck to provide /usr/bin/extcheck (extcheck) in auto mode\r\n",
      "update-alternatives: using /usr/lib/jvm/java-8-openjdk-amd64/bin/jhat to provide /usr/bin/jhat (jhat) in auto mode\r\n",
      "update-alternatives: using /usr/lib/jvm/java-8-openjdk-amd64/bin/wsgen to provide /usr/bin/wsgen (wsgen) in auto mode\r\n",
      "Setting up x11-utils (7.7+3build1) ...\r\n",
      "Setting up libgail-common:amd64 (2.24.32-1ubuntu1) ...\r\n",
      "Setting up libatk-wrapper-java (0.33.3-20ubuntu0.1) ...\r\n",
      "Setting up libgtk2.0-bin (2.24.32-1ubuntu1) ...\r\n",
      "Setting up libatk-wrapper-java-jni:amd64 (0.33.3-20ubuntu0.1) ...\r\n",
      "Setting up openjdk-8-jre:amd64 (8u312-b07-0ubuntu1~18.04) ...\r\n",
      "update-alternatives: using /usr/lib/jvm/java-8-openjdk-amd64/jre/bin/policytool to provide /usr/bin/policytool (policytool) in auto mode\r\n",
      "Setting up openjdk-8-jdk:amd64 (8u312-b07-0ubuntu1~18.04) ...\r\n",
      "update-alternatives: using /usr/lib/jvm/java-8-openjdk-amd64/bin/appletviewer to provide /usr/bin/appletviewer (appletviewer) in auto mode\r\n",
      "update-alternatives: using /usr/lib/jvm/java-8-openjdk-amd64/bin/jconsole to provide /usr/bin/jconsole (jconsole) in auto mode\r\n",
      "Processing triggers for man-db (2.8.3-2ubuntu0.1) ...\r\n",
      "Processing triggers for hicolor-icon-theme (0.17-2) ...\r\n",
      "Processing triggers for fontconfig (2.12.6-0ubuntu2) ...\r\n",
      "Processing triggers for mime-support (3.60ubuntu1) ...\r\n",
      "Processing triggers for libc-bin (2.27-3ubuntu1.3) ...\r\n",
      "/sbin/ldconfig.real: /usr/local/lib/python3.7/dist-packages/ideep4py/lib/libmkldnn.so.0 is not a symbolic link\r\n",
      "\r\n",
      "Looking in indexes: https://pypi.org/simple, https://us-python.pkg.dev/colab-wheels/public/simple/\n",
      "Collecting JPype1\n",
      "  Downloading JPype1-1.4.0-cp37-cp37m-manylinux_2_5_x86_64.manylinux1_x86_64.whl (453 kB)\n",
      "Requirement already satisfied: typing-extensions in /usr/local/lib/python3.7/dist-packages (from JPype1) (4.2.0)\n",
      "Installing collected packages: JPype1\n",
      "Successfully installed JPype1-1.4.0\n",
      "Looking in indexes: https://pypi.org/simple, https://us-python.pkg.dev/colab-wheels/public/simple/\n",
      "Collecting konlpy\n",
      "  Downloading konlpy-0.6.0-py2.py3-none-any.whl (19.4 MB)\n",
      "Requirement already satisfied: lxml>=4.1.0 in /usr/local/lib/python3.7/dist-packages (from konlpy) (4.2.6)\n",
      "Requirement already satisfied: numpy>=1.6 in /usr/local/lib/python3.7/dist-packages (from konlpy) (1.21.6)\n",
      "Requirement already satisfied: JPype1>=0.7.0 in /usr/local/lib/python3.7/dist-packages (from konlpy) (1.4.0)\n",
      "Requirement already satisfied: typing-extensions in /usr/local/lib/python3.7/dist-packages (from JPype1>=0.7.0->konlpy) (4.2.0)\n",
      "Installing collected packages: konlpy\n",
      "Successfully installed konlpy-0.6.0\n",
      "Installing automake (A dependency for mecab-ko)\n",
      "Hit:1 https://developer.download.nvidia.com/compute/cuda/repos/ubuntu1804/x86_64  InRelease\n",
      "Hit:2 https://cloud.r-project.org/bin/linux/ubuntu bionic-cran40/ InRelease\n",
      "Ign:3 https://developer.download.nvidia.com/compute/machine-learning/repos/ubuntu1804/x86_64  InRelease\n",
      "Hit:4 https://developer.download.nvidia.com/compute/machine-learning/repos/ubuntu1804/x86_64  Release\n",
      "Hit:6 http://security.ubuntu.com/ubuntu bionic-security InRelease\n",
      "Hit:7 http://ppa.launchpad.net/c2d4u.team/c2d4u4.0+/ubuntu bionic InRelease\n",
      "Hit:8 http://archive.ubuntu.com/ubuntu bionic InRelease\n",
      "Hit:9 http://ppa.launchpad.net/cran/libgit2/ubuntu bionic InRelease\n",
      "Hit:10 http://archive.ubuntu.com/ubuntu bionic-updates InRelease\n",
      "Hit:11 http://archive.ubuntu.com/ubuntu bionic-backports InRelease\n",
      "Hit:12 http://ppa.launchpad.net/deadsnakes/ppa/ubuntu bionic InRelease\n",
      "Hit:13 http://ppa.launchpad.net/graphics-drivers/ppa/ubuntu bionic InRelease\n",
      "Reading package lists...\n",
      "Reading package lists...\n",
      "Building dependency tree...\n",
      "Reading state information...\n",
      "The following package was automatically installed and is no longer required:\n",
      "  libnvidia-common-460\n",
      "Use 'sudo apt autoremove' to remove it.\n",
      "The following additional packages will be installed:\n",
      "  autoconf autotools-dev libsigsegv2 m4\n",
      "Suggested packages:\n",
      "  autoconf-archive gnu-standards autoconf-doc libtool gettext m4-doc\n",
      "The following NEW packages will be installed:\n",
      "  autoconf automake autotools-dev libsigsegv2 m4\n",
      "0 upgraded, 5 newly installed, 0 to remove and 45 not upgraded.\n",
      "Need to get 1,082 kB of archives.\n",
      "After this operation, 3,994 kB of additional disk space will be used.\n",
      "Get:1 http://archive.ubuntu.com/ubuntu bionic/main amd64 libsigsegv2 amd64 2.12-1 [14.7 kB]\n",
      "Get:2 http://archive.ubuntu.com/ubuntu bionic/main amd64 m4 amd64 1.4.18-1 [197 kB]\n",
      "Get:3 http://archive.ubuntu.com/ubuntu bionic/main amd64 autoconf all 2.69-11 [322 kB]\n",
      "Get:4 http://archive.ubuntu.com/ubuntu bionic/main amd64 autotools-dev all 20180224.1 [39.6 kB]\n",
      "Get:5 http://archive.ubuntu.com/ubuntu bionic/main amd64 automake all 1:1.15.1-3ubuntu2 [509 kB]\n",
      "Fetched 1,082 kB in 1s (830 kB/s)\n",
      "Selecting previously unselected package libsigsegv2:amd64.\r\n",
      "(Reading database ... \r(Reading database ... 5%\r(Reading database ... 10%\r(Reading database ... 15%\r(Reading database ... 20%\r(Reading database ... 25%\r(Reading database ... 30%\r(Reading database ... 35%\r(Reading database ... 40%\r(Reading database ... 45%\r(Reading database ... 50%\r(Reading database ... 55%\r(Reading database ... 60%\r(Reading database ... 65%\r(Reading database ... 70%\r(Reading database ... 75%\r(Reading database ... 80%\r(Reading database ... 85%\r(Reading database ... 90%\r(Reading database ... 95%\r(Reading database ... 100%\r(Reading database ... 156208 files and directories currently installed.)\r\n",
      "Preparing to unpack .../libsigsegv2_2.12-1_amd64.deb ...\r\n",
      "Unpacking libsigsegv2:amd64 (2.12-1) ...\r\n",
      "Selecting previously unselected package m4.\r\n",
      "Preparing to unpack .../archives/m4_1.4.18-1_amd64.deb ...\r\n",
      "Unpacking m4 (1.4.18-1) ...\r\n",
      "Selecting previously unselected package autoconf.\r\n",
      "Preparing to unpack .../autoconf_2.69-11_all.deb ...\r\n",
      "Unpacking autoconf (2.69-11) ...\r\n",
      "Selecting previously unselected package autotools-dev.\r\n",
      "Preparing to unpack .../autotools-dev_20180224.1_all.deb ...\r\n",
      "Unpacking autotools-dev (20180224.1) ...\r\n",
      "Selecting previously unselected package automake.\r\n",
      "Preparing to unpack .../automake_1%3a1.15.1-3ubuntu2_all.deb ...\r\n",
      "Unpacking automake (1:1.15.1-3ubuntu2) ...\r\n",
      "Setting up libsigsegv2:amd64 (2.12-1) ...\r\n",
      "Setting up m4 (1.4.18-1) ...\r\n",
      "Setting up autotools-dev (20180224.1) ...\r\n",
      "Setting up autoconf (2.69-11) ...\r\n",
      "Setting up automake (1:1.15.1-3ubuntu2) ...\r\n",
      "update-alternatives: using /usr/bin/automake-1.15 to provide /usr/bin/automake (automake) in auto mode\r\n",
      "Processing triggers for libc-bin (2.27-3ubuntu1.3) ...\r\n",
      "/sbin/ldconfig.real: /usr/local/lib/python3.7/dist-packages/ideep4py/lib/libmkldnn.so.0 is not a symbolic link\r\n",
      "\r\n",
      "Processing triggers for man-db (2.8.3-2ubuntu0.1) ...\r\n",
      "Install mecab-ko\n",
      "mecab-0.996-ko-0.9.2/\n",
      "mecab-0.996-ko-0.9.2/example/\n",
      "mecab-0.996-ko-0.9.2/example/example.cpp\n",
      "mecab-0.996-ko-0.9.2/example/example_lattice.cpp\n",
      "mecab-0.996-ko-0.9.2/example/example_lattice.c\n",
      "mecab-0.996-ko-0.9.2/example/example.c\n",
      "mecab-0.996-ko-0.9.2/example/thread_test.cpp\n",
      "mecab-0.996-ko-0.9.2/mecab-config.in\n",
      "mecab-0.996-ko-0.9.2/man/\n",
      "mecab-0.996-ko-0.9.2/man/Makefile.am\n",
      "mecab-0.996-ko-0.9.2/man/mecab.1\n",
      "mecab-0.996-ko-0.9.2/man/Makefile.in\n",
      "mecab-0.996-ko-0.9.2/mecab.iss.in\n",
      "mecab-0.996-ko-0.9.2/config.guess\n",
      "mecab-0.996-ko-0.9.2/README\n",
      "mecab-0.996-ko-0.9.2/COPYING\n",
      "mecab-0.996-ko-0.9.2/CHANGES.md\n",
      "mecab-0.996-ko-0.9.2/README.md\n",
      "mecab-0.996-ko-0.9.2/INSTALL\n",
      "mecab-0.996-ko-0.9.2/config.sub\n",
      "mecab-0.996-ko-0.9.2/configure.in\n",
      "mecab-0.996-ko-0.9.2/swig/\n",
      "mecab-0.996-ko-0.9.2/swig/Makefile\n",
      "mecab-0.996-ko-0.9.2/swig/version.h.in\n",
      "mecab-0.996-ko-0.9.2/swig/version.h\n",
      "mecab-0.996-ko-0.9.2/swig/MeCab.i\n",
      "mecab-0.996-ko-0.9.2/aclocal.m4\n",
      "mecab-0.996-ko-0.9.2/LGPL\n",
      "mecab-0.996-ko-0.9.2/Makefile.am\n",
      "mecab-0.996-ko-0.9.2/configure\n",
      "mecab-0.996-ko-0.9.2/tests/\n",
      "mecab-0.996-ko-0.9.2/tests/autolink/\n",
      "mecab-0.996-ko-0.9.2/tests/autolink/unk.def\n",
      "mecab-0.996-ko-0.9.2/tests/autolink/dicrc\n",
      "mecab-0.996-ko-0.9.2/tests/autolink/dic.csv\n",
      "mecab-0.996-ko-0.9.2/tests/autolink/test\n",
      "mecab-0.996-ko-0.9.2/tests/autolink/char.def\n",
      "mecab-0.996-ko-0.9.2/tests/autolink/matrix.def\n",
      "mecab-0.996-ko-0.9.2/tests/autolink/test.gld\n",
      "mecab-0.996-ko-0.9.2/tests/t9/\n",
      "mecab-0.996-ko-0.9.2/tests/t9/unk.def\n",
      "mecab-0.996-ko-0.9.2/tests/t9/ipadic.pl\n",
      "mecab-0.996-ko-0.9.2/tests/t9/dicrc\n",
      "mecab-0.996-ko-0.9.2/tests/t9/dic.csv\n",
      "mecab-0.996-ko-0.9.2/tests/t9/test\n",
      "mecab-0.996-ko-0.9.2/tests/t9/char.def\n",
      "mecab-0.996-ko-0.9.2/tests/t9/matrix.def\n",
      "mecab-0.996-ko-0.9.2/tests/t9/mkdic.pl\n",
      "mecab-0.996-ko-0.9.2/tests/t9/test.gld\n",
      "mecab-0.996-ko-0.9.2/tests/cost-train/\n",
      "mecab-0.996-ko-0.9.2/tests/cost-train/ipa.train\n",
      "mecab-0.996-ko-0.9.2/tests/cost-train/ipa.test\n",
      "mecab-0.996-ko-0.9.2/tests/cost-train/seed/\n",
      "mecab-0.996-ko-0.9.2/tests/cost-train/seed/rewrite.def\n",
      "mecab-0.996-ko-0.9.2/tests/cost-train/seed/feature.def\n",
      "mecab-0.996-ko-0.9.2/tests/cost-train/seed/unk.def\n",
      "mecab-0.996-ko-0.9.2/tests/cost-train/seed/dicrc\n",
      "mecab-0.996-ko-0.9.2/tests/cost-train/seed/dic.csv\n",
      "mecab-0.996-ko-0.9.2/tests/cost-train/seed/char.def\n",
      "mecab-0.996-ko-0.9.2/tests/cost-train/seed/matrix.def\n",
      "mecab-0.996-ko-0.9.2/tests/run-eval.sh\n",
      "mecab-0.996-ko-0.9.2/tests/run-cost-train.sh\n",
      "mecab-0.996-ko-0.9.2/tests/Makefile.am\n",
      "mecab-0.996-ko-0.9.2/tests/katakana/\n",
      "mecab-0.996-ko-0.9.2/tests/katakana/unk.def\n",
      "mecab-0.996-ko-0.9.2/tests/katakana/dicrc\n",
      "mecab-0.996-ko-0.9.2/tests/katakana/dic.csv\n",
      "mecab-0.996-ko-0.9.2/tests/katakana/test\n",
      "mecab-0.996-ko-0.9.2/tests/katakana/char.def\n",
      "mecab-0.996-ko-0.9.2/tests/katakana/matrix.def\n",
      "mecab-0.996-ko-0.9.2/tests/katakana/test.gld\n",
      "mecab-0.996-ko-0.9.2/tests/eval/\n",
      "mecab-0.996-ko-0.9.2/tests/eval/answer\n",
      "mecab-0.996-ko-0.9.2/tests/eval/system\n",
      "mecab-0.996-ko-0.9.2/tests/eval/test.gld\n",
      "mecab-0.996-ko-0.9.2/tests/shiin/\n",
      "mecab-0.996-ko-0.9.2/tests/shiin/unk.def\n",
      "mecab-0.996-ko-0.9.2/tests/shiin/dicrc\n",
      "mecab-0.996-ko-0.9.2/tests/shiin/dic.csv\n",
      "mecab-0.996-ko-0.9.2/tests/shiin/test\n",
      "mecab-0.996-ko-0.9.2/tests/shiin/char.def\n",
      "mecab-0.996-ko-0.9.2/tests/shiin/matrix.def\n",
      "mecab-0.996-ko-0.9.2/tests/shiin/mkdic.pl\n",
      "mecab-0.996-ko-0.9.2/tests/shiin/test.gld\n",
      "mecab-0.996-ko-0.9.2/tests/latin/\n",
      "mecab-0.996-ko-0.9.2/tests/latin/unk.def\n",
      "mecab-0.996-ko-0.9.2/tests/latin/dicrc\n",
      "mecab-0.996-ko-0.9.2/tests/latin/dic.csv\n",
      "mecab-0.996-ko-0.9.2/tests/latin/test\n",
      "mecab-0.996-ko-0.9.2/tests/latin/char.def\n",
      "mecab-0.996-ko-0.9.2/tests/latin/matrix.def\n",
      "mecab-0.996-ko-0.9.2/tests/latin/test.gld\n",
      "mecab-0.996-ko-0.9.2/tests/chartype/\n",
      "mecab-0.996-ko-0.9.2/tests/chartype/unk.def\n",
      "mecab-0.996-ko-0.9.2/tests/chartype/dicrc\n",
      "mecab-0.996-ko-0.9.2/tests/chartype/dic.csv\n",
      "mecab-0.996-ko-0.9.2/tests/chartype/test\n",
      "mecab-0.996-ko-0.9.2/tests/chartype/char.def\n",
      "mecab-0.996-ko-0.9.2/tests/chartype/matrix.def\n",
      "mecab-0.996-ko-0.9.2/tests/chartype/test.gld\n",
      "mecab-0.996-ko-0.9.2/tests/run-dics.sh\n",
      "mecab-0.996-ko-0.9.2/tests/ngram/\n",
      "mecab-0.996-ko-0.9.2/tests/ngram/unk.def\n",
      "mecab-0.996-ko-0.9.2/tests/ngram/dicrc\n",
      "mecab-0.996-ko-0.9.2/tests/ngram/dic.csv\n",
      "mecab-0.996-ko-0.9.2/tests/ngram/test\n",
      "mecab-0.996-ko-0.9.2/tests/ngram/char.def\n",
      "mecab-0.996-ko-0.9.2/tests/ngram/matrix.def\n",
      "mecab-0.996-ko-0.9.2/tests/ngram/test.gld\n",
      "mecab-0.996-ko-0.9.2/tests/Makefile.in\n",
      "mecab-0.996-ko-0.9.2/ltmain.sh\n",
      "mecab-0.996-ko-0.9.2/config.rpath\n",
      "mecab-0.996-ko-0.9.2/config.h.in\n",
      "mecab-0.996-ko-0.9.2/mecabrc.in\n",
      "mecab-0.996-ko-0.9.2/GPL\n",
      "mecab-0.996-ko-0.9.2/Makefile.train\n",
      "mecab-0.996-ko-0.9.2/ChangeLog\n",
      "mecab-0.996-ko-0.9.2/install-sh\n",
      "mecab-0.996-ko-0.9.2/AUTHORS\n",
      "mecab-0.996-ko-0.9.2/doc/\n",
      "mecab-0.996-ko-0.9.2/doc/bindings.html\n",
      "mecab-0.996-ko-0.9.2/doc/posid.html\n",
      "mecab-0.996-ko-0.9.2/doc/unk.html\n",
      "mecab-0.996-ko-0.9.2/doc/learn.html\n",
      "mecab-0.996-ko-0.9.2/doc/format.html\n",
      "mecab-0.996-ko-0.9.2/doc/libmecab.html\n",
      "mecab-0.996-ko-0.9.2/doc/mecab.css\n",
      "mecab-0.996-ko-0.9.2/doc/feature.html\n",
      "mecab-0.996-ko-0.9.2/doc/Makefile.am\n",
      "mecab-0.996-ko-0.9.2/doc/soft.html\n",
      "mecab-0.996-ko-0.9.2/doc/en/\n",
      "mecab-0.996-ko-0.9.2/doc/en/bindings.html\n",
      "mecab-0.996-ko-0.9.2/doc/dic-detail.html\n",
      "mecab-0.996-ko-0.9.2/doc/flow.png\n",
      "mecab-0.996-ko-0.9.2/doc/mecab.html\n",
      "mecab-0.996-ko-0.9.2/doc/index.html\n",
      "mecab-0.996-ko-0.9.2/doc/result.png\n",
      "mecab-0.996-ko-0.9.2/doc/doxygen/\n",
      "mecab-0.996-ko-0.9.2/doc/doxygen/tab_a.png\n",
      "mecab-0.996-ko-0.9.2/doc/doxygen/globals_eval.html\n",
      "mecab-0.996-ko-0.9.2/doc/doxygen/classMeCab_1_1Tagger-members.html\n",
      "mecab-0.996-ko-0.9.2/doc/doxygen/functions_vars.html\n",
      "mecab-0.996-ko-0.9.2/doc/doxygen/doxygen.css\n",
      "mecab-0.996-ko-0.9.2/doc/doxygen/tab_r.gif\n",
      "mecab-0.996-ko-0.9.2/doc/doxygen/classMeCab_1_1Lattice.html\n",
      "mecab-0.996-ko-0.9.2/doc/doxygen/functions.html\n",
      "mecab-0.996-ko-0.9.2/doc/doxygen/classMeCab_1_1Tagger.html\n",
      "mecab-0.996-ko-0.9.2/doc/doxygen/mecab_8h_source.html\n",
      "mecab-0.996-ko-0.9.2/doc/doxygen/tabs.css\n",
      "mecab-0.996-ko-0.9.2/doc/doxygen/nav_f.png\n",
      "mecab-0.996-ko-0.9.2/doc/doxygen/tab_b.png\n",
      "mecab-0.996-ko-0.9.2/doc/doxygen/globals.html\n",
      "mecab-0.996-ko-0.9.2/doc/doxygen/nav_h.png\n",
      "mecab-0.996-ko-0.9.2/doc/doxygen/tab_h.png\n",
      "mecab-0.996-ko-0.9.2/doc/doxygen/classMeCab_1_1Model.html\n",
      "mecab-0.996-ko-0.9.2/doc/doxygen/globals_func.html\n",
      "mecab-0.996-ko-0.9.2/doc/doxygen/closed.png\n",
      "mecab-0.996-ko-0.9.2/doc/doxygen/tab_l.gif\n",
      "mecab-0.996-ko-0.9.2/doc/doxygen/structmecab__path__t-members.html\n",
      "mecab-0.996-ko-0.9.2/doc/doxygen/functions_func.html\n",
      "mecab-0.996-ko-0.9.2/doc/doxygen/globals_type.html\n",
      "mecab-0.996-ko-0.9.2/doc/doxygen/classMeCab_1_1Lattice-members.html\n",
      "mecab-0.996-ko-0.9.2/doc/doxygen/structmecab__node__t.html\n",
      "mecab-0.996-ko-0.9.2/doc/doxygen/namespacemembers_func.html\n",
      "mecab-0.996-ko-0.9.2/doc/doxygen/tab_s.png\n",
      "mecab-0.996-ko-0.9.2/doc/doxygen/structmecab__dictionary__info__t-members.html\n",
      "mecab-0.996-ko-0.9.2/doc/doxygen/namespacemembers_type.html\n",
      "mecab-0.996-ko-0.9.2/doc/doxygen/classMeCab_1_1Model-members.html\n",
      "mecab-0.996-ko-0.9.2/doc/doxygen/structmecab__dictionary__info__t.html\n",
      "mecab-0.996-ko-0.9.2/doc/doxygen/namespaces.html\n",
      "mecab-0.996-ko-0.9.2/doc/doxygen/namespacemembers.html\n",
      "mecab-0.996-ko-0.9.2/doc/doxygen/namespaceMeCab.html\n",
      "mecab-0.996-ko-0.9.2/doc/doxygen/structmecab__path__t.html\n",
      "mecab-0.996-ko-0.9.2/doc/doxygen/files.html\n",
      "mecab-0.996-ko-0.9.2/doc/doxygen/structmecab__node__t-members.html\n",
      "mecab-0.996-ko-0.9.2/doc/doxygen/index.html\n",
      "mecab-0.996-ko-0.9.2/doc/doxygen/annotated.html\n",
      "mecab-0.996-ko-0.9.2/doc/doxygen/globals_defs.html\n",
      "mecab-0.996-ko-0.9.2/doc/doxygen/classes.html\n",
      "mecab-0.996-ko-0.9.2/doc/doxygen/mecab_8h-source.html\n",
      "mecab-0.996-ko-0.9.2/doc/doxygen/doxygen.png\n",
      "mecab-0.996-ko-0.9.2/doc/doxygen/tab_b.gif\n",
      "mecab-0.996-ko-0.9.2/doc/doxygen/bc_s.png\n",
      "mecab-0.996-ko-0.9.2/doc/doxygen/open.png\n",
      "mecab-0.996-ko-0.9.2/doc/doxygen/mecab_8h.html\n",
      "mecab-0.996-ko-0.9.2/doc/dic.html\n",
      "mecab-0.996-ko-0.9.2/doc/partial.html\n",
      "mecab-0.996-ko-0.9.2/doc/feature.png\n",
      "mecab-0.996-ko-0.9.2/doc/Makefile.in\n",
      "mecab-0.996-ko-0.9.2/missing\n",
      "mecab-0.996-ko-0.9.2/BSD\n",
      "mecab-0.996-ko-0.9.2/NEWS\n",
      "mecab-0.996-ko-0.9.2/mkinstalldirs\n",
      "mecab-0.996-ko-0.9.2/src/\n",
      "mecab-0.996-ko-0.9.2/src/dictionary.h\n",
      "mecab-0.996-ko-0.9.2/src/writer.h\n",
      "mecab-0.996-ko-0.9.2/src/utils.h\n",
      "mecab-0.996-ko-0.9.2/src/string_buffer.cpp\n",
      "mecab-0.996-ko-0.9.2/src/tokenizer.cpp\n",
      "mecab-0.996-ko-0.9.2/src/make.bat\n",
      "mecab-0.996-ko-0.9.2/src/mecab.h\n",
      "mecab-0.996-ko-0.9.2/src/freelist.h\n",
      "mecab-0.996-ko-0.9.2/src/string_buffer.h\n",
      "mecab-0.996-ko-0.9.2/src/learner_tagger.h\n",
      "mecab-0.996-ko-0.9.2/src/dictionary_compiler.cpp\n",
      "mecab-0.996-ko-0.9.2/src/eval.cpp\n",
      "mecab-0.996-ko-0.9.2/src/mecab-system-eval.cpp\n",
      "mecab-0.996-ko-0.9.2/src/darts.h\n",
      "mecab-0.996-ko-0.9.2/src/param.h\n",
      "mecab-0.996-ko-0.9.2/src/char_property.h\n",
      "mecab-0.996-ko-0.9.2/src/learner_node.h\n",
      "mecab-0.996-ko-0.9.2/src/mecab-dict-gen.cpp\n",
      "mecab-0.996-ko-0.9.2/src/mecab-dict-index.cpp\n",
      "mecab-0.996-ko-0.9.2/src/winmain.h\n",
      "mecab-0.996-ko-0.9.2/src/thread.h\n",
      "mecab-0.996-ko-0.9.2/src/context_id.cpp\n",
      "mecab-0.996-ko-0.9.2/src/Makefile.am\n",
      "mecab-0.996-ko-0.9.2/src/connector.h\n",
      "mecab-0.996-ko-0.9.2/src/common.h\n",
      "mecab-0.996-ko-0.9.2/src/dictionary_rewriter.cpp\n",
      "mecab-0.996-ko-0.9.2/src/Makefile.msvc.in\n",
      "mecab-0.996-ko-0.9.2/src/dictionary_rewriter.h\n",
      "mecab-0.996-ko-0.9.2/src/feature_index.h\n",
      "mecab-0.996-ko-0.9.2/src/iconv_utils.cpp\n",
      "mecab-0.996-ko-0.9.2/src/char_property.cpp\n",
      "mecab-0.996-ko-0.9.2/src/mecab-test-gen.cpp\n",
      "mecab-0.996-ko-0.9.2/src/tagger.cpp\n",
      "mecab-0.996-ko-0.9.2/src/mecab-cost-train.cpp\n",
      "mecab-0.996-ko-0.9.2/src/learner.cpp\n",
      "mecab-0.996-ko-0.9.2/src/dictionary.cpp\n",
      "mecab-0.996-ko-0.9.2/src/lbfgs.cpp\n",
      "mecab-0.996-ko-0.9.2/src/ucs.h\n",
      "mecab-0.996-ko-0.9.2/src/writer.cpp\n",
      "mecab-0.996-ko-0.9.2/src/learner_tagger.cpp\n",
      "mecab-0.996-ko-0.9.2/src/lbfgs.h\n",
      "mecab-0.996-ko-0.9.2/src/libmecab.cpp\n",
      "mecab-0.996-ko-0.9.2/src/tokenizer.h\n",
      "mecab-0.996-ko-0.9.2/src/mecab.cpp\n",
      "mecab-0.996-ko-0.9.2/src/utils.cpp\n",
      "mecab-0.996-ko-0.9.2/src/dictionary_generator.cpp\n",
      "mecab-0.996-ko-0.9.2/src/param.cpp\n",
      "mecab-0.996-ko-0.9.2/src/context_id.h\n",
      "mecab-0.996-ko-0.9.2/src/mmap.h\n",
      "mecab-0.996-ko-0.9.2/src/viterbi.h\n",
      "mecab-0.996-ko-0.9.2/src/viterbi.cpp\n",
      "mecab-0.996-ko-0.9.2/src/stream_wrapper.h\n",
      "mecab-0.996-ko-0.9.2/src/feature_index.cpp\n",
      "mecab-0.996-ko-0.9.2/src/nbest_generator.h\n",
      "mecab-0.996-ko-0.9.2/src/ucstable.h\n",
      "mecab-0.996-ko-0.9.2/src/nbest_generator.cpp\n",
      "mecab-0.996-ko-0.9.2/src/iconv_utils.h\n",
      "mecab-0.996-ko-0.9.2/src/connector.cpp\n",
      "mecab-0.996-ko-0.9.2/src/Makefile.in\n",
      "mecab-0.996-ko-0.9.2/src/scoped_ptr.h\n",
      "mecab-0.996-ko-0.9.2/Makefile.in\n",
      "checking for a BSD-compatible install... /usr/bin/install -c\n",
      "checking whether build environment is sane... yes\n",
      "checking for a thread-safe mkdir -p... /bin/mkdir -p\n",
      "checking for gawk... no\n",
      "checking for mawk... mawk\n",
      "checking whether make sets $(MAKE)... yes\n",
      "checking for gcc... gcc\n",
      "checking whether the C compiler works... yes\n",
      "checking for C compiler default output file name... a.out\n",
      "checking for suffix of executables... \n",
      "checking whether we are cross compiling... no\n",
      "checking for suffix of object files... o\n",
      "checking whether we are using the GNU C compiler... yes\n",
      "checking whether gcc accepts -g... yes\n",
      "checking for gcc option to accept ISO C89... none needed\n",
      "checking for style of include used by make... GNU\n",
      "checking dependency style of gcc... none\n",
      "checking for g++... g++\n",
      "checking whether we are using the GNU C++ compiler... yes\n",
      "checking whether g++ accepts -g... yes\n",
      "checking dependency style of g++... none\n",
      "checking how to run the C preprocessor... gcc -E\n",
      "checking for grep that handles long lines and -e... /bin/grep\n",
      "checking for egrep... /bin/grep -E\n",
      "checking whether gcc needs -traditional... no\n",
      "checking whether make sets $(MAKE)... (cached) yes\n",
      "checking build system type... x86_64-unknown-linux-gnu\n",
      "checking host system type... x86_64-unknown-linux-gnu\n",
      "checking how to print strings... printf\n",
      "checking for a sed that does not truncate output... /bin/sed\n",
      "checking for fgrep... /bin/grep -F\n",
      "checking for ld used by gcc... /usr/bin/ld\n",
      "checking if the linker (/usr/bin/ld) is GNU ld... yes\n",
      "checking for BSD- or MS-compatible name lister (nm)... /usr/bin/nm -B\n",
      "checking the name lister (/usr/bin/nm -B) interface... BSD nm\n",
      "checking whether ln -s works... yes\n",
      "checking the maximum length of command line arguments... 1572864\n",
      "checking whether the shell understands some XSI constructs... yes\n",
      "checking whether the shell understands \"+=\"... yes\n",
      "checking how to convert x86_64-unknown-linux-gnu file names to x86_64-unknown-linux-gnu format... func_convert_file_noop\n",
      "checking how to convert x86_64-unknown-linux-gnu file names to toolchain format... func_convert_file_noop\n",
      "checking for /usr/bin/ld option to reload object files... -r\n",
      "checking for objdump... objdump\n",
      "checking how to recognize dependent libraries... pass_all\n",
      "checking for dlltool... dlltool\n",
      "checking how to associate runtime and link libraries... printf %s\\n\n",
      "checking for ar... ar\n",
      "checking for archiver @FILE support... @\n",
      "checking for strip... strip\n",
      "checking for ranlib... ranlib\n",
      "checking command to parse /usr/bin/nm -B output from gcc object... ok\n",
      "checking for sysroot... no\n",
      "checking for mt... no\n",
      "checking if : is a manifest tool... no\n",
      "checking for ANSI C header files... yes\n",
      "checking for sys/types.h... yes\n",
      "checking for sys/stat.h... yes\n",
      "checking for stdlib.h... yes\n",
      "checking for string.h... yes\n",
      "checking for memory.h... yes\n",
      "checking for strings.h... yes\n",
      "checking for inttypes.h... yes\n",
      "checking for stdint.h... yes\n",
      "checking for unistd.h... yes\n",
      "checking for dlfcn.h... yes\n",
      "checking for objdir... .libs\n",
      "checking if gcc supports -fno-rtti -fno-exceptions... no\n",
      "checking for gcc option to produce PIC... -fPIC -DPIC\n",
      "checking if gcc PIC flag -fPIC -DPIC works... yes\n",
      "checking if gcc static flag -static works... yes\n",
      "checking if gcc supports -c -o file.o... yes\n",
      "checking if gcc supports -c -o file.o... (cached) yes\n",
      "checking whether the gcc linker (/usr/bin/ld) supports shared libraries... yes\n",
      "checking whether -lc should be explicitly linked in... no\n",
      "checking dynamic linker characteristics... GNU/Linux ld.so\n",
      "checking how to hardcode library paths into programs... immediate\n",
      "checking whether stripping libraries is possible... yes\n",
      "checking if libtool supports shared libraries... yes\n",
      "checking whether to build shared libraries... yes\n",
      "checking whether to build static libraries... yes\n",
      "checking how to run the C++ preprocessor... g++ -E\n",
      "checking for ld used by g++... /usr/bin/ld\n",
      "checking if the linker (/usr/bin/ld) is GNU ld... yes\n",
      "checking whether the g++ linker (/usr/bin/ld) supports shared libraries... yes\n",
      "checking for g++ option to produce PIC... -fPIC -DPIC\n",
      "checking if g++ PIC flag -fPIC -DPIC works... yes\n",
      "checking if g++ static flag -static works... yes\n",
      "checking if g++ supports -c -o file.o... yes\n",
      "checking if g++ supports -c -o file.o... (cached) yes\n",
      "checking whether the g++ linker (/usr/bin/ld) supports shared libraries... yes\n",
      "checking dynamic linker characteristics... (cached) GNU/Linux ld.so\n",
      "checking how to hardcode library paths into programs... immediate\n",
      "checking for library containing strerror... none required\n",
      "checking whether byte ordering is bigendian... no\n",
      "checking for ld used by GCC... /usr/bin/ld\n",
      "checking if the linker (/usr/bin/ld) is GNU ld... yes\n",
      "checking for shared library run path origin... done\n",
      "checking for iconv... yes\n",
      "checking for working iconv... yes\n",
      "checking for iconv declaration... \n",
      "         extern size_t iconv (iconv_t cd, char * *inbuf, size_t *inbytesleft, char * *outbuf, size_t *outbytesleft);\n",
      "checking for ANSI C header files... (cached) yes\n",
      "checking for an ANSI C-conforming const... yes\n",
      "checking whether byte ordering is bigendian... (cached) no\n",
      "checking for string.h... (cached) yes\n",
      "checking for stdlib.h... (cached) yes\n",
      "checking for unistd.h... (cached) yes\n",
      "checking fcntl.h usability... yes\n",
      "checking fcntl.h presence... yes\n",
      "checking for fcntl.h... yes\n",
      "checking for stdint.h... (cached) yes\n",
      "checking for sys/stat.h... (cached) yes\n",
      "checking sys/mman.h usability... yes\n",
      "checking sys/mman.h presence... yes\n",
      "checking for sys/mman.h... yes\n",
      "checking sys/times.h usability... yes\n",
      "checking sys/times.h presence... yes\n",
      "checking for sys/times.h... yes\n",
      "checking for sys/types.h... (cached) yes\n",
      "checking dirent.h usability... yes\n",
      "checking dirent.h presence... yes\n",
      "checking for dirent.h... yes\n",
      "checking ctype.h usability... yes\n",
      "checking ctype.h presence... yes\n",
      "checking for ctype.h... yes\n",
      "checking for sys/types.h... (cached) yes\n",
      "checking io.h usability... no\n",
      "checking io.h presence... no\n",
      "checking for io.h... no\n",
      "checking windows.h usability... no\n",
      "checking windows.h presence... no\n",
      "checking for windows.h... no\n",
      "checking pthread.h usability... yes\n",
      "checking pthread.h presence... yes\n",
      "checking for pthread.h... yes\n",
      "checking for off_t... yes\n",
      "checking for size_t... yes\n",
      "checking size of char... 1\n",
      "checking size of short... 2\n",
      "checking size of int... 4\n",
      "checking size of long... 8\n",
      "checking size of long long... 8\n",
      "checking size of size_t... 8\n",
      "checking for size_t... (cached) yes\n",
      "checking for unsigned long long int... yes\n",
      "checking for stdlib.h... (cached) yes\n",
      "checking for unistd.h... (cached) yes\n",
      "checking for sys/param.h... yes\n",
      "checking for getpagesize... yes\n",
      "checking for working mmap... yes\n",
      "checking for main in -lstdc++... yes\n",
      "checking for pthread_create in -lpthread... yes\n",
      "checking for pthread_join in -lpthread... yes\n",
      "checking for getenv... yes\n",
      "checking for opendir... yes\n",
      "checking whether make is GNU Make... yes\n",
      "checking if g++ supports stl <vector> (required)... yes\n",
      "checking if g++ supports stl <list> (required)... yes\n",
      "checking if g++ supports stl <map> (required)... yes\n",
      "checking if g++ supports stl <set> (required)... yes\n",
      "checking if g++ supports stl <queue> (required)... yes\n",
      "checking if g++ supports stl <functional> (required)... yes\n",
      "checking if g++ supports stl <algorithm> (required)... yes\n",
      "checking if g++ supports stl <string> (required)... yes\n",
      "checking if g++ supports stl <iostream> (required)... yes\n",
      "checking if g++ supports stl <sstream> (required)... yes\n",
      "checking if g++ supports stl <fstream> (required)... yes\n",
      "checking if g++ supports template <class T> (required)... yes\n",
      "checking if g++ supports const_cast<> (required)... yes\n",
      "checking if g++ supports static_cast<> (required)... yes\n",
      "checking if g++ supports reinterpret_cast<> (required)... yes\n",
      "checking if g++ supports namespaces (required) ... yes\n",
      "checking if g++ supports __thread (optional)... yes\n",
      "checking if g++ supports template <class T> (required)... yes\n",
      "checking if g++ supports GCC native atomic operations (optional)... yes\n",
      "checking if g++ supports OSX native atomic operations (optional)... no\n",
      "checking if g++ environment provides all required features... yes\n",
      "configure: creating ./config.status\n",
      "config.status: creating Makefile\n",
      "config.status: creating src/Makefile\n",
      "config.status: creating src/Makefile.msvc\n",
      "config.status: creating man/Makefile\n",
      "config.status: creating doc/Makefile\n",
      "config.status: creating tests/Makefile\n",
      "config.status: creating swig/version.h\n",
      "config.status: creating mecab.iss\n",
      "config.status: creating mecab-config\n",
      "config.status: creating mecabrc\n",
      "config.status: creating config.h\n",
      "config.status: executing depfiles commands\n",
      "config.status: executing libtool commands\n",
      "config.status: executing default commands\n",
      "make  all-recursive\n",
      "make[1]: Entering directory '/tmp/mecab-0.996-ko-0.9.2'\n",
      "Making all in src\n",
      "make[2]: Entering directory '/tmp/mecab-0.996-ko-0.9.2/src'\n",
      "/bin/bash ../libtool --tag=CXX   --mode=compile g++ -DHAVE_CONFIG_H -I. -I.. -DDIC_VERSION=102   -DMECAB_DEFAULT_RC=\"\\\"/usr/local/etc/mecabrc\\\"\"    -O3 -Wall  -c -o viterbi.lo viterbi.cpp\n",
      "libtool: compile:  g++ -DHAVE_CONFIG_H -I. -I.. -DDIC_VERSION=102 -DMECAB_DEFAULT_RC=\\\"/usr/local/etc/mecabrc\\\" -O3 -Wall -c viterbi.cpp  -fPIC -DPIC -o .libs/viterbi.o\n",
      "libtool: compile:  g++ -DHAVE_CONFIG_H -I. -I.. -DDIC_VERSION=102 -DMECAB_DEFAULT_RC=\\\"/usr/local/etc/mecabrc\\\" -O3 -Wall -c viterbi.cpp -o viterbi.o >/dev/null 2>&1\n",
      "/bin/bash ../libtool --tag=CXX   --mode=compile g++ -DHAVE_CONFIG_H -I. -I.. -DDIC_VERSION=102   -DMECAB_DEFAULT_RC=\"\\\"/usr/local/etc/mecabrc\\\"\"    -O3 -Wall  -c -o tagger.lo tagger.cpp\n",
      "libtool: compile:  g++ -DHAVE_CONFIG_H -I. -I.. -DDIC_VERSION=102 -DMECAB_DEFAULT_RC=\\\"/usr/local/etc/mecabrc\\\" -O3 -Wall -c tagger.cpp  -fPIC -DPIC -o .libs/tagger.o\n",
      "libtool: compile:  g++ -DHAVE_CONFIG_H -I. -I.. -DDIC_VERSION=102 -DMECAB_DEFAULT_RC=\\\"/usr/local/etc/mecabrc\\\" -O3 -Wall -c tagger.cpp -o tagger.o >/dev/null 2>&1\n",
      "/bin/bash ../libtool --tag=CXX   --mode=compile g++ -DHAVE_CONFIG_H -I. -I.. -DDIC_VERSION=102   -DMECAB_DEFAULT_RC=\"\\\"/usr/local/etc/mecabrc\\\"\"    -O3 -Wall  -c -o utils.lo utils.cpp\n",
      "libtool: compile:  g++ -DHAVE_CONFIG_H -I. -I.. -DDIC_VERSION=102 -DMECAB_DEFAULT_RC=\\\"/usr/local/etc/mecabrc\\\" -O3 -Wall -c utils.cpp  -fPIC -DPIC -o .libs/utils.o\n",
      "libtool: compile:  g++ -DHAVE_CONFIG_H -I. -I.. -DDIC_VERSION=102 -DMECAB_DEFAULT_RC=\\\"/usr/local/etc/mecabrc\\\" -O3 -Wall -c utils.cpp -o utils.o >/dev/null 2>&1\n",
      "/bin/bash ../libtool --tag=CXX   --mode=compile g++ -DHAVE_CONFIG_H -I. -I.. -DDIC_VERSION=102   -DMECAB_DEFAULT_RC=\"\\\"/usr/local/etc/mecabrc\\\"\"    -O3 -Wall  -c -o eval.lo eval.cpp\n",
      "libtool: compile:  g++ -DHAVE_CONFIG_H -I. -I.. -DDIC_VERSION=102 -DMECAB_DEFAULT_RC=\\\"/usr/local/etc/mecabrc\\\" -O3 -Wall -c eval.cpp  -fPIC -DPIC -o .libs/eval.o\n",
      "libtool: compile:  g++ -DHAVE_CONFIG_H -I. -I.. -DDIC_VERSION=102 -DMECAB_DEFAULT_RC=\\\"/usr/local/etc/mecabrc\\\" -O3 -Wall -c eval.cpp -o eval.o >/dev/null 2>&1\n",
      "/bin/bash ../libtool --tag=CXX   --mode=compile g++ -DHAVE_CONFIG_H -I. -I.. -DDIC_VERSION=102   -DMECAB_DEFAULT_RC=\"\\\"/usr/local/etc/mecabrc\\\"\"    -O3 -Wall  -c -o iconv_utils.lo iconv_utils.cpp\n",
      "libtool: compile:  g++ -DHAVE_CONFIG_H -I. -I.. -DDIC_VERSION=102 -DMECAB_DEFAULT_RC=\\\"/usr/local/etc/mecabrc\\\" -O3 -Wall -c iconv_utils.cpp  -fPIC -DPIC -o .libs/iconv_utils.o\n",
      "libtool: compile:  g++ -DHAVE_CONFIG_H -I. -I.. -DDIC_VERSION=102 -DMECAB_DEFAULT_RC=\\\"/usr/local/etc/mecabrc\\\" -O3 -Wall -c iconv_utils.cpp -o iconv_utils.o >/dev/null 2>&1\n",
      "/bin/bash ../libtool --tag=CXX   --mode=compile g++ -DHAVE_CONFIG_H -I. -I.. -DDIC_VERSION=102   -DMECAB_DEFAULT_RC=\"\\\"/usr/local/etc/mecabrc\\\"\"    -O3 -Wall  -c -o dictionary_rewriter.lo dictionary_rewriter.cpp\n",
      "libtool: compile:  g++ -DHAVE_CONFIG_H -I. -I.. -DDIC_VERSION=102 -DMECAB_DEFAULT_RC=\\\"/usr/local/etc/mecabrc\\\" -O3 -Wall -c dictionary_rewriter.cpp  -fPIC -DPIC -o .libs/dictionary_rewriter.o\n",
      "libtool: compile:  g++ -DHAVE_CONFIG_H -I. -I.. -DDIC_VERSION=102 -DMECAB_DEFAULT_RC=\\\"/usr/local/etc/mecabrc\\\" -O3 -Wall -c dictionary_rewriter.cpp -o dictionary_rewriter.o >/dev/null 2>&1\n",
      "/bin/bash ../libtool --tag=CXX   --mode=compile g++ -DHAVE_CONFIG_H -I. -I.. -DDIC_VERSION=102   -DMECAB_DEFAULT_RC=\"\\\"/usr/local/etc/mecabrc\\\"\"    -O3 -Wall  -c -o dictionary_generator.lo dictionary_generator.cpp\n",
      "libtool: compile:  g++ -DHAVE_CONFIG_H -I. -I.. -DDIC_VERSION=102 -DMECAB_DEFAULT_RC=\\\"/usr/local/etc/mecabrc\\\" -O3 -Wall -c dictionary_generator.cpp  -fPIC -DPIC -o .libs/dictionary_generator.o\n",
      "libtool: compile:  g++ -DHAVE_CONFIG_H -I. -I.. -DDIC_VERSION=102 -DMECAB_DEFAULT_RC=\\\"/usr/local/etc/mecabrc\\\" -O3 -Wall -c dictionary_generator.cpp -o dictionary_generator.o >/dev/null 2>&1\n",
      "/bin/bash ../libtool --tag=CXX   --mode=compile g++ -DHAVE_CONFIG_H -I. -I.. -DDIC_VERSION=102   -DMECAB_DEFAULT_RC=\"\\\"/usr/local/etc/mecabrc\\\"\"    -O3 -Wall  -c -o dictionary_compiler.lo dictionary_compiler.cpp\n",
      "libtool: compile:  g++ -DHAVE_CONFIG_H -I. -I.. -DDIC_VERSION=102 -DMECAB_DEFAULT_RC=\\\"/usr/local/etc/mecabrc\\\" -O3 -Wall -c dictionary_compiler.cpp  -fPIC -DPIC -o .libs/dictionary_compiler.o\n",
      "libtool: compile:  g++ -DHAVE_CONFIG_H -I. -I.. -DDIC_VERSION=102 -DMECAB_DEFAULT_RC=\\\"/usr/local/etc/mecabrc\\\" -O3 -Wall -c dictionary_compiler.cpp -o dictionary_compiler.o >/dev/null 2>&1\n",
      "/bin/bash ../libtool --tag=CXX   --mode=compile g++ -DHAVE_CONFIG_H -I. -I.. -DDIC_VERSION=102   -DMECAB_DEFAULT_RC=\"\\\"/usr/local/etc/mecabrc\\\"\"    -O3 -Wall  -c -o context_id.lo context_id.cpp\n",
      "libtool: compile:  g++ -DHAVE_CONFIG_H -I. -I.. -DDIC_VERSION=102 -DMECAB_DEFAULT_RC=\\\"/usr/local/etc/mecabrc\\\" -O3 -Wall -c context_id.cpp  -fPIC -DPIC -o .libs/context_id.o\n",
      "libtool: compile:  g++ -DHAVE_CONFIG_H -I. -I.. -DDIC_VERSION=102 -DMECAB_DEFAULT_RC=\\\"/usr/local/etc/mecabrc\\\" -O3 -Wall -c context_id.cpp -o context_id.o >/dev/null 2>&1\n",
      "/bin/bash ../libtool --tag=CXX   --mode=compile g++ -DHAVE_CONFIG_H -I. -I.. -DDIC_VERSION=102   -DMECAB_DEFAULT_RC=\"\\\"/usr/local/etc/mecabrc\\\"\"    -O3 -Wall  -c -o connector.lo connector.cpp\n",
      "libtool: compile:  g++ -DHAVE_CONFIG_H -I. -I.. -DDIC_VERSION=102 -DMECAB_DEFAULT_RC=\\\"/usr/local/etc/mecabrc\\\" -O3 -Wall -c connector.cpp  -fPIC -DPIC -o .libs/connector.o\n",
      "libtool: compile:  g++ -DHAVE_CONFIG_H -I. -I.. -DDIC_VERSION=102 -DMECAB_DEFAULT_RC=\\\"/usr/local/etc/mecabrc\\\" -O3 -Wall -c connector.cpp -o connector.o >/dev/null 2>&1\n",
      "/bin/bash ../libtool --tag=CXX   --mode=compile g++ -DHAVE_CONFIG_H -I. -I.. -DDIC_VERSION=102   -DMECAB_DEFAULT_RC=\"\\\"/usr/local/etc/mecabrc\\\"\"    -O3 -Wall  -c -o nbest_generator.lo nbest_generator.cpp\n",
      "libtool: compile:  g++ -DHAVE_CONFIG_H -I. -I.. -DDIC_VERSION=102 -DMECAB_DEFAULT_RC=\\\"/usr/local/etc/mecabrc\\\" -O3 -Wall -c nbest_generator.cpp  -fPIC -DPIC -o .libs/nbest_generator.o\n",
      "libtool: compile:  g++ -DHAVE_CONFIG_H -I. -I.. -DDIC_VERSION=102 -DMECAB_DEFAULT_RC=\\\"/usr/local/etc/mecabrc\\\" -O3 -Wall -c nbest_generator.cpp -o nbest_generator.o >/dev/null 2>&1\n",
      "/bin/bash ../libtool --tag=CXX   --mode=compile g++ -DHAVE_CONFIG_H -I. -I.. -DDIC_VERSION=102   -DMECAB_DEFAULT_RC=\"\\\"/usr/local/etc/mecabrc\\\"\"    -O3 -Wall  -c -o writer.lo writer.cpp\n",
      "libtool: compile:  g++ -DHAVE_CONFIG_H -I. -I.. -DDIC_VERSION=102 -DMECAB_DEFAULT_RC=\\\"/usr/local/etc/mecabrc\\\" -O3 -Wall -c writer.cpp  -fPIC -DPIC -o .libs/writer.o\n",
      "libtool: compile:  g++ -DHAVE_CONFIG_H -I. -I.. -DDIC_VERSION=102 -DMECAB_DEFAULT_RC=\\\"/usr/local/etc/mecabrc\\\" -O3 -Wall -c writer.cpp -o writer.o >/dev/null 2>&1\n",
      "/bin/bash ../libtool --tag=CXX   --mode=compile g++ -DHAVE_CONFIG_H -I. -I.. -DDIC_VERSION=102   -DMECAB_DEFAULT_RC=\"\\\"/usr/local/etc/mecabrc\\\"\"    -O3 -Wall  -c -o string_buffer.lo string_buffer.cpp\n",
      "libtool: compile:  g++ -DHAVE_CONFIG_H -I. -I.. -DDIC_VERSION=102 -DMECAB_DEFAULT_RC=\\\"/usr/local/etc/mecabrc\\\" -O3 -Wall -c string_buffer.cpp  -fPIC -DPIC -o .libs/string_buffer.o\n",
      "libtool: compile:  g++ -DHAVE_CONFIG_H -I. -I.. -DDIC_VERSION=102 -DMECAB_DEFAULT_RC=\\\"/usr/local/etc/mecabrc\\\" -O3 -Wall -c string_buffer.cpp -o string_buffer.o >/dev/null 2>&1\n",
      "/bin/bash ../libtool --tag=CXX   --mode=compile g++ -DHAVE_CONFIG_H -I. -I.. -DDIC_VERSION=102   -DMECAB_DEFAULT_RC=\"\\\"/usr/local/etc/mecabrc\\\"\"    -O3 -Wall  -c -o param.lo param.cpp\n",
      "libtool: compile:  g++ -DHAVE_CONFIG_H -I. -I.. -DDIC_VERSION=102 -DMECAB_DEFAULT_RC=\\\"/usr/local/etc/mecabrc\\\" -O3 -Wall -c param.cpp  -fPIC -DPIC -o .libs/param.o\n",
      "libtool: compile:  g++ -DHAVE_CONFIG_H -I. -I.. -DDIC_VERSION=102 -DMECAB_DEFAULT_RC=\\\"/usr/local/etc/mecabrc\\\" -O3 -Wall -c param.cpp -o param.o >/dev/null 2>&1\n",
      "/bin/bash ../libtool --tag=CXX   --mode=compile g++ -DHAVE_CONFIG_H -I. -I.. -DDIC_VERSION=102   -DMECAB_DEFAULT_RC=\"\\\"/usr/local/etc/mecabrc\\\"\"    -O3 -Wall  -c -o tokenizer.lo tokenizer.cpp\n",
      "libtool: compile:  g++ -DHAVE_CONFIG_H -I. -I.. -DDIC_VERSION=102 -DMECAB_DEFAULT_RC=\\\"/usr/local/etc/mecabrc\\\" -O3 -Wall -c tokenizer.cpp  -fPIC -DPIC -o .libs/tokenizer.o\n",
      "libtool: compile:  g++ -DHAVE_CONFIG_H -I. -I.. -DDIC_VERSION=102 -DMECAB_DEFAULT_RC=\\\"/usr/local/etc/mecabrc\\\" -O3 -Wall -c tokenizer.cpp -o tokenizer.o >/dev/null 2>&1\n",
      "/bin/bash ../libtool --tag=CXX   --mode=compile g++ -DHAVE_CONFIG_H -I. -I.. -DDIC_VERSION=102   -DMECAB_DEFAULT_RC=\"\\\"/usr/local/etc/mecabrc\\\"\"    -O3 -Wall  -c -o char_property.lo char_property.cpp\n",
      "libtool: compile:  g++ -DHAVE_CONFIG_H -I. -I.. -DDIC_VERSION=102 -DMECAB_DEFAULT_RC=\\\"/usr/local/etc/mecabrc\\\" -O3 -Wall -c char_property.cpp  -fPIC -DPIC -o .libs/char_property.o\n",
      "libtool: compile:  g++ -DHAVE_CONFIG_H -I. -I.. -DDIC_VERSION=102 -DMECAB_DEFAULT_RC=\\\"/usr/local/etc/mecabrc\\\" -O3 -Wall -c char_property.cpp -o char_property.o >/dev/null 2>&1\n",
      "/bin/bash ../libtool --tag=CXX   --mode=compile g++ -DHAVE_CONFIG_H -I. -I.. -DDIC_VERSION=102   -DMECAB_DEFAULT_RC=\"\\\"/usr/local/etc/mecabrc\\\"\"    -O3 -Wall  -c -o dictionary.lo dictionary.cpp\n",
      "libtool: compile:  g++ -DHAVE_CONFIG_H -I. -I.. -DDIC_VERSION=102 -DMECAB_DEFAULT_RC=\\\"/usr/local/etc/mecabrc\\\" -O3 -Wall -c dictionary.cpp  -fPIC -DPIC -o .libs/dictionary.o\n",
      "libtool: compile:  g++ -DHAVE_CONFIG_H -I. -I.. -DDIC_VERSION=102 -DMECAB_DEFAULT_RC=\\\"/usr/local/etc/mecabrc\\\" -O3 -Wall -c dictionary.cpp -o dictionary.o >/dev/null 2>&1\n",
      "/bin/bash ../libtool --tag=CXX   --mode=compile g++ -DHAVE_CONFIG_H -I. -I.. -DDIC_VERSION=102   -DMECAB_DEFAULT_RC=\"\\\"/usr/local/etc/mecabrc\\\"\"    -O3 -Wall  -c -o feature_index.lo feature_index.cpp\n",
      "libtool: compile:  g++ -DHAVE_CONFIG_H -I. -I.. -DDIC_VERSION=102 -DMECAB_DEFAULT_RC=\\\"/usr/local/etc/mecabrc\\\" -O3 -Wall -c feature_index.cpp  -fPIC -DPIC -o .libs/feature_index.o\n",
      "libtool: compile:  g++ -DHAVE_CONFIG_H -I. -I.. -DDIC_VERSION=102 -DMECAB_DEFAULT_RC=\\\"/usr/local/etc/mecabrc\\\" -O3 -Wall -c feature_index.cpp -o feature_index.o >/dev/null 2>&1\n",
      "/bin/bash ../libtool --tag=CXX   --mode=compile g++ -DHAVE_CONFIG_H -I. -I.. -DDIC_VERSION=102   -DMECAB_DEFAULT_RC=\"\\\"/usr/local/etc/mecabrc\\\"\"    -O3 -Wall  -c -o lbfgs.lo lbfgs.cpp\n",
      "libtool: compile:  g++ -DHAVE_CONFIG_H -I. -I.. -DDIC_VERSION=102 -DMECAB_DEFAULT_RC=\\\"/usr/local/etc/mecabrc\\\" -O3 -Wall -c lbfgs.cpp  -fPIC -DPIC -o .libs/lbfgs.o\n",
      "libtool: compile:  g++ -DHAVE_CONFIG_H -I. -I.. -DDIC_VERSION=102 -DMECAB_DEFAULT_RC=\\\"/usr/local/etc/mecabrc\\\" -O3 -Wall -c lbfgs.cpp -o lbfgs.o >/dev/null 2>&1\n",
      "/bin/bash ../libtool --tag=CXX   --mode=compile g++ -DHAVE_CONFIG_H -I. -I.. -DDIC_VERSION=102   -DMECAB_DEFAULT_RC=\"\\\"/usr/local/etc/mecabrc\\\"\"    -O3 -Wall  -c -o learner_tagger.lo learner_tagger.cpp\n",
      "libtool: compile:  g++ -DHAVE_CONFIG_H -I. -I.. -DDIC_VERSION=102 -DMECAB_DEFAULT_RC=\\\"/usr/local/etc/mecabrc\\\" -O3 -Wall -c learner_tagger.cpp  -fPIC -DPIC -o .libs/learner_tagger.o\n",
      "libtool: compile:  g++ -DHAVE_CONFIG_H -I. -I.. -DDIC_VERSION=102 -DMECAB_DEFAULT_RC=\\\"/usr/local/etc/mecabrc\\\" -O3 -Wall -c learner_tagger.cpp -o learner_tagger.o >/dev/null 2>&1\n",
      "/bin/bash ../libtool --tag=CXX   --mode=compile g++ -DHAVE_CONFIG_H -I. -I.. -DDIC_VERSION=102   -DMECAB_DEFAULT_RC=\"\\\"/usr/local/etc/mecabrc\\\"\"    -O3 -Wall  -c -o learner.lo learner.cpp\n",
      "libtool: compile:  g++ -DHAVE_CONFIG_H -I. -I.. -DDIC_VERSION=102 -DMECAB_DEFAULT_RC=\\\"/usr/local/etc/mecabrc\\\" -O3 -Wall -c learner.cpp  -fPIC -DPIC -o .libs/learner.o\n",
      "libtool: compile:  g++ -DHAVE_CONFIG_H -I. -I.. -DDIC_VERSION=102 -DMECAB_DEFAULT_RC=\\\"/usr/local/etc/mecabrc\\\" -O3 -Wall -c learner.cpp -o learner.o >/dev/null 2>&1\n",
      "/bin/bash ../libtool --tag=CXX   --mode=compile g++ -DHAVE_CONFIG_H -I. -I.. -DDIC_VERSION=102   -DMECAB_DEFAULT_RC=\"\\\"/usr/local/etc/mecabrc\\\"\"    -O3 -Wall  -c -o libmecab.lo libmecab.cpp\n",
      "libtool: compile:  g++ -DHAVE_CONFIG_H -I. -I.. -DDIC_VERSION=102 -DMECAB_DEFAULT_RC=\\\"/usr/local/etc/mecabrc\\\" -O3 -Wall -c libmecab.cpp  -fPIC -DPIC -o .libs/libmecab.o\n",
      "libtool: compile:  g++ -DHAVE_CONFIG_H -I. -I.. -DDIC_VERSION=102 -DMECAB_DEFAULT_RC=\\\"/usr/local/etc/mecabrc\\\" -O3 -Wall -c libmecab.cpp -o libmecab.o >/dev/null 2>&1\n",
      "/bin/bash ../libtool --tag=CXX   --mode=link g++  -O3 -Wall  -no-undefined -version-info 2:0:0  -o libmecab.la -rpath /usr/local/lib viterbi.lo tagger.lo utils.lo eval.lo iconv_utils.lo dictionary_rewriter.lo dictionary_generator.lo dictionary_compiler.lo context_id.lo connector.lo nbest_generator.lo writer.lo string_buffer.lo param.lo tokenizer.lo char_property.lo dictionary.lo feature_index.lo lbfgs.lo learner_tagger.lo learner.lo libmecab.lo  -lpthread -lpthread  -lstdc++ \n",
      "libtool: link: g++  -fPIC -DPIC -shared -nostdlib /usr/lib/gcc/x86_64-linux-gnu/7/../../../x86_64-linux-gnu/crti.o /usr/lib/gcc/x86_64-linux-gnu/7/crtbeginS.o  .libs/viterbi.o .libs/tagger.o .libs/utils.o .libs/eval.o .libs/iconv_utils.o .libs/dictionary_rewriter.o .libs/dictionary_generator.o .libs/dictionary_compiler.o .libs/context_id.o .libs/connector.o .libs/nbest_generator.o .libs/writer.o .libs/string_buffer.o .libs/param.o .libs/tokenizer.o .libs/char_property.o .libs/dictionary.o .libs/feature_index.o .libs/lbfgs.o .libs/learner_tagger.o .libs/learner.o .libs/libmecab.o   -lpthread -L/usr/lib/gcc/x86_64-linux-gnu/7 -L/usr/lib/gcc/x86_64-linux-gnu/7/../../../x86_64-linux-gnu -L/usr/lib/gcc/x86_64-linux-gnu/7/../../../../lib -L/lib/x86_64-linux-gnu -L/lib/../lib -L/usr/lib/x86_64-linux-gnu -L/usr/lib/../lib -L/usr/local/cuda/lib64/stubs -L/usr/lib/gcc/x86_64-linux-gnu/7/../../.. -lstdc++ -lm -lc -lgcc_s /usr/lib/gcc/x86_64-linux-gnu/7/crtendS.o /usr/lib/gcc/x86_64-linux-gnu/7/../../../x86_64-linux-gnu/crtn.o  -O3   -Wl,-soname -Wl,libmecab.so.2 -o .libs/libmecab.so.2.0.0\n",
      "libtool: link: (cd \".libs\" && rm -f \"libmecab.so.2\" && ln -s \"libmecab.so.2.0.0\" \"libmecab.so.2\")\n",
      "libtool: link: (cd \".libs\" && rm -f \"libmecab.so\" && ln -s \"libmecab.so.2.0.0\" \"libmecab.so\")\n",
      "libtool: link: ar cru .libs/libmecab.a  viterbi.o tagger.o utils.o eval.o iconv_utils.o dictionary_rewriter.o dictionary_generator.o dictionary_compiler.o context_id.o connector.o nbest_generator.o writer.o string_buffer.o param.o tokenizer.o char_property.o dictionary.o feature_index.o lbfgs.o learner_tagger.o learner.o libmecab.o\n",
      "libtool: link: ranlib .libs/libmecab.a\n",
      "libtool: link: ( cd \".libs\" && rm -f \"libmecab.la\" && ln -s \"../libmecab.la\" \"libmecab.la\" )\n",
      "g++ -DHAVE_CONFIG_H -I. -I.. -DDIC_VERSION=102   -DMECAB_DEFAULT_RC=\"\\\"/usr/local/etc/mecabrc\\\"\"    -O3 -Wall  -c -o mecab.o mecab.cpp\n",
      "/bin/bash ../libtool --tag=CXX   --mode=link g++  -O3 -Wall    -o mecab mecab.o libmecab.la -lpthread -lpthread  -lstdc++ \n",
      "libtool: link: g++ -O3 -Wall -o .libs/mecab mecab.o  ./.libs/libmecab.so -lpthread -lstdc++\n",
      "g++ -DHAVE_CONFIG_H -I. -I.. -DDIC_VERSION=102   -DMECAB_DEFAULT_RC=\"\\\"/usr/local/etc/mecabrc\\\"\"    -O3 -Wall  -c -o mecab-dict-index.o mecab-dict-index.cpp\n",
      "/bin/bash ../libtool --tag=CXX   --mode=link g++  -O3 -Wall    -o mecab-dict-index mecab-dict-index.o libmecab.la -lpthread -lpthread  -lstdc++ \n",
      "libtool: link: g++ -O3 -Wall -o .libs/mecab-dict-index mecab-dict-index.o  ./.libs/libmecab.so -lpthread -lstdc++\n",
      "g++ -DHAVE_CONFIG_H -I. -I.. -DDIC_VERSION=102   -DMECAB_DEFAULT_RC=\"\\\"/usr/local/etc/mecabrc\\\"\"    -O3 -Wall  -c -o mecab-dict-gen.o mecab-dict-gen.cpp\n",
      "/bin/bash ../libtool --tag=CXX   --mode=link g++  -O3 -Wall    -o mecab-dict-gen mecab-dict-gen.o libmecab.la -lpthread -lpthread  -lstdc++ \n",
      "libtool: link: g++ -O3 -Wall -o .libs/mecab-dict-gen mecab-dict-gen.o  ./.libs/libmecab.so -lpthread -lstdc++\n",
      "g++ -DHAVE_CONFIG_H -I. -I.. -DDIC_VERSION=102   -DMECAB_DEFAULT_RC=\"\\\"/usr/local/etc/mecabrc\\\"\"    -O3 -Wall  -c -o mecab-cost-train.o mecab-cost-train.cpp\n",
      "/bin/bash ../libtool --tag=CXX   --mode=link g++  -O3 -Wall    -o mecab-cost-train mecab-cost-train.o libmecab.la -lpthread -lpthread  -lstdc++ \n",
      "libtool: link: g++ -O3 -Wall -o .libs/mecab-cost-train mecab-cost-train.o  ./.libs/libmecab.so -lpthread -lstdc++\n",
      "g++ -DHAVE_CONFIG_H -I. -I.. -DDIC_VERSION=102   -DMECAB_DEFAULT_RC=\"\\\"/usr/local/etc/mecabrc\\\"\"    -O3 -Wall  -c -o mecab-system-eval.o mecab-system-eval.cpp\n",
      "/bin/bash ../libtool --tag=CXX   --mode=link g++  -O3 -Wall    -o mecab-system-eval mecab-system-eval.o libmecab.la -lpthread -lpthread  -lstdc++ \n",
      "libtool: link: g++ -O3 -Wall -o .libs/mecab-system-eval mecab-system-eval.o  ./.libs/libmecab.so -lpthread -lstdc++\n",
      "g++ -DHAVE_CONFIG_H -I. -I.. -DDIC_VERSION=102   -DMECAB_DEFAULT_RC=\"\\\"/usr/local/etc/mecabrc\\\"\"    -O3 -Wall  -c -o mecab-test-gen.o mecab-test-gen.cpp\n",
      "/bin/bash ../libtool --tag=CXX   --mode=link g++  -O3 -Wall    -o mecab-test-gen mecab-test-gen.o libmecab.la -lpthread -lpthread  -lstdc++ \n",
      "libtool: link: g++ -O3 -Wall -o .libs/mecab-test-gen mecab-test-gen.o  ./.libs/libmecab.so -lpthread -lstdc++\n",
      "make[2]: Leaving directory '/tmp/mecab-0.996-ko-0.9.2/src'\n",
      "Making all in man\n",
      "make[2]: Entering directory '/tmp/mecab-0.996-ko-0.9.2/man'\n",
      "make[2]: Nothing to be done for 'all'.\n",
      "make[2]: Leaving directory '/tmp/mecab-0.996-ko-0.9.2/man'\n",
      "Making all in doc\n",
      "make[2]: Entering directory '/tmp/mecab-0.996-ko-0.9.2/doc'\n",
      "make[2]: Nothing to be done for 'all'.\n",
      "make[2]: Leaving directory '/tmp/mecab-0.996-ko-0.9.2/doc'\n",
      "Making all in tests\n",
      "make[2]: Entering directory '/tmp/mecab-0.996-ko-0.9.2/tests'\n",
      "make[2]: Nothing to be done for 'all'.\n",
      "make[2]: Leaving directory '/tmp/mecab-0.996-ko-0.9.2/tests'\n",
      "make[2]: Entering directory '/tmp/mecab-0.996-ko-0.9.2'\n",
      "make[2]: Leaving directory '/tmp/mecab-0.996-ko-0.9.2'\n",
      "make[1]: Leaving directory '/tmp/mecab-0.996-ko-0.9.2'\n",
      "Making check in src\n",
      "make[1]: Entering directory '/tmp/mecab-0.996-ko-0.9.2/src'\n",
      "make[1]: Nothing to be done for 'check'.\n",
      "make[1]: Leaving directory '/tmp/mecab-0.996-ko-0.9.2/src'\n",
      "Making check in man\n",
      "make[1]: Entering directory '/tmp/mecab-0.996-ko-0.9.2/man'\n",
      "make[1]: Nothing to be done for 'check'.\n",
      "make[1]: Leaving directory '/tmp/mecab-0.996-ko-0.9.2/man'\n",
      "Making check in doc\n",
      "make[1]: Entering directory '/tmp/mecab-0.996-ko-0.9.2/doc'\n",
      "make[1]: Nothing to be done for 'check'.\n",
      "make[1]: Leaving directory '/tmp/mecab-0.996-ko-0.9.2/doc'\n",
      "Making check in tests\n",
      "make[1]: Entering directory '/tmp/mecab-0.996-ko-0.9.2/tests'\n",
      "make  check-TESTS\n",
      "make[2]: Entering directory '/tmp/mecab-0.996-ko-0.9.2/tests'\n",
      "reading ./unk.def ... 2\n",
      "emitting double-array:  50% |#####################                      | \remitting double-array: 100% |###########################################| \n",
      "./model.def is not found. skipped.\n",
      "reading ./dic.csv ... 177\n",
      "emitting double-array:   1% |                                           | \remitting double-array:   3% |#                                          | \remitting double-array:   5% |##                                         | \remitting double-array:   7% |###                                        | \remitting double-array:   9% |###                                        | \remitting double-array:  11% |####                                       | \remitting double-array:  12% |#####                                      | \remitting double-array:  14% |######                                     | \remitting double-array:  16% |#######                                    | \remitting double-array:  18% |#######                                    | \remitting double-array:  20% |########                                   | \remitting double-array:  22% |#########                                  | \remitting double-array:  24% |##########                                 | \remitting double-array:  25% |###########                                | \remitting double-array:  27% |###########                                | \remitting double-array:  29% |############                               | \remitting double-array:  31% |#############                              | \remitting double-array:  33% |##############                             | \remitting double-array:  35% |###############                            | \remitting double-array:  37% |###############                            | \remitting double-array:  38% |################                           | \remitting double-array:  40% |#################                          | \remitting double-array:  42% |##################                         | \remitting double-array:  44% |###################                        | \remitting double-array:  46% |###################                        | \remitting double-array:  48% |####################                       | \remitting double-array:  50% |#####################                      | \remitting double-array:  51% |######################                     | \remitting double-array:  53% |#######################                    | \remitting double-array:  55% |#######################                    | \remitting double-array:  57% |########################                   | \remitting double-array:  59% |#########################                  | \remitting double-array:  61% |##########################                 | \remitting double-array:  62% |###########################                | \remitting double-array:  64% |###########################                | \remitting double-array:  66% |############################               | \remitting double-array:  68% |#############################              | \remitting double-array:  70% |##############################             | \remitting double-array:  72% |###############################            | \remitting double-array:  74% |###############################            | \remitting double-array:  75% |################################           | \remitting double-array:  77% |#################################          | \remitting double-array:  79% |##################################         | \remitting double-array:  81% |###################################        | \remitting double-array:  83% |###################################        | \remitting double-array:  85% |####################################       | \remitting double-array:  87% |#####################################      | \remitting double-array:  88% |######################################     | \remitting double-array:  90% |#######################################    | \remitting double-array:  92% |#######################################    | \remitting double-array:  94% |########################################   | \remitting double-array:  96% |#########################################  | \remitting double-array:  98% |########################################## | \remitting double-array: 100% |###########################################| \n",
      "reading ./matrix.def ... 178x178\n",
      "emitting matrix      :   0% |                                           | \remitting matrix      :   1% |                                           | \remitting matrix      :   2% |                                           | \remitting matrix      :   3% |#                                          | \remitting matrix      :   4% |#                                          | \remitting matrix      :   5% |##                                         | \remitting matrix      :   6% |##                                         | \remitting matrix      :   7% |###                                        | \remitting matrix      :   8% |###                                        | \remitting matrix      :   9% |####                                       | \remitting matrix      :  10% |####                                       | \remitting matrix      :  11% |####                                       | \remitting matrix      :  12% |#####                                      | \remitting matrix      :  13% |#####                                      | \remitting matrix      :  14% |######                                     | \remitting matrix      :  15% |######                                     | \remitting matrix      :  16% |#######                                    | \remitting matrix      :  17% |#######                                    | \remitting matrix      :  18% |#######                                    | \remitting matrix      :  19% |########                                   | \remitting matrix      :  20% |########                                   | \remitting matrix      :  21% |#########                                  | \remitting matrix      :  22% |#########                                  | \remitting matrix      :  23% |#########                                  | \remitting matrix      :  24% |##########                                 | \remitting matrix      :  25% |##########                                 | \remitting matrix      :  26% |###########                                | \remitting matrix      :  27% |###########                                | \remitting matrix      :  28% |############                               | \remitting matrix      :  29% |############                               | \remitting matrix      :  30% |#############                              | \remitting matrix      :  31% |#############                              | \remitting matrix      :  32% |#############                              | \remitting matrix      :  33% |##############                             | \remitting matrix      :  34% |##############                             | \remitting matrix      :  35% |###############                            | \remitting matrix      :  36% |###############                            | \remitting matrix      :  37% |###############                            | \remitting matrix      :  38% |################                           | \remitting matrix      :  39% |################                           | \remitting matrix      :  40% |#################                          | \remitting matrix      :  41% |#################                          | \remitting matrix      :  42% |##################                         | \remitting matrix      :  43% |##################                         | \remitting matrix      :  44% |###################                        | \remitting matrix      :  45% |###################                        | \remitting matrix      :  46% |###################                        | \remitting matrix      :  47% |####################                       | \remitting matrix      :  48% |####################                       | \remitting matrix      :  49% |#####################                      | \remitting matrix      :  50% |#####################                      | \remitting matrix      :  51% |#####################                      | \remitting matrix      :  52% |######################                     | \remitting matrix      :  53% |######################                     | \remitting matrix      :  54% |#######################                    | \remitting matrix      :  55% |#######################                    | \remitting matrix      :  56% |########################                   | \remitting matrix      :  57% |########################                   | \remitting matrix      :  58% |#########################                  | \remitting matrix      :  59% |#########################                  | \remitting matrix      :  60% |#########################                  | \remitting matrix      :  61% |##########################                 | \remitting matrix      :  62% |##########################                 | \remitting matrix      :  63% |###########################                | \remitting matrix      :  64% |###########################                | \remitting matrix      :  65% |############################               | \remitting matrix      :  66% |############################               | \remitting matrix      :  67% |############################               | \remitting matrix      :  68% |#############################              | \remitting matrix      :  69% |#############################              | \remitting matrix      :  70% |##############################             | \remitting matrix      :  71% |##############################             | \remitting matrix      :  72% |###############################            | \remitting matrix      :  73% |###############################            | \remitting matrix      :  74% |###############################            | \remitting matrix      :  75% |################################           | \remitting matrix      :  76% |################################           | \remitting matrix      :  77% |#################################          | \remitting matrix      :  78% |#################################          | \remitting matrix      :  79% |##################################         | \remitting matrix      :  80% |##################################         | \remitting matrix      :  81% |###################################        | \remitting matrix      :  82% |###################################        | \remitting matrix      :  83% |###################################        | \remitting matrix      :  84% |####################################       | \remitting matrix      :  85% |####################################       | \remitting matrix      :  86% |#####################################      | \remitting matrix      :  87% |#####################################      | \remitting matrix      :  88% |#####################################      | \remitting matrix      :  89% |######################################     | \remitting matrix      :  90% |######################################     | \remitting matrix      :  91% |#######################################    | \remitting matrix      :  92% |#######################################    | \remitting matrix      :  93% |########################################   | \remitting matrix      :  94% |########################################   | \remitting matrix      :  95% |#########################################  | \remitting matrix      :  96% |#########################################  | \remitting matrix      :  97% |#########################################  | \remitting matrix      :  98% |########################################## | \remitting matrix      :  99% |########################################## | \remitting matrix      : 100% |###########################################| \n",
      "\n",
      "done!\n",
      "reading ./unk.def ... 2\n",
      "emitting double-array:  50% |#####################                      | \remitting double-array: 100% |###########################################| \n",
      "./model.def is not found. skipped.\n",
      "reading ./dic.csv ... 83\n",
      "emitting double-array:  10% |####                                       | \remitting double-array:  20% |########                                   | \remitting double-array:  30% |############                               | \remitting double-array:  40% |#################                          | \remitting double-array:  50% |#####################                      | \remitting double-array:  60% |#########################                  | \remitting double-array:  70% |##############################             | \remitting double-array:  80% |##################################         | \remitting double-array:  90% |######################################     | \remitting double-array: 100% |###########################################| \n",
      "reading ./matrix.def ... 84x84\n",
      "emitting matrix      :   1% |                                           | \remitting matrix      :   2% |#                                          | \remitting matrix      :   3% |#                                          | \remitting matrix      :   4% |##                                         | \remitting matrix      :   5% |##                                         | \remitting matrix      :   7% |###                                        | \remitting matrix      :   8% |###                                        | \remitting matrix      :   9% |####                                       | \remitting matrix      :  10% |####                                       | \remitting matrix      :  11% |#####                                      | \remitting matrix      :  13% |#####                                      | \remitting matrix      :  14% |######                                     | \remitting matrix      :  15% |######                                     | \remitting matrix      :  16% |#######                                    | \remitting matrix      :  17% |#######                                    | \remitting matrix      :  19% |########                                   | \remitting matrix      :  20% |########                                   | \remitting matrix      :  21% |#########                                  | \remitting matrix      :  22% |#########                                  | \remitting matrix      :  23% |##########                                 | \remitting matrix      :  25% |##########                                 | \remitting matrix      :  26% |###########                                | \remitting matrix      :  27% |###########                                | \remitting matrix      :  28% |############                               | \remitting matrix      :  29% |############                               | \remitting matrix      :  30% |#############                              | \remitting matrix      :  32% |#############                              | \remitting matrix      :  33% |##############                             | \remitting matrix      :  34% |##############                             | \remitting matrix      :  35% |###############                            | \remitting matrix      :  36% |###############                            | \remitting matrix      :  38% |################                           | \remitting matrix      :  39% |################                           | \remitting matrix      :  40% |#################                          | \remitting matrix      :  41% |#################                          | \remitting matrix      :  42% |##################                         | \remitting matrix      :  44% |##################                         | \remitting matrix      :  45% |###################                        | \remitting matrix      :  46% |###################                        | \remitting matrix      :  47% |####################                       | \remitting matrix      :  48% |####################                       | \remitting matrix      :  50% |#####################                      | \remitting matrix      :  51% |######################                     | \remitting matrix      :  52% |######################                     | \remitting matrix      :  53% |#######################                    | \remitting matrix      :  54% |#######################                    | \remitting matrix      :  55% |########################                   | \remitting matrix      :  57% |########################                   | \remitting matrix      :  58% |#########################                  | \remitting matrix      :  59% |#########################                  | \remitting matrix      :  60% |##########################                 | \remitting matrix      :  61% |##########################                 | \remitting matrix      :  63% |###########################                | \remitting matrix      :  64% |###########################                | \remitting matrix      :  65% |############################               | \remitting matrix      :  66% |############################               | \remitting matrix      :  67% |#############################              | \remitting matrix      :  69% |#############################              | \remitting matrix      :  70% |##############################             | \remitting matrix      :  71% |##############################             | \remitting matrix      :  72% |###############################            | \remitting matrix      :  73% |###############################            | \remitting matrix      :  75% |################################           | \remitting matrix      :  76% |################################           | \remitting matrix      :  77% |#################################          | \remitting matrix      :  78% |#################################          | \remitting matrix      :  79% |##################################         | \remitting matrix      :  80% |##################################         | \remitting matrix      :  82% |###################################        | \remitting matrix      :  83% |###################################        | \remitting matrix      :  84% |####################################       | \remitting matrix      :  85% |####################################       | \remitting matrix      :  86% |#####################################      | \remitting matrix      :  88% |#####################################      | \remitting matrix      :  89% |######################################     | \remitting matrix      :  90% |######################################     | \remitting matrix      :  91% |#######################################    | \remitting matrix      :  92% |#######################################    | \remitting matrix      :  94% |########################################   | \remitting matrix      :  95% |########################################   | \remitting matrix      :  96% |#########################################  | \remitting matrix      :  97% |#########################################  | \remitting matrix      :  98% |########################################## | \remitting matrix      : 100% |###########################################| \n",
      "\n",
      "done!\n",
      "reading ./unk.def ... 2\n",
      "emitting double-array:  50% |#####################                      | \remitting double-array: 100% |###########################################| \n",
      "./model.def is not found. skipped.\n",
      "reading ./dic.csv ... 450\n",
      "emitting double-array:   0% |                                           | \remitting double-array:   1% |                                           | \remitting double-array:   2% |                                           | \remitting double-array:   3% |#                                          | \remitting double-array:   4% |#                                          | \remitting double-array:   5% |##                                         | \remitting double-array:   6% |##                                         | \remitting double-array:   7% |###                                        | \remitting double-array:   8% |###                                        | \remitting double-array:   9% |###                                        | \remitting double-array:  10% |####                                       | \remitting double-array:  11% |####                                       | \remitting double-array:  12% |#####                                      | \remitting double-array:  13% |#####                                      | \remitting double-array:  14% |######                                     | \remitting double-array:  15% |######                                     | \remitting double-array:  16% |######                                     | \remitting double-array:  17% |#######                                    | \remitting double-array:  18% |#######                                    | \remitting double-array:  19% |########                                   | \remitting double-array:  20% |########                                   | \remitting double-array:  21% |#########                                  | \remitting double-array:  22% |#########                                  | \remitting double-array:  23% |#########                                  | \remitting double-array:  24% |##########                                 | \remitting double-array:  25% |##########                                 | \remitting double-array:  26% |###########                                | \remitting double-array:  27% |###########                                | \remitting double-array:  28% |############                               | \remitting double-array:  29% |############                               | \remitting double-array:  30% |############                               | \remitting double-array:  31% |#############                              | \remitting double-array:  32% |#############                              | \remitting double-array:  33% |##############                             | \remitting double-array:  34% |##############                             | \remitting double-array:  35% |###############                            | \remitting double-array:  36% |###############                            | \remitting double-array:  37% |###############                            | \remitting double-array:  38% |################                           | \remitting double-array:  39% |################                           | \remitting double-array:  40% |#################                          | \remitting double-array:  41% |#################                          | \remitting double-array:  42% |##################                         | \remitting double-array:  43% |##################                         | \remitting double-array:  44% |##################                         | \remitting double-array:  45% |###################                        | \remitting double-array:  46% |###################                        | \remitting double-array:  47% |####################                       | \remitting double-array:  48% |####################                       | \remitting double-array:  49% |#####################                      | \remitting double-array:  50% |#####################                      | \remitting double-array:  51% |#####################                      | \remitting double-array:  52% |######################                     | \remitting double-array:  53% |######################                     | \remitting double-array:  54% |#######################                    | \remitting double-array:  55% |#######################                    | \remitting double-array:  56% |########################                   | \remitting double-array:  57% |########################                   | \remitting double-array:  58% |#########################                  | \remitting double-array:  59% |#########################                  | \remitting double-array:  60% |#########################                  | \remitting double-array:  61% |##########################                 | \remitting double-array:  62% |##########################                 | \remitting double-array:  63% |###########################                | \remitting double-array:  64% |###########################                | \remitting double-array:  65% |###########################                | \remitting double-array:  66% |############################               | \remitting double-array:  67% |############################               | \remitting double-array:  68% |#############################              | \remitting double-array:  69% |#############################              | \remitting double-array:  70% |##############################             | \remitting double-array:  71% |##############################             | \remitting double-array:  72% |##############################             | \remitting double-array:  73% |###############################            | \remitting double-array:  74% |###############################            | \remitting double-array:  75% |################################           | \remitting double-array:  76% |################################           | \remitting double-array:  77% |#################################          | \remitting double-array:  78% |#################################          | \remitting double-array:  79% |##################################         | \remitting double-array:  80% |##################################         | \remitting double-array:  81% |##################################         | \remitting double-array:  82% |###################################        | \remitting double-array:  83% |###################################        | \remitting double-array:  84% |####################################       | \remitting double-array:  85% |####################################       | \remitting double-array:  86% |#####################################      | \remitting double-array:  87% |#####################################      | \remitting double-array:  88% |#####################################      | \remitting double-array:  89% |######################################     | \remitting double-array:  90% |######################################     | \remitting double-array:  91% |#######################################    | \remitting double-array:  92% |#######################################    | \remitting double-array:  93% |########################################   | \remitting double-array:  94% |########################################   | \remitting double-array:  95% |########################################   | \remitting double-array:  96% |#########################################  | \remitting double-array:  97% |#########################################  | \remitting double-array:  98% |########################################## | \remitting double-array:  99% |########################################## | \remitting double-array: 100% |###########################################| \n",
      "reading ./matrix.def ... 1x1\n",
      "\n",
      "done!\n",
      "reading ./unk.def ... 2\n",
      "emitting double-array:  50% |#####################                      | \remitting double-array: 100% |###########################################| \n",
      "./model.def is not found. skipped.\n",
      "reading ./dic.csv ... 162\n",
      "emitting double-array:   1% |                                           | \remitting double-array:   2% |#                                          | \remitting double-array:   3% |#                                          | \remitting double-array:   4% |##                                         | \remitting double-array:   6% |##                                         | \remitting double-array:   7% |###                                        | \remitting double-array:   8% |###                                        | \remitting double-array:   9% |####                                       | \remitting double-array:  11% |####                                       | \remitting double-array:  12% |#####                                      | \remitting double-array:  13% |#####                                      | \remitting double-array:  14% |######                                     | \remitting double-array:  16% |######                                     | \remitting double-array:  17% |#######                                    | \remitting double-array:  18% |#######                                    | \remitting double-array:  19% |########                                   | \remitting double-array:  20% |#########                                  | \remitting double-array:  22% |#########                                  | \remitting double-array:  23% |##########                                 | \remitting double-array:  24% |##########                                 | \remitting double-array:  25% |###########                                | \remitting double-array:  27% |###########                                | \remitting double-array:  28% |############                               | \remitting double-array:  29% |############                               | \remitting double-array:  30% |#############                              | \remitting double-array:  32% |#############                              | \remitting double-array:  33% |##############                             | \remitting double-array:  34% |##############                             | \remitting double-array:  35% |###############                            | \remitting double-array:  37% |###############                            | \remitting double-array:  38% |################                           | \remitting double-array:  39% |################                           | \remitting double-array:  40% |#################                          | \remitting double-array:  41% |##################                         | \remitting double-array:  43% |##################                         | \remitting double-array:  44% |###################                        | \remitting double-array:  45% |###################                        | \remitting double-array:  46% |####################                       | \remitting double-array:  48% |####################                       | \remitting double-array:  49% |#####################                      | \remitting double-array:  50% |#####################                      | \remitting double-array:  51% |######################                     | \remitting double-array:  53% |######################                     | \remitting double-array:  54% |#######################                    | \remitting double-array:  55% |#######################                    | \remitting double-array:  56% |########################                   | \remitting double-array:  58% |########################                   | \remitting double-array:  59% |#########################                  | \remitting double-array:  60% |##########################                 | \remitting double-array:  61% |##########################                 | \remitting double-array:  62% |###########################                | \remitting double-array:  64% |###########################                | \remitting double-array:  65% |############################               | \remitting double-array:  66% |############################               | \remitting double-array:  67% |#############################              | \remitting double-array:  69% |#############################              | \remitting double-array:  70% |##############################             | \remitting double-array:  71% |##############################             | \remitting double-array:  72% |###############################            | \remitting double-array:  74% |###############################            | \remitting double-array:  75% |################################           | \remitting double-array:  76% |################################           | \remitting double-array:  77% |#################################          | \remitting double-array:  79% |#################################          | \remitting double-array:  80% |##################################         | \remitting double-array:  81% |###################################        | \remitting double-array:  82% |###################################        | \remitting double-array:  83% |####################################       | \remitting double-array:  85% |####################################       | \remitting double-array:  86% |#####################################      | \remitting double-array:  87% |#####################################      | \remitting double-array:  88% |######################################     | \remitting double-array:  90% |######################################     | \remitting double-array:  91% |#######################################    | \remitting double-array:  92% |#######################################    | \remitting double-array:  93% |########################################   | \remitting double-array:  95% |########################################   | \remitting double-array:  96% |#########################################  | \remitting double-array:  97% |#########################################  | \remitting double-array:  98% |########################################## | \remitting double-array: 100% |###########################################| \n",
      "reading ./matrix.def ... 3x3\n",
      "emitting matrix      :  33% |##############                             | \remitting matrix      :  66% |############################               | \remitting matrix      : 100% |###########################################| \n",
      "\n",
      "done!\n",
      "reading ./unk.def ... 2\n",
      "emitting double-array:  50% |#####################                      | \remitting double-array: 100% |###########################################| \n",
      "./model.def is not found. skipped.\n",
      "reading ./dic.csv ... 4\n",
      "emitting double-array:  25% |##########                                 | \remitting double-array:  50% |#####################                      | \remitting double-array:  75% |################################           | \remitting double-array: 100% |###########################################| \n",
      "reading ./matrix.def ... 1x1\n",
      "\n",
      "done!\n",
      "reading ./unk.def ... 11\n",
      "emitting double-array:   9% |###                                        | \remitting double-array:  18% |#######                                    | \remitting double-array:  27% |###########                                | \remitting double-array:  36% |###############                            | \remitting double-array:  45% |###################                        | \remitting double-array:  54% |#######################                    | \remitting double-array:  63% |###########################                | \remitting double-array:  72% |###############################            | \remitting double-array:  81% |###################################        | \remitting double-array:  90% |#######################################    | \remitting double-array: 100% |###########################################| \n",
      "./model.def is not found. skipped.\n",
      "reading ./dic.csv ... 1\n",
      "reading ./matrix.def ... 1x1\n",
      "\n",
      "done!\n",
      "reading ./unk.def ... 2\n",
      "emitting double-array:  50% |#####################                      | \remitting double-array: 100% |###########################################| \n",
      "./model.def is not found. skipped.\n",
      "reading ./dic.csv ... 1\n",
      "reading ./matrix.def ... 1x1\n",
      "\n",
      "done!\n",
      "PASS: run-dics.sh\n",
      "PASS: run-eval.sh\n",
      "reading seed/unk.def ... 40\n",
      "emitting double-array:   9% |###                                        | \remitting double-array:  18% |#######                                    | \remitting double-array:  27% |###########                                | \remitting double-array:  36% |###############                            | \remitting double-array:  45% |###################                        | \remitting double-array:  54% |#######################                    | \remitting double-array:  63% |###########################                | \remitting double-array:  72% |###############################            | \remitting double-array:  81% |###################################        | \remitting double-array:  90% |#######################################    | \remitting double-array: 100% |###########################################| \n",
      "seed/model.def is not found. skipped.\n",
      "reading seed/dic.csv ... 4335\n",
      "emitting double-array:   0% |                                           | \remitting double-array:   1% |                                           | \remitting double-array:   2% |                                           | \remitting double-array:   3% |#                                          | \remitting double-array:   4% |#                                          | \remitting double-array:   5% |##                                         | \remitting double-array:   6% |##                                         | \remitting double-array:   7% |###                                        | \remitting double-array:   8% |###                                        | \remitting double-array:   9% |###                                        | \remitting double-array:  10% |####                                       | \remitting double-array:  11% |####                                       | \remitting double-array:  12% |#####                                      | \remitting double-array:  13% |#####                                      | \remitting double-array:  14% |######                                     | \remitting double-array:  15% |######                                     | \remitting double-array:  16% |######                                     | \remitting double-array:  17% |#######                                    | \remitting double-array:  18% |#######                                    | \remitting double-array:  19% |########                                   | \remitting double-array:  20% |########                                   | \remitting double-array:  21% |#########                                  | \remitting double-array:  22% |#########                                  | \remitting double-array:  23% |#########                                  | \remitting double-array:  24% |##########                                 | \remitting double-array:  25% |##########                                 | \remitting double-array:  26% |###########                                | \remitting double-array:  27% |###########                                | \remitting double-array:  28% |############                               | \remitting double-array:  29% |############                               | \remitting double-array:  30% |############                               | \remitting double-array:  31% |#############                              | \remitting double-array:  32% |#############                              | \remitting double-array:  33% |##############                             | \remitting double-array:  34% |##############                             | \remitting double-array:  35% |###############                            | \remitting double-array:  36% |###############                            | \remitting double-array:  37% |###############                            | \remitting double-array:  38% |################                           | \remitting double-array:  39% |################                           | \remitting double-array:  40% |#################                          | \remitting double-array:  41% |#################                          | \remitting double-array:  42% |##################                         | \remitting double-array:  43% |##################                         | \remitting double-array:  44% |##################                         | \remitting double-array:  45% |###################                        | \remitting double-array:  46% |###################                        | \remitting double-array:  47% |####################                       | \remitting double-array:  48% |####################                       | \remitting double-array:  49% |#####################                      | \remitting double-array:  50% |#####################                      | \remitting double-array:  51% |#####################                      | \remitting double-array:  52% |######################                     | \remitting double-array:  53% |######################                     | \remitting double-array:  54% |#######################                    | \remitting double-array:  55% |#######################                    | \remitting double-array:  56% |########################                   | \remitting double-array:  57% |########################                   | \remitting double-array:  58% |########################                   | \remitting double-array:  59% |#########################                  | \remitting double-array:  60% |#########################                  | \remitting double-array:  61% |##########################                 | \remitting double-array:  62% |##########################                 | \remitting double-array:  63% |###########################                | \remitting double-array:  64% |###########################                | \remitting double-array:  65% |###########################                | \remitting double-array:  66% |############################               | \remitting double-array:  67% |############################               | \remitting double-array:  68% |#############################              | \remitting double-array:  69% |#############################              | \remitting double-array:  70% |##############################             | \remitting double-array:  71% |##############################             | \remitting double-array:  72% |##############################             | \remitting double-array:  73% |###############################            | \remitting double-array:  74% |###############################            | \remitting double-array:  75% |################################           | \remitting double-array:  76% |################################           | \remitting double-array:  77% |#################################          | \remitting double-array:  78% |#################################          | \remitting double-array:  79% |#################################          | \remitting double-array:  80% |##################################         | \remitting double-array:  81% |##################################         | \remitting double-array:  82% |###################################        | \remitting double-array:  83% |###################################        | \remitting double-array:  84% |####################################       | \remitting double-array:  85% |####################################       | \remitting double-array:  86% |#####################################      | \remitting double-array:  87% |#####################################      | \remitting double-array:  88% |#####################################      | \remitting double-array:  89% |######################################     | \remitting double-array:  90% |######################################     | \remitting double-array:  91% |#######################################    | \remitting double-array:  92% |#######################################    | \remitting double-array:  93% |########################################   | \remitting double-array:  94% |########################################   | \remitting double-array:  95% |########################################   | \remitting double-array:  96% |#########################################  | \remitting double-array:  97% |#########################################  | \remitting double-array:  98% |########################################## | \remitting double-array:  99% |########################################## | \remitting double-array: 100% |###########################################| \n",
      "reading seed/matrix.def ... 1x1\n",
      "\n",
      "done!\n",
      "reading corpus ...\n",
      "Number of sentences: 34\n",
      "Number of features:  64108\n",
      "eta:                 0.00005\n",
      "freq:                1\n",
      "eval-size:           6\n",
      "unk-eval-size:       4\n",
      "threads:             1\n",
      "charset:             EUC-JP\n",
      "C(sigma^2):          1.00000\n",
      "\n",
      "iter=0 err=1.00000 F=0.35771 target=2406.28355 diff=1.00000\n",
      "iter=1 err=0.97059 F=0.65652 target=1484.25231 diff=0.38318\n",
      "iter=2 err=0.91176 F=0.79331 target=863.32765 diff=0.41834\n",
      "iter=3 err=0.85294 F=0.89213 target=596.72480 diff=0.30881\n",
      "iter=4 err=0.61765 F=0.95467 target=336.30744 diff=0.43641\n",
      "iter=5 err=0.50000 F=0.96702 target=246.53039 diff=0.26695\n",
      "iter=6 err=0.35294 F=0.95472 target=188.93963 diff=0.23361\n",
      "iter=7 err=0.20588 F=0.99106 target=168.62665 diff=0.10751\n",
      "iter=8 err=0.05882 F=0.99777 target=158.64865 diff=0.05917\n",
      "iter=9 err=0.08824 F=0.99665 target=154.14530 diff=0.02839\n",
      "iter=10 err=0.08824 F=0.99665 target=151.94257 diff=0.01429\n",
      "iter=11 err=0.02941 F=0.99888 target=147.20825 diff=0.03116\n",
      "iter=12 err=0.00000 F=1.00000 target=147.34956 diff=0.00096\n",
      "iter=13 err=0.02941 F=0.99888 target=146.32592 diff=0.00695\n",
      "iter=14 err=0.00000 F=1.00000 target=145.77299 diff=0.00378\n",
      "iter=15 err=0.02941 F=0.99888 target=145.24641 diff=0.00361\n",
      "iter=16 err=0.00000 F=1.00000 target=144.96490 diff=0.00194\n",
      "iter=17 err=0.02941 F=0.99888 target=144.90246 diff=0.00043\n",
      "iter=18 err=0.00000 F=1.00000 target=144.75959 diff=0.00099\n",
      "iter=19 err=0.00000 F=1.00000 target=144.71727 diff=0.00029\n",
      "iter=20 err=0.00000 F=1.00000 target=144.66337 diff=0.00037\n",
      "iter=21 err=0.00000 F=1.00000 target=144.61349 diff=0.00034\n",
      "iter=22 err=0.00000 F=1.00000 target=144.62987 diff=0.00011\n",
      "iter=23 err=0.00000 F=1.00000 target=144.60060 diff=0.00020\n",
      "iter=24 err=0.00000 F=1.00000 target=144.59125 diff=0.00006\n",
      "iter=25 err=0.00000 F=1.00000 target=144.58619 diff=0.00004\n",
      "iter=26 err=0.00000 F=1.00000 target=144.58219 diff=0.00003\n",
      "iter=27 err=0.00000 F=1.00000 target=144.58059 diff=0.00001\n",
      "\n",
      "Done! writing model file ... \n",
      "model-ipadic.c1.0.f1.model is not a binary model. reopen it as text mode...\n",
      "reading seed/unk.def ... 40\n",
      "reading seed/dic.csv ... 4335\n",
      "emitting model-ipadic.c1.0.f1.dic/left-id.def/ model-ipadic.c1.0.f1.dic/right-id.def\n",
      "emitting model-ipadic.c1.0.f1.dic/unk.def ... 40\n",
      "emitting model-ipadic.c1.0.f1.dic/dic.csv ... 4335\n",
      "emitting matrix      :   1% |                                           | \remitting matrix      :   2% |                                           | \remitting matrix      :   3% |#                                          | \remitting matrix      :   4% |#                                          | \remitting matrix      :   5% |##                                         | \remitting matrix      :   6% |##                                         | \remitting matrix      :   7% |###                                        | \remitting matrix      :   8% |###                                        | \remitting matrix      :   9% |###                                        | \remitting matrix      :  10% |####                                       | \remitting matrix      :  11% |####                                       | \remitting matrix      :  12% |#####                                      | \remitting matrix      :  13% |#####                                      | \remitting matrix      :  14% |######                                     | \remitting matrix      :  15% |######                                     | \remitting matrix      :  16% |######                                     | \remitting matrix      :  17% |#######                                    | \remitting matrix      :  18% |#######                                    | \remitting matrix      :  19% |########                                   | \remitting matrix      :  20% |########                                   | \remitting matrix      :  21% |#########                                  | \remitting matrix      :  22% |#########                                  | \remitting matrix      :  23% |#########                                  | \remitting matrix      :  24% |##########                                 | \remitting matrix      :  25% |##########                                 | \remitting matrix      :  26% |###########                                | \remitting matrix      :  27% |###########                                | \remitting matrix      :  28% |############                               | \remitting matrix      :  29% |############                               | \remitting matrix      :  30% |############                               | \remitting matrix      :  31% |#############                              | \remitting matrix      :  32% |#############                              | \remitting matrix      :  33% |##############                             | \remitting matrix      :  34% |##############                             | \remitting matrix      :  35% |###############                            | \remitting matrix      :  36% |###############                            | \remitting matrix      :  37% |################                           | \remitting matrix      :  38% |################                           | \remitting matrix      :  39% |################                           | \remitting matrix      :  40% |#################                          | \remitting matrix      :  41% |#################                          | \remitting matrix      :  42% |##################                         | \remitting matrix      :  43% |##################                         | \remitting matrix      :  44% |###################                        | \remitting matrix      :  45% |###################                        | \remitting matrix      :  46% |###################                        | \remitting matrix      :  47% |####################                       | \remitting matrix      :  48% |####################                       | \remitting matrix      :  49% |#####################                      | \remitting matrix      :  50% |#####################                      | \remitting matrix      :  51% |#####################                      | \remitting matrix      :  52% |######################                     | \remitting matrix      :  53% |######################                     | \remitting matrix      :  54% |#######################                    | \remitting matrix      :  55% |#######################                    | \remitting matrix      :  56% |########################                   | \remitting matrix      :  57% |########################                   | \remitting matrix      :  58% |########################                   | \remitting matrix      :  59% |#########################                  | \remitting matrix      :  60% |#########################                  | \remitting matrix      :  61% |##########################                 | \remitting matrix      :  62% |##########################                 | \remitting matrix      :  63% |###########################                | \remitting matrix      :  64% |###########################                | \remitting matrix      :  65% |###########################                | \remitting matrix      :  66% |############################               | \remitting matrix      :  67% |############################               | \remitting matrix      :  68% |#############################              | \remitting matrix      :  69% |#############################              | \remitting matrix      :  70% |##############################             | \remitting matrix      :  71% |##############################             | \remitting matrix      :  72% |###############################            | \remitting matrix      :  73% |###############################            | \remitting matrix      :  74% |###############################            | \remitting matrix      :  75% |################################           | \remitting matrix      :  76% |################################           | \remitting matrix      :  77% |#################################          | \remitting matrix      :  78% |#################################          | \remitting matrix      :  79% |##################################         | \remitting matrix      :  80% |##################################         | \remitting matrix      :  81% |##################################         | \remitting matrix      :  82% |###################################        | \remitting matrix      :  83% |###################################        | \remitting matrix      :  84% |####################################       | \remitting matrix      :  85% |####################################       | \remitting matrix      :  86% |#####################################      | \remitting matrix      :  87% |#####################################      | \remitting matrix      :  88% |#####################################      | \remitting matrix      :  89% |######################################     | \remitting matrix      :  90% |######################################     | \remitting matrix      :  91% |#######################################    | \remitting matrix      :  92% |#######################################    | \remitting matrix      :  93% |########################################   | \remitting matrix      :  94% |########################################   | \remitting matrix      :  95% |########################################   | \remitting matrix      :  96% |#########################################  | \remitting matrix      :  97% |#########################################  | \remitting matrix      :  98% |########################################## | \remitting matrix      :  99% |########################################## | \remitting matrix      : 100% |###########################################| \n",
      "copying seed/char.def to model-ipadic.c1.0.f1.dic/char.def\n",
      "copying seed/rewrite.def to model-ipadic.c1.0.f1.dic/rewrite.def\n",
      "copying seed/dicrc to model-ipadic.c1.0.f1.dic/dicrc\n",
      "copying seed/feature.def to model-ipadic.c1.0.f1.dic/feature.def\n",
      "copying model-ipadic.c1.0.f1.model to model-ipadic.c1.0.f1.dic/model.def\n",
      "\n",
      "done!\n",
      "reading model-ipadic.c1.0.f1.dic/unk.def ... 40\n",
      "emitting double-array:   9% |###                                        | \remitting double-array:  18% |#######                                    | \remitting double-array:  27% |###########                                | \remitting double-array:  36% |###############                            | \remitting double-array:  45% |###################                        | \remitting double-array:  54% |#######################                    | \remitting double-array:  63% |###########################                | \remitting double-array:  72% |###############################            | \remitting double-array:  81% |###################################        | \remitting double-array:  90% |#######################################    | \remitting double-array: 100% |###########################################| \n",
      "reading model-ipadic.c1.0.f1.dic/dic.csv ... 4335\n",
      "emitting double-array:   0% |                                           | \remitting double-array:   1% |                                           | \remitting double-array:   2% |                                           | \remitting double-array:   3% |#                                          | \remitting double-array:   4% |#                                          | \remitting double-array:   5% |##                                         | \remitting double-array:   6% |##                                         | \remitting double-array:   7% |###                                        | \remitting double-array:   8% |###                                        | \remitting double-array:   9% |###                                        | \remitting double-array:  10% |####                                       | \remitting double-array:  11% |####                                       | \remitting double-array:  12% |#####                                      | \remitting double-array:  13% |#####                                      | \remitting double-array:  14% |######                                     | \remitting double-array:  15% |######                                     | \remitting double-array:  16% |######                                     | \remitting double-array:  17% |#######                                    | \remitting double-array:  18% |#######                                    | \remitting double-array:  19% |########                                   | \remitting double-array:  20% |########                                   | \remitting double-array:  21% |#########                                  | \remitting double-array:  22% |#########                                  | \remitting double-array:  23% |#########                                  | \remitting double-array:  24% |##########                                 | \remitting double-array:  25% |##########                                 | \remitting double-array:  26% |###########                                | \remitting double-array:  27% |###########                                | \remitting double-array:  28% |############                               | \remitting double-array:  29% |############                               | \remitting double-array:  30% |############                               | \remitting double-array:  31% |#############                              | \remitting double-array:  32% |#############                              | \remitting double-array:  33% |##############                             | \remitting double-array:  34% |##############                             | \remitting double-array:  35% |###############                            | \remitting double-array:  36% |###############                            | \remitting double-array:  37% |###############                            | \remitting double-array:  38% |################                           | \remitting double-array:  39% |################                           | \remitting double-array:  40% |#################                          | \remitting double-array:  41% |#################                          | \remitting double-array:  42% |##################                         | \remitting double-array:  43% |##################                         | \remitting double-array:  44% |##################                         | \remitting double-array:  45% |###################                        | \remitting double-array:  46% |###################                        | \remitting double-array:  47% |####################                       | \remitting double-array:  48% |####################                       | \remitting double-array:  49% |#####################                      | \remitting double-array:  50% |#####################                      | \remitting double-array:  51% |#####################                      | \remitting double-array:  52% |######################                     | \remitting double-array:  53% |######################                     | \remitting double-array:  54% |#######################                    | \remitting double-array:  55% |#######################                    | \remitting double-array:  56% |########################                   | \remitting double-array:  57% |########################                   | \remitting double-array:  58% |########################                   | \remitting double-array:  59% |#########################                  | \remitting double-array:  60% |#########################                  | \remitting double-array:  61% |##########################                 | \remitting double-array:  62% |##########################                 | \remitting double-array:  63% |###########################                | \remitting double-array:  64% |###########################                | \remitting double-array:  65% |###########################                | \remitting double-array:  66% |############################               | \remitting double-array:  67% |############################               | \remitting double-array:  68% |#############################              | \remitting double-array:  69% |#############################              | \remitting double-array:  70% |##############################             | \remitting double-array:  71% |##############################             | \remitting double-array:  72% |##############################             | \remitting double-array:  73% |###############################            | \remitting double-array:  74% |###############################            | \remitting double-array:  75% |################################           | \remitting double-array:  76% |################################           | \remitting double-array:  77% |#################################          | \remitting double-array:  78% |#################################          | \remitting double-array:  79% |#################################          | \remitting double-array:  80% |##################################         | \remitting double-array:  81% |##################################         | \remitting double-array:  82% |###################################        | \remitting double-array:  83% |###################################        | \remitting double-array:  84% |####################################       | \remitting double-array:  85% |####################################       | \remitting double-array:  86% |#####################################      | \remitting double-array:  87% |#####################################      | \remitting double-array:  88% |#####################################      | \remitting double-array:  89% |######################################     | \remitting double-array:  90% |######################################     | \remitting double-array:  91% |#######################################    | \remitting double-array:  92% |#######################################    | \remitting double-array:  93% |########################################   | \remitting double-array:  94% |########################################   | \remitting double-array:  95% |########################################   | \remitting double-array:  96% |#########################################  | \remitting double-array:  97% |#########################################  | \remitting double-array:  98% |########################################## | \remitting double-array:  99% |########################################## | \remitting double-array: 100% |###########################################| \n",
      "reading model-ipadic.c1.0.f1.dic/matrix.def ... 346x346\n",
      "emitting matrix      :   0% |                                           | \remitting matrix      :   1% |                                           | \remitting matrix      :   2% |                                           | \remitting matrix      :   3% |#                                          | \remitting matrix      :   4% |#                                          | \remitting matrix      :   5% |##                                         | \remitting matrix      :   6% |##                                         | \remitting matrix      :   7% |###                                        | \remitting matrix      :   8% |###                                        | \remitting matrix      :   9% |###                                        | \remitting matrix      :  10% |####                                       | \remitting matrix      :  11% |####                                       | \remitting matrix      :  12% |#####                                      | \remitting matrix      :  13% |#####                                      | \remitting matrix      :  14% |######                                     | \remitting matrix      :  15% |######                                     | \remitting matrix      :  16% |######                                     | \remitting matrix      :  17% |#######                                    | \remitting matrix      :  18% |#######                                    | \remitting matrix      :  19% |########                                   | \remitting matrix      :  20% |########                                   | \remitting matrix      :  21% |#########                                  | \remitting matrix      :  22% |#########                                  | \remitting matrix      :  23% |#########                                  | \remitting matrix      :  24% |##########                                 | \remitting matrix      :  25% |##########                                 | \remitting matrix      :  26% |###########                                | \remitting matrix      :  27% |###########                                | \remitting matrix      :  28% |############                               | \remitting matrix      :  29% |############                               | \remitting matrix      :  30% |############                               | \remitting matrix      :  31% |#############                              | \remitting matrix      :  32% |#############                              | \remitting matrix      :  33% |##############                             | \remitting matrix      :  34% |##############                             | \remitting matrix      :  35% |###############                            | \remitting matrix      :  36% |###############                            | \remitting matrix      :  37% |################                           | \remitting matrix      :  38% |################                           | \remitting matrix      :  39% |################                           | \remitting matrix      :  40% |#################                          | \remitting matrix      :  41% |#################                          | \remitting matrix      :  42% |##################                         | \remitting matrix      :  43% |##################                         | \remitting matrix      :  44% |###################                        | \remitting matrix      :  45% |###################                        | \remitting matrix      :  46% |###################                        | \remitting matrix      :  47% |####################                       | \remitting matrix      :  48% |####################                       | \remitting matrix      :  49% |#####################                      | \remitting matrix      :  50% |#####################                      | \remitting matrix      :  51% |#####################                      | \remitting matrix      :  52% |######################                     | \remitting matrix      :  53% |######################                     | \remitting matrix      :  54% |#######################                    | \remitting matrix      :  55% |#######################                    | \remitting matrix      :  56% |########################                   | \remitting matrix      :  57% |########################                   | \remitting matrix      :  58% |########################                   | \remitting matrix      :  59% |#########################                  | \remitting matrix      :  60% |#########################                  | \remitting matrix      :  61% |##########################                 | \remitting matrix      :  62% |##########################                 | \remitting matrix      :  63% |###########################                | \remitting matrix      :  64% |###########################                | \remitting matrix      :  65% |###########################                | \remitting matrix      :  66% |############################               | \remitting matrix      :  67% |############################               | \remitting matrix      :  68% |#############################              | \remitting matrix      :  69% |#############################              | \remitting matrix      :  70% |##############################             | \remitting matrix      :  71% |##############################             | \remitting matrix      :  72% |###############################            | \remitting matrix      :  73% |###############################            | \remitting matrix      :  74% |###############################            | \remitting matrix      :  75% |################################           | \remitting matrix      :  76% |################################           | \remitting matrix      :  77% |#################################          | \remitting matrix      :  78% |#################################          | \remitting matrix      :  79% |##################################         | \remitting matrix      :  80% |##################################         | \remitting matrix      :  81% |##################################         | \remitting matrix      :  82% |###################################        | \remitting matrix      :  83% |###################################        | \remitting matrix      :  84% |####################################       | \remitting matrix      :  85% |####################################       | \remitting matrix      :  86% |#####################################      | \remitting matrix      :  87% |#####################################      | \remitting matrix      :  88% |#####################################      | \remitting matrix      :  89% |######################################     | \remitting matrix      :  90% |######################################     | \remitting matrix      :  91% |#######################################    | \remitting matrix      :  92% |#######################################    | \remitting matrix      :  93% |########################################   | \remitting matrix      :  94% |########################################   | \remitting matrix      :  95% |########################################   | \remitting matrix      :  96% |#########################################  | \remitting matrix      :  97% |#########################################  | \remitting matrix      :  98% |########################################## | \remitting matrix      :  99% |########################################## | \remitting matrix      : 100% |###########################################| \n",
      "\n",
      "done!\n",
      "              precision          recall         F\n",
      "LEVEL 0:    12.8959(57/442) 11.8998(57/479) 12.3779\n",
      "LEVEL 1:    12.2172(54/442) 11.2735(54/479) 11.7264\n",
      "LEVEL 2:    11.7647(52/442) 10.8559(52/479) 11.2921\n",
      "LEVEL 4:    11.7647(52/442) 10.8559(52/479) 11.2921\n",
      "PASS: run-cost-train.sh\n",
      "==================\n",
      "All 3 tests passed\n",
      "==================\n",
      "make[2]: Leaving directory '/tmp/mecab-0.996-ko-0.9.2/tests'\n",
      "make[1]: Leaving directory '/tmp/mecab-0.996-ko-0.9.2/tests'\n",
      "make[1]: Entering directory '/tmp/mecab-0.996-ko-0.9.2'\n",
      "make[1]: Leaving directory '/tmp/mecab-0.996-ko-0.9.2'\n",
      "Making install in src\n",
      "make[1]: Entering directory '/tmp/mecab-0.996-ko-0.9.2/src'\n",
      "make[2]: Entering directory '/tmp/mecab-0.996-ko-0.9.2/src'\n",
      "test -z \"/usr/local/lib\" || /bin/mkdir -p \"/usr/local/lib\"\n",
      " /bin/bash ../libtool   --mode=install /usr/bin/install -c   libmecab.la '/usr/local/lib'\n",
      "libtool: install: /usr/bin/install -c .libs/libmecab.so.2.0.0 /usr/local/lib/libmecab.so.2.0.0\n",
      "libtool: install: (cd /usr/local/lib && { ln -s -f libmecab.so.2.0.0 libmecab.so.2 || { rm -f libmecab.so.2 && ln -s libmecab.so.2.0.0 libmecab.so.2; }; })\n",
      "libtool: install: (cd /usr/local/lib && { ln -s -f libmecab.so.2.0.0 libmecab.so || { rm -f libmecab.so && ln -s libmecab.so.2.0.0 libmecab.so; }; })\n",
      "libtool: install: /usr/bin/install -c .libs/libmecab.lai /usr/local/lib/libmecab.la\n",
      "libtool: install: /usr/bin/install -c .libs/libmecab.a /usr/local/lib/libmecab.a\n",
      "libtool: install: chmod 644 /usr/local/lib/libmecab.a\n",
      "libtool: install: ranlib /usr/local/lib/libmecab.a\n",
      "libtool: finish: PATH=\"/usr/local/sbin:/usr/local/bin:/usr/sbin:/usr/bin:/sbin:/bin:/snap/bin:/sbin\" ldconfig -n /usr/local/lib\n",
      "----------------------------------------------------------------------\n",
      "Libraries have been installed in:\n",
      "   /usr/local/lib\n",
      "\n",
      "If you ever happen to want to link against installed libraries\n",
      "in a given directory, LIBDIR, you must either use libtool, and\n",
      "specify the full pathname of the library, or use the `-LLIBDIR'\n",
      "flag during linking and do at least one of the following:\n",
      "   - add LIBDIR to the `LD_LIBRARY_PATH' environment variable\n",
      "     during execution\n",
      "   - add LIBDIR to the `LD_RUN_PATH' environment variable\n",
      "     during linking\n",
      "   - use the `-Wl,-rpath -Wl,LIBDIR' linker flag\n",
      "   - have your system administrator add LIBDIR to `/etc/ld.so.conf'\n",
      "\n",
      "See any operating system documentation about shared libraries for\n",
      "more information, such as the ld(1) and ld.so(8) manual pages.\n",
      "----------------------------------------------------------------------\n",
      "test -z \"/usr/local/bin\" || /bin/mkdir -p \"/usr/local/bin\"\n",
      "  /bin/bash ../libtool   --mode=install /usr/bin/install -c mecab '/usr/local/bin'\n",
      "libtool: install: /usr/bin/install -c .libs/mecab /usr/local/bin/mecab\n",
      "test -z \"/usr/local/libexec/mecab\" || /bin/mkdir -p \"/usr/local/libexec/mecab\"\n",
      "  /bin/bash ../libtool   --mode=install /usr/bin/install -c mecab-dict-index mecab-dict-gen mecab-cost-train mecab-system-eval mecab-test-gen '/usr/local/libexec/mecab'\n",
      "libtool: install: /usr/bin/install -c .libs/mecab-dict-index /usr/local/libexec/mecab/mecab-dict-index\n",
      "libtool: install: /usr/bin/install -c .libs/mecab-dict-gen /usr/local/libexec/mecab/mecab-dict-gen\n",
      "libtool: install: /usr/bin/install -c .libs/mecab-cost-train /usr/local/libexec/mecab/mecab-cost-train\n",
      "libtool: install: /usr/bin/install -c .libs/mecab-system-eval /usr/local/libexec/mecab/mecab-system-eval\n",
      "libtool: install: /usr/bin/install -c .libs/mecab-test-gen /usr/local/libexec/mecab/mecab-test-gen\n",
      "test -z \"/usr/local/include\" || /bin/mkdir -p \"/usr/local/include\"\n",
      " /usr/bin/install -c -m 644 mecab.h '/usr/local/include'\n",
      "make[2]: Leaving directory '/tmp/mecab-0.996-ko-0.9.2/src'\n",
      "make[1]: Leaving directory '/tmp/mecab-0.996-ko-0.9.2/src'\n",
      "Making install in man\n",
      "make[1]: Entering directory '/tmp/mecab-0.996-ko-0.9.2/man'\n",
      "make[2]: Entering directory '/tmp/mecab-0.996-ko-0.9.2/man'\n",
      "make[2]: Nothing to be done for 'install-exec-am'.\n",
      "test -z \"/usr/local/share/man/man1\" || /bin/mkdir -p \"/usr/local/share/man/man1\"\n",
      " /usr/bin/install -c -m 644 mecab.1 '/usr/local/share/man/man1'\n",
      "make[2]: Leaving directory '/tmp/mecab-0.996-ko-0.9.2/man'\n",
      "make[1]: Leaving directory '/tmp/mecab-0.996-ko-0.9.2/man'\n",
      "Making install in doc\n",
      "make[1]: Entering directory '/tmp/mecab-0.996-ko-0.9.2/doc'\n",
      "make[2]: Entering directory '/tmp/mecab-0.996-ko-0.9.2/doc'\n",
      "make[2]: Nothing to be done for 'install-exec-am'.\n",
      "make[2]: Nothing to be done for 'install-data-am'.\n",
      "make[2]: Leaving directory '/tmp/mecab-0.996-ko-0.9.2/doc'\n",
      "make[1]: Leaving directory '/tmp/mecab-0.996-ko-0.9.2/doc'\n",
      "Making install in tests\n",
      "make[1]: Entering directory '/tmp/mecab-0.996-ko-0.9.2/tests'\n",
      "make[2]: Entering directory '/tmp/mecab-0.996-ko-0.9.2/tests'\n",
      "make[2]: Nothing to be done for 'install-exec-am'.\n",
      "make[2]: Nothing to be done for 'install-data-am'.\n",
      "make[2]: Leaving directory '/tmp/mecab-0.996-ko-0.9.2/tests'\n",
      "make[1]: Leaving directory '/tmp/mecab-0.996-ko-0.9.2/tests'\n",
      "make[1]: Entering directory '/tmp/mecab-0.996-ko-0.9.2'\n",
      "make[2]: Entering directory '/tmp/mecab-0.996-ko-0.9.2'\n",
      "test -z \"/usr/local/bin\" || /bin/mkdir -p \"/usr/local/bin\"\n",
      " /usr/bin/install -c mecab-config '/usr/local/bin'\n",
      "test -z \"/usr/local/etc\" || /bin/mkdir -p \"/usr/local/etc\"\n",
      " /usr/bin/install -c -m 644 mecabrc '/usr/local/etc'\n",
      "make[2]: Leaving directory '/tmp/mecab-0.996-ko-0.9.2'\n",
      "make[1]: Leaving directory '/tmp/mecab-0.996-ko-0.9.2'\n",
      "Install mecab-ko-dic\n",
      "Install mecab-ko-dic\n",
      "mecab-ko-dic-2.1.1-20180720/\n",
      "mecab-ko-dic-2.1.1-20180720/configure\n",
      "mecab-ko-dic-2.1.1-20180720/COPYING\n",
      "mecab-ko-dic-2.1.1-20180720/autogen.sh\n",
      "mecab-ko-dic-2.1.1-20180720/Place-station.csv\n",
      "mecab-ko-dic-2.1.1-20180720/NNG.csv\n",
      "mecab-ko-dic-2.1.1-20180720/README\n",
      "mecab-ko-dic-2.1.1-20180720/EF.csv\n",
      "mecab-ko-dic-2.1.1-20180720/MAG.csv\n",
      "mecab-ko-dic-2.1.1-20180720/Preanalysis.csv\n",
      "mecab-ko-dic-2.1.1-20180720/NNB.csv\n",
      "mecab-ko-dic-2.1.1-20180720/Person-actor.csv\n",
      "mecab-ko-dic-2.1.1-20180720/VV.csv\n",
      "mecab-ko-dic-2.1.1-20180720/Makefile.in\n",
      "mecab-ko-dic-2.1.1-20180720/matrix.def\n",
      "mecab-ko-dic-2.1.1-20180720/EC.csv\n",
      "mecab-ko-dic-2.1.1-20180720/NNBC.csv\n",
      "mecab-ko-dic-2.1.1-20180720/clean\n",
      "mecab-ko-dic-2.1.1-20180720/ChangeLog\n",
      "mecab-ko-dic-2.1.1-20180720/J.csv\n",
      "mecab-ko-dic-2.1.1-20180720/.keep\n",
      "mecab-ko-dic-2.1.1-20180720/feature.def\n",
      "mecab-ko-dic-2.1.1-20180720/Foreign.csv\n",
      "mecab-ko-dic-2.1.1-20180720/XPN.csv\n",
      "mecab-ko-dic-2.1.1-20180720/EP.csv\n",
      "mecab-ko-dic-2.1.1-20180720/NR.csv\n",
      "mecab-ko-dic-2.1.1-20180720/left-id.def\n",
      "mecab-ko-dic-2.1.1-20180720/Place.csv\n",
      "mecab-ko-dic-2.1.1-20180720/Symbol.csv\n",
      "mecab-ko-dic-2.1.1-20180720/dicrc\n",
      "mecab-ko-dic-2.1.1-20180720/NP.csv\n",
      "mecab-ko-dic-2.1.1-20180720/ETM.csv\n",
      "mecab-ko-dic-2.1.1-20180720/IC.csv\n",
      "mecab-ko-dic-2.1.1-20180720/Place-address.csv\n",
      "mecab-ko-dic-2.1.1-20180720/Group.csv\n",
      "mecab-ko-dic-2.1.1-20180720/model.def\n",
      "mecab-ko-dic-2.1.1-20180720/XSN.csv\n",
      "mecab-ko-dic-2.1.1-20180720/INSTALL\n",
      "mecab-ko-dic-2.1.1-20180720/rewrite.def\n",
      "mecab-ko-dic-2.1.1-20180720/Inflect.csv\n",
      "mecab-ko-dic-2.1.1-20180720/configure.ac\n",
      "mecab-ko-dic-2.1.1-20180720/NNP.csv\n",
      "mecab-ko-dic-2.1.1-20180720/CoinedWord.csv\n",
      "mecab-ko-dic-2.1.1-20180720/XSV.csv\n",
      "mecab-ko-dic-2.1.1-20180720/pos-id.def\n",
      "mecab-ko-dic-2.1.1-20180720/Makefile.am\n",
      "mecab-ko-dic-2.1.1-20180720/unk.def\n",
      "mecab-ko-dic-2.1.1-20180720/missing\n",
      "mecab-ko-dic-2.1.1-20180720/VCP.csv\n",
      "mecab-ko-dic-2.1.1-20180720/install-sh\n",
      "mecab-ko-dic-2.1.1-20180720/Hanja.csv\n",
      "mecab-ko-dic-2.1.1-20180720/MAJ.csv\n",
      "mecab-ko-dic-2.1.1-20180720/XSA.csv\n",
      "mecab-ko-dic-2.1.1-20180720/Wikipedia.csv\n",
      "mecab-ko-dic-2.1.1-20180720/tools/\n",
      "mecab-ko-dic-2.1.1-20180720/tools/add-userdic.sh\n",
      "mecab-ko-dic-2.1.1-20180720/tools/mecab-bestn.sh\n",
      "mecab-ko-dic-2.1.1-20180720/tools/convert_for_using_store.sh\n",
      "mecab-ko-dic-2.1.1-20180720/user-dic/\n",
      "mecab-ko-dic-2.1.1-20180720/user-dic/nnp.csv\n",
      "mecab-ko-dic-2.1.1-20180720/user-dic/place.csv\n",
      "mecab-ko-dic-2.1.1-20180720/user-dic/person.csv\n",
      "mecab-ko-dic-2.1.1-20180720/user-dic/README.md\n",
      "mecab-ko-dic-2.1.1-20180720/NorthKorea.csv\n",
      "mecab-ko-dic-2.1.1-20180720/VX.csv\n",
      "mecab-ko-dic-2.1.1-20180720/right-id.def\n",
      "mecab-ko-dic-2.1.1-20180720/VA.csv\n",
      "mecab-ko-dic-2.1.1-20180720/char.def\n",
      "mecab-ko-dic-2.1.1-20180720/NEWS\n",
      "mecab-ko-dic-2.1.1-20180720/MM.csv\n",
      "mecab-ko-dic-2.1.1-20180720/ETN.csv\n",
      "mecab-ko-dic-2.1.1-20180720/AUTHORS\n",
      "mecab-ko-dic-2.1.1-20180720/Person.csv\n",
      "mecab-ko-dic-2.1.1-20180720/XR.csv\n",
      "mecab-ko-dic-2.1.1-20180720/VCN.csv\n",
      "Looking in current directory for macros.\n",
      "checking for a BSD-compatible install... /usr/bin/install -c\n",
      "checking whether build environment is sane... yes\n",
      "checking for a thread-safe mkdir -p... /bin/mkdir -p\n",
      "checking for gawk... no\n",
      "checking for mawk... mawk\n",
      "checking whether make sets $(MAKE)... yes\n",
      "checking whether make supports nested variables... yes\n",
      "checking for mecab-config... /usr/local/bin/mecab-config\n",
      "checking that generated files are newer than configure... done\n",
      "configure: creating ./config.status\n",
      "config.status: creating Makefile\n",
      "/usr/local/lib\n",
      "/usr/local/libexec/mecab/mecab-dict-index -d . -o . -f UTF-8 -t UTF-8\n",
      "reading ./unk.def ... 13\n",
      "emitting double-array:   7% |###                                        | \remitting double-array:  15% |######                                     | \remitting double-array:  23% |#########                                  | \remitting double-array:  30% |#############                              | \remitting double-array:  38% |################                           | \remitting double-array:  46% |###################                        | \remitting double-array:  53% |#######################                    | \remitting double-array:  61% |##########################                 | \remitting double-array:  69% |#############################              | \remitting double-array:  76% |#################################          | \remitting double-array:  84% |####################################       | \remitting double-array:  92% |#######################################    | \remitting double-array: 100% |###########################################| \n",
      "reading ./NNBC.csv ... 677\n",
      "reading ./Place-address.csv ... 19301\n",
      "reading ./NR.csv ... 482\n",
      "reading ./Symbol.csv ... 16\n",
      "reading ./CoinedWord.csv ... 148\n",
      "reading ./MAJ.csv ... 240\n",
      "reading ./MM.csv ... 453\n",
      "reading ./Person-actor.csv ... 99230\n",
      "reading ./Inflect.csv ... 44820\n",
      "reading ./XPN.csv ... 83\n",
      "reading ./Hanja.csv ... 125750\n",
      "reading ./EP.csv ... 51\n",
      "reading ./VA.csv ... 2360\n",
      "reading ./Foreign.csv ... 11690\n",
      "reading ./VCN.csv ... 7\n",
      "reading ./EF.csv ... 1820\n",
      "reading ./VV.csv ... 7331\n",
      "reading ./ETM.csv ... 133\n",
      "reading ./NNG.csv ... 208524\n",
      "reading ./Person.csv ... 196459\n",
      "reading ./VCP.csv ... 9\n",
      "reading ./XSV.csv ... 23\n",
      "reading ./Place-station.csv ... 1145\n",
      "reading ./MAG.csv ... 14242\n",
      "reading ./IC.csv ... 1305\n",
      "reading ./EC.csv ... 2547\n",
      "reading ./Preanalysis.csv ... 5\n",
      "reading ./Place.csv ... 30303\n",
      "reading ./ETN.csv ... 14\n",
      "reading ./NNP.csv ... 2371\n",
      "reading ./Wikipedia.csv ... 36762\n",
      "reading ./Group.csv ... 3176\n",
      "reading ./VX.csv ... 125\n",
      "reading ./XSA.csv ... 19\n",
      "reading ./NP.csv ... 342\n",
      "reading ./NorthKorea.csv ... 3\n",
      "reading ./XR.csv ... 3637\n",
      "reading ./J.csv ... 416\n",
      "reading ./XSN.csv ... 124\n",
      "reading ./NNB.csv ... 140\n",
      "emitting double-array:   0% |                                           | \remitting double-array:   1% |                                           | \remitting double-array:   2% |                                           | \remitting double-array:   3% |#                                          | \remitting double-array:   4% |#                                          | \remitting double-array:   5% |##                                         | \remitting double-array:   6% |##                                         | \remitting double-array:   7% |###                                        | \remitting double-array:   8% |###                                        | \remitting double-array:   9% |###                                        | \remitting double-array:  10% |####                                       | \remitting double-array:  11% |####                                       | \remitting double-array:  12% |#####                                      | \remitting double-array:  13% |#####                                      | \remitting double-array:  14% |######                                     | \remitting double-array:  15% |######                                     | \remitting double-array:  16% |######                                     | \remitting double-array:  17% |#######                                    | \remitting double-array:  18% |#######                                    | \remitting double-array:  19% |########                                   | \remitting double-array:  20% |########                                   | \remitting double-array:  21% |#########                                  | \remitting double-array:  22% |#########                                  | \remitting double-array:  23% |#########                                  | \remitting double-array:  24% |##########                                 | \remitting double-array:  25% |##########                                 | \remitting double-array:  26% |###########                                | \remitting double-array:  27% |###########                                | \remitting double-array:  28% |############                               | \remitting double-array:  29% |############                               | \remitting double-array:  30% |############                               | \remitting double-array:  31% |#############                              | \remitting double-array:  32% |#############                              | \remitting double-array:  33% |##############                             | \remitting double-array:  34% |##############                             | \remitting double-array:  35% |###############                            | \remitting double-array:  36% |###############                            | \remitting double-array:  37% |###############                            | \remitting double-array:  38% |################                           | \remitting double-array:  39% |################                           | \remitting double-array:  40% |#################                          | \remitting double-array:  41% |#################                          | \remitting double-array:  42% |##################                         | \remitting double-array:  43% |##################                         | \remitting double-array:  44% |##################                         | \remitting double-array:  45% |###################                        | \remitting double-array:  46% |###################                        | \remitting double-array:  47% |####################                       | \remitting double-array:  48% |####################                       | \remitting double-array:  49% |#####################                      | \remitting double-array:  50% |#####################                      | \remitting double-array:  51% |#####################                      | \remitting double-array:  52% |######################                     | \remitting double-array:  53% |######################                     | \remitting double-array:  54% |#######################                    | \remitting double-array:  55% |#######################                    | \remitting double-array:  56% |########################                   | \remitting double-array:  57% |########################                   | \remitting double-array:  58% |########################                   | \remitting double-array:  59% |#########################                  | \remitting double-array:  60% |#########################                  | \remitting double-array:  61% |##########################                 | \remitting double-array:  62% |##########################                 | \remitting double-array:  63% |###########################                | \remitting double-array:  64% |###########################                | \remitting double-array:  65% |###########################                | \remitting double-array:  66% |############################               | \remitting double-array:  67% |############################               | \remitting double-array:  68% |#############################              | \remitting double-array:  69% |#############################              | \remitting double-array:  70% |##############################             | \remitting double-array:  71% |##############################             | \remitting double-array:  72% |##############################             | \remitting double-array:  73% |###############################            | \remitting double-array:  74% |###############################            | \remitting double-array:  75% |################################           | \remitting double-array:  76% |################################           | \remitting double-array:  77% |#################################          | \remitting double-array:  78% |#################################          | \remitting double-array:  79% |#################################          | \remitting double-array:  80% |##################################         | \remitting double-array:  81% |##################################         | \remitting double-array:  82% |###################################        | \remitting double-array:  83% |###################################        | \remitting double-array:  84% |####################################       | \remitting double-array:  85% |####################################       | \remitting double-array:  86% |####################################       | \remitting double-array:  87% |#####################################      | \remitting double-array:  88% |#####################################      | \remitting double-array:  89% |######################################     | \remitting double-array:  90% |######################################     | \remitting double-array:  91% |#######################################    | \remitting double-array:  92% |#######################################    | \remitting double-array:  93% |#######################################    | \remitting double-array:  94% |########################################   | \remitting double-array:  95% |########################################   | \remitting double-array:  96% |#########################################  | \remitting double-array:  97% |#########################################  | \remitting double-array:  98% |########################################## | \remitting double-array:  99% |########################################## | \remitting double-array: 100% |###########################################| \n",
      "reading ./matrix.def ... 3822x2693\n",
      "emitting matrix      :   0% |                                           | \remitting matrix      :   1% |                                           | \remitting matrix      :   2% |                                           | \remitting matrix      :   3% |#                                          | \remitting matrix      :   4% |#                                          | \remitting matrix      :   5% |##                                         | \remitting matrix      :   6% |##                                         | \remitting matrix      :   7% |###                                        | \remitting matrix      :   8% |###                                        | \remitting matrix      :   9% |###                                        | \remitting matrix      :  10% |####                                       | \remitting matrix      :  11% |####                                       | \remitting matrix      :  12% |#####                                      | \remitting matrix      :  13% |#####                                      | \remitting matrix      :  14% |######                                     | \remitting matrix      :  15% |######                                     | \remitting matrix      :  16% |######                                     | \remitting matrix      :  17% |#######                                    | \remitting matrix      :  18% |#######                                    | \remitting matrix      :  19% |########                                   | \remitting matrix      :  20% |########                                   | \remitting matrix      :  21% |#########                                  | \remitting matrix      :  22% |#########                                  | \remitting matrix      :  23% |#########                                  | \remitting matrix      :  24% |##########                                 | \remitting matrix      :  25% |##########                                 | \remitting matrix      :  26% |###########                                | \remitting matrix      :  27% |###########                                | \remitting matrix      :  28% |############                               | \remitting matrix      :  29% |############                               | \remitting matrix      :  30% |############                               | \remitting matrix      :  31% |#############                              | \remitting matrix      :  32% |#############                              | \remitting matrix      :  33% |##############                             | \remitting matrix      :  34% |##############                             | \remitting matrix      :  35% |###############                            | \remitting matrix      :  36% |###############                            | \remitting matrix      :  37% |###############                            | \remitting matrix      :  38% |################                           | \remitting matrix      :  39% |################                           | \remitting matrix      :  40% |#################                          | \remitting matrix      :  41% |#################                          | \remitting matrix      :  42% |##################                         | \remitting matrix      :  43% |##################                         | \remitting matrix      :  44% |##################                         | \remitting matrix      :  45% |###################                        | \remitting matrix      :  46% |###################                        | \remitting matrix      :  47% |####################                       | \remitting matrix      :  48% |####################                       | \remitting matrix      :  49% |#####################                      | \remitting matrix      :  50% |#####################                      | \remitting matrix      :  51% |#####################                      | \remitting matrix      :  52% |######################                     | \remitting matrix      :  53% |######################                     | \remitting matrix      :  54% |#######################                    | \remitting matrix      :  55% |#######################                    | \remitting matrix      :  56% |########################                   | \remitting matrix      :  57% |########################                   | \remitting matrix      :  58% |########################                   | \remitting matrix      :  59% |#########################                  | \remitting matrix      :  60% |#########################                  | \remitting matrix      :  61% |##########################                 | \remitting matrix      :  62% |##########################                 | \remitting matrix      :  63% |###########################                | \remitting matrix      :  64% |###########################                | \remitting matrix      :  65% |###########################                | \remitting matrix      :  66% |############################               | \remitting matrix      :  67% |############################               | \remitting matrix      :  68% |#############################              | \remitting matrix      :  69% |#############################              | \remitting matrix      :  70% |##############################             | \remitting matrix      :  71% |##############################             | \remitting matrix      :  72% |##############################             | \remitting matrix      :  73% |###############################            | \remitting matrix      :  74% |###############################            | \remitting matrix      :  75% |################################           | \remitting matrix      :  76% |################################           | \remitting matrix      :  77% |#################################          | \remitting matrix      :  78% |#################################          | \remitting matrix      :  79% |#################################          | \remitting matrix      :  80% |##################################         | \remitting matrix      :  81% |##################################         | \remitting matrix      :  82% |###################################        | \remitting matrix      :  83% |###################################        | \remitting matrix      :  84% |####################################       | \remitting matrix      :  85% |####################################       | \remitting matrix      :  86% |####################################       | \remitting matrix      :  87% |#####################################      | \remitting matrix      :  88% |#####################################      | \remitting matrix      :  89% |######################################     | \remitting matrix      :  90% |######################################     | \remitting matrix      :  91% |#######################################    | \remitting matrix      :  92% |#######################################    | \remitting matrix      :  93% |#######################################    | \remitting matrix      :  94% |########################################   | \remitting matrix      :  95% |########################################   | \remitting matrix      :  96% |#########################################  | \remitting matrix      :  97% |#########################################  | \remitting matrix      :  98% |########################################## | \remitting matrix      :  99% |########################################## | \remitting matrix      : 100% |###########################################| \n",
      "\n",
      "done!\n",
      "echo To enable dictionary, rewrite /usr/local/etc/mecabrc as \\\"dicdir = /usr/local/lib/mecab/dic/mecab-ko-dic\\\"\n",
      "To enable dictionary, rewrite /usr/local/etc/mecabrc as \"dicdir = /usr/local/lib/mecab/dic/mecab-ko-dic\"\n",
      "make[1]: Entering directory '/tmp/mecab-ko-dic-2.1.1-20180720'\n",
      "make[1]: Nothing to be done for 'install-exec-am'.\n",
      " /bin/mkdir -p '/usr/local/lib/mecab/dic/mecab-ko-dic'\n",
      " /usr/bin/install -c -m 644 model.bin matrix.bin char.bin sys.dic unk.dic left-id.def right-id.def rewrite.def pos-id.def dicrc '/usr/local/lib/mecab/dic/mecab-ko-dic'\n",
      "make[1]: Leaving directory '/tmp/mecab-ko-dic-2.1.1-20180720'\n",
      "Install mecab-python\n",
      "/tmp /tmp/mecab-ko-dic-2.1.1-20180720\n",
      "/tmp/mecab-ko-dic-2.1.1-20180720\n",
      "Looking in indexes: https://pypi.org/simple, https://us-python.pkg.dev/colab-wheels/public/simple/\n",
      "Processing /tmp/mecab-python-0.996\n",
      "Building wheels for collected packages: mecab-python\n",
      "  Building wheel for mecab-python (setup.py): started\n",
      "  Building wheel for mecab-python (setup.py): finished with status 'done'\n",
      "  Created wheel for mecab-python: filename=mecab_python-0.996_ko_0.9.2-cp37-cp37m-linux_x86_64.whl size=141794 sha256=3a8d505cc5c9675e4edcd4381291c1a4243dbb6a0a50658bad1dcfab9998faba\n",
      "  Stored in directory: /root/.cache/pip/wheels/40/7b/9f/2922869bef86c3354ae7034f7a3647c573ee1997c2dad0290a\n",
      "Failed to build mecab-python\n",
      "Installing collected packages: mecab-python\n",
      "    Running setup.py install for mecab-python: started\n",
      "    Running setup.py install for mecab-python: finished with status 'done'\n",
      "Successfully installed mecab-python-0.996-ko-0.9.2\n",
      "Done.\n",
      "Looking in indexes: https://pypi.org/simple, https://us-python.pkg.dev/colab-wheels/public/simple/\n",
      "Processing /tmp/mecab-python-0.996\n",
      "Building wheels for collected packages: mecab-python\n",
      "  Building wheel for mecab-python (setup.py): started\n",
      "  Building wheel for mecab-python (setup.py): finished with status 'done'\n",
      "  Created wheel for mecab-python: filename=mecab_python-0.996_ko_0.9.2-cp37-cp37m-linux_x86_64.whl size=141808 sha256=0a08e4fb0dcf45084d1da240568063d83881315e3509cfc75f0180d8219ae9a9\n",
      "  Stored in directory: /root/.cache/pip/wheels/40/7b/9f/2922869bef86c3354ae7034f7a3647c573ee1997c2dad0290a\n",
      "Failed to build mecab-python\n",
      "Installing collected packages: mecab-python\n",
      "  Attempting uninstall: mecab-python\n",
      "    Found existing installation: mecab-python 0.996-ko-0.9.2\n",
      "    Uninstalling mecab-python-0.996-ko-0.9.2:\n",
      "      Successfully uninstalled mecab-python-0.996-ko-0.9.2\n",
      "    Running setup.py install for mecab-python: started\n",
      "    Running setup.py install for mecab-python: finished with status 'done'\n",
      "Successfully installed mecab-python-0.996-ko-0.9.2\n"
     ]
    },
    {
     "name": "stderr",
     "output_type": "stream",
     "text": [
      "bash: line 6: fg: no job control\n",
      "bash: line 8: fg: no job control\n",
      "debconf: unable to initialize frontend: Dialog\n",
      "debconf: (No usable dialog-like program is installed, so the dialog based frontend cannot be used. at /usr/share/perl5/Debconf/FrontEnd/Dialog.pm line 76, <> line 5.)\n",
      "debconf: falling back to frontend: Readline\n",
      "debconf: unable to initialize frontend: Readline\n",
      "debconf: (This frontend requires a controlling tty.)\n",
      "debconf: falling back to frontend: Teletype\n",
      "dpkg-preconfigure: unable to re-open stdin: \n",
      "  % Total    % Received % Xferd  Average Speed   Time    Time     Time  Current\n",
      "                                 Dload  Upload   Total   Spent    Left  Speed\n",
      "\r  0     0    0     0    0     0      0      0 --:--:-- --:--:-- --:--:--     0\r  0     0    0     0    0     0      0      0 --:--:-- --:--:-- --:--:--     0\n",
      "\r  0 1381k    0     0    0     0      0      0 --:--:-- --:--:-- --:--:--     0\r100 1381k  100 1381k    0     0  1250k      0  0:00:01  0:00:01 --:--:-- 3694k\n",
      "./configure: line 7378: /usr/bin/file: No such file or directory\n",
      "In file included from viterbi.cpp:14:0:\n",
      "param.h:30:13: warning: 'Target {anonymous}::lexical_cast(Source) [with Target = std::__cxx11::basic_string<char>; Source = std::__cxx11::basic_string<char>]' defined but not used [-Wunused-function]\n",
      " std::string lexical_cast<std::string, std::string>(std::string arg) {\n",
      "             ^~~~~~~~~~~~~~~~~~~~~~~~~~~~~~~~~~~~~~\n",
      "learner_tagger.cpp:25:7: warning: 'char* MeCab::{anonymous}::mystrdup(const string&)' defined but not used [-Wunused-function]\n",
      " char *mystrdup(const std::string &str) {\n",
      "       ^~~~~~~~\n",
      "ar: `u' modifier ignored since `D' is the default (see `U')\n",
      "./pos-id.def is not found. minimum setting is used\n",
      "./pos-id.def is not found. minimum setting is used\n",
      "./pos-id.def is not found. minimum setting is used\n",
      "./pos-id.def is not found. minimum setting is used\n",
      "./pos-id.def is not found. minimum setting is used\n",
      "./pos-id.def is not found. minimum setting is used\n",
      "./pos-id.def is not found. minimum setting is used\n",
      "./pos-id.def is not found. minimum setting is used\n",
      "./pos-id.def is not found. minimum setting is used\n",
      "./pos-id.def is not found. minimum setting is used\n",
      "./pos-id.def is not found. minimum setting is used\n",
      "./pos-id.def is not found. minimum setting is used\n",
      "./pos-id.def is not found. minimum setting is used\n",
      "./pos-id.def is not found. minimum setting is used\n",
      "seed/pos-id.def is not found. minimum setting is used\n",
      "seed/pos-id.def is not found. minimum setting is used\n",
      "model-ipadic.c1.0.f1.dic/pos-id.def is not found. minimum setting is used\n",
      "model-ipadic.c1.0.f1.dic/pos-id.def is not found. minimum setting is used\n",
      "  % Total    % Received % Xferd  Average Speed   Time    Time     Time  Current\n",
      "                                 Dload  Upload   Total   Spent    Left  Speed\n",
      "\r  0     0    0     0    0     0      0      0 --:--:-- --:--:-- --:--:--     0\r  0     0    0     0    0     0      0      0 --:--:-- --:--:-- --:--:--     0\n",
      "\r  0 47.4M    0 33267    0     0  36476      0  0:22:44 --:--:--  0:22:44 36476\r 53 47.4M   53 25.1M    0     0  13.2M      0  0:00:03  0:00:01  0:00:02 25.5M\r100 47.4M  100 47.4M    0     0  19.8M      0  0:00:02  0:00:02 --:--:-- 32.0M\n",
      "configure.ac:2: warning: AM_INIT_AUTOMAKE: two- and three-arguments forms are deprecated.  For more info, see:\n",
      "configure.ac:2: http://www.gnu.org/software/automake/manual/automake.html#Modernize-AM_005fINIT_005fAUTOMAKE-invocation\n",
      "/tmp/mecab-ko-dic-2.1.1-20180720/missing: Unknown `--is-lightweight' option\n",
      "Try `/tmp/mecab-ko-dic-2.1.1-20180720/missing --help' for more information\n",
      "configure: WARNING: 'missing' script is too old or missing\n",
      "/sbin/ldconfig.real: /usr/local/lib/python3.7/dist-packages/ideep4py/lib/libmkldnn.so.0 is not a symbolic link\n",
      "\n",
      "Cloning into 'mecab-python-0.996'...\n",
      "  DEPRECATION: A future pip version will change local packages to be built in-place without first copying to a temporary directory. We recommend you use --use-feature=in-tree-build to test your packages with this new behavior before it becomes the default.\n",
      "   pip 21.3 will remove support for this functionality. You can find discussion regarding this at https://github.com/pypa/pip/issues/7555.\n",
      "  WARNING: Built wheel for mecab-python is invalid: Metadata 1.2 mandates PEP 440 version, but '0.996-ko-0.9.2' is not\n",
      "  DEPRECATION: mecab-python was installed using the legacy 'setup.py install' method, because a wheel could not be built for it. A possible replacement is to fix the wheel build issue reported above. You can find discussion regarding this at https://github.com/pypa/pip/issues/8368.\n",
      "  DEPRECATION: A future pip version will change local packages to be built in-place without first copying to a temporary directory. We recommend you use --use-feature=in-tree-build to test your packages with this new behavior before it becomes the default.\n",
      "   pip 21.3 will remove support for this functionality. You can find discussion regarding this at https://github.com/pypa/pip/issues/7555.\n",
      "  WARNING: Built wheel for mecab-python is invalid: Metadata 1.2 mandates PEP 440 version, but '0.996-ko-0.9.2' is not\n",
      "  DEPRECATION: mecab-python was installed using the legacy 'setup.py install' method, because a wheel could not be built for it. A possible replacement is to fix the wheel build issue reported above. You can find discussion regarding this at https://github.com/pypa/pip/issues/8368.\n"
     ]
    }
   ],
   "source": [
    "# 참고: Colab 에 konlpy 와 mecab 설치\n",
    "# 1. bash 셀로 명령어를 입력하여 설치\n",
    "%%bash\n",
    "apt-get update\n",
    "apt-get install g++ openjdk-8-jdk python-dev python3-dev\n",
    "pip3 install JPype1\n",
    "pip3 install konlpy\n",
    "# 2. jdk 환경 변수 설정\n",
    "%env JAVA_HOME \"/usr/lib/jvm/java-8-openjdk-amd64\"\n",
    "# 3. mecab 설치\n",
    "%%bash\n",
    "bash <(curl -s https://raw.githubusercontent.com/konlpy/konlpy/master/scripts/mecab.sh)\n",
    "pip3 install /tmp/mecab-python-0.996"
   ]
  },
  {
   "cell_type": "code",
   "execution_count": null,
   "id": "PP_hVZTL26z7",
   "metadata": {
    "colab": {
     "base_uri": "https://localhost:8080/"
    },
    "executionInfo": {
     "elapsed": 19918,
     "status": "ok",
     "timestamp": 1654348652169,
     "user": {
      "displayName": "changhwan lee",
      "userId": "04303211996600941657"
     },
     "user_tz": -540
    },
    "id": "PP_hVZTL26z7",
    "outputId": "d46b29b7-f566-45e2-80c5-83459aacf30e"
   },
   "outputs": [
    {
     "name": "stdout",
     "output_type": "stream",
     "text": [
      "Mounted at /content/drive\n"
     ]
    }
   ],
   "source": [
    "from google.colab import drive\n",
    "drive.mount('/content/drive')"
   ]
  },
  {
   "cell_type": "markdown",
   "id": "2502ed61",
   "metadata": {
    "id": "2502ed61"
   },
   "source": [
    "### 사용할 라이브러리 버전"
   ]
  },
  {
   "cell_type": "code",
   "execution_count": null,
   "id": "6a96f88b",
   "metadata": {
    "colab": {
     "base_uri": "https://localhost:8080/"
    },
    "executionInfo": {
     "elapsed": 2614,
     "status": "ok",
     "timestamp": 1654350065184,
     "user": {
      "displayName": "changhwan lee",
      "userId": "04303211996600941657"
     },
     "user_tz": -540
    },
    "id": "6a96f88b",
    "outputId": "0299f244-89df-4a63-8ad4-e6183bf782e4"
   },
   "outputs": [
    {
     "name": "stdout",
     "output_type": "stream",
     "text": [
      "1.3.5\n",
      "0.6.0\n",
      "3.8.3\n"
     ]
    }
   ],
   "source": [
    "import pandas\n",
    "import konlpy\n",
    "import gensim\n",
    "\n",
    "import pandas as pd\n",
    "\n",
    "from konlpy.tag import Mecab\n",
    "import numpy as np\n",
    "from collections import Counter\n",
    "\n",
    "import tensorflow as tf\n",
    "import os\n",
    "\n",
    "import matplotlib.pyplot as plt\n",
    "\n",
    "print(pandas.__version__)\n",
    "print(konlpy.__version__)\n",
    "print(gensim.__version__)"
   ]
  },
  {
   "cell_type": "markdown",
   "id": "19c81a06",
   "metadata": {
    "id": "19c81a06"
   },
   "source": [
    "### 1) 데이터 준비와 확인"
   ]
  },
  {
   "cell_type": "code",
   "execution_count": null,
   "id": "28dfa0c3",
   "metadata": {
    "colab": {
     "base_uri": "https://localhost:8080/",
     "height": 395
    },
    "executionInfo": {
     "elapsed": 1093,
     "status": "ok",
     "timestamp": 1654349988647,
     "user": {
      "displayName": "changhwan lee",
      "userId": "04303211996600941657"
     },
     "user_tz": -540
    },
    "id": "28dfa0c3",
    "outputId": "84382db1-1972-4884-cac7-c27bcb39d9bd"
   },
   "outputs": [
    {
     "data": {
      "text/html": [
       "\n",
       "  <div id=\"df-02dc1787-55f0-494c-a78b-372f775fe0af\">\n",
       "    <div class=\"colab-df-container\">\n",
       "      <div>\n",
       "<style scoped>\n",
       "    .dataframe tbody tr th:only-of-type {\n",
       "        vertical-align: middle;\n",
       "    }\n",
       "\n",
       "    .dataframe tbody tr th {\n",
       "        vertical-align: top;\n",
       "    }\n",
       "\n",
       "    .dataframe thead th {\n",
       "        text-align: right;\n",
       "    }\n",
       "</style>\n",
       "<table border=\"1\" class=\"dataframe\">\n",
       "  <thead>\n",
       "    <tr style=\"text-align: right;\">\n",
       "      <th></th>\n",
       "      <th>id</th>\n",
       "      <th>document</th>\n",
       "      <th>label</th>\n",
       "    </tr>\n",
       "  </thead>\n",
       "  <tbody>\n",
       "    <tr>\n",
       "      <th>0</th>\n",
       "      <td>9976970</td>\n",
       "      <td>아 더빙.. 진짜 짜증나네요 목소리</td>\n",
       "      <td>0</td>\n",
       "    </tr>\n",
       "    <tr>\n",
       "      <th>1</th>\n",
       "      <td>3819312</td>\n",
       "      <td>흠...포스터보고 초딩영화줄....오버연기조차 가볍지 않구나</td>\n",
       "      <td>1</td>\n",
       "    </tr>\n",
       "    <tr>\n",
       "      <th>2</th>\n",
       "      <td>10265843</td>\n",
       "      <td>너무재밓었다그래서보는것을추천한다</td>\n",
       "      <td>0</td>\n",
       "    </tr>\n",
       "    <tr>\n",
       "      <th>3</th>\n",
       "      <td>9045019</td>\n",
       "      <td>교도소 이야기구먼 ..솔직히 재미는 없다..평점 조정</td>\n",
       "      <td>0</td>\n",
       "    </tr>\n",
       "    <tr>\n",
       "      <th>4</th>\n",
       "      <td>6483659</td>\n",
       "      <td>사이몬페그의 익살스런 연기가 돋보였던 영화!스파이더맨에서 늙어보이기만 했던 커스틴 ...</td>\n",
       "      <td>1</td>\n",
       "    </tr>\n",
       "  </tbody>\n",
       "</table>\n",
       "</div>\n",
       "      <button class=\"colab-df-convert\" onclick=\"convertToInteractive('df-02dc1787-55f0-494c-a78b-372f775fe0af')\"\n",
       "              title=\"Convert this dataframe to an interactive table.\"\n",
       "              style=\"display:none;\">\n",
       "        \n",
       "  <svg xmlns=\"http://www.w3.org/2000/svg\" height=\"24px\"viewBox=\"0 0 24 24\"\n",
       "       width=\"24px\">\n",
       "    <path d=\"M0 0h24v24H0V0z\" fill=\"none\"/>\n",
       "    <path d=\"M18.56 5.44l.94 2.06.94-2.06 2.06-.94-2.06-.94-.94-2.06-.94 2.06-2.06.94zm-11 1L8.5 8.5l.94-2.06 2.06-.94-2.06-.94L8.5 2.5l-.94 2.06-2.06.94zm10 10l.94 2.06.94-2.06 2.06-.94-2.06-.94-.94-2.06-.94 2.06-2.06.94z\"/><path d=\"M17.41 7.96l-1.37-1.37c-.4-.4-.92-.59-1.43-.59-.52 0-1.04.2-1.43.59L10.3 9.45l-7.72 7.72c-.78.78-.78 2.05 0 2.83L4 21.41c.39.39.9.59 1.41.59.51 0 1.02-.2 1.41-.59l7.78-7.78 2.81-2.81c.8-.78.8-2.07 0-2.86zM5.41 20L4 18.59l7.72-7.72 1.47 1.35L5.41 20z\"/>\n",
       "  </svg>\n",
       "      </button>\n",
       "      \n",
       "  <style>\n",
       "    .colab-df-container {\n",
       "      display:flex;\n",
       "      flex-wrap:wrap;\n",
       "      gap: 12px;\n",
       "    }\n",
       "\n",
       "    .colab-df-convert {\n",
       "      background-color: #E8F0FE;\n",
       "      border: none;\n",
       "      border-radius: 50%;\n",
       "      cursor: pointer;\n",
       "      display: none;\n",
       "      fill: #1967D2;\n",
       "      height: 32px;\n",
       "      padding: 0 0 0 0;\n",
       "      width: 32px;\n",
       "    }\n",
       "\n",
       "    .colab-df-convert:hover {\n",
       "      background-color: #E2EBFA;\n",
       "      box-shadow: 0px 1px 2px rgba(60, 64, 67, 0.3), 0px 1px 3px 1px rgba(60, 64, 67, 0.15);\n",
       "      fill: #174EA6;\n",
       "    }\n",
       "\n",
       "    [theme=dark] .colab-df-convert {\n",
       "      background-color: #3B4455;\n",
       "      fill: #D2E3FC;\n",
       "    }\n",
       "\n",
       "    [theme=dark] .colab-df-convert:hover {\n",
       "      background-color: #434B5C;\n",
       "      box-shadow: 0px 1px 3px 1px rgba(0, 0, 0, 0.15);\n",
       "      filter: drop-shadow(0px 1px 2px rgba(0, 0, 0, 0.3));\n",
       "      fill: #FFFFFF;\n",
       "    }\n",
       "  </style>\n",
       "\n",
       "      <script>\n",
       "        const buttonEl =\n",
       "          document.querySelector('#df-02dc1787-55f0-494c-a78b-372f775fe0af button.colab-df-convert');\n",
       "        buttonEl.style.display =\n",
       "          google.colab.kernel.accessAllowed ? 'block' : 'none';\n",
       "\n",
       "        async function convertToInteractive(key) {\n",
       "          const element = document.querySelector('#df-02dc1787-55f0-494c-a78b-372f775fe0af');\n",
       "          const dataTable =\n",
       "            await google.colab.kernel.invokeFunction('convertToInteractive',\n",
       "                                                     [key], {});\n",
       "          if (!dataTable) return;\n",
       "\n",
       "          const docLinkHtml = 'Like what you see? Visit the ' +\n",
       "            '<a target=\"_blank\" href=https://colab.research.google.com/notebooks/data_table.ipynb>data table notebook</a>'\n",
       "            + ' to learn more about interactive tables.';\n",
       "          element.innerHTML = '';\n",
       "          dataTable['output_type'] = 'display_data';\n",
       "          await google.colab.output.renderOutput(dataTable, element);\n",
       "          const docLink = document.createElement('div');\n",
       "          docLink.innerHTML = docLinkHtml;\n",
       "          element.appendChild(docLink);\n",
       "        }\n",
       "      </script>\n",
       "    </div>\n",
       "  </div>\n",
       "  "
      ],
      "text/plain": [
       "         id                                           document  label\n",
       "0   9976970                                아 더빙.. 진짜 짜증나네요 목소리      0\n",
       "1   3819312                  흠...포스터보고 초딩영화줄....오버연기조차 가볍지 않구나      1\n",
       "2  10265843                                  너무재밓었다그래서보는것을추천한다      0\n",
       "3   9045019                      교도소 이야기구먼 ..솔직히 재미는 없다..평점 조정      0\n",
       "4   6483659  사이몬페그의 익살스런 연기가 돋보였던 영화!스파이더맨에서 늙어보이기만 했던 커스틴 ...      1"
      ]
     },
     "metadata": {},
     "output_type": "display_data"
    },
    {
     "data": {
      "text/html": [
       "\n",
       "  <div id=\"df-84805d53-329c-4c52-81ae-69d453ceaeaa\">\n",
       "    <div class=\"colab-df-container\">\n",
       "      <div>\n",
       "<style scoped>\n",
       "    .dataframe tbody tr th:only-of-type {\n",
       "        vertical-align: middle;\n",
       "    }\n",
       "\n",
       "    .dataframe tbody tr th {\n",
       "        vertical-align: top;\n",
       "    }\n",
       "\n",
       "    .dataframe thead th {\n",
       "        text-align: right;\n",
       "    }\n",
       "</style>\n",
       "<table border=\"1\" class=\"dataframe\">\n",
       "  <thead>\n",
       "    <tr style=\"text-align: right;\">\n",
       "      <th></th>\n",
       "      <th>id</th>\n",
       "      <th>document</th>\n",
       "      <th>label</th>\n",
       "    </tr>\n",
       "  </thead>\n",
       "  <tbody>\n",
       "    <tr>\n",
       "      <th>0</th>\n",
       "      <td>6270596</td>\n",
       "      <td>굳 ㅋ</td>\n",
       "      <td>1</td>\n",
       "    </tr>\n",
       "    <tr>\n",
       "      <th>1</th>\n",
       "      <td>9274899</td>\n",
       "      <td>GDNTOPCLASSINTHECLUB</td>\n",
       "      <td>0</td>\n",
       "    </tr>\n",
       "    <tr>\n",
       "      <th>2</th>\n",
       "      <td>8544678</td>\n",
       "      <td>뭐야 이 평점들은.... 나쁘진 않지만 10점 짜리는 더더욱 아니잖아</td>\n",
       "      <td>0</td>\n",
       "    </tr>\n",
       "    <tr>\n",
       "      <th>3</th>\n",
       "      <td>6825595</td>\n",
       "      <td>지루하지는 않은데 완전 막장임... 돈주고 보기에는....</td>\n",
       "      <td>0</td>\n",
       "    </tr>\n",
       "    <tr>\n",
       "      <th>4</th>\n",
       "      <td>6723715</td>\n",
       "      <td>3D만 아니었어도 별 다섯 개 줬을텐데.. 왜 3D로 나와서 제 심기를 불편하게 하죠??</td>\n",
       "      <td>0</td>\n",
       "    </tr>\n",
       "  </tbody>\n",
       "</table>\n",
       "</div>\n",
       "      <button class=\"colab-df-convert\" onclick=\"convertToInteractive('df-84805d53-329c-4c52-81ae-69d453ceaeaa')\"\n",
       "              title=\"Convert this dataframe to an interactive table.\"\n",
       "              style=\"display:none;\">\n",
       "        \n",
       "  <svg xmlns=\"http://www.w3.org/2000/svg\" height=\"24px\"viewBox=\"0 0 24 24\"\n",
       "       width=\"24px\">\n",
       "    <path d=\"M0 0h24v24H0V0z\" fill=\"none\"/>\n",
       "    <path d=\"M18.56 5.44l.94 2.06.94-2.06 2.06-.94-2.06-.94-.94-2.06-.94 2.06-2.06.94zm-11 1L8.5 8.5l.94-2.06 2.06-.94-2.06-.94L8.5 2.5l-.94 2.06-2.06.94zm10 10l.94 2.06.94-2.06 2.06-.94-2.06-.94-.94-2.06-.94 2.06-2.06.94z\"/><path d=\"M17.41 7.96l-1.37-1.37c-.4-.4-.92-.59-1.43-.59-.52 0-1.04.2-1.43.59L10.3 9.45l-7.72 7.72c-.78.78-.78 2.05 0 2.83L4 21.41c.39.39.9.59 1.41.59.51 0 1.02-.2 1.41-.59l7.78-7.78 2.81-2.81c.8-.78.8-2.07 0-2.86zM5.41 20L4 18.59l7.72-7.72 1.47 1.35L5.41 20z\"/>\n",
       "  </svg>\n",
       "      </button>\n",
       "      \n",
       "  <style>\n",
       "    .colab-df-container {\n",
       "      display:flex;\n",
       "      flex-wrap:wrap;\n",
       "      gap: 12px;\n",
       "    }\n",
       "\n",
       "    .colab-df-convert {\n",
       "      background-color: #E8F0FE;\n",
       "      border: none;\n",
       "      border-radius: 50%;\n",
       "      cursor: pointer;\n",
       "      display: none;\n",
       "      fill: #1967D2;\n",
       "      height: 32px;\n",
       "      padding: 0 0 0 0;\n",
       "      width: 32px;\n",
       "    }\n",
       "\n",
       "    .colab-df-convert:hover {\n",
       "      background-color: #E2EBFA;\n",
       "      box-shadow: 0px 1px 2px rgba(60, 64, 67, 0.3), 0px 1px 3px 1px rgba(60, 64, 67, 0.15);\n",
       "      fill: #174EA6;\n",
       "    }\n",
       "\n",
       "    [theme=dark] .colab-df-convert {\n",
       "      background-color: #3B4455;\n",
       "      fill: #D2E3FC;\n",
       "    }\n",
       "\n",
       "    [theme=dark] .colab-df-convert:hover {\n",
       "      background-color: #434B5C;\n",
       "      box-shadow: 0px 1px 3px 1px rgba(0, 0, 0, 0.15);\n",
       "      filter: drop-shadow(0px 1px 2px rgba(0, 0, 0, 0.3));\n",
       "      fill: #FFFFFF;\n",
       "    }\n",
       "  </style>\n",
       "\n",
       "      <script>\n",
       "        const buttonEl =\n",
       "          document.querySelector('#df-84805d53-329c-4c52-81ae-69d453ceaeaa button.colab-df-convert');\n",
       "        buttonEl.style.display =\n",
       "          google.colab.kernel.accessAllowed ? 'block' : 'none';\n",
       "\n",
       "        async function convertToInteractive(key) {\n",
       "          const element = document.querySelector('#df-84805d53-329c-4c52-81ae-69d453ceaeaa');\n",
       "          const dataTable =\n",
       "            await google.colab.kernel.invokeFunction('convertToInteractive',\n",
       "                                                     [key], {});\n",
       "          if (!dataTable) return;\n",
       "\n",
       "          const docLinkHtml = 'Like what you see? Visit the ' +\n",
       "            '<a target=\"_blank\" href=https://colab.research.google.com/notebooks/data_table.ipynb>data table notebook</a>'\n",
       "            + ' to learn more about interactive tables.';\n",
       "          element.innerHTML = '';\n",
       "          dataTable['output_type'] = 'display_data';\n",
       "          await google.colab.output.renderOutput(dataTable, element);\n",
       "          const docLink = document.createElement('div');\n",
       "          docLink.innerHTML = docLinkHtml;\n",
       "          element.appendChild(docLink);\n",
       "        }\n",
       "      </script>\n",
       "    </div>\n",
       "  </div>\n",
       "  "
      ],
      "text/plain": [
       "        id                                           document  label\n",
       "0  6270596                                                굳 ㅋ      1\n",
       "1  9274899                               GDNTOPCLASSINTHECLUB      0\n",
       "2  8544678             뭐야 이 평점들은.... 나쁘진 않지만 10점 짜리는 더더욱 아니잖아      0\n",
       "3  6825595                   지루하지는 않은데 완전 막장임... 돈주고 보기에는....      0\n",
       "4  6723715  3D만 아니었어도 별 다섯 개 줬을텐데.. 왜 3D로 나와서 제 심기를 불편하게 하죠??      0"
      ]
     },
     "metadata": {},
     "output_type": "display_data"
    }
   ],
   "source": [
    "import pandas as pd\n",
    "\n",
    "# 데이터를 읽어봅시다. \n",
    "train_data = pd.read_table('/content/drive/MyDrive/LMS/E_09/ratings_train.txt')\n",
    "test_data = pd.read_table('/content/drive/MyDrive/LMS/E_09/ratings_test.txt')\n",
    "\n",
    "display(train_data.head())\n",
    "display(test_data.head())"
   ]
  },
  {
   "cell_type": "markdown",
   "id": "85943c19",
   "metadata": {
    "id": "85943c19"
   },
   "source": [
    "### 2) data_loader 구성\n",
    "\n",
    "nsmc 데이터셋은 전혀 가공되지 않은 텍스트 파일로 이루어져 있음. 자신만의 data_loader를 만들어 보는 것   \n",
    "data_loader 안에서는 다음 작업을 수행\n",
    "\n",
    " * 데이터의 중복 제거\n",
    " * NaN 결측치 제거\n",
    " * 한국어 토크나이저로 토큰화\n",
    " * 불용어(Stopwords) 제거\n",
    " * 사전word_to_index 구성\n",
    " * 텍스트 스트링을 사전 인덱스 스트링으로 변환\n",
    " * X_train, y_train, X_test, y_test, word_to_index 리턴"
   ]
  },
  {
   "cell_type": "code",
   "execution_count": null,
   "id": "d9be3ee1",
   "metadata": {
    "id": "d9be3ee1"
   },
   "outputs": [],
   "source": [
    "from konlpy.tag import Mecab\n",
    "import numpy as np\n",
    "from collections import Counter\n",
    "\n",
    "tokenizer = Mecab()\n",
    "stopwords = ['의','가','이','은','들','는','좀','잘','걍','과','도','를','으로','자','에','와','한','하다']\n",
    "\n",
    "def load_data(train_data, test_data, num_words=10000):\n",
    "    train_data.drop_duplicates(subset=['document'], inplace=True)\n",
    "    train_data = train_data.dropna(how = 'any') \n",
    "    test_data.drop_duplicates(subset=['document'], inplace=True)\n",
    "    test_data = test_data.dropna(how = 'any') \n",
    "    \n",
    "    X_train = []\n",
    "    for sentence in train_data['document']:\n",
    "        temp_X = tokenizer.morphs(sentence) # 토큰화\n",
    "        temp_X = [word for word in temp_X if not word in stopwords] # 불용어 제거\n",
    "        X_train.append(temp_X)\n",
    "\n",
    "    X_test = []\n",
    "    for sentence in test_data['document']:\n",
    "        temp_X = tokenizer.morphs(sentence) # 토큰화\n",
    "        temp_X = [word for word in temp_X if not word in stopwords] # 불용어 제거\n",
    "        X_test.append(temp_X)\n",
    "    \n",
    "    words = np.concatenate(X_train).tolist()\n",
    "    counter = Counter(words)\n",
    "    counter = counter.most_common(10000-4)\n",
    "    vocab = ['<PAD>', '<BOS>', '<UNK>', '<UNUSED>'] + [key for key, _ in counter]\n",
    "    word_to_index = {word:index for index, word in enumerate(vocab)}\n",
    "        \n",
    "    def wordlist_to_indexlist(wordlist):\n",
    "        return [word_to_index[word] if word in word_to_index else word_to_index['<UNK>'] for word in wordlist]\n",
    "        \n",
    "    X_train = list(map(wordlist_to_indexlist, X_train))\n",
    "    X_test = list(map(wordlist_to_indexlist, X_test))\n",
    "        \n",
    "    return X_train, np.array(list(train_data['label'])), X_test, np.array(list(test_data['label'])), word_to_index\n",
    "    \n",
    "X_train, y_train, X_test, y_test, word_to_index = load_data(train_data, test_data) "
   ]
  },
  {
   "cell_type": "code",
   "execution_count": null,
   "id": "f18f7e9c",
   "metadata": {
    "id": "f18f7e9c"
   },
   "outputs": [],
   "source": [
    "index_to_word = {index:word for word, index in word_to_index.items()}"
   ]
  },
  {
   "cell_type": "markdown",
   "id": "89d9149d",
   "metadata": {
    "id": "89d9149d"
   },
   "source": [
    "### 3) 모델 구성을 위한 데이터 분석 및 가공\n",
    "\n",
    " * 데이터셋 내 문장 길이 분포\n",
    " * 적절한 최대 문장 길이 지정\n",
    " * keras.preprocessing.sequence.pad_sequences 을 활용한 패딩 추가"
   ]
  },
  {
   "cell_type": "markdown",
   "id": "e139f597",
   "metadata": {
    "id": "e139f597"
   },
   "source": [
    "#### 변환 함수구성"
   ]
  },
  {
   "cell_type": "code",
   "execution_count": null,
   "id": "d2d429bc",
   "metadata": {
    "id": "d2d429bc"
   },
   "outputs": [],
   "source": [
    "# 문장 1개를 활용할 딕셔너리와 함께 주면, 단어 인덱스 리스트 벡터로 변환해 주는 함수입니다. \n",
    "# 단, 모든 문장은 <BOS>로 시작하는 것으로 합니다. \n",
    "def get_encoded_sentence(sentence, word_to_index):\n",
    "    return [word_to_index['<BOS>']]+[word_to_index[word] if word in word_to_index else word_to_index['<UNK>'] for word in sentence.split()]\n",
    "\n",
    "# 여러 개의 문장 리스트를 한꺼번에 단어 인덱스 리스트 벡터로 encode해 주는 함수입니다. \n",
    "def get_encoded_sentences(sentences, word_to_index):\n",
    "    return [get_encoded_sentence(sentence, word_to_index) for sentence in sentences]\n",
    "\n",
    "# 숫자 벡터로 encode된 문장을 원래대로 decode하는 함수입니다. \n",
    "def get_decoded_sentence(encoded_sentence, index_to_word):\n",
    "    return ' '.join(index_to_word[index] if index in index_to_word else '<UNK>' for index in encoded_sentence[1:])  #[1:]를 통해 <BOS>를 제외\n",
    "\n",
    "# 여러 개의 숫자 벡터로 encode된 문장을 한꺼번에 원래대로 decode하는 함수입니다. \n",
    "def get_decoded_sentences(encoded_sentences, index_to_word):\n",
    "    return [get_decoded_sentence(encoded_sentence, index_to_word) for encoded_sentence in encoded_sentences]"
   ]
  },
  {
   "cell_type": "markdown",
   "id": "028a9f64",
   "metadata": {
    "id": "028a9f64"
   },
   "source": [
    "#### 데이터셋 내 문장 길이 분포"
   ]
  },
  {
   "cell_type": "code",
   "execution_count": null,
   "id": "de450970",
   "metadata": {
    "colab": {
     "base_uri": "https://localhost:8080/"
    },
    "executionInfo": {
     "elapsed": 436,
     "status": "ok",
     "timestamp": 1654350039590,
     "user": {
      "displayName": "changhwan lee",
      "userId": "04303211996600941657"
     },
     "user_tz": -540
    },
    "id": "de450970",
    "outputId": "d9832f2e-0e17-4c67-cd4a-a04932ace39a"
   },
   "outputs": [
    {
     "name": "stdout",
     "output_type": "stream",
     "text": [
      "[32, 74, 919, 4, 4, 39, 228, 20, 33, 748]\n",
      "라벨:  0\n",
      "1번째 리뷰 문장 길이:  10\n",
      "2번째 리뷰 문장 길이:  17\n"
     ]
    }
   ],
   "source": [
    "print(X_train[0])  # 1번째 리뷰데이터\n",
    "print('라벨: ', y_train[0])  # 1번째 리뷰데이터의 라벨\n",
    "\n",
    "print('1번째 리뷰 문장 길이: ', len(X_train[0]))\n",
    "print('2번째 리뷰 문장 길이: ', len(X_train[1]))"
   ]
  },
  {
   "cell_type": "markdown",
   "id": "77bacfef",
   "metadata": {
    "id": "77bacfef"
   },
   "source": [
    "#### 적절한 최대 문장 길이 지정"
   ]
  },
  {
   "cell_type": "code",
   "execution_count": null,
   "id": "1664b041",
   "metadata": {
    "colab": {
     "base_uri": "https://localhost:8080/"
    },
    "executionInfo": {
     "elapsed": 385,
     "status": "ok",
     "timestamp": 1654350042434,
     "user": {
      "displayName": "changhwan lee",
      "userId": "04303211996600941657"
     },
     "user_tz": -540
    },
    "id": "1664b041",
    "outputId": "e898618c-68c8-48d7-b693-a08d66395024"
   },
   "outputs": [
    {
     "name": "stdout",
     "output_type": "stream",
     "text": [
      "문장길이 평균 :  15.969376315021577\n",
      "문장길이 최대 :  116\n",
      "문장길이 표준편차 :  12.843535456326455\n",
      "pad_sequences maxlen :  41\n",
      "전체 문장의 0.9342988343341575%가 maxlen 설정값 이내에 포함됩니다. \n"
     ]
    }
   ],
   "source": [
    "total_data_text = list(X_train) + list(X_test)\n",
    "# 텍스트데이터 문장길이의 리스트를 생성한 후\n",
    "num_tokens = [len(tokens) for tokens in total_data_text]\n",
    "num_tokens = np.array(num_tokens)\n",
    "# 문장길이의 평균값, 최대값, 표준편차를 계산해 본다. \n",
    "print('문장길이 평균 : ', np.mean(num_tokens))\n",
    "print('문장길이 최대 : ', np.max(num_tokens))\n",
    "print('문장길이 표준편차 : ', np.std(num_tokens))\n",
    "\n",
    "# 최대 길이를 (평균 + 2*표준편차)로 한다면,  \n",
    "max_tokens = np.mean(num_tokens) + 2 * np.std(num_tokens)\n",
    "maxlen = int(max_tokens)\n",
    "print('pad_sequences maxlen : ', maxlen)\n",
    "print('전체 문장의 {}%가 maxlen 설정값 이내에 포함됩니다. '.format(np.sum(num_tokens < max_tokens) / len(num_tokens)))"
   ]
  },
  {
   "cell_type": "markdown",
   "id": "df243e2f",
   "metadata": {
    "id": "df243e2f"
   },
   "source": [
    "#### keras.preprocessing.sequence.pad_sequences 을 활용한 패딩 추가"
   ]
  },
  {
   "cell_type": "code",
   "execution_count": null,
   "id": "31e36e36",
   "metadata": {
    "colab": {
     "base_uri": "https://localhost:8080/"
    },
    "executionInfo": {
     "elapsed": 1171,
     "status": "ok",
     "timestamp": 1654350076265,
     "user": {
      "displayName": "changhwan lee",
      "userId": "04303211996600941657"
     },
     "user_tz": -540
    },
    "id": "31e36e36",
    "outputId": "365482ef-8ff7-4f04-c7fa-659f8c3e2d46"
   },
   "outputs": [
    {
     "name": "stdout",
     "output_type": "stream",
     "text": [
      "(146182, 41)\n",
      "(49157, 41)\n"
     ]
    }
   ],
   "source": [
    "# 짧은 문장 앞(pre)에 패딩 추가. post보다 pre가 효율이 더 좋음!\n",
    "X_train = tf.keras.preprocessing.sequence.pad_sequences(X_train,\n",
    "                                                        value=word_to_index[\"<PAD>\"],\n",
    "                                                        padding='pre', # 혹은 'post'\n",
    "                                                        maxlen=maxlen)\n",
    "\n",
    "X_test = tf.keras.preprocessing.sequence.pad_sequences(X_test,\n",
    "                                                       value=word_to_index[\"<PAD>\"],\n",
    "                                                       padding='pre', # 혹은 'post'\n",
    "                                                       maxlen=maxlen)\n",
    "\n",
    "print(X_train.shape)  # (146182, 41)\n",
    "print(X_test.shape)  # (49157, 41)"
   ]
  },
  {
   "cell_type": "markdown",
   "id": "56aefd12",
   "metadata": {
    "id": "56aefd12"
   },
   "source": [
    "### 4) 모델 구성 및 validation set 구성\n",
    "\n",
    " * 모델은 3가지 이상 다양하게 구성하여 실험해 보세요."
   ]
  },
  {
   "cell_type": "code",
   "execution_count": null,
   "id": "b6b8287b",
   "metadata": {
    "id": "b6b8287b"
   },
   "outputs": [],
   "source": [
    "# 파라메터\n",
    "vocab_size = len(word_to_index)  # 어휘 사전의 크기: 10000개 단어\n",
    "word_vector_dim = 200   # 단어 하나를 표현하는 임베딩 벡터의 차원 수입니다. (변경 가능한 하이퍼 파라미터)"
   ]
  },
  {
   "cell_type": "markdown",
   "id": "bb03e0ab",
   "metadata": {
    "id": "bb03e0ab"
   },
   "source": [
    "### 모델1: LSTM 모델"
   ]
  },
  {
   "cell_type": "code",
   "execution_count": null,
   "id": "b9436f5e",
   "metadata": {
    "colab": {
     "base_uri": "https://localhost:8080/"
    },
    "executionInfo": {
     "elapsed": 6852,
     "status": "ok",
     "timestamp": 1654349251006,
     "user": {
      "displayName": "changhwan lee",
      "userId": "04303211996600941657"
     },
     "user_tz": -540
    },
    "id": "b9436f5e",
    "outputId": "d2479874-3ead-4fa7-d65f-dbf8f3a5ce8e"
   },
   "outputs": [
    {
     "name": "stdout",
     "output_type": "stream",
     "text": [
      "Model: \"sequential\"\n",
      "_________________________________________________________________\n",
      " Layer (type)                Output Shape              Param #   \n",
      "=================================================================\n",
      " embedding (Embedding)       (None, None, 200)         2000000   \n",
      "                                                                 \n",
      " lstm (LSTM)                 (None, 8)                 6688      \n",
      "                                                                 \n",
      " dense (Dense)               (None, 8)                 72        \n",
      "                                                                 \n",
      " dense_1 (Dense)             (None, 1)                 9         \n",
      "                                                                 \n",
      "=================================================================\n",
      "Total params: 2,006,769\n",
      "Trainable params: 2,006,769\n",
      "Non-trainable params: 0\n",
      "_________________________________________________________________\n"
     ]
    }
   ],
   "source": [
    "# 모델1: LSTM 모델\n",
    "\n",
    "model_lstm = tf.keras.Sequential()\n",
    "model_lstm.add(tf.keras.layers.Embedding(vocab_size, word_vector_dim, input_shape=(None,)))\n",
    "model_lstm.add(tf.keras.layers.LSTM(8))   # 가장 널리 쓰이는 RNN인 LSTM 레이어를 사용하였습니다. 이때 LSTM state 벡터의 차원수는 8로 하였습니다. (변경 가능)\n",
    "model_lstm.add(tf.keras.layers.Dense(8, activation='relu'))\n",
    "model_lstm.add(tf.keras.layers.Dense(1, activation='sigmoid'))  # 최종 출력은 긍정/부정을 나타내는 1dim 입니다.\n",
    "\n",
    "model_lstm.summary()"
   ]
  },
  {
   "cell_type": "markdown",
   "id": "a6e000c0",
   "metadata": {
    "id": "a6e000c0"
   },
   "source": [
    "### 모델2: 1-D CNN 모델"
   ]
  },
  {
   "cell_type": "code",
   "execution_count": null,
   "id": "7c10ca48",
   "metadata": {
    "colab": {
     "base_uri": "https://localhost:8080/"
    },
    "executionInfo": {
     "elapsed": 314,
     "status": "ok",
     "timestamp": 1654349259239,
     "user": {
      "displayName": "changhwan lee",
      "userId": "04303211996600941657"
     },
     "user_tz": -540
    },
    "id": "7c10ca48",
    "outputId": "350242e6-5886-4002-cbb3-5d6dc24b7a79"
   },
   "outputs": [
    {
     "name": "stdout",
     "output_type": "stream",
     "text": [
      "Model: \"sequential_1\"\n",
      "_________________________________________________________________\n",
      " Layer (type)                Output Shape              Param #   \n",
      "=================================================================\n",
      " embedding_1 (Embedding)     (None, None, 200)         2000000   \n",
      "                                                                 \n",
      " conv1d (Conv1D)             (None, None, 16)          22416     \n",
      "                                                                 \n",
      " max_pooling1d (MaxPooling1D  (None, None, 16)         0         \n",
      " )                                                               \n",
      "                                                                 \n",
      " conv1d_1 (Conv1D)           (None, None, 16)          1808      \n",
      "                                                                 \n",
      " global_max_pooling1d (Globa  (None, 16)               0         \n",
      " lMaxPooling1D)                                                  \n",
      "                                                                 \n",
      " dense_2 (Dense)             (None, 8)                 136       \n",
      "                                                                 \n",
      " dense_3 (Dense)             (None, 1)                 9         \n",
      "                                                                 \n",
      "=================================================================\n",
      "Total params: 2,024,369\n",
      "Trainable params: 2,024,369\n",
      "Non-trainable params: 0\n",
      "_________________________________________________________________\n"
     ]
    }
   ],
   "source": [
    "# 모델 2: 1-D CNN\n",
    "\n",
    "model_1d_cnn = tf.keras.Sequential()\n",
    "model_1d_cnn.add(tf.keras.layers.Embedding(vocab_size, word_vector_dim, input_shape=(None,)))\n",
    "model_1d_cnn.add(tf.keras.layers.Conv1D(16, 7, activation='relu'))\n",
    "model_1d_cnn.add(tf.keras.layers.MaxPooling1D(5))\n",
    "model_1d_cnn.add(tf.keras.layers.Conv1D(16, 7, activation='relu'))\n",
    "model_1d_cnn.add(tf.keras.layers.GlobalMaxPooling1D())\n",
    "model_1d_cnn.add(tf.keras.layers.Dense(8, activation='relu'))\n",
    "model_1d_cnn.add(tf.keras.layers.Dense(1, activation='sigmoid'))  # 최종 출력은 긍정/부정을 나타내는 1dim 입니다.\n",
    "\n",
    "model_1d_cnn.summary()"
   ]
  },
  {
   "cell_type": "markdown",
   "id": "d68d62bc",
   "metadata": {
    "id": "d68d62bc"
   },
   "source": [
    "### 모델3: GlobalMaxPooling1D() 모델"
   ]
  },
  {
   "cell_type": "code",
   "execution_count": null,
   "id": "551d6fea",
   "metadata": {
    "colab": {
     "base_uri": "https://localhost:8080/"
    },
    "executionInfo": {
     "elapsed": 334,
     "status": "ok",
     "timestamp": 1654349265327,
     "user": {
      "displayName": "changhwan lee",
      "userId": "04303211996600941657"
     },
     "user_tz": -540
    },
    "id": "551d6fea",
    "outputId": "78cbbad5-06a0-4df8-92be-c039227d48f8"
   },
   "outputs": [
    {
     "name": "stdout",
     "output_type": "stream",
     "text": [
      "Model: \"sequential_2\"\n",
      "_________________________________________________________________\n",
      " Layer (type)                Output Shape              Param #   \n",
      "=================================================================\n",
      " embedding_2 (Embedding)     (None, None, 200)         2000000   \n",
      "                                                                 \n",
      " global_max_pooling1d_1 (Glo  (None, 200)              0         \n",
      " balMaxPooling1D)                                                \n",
      "                                                                 \n",
      " dense_4 (Dense)             (None, 8)                 1608      \n",
      "                                                                 \n",
      " dense_5 (Dense)             (None, 1)                 9         \n",
      "                                                                 \n",
      "=================================================================\n",
      "Total params: 2,001,617\n",
      "Trainable params: 2,001,617\n",
      "Non-trainable params: 0\n",
      "_________________________________________________________________\n"
     ]
    }
   ],
   "source": [
    "# 모델 3: GlobalMaxPooling1D() 레이어 1개만 사용\n",
    "\n",
    "model_gmp1d = tf.keras.Sequential()\n",
    "model_gmp1d.add(tf.keras.layers.Embedding(vocab_size, word_vector_dim, input_shape=(None,)))\n",
    "model_gmp1d.add(tf.keras.layers.GlobalMaxPooling1D())\n",
    "model_gmp1d.add(tf.keras.layers.Dense(8, activation='relu'))\n",
    "model_gmp1d.add(tf.keras.layers.Dense(1, activation='sigmoid'))  # 최종 출력은 긍정/부정을 나타내는 1dim 입니다.\n",
    "\n",
    "model_gmp1d.summary()"
   ]
  },
  {
   "cell_type": "markdown",
   "id": "c38f0576",
   "metadata": {
    "id": "c38f0576"
   },
   "source": [
    "### 5) 모델 훈련 개시"
   ]
  },
  {
   "cell_type": "code",
   "execution_count": null,
   "id": "ac6eb3da",
   "metadata": {
    "colab": {
     "base_uri": "https://localhost:8080/"
    },
    "executionInfo": {
     "elapsed": 299,
     "status": "ok",
     "timestamp": 1654350689793,
     "user": {
      "displayName": "changhwan lee",
      "userId": "04303211996600941657"
     },
     "user_tz": -540
    },
    "id": "ac6eb3da",
    "outputId": "e94ff2e1-cb22-45d4-ba95-d3ab1621285d"
   },
   "outputs": [
    {
     "name": "stdout",
     "output_type": "stream",
     "text": [
      "(29236, 41)\n",
      "(29236,)\n",
      "(116946, 41)\n",
      "(116946,)\n"
     ]
    }
   ],
   "source": [
    "# train 데이터 중 80%를 학습으로, 20%를 검증으로 사용\n",
    "# validation set 20%\n",
    "x_val_len = int(len(X_train)*0.2)\n",
    "y_val_len = int(len(y_train)*0.2)\n",
    "\n",
    "x_val = X_train[:x_val_len]   \n",
    "y_val = y_train[:y_val_len]\n",
    "\n",
    "print(x_val.shape)  # (29236, 41)\n",
    "print(y_val.shape)  # (29236,)\n",
    "\n",
    "# validation set 80%\n",
    "partial_x_train = X_train[x_val_len:]  \n",
    "partial_y_train = y_train[y_val_len:]\n",
    "\n",
    "print(partial_x_train.shape)  # (116946, 41)\n",
    "print(partial_y_train.shape)  # (116946,)"
   ]
  },
  {
   "cell_type": "markdown",
   "id": "f138d22e",
   "metadata": {
    "id": "f138d22e"
   },
   "source": [
    "#### 모델1: LSTM모델 훈련"
   ]
  },
  {
   "cell_type": "code",
   "execution_count": null,
   "id": "8c16c6f0",
   "metadata": {
    "colab": {
     "base_uri": "https://localhost:8080/"
    },
    "executionInfo": {
     "elapsed": 43910,
     "status": "ok",
     "timestamp": 1654349324309,
     "user": {
      "displayName": "changhwan lee",
      "userId": "04303211996600941657"
     },
     "user_tz": -540
    },
    "id": "8c16c6f0",
    "outputId": "db67aae0-8861-4c8e-c076-7787b3a8277c"
   },
   "outputs": [
    {
     "name": "stdout",
     "output_type": "stream",
     "text": [
      "Epoch 1/10\n",
      "229/229 [==============================] - 11s 13ms/step - loss: 0.4468 - accuracy: 0.8053 - val_loss: 0.3472 - val_accuracy: 0.8511\n",
      "Epoch 2/10\n",
      "229/229 [==============================] - 3s 11ms/step - loss: 0.3207 - accuracy: 0.8655 - val_loss: 0.3362 - val_accuracy: 0.8530\n",
      "Epoch 3/10\n",
      "229/229 [==============================] - 2s 11ms/step - loss: 0.2882 - accuracy: 0.8802 - val_loss: 0.3362 - val_accuracy: 0.8547\n",
      "Epoch 4/10\n",
      "229/229 [==============================] - 3s 11ms/step - loss: 0.2611 - accuracy: 0.8919 - val_loss: 0.3426 - val_accuracy: 0.8528\n",
      "Epoch 5/10\n",
      "229/229 [==============================] - 3s 11ms/step - loss: 0.2361 - accuracy: 0.9032 - val_loss: 0.3527 - val_accuracy: 0.8531\n",
      "Epoch 6/10\n",
      "229/229 [==============================] - 2s 10ms/step - loss: 0.2155 - accuracy: 0.9127 - val_loss: 0.3783 - val_accuracy: 0.8524\n",
      "Epoch 7/10\n",
      "229/229 [==============================] - 2s 10ms/step - loss: 0.1977 - accuracy: 0.9223 - val_loss: 0.3927 - val_accuracy: 0.8500\n",
      "Epoch 8/10\n",
      "229/229 [==============================] - 3s 14ms/step - loss: 0.1819 - accuracy: 0.9287 - val_loss: 0.4185 - val_accuracy: 0.8480\n",
      "Epoch 9/10\n",
      "229/229 [==============================] - 2s 11ms/step - loss: 0.1666 - accuracy: 0.9363 - val_loss: 0.4402 - val_accuracy: 0.8497\n",
      "Epoch 10/10\n",
      "229/229 [==============================] - 3s 11ms/step - loss: 0.1540 - accuracy: 0.9424 - val_loss: 0.4683 - val_accuracy: 0.8441\n"
     ]
    }
   ],
   "source": [
    "model_lstm.compile(optimizer='adam',\n",
    "              loss='binary_crossentropy',\n",
    "              metrics=['accuracy'])\n",
    "              \n",
    "epochs=10  # 몇 epoch를 훈련하면 좋을지 결과를 보면서 바꾸어 봅시다. \n",
    "\n",
    "history_lstm = model_lstm.fit(partial_x_train,\n",
    "                    partial_y_train,\n",
    "                    epochs=epochs,\n",
    "                    batch_size=512,\n",
    "                    validation_data=(x_val, y_val),\n",
    "                    verbose=1)"
   ]
  },
  {
   "cell_type": "code",
   "execution_count": null,
   "id": "797ca747",
   "metadata": {
    "colab": {
     "base_uri": "https://localhost:8080/"
    },
    "executionInfo": {
     "elapsed": 5335,
     "status": "ok",
     "timestamp": 1654349335426,
     "user": {
      "displayName": "changhwan lee",
      "userId": "04303211996600941657"
     },
     "user_tz": -540
    },
    "id": "797ca747",
    "outputId": "7c698a00-75c4-410a-b474-6c10bc79b1d2"
   },
   "outputs": [
    {
     "name": "stdout",
     "output_type": "stream",
     "text": [
      "1537/1537 - 5s - loss: 0.4760 - accuracy: 0.8415 - 5s/epoch - 3ms/step\n",
      "[0.4759519398212433, 0.8415077924728394]\n"
     ]
    }
   ],
   "source": [
    "# 모델 평가\n",
    "results_lstm = model_lstm.evaluate(X_test,  y_test, verbose=2)  # (loss, accuracy)\n",
    "\n",
    "print(results_lstm)  # (0.4760, 0.8415)"
   ]
  },
  {
   "cell_type": "markdown",
   "id": "a98d4858",
   "metadata": {
    "id": "a98d4858"
   },
   "source": [
    "#### 모델2: 1-D CNN모델 훈련"
   ]
  },
  {
   "cell_type": "code",
   "execution_count": null,
   "id": "7d424ff9",
   "metadata": {
    "colab": {
     "base_uri": "https://localhost:8080/"
    },
    "executionInfo": {
     "elapsed": 42157,
     "status": "ok",
     "timestamp": 1654349418381,
     "user": {
      "displayName": "changhwan lee",
      "userId": "04303211996600941657"
     },
     "user_tz": -540
    },
    "id": "7d424ff9",
    "outputId": "0c2420ef-d4b1-4f4b-d30f-acbae5bfee80"
   },
   "outputs": [
    {
     "name": "stdout",
     "output_type": "stream",
     "text": [
      "Epoch 1/10\n",
      "229/229 [==============================] - 11s 11ms/step - loss: 0.4420 - accuracy: 0.7835 - val_loss: 0.3408 - val_accuracy: 0.8523\n",
      "Epoch 2/10\n",
      "229/229 [==============================] - 2s 10ms/step - loss: 0.2985 - accuracy: 0.8746 - val_loss: 0.3316 - val_accuracy: 0.8570\n",
      "Epoch 3/10\n",
      "229/229 [==============================] - 2s 10ms/step - loss: 0.2326 - accuracy: 0.9079 - val_loss: 0.3413 - val_accuracy: 0.8587\n",
      "Epoch 4/10\n",
      "229/229 [==============================] - 2s 10ms/step - loss: 0.1593 - accuracy: 0.9428 - val_loss: 0.3912 - val_accuracy: 0.8528\n",
      "Epoch 5/10\n",
      "229/229 [==============================] - 2s 10ms/step - loss: 0.0991 - accuracy: 0.9672 - val_loss: 0.4590 - val_accuracy: 0.8491\n",
      "Epoch 6/10\n",
      "229/229 [==============================] - 2s 10ms/step - loss: 0.0635 - accuracy: 0.9804 - val_loss: 0.5308 - val_accuracy: 0.8428\n",
      "Epoch 7/10\n",
      "229/229 [==============================] - 2s 10ms/step - loss: 0.0443 - accuracy: 0.9871 - val_loss: 0.6084 - val_accuracy: 0.8425\n",
      "Epoch 8/10\n",
      "229/229 [==============================] - 2s 10ms/step - loss: 0.0330 - accuracy: 0.9906 - val_loss: 0.6550 - val_accuracy: 0.8394\n",
      "Epoch 9/10\n",
      "229/229 [==============================] - 2s 10ms/step - loss: 0.0261 - accuracy: 0.9927 - val_loss: 0.7733 - val_accuracy: 0.8392\n",
      "Epoch 10/10\n",
      "229/229 [==============================] - 2s 10ms/step - loss: 0.0226 - accuracy: 0.9934 - val_loss: 0.8014 - val_accuracy: 0.8385\n"
     ]
    }
   ],
   "source": [
    "model_1d_cnn.compile(optimizer='adam',\n",
    "              loss='binary_crossentropy',\n",
    "              metrics=['accuracy'])\n",
    "              \n",
    "epochs=10  # 몇 epoch를 훈련하면 좋을지 결과를 보면서 바꾸어 봅시다. \n",
    "\n",
    "history_1d_cnn = model_1d_cnn.fit(partial_x_train,\n",
    "                    partial_y_train,\n",
    "                    epochs=epochs,\n",
    "                    batch_size=512,\n",
    "                    validation_data=(x_val, y_val),\n",
    "                    verbose=1)"
   ]
  },
  {
   "cell_type": "code",
   "execution_count": null,
   "id": "3d0b273f",
   "metadata": {
    "colab": {
     "base_uri": "https://localhost:8080/"
    },
    "executionInfo": {
     "elapsed": 3897,
     "status": "ok",
     "timestamp": 1654349422244,
     "user": {
      "displayName": "changhwan lee",
      "userId": "04303211996600941657"
     },
     "user_tz": -540
    },
    "id": "3d0b273f",
    "outputId": "0d2e69b8-c0d6-48c6-ef8d-bc38958d159c"
   },
   "outputs": [
    {
     "name": "stdout",
     "output_type": "stream",
     "text": [
      "1537/1537 - 4s - loss: 0.8470 - accuracy: 0.8351 - 4s/epoch - 3ms/step\n",
      "[0.847000002861023, 0.8350591063499451]\n"
     ]
    }
   ],
   "source": [
    "# 모델 평가\n",
    "results_1d_cnn = model_1d_cnn.evaluate(X_test,  y_test, verbose=2)  # (loss, accuracy)\n",
    "\n",
    "print(results_1d_cnn)  # (0.8470, 0.8351)"
   ]
  },
  {
   "cell_type": "markdown",
   "id": "762bf8ec",
   "metadata": {
    "id": "762bf8ec"
   },
   "source": [
    "#### 모델3: GlobalMaxPooling1D모델 훈련"
   ]
  },
  {
   "cell_type": "code",
   "execution_count": null,
   "id": "90a62562",
   "metadata": {
    "colab": {
     "base_uri": "https://localhost:8080/"
    },
    "executionInfo": {
     "elapsed": 18669,
     "status": "ok",
     "timestamp": 1654349476409,
     "user": {
      "displayName": "changhwan lee",
      "userId": "04303211996600941657"
     },
     "user_tz": -540
    },
    "id": "90a62562",
    "outputId": "1674aeb0-1c6e-4995-f264-15d015c7aef5"
   },
   "outputs": [
    {
     "name": "stdout",
     "output_type": "stream",
     "text": [
      "Epoch 1/10\n",
      "229/229 [==============================] - 3s 8ms/step - loss: 0.5095 - accuracy: 0.7776 - val_loss: 0.3593 - val_accuracy: 0.8419\n",
      "Epoch 2/10\n",
      "229/229 [==============================] - 2s 8ms/step - loss: 0.3258 - accuracy: 0.8624 - val_loss: 0.3363 - val_accuracy: 0.8535\n",
      "Epoch 3/10\n",
      "229/229 [==============================] - 2s 8ms/step - loss: 0.2787 - accuracy: 0.8857 - val_loss: 0.3372 - val_accuracy: 0.8553\n",
      "Epoch 4/10\n",
      "229/229 [==============================] - 2s 8ms/step - loss: 0.2421 - accuracy: 0.9036 - val_loss: 0.3468 - val_accuracy: 0.8569\n",
      "Epoch 5/10\n",
      "229/229 [==============================] - 2s 8ms/step - loss: 0.2061 - accuracy: 0.9219 - val_loss: 0.3633 - val_accuracy: 0.8555\n",
      "Epoch 6/10\n",
      "229/229 [==============================] - 2s 7ms/step - loss: 0.1703 - accuracy: 0.9391 - val_loss: 0.3885 - val_accuracy: 0.8541\n",
      "Epoch 7/10\n",
      "229/229 [==============================] - 2s 7ms/step - loss: 0.1344 - accuracy: 0.9557 - val_loss: 0.4197 - val_accuracy: 0.8507\n",
      "Epoch 8/10\n",
      "229/229 [==============================] - 2s 7ms/step - loss: 0.1022 - accuracy: 0.9692 - val_loss: 0.4561 - val_accuracy: 0.8474\n",
      "Epoch 9/10\n",
      "229/229 [==============================] - 2s 8ms/step - loss: 0.0754 - accuracy: 0.9795 - val_loss: 0.4906 - val_accuracy: 0.8450\n",
      "Epoch 10/10\n",
      "229/229 [==============================] - 2s 7ms/step - loss: 0.0552 - accuracy: 0.9863 - val_loss: 0.5282 - val_accuracy: 0.8442\n"
     ]
    }
   ],
   "source": [
    "model_gmp1d.compile(optimizer='adam',\n",
    "              loss='binary_crossentropy',\n",
    "              metrics=['accuracy'])\n",
    "              \n",
    "epochs=10  # 몇 epoch를 훈련하면 좋을지 결과를 보면서 바꾸어 봅시다. \n",
    "\n",
    "history_gmp1d = model_gmp1d.fit(partial_x_train,\n",
    "                    partial_y_train,\n",
    "                    epochs=epochs,\n",
    "                    batch_size=512,\n",
    "                    validation_data=(x_val, y_val),\n",
    "                    verbose=1)"
   ]
  },
  {
   "cell_type": "code",
   "execution_count": null,
   "id": "464e36b5",
   "metadata": {
    "colab": {
     "base_uri": "https://localhost:8080/"
    },
    "executionInfo": {
     "elapsed": 4192,
     "status": "ok",
     "timestamp": 1654349500548,
     "user": {
      "displayName": "changhwan lee",
      "userId": "04303211996600941657"
     },
     "user_tz": -540
    },
    "id": "464e36b5",
    "outputId": "286f2b28-dcc2-4446-8394-2aa4cef31cb0"
   },
   "outputs": [
    {
     "name": "stdout",
     "output_type": "stream",
     "text": [
      "1537/1537 - 4s - loss: 0.5429 - accuracy: 0.8378 - 4s/epoch - 3ms/step\n",
      "[0.5428627133369446, 0.8378053903579712]\n"
     ]
    }
   ],
   "source": [
    "# 모델 평가\n",
    "results_gmp1d = model_gmp1d.evaluate(X_test,  y_test, verbose=2)  # (loss, accuracy)\n",
    "\n",
    "print(results_gmp1d)  # (0.5429, 0.8378)"
   ]
  },
  {
   "cell_type": "markdown",
   "id": "b73bf0f9",
   "metadata": {
    "id": "b73bf0f9"
   },
   "source": [
    "#### 모델 평가 비교"
   ]
  },
  {
   "cell_type": "markdown",
   "id": "dd501cbc",
   "metadata": {
    "id": "dd501cbc"
   },
   "source": [
    "##### 3가지 모델의 성능 평가 비교\n",
    "\n",
    "|모델번호|모델명|Loss|Accuracy|\n",
    "|---|---|---|---|\n",
    "|**모델 1**|**LSTM**|**0.4760**|**0.8415**|\n",
    "|모델 2|1-D CNN|0.8470|0.8351|\n",
    "|모델 3|GlobalMaxpolline1D|0.5429|0.8378|\n",
    "\n",
    "LMS에서 사용한 모델들의 평가결과 비슷한 성능을 보였으나, LSTM 모델의 성능이 조금 더 좋게 나옴\n"
   ]
  },
  {
   "cell_type": "markdown",
   "id": "3c512ea4",
   "metadata": {
    "id": "3c512ea4"
   },
   "source": [
    "### 6) Loss, Accuracy 그래프 시각화"
   ]
  },
  {
   "cell_type": "markdown",
   "id": "90d1c377",
   "metadata": {
    "id": "90d1c377"
   },
   "source": [
    "#### 모델1: LSTM 모델"
   ]
  },
  {
   "cell_type": "code",
   "execution_count": null,
   "id": "bb19a765",
   "metadata": {
    "colab": {
     "base_uri": "https://localhost:8080/"
    },
    "executionInfo": {
     "elapsed": 359,
     "status": "ok",
     "timestamp": 1654349591185,
     "user": {
      "displayName": "changhwan lee",
      "userId": "04303211996600941657"
     },
     "user_tz": -540
    },
    "id": "bb19a765",
    "outputId": "e162be84-f7f0-4e4f-ee86-84f1fd9a37cc"
   },
   "outputs": [
    {
     "name": "stdout",
     "output_type": "stream",
     "text": [
      "dict_keys(['loss', 'accuracy', 'val_loss', 'val_accuracy'])\n"
     ]
    }
   ],
   "source": [
    "history_dict = history_lstm.history\n",
    "print(history_dict.keys()) # epoch에 따른 그래프를 그려볼 수 있는 항목들"
   ]
  },
  {
   "cell_type": "code",
   "execution_count": null,
   "id": "b973f240",
   "metadata": {
    "id": "b973f240"
   },
   "outputs": [],
   "source": [
    "acc = history_dict['accuracy']\n",
    "val_acc = history_dict['val_accuracy']\n",
    "loss = history_dict['loss']\n",
    "val_loss = history_dict['val_loss']\n",
    "\n",
    "epochs = range(1, len(acc) + 1)"
   ]
  },
  {
   "cell_type": "code",
   "execution_count": null,
   "id": "d3c8f274",
   "metadata": {
    "colab": {
     "base_uri": "https://localhost:8080/",
     "height": 313
    },
    "executionInfo": {
     "elapsed": 1176,
     "status": "ok",
     "timestamp": 1654349601156,
     "user": {
      "displayName": "changhwan lee",
      "userId": "04303211996600941657"
     },
     "user_tz": -540
    },
    "id": "d3c8f274",
    "outputId": "8c43952f-7d38-41e7-d2f3-81e5b31f2a90"
   },
   "outputs": [
    {
     "data": {
      "image/png": "[encoded data removed]",
      "text/plain": [
       "<Figure size 864x288 with 2 Axes>"
      ]
     },
     "metadata": {
      "needs_background": "light"
     },
     "output_type": "display_data"
    }
   ],
   "source": [
    "# plt.subplots\n",
    "fig, axs = plt.subplots(1,2, figsize=(12, 4), constrained_layout=True)\n",
    "\n",
    "# Training and Validation Loss 그래프\n",
    "axs[0].plot(epochs, loss, 'bo', label='Training loss')\n",
    "axs[0].plot(epochs, val_loss, 'b', label='Validation loss')\n",
    "axs[0].set_title('Training and validation loss')\n",
    "axs[0].set_xlabel('Epochs')\n",
    "axs[0].set_ylabel('Loss')\n",
    "axs[0].legend()\n",
    "\n",
    "# Training and Validation Accuracy 그래프\n",
    "axs[1].plot(epochs, acc, 'bo', label='Training acc')\n",
    "axs[1].plot(epochs, val_acc, 'b', label='Validation acc')\n",
    "axs[1].set_title('Training and validation accuracy')\n",
    "axs[1].set_xlabel('Epochs')\n",
    "axs[1].set_ylabel('Accuracy')\n",
    "axs[1].legend()\n",
    "\n",
    "\n",
    "plt.show()"
   ]
  },
  {
   "cell_type": "markdown",
   "id": "461a4c30",
   "metadata": {
    "id": "461a4c30"
   },
   "source": [
    "#### 모델2: 1-D CNN 모델"
   ]
  },
  {
   "cell_type": "code",
   "execution_count": null,
   "id": "3339ab1d",
   "metadata": {
    "colab": {
     "base_uri": "https://localhost:8080/"
    },
    "executionInfo": {
     "elapsed": 297,
     "status": "ok",
     "timestamp": 1654349607497,
     "user": {
      "displayName": "changhwan lee",
      "userId": "04303211996600941657"
     },
     "user_tz": -540
    },
    "id": "3339ab1d",
    "outputId": "df1c2c4e-4c60-4cea-a176-d265b385c85e"
   },
   "outputs": [
    {
     "name": "stdout",
     "output_type": "stream",
     "text": [
      "dict_keys(['loss', 'accuracy', 'val_loss', 'val_accuracy'])\n"
     ]
    }
   ],
   "source": [
    "history_dict = history_1d_cnn.history\n",
    "print(history_dict.keys()) # epoch에 따른 그래프를 그려볼 수 있는 항목들"
   ]
  },
  {
   "cell_type": "code",
   "execution_count": null,
   "id": "b26b0018",
   "metadata": {
    "id": "b26b0018"
   },
   "outputs": [],
   "source": [
    "acc = history_dict['accuracy']\n",
    "val_acc = history_dict['val_accuracy']\n",
    "loss = history_dict['loss']\n",
    "val_loss = history_dict['val_loss']\n",
    "\n",
    "epochs = range(1, len(acc) + 1)"
   ]
  },
  {
   "cell_type": "code",
   "execution_count": null,
   "id": "68a8aaba",
   "metadata": {
    "colab": {
     "base_uri": "https://localhost:8080/",
     "height": 313
    },
    "executionInfo": {
     "elapsed": 702,
     "status": "ok",
     "timestamp": 1654349613760,
     "user": {
      "displayName": "changhwan lee",
      "userId": "04303211996600941657"
     },
     "user_tz": -540
    },
    "id": "68a8aaba",
    "outputId": "69d414d2-1209-42d3-db35-20e09849272b"
   },
   "outputs": [
    {
     "data": {
      "image/png": "[encoded data removed]",
      "text/plain": [
       "<Figure size 864x288 with 2 Axes>"
      ]
     },
     "metadata": {
      "needs_background": "light"
     },
     "output_type": "display_data"
    }
   ],
   "source": [
    "# plt.subplots\n",
    "fig, axs = plt.subplots(1,2, figsize=(12, 4), constrained_layout=True)\n",
    "\n",
    "# Training and Validation Loss 그래프\n",
    "axs[0].plot(epochs, loss, 'bo', label='Training loss')\n",
    "axs[0].plot(epochs, val_loss, 'b', label='Validation loss')\n",
    "axs[0].set_title('Training and validation loss')\n",
    "axs[0].set_xlabel('Epochs')\n",
    "axs[0].set_ylabel('Loss')\n",
    "axs[0].legend()\n",
    "\n",
    "# Training and Validation Accuracy 그래프\n",
    "axs[1].plot(epochs, acc, 'bo', label='Training acc')\n",
    "axs[1].plot(epochs, val_acc, 'b', label='Validation acc')\n",
    "axs[1].set_title('Training and validation accuracy')\n",
    "axs[1].set_xlabel('Epochs')\n",
    "axs[1].set_ylabel('Accuracy')\n",
    "axs[1].legend()\n",
    "\n",
    "\n",
    "plt.show()"
   ]
  },
  {
   "cell_type": "markdown",
   "id": "cc5ba900",
   "metadata": {
    "id": "cc5ba900"
   },
   "source": [
    "#### 모델3: GlobalMaxPooling1D 모델"
   ]
  },
  {
   "cell_type": "code",
   "execution_count": null,
   "id": "cc103253",
   "metadata": {
    "colab": {
     "base_uri": "https://localhost:8080/"
    },
    "executionInfo": {
     "elapsed": 306,
     "status": "ok",
     "timestamp": 1654349621717,
     "user": {
      "displayName": "changhwan lee",
      "userId": "04303211996600941657"
     },
     "user_tz": -540
    },
    "id": "cc103253",
    "outputId": "474014ad-9aad-4d30-a6fa-411451a23e52"
   },
   "outputs": [
    {
     "name": "stdout",
     "output_type": "stream",
     "text": [
      "dict_keys(['loss', 'accuracy', 'val_loss', 'val_accuracy'])\n"
     ]
    }
   ],
   "source": [
    "history_dict = history_gmp1d.history\n",
    "print(history_dict.keys()) # epoch에 따른 그래프를 그려볼 수 있는 항목들"
   ]
  },
  {
   "cell_type": "code",
   "execution_count": null,
   "id": "03fba6c2",
   "metadata": {
    "id": "03fba6c2"
   },
   "outputs": [],
   "source": [
    "acc = history_dict['accuracy']\n",
    "val_acc = history_dict['val_accuracy']\n",
    "loss = history_dict['loss']\n",
    "val_loss = history_dict['val_loss']\n",
    "\n",
    "epochs = range(1, len(acc) + 1)"
   ]
  },
  {
   "cell_type": "code",
   "execution_count": null,
   "id": "d8b54f84",
   "metadata": {
    "colab": {
     "base_uri": "https://localhost:8080/",
     "height": 313
    },
    "executionInfo": {
     "elapsed": 756,
     "status": "ok",
     "timestamp": 1654349629076,
     "user": {
      "displayName": "changhwan lee",
      "userId": "04303211996600941657"
     },
     "user_tz": -540
    },
    "id": "d8b54f84",
    "outputId": "27110dd0-8217-4770-fc09-0953eab58f6c"
   },
   "outputs": [
    {
     "data": {
      "image/png": "[encoded data removed]",
      "text/plain": [
       "<Figure size 864x288 with 2 Axes>"
      ]
     },
     "metadata": {
      "needs_background": "light"
     },
     "output_type": "display_data"
    }
   ],
   "source": [
    "# plt.subplots\n",
    "fig, axs = plt.subplots(1,2, figsize=(12, 4), constrained_layout=True)\n",
    "\n",
    "# Training and Validation Loss 그래프\n",
    "axs[0].plot(epochs, loss, 'bo', label='Training loss')\n",
    "axs[0].plot(epochs, val_loss, 'b', label='Validation loss')\n",
    "axs[0].set_title('Training and validation loss')\n",
    "axs[0].set_xlabel('Epochs')\n",
    "axs[0].set_ylabel('Loss')\n",
    "axs[0].legend()\n",
    "\n",
    "# Training and Validation Accuracy 그래프\n",
    "axs[1].plot(epochs, acc, 'bo', label='Training acc')\n",
    "axs[1].plot(epochs, val_acc, 'b', label='Validation acc')\n",
    "axs[1].set_title('Training and validation accuracy')\n",
    "axs[1].set_xlabel('Epochs')\n",
    "axs[1].set_ylabel('Accuracy')\n",
    "axs[1].legend()\n",
    "\n",
    "\n",
    "plt.show()"
   ]
  },
  {
   "cell_type": "markdown",
   "id": "7bd42653",
   "metadata": {
    "id": "7bd42653"
   },
   "source": [
    "### 7) 학습된 Embedding 레이어 분석"
   ]
  },
  {
   "cell_type": "code",
   "execution_count": null,
   "id": "488b8ded",
   "metadata": {
    "id": "488b8ded"
   },
   "outputs": [],
   "source": [
    "from gensim.models.keyedvectors import Word2VecKeyedVectors"
   ]
  },
  {
   "cell_type": "markdown",
   "id": "ab3064b3",
   "metadata": {
    "id": "ab3064b3"
   },
   "source": [
    "#### 모델1: LSTM모델"
   ]
  },
  {
   "cell_type": "code",
   "execution_count": null,
   "id": "d7edaea0",
   "metadata": {
    "colab": {
     "base_uri": "https://localhost:8080/"
    },
    "executionInfo": {
     "elapsed": 273,
     "status": "ok",
     "timestamp": 1654349639197,
     "user": {
      "displayName": "changhwan lee",
      "userId": "04303211996600941657"
     },
     "user_tz": -540
    },
    "id": "d7edaea0",
    "outputId": "0b3e8265-59df-420d-9fe2-95e415af7cd3"
   },
   "outputs": [
    {
     "name": "stdout",
     "output_type": "stream",
     "text": [
      "(10000, 200)\n"
     ]
    }
   ],
   "source": [
    "embedding_layer = model_lstm.layers[0]\n",
    "weights = embedding_layer.get_weights()[0]\n",
    "print(weights.shape)    # shape: (vocab_size, embedding_dim)"
   ]
  },
  {
   "cell_type": "code",
   "execution_count": null,
   "id": "fc0c1ae6",
   "metadata": {
    "id": "fc0c1ae6"
   },
   "outputs": [],
   "source": [
    "# 학습한 Embedding 파라미터를 파일에 써서 저장합니다. \n",
    "word2vec_file_path = '/content/drive/MyDrive/LMS/E_09/word2vec_LSTM.txt'\n",
    "f = open(word2vec_file_path, 'w')\n",
    "f.write('{} {}\\n'.format(vocab_size-4, word_vector_dim))  # 몇개의 벡터를 얼마 사이즈로 기재할지 타이틀을 씁니다.\n",
    "\n",
    "# 단어 개수(에서 특수문자 4개는 제외하고)만큼의 워드 벡터를 파일에 기록합니다. \n",
    "vectors = model_lstm.get_weights()[0]\n",
    "for i in range(4,vocab_size):\n",
    "    f.write('{} {}\\n'.format(index_to_word[i], ' '.join(map(str, list(vectors[i, :])))))\n",
    "f.close()"
   ]
  },
  {
   "cell_type": "code",
   "execution_count": null,
   "id": "77ec7104",
   "metadata": {
    "colab": {
     "base_uri": "https://localhost:8080/"
    },
    "executionInfo": {
     "elapsed": 1495,
     "status": "ok",
     "timestamp": 1654349688694,
     "user": {
      "displayName": "changhwan lee",
      "userId": "04303211996600941657"
     },
     "user_tz": -540
    },
    "id": "77ec7104",
    "outputId": "61531710-febb-47fc-c1de-adf9eb59829c"
   },
   "outputs": [
    {
     "data": {
      "text/plain": [
       "array([ 0.12065368, -0.20308772, -0.052276  ,  0.00873504,  0.05014746,\n",
       "       -0.11031277, -0.04892382, -0.07768527, -0.04775627, -0.08115436,\n",
       "       -0.09255035,  0.08839686, -0.07034454,  0.03897123, -0.07503782,\n",
       "       -0.13682884,  0.07483463,  0.12746757, -0.06303929, -0.06558917,\n",
       "        0.06225087, -0.04581319,  0.03427589,  0.08221149,  0.05386197,\n",
       "       -0.05056293, -0.02638832, -0.00633009,  0.01675968,  0.05884083,\n",
       "       -0.11704586, -0.05850808, -0.09753083, -0.00491858, -0.01236144,\n",
       "       -0.06449524, -0.12717727,  0.06115825, -0.12687494,  0.0328894 ,\n",
       "       -0.02140581,  0.10653364, -0.03391023, -0.07511619,  0.06643005,\n",
       "        0.0100676 , -0.07860436,  0.12724385, -0.1474821 , -0.03219736,\n",
       "       -0.22955206,  0.04078614,  0.04525934, -0.03317609,  0.08534265,\n",
       "        0.05977229,  0.10640408,  0.12563606,  0.02533934, -0.02928039,\n",
       "       -0.00275328,  0.08182026, -0.01366552,  0.11112616, -0.11299907,\n",
       "        0.11812808,  0.04002431,  0.02175781, -0.02987195,  0.03742513,\n",
       "       -0.01272766,  0.02322392, -0.10683107,  0.1241056 , -0.08764951,\n",
       "        0.13760337, -0.08460285,  0.039023  , -0.06371748, -0.0842706 ,\n",
       "        0.06417058, -0.02146216,  0.07539997, -0.09147681,  0.01388649,\n",
       "        0.06237235, -0.04874442,  0.12900555,  0.06618685, -0.09688048,\n",
       "       -0.0825628 , -0.09648558, -0.04826543, -0.04214678, -0.03632674,\n",
       "        0.02706731,  0.09176928,  0.15976365, -0.03968555, -0.10078093,\n",
       "       -0.06232113, -0.11272566, -0.01471809, -0.03974283, -0.10847903,\n",
       "       -0.04569925,  0.09317353, -0.06259965, -0.09963562, -0.04315026,\n",
       "        0.13562153,  0.08816452, -0.10867052,  0.07945842,  0.02633134,\n",
       "       -0.09374806,  0.03113339,  0.08442517, -0.06688287, -0.04860704,\n",
       "        0.05817651,  0.05660295,  0.03537192,  0.0450204 , -0.12175866,\n",
       "       -0.07628953, -0.05683903,  0.07622562, -0.0736284 , -0.09177109,\n",
       "       -0.10522168, -0.09137069, -0.0847389 ,  0.11080872, -0.04533399,\n",
       "       -0.07519141, -0.09300588, -0.01228523, -0.0475904 ,  0.03916187,\n",
       "       -0.07137002,  0.03847212, -0.06683317, -0.07633093, -0.02596963,\n",
       "       -0.08074354,  0.04581689, -0.06997871,  0.05448348,  0.06003714,\n",
       "        0.11412946, -0.0245657 , -0.12626784, -0.01668627,  0.1184148 ,\n",
       "       -0.11374956,  0.08564419,  0.11050203, -0.07237473,  0.04136851,\n",
       "        0.03881363, -0.04649068,  0.00624157, -0.09828959,  0.07308049,\n",
       "        0.06026895,  0.09596016,  0.11085309, -0.05975817, -0.05292509,\n",
       "       -0.09913453, -0.03870681, -0.06317265,  0.01028108, -0.03175282,\n",
       "        0.11784527,  0.02162295, -0.07525769, -0.0107494 , -0.18293674,\n",
       "        0.1162405 , -0.05886408,  0.09793301, -0.00603842, -0.08100161,\n",
       "        0.04048821, -0.06405027, -0.02024603, -0.08045591, -0.00831209,\n",
       "       -0.06245715, -0.05341662, -0.07084984,  0.0240881 ,  0.03985282,\n",
       "       -0.07063551, -0.02336104,  0.03161681,  0.01074173, -0.02398877],\n",
       "      dtype=float32)"
      ]
     },
     "execution_count": 35,
     "metadata": {},
     "output_type": "execute_result"
    }
   ],
   "source": [
    "# gensim에서 제공하는 패키지를 이용해, 위에 남긴 임베딩 파라미터를 읽어서 word vector로 활용\n",
    "word_vectors = Word2VecKeyedVectors.load_word2vec_format(word2vec_file_path, binary=False)\n",
    "vector = word_vectors['사랑']\n",
    "vector"
   ]
  },
  {
   "cell_type": "code",
   "execution_count": null,
   "id": "293d1c64",
   "metadata": {
    "colab": {
     "base_uri": "https://localhost:8080/"
    },
    "executionInfo": {
     "elapsed": 57,
     "status": "ok",
     "timestamp": 1654349693815,
     "user": {
      "displayName": "changhwan lee",
      "userId": "04303211996600941657"
     },
     "user_tz": -540
    },
    "id": "293d1c64",
    "outputId": "4d148717-3377-444c-835d-ab408e54ec70"
   },
   "outputs": [
    {
     "data": {
      "text/plain": [
       "[('호강', 0.7928640842437744),\n",
       " ('한석규', 0.7911249995231628),\n",
       " ('모세', 0.7866299152374268),\n",
       " ('기다리', 0.7857869863510132),\n",
       " ('완벽', 0.7756351828575134),\n",
       " ('깜찍', 0.7737617492675781),\n",
       " ('아자', 0.7707135677337646),\n",
       " ('마이클', 0.7686769962310791),\n",
       " ('이때', 0.765369713306427),\n",
       " ('즐거웠', 0.7651362419128418)]"
      ]
     },
     "execution_count": 36,
     "metadata": {},
     "output_type": "execute_result"
    }
   ],
   "source": [
    "# 워드 벡터가 의미 벡터 공간상에 유의미하게 학습되었는지 확인하기\n",
    "# 단어를 하나 주고 그와 가장 유사한 단어와 그 유사도를 확인하는 방법\n",
    "word_vectors.similar_by_word(\"사랑\")  # 유사 단어와 유사도 확인"
   ]
  },
  {
   "cell_type": "code",
   "execution_count": null,
   "id": "78d9f617",
   "metadata": {
    "colab": {
     "base_uri": "https://localhost:8080/"
    },
    "executionInfo": {
     "elapsed": 280,
     "status": "ok",
     "timestamp": 1654349700411,
     "user": {
      "displayName": "changhwan lee",
      "userId": "04303211996600941657"
     },
     "user_tz": -540
    },
    "id": "78d9f617",
    "outputId": "61cef0a3-a3a1-4540-c315-1c90c294ec17"
   },
   "outputs": [
    {
     "data": {
      "text/plain": [
       "[('찰리', 0.7176411151885986),\n",
       " ('앤드류', 0.6893230080604553),\n",
       " ('캬', 0.6684094071388245),\n",
       " ('기다리', 0.6562370657920837),\n",
       " ('이래서', 0.6480875611305237),\n",
       " ('원제', 0.6443390250205994),\n",
       " ('A', 0.6403800249099731),\n",
       " ('자연', 0.6386721730232239),\n",
       " ('돋보인다', 0.6386339664459229),\n",
       " ('중후', 0.6300240755081177)]"
      ]
     },
     "execution_count": 37,
     "metadata": {},
     "output_type": "execute_result"
    }
   ],
   "source": [
    "word_vectors.similar_by_word(\"가족\")"
   ]
  },
  {
   "cell_type": "code",
   "execution_count": null,
   "id": "eca0a3e6",
   "metadata": {
    "colab": {
     "base_uri": "https://localhost:8080/"
    },
    "executionInfo": {
     "elapsed": 282,
     "status": "ok",
     "timestamp": 1654349705104,
     "user": {
      "displayName": "changhwan lee",
      "userId": "04303211996600941657"
     },
     "user_tz": -540
    },
    "id": "eca0a3e6",
    "outputId": "ebecb868-6c82-46fc-bba3-2a5d51edf30b"
   },
   "outputs": [
    {
     "data": {
      "text/plain": [
       "[('박신양', 0.7097484469413757),\n",
       " ('지배', 0.7044636011123657),\n",
       " ('떄', 0.7044620513916016),\n",
       " ('거울', 0.6986013650894165),\n",
       " ('어느새', 0.6976757645606995),\n",
       " ('공존', 0.6973828673362732),\n",
       " ('박평식', 0.6954257488250732),\n",
       " ('삶', 0.6890507936477661),\n",
       " ('표현', 0.688971996307373),\n",
       " ('윤계상', 0.6786285638809204)]"
      ]
     },
     "execution_count": 38,
     "metadata": {},
     "output_type": "execute_result"
    }
   ],
   "source": [
    "word_vectors.similar_by_word(\"평화\")"
   ]
  },
  {
   "cell_type": "code",
   "execution_count": null,
   "id": "2dd9db74",
   "metadata": {
    "colab": {
     "base_uri": "https://localhost:8080/"
    },
    "executionInfo": {
     "elapsed": 288,
     "status": "ok",
     "timestamp": 1654349711247,
     "user": {
      "displayName": "changhwan lee",
      "userId": "04303211996600941657"
     },
     "user_tz": -540
    },
    "id": "2dd9db74",
    "outputId": "f6a0a222-0d74-455d-be80-c4e6e8782d10"
   },
   "outputs": [
    {
     "data": {
      "text/plain": [
       "[('화해', 0.5545796751976013),\n",
       " ('동경', 0.5166663527488708),\n",
       " ('루피', 0.48969754576683044),\n",
       " ('인게', 0.4874070882797241),\n",
       " ('훨', 0.48652514815330505),\n",
       " ('빠져서', 0.4844071865081787),\n",
       " ('왠지', 0.483519971370697),\n",
       " ('노동', 0.47588086128234863),\n",
       " ('이랬', 0.4710206389427185),\n",
       " ('충격', 0.4703155755996704)]"
      ]
     },
     "execution_count": 39,
     "metadata": {},
     "output_type": "execute_result"
    }
   ],
   "source": [
    "word_vectors.similar_by_word(\"전쟁\")"
   ]
  },
  {
   "cell_type": "markdown",
   "id": "78ed6080",
   "metadata": {
    "id": "78ed6080"
   },
   "source": [
    "#### 모델2: 1-D CNN"
   ]
  },
  {
   "cell_type": "code",
   "execution_count": null,
   "id": "13075850",
   "metadata": {
    "colab": {
     "base_uri": "https://localhost:8080/"
    },
    "executionInfo": {
     "elapsed": 348,
     "status": "ok",
     "timestamp": 1654349720794,
     "user": {
      "displayName": "changhwan lee",
      "userId": "04303211996600941657"
     },
     "user_tz": -540
    },
    "id": "13075850",
    "outputId": "dbf72fb0-9e0f-4333-9e4e-622998116bdc"
   },
   "outputs": [
    {
     "name": "stdout",
     "output_type": "stream",
     "text": [
      "(10000, 200)\n"
     ]
    }
   ],
   "source": [
    "embedding_layer = model_1d_cnn.layers[0]\n",
    "weights = embedding_layer.get_weights()[0]\n",
    "print(weights.shape)    # shape: (vocab_size, embedding_dim)"
   ]
  },
  {
   "cell_type": "code",
   "execution_count": null,
   "id": "3d9c22b9",
   "metadata": {
    "id": "3d9c22b9"
   },
   "outputs": [],
   "source": [
    "# 학습한 Embedding 파라미터를 파일에 써서 저장합니다. \n",
    "word2vec_file_path = '/content/drive/MyDrive/LMS/E_09/word2vec_1-D_CNN.txt'\n",
    "f = open(word2vec_file_path, 'w')\n",
    "f.write('{} {}\\n'.format(vocab_size-4, word_vector_dim))  # 몇개의 벡터를 얼마 사이즈로 기재할지 타이틀을 씁니다.\n",
    "\n",
    "# 단어 개수(에서 특수문자 4개는 제외하고)만큼의 워드 벡터를 파일에 기록합니다. \n",
    "vectors = model_1d_cnn.get_weights()[0]\n",
    "for i in range(4,vocab_size):\n",
    "    f.write('{} {}\\n'.format(index_to_word[i], ' '.join(map(str, list(vectors[i, :])))))\n",
    "f.close()"
   ]
  },
  {
   "cell_type": "code",
   "execution_count": null,
   "id": "51d6b661",
   "metadata": {
    "colab": {
     "base_uri": "https://localhost:8080/"
    },
    "executionInfo": {
     "elapsed": 1280,
     "status": "ok",
     "timestamp": 1654349745512,
     "user": {
      "displayName": "changhwan lee",
      "userId": "04303211996600941657"
     },
     "user_tz": -540
    },
    "id": "51d6b661",
    "outputId": "91d5faf1-cbc1-4d17-84a5-b8c2f78cf1c8"
   },
   "outputs": [
    {
     "data": {
      "text/plain": [
       "array([-0.03332395,  0.01611661, -0.03327574,  0.09883054,  0.02447503,\n",
       "        0.03972878, -0.06585703, -0.0472908 ,  0.04837517, -0.05441001,\n",
       "       -0.00022179,  0.03704919, -0.01597271,  0.01455882,  0.0584245 ,\n",
       "       -0.14735964, -0.06588595,  0.06829815, -0.1314611 ,  0.04637213,\n",
       "        0.02212778,  0.04107196, -0.05456861, -0.05560451, -0.02561426,\n",
       "       -0.07949803,  0.058045  ,  0.04762443,  0.04672411, -0.08029846,\n",
       "        0.04020958,  0.00652376,  0.0490839 , -0.01308686,  0.00700442,\n",
       "        0.11255319, -0.03660857, -0.01578382,  0.05462779, -0.08587487,\n",
       "       -0.02629002, -0.0036064 ,  0.04370637,  0.07316349,  0.08581426,\n",
       "        0.01110606,  0.07094542, -0.11279378,  0.10725721, -0.00589364,\n",
       "       -0.05721986,  0.02261357,  0.04889583, -0.0282968 , -0.03203461,\n",
       "        0.02593967, -0.05584021,  0.0019503 ,  0.09208285, -0.03032169,\n",
       "        0.06621756,  0.01453079, -0.03751113, -0.02191928,  0.01689322,\n",
       "        0.03295698,  0.03017859, -0.08145393, -0.01307617,  0.10974383,\n",
       "       -0.01892897, -0.02173467, -0.06373193, -0.02460798,  0.10760543,\n",
       "        0.19376177,  0.01134807, -0.01913744,  0.03735422, -0.03965051,\n",
       "       -0.03889897,  0.03750381, -0.07247987,  0.00211056,  0.05375197,\n",
       "       -0.08579465,  0.0688756 ,  0.15297815,  0.07143173, -0.07202967,\n",
       "       -0.0152933 ,  0.07046772,  0.01919726,  0.05827169, -0.0231771 ,\n",
       "       -0.01394262, -0.00108045, -0.06326029,  0.06388512,  0.09239402,\n",
       "       -0.0953785 ,  0.0386267 ,  0.09017325, -0.06369973,  0.061565  ,\n",
       "        0.11796915,  0.03931397,  0.01397075, -0.10305763,  0.00204831,\n",
       "       -0.11481738,  0.04234927, -0.04482758, -0.07843186, -0.06821015,\n",
       "        0.08000791,  0.02059716, -0.03039581, -0.03049379, -0.08780549,\n",
       "       -0.04632159, -0.00547883,  0.10958076,  0.04465692, -0.00208906,\n",
       "        0.08122217,  0.05045914,  0.05064738, -0.02248821,  0.03884209,\n",
       "       -0.08416965,  0.03122114,  0.04812752, -0.01077723, -0.07388423,\n",
       "       -0.053292  , -0.03280087,  0.09601088, -0.07546029, -0.09950319,\n",
       "        0.06273884,  0.06747993, -0.10403663, -0.01971598,  0.03812256,\n",
       "        0.09327268,  0.12306448, -0.00086577, -0.01879498,  0.07761261,\n",
       "       -0.1091189 ,  0.08271639,  0.03892562, -0.05760852, -0.11694303,\n",
       "        0.03800914,  0.01412073,  0.08482567,  0.0927309 ,  0.06393415,\n",
       "       -0.0921009 ,  0.04105072, -0.01524692,  0.05987874, -0.07772268,\n",
       "        0.07674396,  0.0441082 , -0.07205194, -0.11291745, -0.11054996,\n",
       "        0.06415673,  0.00639112, -0.03036205, -0.10064159, -0.07532279,\n",
       "        0.06054819,  0.04022532,  0.03877836, -0.08462632, -0.05809994,\n",
       "        0.01804   , -0.0413176 , -0.00489783,  0.01290167, -0.07825986,\n",
       "       -0.0315062 ,  0.02592593,  0.07238527,  0.05651879,  0.0158129 ,\n",
       "       -0.02127577,  0.05371543, -0.03122905,  0.07654792,  0.07298356,\n",
       "        0.08170979,  0.13781278,  0.00945634, -0.07592637, -0.06210371],\n",
       "      dtype=float32)"
      ]
     },
     "execution_count": 42,
     "metadata": {},
     "output_type": "execute_result"
    }
   ],
   "source": [
    "# gensim에서 제공하는 패키지를 이용해, 위에 남긴 임베딩 파라미터를 읽어서 word vector로 활용\n",
    "word_vectors = Word2VecKeyedVectors.load_word2vec_format(word2vec_file_path, binary=False)\n",
    "vector = word_vectors['사랑']\n",
    "vector"
   ]
  },
  {
   "cell_type": "code",
   "execution_count": null,
   "id": "5b6ff9da",
   "metadata": {
    "colab": {
     "base_uri": "https://localhost:8080/"
    },
    "executionInfo": {
     "elapsed": 263,
     "status": "ok",
     "timestamp": 1654349750085,
     "user": {
      "displayName": "changhwan lee",
      "userId": "04303211996600941657"
     },
     "user_tz": -540
    },
    "id": "5b6ff9da",
    "outputId": "15daa13e-f004-4739-bb99-9f2f00553ee5"
   },
   "outputs": [
    {
     "data": {
      "text/plain": [
       "[('love', 0.5880025029182434),\n",
       " ('이별', 0.5848586559295654),\n",
       " ('작살', 0.5748247504234314),\n",
       " ('훈', 0.5719499588012695),\n",
       " ('국민학교', 0.5707952380180359),\n",
       " ('주옥같', 0.5660016536712646),\n",
       " ('깎아내리', 0.565192699432373),\n",
       " ('진진', 0.5648585557937622),\n",
       " ('올려야', 0.5611221790313721),\n",
       " ('멋지', 0.5598408579826355)]"
      ]
     },
     "execution_count": 43,
     "metadata": {},
     "output_type": "execute_result"
    }
   ],
   "source": [
    "word_vectors.similar_by_word(\"사랑\")  # 유사 단어와 유사도 확인"
   ]
  },
  {
   "cell_type": "code",
   "execution_count": null,
   "id": "a2e44598",
   "metadata": {
    "colab": {
     "base_uri": "https://localhost:8080/"
    },
    "executionInfo": {
     "elapsed": 268,
     "status": "ok",
     "timestamp": 1654349754271,
     "user": {
      "displayName": "changhwan lee",
      "userId": "04303211996600941657"
     },
     "user_tz": -540
    },
    "id": "a2e44598",
    "outputId": "01e4eaf4-ddf9-4175-cca7-6b48bc235326"
   },
   "outputs": [
    {
     "data": {
      "text/plain": [
       "[('맺', 0.39474815130233765),\n",
       " ('빠졌', 0.38780975341796875),\n",
       " ('해', 0.3839091658592224),\n",
       " ('났', 0.3803558349609375),\n",
       " ('써서', 0.37516164779663086),\n",
       " ('해도', 0.37311726808547974),\n",
       " ('이어졌', 0.37156856060028076),\n",
       " ('갈리', 0.3668026924133301),\n",
       " ('예쁜', 0.3591243028640747),\n",
       " ('카페', 0.35824763774871826)]"
      ]
     },
     "execution_count": 44,
     "metadata": {},
     "output_type": "execute_result"
    }
   ],
   "source": [
    "word_vectors.similar_by_word(\"가족\")"
   ]
  },
  {
   "cell_type": "code",
   "execution_count": null,
   "id": "e20c34b6",
   "metadata": {
    "colab": {
     "base_uri": "https://localhost:8080/"
    },
    "executionInfo": {
     "elapsed": 294,
     "status": "ok",
     "timestamp": 1654349758285,
     "user": {
      "displayName": "changhwan lee",
      "userId": "04303211996600941657"
     },
     "user_tz": -540
    },
    "id": "e20c34b6",
    "outputId": "b93849e4-2d12-4d2e-cf3e-27168711cdff"
   },
   "outputs": [
    {
     "data": {
      "text/plain": [
       "[('묘미', 0.4805745482444763),\n",
       " ('화이트', 0.45894894003868103),\n",
       " ('사탄', 0.4479566514492035),\n",
       " ('법정', 0.44591274857521057),\n",
       " ('흠흠', 0.439133882522583),\n",
       " ('V', 0.43384456634521484),\n",
       " ('울렸', 0.42638981342315674),\n",
       " ('주', 0.4239860773086548),\n",
       " ('부진', 0.4062608778476715),\n",
       " ('후후', 0.3998227119445801)]"
      ]
     },
     "execution_count": 45,
     "metadata": {},
     "output_type": "execute_result"
    }
   ],
   "source": [
    "word_vectors.similar_by_word(\"평화\")"
   ]
  },
  {
   "cell_type": "code",
   "execution_count": null,
   "id": "6f83182b",
   "metadata": {
    "colab": {
     "base_uri": "https://localhost:8080/"
    },
    "executionInfo": {
     "elapsed": 281,
     "status": "ok",
     "timestamp": 1654349763065,
     "user": {
      "displayName": "changhwan lee",
      "userId": "04303211996600941657"
     },
     "user_tz": -540
    },
    "id": "6f83182b",
    "outputId": "35230bde-3971-425e-cf2b-be0b395345b8"
   },
   "outputs": [
    {
     "data": {
      "text/plain": [
       "[('공부', 0.39757251739501953),\n",
       " ('돌아온', 0.3926439583301544),\n",
       " ('울렸', 0.38378578424453735),\n",
       " ('공격', 0.3829830288887024),\n",
       " ('우린', 0.37971585988998413),\n",
       " ('왜', 0.37854743003845215),\n",
       " ('삼성', 0.3769582509994507),\n",
       " ('전', 0.3582227826118469),\n",
       " ('첩보', 0.35389700531959534),\n",
       " ('다녀왔', 0.350973904132843)]"
      ]
     },
     "execution_count": 46,
     "metadata": {},
     "output_type": "execute_result"
    }
   ],
   "source": [
    "word_vectors.similar_by_word(\"전쟁\")"
   ]
  },
  {
   "cell_type": "markdown",
   "id": "8f9e1d4e",
   "metadata": {
    "id": "8f9e1d4e"
   },
   "source": [
    "모델3: GlobalMaxPooling1D"
   ]
  },
  {
   "cell_type": "code",
   "execution_count": null,
   "id": "0966e013",
   "metadata": {
    "colab": {
     "base_uri": "https://localhost:8080/"
    },
    "executionInfo": {
     "elapsed": 276,
     "status": "ok",
     "timestamp": 1654349769352,
     "user": {
      "displayName": "changhwan lee",
      "userId": "04303211996600941657"
     },
     "user_tz": -540
    },
    "id": "0966e013",
    "outputId": "58dc6406-6a22-4923-914e-41422677867f"
   },
   "outputs": [
    {
     "name": "stdout",
     "output_type": "stream",
     "text": [
      "(10000, 200)\n"
     ]
    }
   ],
   "source": [
    "embedding_layer = model_gmp1d.layers[0]\n",
    "weights = embedding_layer.get_weights()[0]\n",
    "print(weights.shape)    # shape: (vocab_size, embedding_dim)"
   ]
  },
  {
   "cell_type": "code",
   "execution_count": null,
   "id": "77b12ef7",
   "metadata": {
    "id": "77b12ef7"
   },
   "outputs": [],
   "source": [
    "# 학습한 Embedding 파라미터를 파일에 써서 저장합니다. \n",
    "word2vec_file_path = '/content/drive/MyDrive/LMS/E_09/word2vec_GlobalMaxPooling1D.txt'\n",
    "f = open(word2vec_file_path, 'w')\n",
    "f.write('{} {}\\n'.format(vocab_size-4, word_vector_dim))  # 몇개의 벡터를 얼마 사이즈로 기재할지 타이틀을 씁니다.\n",
    "\n",
    "# 단어 개수(에서 특수문자 4개는 제외하고)만큼의 워드 벡터를 파일에 기록합니다. \n",
    "vectors = model_gmp1d.get_weights()[0]\n",
    "for i in range(4,vocab_size):\n",
    "    f.write('{} {}\\n'.format(index_to_word[i], ' '.join(map(str, list(vectors[i, :])))))\n",
    "f.close()"
   ]
  },
  {
   "cell_type": "code",
   "execution_count": null,
   "id": "88e106ab",
   "metadata": {
    "colab": {
     "base_uri": "https://localhost:8080/"
    },
    "executionInfo": {
     "elapsed": 1822,
     "status": "ok",
     "timestamp": 1654349796499,
     "user": {
      "displayName": "changhwan lee",
      "userId": "04303211996600941657"
     },
     "user_tz": -540
    },
    "id": "88e106ab",
    "outputId": "f36f02fc-e798-4f2e-fe3d-7573840e9dcf"
   },
   "outputs": [
    {
     "data": {
      "text/plain": [
       "array([-0.03595786,  0.16369584, -0.1405659 , -0.10238542, -0.10911276,\n",
       "       -0.09928869,  0.06831391,  0.09169772, -0.09540354, -0.10282697,\n",
       "       -0.11765884, -0.06307775, -0.14760359,  0.11260935,  0.13121417,\n",
       "       -0.12048978, -0.08429924, -0.11337758, -0.00813798, -0.05663474,\n",
       "        0.1361648 , -0.11778825, -0.10449877, -0.12903598, -0.10632035,\n",
       "       -0.08087761,  0.03317919, -0.13300495,  0.17291525, -0.10440226,\n",
       "        0.00354854, -0.13448423, -0.1074471 ,  0.09608156, -0.03866831,\n",
       "       -0.07492627, -0.12108077, -0.14283787,  0.17326753, -0.08371156,\n",
       "       -0.11776893, -0.0960808 , -0.074095  , -0.01143876,  0.00528763,\n",
       "       -0.13169801, -0.08426578, -0.03709852, -0.1328835 , -0.10523342,\n",
       "       -0.14674515, -0.12129968,  0.09288695, -0.07685258, -0.01145659,\n",
       "       -0.03874065, -0.03968225,  0.0405931 ,  0.18539259,  0.00933422,\n",
       "       -0.13606809,  0.06401052, -0.0669417 , -0.12014329, -0.03152859,\n",
       "       -0.10618741,  0.04456532, -0.10996082, -0.09554308,  0.04402735,\n",
       "        0.04770742,  0.03382679, -0.11359429,  0.04563111, -0.11281366,\n",
       "       -0.14080535, -0.08390705,  0.17369871, -0.10686328, -0.01380651,\n",
       "       -0.1185315 , -0.08731711, -0.09052258,  0.05645463, -0.11263065,\n",
       "       -0.05984083, -0.11305659, -0.11733912, -0.11113068, -0.13361318,\n",
       "       -0.10848092, -0.04775304, -0.10500827, -0.01662481, -0.10970292,\n",
       "       -0.12440734,  0.0342432 , -0.0366696 , -0.04348017, -0.13124183,\n",
       "       -0.1321982 , -0.03809851, -0.07998257,  0.13630779,  0.05606022,\n",
       "       -0.0148018 , -0.10793043, -0.09831759, -0.12322298,  0.00900175,\n",
       "       -0.09996992, -0.12007511, -0.11982819, -0.15890111, -0.03676871,\n",
       "        0.05333076, -0.12072305, -0.00400478,  0.01070964, -0.00230555,\n",
       "       -0.10321482,  0.10876769,  0.01312746, -0.01224671,  0.06946464,\n",
       "       -0.05947627,  0.14127277, -0.09299468,  0.111446  , -0.10359952,\n",
       "       -0.14186929,  0.08871597, -0.04106095, -0.10340246,  0.16315165,\n",
       "       -0.09435076, -0.12295119,  0.09108514, -0.12028274,  0.07343039,\n",
       "        0.07639272,  0.15793523, -0.1119381 , -0.12873316, -0.01044002,\n",
       "       -0.08468755, -0.12317381,  0.08087102, -0.10345735, -0.1254846 ,\n",
       "        0.04530857, -0.12050038, -0.13499203, -0.08833613, -0.00731247,\n",
       "       -0.09361719, -0.09884734, -0.16504498, -0.12424887, -0.11515518,\n",
       "       -0.0137231 , -0.11127403,  0.04755745,  0.05343244, -0.11556809,\n",
       "       -0.08286922,  0.16839616, -0.1275768 , -0.04382121, -0.05351979,\n",
       "       -0.04849679,  0.14540412,  0.11181276, -0.05354497, -0.10897993,\n",
       "       -0.09262599, -0.11183327, -0.09929007,  0.12517841, -0.02325646,\n",
       "       -0.03208805, -0.01525762,  0.11502892,  0.07966352, -0.12909417,\n",
       "        0.06815168, -0.0916154 , -0.08667785,  0.00118747, -0.06677162,\n",
       "       -0.13426934, -0.13768706, -0.11637723, -0.03193846, -0.10157196,\n",
       "       -0.02083049,  0.00522412, -0.06916581, -0.1120232 ,  0.07300577],\n",
       "      dtype=float32)"
      ]
     },
     "execution_count": 49,
     "metadata": {},
     "output_type": "execute_result"
    }
   ],
   "source": [
    "# gensim에서 제공하는 패키지를 이용해, 위에 남긴 임베딩 파라미터를 읽어서 word vector로 활용\n",
    "word_vectors = Word2VecKeyedVectors.load_word2vec_format(word2vec_file_path, binary=False)\n",
    "vector = word_vectors['사랑']\n",
    "vector"
   ]
  },
  {
   "cell_type": "code",
   "execution_count": null,
   "id": "d5c45245",
   "metadata": {
    "colab": {
     "base_uri": "https://localhost:8080/"
    },
    "executionInfo": {
     "elapsed": 333,
     "status": "ok",
     "timestamp": 1654349801932,
     "user": {
      "displayName": "changhwan lee",
      "userId": "04303211996600941657"
     },
     "user_tz": -540
    },
    "id": "d5c45245",
    "outputId": "b519bfa1-d86e-432d-b679-30c74d2514f9"
   },
   "outputs": [
    {
     "data": {
      "text/plain": [
       "[('공감', 0.5056298971176147),\n",
       " ('을', 0.49635058641433716),\n",
       " ('고', 0.4737343192100525),\n",
       " ('에서', 0.46344107389450073),\n",
       " ('감동', 0.45070168375968933),\n",
       " ('로맨스', 0.44947606325149536),\n",
       " ('굉장히', 0.44738754630088806),\n",
       " ('롭', 0.4465721845626831),\n",
       " ('주', 0.4446346163749695),\n",
       " ('게', 0.4408368468284607)]"
      ]
     },
     "execution_count": 50,
     "metadata": {},
     "output_type": "execute_result"
    }
   ],
   "source": [
    "word_vectors.similar_by_word(\"사랑\") "
   ]
  },
  {
   "cell_type": "code",
   "execution_count": null,
   "id": "6325069d",
   "metadata": {
    "colab": {
     "base_uri": "https://localhost:8080/"
    },
    "executionInfo": {
     "elapsed": 306,
     "status": "ok",
     "timestamp": 1654349805806,
     "user": {
      "displayName": "changhwan lee",
      "userId": "04303211996600941657"
     },
     "user_tz": -540
    },
    "id": "6325069d",
    "outputId": "ef20c715-d62a-49e5-f79c-b40c491da57d"
   },
   "outputs": [
    {
     "data": {
      "text/plain": [
       "[('고', 0.6489908695220947),\n",
       " ('을', 0.619367778301239),\n",
       " ('너무', 0.60007643699646),\n",
       " ('까지', 0.5989429950714111),\n",
       " ('해', 0.5930953621864319),\n",
       " ('는데', 0.5894486904144287),\n",
       " ('내', 0.5891873836517334),\n",
       " (',', 0.5793635845184326),\n",
       " ('음', 0.5755742788314819),\n",
       " ('어', 0.5741320848464966)]"
      ]
     },
     "execution_count": 51,
     "metadata": {},
     "output_type": "execute_result"
    }
   ],
   "source": [
    "word_vectors.similar_by_word(\"가족\") "
   ]
  },
  {
   "cell_type": "code",
   "execution_count": null,
   "id": "9140c613",
   "metadata": {
    "colab": {
     "base_uri": "https://localhost:8080/"
    },
    "executionInfo": {
     "elapsed": 287,
     "status": "ok",
     "timestamp": 1654349809725,
     "user": {
      "displayName": "changhwan lee",
      "userId": "04303211996600941657"
     },
     "user_tz": -540
    },
    "id": "9140c613",
    "outputId": "10905749-aee8-4cd7-a1f8-a63f0db88b90"
   },
   "outputs": [
    {
     "data": {
      "text/plain": [
       "[('잔상', 0.358000248670578),\n",
       " ('조아', 0.3558768033981323),\n",
       " ('박진감', 0.3468153178691864),\n",
       " ('캡', 0.34051018953323364),\n",
       " ('훌륭', 0.3359271287918091),\n",
       " ('문득', 0.3350667953491211),\n",
       " ('소림축구', 0.3309425413608551),\n",
       " ('♥♥♥♥', 0.3278873562812805),\n",
       " ('트리오', 0.3248257339000702),\n",
       " ('이뻐', 0.3245997726917267)]"
      ]
     },
     "execution_count": 52,
     "metadata": {},
     "output_type": "execute_result"
    }
   ],
   "source": [
    "word_vectors.similar_by_word(\"평화\")"
   ]
  },
  {
   "cell_type": "code",
   "execution_count": null,
   "id": "5376ded2",
   "metadata": {
    "colab": {
     "base_uri": "https://localhost:8080/"
    },
    "executionInfo": {
     "elapsed": 280,
     "status": "ok",
     "timestamp": 1654349814491,
     "user": {
      "displayName": "changhwan lee",
      "userId": "04303211996600941657"
     },
     "user_tz": -540
    },
    "id": "5376ded2",
    "outputId": "6f3ff750-0131-4060-9a00-4023e20bbf3f"
   },
   "outputs": [
    {
     "data": {
      "text/plain": [
       "[('주인공', 0.35625651478767395),\n",
       " ('어야', 0.3479595184326172),\n",
       " ('내', 0.3327891230583191),\n",
       " ('스타뎀', 0.33175843954086304),\n",
       " ('에서', 0.3304705023765564),\n",
       " ('케', 0.32887929677963257),\n",
       " ('부분', 0.32218289375305176),\n",
       " ('살린', 0.3210908770561218),\n",
       " ('여전히', 0.31662309169769287),\n",
       " ('핵심', 0.31621938943862915)]"
      ]
     },
     "execution_count": 53,
     "metadata": {},
     "output_type": "execute_result"
    }
   ],
   "source": [
    "word_vectors.similar_by_word(\"전쟁\")"
   ]
  },
  {
   "cell_type": "markdown",
   "id": "2e0588e6",
   "metadata": {
    "id": "2e0588e6"
   },
   "source": [
    "### 8) 한국어 Word2Vec 임베딩 활용하여 성능 개선"
   ]
  },
  {
   "cell_type": "code",
   "execution_count": null,
   "id": "25a9706c",
   "metadata": {
    "colab": {
     "base_uri": "https://localhost:8080/",
     "height": 362
    },
    "executionInfo": {
     "elapsed": 7426,
     "status": "ok",
     "timestamp": 1654349840293,
     "user": {
      "displayName": "changhwan lee",
      "userId": "04303211996600941657"
     },
     "user_tz": -540
    },
    "id": "25a9706c",
    "outputId": "d4d2039b-f434-413f-b0ca-d0089271e1d9"
   },
   "outputs": [
    {
     "name": "stdout",
     "output_type": "stream",
     "text": [
      "Looking in indexes: https://pypi.org/simple, https://us-python.pkg.dev/colab-wheels/public/simple/\n",
      "Collecting gensim==3.8.3\n",
      "  Downloading gensim-3.8.3-cp37-cp37m-manylinux1_x86_64.whl (24.2 MB)\n",
      "\u001b[K     |████████████████████████████████| 24.2 MB 1.5 MB/s \n",
      "\u001b[?25hRequirement already satisfied: numpy>=1.11.3 in /usr/local/lib/python3.7/dist-packages (from gensim==3.8.3) (1.21.6)\n",
      "Requirement already satisfied: smart-open>=1.8.1 in /usr/local/lib/python3.7/dist-packages (from gensim==3.8.3) (6.0.0)\n",
      "Requirement already satisfied: six>=1.5.0 in /usr/local/lib/python3.7/dist-packages (from gensim==3.8.3) (1.15.0)\n",
      "Requirement already satisfied: scipy>=0.18.1 in /usr/local/lib/python3.7/dist-packages (from gensim==3.8.3) (1.4.1)\n",
      "Installing collected packages: gensim\n",
      "  Attempting uninstall: gensim\n",
      "    Found existing installation: gensim 3.6.0\n",
      "    Uninstalling gensim-3.6.0:\n",
      "      Successfully uninstalled gensim-3.6.0\n",
      "Successfully installed gensim-3.8.3\n"
     ]
    },
    {
     "data": {
      "application/vnd.colab-display-data+json": {
       "pip_warning": {
        "packages": [
         "gensim"
        ]
       }
      }
     },
     "metadata": {},
     "output_type": "display_data"
    }
   ],
   "source": [
    "# gensim 3.x.x 버전으로 다운그레이드\n",
    "!pip install --upgrade gensim==3.8.3"
   ]
  },
  {
   "cell_type": "code",
   "execution_count": null,
   "id": "048ea8d8",
   "metadata": {
    "id": "048ea8d8"
   },
   "outputs": [],
   "source": [
    "from gensim.models import Word2Vec\n",
    "from gensim.models import KeyedVectors\n",
    "from konlpy.tag import Okt"
   ]
  },
  {
   "cell_type": "code",
   "execution_count": null,
   "id": "a2909261",
   "metadata": {
    "colab": {
     "base_uri": "https://localhost:8080/"
    },
    "executionInfo": {
     "elapsed": 1828,
     "status": "ok",
     "timestamp": 1654349910320,
     "user": {
      "displayName": "changhwan lee",
      "userId": "04303211996600941657"
     },
     "user_tz": -540
    },
    "id": "a2909261",
    "outputId": "862e17c0-7861-4e9b-c279-35ee1f2233ac"
   },
   "outputs": [
    {
     "name": "stderr",
     "output_type": "stream",
     "text": [
      "/usr/local/lib/python3.7/dist-packages/ipykernel_launcher.py:10: DeprecationWarning: Call to deprecated `__getitem__` (Method will be removed in 4.0.0, use self.wv.__getitem__() instead).\n",
      "  # Remove the CWD from sys.path while we load stuff.\n"
     ]
    },
    {
     "data": {
      "text/plain": [
       "array([-1.3740246 , -1.7353463 ,  3.3915305 , -2.569253  , -1.4016607 ,\n",
       "        1.4556127 ,  0.9414557 ,  1.9207907 ,  0.16471806,  0.4838317 ,\n",
       "       -0.8547181 ,  2.0879807 ,  0.86741775,  0.87539405, -0.09962013,\n",
       "        0.22928311, -1.1858722 ,  0.00858838,  1.4999928 , -0.16196461,\n",
       "       -0.35184434, -0.92390764,  1.0849575 ,  0.3025011 ,  2.7021565 ,\n",
       "       -1.0263684 ,  0.32864776, -0.76589465, -2.510981  , -0.66225356,\n",
       "        2.8434615 ,  0.50130975, -1.021874  , -1.4366034 ,  1.1110784 ,\n",
       "        0.5812605 , -0.5830406 , -0.5785423 ,  1.3634988 ,  2.3074338 ,\n",
       "       -1.4314893 ,  0.45745876,  1.1073523 , -3.2135262 , -0.2898375 ,\n",
       "       -1.1622221 ,  1.2369208 , -0.7622987 , -0.37757635,  1.1376442 ,\n",
       "        0.01065568, -0.69105595,  1.5159112 ,  1.1534518 , -1.0119992 ,\n",
       "       -0.5757404 ,  1.1349088 , -1.1289831 ,  0.13004152,  2.0451715 ,\n",
       "       -0.23940353,  1.3604902 ,  0.72700524,  0.32545742,  1.0612459 ,\n",
       "        0.42252553,  1.1442151 ,  2.8774905 ,  2.4377263 , -1.340305  ,\n",
       "        0.12629706, -0.07772489, -0.59053177, -0.19007324,  0.1396541 ,\n",
       "       -1.8655105 ,  0.9401054 ,  0.5150856 ,  0.7795373 , -0.86505556,\n",
       "        0.11842118, -1.8303713 ,  1.337177  , -1.0102932 , -0.37180334,\n",
       "        0.00893255, -0.49141577, -1.05802   , -2.5987291 ,  0.9731856 ,\n",
       "        0.34080654, -2.5973568 ,  1.0046519 , -1.3914212 , -0.6504351 ,\n",
       "       -0.9010805 , -1.1341541 ,  0.75565654,  1.2941337 ,  0.0880572 ,\n",
       "       -1.0341461 , -0.1750075 , -0.01880708, -1.0835075 , -2.0333962 ,\n",
       "        1.1372623 ,  1.0626172 , -1.8369784 , -2.2662086 , -3.382057  ,\n",
       "        1.6751666 , -0.2988223 , -0.25563756, -1.5594274 ,  0.6313433 ,\n",
       "       -1.2667153 , -1.6857744 , -1.0949599 ,  0.7742313 , -0.6095523 ,\n",
       "        3.19503   ,  0.13200459,  1.7937473 , -2.8782516 ,  1.3821276 ,\n",
       "        2.2895143 ,  0.0741943 , -0.41046414,  1.438796  ,  0.19373988,\n",
       "        1.4294034 ,  1.5025262 ,  1.4849502 ,  1.5754777 ,  2.7793512 ,\n",
       "       -0.6885003 , -0.30154693, -1.708323  ,  1.1030879 , -2.2597387 ,\n",
       "        1.1909146 ,  2.4399316 ,  0.3990314 ,  0.904154  ,  0.5454401 ,\n",
       "       -1.3235748 , -0.64812386,  0.22390233,  0.9657619 , -0.47360668,\n",
       "       -0.10278235, -1.0679734 , -0.91414386,  0.92069   ,  0.3549338 ,\n",
       "        0.32858834,  0.84870636,  3.596926  , -1.6651102 ,  0.23658653,\n",
       "        1.0515738 ,  0.40531915, -0.773514  , -0.93460965, -0.3946274 ,\n",
       "       -1.5657727 ,  1.183652  ,  2.5277    ,  0.57700926,  1.7051374 ,\n",
       "       -1.8249958 , -2.0328498 ,  0.6617798 ,  0.85747904,  0.31782728,\n",
       "       -1.1660796 ,  0.32923874,  2.2055087 , -0.12782003,  2.0455444 ,\n",
       "       -0.1724252 ,  0.46001154,  1.559042  , -1.6152996 , -0.84242785,\n",
       "        0.7553168 ,  0.39734274,  0.07714175,  0.05610155,  0.32837135,\n",
       "        1.0220716 ,  1.3816743 ,  0.8049544 ,  0.28728685, -0.97610044,\n",
       "        0.8861181 , -0.01250968, -1.4845604 , -1.5236791 , -1.5451258 ],\n",
       "      dtype=float32)"
      ]
     },
     "execution_count": 2,
     "metadata": {},
     "output_type": "execute_result"
    }
   ],
   "source": [
    "word2vec_path = '/content/drive/MyDrive/LMS/E_09/ko.bin'\n",
    "\n",
    "# word2vec = KeyedVectors.load_word2vec_format(word2vec_path, binary=True, limit=1000000)\n",
    "word2vec = Word2Vec.load(word2vec_path)  # 학습한 모델 로드\n",
    "\n",
    "vector = word2vec['사랑']\n",
    "vector  "
   ]
  },
  {
   "cell_type": "code",
   "execution_count": null,
   "id": "00fcbc85",
   "metadata": {
    "colab": {
     "base_uri": "https://localhost:8080/"
    },
    "executionInfo": {
     "elapsed": 303,
     "status": "ok",
     "timestamp": 1654350142705,
     "user": {
      "displayName": "changhwan lee",
      "userId": "04303211996600941657"
     },
     "user_tz": -540
    },
    "id": "00fcbc85",
    "outputId": "f5dddb0f-f449-4c63-b1ab-e18ff0b7e237"
   },
   "outputs": [
    {
     "name": "stderr",
     "output_type": "stream",
     "text": [
      "/usr/local/lib/python3.7/dist-packages/ipykernel_launcher.py:7: DeprecationWarning: Call to deprecated `__contains__` (Method will be removed in 4.0.0, use self.wv.__contains__() instead).\n",
      "  import sys\n",
      "/usr/local/lib/python3.7/dist-packages/ipykernel_launcher.py:8: DeprecationWarning: Call to deprecated `__getitem__` (Method will be removed in 4.0.0, use self.wv.__getitem__() instead).\n",
      "  \n"
     ]
    }
   ],
   "source": [
    "vocab_size = len(word_to_index)    # 어휘 사전의 크기입니다(10,000개의 단어)\n",
    "word_vector_dim = word2vec.wv.vectors.shape[1]  # 워드 벡터의 차원수 200\n",
    "embedding_matrix = np.random.rand(vocab_size, word_vector_dim)\n",
    "\n",
    "# embedding_matrix에 Word2Vec 워드 벡터를 단어 하나씩마다 차례차례 카피한다.\n",
    "for i in range(4,vocab_size):\n",
    "    if index_to_word[i] in word2vec:\n",
    "        embedding_matrix[i] = word2vec[index_to_word[i]]"
   ]
  },
  {
   "cell_type": "markdown",
   "id": "a2ee917a",
   "metadata": {
    "id": "a2ee917a"
   },
   "source": [
    "#### Model 구성: LSTM Model 활용"
   ]
  },
  {
   "cell_type": "code",
   "execution_count": null,
   "id": "f4f40c22",
   "metadata": {
    "id": "f4f40c22"
   },
   "outputs": [],
   "source": [
    "from tensorflow.keras.initializers import Constant"
   ]
  },
  {
   "cell_type": "code",
   "execution_count": null,
   "id": "a5a23ce4",
   "metadata": {
    "colab": {
     "base_uri": "https://localhost:8080/"
    },
    "executionInfo": {
     "elapsed": 1451,
     "status": "ok",
     "timestamp": 1654350592385,
     "user": {
      "displayName": "changhwan lee",
      "userId": "04303211996600941657"
     },
     "user_tz": -540
    },
    "id": "a5a23ce4",
    "outputId": "7fa8ee0a-4a77-45b9-b120-06d4aefbdd94"
   },
   "outputs": [
    {
     "name": "stdout",
     "output_type": "stream",
     "text": [
      "Model: \"sequential\"\n",
      "_________________________________________________________________\n",
      " Layer (type)                Output Shape              Param #   \n",
      "=================================================================\n",
      " embedding (Embedding)       (None, 41, 200)           2000000   \n",
      "                                                                 \n",
      " lstm (LSTM)                 (None, 256)               467968    \n",
      "                                                                 \n",
      " dense (Dense)               (None, 8)                 2056      \n",
      "                                                                 \n",
      " dense_1 (Dense)             (None, 1)                 9         \n",
      "                                                                 \n",
      "=================================================================\n",
      "Total params: 2,470,033\n",
      "Trainable params: 2,470,033\n",
      "Non-trainable params: 0\n",
      "_________________________________________________________________\n"
     ]
    }
   ],
   "source": [
    "# 모델 구성\n",
    "model = tf.keras.Sequential()\n",
    "model.add(tf.keras.layers.Embedding(vocab_size, \n",
    "                                 word_vector_dim, \n",
    "                                 embeddings_initializer=Constant(embedding_matrix),  # 카피한 임베딩을 여기서 활용\n",
    "                                 input_length=maxlen, \n",
    "                                 trainable=True))   # trainable을 True로 주면 Fine-tuning\n",
    "model.add(tf.keras.layers.LSTM(256))   # 가장 널리 쓰이는 RNN인 LSTM 레이어를 사용하였습니다. LSTM state 벡터의 차원수는 변경 가능\n",
    "model.add(tf.keras.layers.Dense(8, activation='relu'))\n",
    "model.add(tf.keras.layers.Dense(1, activation='sigmoid')) \n",
    "\n",
    "model.summary()"
   ]
  },
  {
   "cell_type": "code",
   "execution_count": null,
   "id": "a38ab9cd",
   "metadata": {
    "colab": {
     "base_uri": "https://localhost:8080/"
    },
    "executionInfo": {
     "elapsed": 84619,
     "status": "ok",
     "timestamp": 1654350843267,
     "user": {
      "displayName": "changhwan lee",
      "userId": "04303211996600941657"
     },
     "user_tz": -540
    },
    "id": "a38ab9cd",
    "outputId": "21a44eff-f78f-429a-f933-7be0c4b9fd88"
   },
   "outputs": [
    {
     "name": "stdout",
     "output_type": "stream",
     "text": [
      "Epoch 1/10\n",
      "229/229 [==============================] - 9s 26ms/step - loss: 0.4422 - accuracy: 0.7904 - val_loss: 0.3674 - val_accuracy: 0.8347\n",
      "Epoch 2/10\n",
      "229/229 [==============================] - 5s 24ms/step - loss: 0.3203 - accuracy: 0.8621 - val_loss: 0.3228 - val_accuracy: 0.8620\n",
      "Epoch 3/10\n",
      "229/229 [==============================] - 5s 23ms/step - loss: 0.2765 - accuracy: 0.8839 - val_loss: 0.3088 - val_accuracy: 0.8672\n",
      "Epoch 4/10\n",
      "229/229 [==============================] - 5s 23ms/step - loss: 0.2414 - accuracy: 0.9015 - val_loss: 0.3153 - val_accuracy: 0.8667\n",
      "Epoch 5/10\n",
      "229/229 [==============================] - 5s 23ms/step - loss: 0.2090 - accuracy: 0.9161 - val_loss: 0.3443 - val_accuracy: 0.8640\n",
      "Epoch 6/10\n",
      "229/229 [==============================] - 5s 23ms/step - loss: 0.1747 - accuracy: 0.9314 - val_loss: 0.3598 - val_accuracy: 0.8638\n",
      "Epoch 7/10\n",
      "229/229 [==============================] - 5s 23ms/step - loss: 0.1398 - accuracy: 0.9461 - val_loss: 0.3655 - val_accuracy: 0.8612\n",
      "Epoch 8/10\n",
      "229/229 [==============================] - 5s 23ms/step - loss: 0.1109 - accuracy: 0.9585 - val_loss: 0.4460 - val_accuracy: 0.8632\n",
      "Epoch 9/10\n",
      "229/229 [==============================] - 5s 24ms/step - loss: 0.0866 - accuracy: 0.9676 - val_loss: 0.4833 - val_accuracy: 0.8616\n",
      "Epoch 10/10\n",
      "229/229 [==============================] - 5s 23ms/step - loss: 0.0686 - accuracy: 0.9743 - val_loss: 0.5597 - val_accuracy: 0.8594\n"
     ]
    }
   ],
   "source": [
    "# 학습의 진행\n",
    "model.compile(optimizer='adam',\n",
    "              loss='binary_crossentropy',\n",
    "              metrics=['accuracy'])\n",
    "              \n",
    "epochs=10  # 몇 epoch를 훈련하면 좋을지 결과를 보면서 바꾸어 봅시다. \n",
    "\n",
    "history = model.fit(partial_x_train,\n",
    "                    partial_y_train,\n",
    "                    epochs=epochs,\n",
    "                    batch_size=512,\n",
    "                    validation_data=(x_val, y_val),\n",
    "                    verbose=1)"
   ]
  },
  {
   "cell_type": "code",
   "execution_count": null,
   "id": "2e68ca25",
   "metadata": {
    "colab": {
     "base_uri": "https://localhost:8080/"
    },
    "executionInfo": {
     "elapsed": 10598,
     "status": "ok",
     "timestamp": 1654350865313,
     "user": {
      "displayName": "changhwan lee",
      "userId": "04303211996600941657"
     },
     "user_tz": -540
    },
    "id": "2e68ca25",
    "outputId": "baedeeef-06f1-4476-e169-f63b0942f437"
   },
   "outputs": [
    {
     "name": "stdout",
     "output_type": "stream",
     "text": [
      "1537/1537 - 5s - loss: 0.5802 - accuracy: 0.8526 - 5s/epoch - 3ms/step\n",
      "[0.5801856517791748, 0.8526354432106018]\n"
     ]
    }
   ],
   "source": [
    "# 테스트셋을 통한 모델 평가\n",
    "results = model.evaluate(X_test,  y_test, verbose=2)\n",
    "\n",
    "print(results) "
   ]
  },
  {
   "cell_type": "code",
   "execution_count": null,
   "id": "03b1b0e7",
   "metadata": {
    "colab": {
     "base_uri": "https://localhost:8080/"
    },
    "executionInfo": {
     "elapsed": 291,
     "status": "ok",
     "timestamp": 1654350901425,
     "user": {
      "displayName": "changhwan lee",
      "userId": "04303211996600941657"
     },
     "user_tz": -540
    },
    "id": "03b1b0e7",
    "outputId": "993bf890-6d61-4752-c251-0e6f8134c121"
   },
   "outputs": [
    {
     "name": "stdout",
     "output_type": "stream",
     "text": [
      "dict_keys(['loss', 'accuracy', 'val_loss', 'val_accuracy'])\n"
     ]
    }
   ],
   "source": [
    "history_dict = history.history\n",
    "print(history_dict.keys()) # epoch에 따른 그래프를 그려볼 수 있는 항목들"
   ]
  },
  {
   "cell_type": "code",
   "execution_count": null,
   "id": "a5840549",
   "metadata": {
    "id": "a5840549"
   },
   "outputs": [],
   "source": [
    "acc = history_dict['accuracy']\n",
    "val_acc = history_dict['val_accuracy']\n",
    "loss = history_dict['loss']\n",
    "val_loss = history_dict['val_loss']\n",
    "\n",
    "epochs = range(1, len(acc) + 1)"
   ]
  },
  {
   "cell_type": "code",
   "execution_count": null,
   "id": "defb27d9",
   "metadata": {
    "colab": {
     "base_uri": "https://localhost:8080/",
     "height": 313
    },
    "executionInfo": {
     "elapsed": 1218,
     "status": "ok",
     "timestamp": 1654350970606,
     "user": {
      "displayName": "changhwan lee",
      "userId": "04303211996600941657"
     },
     "user_tz": -540
    },
    "id": "defb27d9",
    "outputId": "5f7ca4c7-f404-4f50-9986-1d6d0380db44"
   },
   "outputs": [
    {
     "data": {
      "image/png": "[encoded data removed]",
      "text/plain": [
       "<Figure size 864x288 with 2 Axes>"
      ]
     },
     "metadata": {
      "needs_background": "light"
     },
     "output_type": "display_data"
    }
   ],
   "source": [
    "# plt.subplots\n",
    "fig, axs = plt.subplots(1,2, figsize=(12, 4), constrained_layout=True)\n",
    "\n",
    "# Training and Validation Loss 그래프\n",
    "axs[0].plot(epochs, loss, 'bo', label='Training loss')\n",
    "axs[0].plot(epochs, val_loss, 'b', label='Validation loss')\n",
    "axs[0].set_title('Training and validation loss')\n",
    "axs[0].set_xlabel('Epochs')\n",
    "axs[0].set_ylabel('Loss')\n",
    "axs[0].legend()\n",
    "\n",
    "# Training and Validation Accuracy 그래프\n",
    "axs[1].plot(epochs, acc, 'bo', label='Training acc')\n",
    "axs[1].plot(epochs, val_acc, 'b', label='Validation acc')\n",
    "axs[1].set_title('Training and validation accuracy')\n",
    "axs[1].set_xlabel('Epochs')\n",
    "axs[1].set_ylabel('Accuracy')\n",
    "axs[1].legend()\n",
    "\n",
    "plt.show()"
   ]
  },
  {
   "cell_type": "code",
   "execution_count": null,
   "id": "53uuLkQ5B-hl",
   "metadata": {
    "colab": {
     "base_uri": "https://localhost:8080/"
    },
    "executionInfo": {
     "elapsed": 287,
     "status": "ok",
     "timestamp": 1654351516647,
     "user": {
      "displayName": "changhwan lee",
      "userId": "04303211996600941657"
     },
     "user_tz": -540
    },
    "id": "53uuLkQ5B-hl",
    "outputId": "43f9e3a6-6af6-445a-a73a-ce66e1d62535"
   },
   "outputs": [
    {
     "name": "stdout",
     "output_type": "stream",
     "text": [
      "(10000, 200)\n"
     ]
    }
   ],
   "source": [
    "embedding_layer = model.layers[0]\n",
    "weights = embedding_layer.get_weights()[0]\n",
    "print(weights.shape)    # shape: (vocab_size, embedding_dim)"
   ]
  },
  {
   "cell_type": "code",
   "execution_count": null,
   "id": "4KFGsfjjCOPR",
   "metadata": {
    "id": "4KFGsfjjCOPR"
   },
   "outputs": [],
   "source": [
    "# 학습한 Embedding 파라미터를 파일에 써서 저장합니다. \n",
    "word2vec_file_path = '/content/drive/MyDrive/LMS/E_09/word2vec_ko.txt'\n",
    "f = open(word2vec_file_path, 'w')\n",
    "f.write('{} {}\\n'.format(vocab_size-4, word_vector_dim))  # 몇개의 벡터를 얼마 사이즈로 기재할지 타이틀을 씁니다.\n",
    "\n",
    "# 단어 개수(에서 특수문자 4개는 제외하고)만큼의 워드 벡터를 파일에 기록합니다. \n",
    "vectors = model.get_weights()[0]\n",
    "for i in range(4,vocab_size):\n",
    "    f.write('{} {}\\n'.format(index_to_word[i], ' '.join(map(str, list(vectors[i, :])))))\n",
    "f.close()"
   ]
  },
  {
   "cell_type": "code",
   "execution_count": null,
   "id": "6b87f86f",
   "metadata": {
    "colab": {
     "base_uri": "https://localhost:8080/"
    },
    "executionInfo": {
     "elapsed": 1913,
     "status": "ok",
     "timestamp": 1654351692739,
     "user": {
      "displayName": "changhwan lee",
      "userId": "04303211996600941657"
     },
     "user_tz": -540
    },
    "id": "6b87f86f",
    "outputId": "4472f5db-e00a-4f18-8aef-46dbe95a5441"
   },
   "outputs": [
    {
     "data": {
      "text/plain": [
       "array([-1.4405216 , -1.7154046 ,  3.4379103 , -2.6176298 , -1.3487756 ,\n",
       "        1.5569099 ,  0.9689301 ,  1.8894364 ,  0.11676739,  0.58491486,\n",
       "       -0.94589996,  2.1346047 ,  0.83730614,  0.89651245, -0.11328931,\n",
       "        0.20609345, -1.2054448 , -0.02166535,  1.4895653 , -0.13204606,\n",
       "       -0.3873908 , -0.8563212 ,  1.1054939 ,  0.33794492,  2.6517859 ,\n",
       "       -0.99555147,  0.27473032, -0.7878283 , -2.5085695 , -0.66786057,\n",
       "        2.830969  ,  0.60610366, -0.9690648 , -1.4208136 ,  1.1658313 ,\n",
       "        0.6001256 , -0.64844364, -0.5750091 ,  1.2689393 ,  2.3462493 ,\n",
       "       -1.4262443 ,  0.5125654 ,  1.1851994 , -3.2429197 , -0.3689976 ,\n",
       "       -1.2420385 ,  1.3012115 , -0.7084605 , -0.4778388 ,  1.1069316 ,\n",
       "       -0.01892198, -0.7036165 ,  1.4395587 ,  1.0399586 , -1.0944499 ,\n",
       "       -0.5892028 ,  1.113075  , -1.2850665 ,  0.12277117,  1.9923644 ,\n",
       "       -0.17942043,  1.2881463 ,  0.7884661 ,  0.38313818,  1.083976  ,\n",
       "        0.41592765,  1.0632004 ,  2.9713156 ,  2.491896  , -1.3898697 ,\n",
       "        0.21248268, -0.07821917, -0.6584096 , -0.27373698,  0.18572722,\n",
       "       -1.8982664 ,  0.95061773,  0.49387184,  0.819305  , -0.876645  ,\n",
       "        0.08019124, -1.7931378 ,  1.2134799 , -0.9373952 , -0.3421209 ,\n",
       "       -0.07485036, -0.59608835, -1.025319  , -2.6352296 ,  1.0098181 ,\n",
       "        0.3853856 , -2.5740197 ,  0.9854861 , -1.4040806 , -0.66361696,\n",
       "       -0.8721945 , -1.1013298 ,  0.8004111 ,  1.2362213 ,  0.00832536,\n",
       "       -1.0839418 , -0.313649  , -0.06234735, -1.072791  , -2.105673  ,\n",
       "        1.094261  ,  1.036657  , -1.8999921 , -2.2030437 , -3.381356  ,\n",
       "        1.5198845 , -0.23442808, -0.38537723, -1.6988835 ,  0.62637377,\n",
       "       -1.3046783 , -1.5954446 , -1.1412332 ,  0.8681369 , -0.56073695,\n",
       "        3.256598  ,  0.1911835 ,  1.8396746 , -2.890596  ,  1.3997391 ,\n",
       "        2.293927  ,  0.05255968, -0.46891385,  1.4306542 ,  0.2587382 ,\n",
       "        1.4790144 ,  1.6202009 ,  1.4626901 ,  1.5379645 ,  2.7423828 ,\n",
       "       -0.61313   , -0.37242824, -1.6719655 ,  1.1201711 , -2.2062485 ,\n",
       "        1.1157458 ,  2.4760196 ,  0.45804   ,  0.8650248 ,  0.43780893,\n",
       "       -1.2739999 , -0.6257396 ,  0.26278642,  0.95309645, -0.45659083,\n",
       "       -0.13332783, -1.1235723 , -0.90265584,  0.9430524 ,  0.35242936,\n",
       "        0.36434168,  0.8225935 ,  3.535573  , -1.7537525 ,  0.22868507,\n",
       "        1.0167139 ,  0.320807  , -0.75273085, -0.9299672 , -0.37606657,\n",
       "       -1.4999249 ,  1.1586976 ,  2.4878206 ,  0.5867009 ,  1.7673299 ,\n",
       "       -1.7546599 , -2.1180298 ,  0.7497712 ,  0.9561133 ,  0.31092134,\n",
       "       -1.1500307 ,  0.40791997,  2.2565348 , -0.16418926,  2.0749896 ,\n",
       "       -0.18982342,  0.53295106,  1.4506198 , -1.6536356 , -0.74837434,\n",
       "        0.7065071 ,  0.3705313 ,  0.11005211,  0.13282159,  0.31635517,\n",
       "        1.043916  ,  1.3684863 ,  0.7575803 ,  0.32418838, -0.9608617 ,\n",
       "        0.86839   , -0.10117112, -1.5140032 , -1.5622715 , -1.5132773 ],\n",
       "      dtype=float32)"
      ]
     },
     "execution_count": 30,
     "metadata": {},
     "output_type": "execute_result"
    }
   ],
   "source": [
    "# gensim에서 제공하는 패키지를 이용해, 위에 남긴 임베딩 파라미터를 읽어서 word vector로 활용\n",
    "word_vectors = Word2VecKeyedVectors.load_word2vec_format(word2vec_file_path, binary=False)\n",
    "vector = word_vectors['사랑']\n",
    "vector"
   ]
  },
  {
   "cell_type": "code",
   "execution_count": null,
   "id": "31749f7d",
   "metadata": {
    "colab": {
     "base_uri": "https://localhost:8080/"
    },
    "executionInfo": {
     "elapsed": 283,
     "status": "ok",
     "timestamp": 1654351706691,
     "user": {
      "displayName": "changhwan lee",
      "userId": "04303211996600941657"
     },
     "user_tz": -540
    },
    "id": "31749f7d",
    "outputId": "8e4067c0-d54d-454f-81e4-71536521b7cc"
   },
   "outputs": [
    {
     "data": {
      "text/plain": [
       "[('부부', 0.5923999547958374),\n",
       " ('부모', 0.5840636491775513),\n",
       " ('노인', 0.5701133608818054),\n",
       " ('자녀', 0.5570424199104309),\n",
       " ('식구', 0.5542587637901306),\n",
       " ('애인', 0.5438093543052673),\n",
       " ('친척', 0.5390062928199768),\n",
       " ('여성', 0.5329889059066772),\n",
       " ('직장', 0.5324646830558777),\n",
       " ('주변인', 0.5217512845993042)]"
      ]
     },
     "execution_count": 31,
     "metadata": {},
     "output_type": "execute_result"
    }
   ],
   "source": [
    "word_vectors.similar_by_word(\"가족\")"
   ]
  },
  {
   "cell_type": "code",
   "execution_count": null,
   "id": "d375b1e9",
   "metadata": {
    "colab": {
     "base_uri": "https://localhost:8080/"
    },
    "executionInfo": {
     "elapsed": 272,
     "status": "ok",
     "timestamp": 1654351718826,
     "user": {
      "displayName": "changhwan lee",
      "userId": "04303211996600941657"
     },
     "user_tz": -540
    },
    "id": "d375b1e9",
    "outputId": "89183f6e-e897-43f4-abcf-a91b5825a426"
   },
   "outputs": [
    {
     "data": {
      "text/plain": [
       "[('자유', 0.5513263940811157),\n",
       " ('인권', 0.5115493535995483),\n",
       " ('조국', 0.5017400979995728),\n",
       " ('안보', 0.4976062774658203),\n",
       " ('조화', 0.4785003662109375),\n",
       " ('화해', 0.4756626486778259),\n",
       " ('위태', 0.4687613546848297),\n",
       " ('통일', 0.4624839127063751),\n",
       " ('수호', 0.45477527379989624),\n",
       " ('중립', 0.40663978457450867)]"
      ]
     },
     "execution_count": 32,
     "metadata": {},
     "output_type": "execute_result"
    }
   ],
   "source": [
    "word_vectors.similar_by_word(\"평화\")"
   ]
  },
  {
   "cell_type": "code",
   "execution_count": null,
   "id": "610b5c45",
   "metadata": {
    "colab": {
     "base_uri": "https://localhost:8080/"
    },
    "executionInfo": {
     "elapsed": 357,
     "status": "ok",
     "timestamp": 1654351729829,
     "user": {
      "displayName": "changhwan lee",
      "userId": "04303211996600941657"
     },
     "user_tz": -540
    },
    "id": "610b5c45",
    "outputId": "5753745d-d44e-4943-82bf-e34ed5b65866"
   },
   "outputs": [
    {
     "data": {
      "text/plain": [
       "[('내전', 0.7521965503692627),\n",
       " ('전투', 0.5893487930297852),\n",
       " ('냉전', 0.5497865676879883),\n",
       " ('대전', 0.5409930944442749),\n",
       " ('싸움', 0.51756352186203),\n",
       " ('혁명', 0.5050092935562134),\n",
       " ('분단', 0.4975409507751465),\n",
       " ('침략', 0.468789279460907),\n",
       " ('투쟁', 0.4602980613708496),\n",
       " ('폭동', 0.4420517385005951)]"
      ]
     },
     "execution_count": 33,
     "metadata": {},
     "output_type": "execute_result"
    }
   ],
   "source": [
    "word_vectors.similar_by_word(\"전쟁\")"
   ]
  },
  {
   "cell_type": "markdown",
   "id": "95c20110",
   "metadata": {
    "id": "95c20110"
   },
   "source": [
    "#### 모델성능 비교\n",
    "\n",
    "|모델번호|모델명|Loss|Accuracy|\n",
    "|---|---|---|---|\n",
    "|**모델 1**|**LSTM**|**0.4760**|**0.8415**|\n",
    "|**모델 2**|**KO-LSTM**|**0.5802**|**0.8526**|\n",
    "\n",
    "<br>\n",
    "LMS모델보다 KO-LSTM 모델에서 소폭 성능향상 되어 네이버 영화리뷰 데이터 감성분석 정확도 평가기준 85%를 상회함"
   ]
  },
  {
   "cell_type": "markdown",
   "id": "9b097633",
   "metadata": {
    "id": "9b097633"
   },
   "source": [
    "### [ 회  고 ]\n",
    "\n",
    " * 자연어 처리 관련 노드 학습시 embedding layer에 대한 이해가 부족했는데, 이번 EX를 수행하면서 좀 더 잘 알게 되었음\n",
    " * ko.bin을 다운받아 LMS에서 수행하다 에러가 나서, 버전 문제등 해결하기 위해 많은 시간 소요됨.  결국 구글에서 colab에서 실행할 수 있는 버전 설치 내용 참고하여 colab에서 실행할 수 있었는데, 이러한 모듈의 충돌 또는 버전 문제 등은 항상 발생할 것으로 보아, 효과적인 해결책의 리소스들을 찾아보아야 하겠음\n",
    " * 3가지 모델 학습시 유사어에서 영화 관련 내용의 유사어 성격의 단어들이 나왔지만, 단어선택이 좀 부족해 보였음\n",
    " * 이에 비해 ko.bin을 활용한 전이학습에서 유사어 출력이 굉장히 상식적인 단어들로 잘 선정하였으나, 앞의 3개 모델에서 영화에 관련된 단어 위주로 학습한 것과 비교하면 수긍이 감\n",
    " * 그럼에도 불구하고, 잘 학습된 전이학습 word vector를 가지고 테스트 하여도 기대와 달리 성능 향상이 획기적으로 상승하지 않은 점이 아쉽게 느껴졌음\n",
    "\n",
    "<br><br>\n",
    "\n",
    " #### < 참고자료 >\n",
    " * https://wikidocs.net/44249\n",
    " * konpy.org/en/latest/install/   (Mecab 설치)\n",
    " * doitgrow.com/39   (Mecab 설치)\n"
   ]
  }
 ],
 "metadata": {
  "accelerator": "GPU",
  "colab": {
   "collapsed_sections": [
    "95c20110"
   ],
   "name": "[E-09]영화리뷰_텍스트_감성분석하기.ipynb",
   "provenance": []
  },
  "kernelspec": {
   "display_name": "Python 3 (ipykernel)",
   "language": "python",
   "name": "python3"
  },
  "language_info": {
   "codemirror_mode": {
    "name": "ipython",
    "version": 3
   },
   "file_extension": ".py",
   "mimetype": "text/x-python",
   "name": "python",
   "nbconvert_exporter": "python",
   "pygments_lexer": "ipython3",
   "version": "3.9.7"
  }
 },
 "nbformat": 4,
 "nbformat_minor": 5
}
