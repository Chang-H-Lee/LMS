{
 "cells": [
  {
   "cell_type": "markdown",
   "metadata": {
    "id": "1xuzmHmv0olp"
   },
   "source": [
    "# **작사가 인공지능 만들기**"
   ]
  },
  {
   "cell_type": "markdown",
   "metadata": {
    "id": "8wXg8SkW03dr"
   },
   "source": [
    "### [ 목 차 ]\n",
    "\n",
    "1.데이터 준비 및 다듬기  \n",
    "2.모델 설계   \n",
    "3.학습   \n",
    "4.모델 평가  \n",
    "5.회고\n"
   ]
  },
  {
   "cell_type": "markdown",
   "metadata": {
    "id": "EMfA-lBO14DR"
   },
   "source": [
    "## 1.데이터 준비 및 다듬기"
   ]
  },
  {
   "cell_type": "code",
   "execution_count": 1,
   "metadata": {
    "executionInfo": {
     "elapsed": 2402,
     "status": "ok",
     "timestamp": 1652492783443,
     "user": {
      "displayName": "changhwan lee",
      "userId": "04303211996600941657"
     },
     "user_tz": -540
    },
    "id": "0jbhdneCqC5w"
   },
   "outputs": [],
   "source": [
    "import os, re\n",
    "import numpy as np\n",
    "import tensorflow as tf"
   ]
  },
  {
   "cell_type": "code",
   "execution_count": 2,
   "metadata": {
    "colab": {
     "base_uri": "https://localhost:8080/"
    },
    "executionInfo": {
     "elapsed": 1477,
     "status": "ok",
     "timestamp": 1652492790118,
     "user": {
      "displayName": "changhwan lee",
      "userId": "04303211996600941657"
     },
     "user_tz": -540
    },
    "id": "0z0VNIAnK4oZ",
    "outputId": "78cf5169-fc84-4530-95f6-92cce7a5b1d3"
   },
   "outputs": [
    {
     "name": "stdout",
     "output_type": "stream",
     "text": [
      "glob2                         0.7\n"
     ]
    }
   ],
   "source": [
    "!pip list | grep glob\n",
    "import glob"
   ]
  },
  {
   "cell_type": "markdown",
   "metadata": {
    "id": "K1ac8pE92KDy"
   },
   "source": [
    "데이터의 내용 확인 : 187,088 라인"
   ]
  },
  {
   "cell_type": "code",
   "execution_count": 4,
   "metadata": {
    "colab": {
     "base_uri": "https://localhost:8080/"
    },
    "executionInfo": {
     "elapsed": 31707,
     "status": "ok",
     "timestamp": 1652492866845,
     "user": {
      "displayName": "changhwan lee",
      "userId": "04303211996600941657"
     },
     "user_tz": -540
    },
    "id": "YmlieeklLICP",
    "outputId": "ba216dc8-6d29-408a-cbe8-dda93f3556a1"
   },
   "outputs": [
    {
     "name": "stdout",
     "output_type": "stream",
     "text": [
      "데이터 크기: 187088\n",
      "Examples:\n",
      " ['Yesterday, all my troubles seemed so far away', \"Now it looks as though they're here to stay\", \"Oh, I believe in yesterday Suddenly, I'm not half the man I used to be\"]\n"
     ]
    }
   ],
   "source": [
    "txt_file_path = '/content/drive/MyDrive/LMS/lyricist/data/lyrics/*'\n",
    "\n",
    "txt_list = glob.glob(txt_file_path)\n",
    "\n",
    "raw_corpus = []\n",
    "\n",
    "# 여러개의 txt 파일을 모두 읽어서 raw_corpus 에 담습니다.\n",
    "for txt_file in txt_list:\n",
    "    with open(txt_file, \"r\") as f:\n",
    "        raw = f.read().splitlines()\n",
    "        raw_corpus.extend(raw)\n",
    "\n",
    "print(\"데이터 크기:\", len(raw_corpus))\n",
    "print(\"Examples:\\n\", raw_corpus[:3])"
   ]
  },
  {
   "cell_type": "markdown",
   "metadata": {
    "id": "v91YcoDJ2kaY"
   },
   "source": [
    "### 데이터 다듬기\n",
    " - 불필요한 공백, 특수문자 등 제거\n",
    " - 문장의 시작과 끝을 알리는 token 추가"
   ]
  },
  {
   "cell_type": "code",
   "execution_count": 5,
   "metadata": {
    "colab": {
     "base_uri": "https://localhost:8080/"
    },
    "executionInfo": {
     "elapsed": 429,
     "status": "ok",
     "timestamp": 1652492896111,
     "user": {
      "displayName": "changhwan lee",
      "userId": "04303211996600941657"
     },
     "user_tz": -540
    },
    "id": "8GIOm3-9rrdF",
    "outputId": "bf025d34-1976-4fe7-a7b0-008b349867c1"
   },
   "outputs": [
    {
     "name": "stdout",
     "output_type": "stream",
     "text": [
      "Yesterday, all my troubles seemed so far away\n",
      "Now it looks as though they're here to stay\n",
      "Oh, I believe in yesterday Suddenly, I'm not half the man I used to be\n",
      "There's a shadow hanging over me.\n",
      "Oh, yesterday came suddenly Why she had to go I don't know she wouldn't say\n",
      "I said something wrong, now I long for yesterday Yesterday, love was such an easy game to play\n",
      "Now I need a place to hide away\n",
      "Oh, I believe in yesterday Why she had to go I don't know she wouldn't say\n",
      "I said something wrong, now I long for yesterday Yesterday, love was such an easy game to play\n",
      "Now I need a place to hide away\n"
     ]
    }
   ],
   "source": [
    "for idx, sentence in enumerate(raw_corpus):\n",
    "  if len(sentence) == 0: continue\n",
    "  if sentence[-1] == \":\": continue\n",
    "\n",
    "  if idx > 9: break\n",
    "  print(sentence)"
   ]
  },
  {
   "cell_type": "code",
   "execution_count": 6,
   "metadata": {
    "colab": {
     "base_uri": "https://localhost:8080/"
    },
    "executionInfo": {
     "elapsed": 834,
     "status": "ok",
     "timestamp": 1652492904983,
     "user": {
      "displayName": "changhwan lee",
      "userId": "04303211996600941657"
     },
     "user_tz": -540
    },
    "id": "lsGE7ZY8tGzq",
    "outputId": "e07586f1-1030-41e4-e7e2-7271d4ea2721"
   },
   "outputs": [
    {
     "name": "stdout",
     "output_type": "stream",
     "text": [
      "<start> this is sample sentence . <end>\n"
     ]
    }
   ],
   "source": [
    "# 입력된 문장을\n",
    "#     1. 소문자로 바꾸고, 양쪽 공백을 지웁니다\n",
    "#     2. 특수문자 양쪽에 공백을 넣고\n",
    "#     3. 여러개의 공백은 하나의 공백으로 바꿉니다\n",
    "#     4. a-zA-Z?.!,¿가 아닌 모든 문자를 하나의 공백으로 바꿉니다\n",
    "#     5. 다시 양쪽 공백을 지웁니다\n",
    "#     6. 문장 시작에는 <start>, 끝에는 <end>를 추가합니다\n",
    "# 이 순서로 처리해주면 문제가 되는 상황을 방지할 수 있겠네요!\n",
    "def preprocess_sentence(sentence):\n",
    "    sentence = sentence.lower().strip() # 1\n",
    "    sentence = re.sub(r\"([?.!,¿])\", r\" \\1 \", sentence) # 2\n",
    "    sentence = re.sub(r'[\" \"]+', \" \", sentence) # 3\n",
    "    sentence = re.sub(r\"[^a-zA-Z?.!,¿]+\", \" \", sentence) # 4\n",
    "    sentence = sentence.strip() # 5\n",
    "    sentence = '<start> ' + sentence + ' <end>' # 6\n",
    "    return sentence\n",
    "\n",
    "# 이 문장이 어떻게 필터링되는지 확인해 보세요.\n",
    "print(preprocess_sentence(\"This @_is ;;;sample        sentence.\"))"
   ]
  },
  {
   "cell_type": "code",
   "execution_count": 7,
   "metadata": {
    "colab": {
     "base_uri": "https://localhost:8080/"
    },
    "executionInfo": {
     "elapsed": 1855,
     "status": "ok",
     "timestamp": 1652492917750,
     "user": {
      "displayName": "changhwan lee",
      "userId": "04303211996600941657"
     },
     "user_tz": -540
    },
    "id": "kxWnzr5JwThO",
    "outputId": "6a3e8e7a-6613-426f-c7c5-ea47c5f92991"
   },
   "outputs": [
    {
     "data": {
      "text/plain": [
       "['<start> yesterday , all my troubles seemed so far away <end>',\n",
       " '<start> now it looks as though they re here to stay <end>',\n",
       " '<start> there s a shadow hanging over me . <end>',\n",
       " '<start> now i need a place to hide away <end>',\n",
       " '<start> now i need a place to hide away <end>',\n",
       " '<start> oh , i believe in yesterday <end>',\n",
       " '<start> speaking words of wisdom , let it be <end>',\n",
       " '<start> speaking words of wisdom , let it be <end>',\n",
       " '<start> there will be an answer , let it be <end>',\n",
       " '<start> there will be an answer , let it be <end>']"
      ]
     },
     "execution_count": 7,
     "metadata": {},
     "output_type": "execute_result"
    }
   ],
   "source": [
    "corpus = []\n",
    "\n",
    "for sentence in raw_corpus:\n",
    "    # 우리가 원하지 않는 문장은 건너뜁니다\n",
    "    if len(sentence) == 0: continue\n",
    "    if sentence[-1] == \":\": continue\n",
    "    \n",
    "    # 정제를 하고 담아주세요, 토큰 개수 15보다 큰 문장 제외\n",
    "    preprocessed_sentence = preprocess_sentence(sentence)\n",
    "    if len(preprocessed_sentence.split()) > 15: continue\n",
    "    corpus.append(preprocessed_sentence)\n",
    "        \n",
    "# 정제된 결과를 10개만 확인해보죠\n",
    "corpus[:10]\n"
   ]
  },
  {
   "cell_type": "code",
   "execution_count": 8,
   "metadata": {
    "colab": {
     "base_uri": "https://localhost:8080/"
    },
    "executionInfo": {
     "elapsed": 3446,
     "status": "ok",
     "timestamp": 1652492961378,
     "user": {
      "displayName": "changhwan lee",
      "userId": "04303211996600941657"
     },
     "user_tz": -540
    },
    "id": "ULzAgZcixic0",
    "outputId": "deaf7a8c-e6da-49f7-9ca7-50af355da30f"
   },
   "outputs": [
    {
     "name": "stdout",
     "output_type": "stream",
     "text": [
      "[[  2 886   5 ...   0   0   0]\n",
      " [  2  50  11 ...   0   0   0]\n",
      " [  2  62  17 ...   0   0   0]\n",
      " ...\n",
      " [  2 198   1 ...   0   0   0]\n",
      " [  2  74   7 ...   0   0   0]\n",
      " [  2  14   6 ...   0   0   0]] <keras_preprocessing.text.Tokenizer object at 0x7f0d68cd8290>\n"
     ]
    }
   ],
   "source": [
    "def tokenize(corpus):\n",
    "  tokenizer = tf.keras.preprocessing.text.Tokenizer(\n",
    "      num_words=14000,\n",
    "      filters=' ',\n",
    "      oov_token=\"<unk>\"      \n",
    "  )\n",
    "  tokenizer.fit_on_texts(corpus)\n",
    "  tensor = tokenizer.texts_to_sequences(corpus)\n",
    "  tensor = tf.keras.preprocessing.sequence.pad_sequences(tensor, padding='post')\n",
    "  print(tensor, tokenizer)\n",
    "  return tensor, tokenizer\n",
    "\n",
    "tensor, tokenizer = tokenize(corpus)  \n"
   ]
  },
  {
   "cell_type": "code",
   "execution_count": 9,
   "metadata": {
    "colab": {
     "base_uri": "https://localhost:8080/"
    },
    "executionInfo": {
     "elapsed": 808,
     "status": "ok",
     "timestamp": 1652492967061,
     "user": {
      "displayName": "changhwan lee",
      "userId": "04303211996600941657"
     },
     "user_tz": -540
    },
    "id": "2ivqYKFP1eBC",
    "outputId": "307a1d89-aee0-4759-ad71-d189c4e2a44f"
   },
   "outputs": [
    {
     "name": "stdout",
     "output_type": "stream",
     "text": [
      "[[   2  886    5   25   13 2567 1947   31  352  138]\n",
      " [   2   50   11  742   81  316   38   56   90   10]\n",
      " [   2   62   17    9 2039 1046  142   12   22    3]]\n"
     ]
    },
    {
     "data": {
      "text/plain": [
       "(156013, 15)"
      ]
     },
     "execution_count": 9,
     "metadata": {},
     "output_type": "execute_result"
    }
   ],
   "source": [
    "print(tensor[:3, :10])\n",
    "tensor.shape"
   ]
  },
  {
   "cell_type": "code",
   "execution_count": 10,
   "metadata": {
    "colab": {
     "base_uri": "https://localhost:8080/"
    },
    "executionInfo": {
     "elapsed": 430,
     "status": "ok",
     "timestamp": 1652492996066,
     "user": {
      "displayName": "changhwan lee",
      "userId": "04303211996600941657"
     },
     "user_tz": -540
    },
    "id": "86fYz_hL1_-i",
    "outputId": "c38c89ce-4f37-4ff6-ba0b-468153779f8a"
   },
   "outputs": [
    {
     "name": "stdout",
     "output_type": "stream",
     "text": [
      "1 : <unk>\n",
      "2 : <start>\n",
      "3 : <end>\n",
      "4 : i\n",
      "5 : ,\n",
      "6 : the\n",
      "7 : you\n",
      "8 : and\n",
      "9 : a\n",
      "10 : to\n"
     ]
    }
   ],
   "source": [
    "for idx in tokenizer.index_word:\n",
    "  print(idx, \":\", tokenizer.index_word[idx])\n",
    "\n",
    "  if idx >= 10: break"
   ]
  },
  {
   "cell_type": "markdown",
   "metadata": {
    "id": "0opBiTD949vJ"
   },
   "source": [
    "## 소스문장 생성 및 평가 데이터셋 분리"
   ]
  },
  {
   "cell_type": "code",
   "execution_count": 11,
   "metadata": {
    "colab": {
     "base_uri": "https://localhost:8080/"
    },
    "executionInfo": {
     "elapsed": 821,
     "status": "ok",
     "timestamp": 1652493028100,
     "user": {
      "displayName": "changhwan lee",
      "userId": "04303211996600941657"
     },
     "user_tz": -540
    },
    "id": "_oQpALSS3FEH",
    "outputId": "35eaf85d-1c7d-43f0-cfa5-7899ccedb385"
   },
   "outputs": [
    {
     "name": "stdout",
     "output_type": "stream",
     "text": [
      "[   2  886    5   25   13 2567 1947   31  352  138    3    0    0    0]\n",
      "[ 886    5   25   13 2567 1947   31  352  138    3    0    0    0    0]\n"
     ]
    }
   ],
   "source": [
    "# 소스문장 생성 \n",
    "src_input = tensor[:, :-1]\n",
    "tgt_input = tensor[:, 1:]\n",
    "\n",
    "print(src_input[0])\n",
    "print(tgt_input[0])"
   ]
  },
  {
   "cell_type": "code",
   "execution_count": 12,
   "metadata": {
    "colab": {
     "base_uri": "https://localhost:8080/"
    },
    "executionInfo": {
     "elapsed": 419,
     "status": "ok",
     "timestamp": 1652493063340,
     "user": {
      "displayName": "changhwan lee",
      "userId": "04303211996600941657"
     },
     "user_tz": -540
    },
    "id": "1RCpiALUUh_w",
    "outputId": "bd628ab6-5278-4031-8c98-ee6f38c64bd6"
   },
   "outputs": [
    {
     "name": "stdout",
     "output_type": "stream",
     "text": [
      "source train: (124810, 14)\n",
      "target train: (124810, 14)\n",
      "source test: (31203, 14)\n",
      "target test: (31203, 14)\n"
     ]
    }
   ],
   "source": [
    "# 훈련/평가 데이터로 분리\n",
    "from sklearn.model_selection import train_test_split as tts\n",
    "enc_train, enc_val, dec_train, dec_val = tts(src_input,\n",
    "                                            tgt_input,\n",
    "                                            test_size=0.2,\n",
    "                                            random_state=100)\n",
    "print(\"source train:\", enc_train.shape)\n",
    "print(\"target train:\", dec_train.shape)\n",
    "print(\"source test:\", enc_val.shape)\n",
    "print(\"target test:\", dec_val.shape)\n"
   ]
  },
  {
   "cell_type": "code",
   "execution_count": 13,
   "metadata": {
    "colab": {
     "base_uri": "https://localhost:8080/"
    },
    "executionInfo": {
     "elapsed": 4337,
     "status": "ok",
     "timestamp": 1652493154143,
     "user": {
      "displayName": "changhwan lee",
      "userId": "04303211996600941657"
     },
     "user_tz": -540
    },
    "id": "XyHtBYMF32vC",
    "outputId": "927260b2-7879-4c9e-8cc0-d2a588176008"
   },
   "outputs": [
    {
     "data": {
      "text/plain": [
       "<BatchDataset element_spec=(TensorSpec(shape=(256, 14), dtype=tf.int32, name=None), TensorSpec(shape=(256, 14), dtype=tf.int32, name=None))>"
      ]
     },
     "execution_count": 13,
     "metadata": {},
     "output_type": "execute_result"
    }
   ],
   "source": [
    "# tf.data.Dataset 객체 형성\n",
    "BUFFER_SIZE = len(enc_train)\n",
    "VAL_BUFFER_SIZE = len(enc_val)\n",
    "BATCH_SIZE = 256\n",
    "step_per_epoch = len(enc_train) // BATCH_SIZE\n",
    "\n",
    "VOCAB_SIZE = tokenizer.num_words + 1\n",
    "\n",
    "dataset = tf.data.Dataset.from_tensor_slices((enc_train, dec_train))\n",
    "val_dataset = tf.data.Dataset.from_tensor_slices((enc_val, dec_val))\n",
    "dataset = dataset.shuffle(BUFFER_SIZE)\n",
    "dataset = dataset.batch(BATCH_SIZE, drop_remainder=True)\n",
    "val_dataset = val_dataset.shuffle(VAL_BUFFER_SIZE)\n",
    "val_dataset = val_dataset.batch(BATCH_SIZE, drop_remainder=True)\n",
    "dataset\n",
    "val_dataset\n"
   ]
  },
  {
   "cell_type": "markdown",
   "metadata": {
    "id": "JeRAr-VB6Qgu"
   },
   "source": [
    "## 2.모델 설계"
   ]
  },
  {
   "cell_type": "code",
   "execution_count": 14,
   "metadata": {
    "executionInfo": {
     "elapsed": 412,
     "status": "ok",
     "timestamp": 1652493247722,
     "user": {
      "displayName": "changhwan lee",
      "userId": "04303211996600941657"
     },
     "user_tz": -540
    },
    "id": "xiAAlooI6mUK"
   },
   "outputs": [],
   "source": [
    "class TextGenerator(tf.keras.Model):\n",
    "  def __init__(self, vocab_size, embedding_size, hidden_size):\n",
    "    super().__init__()\n",
    "\n",
    "    self.embedding = tf.keras.layers.Embedding(vocab_size,embedding_size)\n",
    "    self.rnn_1 = tf.keras.layers.LSTM(hidden_size, return_sequences=True)\n",
    "    self.rnn_2 = tf.keras.layers.LSTM(hidden_size, return_sequences=True)\n",
    "    self.linear = tf.keras.layers.Dense(vocab_size)\n",
    "\n",
    "  def call(self, x):\n",
    "    out = self.embedding(x)\n",
    "    out = self.rnn_1(out)  \n",
    "    out = self.rnn_2(out)\n",
    "    out = self.linear(out)\n",
    "\n",
    "    return out\n",
    "\n",
    "embedding_size = 2048\n",
    "hidden_size = 2048\n",
    "model = TextGenerator(tokenizer.num_words + 1, embedding_size, hidden_size)    \n"
   ]
  },
  {
   "cell_type": "code",
   "execution_count": 15,
   "metadata": {
    "colab": {
     "base_uri": "https://localhost:8080/"
    },
    "executionInfo": {
     "elapsed": 16772,
     "status": "ok",
     "timestamp": 1652493273541,
     "user": {
      "displayName": "changhwan lee",
      "userId": "04303211996600941657"
     },
     "user_tz": -540
    },
    "id": "rbOhDcPg9fKS",
    "outputId": "d82cf8c9-f6d0-4e82-de54-7e1f79fff694"
   },
   "outputs": [
    {
     "data": {
      "text/plain": [
       "<tf.Tensor: shape=(256, 14, 14001), dtype=float32, numpy=\n",
       "array([[[-4.23402176e-04,  7.36374277e-05, -2.80026125e-05, ...,\n",
       "          1.33849055e-04, -6.95117458e-04, -4.79728478e-04],\n",
       "        [-5.33892424e-04, -4.94144449e-04, -3.15681420e-04, ...,\n",
       "          3.15385318e-04, -8.02753144e-04, -1.46822698e-04],\n",
       "        [-8.60765518e-04, -8.02512222e-04,  4.41166549e-06, ...,\n",
       "          2.25638360e-04, -9.21553292e-04,  1.05341140e-04],\n",
       "        ...,\n",
       "        [-4.66016121e-04, -3.41660087e-03, -1.66442536e-03, ...,\n",
       "          6.04378060e-03, -6.87612919e-03,  3.28803761e-03],\n",
       "        [-4.91741404e-04, -3.36152385e-03, -1.90429937e-03, ...,\n",
       "          6.31239731e-03, -7.12267682e-03,  3.40079842e-03],\n",
       "        [-5.26813208e-04, -3.28886602e-03, -2.11894093e-03, ...,\n",
       "          6.49449788e-03, -7.28788041e-03,  3.48722097e-03]],\n",
       "\n",
       "       [[-4.23402176e-04,  7.36374277e-05, -2.80026125e-05, ...,\n",
       "          1.33849055e-04, -6.95117458e-04, -4.79728478e-04],\n",
       "        [-4.32399975e-04,  1.64802725e-04,  3.28682072e-04, ...,\n",
       "         -7.33149363e-06, -9.36409982e-04, -6.82575104e-04],\n",
       "        [-9.44869302e-04,  5.06225915e-04,  5.57576364e-04, ...,\n",
       "          4.34984046e-04, -1.18654489e-03, -6.08649396e-04],\n",
       "        ...,\n",
       "        [ 1.39782293e-04, -4.42702696e-03,  2.83025613e-04, ...,\n",
       "          4.61379485e-03, -4.90274141e-03,  3.73310014e-03],\n",
       "        [ 1.16400435e-04, -4.51654987e-03, -4.68571343e-05, ...,\n",
       "          5.46255242e-03, -5.60878497e-03,  4.01535956e-03],\n",
       "        [ 8.56088154e-05, -4.50615119e-03, -3.85231309e-04, ...,\n",
       "          6.09619077e-03, -6.16331166e-03,  4.20306018e-03]],\n",
       "\n",
       "       [[-4.23402176e-04,  7.36374277e-05, -2.80026125e-05, ...,\n",
       "          1.33849055e-04, -6.95117458e-04, -4.79728478e-04],\n",
       "        [-1.24150759e-03,  4.36707371e-04, -1.13063950e-04, ...,\n",
       "          7.03867408e-04, -1.13618653e-03, -5.84400899e-04],\n",
       "        [-1.16700190e-03,  5.73730154e-04,  4.57632821e-04, ...,\n",
       "          9.10919276e-04, -1.40349776e-03, -1.19372585e-03],\n",
       "        ...,\n",
       "        [ 5.00132155e-04, -1.03647693e-03,  3.10446485e-03, ...,\n",
       "         -2.16706702e-03, -1.00789173e-03,  9.10663075e-05],\n",
       "        [ 2.53298873e-04, -1.51818397e-03,  2.74373405e-03, ...,\n",
       "         -6.55121636e-04, -2.11856281e-03,  9.56947799e-04],\n",
       "        [ 1.74941863e-06, -1.90321566e-03,  2.27075629e-03, ...,\n",
       "          8.15536478e-04, -3.15665687e-03,  1.70930848e-03]],\n",
       "\n",
       "       ...,\n",
       "\n",
       "       [[-4.23402176e-04,  7.36374277e-05, -2.80026125e-05, ...,\n",
       "          1.33849055e-04, -6.95117458e-04, -4.79728478e-04],\n",
       "        [-2.82952620e-04, -6.60343154e-04, -1.07778556e-04, ...,\n",
       "          3.50360751e-05, -7.92590494e-04, -3.55816563e-04],\n",
       "        [ 4.04774561e-04, -7.12714274e-04, -4.26851948e-05, ...,\n",
       "         -7.92059349e-04, -1.47558248e-03, -3.06439353e-04],\n",
       "        ...,\n",
       "        [ 1.03523221e-03,  2.12494214e-03,  1.00031495e-03, ...,\n",
       "         -1.51404401e-03,  1.16770400e-03, -1.38772465e-03],\n",
       "        [ 1.39420235e-03,  1.39937329e-03,  8.82746244e-04, ...,\n",
       "         -1.29668892e-03,  9.09196970e-04, -1.08035607e-03],\n",
       "        [ 1.31444563e-03,  4.86306730e-04,  8.33728875e-04, ...,\n",
       "         -2.28874720e-04, -4.58336399e-05, -3.92807618e-04]],\n",
       "\n",
       "       [[-4.23402176e-04,  7.36374277e-05, -2.80026125e-05, ...,\n",
       "          1.33849055e-04, -6.95117458e-04, -4.79728478e-04],\n",
       "        [-7.81802752e-04,  4.53811575e-04, -1.97798538e-04, ...,\n",
       "          1.40956065e-04, -1.20896439e-03, -8.49812292e-04],\n",
       "        [-1.03758625e-03,  3.59152356e-04, -1.17923482e-05, ...,\n",
       "          2.30963065e-04, -1.35849812e-03, -1.00298622e-03],\n",
       "        ...,\n",
       "        [ 1.42030837e-03,  5.81686443e-04, -5.21604437e-04, ...,\n",
       "         -2.26520322e-04,  1.77715020e-03, -5.35371597e-04],\n",
       "        [ 1.10705930e-03,  3.39499202e-05, -4.56318987e-04, ...,\n",
       "          1.04672310e-03,  6.55270589e-04,  1.59704912e-04],\n",
       "        [ 7.19975331e-04, -4.96086257e-04, -4.63454955e-04, ...,\n",
       "          2.41583004e-03, -6.04362693e-04,  7.88038422e-04]],\n",
       "\n",
       "       [[-4.23402176e-04,  7.36374277e-05, -2.80026125e-05, ...,\n",
       "          1.33849055e-04, -6.95117458e-04, -4.79728478e-04],\n",
       "        [-6.01159001e-04,  4.40391363e-04, -6.79126242e-04, ...,\n",
       "          3.65266809e-04, -1.07736397e-03, -2.31049067e-04],\n",
       "        [-5.39482455e-04,  5.64134098e-04, -1.51898654e-03, ...,\n",
       "          1.00012934e-04, -9.58897173e-04,  2.03568139e-04],\n",
       "        ...,\n",
       "        [-4.41450276e-04, -1.11367716e-03, -1.34441114e-04, ...,\n",
       "          1.02197391e-03, -1.38220948e-03,  4.49096522e-04],\n",
       "        [-3.64025880e-04, -1.56695733e-03, -1.47114290e-04, ...,\n",
       "          2.24037771e-03, -2.58657429e-03,  1.09752710e-03],\n",
       "        [-3.19108978e-04, -1.93819986e-03, -2.86293973e-04, ...,\n",
       "          3.38171818e-03, -3.69771826e-03,  1.67829101e-03]]],\n",
       "      dtype=float32)>"
      ]
     },
     "execution_count": 15,
     "metadata": {},
     "output_type": "execute_result"
    }
   ],
   "source": [
    "# 일부 데이터 테스트 : 1 batch\n",
    "for src_sample, tgt_sample in dataset.take(1): break\n",
    "model(src_sample)"
   ]
  },
  {
   "cell_type": "code",
   "execution_count": 16,
   "metadata": {
    "colab": {
     "base_uri": "https://localhost:8080/"
    },
    "executionInfo": {
     "elapsed": 412,
     "status": "ok",
     "timestamp": 1652493283841,
     "user": {
      "displayName": "changhwan lee",
      "userId": "04303211996600941657"
     },
     "user_tz": -540
    },
    "id": "_EtvBtB8_YQp",
    "outputId": "a405abb8-3b28-493f-d3b8-4a95969d6be6"
   },
   "outputs": [
    {
     "name": "stdout",
     "output_type": "stream",
     "text": [
      "Model: \"text_generator\"\n",
      "_________________________________________________________________\n",
      " Layer (type)                Output Shape              Param #   \n",
      "=================================================================\n",
      " embedding (Embedding)       multiple                  28674048  \n",
      "                                                                 \n",
      " lstm (LSTM)                 multiple                  33562624  \n",
      "                                                                 \n",
      " lstm_1 (LSTM)               multiple                  33562624  \n",
      "                                                                 \n",
      " dense (Dense)               multiple                  28688049  \n",
      "                                                                 \n",
      "=================================================================\n",
      "Total params: 124,487,345\n",
      "Trainable params: 124,487,345\n",
      "Non-trainable params: 0\n",
      "_________________________________________________________________\n"
     ]
    }
   ],
   "source": [
    "model.summary()"
   ]
  },
  {
   "cell_type": "markdown",
   "metadata": {
    "id": "rSlTtN2P8Gl9"
   },
   "source": [
    "## 3.학 습\n",
    "\n",
    " - 다양한 파라메터에  따른 val_loss 측정(epochs 10 기준)\n",
    " - batch_size : 256 / 512  \n",
    " - embedding_size : 512 / 1,024  / 2,048\n",
    " - hidden_size : 1,024 / 2,048\n",
    "\n",
    "- batch_size 512, embedding_size 1,024, hidden_size 2,048 => val_loss 2.26\n",
    "- **batch_size 256, embedding_size 2,048, hidden_size 2,048 => val_loss 2.18**\n",
    "\n",
    "**마지막 모델의 7번째 epochs에서 val_loss 2.13 최저치를 기록**하고, 이후 epochs에서 loss율이 올라가 과적합 현상 발생"
   ]
  },
  {
   "cell_type": "code",
   "execution_count": 17,
   "metadata": {
    "colab": {
     "base_uri": "https://localhost:8080/"
    },
    "executionInfo": {
     "elapsed": 1499699,
     "status": "ok",
     "timestamp": 1652494970329,
     "user": {
      "displayName": "changhwan lee",
      "userId": "04303211996600941657"
     },
     "user_tz": -540
    },
    "id": "VVJuDHRBALzf",
    "outputId": "1704377c-fdbe-49ad-92e8-d1e8d4ff072b"
   },
   "outputs": [
    {
     "name": "stdout",
     "output_type": "stream",
     "text": [
      "Epoch 1/10\n",
      "487/487 [==============================] - 152s 307ms/step - loss: 3.1811 - val_loss: 2.8360\n",
      "Epoch 2/10\n",
      "487/487 [==============================] - 150s 307ms/step - loss: 2.6332 - val_loss: 2.5775\n",
      "Epoch 3/10\n",
      "487/487 [==============================] - 150s 307ms/step - loss: 2.2825 - val_loss: 2.3956\n",
      "Epoch 4/10\n",
      "487/487 [==============================] - 150s 307ms/step - loss: 1.9445 - val_loss: 2.2665\n",
      "Epoch 5/10\n",
      "487/487 [==============================] - 150s 307ms/step - loss: 1.6389 - val_loss: 2.1805\n",
      "Epoch 6/10\n",
      "487/487 [==============================] - 150s 307ms/step - loss: 1.3853 - val_loss: 2.1391\n",
      "Epoch 7/10\n",
      "487/487 [==============================] - 150s 307ms/step - loss: 1.1960 - val_loss: 2.1315\n",
      "Epoch 8/10\n",
      "487/487 [==============================] - 150s 307ms/step - loss: 1.0718 - val_loss: 2.1419\n",
      "Epoch 9/10\n",
      "487/487 [==============================] - 150s 307ms/step - loss: 1.0058 - val_loss: 2.1674\n",
      "Epoch 10/10\n",
      "487/487 [==============================] - 150s 307ms/step - loss: 0.9736 - val_loss: 2.1850\n"
     ]
    }
   ],
   "source": [
    "# 학습 시작\n",
    "optimizer = tf.keras.optimizers.Adam()\n",
    "loss = tf.keras.losses.SparseCategoricalCrossentropy(\n",
    "    from_logits=True,\n",
    "    reduction='none'\n",
    ")\n",
    "\n",
    "model.compile(loss=loss, optimizer=optimizer)\n",
    "hist = model.fit(dataset,\n",
    "          validation_data=val_dataset,\n",
    "          epochs=10)"
   ]
  },
  {
   "cell_type": "code",
   "execution_count": 18,
   "metadata": {
    "colab": {
     "base_uri": "https://localhost:8080/",
     "height": 295
    },
    "executionInfo": {
     "elapsed": 503,
     "status": "ok",
     "timestamp": 1652494992273,
     "user": {
      "displayName": "changhwan lee",
      "userId": "04303211996600941657"
     },
     "user_tz": -540
    },
    "id": "m6rKno30t2Aj",
    "outputId": "9810dce6-0211-4714-f3df-6143984c480a"
   },
   "outputs": [
    {
     "data": {
      "image/png": "[encoded data removed]",
      "text/plain": [
       "<Figure size 432x288 with 1 Axes>"
      ]
     },
     "metadata": {
      "needs_background": "light"
     },
     "output_type": "display_data"
    }
   ],
   "source": [
    "# 학습과정 시각화\n",
    "loss = hist.history['loss']\n",
    "val_loss = hist.history['val_loss']\n",
    "epochs_range = range(10)\n",
    "\n",
    "import matplotlib.pyplot as plt\n",
    "%matplotlib inline\n",
    "\n",
    "plt.plot(epochs_range, loss, label='Training Loss')\n",
    "plt.plot(epochs_range, val_loss, label='Validation Loss')\n",
    "plt.legend()\n",
    "plt.title('Training and Validation Loss')\n",
    "plt.xlabel('epoch')\n",
    "plt.ylabel('Cross Entropy')\n",
    "\n",
    "plt.show()"
   ]
  },
  {
   "cell_type": "markdown",
   "metadata": {
    "id": "ANz97KW0-x79"
   },
   "source": [
    "## 4. 모델 평가"
   ]
  },
  {
   "cell_type": "code",
   "execution_count": 19,
   "metadata": {
    "executionInfo": {
     "elapsed": 429,
     "status": "ok",
     "timestamp": 1652495011759,
     "user": {
      "displayName": "changhwan lee",
      "userId": "04303211996600941657"
     },
     "user_tz": -540
    },
    "id": "bGWefh--BcaX"
   },
   "outputs": [],
   "source": [
    "# 글쓰기 함수 작성\n",
    "def generate_text(model, tokenizer, init_sentence=\"<start>\", max_len=20):\n",
    "  test_input = tokenizer.texts_to_sequences([init_sentence])\n",
    "  test_tensor = tf.convert_to_tensor(test_input, dtype=tf.int64)\n",
    "  end_token = tokenizer.word_index[\"<end>\"]\n",
    "\n",
    "  while True:\n",
    "    predict = model(test_tensor)\n",
    "    predict_word = tf.argmax(tf.nn.softmax(predict, axis=-1), axis=-1)[:, -1]\n",
    "    test_tensor = tf.concat([test_tensor, tf.expand_dims(predict_word, axis=0)], axis=-1)\n",
    "    if predict_word.numpy()[0] == end_token: break\n",
    "    if test_tensor.shape[1] >= max_len: break\n",
    "\n",
    "  generated = \"\"  \n",
    "\n",
    "  for word_index in test_tensor[0].numpy():\n",
    "    generated += tokenizer.index_word[word_index] + \" \"\n",
    "\n",
    "  return generated  "
   ]
  },
  {
   "cell_type": "code",
   "execution_count": 20,
   "metadata": {
    "colab": {
     "base_uri": "https://localhost:8080/",
     "height": 35
    },
    "executionInfo": {
     "elapsed": 513,
     "status": "ok",
     "timestamp": 1652495016765,
     "user": {
      "displayName": "changhwan lee",
      "userId": "04303211996600941657"
     },
     "user_tz": -540
    },
    "id": "6enEb1bmJEyv",
    "outputId": "0d5fa9e3-2a77-45ce-cdcf-69227044bb3b"
   },
   "outputs": [
    {
     "data": {
      "application/vnd.google.colaboratory.intrinsic+json": {
       "type": "string"
      },
      "text/plain": [
       "'<start> she s got the look <end> '"
      ]
     },
     "execution_count": 20,
     "metadata": {},
     "output_type": "execute_result"
    }
   ],
   "source": [
    "generate_text(model, tokenizer, init_sentence=\"<start> she\")"
   ]
  },
  {
   "cell_type": "code",
   "execution_count": 21,
   "metadata": {
    "colab": {
     "base_uri": "https://localhost:8080/",
     "height": 35
    },
    "executionInfo": {
     "elapsed": 437,
     "status": "ok",
     "timestamp": 1652495021765,
     "user": {
      "displayName": "changhwan lee",
      "userId": "04303211996600941657"
     },
     "user_tz": -540
    },
    "id": "Q0A3JbmWJif5",
    "outputId": "edbdb45a-560a-4fb0-a786-0a5e7e2a9a7f"
   },
   "outputs": [
    {
     "data": {
      "application/vnd.google.colaboratory.intrinsic+json": {
       "type": "string"
      },
      "text/plain": [
       "'<start> love is the answer <end> '"
      ]
     },
     "execution_count": 21,
     "metadata": {},
     "output_type": "execute_result"
    }
   ],
   "source": [
    "generate_text(model, tokenizer, init_sentence=\"<start> love\")"
   ]
  },
  {
   "cell_type": "code",
   "execution_count": 27,
   "metadata": {
    "colab": {
     "base_uri": "https://localhost:8080/",
     "height": 35
    },
    "executionInfo": {
     "elapsed": 429,
     "status": "ok",
     "timestamp": 1652495098755,
     "user": {
      "displayName": "changhwan lee",
      "userId": "04303211996600941657"
     },
     "user_tz": -540
    },
    "id": "y0_jAt5oxtEo",
    "outputId": "0aba35b2-e636-40f8-8d8d-6656bd35fb5e"
   },
   "outputs": [
    {
     "data": {
      "application/vnd.google.colaboratory.intrinsic+json": {
       "type": "string"
      },
      "text/plain": [
       "'<start> sun is rising on the water <end> '"
      ]
     },
     "execution_count": 27,
     "metadata": {},
     "output_type": "execute_result"
    }
   ],
   "source": [
    "generate_text(model, tokenizer, init_sentence=\"<start> sun\")"
   ]
  },
  {
   "cell_type": "markdown",
   "metadata": {
    "id": "wedr1BXtA0ng"
   },
   "source": [
    "## 5.회 고\n",
    " - 생각보다 문장이 이치에 크게 벗어나지 않고 그럴 수 있는 표현이라 생각됨\n",
    " - 데이터 사전처리 방법, 정규식 표현방법에 대한 공부가 더 필요할 것 같음  \n",
    " - 한글에 대한 테스트는 못해 봤는데, 잘 될 지 모르겠음\n",
    " - val_loss을 낮추는 게 더 좋은 모델인지는 의문임 : loss 가 좀더 높은 모델에서 life 를 제시했을 때 \"인생은 도박과 같다. 마진을 잘 챙겨라(<start> life is a gamble better check the point spread <end>)\"는 문장이 나왔는데 더 좋은 표현이었다고 생각됨\n"
   ]
  }
 ],
 "metadata": {
  "accelerator": "GPU",
  "colab": {
   "authorship_tag": "ABX9TyPfNhEOcjPmV7Mgojm62FiL",
   "collapsed_sections": [],
   "machine_shape": "hm",
   "mount_file_id": "1pz0FJ3OyWxCnvUyVtR_mpj1qQ21XyxE4",
   "name": "lyricist_e2.ipynb",
   "provenance": [
    {
     "file_id": "1o8CxfgdUJACFxFkM9rEfQ_rh_oYEcCeb",
     "timestamp": 1652492696499
    },
    {
     "file_id": "1rEysXMT7FhtPl3kGp1fIjxShKLJzO4QJ",
     "timestamp": 1652474558758
    }
   ]
  },
  "kernelspec": {
   "display_name": "Python 3",
   "name": "python3"
  },
  "language_info": {
   "name": "python"
  }
 },
 "nbformat": 4,
 "nbformat_minor": 0
}
