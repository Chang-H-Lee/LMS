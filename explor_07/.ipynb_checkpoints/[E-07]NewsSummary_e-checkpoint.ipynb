{
 "cells": [
  {
   "cell_type": "markdown",
   "metadata": {
    "id": "TNyQL-WoscZF"
   },
   "source": [
    "# 뉴스기사 요약하기"
   ]
  },
  {
   "cell_type": "markdown",
   "metadata": {
    "id": "JT5wgT-wslSN"
   },
   "source": [
    "## [ 목   차  ]\n",
    "\n",
    "### **< 영어 뉴스 요약>**\n",
    "\n",
    "#### 1. 데이터 준비\n",
    "#### 2. 데이터 전처리\n",
    "     2-1 중복 샘플과 Null값 존재 샘플 제거\n",
    "     2-2 텍스트 정규화와 불용어 제거\n",
    "     2-3 샘플 최대길이 정하기\n",
    "     2-4 시작토큰, 종료토큰 추가하기\n",
    "     2-5 훈련데이터와 테스트 데이터 나누기\n",
    "     2-6 단어집합 만들기 및 정수 인코딩\n",
    "     2-7 패딩하기\n",
    "#### 3. 모델 설계하기\n",
    "     3-1 인코드 설계\n",
    "     3-2 디코드 설계\n",
    "     3-3 어텐션 적용   \n",
    "#### 4. 모델 훈련하기   \n",
    "#### 5. 인퍼런스 모델 구현하기   \n",
    "#### 6. 모델 테스트하기\n",
    "#### 7. 추출적 요약 해보기\n",
    "\n",
    "\n",
    "### **< 한글 뉴스 요약 >**\n",
    "#### ai_hub 한글 뉴스자료 테스트\n",
    "\n",
    "### **< 회 고 >**\n",
    "\n",
    "\n"
   ]
  },
  {
   "cell_type": "markdown",
   "metadata": {
    "id": "aSMQJv0wHid4"
   },
   "source": [
    "## 1. 데이터 준비"
   ]
  },
  {
   "cell_type": "code",
   "execution_count": null,
   "metadata": {
    "colab": {
     "base_uri": "https://localhost:8080/"
    },
    "executionInfo": {
     "elapsed": 4153,
     "status": "ok",
     "timestamp": 1653189835873,
     "user": {
      "displayName": "changhwan lee",
      "userId": "04303211996600941657"
     },
     "user_tz": -540
    },
    "id": "rfzOAbq_6F9h",
    "outputId": "14d6213f-ec83-4565-f8e7-606008d1ad67"
   },
   "outputs": [
    {
     "name": "stdout",
     "output_type": "stream",
     "text": [
      "[nltk_data] Downloading package stopwords to /root/nltk_data...\n",
      "[nltk_data]   Unzipping corpora/stopwords.zip.\n"
     ]
    }
   ],
   "source": [
    "import nltk\n",
    "nltk.download('stopwords')\n",
    "\n",
    "import numpy as np\n",
    "import pandas as pd\n",
    "import os\n",
    "import re\n",
    "import matplotlib.pyplot as plt\n",
    "from nltk.corpus import stopwords\n",
    "from bs4 import BeautifulSoup \n",
    "from tensorflow.keras.preprocessing.text import Tokenizer \n",
    "from tensorflow.keras.preprocessing.sequence import pad_sequences\n",
    "import urllib.request\n",
    "import warnings\n",
    "warnings.filterwarnings(\"ignore\", category=UserWarning, module='bs4')"
   ]
  },
  {
   "cell_type": "markdown",
   "metadata": {
    "id": "G59ZuxeVIaPu"
   },
   "source": [
    "NLTK패키지에서 불용어 사전 다운로드하고, 데이터 전처리를 위한 패키지도 불러옴"
   ]
  },
  {
   "cell_type": "code",
   "execution_count": null,
   "metadata": {
    "colab": {
     "base_uri": "https://localhost:8080/"
    },
    "executionInfo": {
     "elapsed": 1691,
     "status": "ok",
     "timestamp": 1653189842464,
     "user": {
      "displayName": "changhwan lee",
      "userId": "04303211996600941657"
     },
     "user_tz": -540
    },
    "id": "CGjV87w86mag",
    "outputId": "f93b9828-46f1-4a88-de5c-a2bf7bec8ab2"
   },
   "outputs": [
    {
     "name": "stdout",
     "output_type": "stream",
     "text": [
      "전체 샘플수 : 98401\n"
     ]
    }
   ],
   "source": [
    "urllib.request.urlretrieve(\"https://raw.githubusercontent.com/sunnysai12345/News_Summary/master/news_summary_more.csv\", filename=\"news_summary_more.csv\")\n",
    "data = pd.read_csv('news_summary_more.csv', encoding='iso-8859-1')\n",
    "\n",
    "print('전체 샘플수 :', (len(data)))"
   ]
  },
  {
   "cell_type": "markdown",
   "metadata": {
    "id": "2WpCrqtWIoqp"
   },
   "source": [
    "98,000여 샘플을 모두 사용하기로 함"
   ]
  },
  {
   "cell_type": "code",
   "execution_count": null,
   "metadata": {
    "colab": {
     "base_uri": "https://localhost:8080/",
     "height": 206
    },
    "executionInfo": {
     "elapsed": 282,
     "status": "ok",
     "timestamp": 1653138271020,
     "user": {
      "displayName": "changhwan lee",
      "userId": "04303211996600941657"
     },
     "user_tz": -540
    },
    "id": "FmExFahn_Eix",
    "outputId": "09ed09b7-32cb-4e5d-8c40-fe7b1da5d5cf"
   },
   "outputs": [
    {
     "data": {
      "text/html": [
       "\n",
       "  <div id=\"df-1948f8fd-8ffa-4c75-8f3f-09aa9cb59450\">\n",
       "    <div class=\"colab-df-container\">\n",
       "      <div>\n",
       "<style scoped>\n",
       "    .dataframe tbody tr th:only-of-type {\n",
       "        vertical-align: middle;\n",
       "    }\n",
       "\n",
       "    .dataframe tbody tr th {\n",
       "        vertical-align: top;\n",
       "    }\n",
       "\n",
       "    .dataframe thead th {\n",
       "        text-align: right;\n",
       "    }\n",
       "</style>\n",
       "<table border=\"1\" class=\"dataframe\">\n",
       "  <thead>\n",
       "    <tr style=\"text-align: right;\">\n",
       "      <th></th>\n",
       "      <th>headlines</th>\n",
       "      <th>text</th>\n",
       "    </tr>\n",
       "  </thead>\n",
       "  <tbody>\n",
       "    <tr>\n",
       "      <th>0</th>\n",
       "      <td>upGrad learner switches to career in ML &amp; Al w...</td>\n",
       "      <td>Saurav Kant, an alumnus of upGrad and IIIT-B's...</td>\n",
       "    </tr>\n",
       "    <tr>\n",
       "      <th>1</th>\n",
       "      <td>Delhi techie wins free food from Swiggy for on...</td>\n",
       "      <td>Kunal Shah's credit card bill payment platform...</td>\n",
       "    </tr>\n",
       "    <tr>\n",
       "      <th>2</th>\n",
       "      <td>New Zealand end Rohit Sharma-led India's 12-ma...</td>\n",
       "      <td>New Zealand defeated India by 8 wickets in the...</td>\n",
       "    </tr>\n",
       "    <tr>\n",
       "      <th>3</th>\n",
       "      <td>Aegon life iTerm insurance plan helps customer...</td>\n",
       "      <td>With Aegon Life iTerm Insurance plan, customer...</td>\n",
       "    </tr>\n",
       "    <tr>\n",
       "      <th>4</th>\n",
       "      <td>Have known Hirani for yrs, what if MeToo claim...</td>\n",
       "      <td>Speaking about the sexual harassment allegatio...</td>\n",
       "    </tr>\n",
       "  </tbody>\n",
       "</table>\n",
       "</div>\n",
       "      <button class=\"colab-df-convert\" onclick=\"convertToInteractive('df-1948f8fd-8ffa-4c75-8f3f-09aa9cb59450')\"\n",
       "              title=\"Convert this dataframe to an interactive table.\"\n",
       "              style=\"display:none;\">\n",
       "        \n",
       "  <svg xmlns=\"http://www.w3.org/2000/svg\" height=\"24px\"viewBox=\"0 0 24 24\"\n",
       "       width=\"24px\">\n",
       "    <path d=\"M0 0h24v24H0V0z\" fill=\"none\"/>\n",
       "    <path d=\"M18.56 5.44l.94 2.06.94-2.06 2.06-.94-2.06-.94-.94-2.06-.94 2.06-2.06.94zm-11 1L8.5 8.5l.94-2.06 2.06-.94-2.06-.94L8.5 2.5l-.94 2.06-2.06.94zm10 10l.94 2.06.94-2.06 2.06-.94-2.06-.94-.94-2.06-.94 2.06-2.06.94z\"/><path d=\"M17.41 7.96l-1.37-1.37c-.4-.4-.92-.59-1.43-.59-.52 0-1.04.2-1.43.59L10.3 9.45l-7.72 7.72c-.78.78-.78 2.05 0 2.83L4 21.41c.39.39.9.59 1.41.59.51 0 1.02-.2 1.41-.59l7.78-7.78 2.81-2.81c.8-.78.8-2.07 0-2.86zM5.41 20L4 18.59l7.72-7.72 1.47 1.35L5.41 20z\"/>\n",
       "  </svg>\n",
       "      </button>\n",
       "      \n",
       "  <style>\n",
       "    .colab-df-container {\n",
       "      display:flex;\n",
       "      flex-wrap:wrap;\n",
       "      gap: 12px;\n",
       "    }\n",
       "\n",
       "    .colab-df-convert {\n",
       "      background-color: #E8F0FE;\n",
       "      border: none;\n",
       "      border-radius: 50%;\n",
       "      cursor: pointer;\n",
       "      display: none;\n",
       "      fill: #1967D2;\n",
       "      height: 32px;\n",
       "      padding: 0 0 0 0;\n",
       "      width: 32px;\n",
       "    }\n",
       "\n",
       "    .colab-df-convert:hover {\n",
       "      background-color: #E2EBFA;\n",
       "      box-shadow: 0px 1px 2px rgba(60, 64, 67, 0.3), 0px 1px 3px 1px rgba(60, 64, 67, 0.15);\n",
       "      fill: #174EA6;\n",
       "    }\n",
       "\n",
       "    [theme=dark] .colab-df-convert {\n",
       "      background-color: #3B4455;\n",
       "      fill: #D2E3FC;\n",
       "    }\n",
       "\n",
       "    [theme=dark] .colab-df-convert:hover {\n",
       "      background-color: #434B5C;\n",
       "      box-shadow: 0px 1px 3px 1px rgba(0, 0, 0, 0.15);\n",
       "      filter: drop-shadow(0px 1px 2px rgba(0, 0, 0, 0.3));\n",
       "      fill: #FFFFFF;\n",
       "    }\n",
       "  </style>\n",
       "\n",
       "      <script>\n",
       "        const buttonEl =\n",
       "          document.querySelector('#df-1948f8fd-8ffa-4c75-8f3f-09aa9cb59450 button.colab-df-convert');\n",
       "        buttonEl.style.display =\n",
       "          google.colab.kernel.accessAllowed ? 'block' : 'none';\n",
       "\n",
       "        async function convertToInteractive(key) {\n",
       "          const element = document.querySelector('#df-1948f8fd-8ffa-4c75-8f3f-09aa9cb59450');\n",
       "          const dataTable =\n",
       "            await google.colab.kernel.invokeFunction('convertToInteractive',\n",
       "                                                     [key], {});\n",
       "          if (!dataTable) return;\n",
       "\n",
       "          const docLinkHtml = 'Like what you see? Visit the ' +\n",
       "            '<a target=\"_blank\" href=https://colab.research.google.com/notebooks/data_table.ipynb>data table notebook</a>'\n",
       "            + ' to learn more about interactive tables.';\n",
       "          element.innerHTML = '';\n",
       "          dataTable['output_type'] = 'display_data';\n",
       "          await google.colab.output.renderOutput(dataTable, element);\n",
       "          const docLink = document.createElement('div');\n",
       "          docLink.innerHTML = docLinkHtml;\n",
       "          element.appendChild(docLink);\n",
       "        }\n",
       "      </script>\n",
       "    </div>\n",
       "  </div>\n",
       "  "
      ],
      "text/plain": [
       "                                           headlines  \\\n",
       "0  upGrad learner switches to career in ML & Al w...   \n",
       "1  Delhi techie wins free food from Swiggy for on...   \n",
       "2  New Zealand end Rohit Sharma-led India's 12-ma...   \n",
       "3  Aegon life iTerm insurance plan helps customer...   \n",
       "4  Have known Hirani for yrs, what if MeToo claim...   \n",
       "\n",
       "                                                text  \n",
       "0  Saurav Kant, an alumnus of upGrad and IIIT-B's...  \n",
       "1  Kunal Shah's credit card bill payment platform...  \n",
       "2  New Zealand defeated India by 8 wickets in the...  \n",
       "3  With Aegon Life iTerm Insurance plan, customer...  \n",
       "4  Speaking about the sexual harassment allegatio...  "
      ]
     },
     "execution_count": 3,
     "metadata": {},
     "output_type": "execute_result"
    }
   ],
   "source": [
    "data.head()"
   ]
  },
  {
   "cell_type": "code",
   "execution_count": null,
   "metadata": {
    "colab": {
     "base_uri": "https://localhost:8080/"
    },
    "executionInfo": {
     "elapsed": 349,
     "status": "ok",
     "timestamp": 1653138288768,
     "user": {
      "displayName": "changhwan lee",
      "userId": "04303211996600941657"
     },
     "user_tz": -540
    },
    "id": "xHlM999p_JEf",
    "outputId": "09f3cd44-81df-4349-dab1-7012ae514eae"
   },
   "outputs": [
    {
     "data": {
      "text/plain": [
       "Index(['headlines', 'text'], dtype='object')"
      ]
     },
     "execution_count": 4,
     "metadata": {},
     "output_type": "execute_result"
    }
   ],
   "source": [
    "data.columns"
   ]
  },
  {
   "cell_type": "code",
   "execution_count": null,
   "metadata": {
    "colab": {
     "base_uri": "https://localhost:8080/",
     "height": 520
    },
    "executionInfo": {
     "elapsed": 309,
     "status": "ok",
     "timestamp": 1653138383249,
     "user": {
      "displayName": "changhwan lee",
      "userId": "04303211996600941657"
     },
     "user_tz": -540
    },
    "id": "6MX3FgVb_YlX",
    "outputId": "04470235-527b-43d4-e449-da3daa159deb"
   },
   "outputs": [
    {
     "data": {
      "text/html": [
       "\n",
       "  <div id=\"df-8316bcc0-b775-47fa-b27c-4917ee2e3a7c\">\n",
       "    <div class=\"colab-df-container\">\n",
       "      <div>\n",
       "<style scoped>\n",
       "    .dataframe tbody tr th:only-of-type {\n",
       "        vertical-align: middle;\n",
       "    }\n",
       "\n",
       "    .dataframe tbody tr th {\n",
       "        vertical-align: top;\n",
       "    }\n",
       "\n",
       "    .dataframe thead th {\n",
       "        text-align: right;\n",
       "    }\n",
       "</style>\n",
       "<table border=\"1\" class=\"dataframe\">\n",
       "  <thead>\n",
       "    <tr style=\"text-align: right;\">\n",
       "      <th></th>\n",
       "      <th>headlines</th>\n",
       "      <th>text</th>\n",
       "    </tr>\n",
       "  </thead>\n",
       "  <tbody>\n",
       "    <tr>\n",
       "      <th>42756</th>\n",
       "      <td>Facebook loses more than Tesla's market value ...</td>\n",
       "      <td>Social media giant Facebook has lost over $54 ...</td>\n",
       "    </tr>\n",
       "    <tr>\n",
       "      <th>19153</th>\n",
       "      <td>Eight-year-old girl crushed under school gate ...</td>\n",
       "      <td>The eight-year-old daughter of an auto driver ...</td>\n",
       "    </tr>\n",
       "    <tr>\n",
       "      <th>65398</th>\n",
       "      <td>Militants who surrender will be accepted: J&amp;K ...</td>\n",
       "      <td>Jammu and Kashmir Police on Monday said that t...</td>\n",
       "    </tr>\n",
       "    <tr>\n",
       "      <th>84533</th>\n",
       "      <td>Raina posts video of daughter saying 'Papa' on...</td>\n",
       "      <td>Cricketer Suresh Raina posted a video of his o...</td>\n",
       "    </tr>\n",
       "    <tr>\n",
       "      <th>86280</th>\n",
       "      <td>Bieber gets emotional during speech at Manches...</td>\n",
       "      <td>Singer Justin Bieber got emotional during his ...</td>\n",
       "    </tr>\n",
       "    <tr>\n",
       "      <th>36178</th>\n",
       "      <td>Cops acting as Cong puppets: BJP to K'taka pol...</td>\n",
       "      <td>In its memorandum to Karnataka election panel'...</td>\n",
       "    </tr>\n",
       "    <tr>\n",
       "      <th>51948</th>\n",
       "      <td>ISRO releases 1st image taken by recently laun...</td>\n",
       "      <td>ISRO has released the first image captured by ...</td>\n",
       "    </tr>\n",
       "    <tr>\n",
       "      <th>34273</th>\n",
       "      <td>SC asks Delhi, H'yana to settle Yamuna water s...</td>\n",
       "      <td>The Supreme Court has asked the chief secretar...</td>\n",
       "    </tr>\n",
       "    <tr>\n",
       "      <th>44650</th>\n",
       "      <td>Karnataka government unveils official state flag</td>\n",
       "      <td>Karnataka CM Siddaramaiah on Thursday accepted...</td>\n",
       "    </tr>\n",
       "    <tr>\n",
       "      <th>38129</th>\n",
       "      <td>Was approached by couple running sex racket in...</td>\n",
       "      <td>Actress Sri Reddy has revealed she was approac...</td>\n",
       "    </tr>\n",
       "    <tr>\n",
       "      <th>68638</th>\n",
       "      <td>What is P2P lending that the RBI plans to regu...</td>\n",
       "      <td>P2P lending is a crowdfunding model used to ra...</td>\n",
       "    </tr>\n",
       "    <tr>\n",
       "      <th>31135</th>\n",
       "      <td>Football club owner fined Ã¢ÂÂ¹10 lakh for ra...</td>\n",
       "      <td>I-League champions Minerva Punjab's owner Ranj...</td>\n",
       "    </tr>\n",
       "    <tr>\n",
       "      <th>38234</th>\n",
       "      <td>Putin invites North Korea's Kim Jong-un to Russia</td>\n",
       "      <td>Russian President Vladimir Putin has invited N...</td>\n",
       "    </tr>\n",
       "    <tr>\n",
       "      <th>82820</th>\n",
       "      <td>Can't pull off the outfits that Rihanna can: G...</td>\n",
       "      <td>Model Gigi Hadid has said she cannot pull off ...</td>\n",
       "    </tr>\n",
       "    <tr>\n",
       "      <th>7907</th>\n",
       "      <td>CoA wants Sachin, Ganguly, Laxman to appoint w...</td>\n",
       "      <td>The Supreme Court-appointed Committee of Admin...</td>\n",
       "    </tr>\n",
       "  </tbody>\n",
       "</table>\n",
       "</div>\n",
       "      <button class=\"colab-df-convert\" onclick=\"convertToInteractive('df-8316bcc0-b775-47fa-b27c-4917ee2e3a7c')\"\n",
       "              title=\"Convert this dataframe to an interactive table.\"\n",
       "              style=\"display:none;\">\n",
       "        \n",
       "  <svg xmlns=\"http://www.w3.org/2000/svg\" height=\"24px\"viewBox=\"0 0 24 24\"\n",
       "       width=\"24px\">\n",
       "    <path d=\"M0 0h24v24H0V0z\" fill=\"none\"/>\n",
       "    <path d=\"M18.56 5.44l.94 2.06.94-2.06 2.06-.94-2.06-.94-.94-2.06-.94 2.06-2.06.94zm-11 1L8.5 8.5l.94-2.06 2.06-.94-2.06-.94L8.5 2.5l-.94 2.06-2.06.94zm10 10l.94 2.06.94-2.06 2.06-.94-2.06-.94-.94-2.06-.94 2.06-2.06.94z\"/><path d=\"M17.41 7.96l-1.37-1.37c-.4-.4-.92-.59-1.43-.59-.52 0-1.04.2-1.43.59L10.3 9.45l-7.72 7.72c-.78.78-.78 2.05 0 2.83L4 21.41c.39.39.9.59 1.41.59.51 0 1.02-.2 1.41-.59l7.78-7.78 2.81-2.81c.8-.78.8-2.07 0-2.86zM5.41 20L4 18.59l7.72-7.72 1.47 1.35L5.41 20z\"/>\n",
       "  </svg>\n",
       "      </button>\n",
       "      \n",
       "  <style>\n",
       "    .colab-df-container {\n",
       "      display:flex;\n",
       "      flex-wrap:wrap;\n",
       "      gap: 12px;\n",
       "    }\n",
       "\n",
       "    .colab-df-convert {\n",
       "      background-color: #E8F0FE;\n",
       "      border: none;\n",
       "      border-radius: 50%;\n",
       "      cursor: pointer;\n",
       "      display: none;\n",
       "      fill: #1967D2;\n",
       "      height: 32px;\n",
       "      padding: 0 0 0 0;\n",
       "      width: 32px;\n",
       "    }\n",
       "\n",
       "    .colab-df-convert:hover {\n",
       "      background-color: #E2EBFA;\n",
       "      box-shadow: 0px 1px 2px rgba(60, 64, 67, 0.3), 0px 1px 3px 1px rgba(60, 64, 67, 0.15);\n",
       "      fill: #174EA6;\n",
       "    }\n",
       "\n",
       "    [theme=dark] .colab-df-convert {\n",
       "      background-color: #3B4455;\n",
       "      fill: #D2E3FC;\n",
       "    }\n",
       "\n",
       "    [theme=dark] .colab-df-convert:hover {\n",
       "      background-color: #434B5C;\n",
       "      box-shadow: 0px 1px 3px 1px rgba(0, 0, 0, 0.15);\n",
       "      filter: drop-shadow(0px 1px 2px rgba(0, 0, 0, 0.3));\n",
       "      fill: #FFFFFF;\n",
       "    }\n",
       "  </style>\n",
       "\n",
       "      <script>\n",
       "        const buttonEl =\n",
       "          document.querySelector('#df-8316bcc0-b775-47fa-b27c-4917ee2e3a7c button.colab-df-convert');\n",
       "        buttonEl.style.display =\n",
       "          google.colab.kernel.accessAllowed ? 'block' : 'none';\n",
       "\n",
       "        async function convertToInteractive(key) {\n",
       "          const element = document.querySelector('#df-8316bcc0-b775-47fa-b27c-4917ee2e3a7c');\n",
       "          const dataTable =\n",
       "            await google.colab.kernel.invokeFunction('convertToInteractive',\n",
       "                                                     [key], {});\n",
       "          if (!dataTable) return;\n",
       "\n",
       "          const docLinkHtml = 'Like what you see? Visit the ' +\n",
       "            '<a target=\"_blank\" href=https://colab.research.google.com/notebooks/data_table.ipynb>data table notebook</a>'\n",
       "            + ' to learn more about interactive tables.';\n",
       "          element.innerHTML = '';\n",
       "          dataTable['output_type'] = 'display_data';\n",
       "          await google.colab.output.renderOutput(dataTable, element);\n",
       "          const docLink = document.createElement('div');\n",
       "          docLink.innerHTML = docLinkHtml;\n",
       "          element.appendChild(docLink);\n",
       "        }\n",
       "      </script>\n",
       "    </div>\n",
       "  </div>\n",
       "  "
      ],
      "text/plain": [
       "                                               headlines  \\\n",
       "42756  Facebook loses more than Tesla's market value ...   \n",
       "19153  Eight-year-old girl crushed under school gate ...   \n",
       "65398  Militants who surrender will be accepted: J&K ...   \n",
       "84533  Raina posts video of daughter saying 'Papa' on...   \n",
       "86280  Bieber gets emotional during speech at Manches...   \n",
       "36178  Cops acting as Cong puppets: BJP to K'taka pol...   \n",
       "51948  ISRO releases 1st image taken by recently laun...   \n",
       "34273  SC asks Delhi, H'yana to settle Yamuna water s...   \n",
       "44650   Karnataka government unveils official state flag   \n",
       "38129  Was approached by couple running sex racket in...   \n",
       "68638  What is P2P lending that the RBI plans to regu...   \n",
       "31135  Football club owner fined Ã¢ÂÂ¹10 lakh for ra...   \n",
       "38234  Putin invites North Korea's Kim Jong-un to Russia   \n",
       "82820  Can't pull off the outfits that Rihanna can: G...   \n",
       "7907   CoA wants Sachin, Ganguly, Laxman to appoint w...   \n",
       "\n",
       "                                                    text  \n",
       "42756  Social media giant Facebook has lost over $54 ...  \n",
       "19153  The eight-year-old daughter of an auto driver ...  \n",
       "65398  Jammu and Kashmir Police on Monday said that t...  \n",
       "84533  Cricketer Suresh Raina posted a video of his o...  \n",
       "86280  Singer Justin Bieber got emotional during his ...  \n",
       "36178  In its memorandum to Karnataka election panel'...  \n",
       "51948  ISRO has released the first image captured by ...  \n",
       "34273  The Supreme Court has asked the chief secretar...  \n",
       "44650  Karnataka CM Siddaramaiah on Thursday accepted...  \n",
       "38129  Actress Sri Reddy has revealed she was approac...  \n",
       "68638  P2P lending is a crowdfunding model used to ra...  \n",
       "31135  I-League champions Minerva Punjab's owner Ranj...  \n",
       "38234  Russian President Vladimir Putin has invited N...  \n",
       "82820  Model Gigi Hadid has said she cannot pull off ...  \n",
       "7907   The Supreme Court-appointed Committee of Admin...  "
      ]
     },
     "execution_count": 5,
     "metadata": {},
     "output_type": "execute_result"
    }
   ],
   "source": [
    "data.sample(15)"
   ]
  },
  {
   "cell_type": "markdown",
   "metadata": {
    "id": "GEbM927cI6Iu"
   },
   "source": [
    "## 2. 데이터 전처리"
   ]
  },
  {
   "cell_type": "markdown",
   "metadata": {
    "id": "9VdnNsEvI-RE"
   },
   "source": [
    "### 2-1 중복샘플과 Null값 존재 샘플제거"
   ]
  },
  {
   "cell_type": "code",
   "execution_count": null,
   "metadata": {
    "colab": {
     "base_uri": "https://localhost:8080/"
    },
    "executionInfo": {
     "elapsed": 309,
     "status": "ok",
     "timestamp": 1653138458709,
     "user": {
      "displayName": "changhwan lee",
      "userId": "04303211996600941657"
     },
     "user_tz": -540
    },
    "id": "TgLbAuX4__7h",
    "outputId": "ffea175d-11f2-4b5c-b9ae-8e53e233bfc2"
   },
   "outputs": [
    {
     "name": "stdout",
     "output_type": "stream",
     "text": [
      "text 열에서 중복을 배제한 유일한 샘플의 수 : 98360\n",
      "headlines 열에서 중복을 배제한 유일한 샘플의 수 : 98280\n"
     ]
    }
   ],
   "source": [
    "print('text 열에서 중복을 배제한 유일한 샘플의 수 :', data['text'].nunique())\n",
    "print('headlines 열에서 중복을 배제한 유일한 샘플의 수 :', data['headlines'].nunique())"
   ]
  },
  {
   "cell_type": "markdown",
   "metadata": {
    "id": "KTmAJjycJaEC"
   },
   "source": [
    "text열에서 중복된 샘플은 중복으로 보아 제거"
   ]
  },
  {
   "cell_type": "code",
   "execution_count": null,
   "metadata": {
    "colab": {
     "base_uri": "https://localhost:8080/"
    },
    "executionInfo": {
     "elapsed": 269,
     "status": "ok",
     "timestamp": 1653138543363,
     "user": {
      "displayName": "changhwan lee",
      "userId": "04303211996600941657"
     },
     "user_tz": -540
    },
    "id": "Hm1qQIJMCnn7",
    "outputId": "dd6d9936-5346-4909-fbad-4a006dfb5119"
   },
   "outputs": [
    {
     "name": "stdout",
     "output_type": "stream",
     "text": [
      "전체 샘플수 : 98360\n"
     ]
    }
   ],
   "source": [
    "# inplace=True 를 설정하면 DataFrame 타입 값을 return 하지 않고 data 내부를 직접적으로 바꿉니다\n",
    "data.drop_duplicates(subset = ['text'], inplace=True)\n",
    "print('전체 샘플수 :', (len(data)))"
   ]
  },
  {
   "cell_type": "code",
   "execution_count": null,
   "metadata": {
    "colab": {
     "base_uri": "https://localhost:8080/"
    },
    "executionInfo": {
     "elapsed": 258,
     "status": "ok",
     "timestamp": 1653138564574,
     "user": {
      "displayName": "changhwan lee",
      "userId": "04303211996600941657"
     },
     "user_tz": -540
    },
    "id": "v5LWRcFSDFrQ",
    "outputId": "3f1d8050-75e0-4054-a80b-acf0de5cfb6b"
   },
   "outputs": [
    {
     "name": "stdout",
     "output_type": "stream",
     "text": [
      "headlines    0\n",
      "text         0\n",
      "dtype: int64\n"
     ]
    }
   ],
   "source": [
    "print(data.isnull().sum())"
   ]
  },
  {
   "cell_type": "markdown",
   "metadata": {
    "id": "vjm66poSJqma"
   },
   "source": [
    "Null 값은 갖는 샘플은 없음"
   ]
  },
  {
   "cell_type": "code",
   "execution_count": null,
   "metadata": {
    "colab": {
     "base_uri": "https://localhost:8080/"
    },
    "executionInfo": {
     "elapsed": 254,
     "status": "ok",
     "timestamp": 1653138573489,
     "user": {
      "displayName": "changhwan lee",
      "userId": "04303211996600941657"
     },
     "user_tz": -540
    },
    "id": "mDunAYhZDJs4",
    "outputId": "40b83c50-8103-473d-d367-fc60c21bfd35"
   },
   "outputs": [
    {
     "name": "stdout",
     "output_type": "stream",
     "text": [
      "전체 샘플수 : 98360\n"
     ]
    }
   ],
   "source": [
    "data.dropna(axis=0, inplace=True)\n",
    "print('전체 샘플수 :', (len(data)))"
   ]
  },
  {
   "cell_type": "markdown",
   "metadata": {
    "id": "Tsegar8FJz0K"
   },
   "source": [
    "### 2-2 텍스트 정규화와 불용어 제거"
   ]
  },
  {
   "cell_type": "code",
   "execution_count": null,
   "metadata": {
    "colab": {
     "base_uri": "https://localhost:8080/"
    },
    "executionInfo": {
     "elapsed": 253,
     "status": "ok",
     "timestamp": 1653138585218,
     "user": {
      "displayName": "changhwan lee",
      "userId": "04303211996600941657"
     },
     "user_tz": -540
    },
    "id": "B6ZqBQbEDdMY",
    "outputId": "4faa2d1f-0f6b-40e0-b41b-482a3bfee9dc"
   },
   "outputs": [
    {
     "name": "stdout",
     "output_type": "stream",
     "text": [
      "정규화 사전의 수:  120\n"
     ]
    }
   ],
   "source": [
    "contractions = {\"ain't\": \"is not\", \"aren't\": \"are not\",\"can't\": \"cannot\", \"'cause\": \"because\", \"could've\": \"could have\", \"couldn't\": \"could not\",\n",
    "                           \"didn't\": \"did not\",  \"doesn't\": \"does not\", \"don't\": \"do not\", \"hadn't\": \"had not\", \"hasn't\": \"has not\", \"haven't\": \"have not\",\n",
    "                           \"he'd\": \"he would\",\"he'll\": \"he will\", \"he's\": \"he is\", \"how'd\": \"how did\", \"how'd'y\": \"how do you\", \"how'll\": \"how will\", \"how's\": \"how is\",\n",
    "                           \"I'd\": \"I would\", \"I'd've\": \"I would have\", \"I'll\": \"I will\", \"I'll've\": \"I will have\",\"I'm\": \"I am\", \"I've\": \"I have\", \"i'd\": \"i would\",\n",
    "                           \"i'd've\": \"i would have\", \"i'll\": \"i will\",  \"i'll've\": \"i will have\",\"i'm\": \"i am\", \"i've\": \"i have\", \"isn't\": \"is not\", \"it'd\": \"it would\",\n",
    "                           \"it'd've\": \"it would have\", \"it'll\": \"it will\", \"it'll've\": \"it will have\",\"it's\": \"it is\", \"let's\": \"let us\", \"ma'am\": \"madam\",\n",
    "                           \"mayn't\": \"may not\", \"might've\": \"might have\",\"mightn't\": \"might not\",\"mightn't've\": \"might not have\", \"must've\": \"must have\",\n",
    "                           \"mustn't\": \"must not\", \"mustn't've\": \"must not have\", \"needn't\": \"need not\", \"needn't've\": \"need not have\",\"o'clock\": \"of the clock\",\n",
    "                           \"oughtn't\": \"ought not\", \"oughtn't've\": \"ought not have\", \"shan't\": \"shall not\", \"sha'n't\": \"shall not\", \"shan't've\": \"shall not have\",\n",
    "                           \"she'd\": \"she would\", \"she'd've\": \"she would have\", \"she'll\": \"she will\", \"she'll've\": \"she will have\", \"she's\": \"she is\",\n",
    "                           \"should've\": \"should have\", \"shouldn't\": \"should not\", \"shouldn't've\": \"should not have\", \"so've\": \"so have\",\"so's\": \"so as\",\n",
    "                           \"this's\": \"this is\",\"that'd\": \"that would\", \"that'd've\": \"that would have\", \"that's\": \"that is\", \"there'd\": \"there would\",\n",
    "                           \"there'd've\": \"there would have\", \"there's\": \"there is\", \"here's\": \"here is\",\"they'd\": \"they would\", \"they'd've\": \"they would have\",\n",
    "                           \"they'll\": \"they will\", \"they'll've\": \"they will have\", \"they're\": \"they are\", \"they've\": \"they have\", \"to've\": \"to have\",\n",
    "                           \"wasn't\": \"was not\", \"we'd\": \"we would\", \"we'd've\": \"we would have\", \"we'll\": \"we will\", \"we'll've\": \"we will have\", \"we're\": \"we are\",\n",
    "                           \"we've\": \"we have\", \"weren't\": \"were not\", \"what'll\": \"what will\", \"what'll've\": \"what will have\", \"what're\": \"what are\",\n",
    "                           \"what's\": \"what is\", \"what've\": \"what have\", \"when's\": \"when is\", \"when've\": \"when have\", \"where'd\": \"where did\", \"where's\": \"where is\",\n",
    "                           \"where've\": \"where have\", \"who'll\": \"who will\", \"who'll've\": \"who will have\", \"who's\": \"who is\", \"who've\": \"who have\",\n",
    "                           \"why's\": \"why is\", \"why've\": \"why have\", \"will've\": \"will have\", \"won't\": \"will not\", \"won't've\": \"will not have\",\n",
    "                           \"would've\": \"would have\", \"wouldn't\": \"would not\", \"wouldn't've\": \"would not have\", \"y'all\": \"you all\",\n",
    "                           \"y'all'd\": \"you all would\",\"y'all'd've\": \"you all would have\",\"y'all're\": \"you all are\",\"y'all've\": \"you all have\",\n",
    "                           \"you'd\": \"you would\", \"you'd've\": \"you would have\", \"you'll\": \"you will\", \"you'll've\": \"you will have\",\n",
    "                           \"you're\": \"you are\", \"you've\": \"you have\"}\n",
    "\n",
    "print(\"정규화 사전의 수: \", len(contractions))"
   ]
  },
  {
   "cell_type": "markdown",
   "metadata": {
    "id": "GZmqDfvuKBXo"
   },
   "source": [
    "같은 표현은 통일시켜주는 것이 연산량을 줄여줌 (텍스트 정규화)"
   ]
  },
  {
   "cell_type": "code",
   "execution_count": null,
   "metadata": {
    "colab": {
     "base_uri": "https://localhost:8080/"
    },
    "executionInfo": {
     "elapsed": 279,
     "status": "ok",
     "timestamp": 1653138675504,
     "user": {
      "displayName": "changhwan lee",
      "userId": "04303211996600941657"
     },
     "user_tz": -540
    },
    "id": "XEjMJ67UDk5X",
    "outputId": "b0a862d7-d5d8-4b51-e853-77695f0e5606"
   },
   "outputs": [
    {
     "name": "stdout",
     "output_type": "stream",
     "text": [
      "불용어 개수 : 179\n",
      "['i', 'me', 'my', 'myself', 'we', 'our', 'ours', 'ourselves', 'you', \"you're\", \"you've\", \"you'll\", \"you'd\", 'your', 'yours', 'yourself', 'yourselves', 'he', 'him', 'his', 'himself', 'she', \"she's\", 'her', 'hers', 'herself', 'it', \"it's\", 'its', 'itself', 'they', 'them', 'their', 'theirs', 'themselves', 'what', 'which', 'who', 'whom', 'this', 'that', \"that'll\", 'these', 'those', 'am', 'is', 'are', 'was', 'were', 'be', 'been', 'being', 'have', 'has', 'had', 'having', 'do', 'does', 'did', 'doing', 'a', 'an', 'the', 'and', 'but', 'if', 'or', 'because', 'as', 'until', 'while', 'of', 'at', 'by', 'for', 'with', 'about', 'against', 'between', 'into', 'through', 'during', 'before', 'after', 'above', 'below', 'to', 'from', 'up', 'down', 'in', 'out', 'on', 'off', 'over', 'under', 'again', 'further', 'then', 'once', 'here', 'there', 'when', 'where', 'why', 'how', 'all', 'any', 'both', 'each', 'few', 'more', 'most', 'other', 'some', 'such', 'no', 'nor', 'not', 'only', 'own', 'same', 'so', 'than', 'too', 'very', 's', 't', 'can', 'will', 'just', 'don', \"don't\", 'should', \"should've\", 'now', 'd', 'll', 'm', 'o', 're', 've', 'y', 'ain', 'aren', \"aren't\", 'couldn', \"couldn't\", 'didn', \"didn't\", 'doesn', \"doesn't\", 'hadn', \"hadn't\", 'hasn', \"hasn't\", 'haven', \"haven't\", 'isn', \"isn't\", 'ma', 'mightn', \"mightn't\", 'mustn', \"mustn't\", 'needn', \"needn't\", 'shan', \"shan't\", 'shouldn', \"shouldn't\", 'wasn', \"wasn't\", 'weren', \"weren't\", 'won', \"won't\", 'wouldn', \"wouldn't\"]\n"
     ]
    }
   ],
   "source": [
    "print('불용어 개수 :', len(stopwords.words('english') ))\n",
    "print(stopwords.words('english'))"
   ]
  },
  {
   "cell_type": "markdown",
   "metadata": {
    "id": "5JMv7yCQKR96"
   },
   "source": [
    "특히 뉴스 요약에서 사용되지 않은 불용어 제거하여 처리 성능을 높임"
   ]
  },
  {
   "cell_type": "code",
   "execution_count": null,
   "metadata": {
    "id": "XtJdLRKpDoqO"
   },
   "outputs": [],
   "source": [
    "# 데이터 전처리 함수\n",
    "def preprocess_sentence(sentence, remove_stopwords=True):\n",
    "    sentence = sentence.lower() # 텍스트 소문자화\n",
    "    sentence = BeautifulSoup(sentence, \"lxml\").text # <br />, <a href = ...> 등의 html 태그 제거\n",
    "    sentence = re.sub(r'\\([^)]*\\)', '', sentence) # 괄호로 닫힌 문자열 (...) 제거 Ex) my husband (and myself!) for => my husband for\n",
    "    sentence = re.sub('\"','', sentence) # 쌍따옴표 \" 제거\n",
    "    sentence = ' '.join([contractions[t] if t in contractions else t for t in sentence.split(\" \")]) # 약어 정규화\n",
    "    sentence = re.sub(r\"'s\\b\",\"\", sentence) # 소유격 제거. Ex) roland's -> roland\n",
    "    sentence = re.sub(\"[^a-zA-Z]\", \" \", sentence) # 영어 외 문자(숫자, 특수문자 등) 공백으로 변환\n",
    "    sentence = re.sub('[m]{2,}', 'mm', sentence) # m이 3개 이상이면 2개로 변경. Ex) ummmmmmm yeah -> umm yeah\n",
    "    \n",
    "    # 불용어 제거 (Text)\n",
    "    if remove_stopwords:\n",
    "        tokens = ' '.join(word for word in sentence.split() if not word in stopwords.words('english') if len(word) > 1)\n",
    "    # 불용어 미제거 (Summary)\n",
    "    else:\n",
    "        tokens = ' '.join(word for word in sentence.split() if len(word) > 1)\n",
    "    return tokens"
   ]
  },
  {
   "cell_type": "code",
   "execution_count": null,
   "metadata": {
    "colab": {
     "base_uri": "https://localhost:8080/"
    },
    "executionInfo": {
     "elapsed": 6,
     "status": "ok",
     "timestamp": 1653138758482,
     "user": {
      "displayName": "changhwan lee",
      "userId": "04303211996600941657"
     },
     "user_tz": -540
    },
    "id": "BsJNOtXZDtCw",
    "outputId": "71a001bd-098f-4503-a1ab-f77e25b0811b"
   },
   "outputs": [
    {
     "name": "stdout",
     "output_type": "stream",
     "text": [
      "text:  everything bought great infact ordered twice third ordered wasfor mother father\n",
      "summary: great way to start the day\n"
     ]
    }
   ],
   "source": [
    "temp_text = 'Everything I bought was great, infact I ordered twice and the third ordered was<br />for my mother and father.'\n",
    "temp_summary = 'Great way to start (or finish) the day!!!'\n",
    "\n",
    "print(\"text: \", preprocess_sentence(temp_text))\n",
    "print(\"summary:\", preprocess_sentence(temp_summary, False))  # 불용어를 제거하지 않습니다."
   ]
  },
  {
   "cell_type": "code",
   "execution_count": null,
   "metadata": {
    "colab": {
     "base_uri": "https://localhost:8080/"
    },
    "executionInfo": {
     "elapsed": 796477,
     "status": "ok",
     "timestamp": 1653139581806,
     "user": {
      "displayName": "changhwan lee",
      "userId": "04303211996600941657"
     },
     "user_tz": -540
    },
    "id": "4Pc6SwrzDycH",
    "outputId": "5b1c1e3e-17a8-4e94-9fb3-2d1458f74e13"
   },
   "outputs": [
    {
     "name": "stdout",
     "output_type": "stream",
     "text": [
      "text 전처리 후 결과:  ['saurav kant alumnus upgrad iiit pg program machine learning artificial intelligence sr systems engineer infosys almost years work experience program upgrad degree career support helped transition data scientist tech mahindra salary hike upgrad online power learning powered lakh careers', 'kunal shah credit card bill payment platform cred gave users chance win free food swiggy one year pranav kaushik delhi techie bagged reward spending cred coins users get one cred coin per rupee bill paid used avail rewards brands like ixigo bookmyshow ubereats cult fit', 'new zealand defeated india wickets fourth odi hamilton thursday win first match five match odi series india lost international match rohit sharma captaincy consecutive victories dating back march match witnessed india getting seventh lowest total odi cricket history', 'aegon life iterm insurance plan customers enjoy tax benefits premiums paid save taxes plan provides life cover age years also customers options insure critical illnesses disability accidental death benefit rider life cover age years', 'speaking sexual harassment allegations rajkumar hirani sonam kapoor said known hirani many years true metoo movement get derailed metoo movement always believe woman case need reserve judgment added hirani accused assistant worked sanju']\n"
     ]
    }
   ],
   "source": [
    "clean_text = []\n",
    "# 전체 Text 데이터에 대한 전처리 : 10분 이상 시간이 걸릴 수 있습니다. \n",
    "for s in data['text']:\n",
    "    clean_text.append(preprocess_sentence(s))\n",
    "\n",
    "# 전처리 후 출력\n",
    "print(\"text 전처리 후 결과: \", clean_text[:5])"
   ]
  },
  {
   "cell_type": "code",
   "execution_count": null,
   "metadata": {
    "colab": {
     "base_uri": "https://localhost:8080/"
    },
    "executionInfo": {
     "elapsed": 26275,
     "status": "ok",
     "timestamp": 1653139725366,
     "user": {
      "displayName": "changhwan lee",
      "userId": "04303211996600941657"
     },
     "user_tz": -540
    },
    "id": "uwPeeeDxD98a",
    "outputId": "8093a793-0c3a-4735-fa5d-ab1c2427157c"
   },
   "outputs": [
    {
     "name": "stdout",
     "output_type": "stream",
     "text": [
      "Summary 전처리 후 결과:  ['upgrad learner switches to career in ml al with salary hike', 'delhi techie wins free food from swiggy for one year on cred', 'new zealand end rohit sharma led india match winning streak', 'aegon life iterm insurance plan helps customers save tax', 'have known hirani for yrs what if metoo claims are not true sonam']\n"
     ]
    }
   ],
   "source": [
    "clean_summary = []\n",
    "# 전체 Summary 데이터에 대한 전처리 : 5분 이상 시간이 걸릴 수 있습니다. \n",
    "for s in data['headlines']:\n",
    "    clean_summary.append(preprocess_sentence(s, False))\n",
    "\n",
    "print(\"Summary 전처리 후 결과: \", clean_summary[:5])"
   ]
  },
  {
   "cell_type": "code",
   "execution_count": null,
   "metadata": {
    "id": "sUqyFmyOHrvs"
   },
   "outputs": [],
   "source": [
    "data['text'] = clean_text\n",
    "data['headlines'] = clean_summary\n",
    "\n",
    "# 빈 값을 Null 값으로 변환\n",
    "data.replace('', np.nan, inplace=True)"
   ]
  },
  {
   "cell_type": "code",
   "execution_count": null,
   "metadata": {
    "colab": {
     "base_uri": "https://localhost:8080/"
    },
    "executionInfo": {
     "elapsed": 280,
     "status": "ok",
     "timestamp": 1653139770070,
     "user": {
      "displayName": "changhwan lee",
      "userId": "04303211996600941657"
     },
     "user_tz": -540
    },
    "id": "0kJekM1wH9fH",
    "outputId": "817fc282-68cb-48f6-974d-402dbf276e9b"
   },
   "outputs": [
    {
     "data": {
      "text/plain": [
       "headlines    0\n",
       "text         0\n",
       "dtype: int64"
      ]
     },
     "execution_count": 17,
     "metadata": {},
     "output_type": "execute_result"
    }
   ],
   "source": [
    "data.isnull().sum()"
   ]
  },
  {
   "cell_type": "code",
   "execution_count": null,
   "metadata": {
    "colab": {
     "base_uri": "https://localhost:8080/"
    },
    "executionInfo": {
     "elapsed": 333,
     "status": "ok",
     "timestamp": 1653139776831,
     "user": {
      "displayName": "changhwan lee",
      "userId": "04303211996600941657"
     },
     "user_tz": -540
    },
    "id": "GDbSFAucIA1P",
    "outputId": "acd21ce6-3082-44d6-c826-8e32b172ed5c"
   },
   "outputs": [
    {
     "name": "stdout",
     "output_type": "stream",
     "text": [
      "전체 샘플수 : 98360\n"
     ]
    }
   ],
   "source": [
    "data.dropna(axis=0, inplace=True)\n",
    "print('전체 샘플수 :', (len(data)))"
   ]
  },
  {
   "cell_type": "markdown",
   "metadata": {
    "id": "qa6SmjGkKuaA"
   },
   "source": [
    "### 2-3 샘플 최대길이 정하기"
   ]
  },
  {
   "cell_type": "markdown",
   "metadata": {
    "id": "Op2YL6OAK7GA"
   },
   "source": [
    "text와 headlines의 최소, 최대, 평균 길이 및 분포를 시각화하여 적정 규모 산정"
   ]
  },
  {
   "cell_type": "code",
   "execution_count": null,
   "metadata": {
    "colab": {
     "base_uri": "https://localhost:8080/",
     "height": 962
    },
    "executionInfo": {
     "elapsed": 1450,
     "status": "ok",
     "timestamp": 1653139871446,
     "user": {
      "displayName": "changhwan lee",
      "userId": "04303211996600941657"
     },
     "user_tz": -540
    },
    "id": "D-pNlvnpIGM2",
    "outputId": "ae05d89d-fec1-4a36-a3e9-7a680c0233f7"
   },
   "outputs": [
    {
     "name": "stdout",
     "output_type": "stream",
     "text": [
      "텍스트의 최소 길이 : 1\n",
      "텍스트의 최대 길이 : 60\n",
      "텍스트의 평균 길이 : 35.09968483123221\n",
      "요약의 최소 길이 : 1\n",
      "요약의 최대 길이 : 16\n",
      "요약의 평균 길이 : 9.299532330215534\n"
     ]
    },
    {
     "data": {
      "image/png": "[encoded data removed]",
      "text/plain": [
       "<Figure size 432x288 with 2 Axes>"
      ]
     },
     "metadata": {
      "needs_background": "light"
     },
     "output_type": "display_data"
    },
    {
     "data": {
      "image/png": "[encoded data removed]",
      "text/plain": [
       "<Figure size 432x288 with 1 Axes>"
      ]
     },
     "metadata": {
      "needs_background": "light"
     },
     "output_type": "display_data"
    },
    {
     "data": {
      "image/png": "[encoded data removed]",
      "text/plain": [
       "<Figure size 432x288 with 1 Axes>"
      ]
     },
     "metadata": {
      "needs_background": "light"
     },
     "output_type": "display_data"
    }
   ],
   "source": [
    "# 길이 분포 출력\n",
    "import matplotlib.pyplot as plt\n",
    "\n",
    "text_len = [len(s.split()) for s in data['text']]\n",
    "summary_len = [len(s.split()) for s in data['headlines']]\n",
    "\n",
    "print('텍스트의 최소 길이 : {}'.format(np.min(text_len)))\n",
    "print('텍스트의 최대 길이 : {}'.format(np.max(text_len)))\n",
    "print('텍스트의 평균 길이 : {}'.format(np.mean(text_len)))\n",
    "print('요약의 최소 길이 : {}'.format(np.min(summary_len)))\n",
    "print('요약의 최대 길이 : {}'.format(np.max(summary_len)))\n",
    "print('요약의 평균 길이 : {}'.format(np.mean(summary_len)))\n",
    "\n",
    "plt.subplot(1,2,1)\n",
    "plt.boxplot(text_len)\n",
    "plt.title('text')\n",
    "plt.subplot(1,2,2)\n",
    "plt.boxplot(summary_len)\n",
    "plt.title('headlines')\n",
    "plt.tight_layout()\n",
    "plt.show()\n",
    "\n",
    "plt.title('text')\n",
    "plt.hist(text_len, bins = 40)\n",
    "plt.xlabel('length of samples')\n",
    "plt.ylabel('number of samples')\n",
    "plt.show()\n",
    "\n",
    "plt.title('headlines')\n",
    "plt.hist(summary_len, bins = 40)\n",
    "plt.xlabel('length of samples')\n",
    "plt.ylabel('number of samples')\n",
    "plt.show()"
   ]
  },
  {
   "cell_type": "markdown",
   "metadata": {
    "id": "GxXEglirLMyb"
   },
   "source": [
    "text는 40, headlines은 11로 최대길이를 정함(약 90% 커버)"
   ]
  },
  {
   "cell_type": "code",
   "execution_count": null,
   "metadata": {
    "id": "lRKzVCcCIogB"
   },
   "outputs": [],
   "source": [
    "text_max_len = 40\n",
    "summary_max_len = 11"
   ]
  },
  {
   "cell_type": "code",
   "execution_count": null,
   "metadata": {
    "id": "puPOd1isI7pO"
   },
   "outputs": [],
   "source": [
    "def below_threshold_len(max_len, nested_list):\n",
    "  cnt = 0\n",
    "  for s in nested_list:\n",
    "    if(len(s.split()) <= max_len):\n",
    "        cnt = cnt + 1\n",
    "  print('전체 샘플 중 길이가 %s 이하인 샘플의 비율: %s'%(max_len, (cnt / len(nested_list))))"
   ]
  },
  {
   "cell_type": "code",
   "execution_count": null,
   "metadata": {
    "colab": {
     "base_uri": "https://localhost:8080/"
    },
    "executionInfo": {
     "elapsed": 664,
     "status": "ok",
     "timestamp": 1653140151600,
     "user": {
      "displayName": "changhwan lee",
      "userId": "04303211996600941657"
     },
     "user_tz": -540
    },
    "id": "SX6vX23wJHLP",
    "outputId": "fdaecb69-0461-42ca-c178-0a4cfef35f37"
   },
   "outputs": [
    {
     "name": "stdout",
     "output_type": "stream",
     "text": [
      "전체 샘플 중 길이가 40 이하인 샘플의 비율: 0.9238714924766165\n",
      "전체 샘플 중 길이가 11 이하인 샘플의 비율: 0.9449877999186661\n"
     ]
    }
   ],
   "source": [
    "below_threshold_len(text_max_len, data['text'])\n",
    "below_threshold_len(summary_max_len,  data['headlines'])"
   ]
  },
  {
   "cell_type": "code",
   "execution_count": null,
   "metadata": {
    "colab": {
     "base_uri": "https://localhost:8080/"
    },
    "executionInfo": {
     "elapsed": 743,
     "status": "ok",
     "timestamp": 1653140184645,
     "user": {
      "displayName": "changhwan lee",
      "userId": "04303211996600941657"
     },
     "user_tz": -540
    },
    "id": "tCxmvKhEJPDT",
    "outputId": "69938d8a-368c-4844-efba-594a13566b06"
   },
   "outputs": [
    {
     "name": "stdout",
     "output_type": "stream",
     "text": [
      "전체 샘플수 : 85843\n"
     ]
    }
   ],
   "source": [
    "data = data[data['text'].apply(lambda x: len(x.split()) <= text_max_len)]\n",
    "data = data[data['headlines'].apply(lambda x: len(x.split()) <= summary_max_len)]\n",
    "print('전체 샘플수 :', (len(data)))"
   ]
  },
  {
   "cell_type": "markdown",
   "metadata": {
    "id": "wwSNg3ycMB0f"
   },
   "source": [
    "### 2-4 시작 토큰과 종료 토큰 추가하기"
   ]
  },
  {
   "cell_type": "markdown",
   "metadata": {
    "id": "6v_iXqjiMPCu"
   },
   "source": [
    "디코더는 시작토큰을 입력받아 문장을 생성하기 시작하고, 종료토큰을 예측한 순간 문장생성을 멈춤"
   ]
  },
  {
   "cell_type": "code",
   "execution_count": null,
   "metadata": {
    "colab": {
     "base_uri": "https://localhost:8080/",
     "height": 206
    },
    "executionInfo": {
     "elapsed": 312,
     "status": "ok",
     "timestamp": 1653140230407,
     "user": {
      "displayName": "changhwan lee",
      "userId": "04303211996600941657"
     },
     "user_tz": -540
    },
    "id": "C_WzA5uhJb1O",
    "outputId": "60f6c4da-e50c-445b-f247-024e8ba5979c"
   },
   "outputs": [
    {
     "data": {
      "text/html": [
       "\n",
       "  <div id=\"df-90f77df5-48ef-4b5a-9fea-3e4d271728a6\">\n",
       "    <div class=\"colab-df-container\">\n",
       "      <div>\n",
       "<style scoped>\n",
       "    .dataframe tbody tr th:only-of-type {\n",
       "        vertical-align: middle;\n",
       "    }\n",
       "\n",
       "    .dataframe tbody tr th {\n",
       "        vertical-align: top;\n",
       "    }\n",
       "\n",
       "    .dataframe thead th {\n",
       "        text-align: right;\n",
       "    }\n",
       "</style>\n",
       "<table border=\"1\" class=\"dataframe\">\n",
       "  <thead>\n",
       "    <tr style=\"text-align: right;\">\n",
       "      <th></th>\n",
       "      <th>headlines</th>\n",
       "      <th>text</th>\n",
       "      <th>decoder_input</th>\n",
       "      <th>decoder_target</th>\n",
       "    </tr>\n",
       "  </thead>\n",
       "  <tbody>\n",
       "    <tr>\n",
       "      <th>0</th>\n",
       "      <td>upgrad learner switches to career in ml al wit...</td>\n",
       "      <td>saurav kant alumnus upgrad iiit pg program mac...</td>\n",
       "      <td>sostoken upgrad learner switches to career in ...</td>\n",
       "      <td>upgrad learner switches to career in ml al wit...</td>\n",
       "    </tr>\n",
       "    <tr>\n",
       "      <th>2</th>\n",
       "      <td>new zealand end rohit sharma led india match w...</td>\n",
       "      <td>new zealand defeated india wickets fourth odi ...</td>\n",
       "      <td>sostoken new zealand end rohit sharma led indi...</td>\n",
       "      <td>new zealand end rohit sharma led india match w...</td>\n",
       "    </tr>\n",
       "    <tr>\n",
       "      <th>3</th>\n",
       "      <td>aegon life iterm insurance plan helps customer...</td>\n",
       "      <td>aegon life iterm insurance plan customers enjo...</td>\n",
       "      <td>sostoken aegon life iterm insurance plan helps...</td>\n",
       "      <td>aegon life iterm insurance plan helps customer...</td>\n",
       "    </tr>\n",
       "    <tr>\n",
       "      <th>5</th>\n",
       "      <td>rahat fateh ali khan denies getting notice for...</td>\n",
       "      <td>pakistani singer rahat fateh ali khan denied r...</td>\n",
       "      <td>sostoken rahat fateh ali khan denies getting n...</td>\n",
       "      <td>rahat fateh ali khan denies getting notice for...</td>\n",
       "    </tr>\n",
       "    <tr>\n",
       "      <th>7</th>\n",
       "      <td>govt directs alok verma to join work day befor...</td>\n",
       "      <td>weeks ex cbi director alok verma told departme...</td>\n",
       "      <td>sostoken govt directs alok verma to join work ...</td>\n",
       "      <td>govt directs alok verma to join work day befor...</td>\n",
       "    </tr>\n",
       "  </tbody>\n",
       "</table>\n",
       "</div>\n",
       "      <button class=\"colab-df-convert\" onclick=\"convertToInteractive('df-90f77df5-48ef-4b5a-9fea-3e4d271728a6')\"\n",
       "              title=\"Convert this dataframe to an interactive table.\"\n",
       "              style=\"display:none;\">\n",
       "        \n",
       "  <svg xmlns=\"http://www.w3.org/2000/svg\" height=\"24px\"viewBox=\"0 0 24 24\"\n",
       "       width=\"24px\">\n",
       "    <path d=\"M0 0h24v24H0V0z\" fill=\"none\"/>\n",
       "    <path d=\"M18.56 5.44l.94 2.06.94-2.06 2.06-.94-2.06-.94-.94-2.06-.94 2.06-2.06.94zm-11 1L8.5 8.5l.94-2.06 2.06-.94-2.06-.94L8.5 2.5l-.94 2.06-2.06.94zm10 10l.94 2.06.94-2.06 2.06-.94-2.06-.94-.94-2.06-.94 2.06-2.06.94z\"/><path d=\"M17.41 7.96l-1.37-1.37c-.4-.4-.92-.59-1.43-.59-.52 0-1.04.2-1.43.59L10.3 9.45l-7.72 7.72c-.78.78-.78 2.05 0 2.83L4 21.41c.39.39.9.59 1.41.59.51 0 1.02-.2 1.41-.59l7.78-7.78 2.81-2.81c.8-.78.8-2.07 0-2.86zM5.41 20L4 18.59l7.72-7.72 1.47 1.35L5.41 20z\"/>\n",
       "  </svg>\n",
       "      </button>\n",
       "      \n",
       "  <style>\n",
       "    .colab-df-container {\n",
       "      display:flex;\n",
       "      flex-wrap:wrap;\n",
       "      gap: 12px;\n",
       "    }\n",
       "\n",
       "    .colab-df-convert {\n",
       "      background-color: #E8F0FE;\n",
       "      border: none;\n",
       "      border-radius: 50%;\n",
       "      cursor: pointer;\n",
       "      display: none;\n",
       "      fill: #1967D2;\n",
       "      height: 32px;\n",
       "      padding: 0 0 0 0;\n",
       "      width: 32px;\n",
       "    }\n",
       "\n",
       "    .colab-df-convert:hover {\n",
       "      background-color: #E2EBFA;\n",
       "      box-shadow: 0px 1px 2px rgba(60, 64, 67, 0.3), 0px 1px 3px 1px rgba(60, 64, 67, 0.15);\n",
       "      fill: #174EA6;\n",
       "    }\n",
       "\n",
       "    [theme=dark] .colab-df-convert {\n",
       "      background-color: #3B4455;\n",
       "      fill: #D2E3FC;\n",
       "    }\n",
       "\n",
       "    [theme=dark] .colab-df-convert:hover {\n",
       "      background-color: #434B5C;\n",
       "      box-shadow: 0px 1px 3px 1px rgba(0, 0, 0, 0.15);\n",
       "      filter: drop-shadow(0px 1px 2px rgba(0, 0, 0, 0.3));\n",
       "      fill: #FFFFFF;\n",
       "    }\n",
       "  </style>\n",
       "\n",
       "      <script>\n",
       "        const buttonEl =\n",
       "          document.querySelector('#df-90f77df5-48ef-4b5a-9fea-3e4d271728a6 button.colab-df-convert');\n",
       "        buttonEl.style.display =\n",
       "          google.colab.kernel.accessAllowed ? 'block' : 'none';\n",
       "\n",
       "        async function convertToInteractive(key) {\n",
       "          const element = document.querySelector('#df-90f77df5-48ef-4b5a-9fea-3e4d271728a6');\n",
       "          const dataTable =\n",
       "            await google.colab.kernel.invokeFunction('convertToInteractive',\n",
       "                                                     [key], {});\n",
       "          if (!dataTable) return;\n",
       "\n",
       "          const docLinkHtml = 'Like what you see? Visit the ' +\n",
       "            '<a target=\"_blank\" href=https://colab.research.google.com/notebooks/data_table.ipynb>data table notebook</a>'\n",
       "            + ' to learn more about interactive tables.';\n",
       "          element.innerHTML = '';\n",
       "          dataTable['output_type'] = 'display_data';\n",
       "          await google.colab.output.renderOutput(dataTable, element);\n",
       "          const docLink = document.createElement('div');\n",
       "          docLink.innerHTML = docLinkHtml;\n",
       "          element.appendChild(docLink);\n",
       "        }\n",
       "      </script>\n",
       "    </div>\n",
       "  </div>\n",
       "  "
      ],
      "text/plain": [
       "                                           headlines  \\\n",
       "0  upgrad learner switches to career in ml al wit...   \n",
       "2  new zealand end rohit sharma led india match w...   \n",
       "3  aegon life iterm insurance plan helps customer...   \n",
       "5  rahat fateh ali khan denies getting notice for...   \n",
       "7  govt directs alok verma to join work day befor...   \n",
       "\n",
       "                                                text  \\\n",
       "0  saurav kant alumnus upgrad iiit pg program mac...   \n",
       "2  new zealand defeated india wickets fourth odi ...   \n",
       "3  aegon life iterm insurance plan customers enjo...   \n",
       "5  pakistani singer rahat fateh ali khan denied r...   \n",
       "7  weeks ex cbi director alok verma told departme...   \n",
       "\n",
       "                                       decoder_input  \\\n",
       "0  sostoken upgrad learner switches to career in ...   \n",
       "2  sostoken new zealand end rohit sharma led indi...   \n",
       "3  sostoken aegon life iterm insurance plan helps...   \n",
       "5  sostoken rahat fateh ali khan denies getting n...   \n",
       "7  sostoken govt directs alok verma to join work ...   \n",
       "\n",
       "                                      decoder_target  \n",
       "0  upgrad learner switches to career in ml al wit...  \n",
       "2  new zealand end rohit sharma led india match w...  \n",
       "3  aegon life iterm insurance plan helps customer...  \n",
       "5  rahat fateh ali khan denies getting notice for...  \n",
       "7  govt directs alok verma to join work day befor...  "
      ]
     },
     "execution_count": 26,
     "metadata": {},
     "output_type": "execute_result"
    }
   ],
   "source": [
    "# 요약 데이터에는 시작 토큰과 종료 토큰을 추가한다.\n",
    "data['decoder_input'] = data['headlines'].apply(lambda x : 'sostoken '+ x)\n",
    "data['decoder_target'] = data['headlines'].apply(lambda x : x + ' eostoken')\n",
    "data.head()"
   ]
  },
  {
   "cell_type": "code",
   "execution_count": null,
   "metadata": {
    "id": "Ttl4QhsYJy0G"
   },
   "outputs": [],
   "source": [
    "encoder_input = np.array(data['text']) # 인코더의 입력\n",
    "decoder_input = np.array(data['decoder_input']) # 디코더의 입력\n",
    "decoder_target = np.array(data['decoder_target']) # 디코더의 레이블"
   ]
  },
  {
   "cell_type": "markdown",
   "metadata": {
    "id": "I--K-hQlMjWU"
   },
   "source": [
    "### 2-5 훈련데이터와 테스트 데이터 나누기"
   ]
  },
  {
   "cell_type": "code",
   "execution_count": null,
   "metadata": {
    "colab": {
     "base_uri": "https://localhost:8080/"
    },
    "executionInfo": {
     "elapsed": 284,
     "status": "ok",
     "timestamp": 1653140283759,
     "user": {
      "displayName": "changhwan lee",
      "userId": "04303211996600941657"
     },
     "user_tz": -540
    },
    "id": "ATp1r5d8KBUw",
    "outputId": "19a8cfc7-50f9-4fee-8ae5-7a62a7098626"
   },
   "outputs": [
    {
     "data": {
      "text/plain": [
       "85843"
      ]
     },
     "execution_count": 28,
     "metadata": {},
     "output_type": "execute_result"
    }
   ],
   "source": [
    "encoder_input.shape[0]"
   ]
  },
  {
   "cell_type": "code",
   "execution_count": null,
   "metadata": {
    "colab": {
     "base_uri": "https://localhost:8080/"
    },
    "executionInfo": {
     "elapsed": 272,
     "status": "ok",
     "timestamp": 1653140296301,
     "user": {
      "displayName": "changhwan lee",
      "userId": "04303211996600941657"
     },
     "user_tz": -540
    },
    "id": "TmpGMmdKKQgO",
    "outputId": "ead7f2f8-564e-47c8-e31b-1f7061eb2676"
   },
   "outputs": [
    {
     "name": "stdout",
     "output_type": "stream",
     "text": [
      "[80989 29044 61246 ... 49354 34171 83971]\n"
     ]
    }
   ],
   "source": [
    "indices = np.arange(encoder_input.shape[0])\n",
    "np.random.shuffle(indices)\n",
    "print(indices)"
   ]
  },
  {
   "cell_type": "code",
   "execution_count": null,
   "metadata": {
    "id": "rP7Tc3EiKU6B"
   },
   "outputs": [],
   "source": [
    "encoder_input = encoder_input[indices]\n",
    "decoder_input = decoder_input[indices]\n",
    "decoder_target = decoder_target[indices]"
   ]
  },
  {
   "cell_type": "markdown",
   "metadata": {
    "id": "C66Mye4RM0HE"
   },
   "source": [
    "잘 섞은 데이터를 8:2 비율로 훈련데이터와 테스트 데이터로 분리"
   ]
  },
  {
   "cell_type": "code",
   "execution_count": null,
   "metadata": {
    "colab": {
     "base_uri": "https://localhost:8080/"
    },
    "executionInfo": {
     "elapsed": 287,
     "status": "ok",
     "timestamp": 1653140334214,
     "user": {
      "displayName": "changhwan lee",
      "userId": "04303211996600941657"
     },
     "user_tz": -540
    },
    "id": "3NUMeqs2KbKo",
    "outputId": "3c31c140-3da2-4326-b3b5-a30c691f9dfb"
   },
   "outputs": [
    {
     "name": "stdout",
     "output_type": "stream",
     "text": [
      "테스트 데이터의 수 : 17168\n"
     ]
    }
   ],
   "source": [
    "n_of_val = int(len(encoder_input)*0.2)\n",
    "print('테스트 데이터의 수 :', n_of_val)"
   ]
  },
  {
   "cell_type": "code",
   "execution_count": null,
   "metadata": {
    "colab": {
     "base_uri": "https://localhost:8080/"
    },
    "executionInfo": {
     "elapsed": 266,
     "status": "ok",
     "timestamp": 1653140357353,
     "user": {
      "displayName": "changhwan lee",
      "userId": "04303211996600941657"
     },
     "user_tz": -540
    },
    "id": "x2wvc0nQKiuQ",
    "outputId": "61f4e1ae-8fff-4e2d-a04d-bc1c5418921b"
   },
   "outputs": [
    {
     "name": "stdout",
     "output_type": "stream",
     "text": [
      "훈련 데이터의 개수 : 68675\n",
      "훈련 레이블의 개수 : 68675\n",
      "테스트 데이터의 개수 : 17168\n",
      "테스트 레이블의 개수 : 17168\n"
     ]
    }
   ],
   "source": [
    "encoder_input_train = encoder_input[:-n_of_val]\n",
    "decoder_input_train = decoder_input[:-n_of_val]\n",
    "decoder_target_train = decoder_target[:-n_of_val]\n",
    "\n",
    "encoder_input_test = encoder_input[-n_of_val:]\n",
    "decoder_input_test = decoder_input[-n_of_val:]\n",
    "decoder_target_test = decoder_target[-n_of_val:]\n",
    "\n",
    "print('훈련 데이터의 개수 :', len(encoder_input_train))\n",
    "print('훈련 레이블의 개수 :', len(decoder_input_train))\n",
    "print('테스트 데이터의 개수 :', len(encoder_input_test))\n",
    "print('테스트 레이블의 개수 :', len(decoder_input_test))"
   ]
  },
  {
   "cell_type": "markdown",
   "metadata": {
    "id": "xDiFGVF4NAi1"
   },
   "source": [
    "### 2-6 단어집합 만들기 및 정수 인코딩"
   ]
  },
  {
   "cell_type": "markdown",
   "metadata": {
    "id": "MA3y7SnsNMl8"
   },
   "source": [
    "Keras의 Tokenizer를 사용하면 입력된 훈련 데이터로부터 단어집합을 만들 수 있음"
   ]
  },
  {
   "cell_type": "code",
   "execution_count": null,
   "metadata": {
    "id": "uSWxImV3Krjn"
   },
   "outputs": [],
   "source": [
    "src_tokenizer = Tokenizer() # 토크나이저 정의\n",
    "src_tokenizer.fit_on_texts(encoder_input_train) # 입력된 데이터로부터 단어 집합 생성"
   ]
  },
  {
   "cell_type": "markdown",
   "metadata": {
    "id": "NkCmg2ZaNdkg"
   },
   "source": [
    "토크나이저에는 단어와 각 단어의 등장 빈도수가 저장되어 있어 관련 통계정보를 얻을 수 있음"
   ]
  },
  {
   "cell_type": "code",
   "execution_count": null,
   "metadata": {
    "colab": {
     "base_uri": "https://localhost:8080/"
    },
    "executionInfo": {
     "elapsed": 288,
     "status": "ok",
     "timestamp": 1653140412735,
     "user": {
      "displayName": "changhwan lee",
      "userId": "04303211996600941657"
     },
     "user_tz": -540
    },
    "id": "NM_1HC8hLBJf",
    "outputId": "dd351d10-7f40-4eaf-b0b8-537e0e0d2445"
   },
   "outputs": [
    {
     "name": "stdout",
     "output_type": "stream",
     "text": [
      "단어 집합(vocabulary)의 크기 : 64710\n",
      "등장 빈도가 6번 이하인 희귀 단어의 수: 44158\n",
      "단어 집합에서 희귀 단어를 제외시킬 경우의 단어 집합의 크기 20552\n",
      "단어 집합에서 희귀 단어의 비율: 68.23983928295472\n",
      "전체 등장 빈도에서 희귀 단어 등장 빈도 비율: 3.782284905395439\n"
     ]
    }
   ],
   "source": [
    "threshold = 7\n",
    "total_cnt = len(src_tokenizer.word_index) # 단어의 수\n",
    "rare_cnt = 0 # 등장 빈도수가 threshold보다 작은 단어의 개수를 카운트\n",
    "total_freq = 0 # 훈련 데이터의 전체 단어 빈도수 총 합\n",
    "rare_freq = 0 # 등장 빈도수가 threshold보다 작은 단어의 등장 빈도수의 총 합\n",
    "\n",
    "# 단어와 빈도수의 쌍(pair)을 key와 value로 받는다.\n",
    "for key, value in src_tokenizer.word_counts.items():\n",
    "    total_freq = total_freq + value\n",
    "\n",
    "    # 단어의 등장 빈도수가 threshold보다 작으면\n",
    "    if(value < threshold):\n",
    "        rare_cnt = rare_cnt + 1\n",
    "        rare_freq = rare_freq + value\n",
    "\n",
    "print('단어 집합(vocabulary)의 크기 :', total_cnt)\n",
    "print('등장 빈도가 %s번 이하인 희귀 단어의 수: %s'%(threshold - 1, rare_cnt))\n",
    "print('단어 집합에서 희귀 단어를 제외시킬 경우의 단어 집합의 크기 %s'%(total_cnt - rare_cnt))\n",
    "print(\"단어 집합에서 희귀 단어의 비율:\", (rare_cnt / total_cnt)*100)\n",
    "print(\"전체 등장 빈도에서 희귀 단어 등장 빈도 비율:\", (rare_freq / total_freq)*100)"
   ]
  },
  {
   "cell_type": "markdown",
   "metadata": {
    "id": "1zw6lpzWN8Ks"
   },
   "source": [
    "등장빈도가 적으면서 단어 집합에서 큰 비중을 차지하는 단어 정수 인코딩 과정에서 빼고 훈련데이터에서 제거. 단어집합의 크기를 20,000으로 제한함"
   ]
  },
  {
   "cell_type": "code",
   "execution_count": null,
   "metadata": {
    "id": "3s72wLYiLkP3"
   },
   "outputs": [],
   "source": [
    "src_vocab = 20000\n",
    "src_tokenizer = Tokenizer(num_words=src_vocab) # 단어 집합의 크기를 20,000으로 제한\n",
    "src_tokenizer.fit_on_texts(encoder_input_train) # 단어 집합 재생성"
   ]
  },
  {
   "cell_type": "code",
   "execution_count": null,
   "metadata": {
    "colab": {
     "base_uri": "https://localhost:8080/"
    },
    "executionInfo": {
     "elapsed": 2850,
     "status": "ok",
     "timestamp": 1653140604664,
     "user": {
      "displayName": "changhwan lee",
      "userId": "04303211996600941657"
     },
     "user_tz": -540
    },
    "id": "If9sWh1ZL9US",
    "outputId": "998f0301-70d7-415f-ff8b-214018cc6b7e"
   },
   "outputs": [
    {
     "name": "stdout",
     "output_type": "stream",
     "text": [
      "[[2420, 118, 1616, 669, 128, 7069, 54, 380, 173, 17, 183, 542, 589, 1496, 280, 707, 1401, 789, 6232, 2224, 468, 300, 642, 4647, 547, 118, 463, 333, 1970, 7, 463, 1784, 1784], [3, 635, 239, 12235, 2298, 1308, 269, 298, 5425, 3855, 1, 5318, 2638, 723, 4, 3, 976, 1811, 3111, 7784, 5677, 6653, 6, 1, 778, 11496, 272, 2639, 1401, 1718, 1883], [213, 461, 1072, 3, 807, 133, 4489, 6312, 621, 10, 948, 223, 18041, 11854, 139, 1639, 1072, 4992, 5804, 174, 7656, 6312, 1, 94, 948, 32, 4331, 1864, 948, 7175, 1072, 269, 298, 483, 2421, 302, 638, 2589, 387]]\n"
     ]
    }
   ],
   "source": [
    "# 텍스트 시퀀스를 정수 시퀀스로 변환\n",
    "encoder_input_train = src_tokenizer.texts_to_sequences(encoder_input_train) \n",
    "encoder_input_test = src_tokenizer.texts_to_sequences(encoder_input_test)\n",
    "\n",
    "# 잘 진행되었는지 샘플 출력\n",
    "print(encoder_input_train[:3])"
   ]
  },
  {
   "cell_type": "markdown",
   "metadata": {
    "id": "yoMzE2E8PW8O"
   },
   "source": [
    "Headlines 데이터에 대해서도 동일한 작업 수행"
   ]
  },
  {
   "cell_type": "code",
   "execution_count": null,
   "metadata": {
    "id": "3JqnG1wCMNs-"
   },
   "outputs": [],
   "source": [
    "tar_tokenizer = Tokenizer()\n",
    "tar_tokenizer.fit_on_texts(decoder_input_train)\n"
   ]
  },
  {
   "cell_type": "code",
   "execution_count": null,
   "metadata": {
    "colab": {
     "base_uri": "https://localhost:8080/"
    },
    "executionInfo": {
     "elapsed": 304,
     "status": "ok",
     "timestamp": 1653140680831,
     "user": {
      "displayName": "changhwan lee",
      "userId": "04303211996600941657"
     },
     "user_tz": -540
    },
    "id": "NFQoCh-eMWLy",
    "outputId": "4c22c514-fe3a-4f0c-e1db-0d3fabebddca"
   },
   "outputs": [
    {
     "name": "stdout",
     "output_type": "stream",
     "text": [
      "단어 집합(vocabulary)의 크기 : 28414\n",
      "등장 빈도가 5번 이하인 희귀 단어의 수: 18687\n",
      "단어 집합에서 희귀 단어를 제외시킬 경우의 단어 집합의 크기 9727\n",
      "단어 집합에서 희귀 단어의 비율: 65.76687548391638\n",
      "전체 등장 빈도에서 희귀 단어 등장 빈도 비율: 5.1657392246862965\n"
     ]
    }
   ],
   "source": [
    "threshold = 6\n",
    "total_cnt = len(tar_tokenizer.word_index) # 단어의 수\n",
    "rare_cnt = 0 # 등장 빈도수가 threshold보다 작은 단어의 개수를 카운트\n",
    "total_freq = 0 # 훈련 데이터의 전체 단어 빈도수 총 합\n",
    "rare_freq = 0 # 등장 빈도수가 threshold보다 작은 단어의 등장 빈도수의 총 합\n",
    "\n",
    "# 단어와 빈도수의 쌍(pair)을 key와 value로 받는다.\n",
    "for key, value in tar_tokenizer.word_counts.items():\n",
    "    total_freq = total_freq + value\n",
    "\n",
    "    # 단어의 등장 빈도수가 threshold보다 작으면\n",
    "    if(value < threshold):\n",
    "        rare_cnt = rare_cnt + 1\n",
    "        rare_freq = rare_freq + value\n",
    "\n",
    "print('단어 집합(vocabulary)의 크기 :', total_cnt)\n",
    "print('등장 빈도가 %s번 이하인 희귀 단어의 수: %s'%(threshold - 1, rare_cnt))\n",
    "print('단어 집합에서 희귀 단어를 제외시킬 경우의 단어 집합의 크기 %s'%(total_cnt - rare_cnt))\n",
    "print(\"단어 집합에서 희귀 단어의 비율:\", (rare_cnt / total_cnt)*100)\n",
    "print(\"전체 등장 빈도에서 희귀 단어 등장 빈도 비율:\", (rare_freq / total_freq)*100)"
   ]
  },
  {
   "cell_type": "markdown",
   "metadata": {
    "id": "WrSc6kArPobn"
   },
   "source": [
    "headlines 데이터에서는 희귀단어의 빈도를 고려하여 단어집합의 크기를 9,500으로 정함"
   ]
  },
  {
   "cell_type": "code",
   "execution_count": null,
   "metadata": {
    "colab": {
     "base_uri": "https://localhost:8080/"
    },
    "executionInfo": {
     "elapsed": 5220,
     "status": "ok",
     "timestamp": 1653140796365,
     "user": {
      "displayName": "changhwan lee",
      "userId": "04303211996600941657"
     },
     "user_tz": -540
    },
    "id": "fHQmbDqYMjMX",
    "outputId": "585b4113-a433-4ca9-e6d7-45b91b92a26f"
   },
   "outputs": [
    {
     "name": "stdout",
     "output_type": "stream",
     "text": [
      "input\n",
      "input  [[1, 1793, 27, 4, 486, 106, 5953], [1, 5415, 12, 4938, 5, 756, 718, 6681, 2502], [1, 643, 71, 5182, 5183, 3232, 46, 41, 793, 180], [1, 6682, 1365, 943, 5, 202, 49, 2665, 517], [1, 148, 3140, 1137, 2666, 14, 569, 6316]]\n",
      "target\n",
      "decoder  [[1793, 27, 4, 486, 106, 5953, 2], [5415, 12, 4938, 5, 756, 718, 6681, 2502, 2], [643, 71, 5182, 5183, 3232, 46, 41, 793, 180, 2], [6682, 1365, 943, 5, 202, 49, 2665, 517, 2], [148, 3140, 1137, 2666, 14, 569, 6316, 2]]\n"
     ]
    }
   ],
   "source": [
    "tar_vocab = 9500\n",
    "tar_tokenizer = Tokenizer(num_words=tar_vocab) \n",
    "tar_tokenizer.fit_on_texts(decoder_input_train)\n",
    "tar_tokenizer.fit_on_texts(decoder_target_train)\n",
    "\n",
    "# 텍스트 시퀀스를 정수 시퀀스로 변환\n",
    "decoder_input_train = tar_tokenizer.texts_to_sequences(decoder_input_train) \n",
    "decoder_target_train = tar_tokenizer.texts_to_sequences(decoder_target_train)\n",
    "decoder_input_test = tar_tokenizer.texts_to_sequences(decoder_input_test)\n",
    "decoder_target_test = tar_tokenizer.texts_to_sequences(decoder_target_test)\n",
    "\n",
    "# 잘 변환되었는지 확인\n",
    "print('input')\n",
    "print('input ',decoder_input_train[:5])\n",
    "print('target')\n",
    "print('decoder ',decoder_target_train[:5])"
   ]
  },
  {
   "cell_type": "markdown",
   "metadata": {
    "id": "yQvWm3WvP-x-"
   },
   "source": [
    "빈도수 낮은 단어로 구성된 샘플이 비어 있을 경우 삭제함"
   ]
  },
  {
   "cell_type": "code",
   "execution_count": null,
   "metadata": {
    "colab": {
     "base_uri": "https://localhost:8080/"
    },
    "executionInfo": {
     "elapsed": 277,
     "status": "ok",
     "timestamp": 1653140825789,
     "user": {
      "displayName": "changhwan lee",
      "userId": "04303211996600941657"
     },
     "user_tz": -540
    },
    "id": "7zrs2-OBMwpP",
    "outputId": "1bbfb6b8-eeca-4a50-ee28-882d0405f9da"
   },
   "outputs": [
    {
     "name": "stdout",
     "output_type": "stream",
     "text": [
      "삭제할 훈련 데이터의 개수 : 0\n",
      "삭제할 테스트 데이터의 개수 : 0\n",
      "훈련 데이터의 개수 : 68675\n",
      "훈련 레이블의 개수 : 68675\n",
      "테스트 데이터의 개수 : 17168\n",
      "테스트 레이블의 개수 : 17168\n"
     ]
    }
   ],
   "source": [
    "drop_train = [index for index, sentence in enumerate(decoder_input_train) if len(sentence) == 1]\n",
    "drop_test = [index for index, sentence in enumerate(decoder_input_test) if len(sentence) == 1]\n",
    "\n",
    "print('삭제할 훈련 데이터의 개수 :', len(drop_train))\n",
    "print('삭제할 테스트 데이터의 개수 :', len(drop_test))\n",
    "\n",
    "encoder_input_train = [sentence for index, sentence in enumerate(encoder_input_train) if index not in drop_train]\n",
    "decoder_input_train = [sentence for index, sentence in enumerate(decoder_input_train) if index not in drop_train]\n",
    "decoder_target_train = [sentence for index, sentence in enumerate(decoder_target_train) if index not in drop_train]\n",
    "\n",
    "encoder_input_test = [sentence for index, sentence in enumerate(encoder_input_test) if index not in drop_test]\n",
    "decoder_input_test = [sentence for index, sentence in enumerate(decoder_input_test) if index not in drop_test]\n",
    "decoder_target_test = [sentence for index, sentence in enumerate(decoder_target_test) if index not in drop_test]\n",
    "\n",
    "print('훈련 데이터의 개수 :', len(encoder_input_train))\n",
    "print('훈련 레이블의 개수 :', len(decoder_input_train))\n",
    "print('테스트 데이터의 개수 :', len(encoder_input_test))\n",
    "print('테스트 레이블의 개수 :', len(decoder_input_test))"
   ]
  },
  {
   "cell_type": "markdown",
   "metadata": {
    "id": "Cr0kN20DQQ1J"
   },
   "source": [
    "### 2-7 패딩하기"
   ]
  },
  {
   "cell_type": "markdown",
   "metadata": {
    "id": "dTvmETZtQXGx"
   },
   "source": [
    "서로 다른 길이의 샘플들을 병렬처리하기 위해 같은 길이로 맞춰주는 패딩작업을 진행함"
   ]
  },
  {
   "cell_type": "code",
   "execution_count": null,
   "metadata": {
    "id": "Dd3YPN-WNPIX"
   },
   "outputs": [],
   "source": [
    "encoder_input_train = pad_sequences(encoder_input_train, maxlen=text_max_len, padding='post')\n",
    "encoder_input_test = pad_sequences(encoder_input_test, maxlen=text_max_len, padding='post')\n",
    "decoder_input_train = pad_sequences(decoder_input_train, maxlen=summary_max_len, padding='post')\n",
    "decoder_target_train = pad_sequences(decoder_target_train, maxlen=summary_max_len, padding='post')\n",
    "decoder_input_test = pad_sequences(decoder_input_test, maxlen=summary_max_len, padding='post')\n",
    "decoder_target_test = pad_sequences(decoder_target_test, maxlen=summary_max_len, padding='post')"
   ]
  },
  {
   "cell_type": "markdown",
   "metadata": {
    "id": "Y7na_-WXQrQb"
   },
   "source": [
    "## 3. 모델 설계하기"
   ]
  },
  {
   "cell_type": "markdown",
   "metadata": {
    "id": "l6NuDm9xQ0IQ"
   },
   "source": [
    "### 3-1 인코드 설계"
   ]
  },
  {
   "cell_type": "code",
   "execution_count": null,
   "metadata": {
    "id": "4dfY4ecmNdzm"
   },
   "outputs": [],
   "source": [
    "from tensorflow.keras.layers import Input, LSTM, Embedding, Dense, Concatenate, TimeDistributed\n",
    "from tensorflow.keras.models import Model\n",
    "from tensorflow.keras.callbacks import EarlyStopping, ModelCheckpoint\n",
    "\n",
    "\n",
    "# 인코더 설계 시작\n",
    "embedding_dim = 256\n",
    "hidden_size = 512\n",
    "\n",
    "# 인코더\n",
    "encoder_inputs = Input(shape=(text_max_len,))\n",
    "\n",
    "# 인코더의 임베딩 층\n",
    "enc_emb = Embedding(src_vocab, embedding_dim)(encoder_inputs)\n",
    "\n",
    "# 인코더의 LSTM 1\n",
    "# encoder_lstm1 = LSTM(hidden_size, return_sequences=True, return_state=True ,dropout = 0.4, recurrent_dropout = 0.4)\n",
    "encoder_lstm1 = LSTM(hidden_size, return_sequences=True, return_state=True ,dropout = 0.4)\n",
    "encoder_output1, state_h1, state_c1 = encoder_lstm1(enc_emb)\n",
    "\n",
    "# 인코더의 LSTM 2\n",
    "# encoder_lstm2 = LSTM(hidden_size, return_sequences=True, return_state=True, dropout=0.4, recurrent_dropout=0.4)\n",
    "encoder_lstm2 = LSTM(hidden_size, return_sequences=True, return_state=True, dropout=0.4)\n",
    "encoder_output2, state_h2, state_c2 = encoder_lstm2(encoder_output1)\n",
    "\n",
    "# 인코더의 LSTM 3\n",
    "# encoder_lstm3 = LSTM(hidden_size, return_state=True, return_sequences=True, dropout=0.4, recurrent_dropout=0.4)\n",
    "encoder_lstm3 = LSTM(hidden_size, return_state=True, return_sequences=True, dropout=0.4)\n",
    "encoder_outputs, state_h, state_c= encoder_lstm3(encoder_output2)"
   ]
  },
  {
   "cell_type": "markdown",
   "metadata": {
    "id": "KHxMJE9MROJK"
   },
   "source": [
    "임베딩 벡터의 차원은 256, hidden state의 크기는 512로 정의하고 LSTM은 총 3개층으로 구성. dropout은 0.4로 하고 recurrent_dropout은 사용하지 않음"
   ]
  },
  {
   "cell_type": "markdown",
   "metadata": {
    "id": "tWFL_dZtRjba"
   },
   "source": [
    "### 3-2 디코드 설계"
   ]
  },
  {
   "cell_type": "code",
   "execution_count": null,
   "metadata": {
    "id": "4WJWgDFDR7Vi"
   },
   "outputs": [],
   "source": [
    "# 디코더 설계\n",
    "decoder_inputs = Input(shape=(None,))\n",
    "\n",
    "# 디코더의 임베딩 층\n",
    "dec_emb_layer = Embedding(tar_vocab, embedding_dim)\n",
    "dec_emb = dec_emb_layer(decoder_inputs)\n",
    "\n",
    "# 디코더의 LSTM\n",
    "# decoder_lstm = LSTM(hidden_size, return_sequences=True, return_state=True, dropout=0.4, recurrent_dropout=0.2)\n",
    "decoder_lstm = LSTM(hidden_size, return_sequences=True, return_state=True, dropout=0.4)\n",
    "decoder_outputs, _, _ = decoder_lstm(dec_emb, initial_state=[state_h, state_c])"
   ]
  },
  {
   "cell_type": "markdown",
   "metadata": {
    "id": "W5KDYhhHTC5b"
   },
   "source": [
    "디코드의 임베드 층과 LSTM을 설계하는 것은 인코더와 거의 동일하나, LSTM의 입력을 정의할 때 initial_state의 인자값으로 hidden state와 cell state 값을 지정해야 함"
   ]
  },
  {
   "cell_type": "code",
   "execution_count": null,
   "metadata": {
    "colab": {
     "base_uri": "https://localhost:8080/"
    },
    "executionInfo": {
     "elapsed": 431,
     "status": "ok",
     "timestamp": 1653141081414,
     "user": {
      "displayName": "changhwan lee",
      "userId": "04303211996600941657"
     },
     "user_tz": -540
    },
    "id": "zq_bPYnnStTA",
    "outputId": "9cfc4593-9675-4712-a482-4139dafe565c"
   },
   "outputs": [
    {
     "name": "stdout",
     "output_type": "stream",
     "text": [
      "Model: \"model\"\n",
      "__________________________________________________________________________________________________\n",
      " Layer (type)                   Output Shape         Param #     Connected to                     \n",
      "==================================================================================================\n",
      " input_1 (InputLayer)           [(None, 40)]         0           []                               \n",
      "                                                                                                  \n",
      " embedding (Embedding)          (None, 40, 256)      5120000     ['input_1[0][0]']                \n",
      "                                                                                                  \n",
      " lstm (LSTM)                    [(None, 40, 512),    1574912     ['embedding[0][0]']              \n",
      "                                 (None, 512),                                                     \n",
      "                                 (None, 512)]                                                     \n",
      "                                                                                                  \n",
      " input_2 (InputLayer)           [(None, None)]       0           []                               \n",
      "                                                                                                  \n",
      " lstm_1 (LSTM)                  [(None, 40, 512),    2099200     ['lstm[0][0]']                   \n",
      "                                 (None, 512),                                                     \n",
      "                                 (None, 512)]                                                     \n",
      "                                                                                                  \n",
      " embedding_1 (Embedding)        (None, None, 256)    2432000     ['input_2[0][0]']                \n",
      "                                                                                                  \n",
      " lstm_2 (LSTM)                  [(None, 40, 512),    2099200     ['lstm_1[0][0]']                 \n",
      "                                 (None, 512),                                                     \n",
      "                                 (None, 512)]                                                     \n",
      "                                                                                                  \n",
      " lstm_3 (LSTM)                  [(None, None, 512),  1574912     ['embedding_1[0][0]',            \n",
      "                                 (None, 512),                     'lstm_2[0][1]',                 \n",
      "                                 (None, 512)]                     'lstm_2[0][2]']                 \n",
      "                                                                                                  \n",
      " dense (Dense)                  (None, None, 9500)   4873500     ['lstm_3[0][0]']                 \n",
      "                                                                                                  \n",
      "==================================================================================================\n",
      "Total params: 19,773,724\n",
      "Trainable params: 19,773,724\n",
      "Non-trainable params: 0\n",
      "__________________________________________________________________________________________________\n"
     ]
    }
   ],
   "source": [
    "# 디코더의 출력층\n",
    "decoder_softmax_layer = Dense(tar_vocab, activation='softmax')\n",
    "decoder_softmax_outputs = decoder_softmax_layer(decoder_outputs) \n",
    "\n",
    "# 모델 정의\n",
    "model = Model([encoder_inputs, decoder_inputs], decoder_softmax_outputs)\n",
    "model.summary()"
   ]
  },
  {
   "cell_type": "markdown",
   "metadata": {
    "id": "gNhGX_GOTn3E"
   },
   "source": [
    "### 3-3 어텐션 적용"
   ]
  },
  {
   "cell_type": "markdown",
   "metadata": {
    "id": "c9KdC0wfT0F0"
   },
   "source": [
    "어텐션 적용을 위해 어텐션층 추가과 디코더 출력층을 수정(어텐션 함수는 bahdanau 스타일 적용)"
   ]
  },
  {
   "cell_type": "code",
   "execution_count": null,
   "metadata": {
    "colab": {
     "base_uri": "https://localhost:8080/"
    },
    "executionInfo": {
     "elapsed": 311,
     "status": "ok",
     "timestamp": 1653141131819,
     "user": {
      "displayName": "changhwan lee",
      "userId": "04303211996600941657"
     },
     "user_tz": -540
    },
    "id": "RWUbiU4lTIiA",
    "outputId": "8dddfab4-182b-4465-d67f-e5f8416e522c"
   },
   "outputs": [
    {
     "name": "stdout",
     "output_type": "stream",
     "text": [
      "Model: \"model_1\"\n",
      "__________________________________________________________________________________________________\n",
      " Layer (type)                   Output Shape         Param #     Connected to                     \n",
      "==================================================================================================\n",
      " input_1 (InputLayer)           [(None, 40)]         0           []                               \n",
      "                                                                                                  \n",
      " embedding (Embedding)          (None, 40, 256)      5120000     ['input_1[0][0]']                \n",
      "                                                                                                  \n",
      " lstm (LSTM)                    [(None, 40, 512),    1574912     ['embedding[0][0]']              \n",
      "                                 (None, 512),                                                     \n",
      "                                 (None, 512)]                                                     \n",
      "                                                                                                  \n",
      " input_2 (InputLayer)           [(None, None)]       0           []                               \n",
      "                                                                                                  \n",
      " lstm_1 (LSTM)                  [(None, 40, 512),    2099200     ['lstm[0][0]']                   \n",
      "                                 (None, 512),                                                     \n",
      "                                 (None, 512)]                                                     \n",
      "                                                                                                  \n",
      " embedding_1 (Embedding)        (None, None, 256)    2432000     ['input_2[0][0]']                \n",
      "                                                                                                  \n",
      " lstm_2 (LSTM)                  [(None, 40, 512),    2099200     ['lstm_1[0][0]']                 \n",
      "                                 (None, 512),                                                     \n",
      "                                 (None, 512)]                                                     \n",
      "                                                                                                  \n",
      " lstm_3 (LSTM)                  [(None, None, 512),  1574912     ['embedding_1[0][0]',            \n",
      "                                 (None, 512),                     'lstm_2[0][1]',                 \n",
      "                                 (None, 512)]                     'lstm_2[0][2]']                 \n",
      "                                                                                                  \n",
      " attention_layer (AdditiveAtten  (None, None, 512)   512         ['lstm_3[0][0]',                 \n",
      " tion)                                                            'lstm_2[0][0]']                 \n",
      "                                                                                                  \n",
      " concat_layer (Concatenate)     (None, None, 1024)   0           ['lstm_3[0][0]',                 \n",
      "                                                                  'attention_layer[0][0]']        \n",
      "                                                                                                  \n",
      " dense_1 (Dense)                (None, None, 9500)   9737500     ['concat_layer[0][0]']           \n",
      "                                                                                                  \n",
      "==================================================================================================\n",
      "Total params: 24,638,236\n",
      "Trainable params: 24,638,236\n",
      "Non-trainable params: 0\n",
      "__________________________________________________________________________________________________\n"
     ]
    }
   ],
   "source": [
    "from tensorflow.keras.layers import AdditiveAttention\n",
    "\n",
    "# 어텐션 층(어텐션 함수)\n",
    "attn_layer = AdditiveAttention(name='attention_layer')\n",
    "\n",
    "# 인코더와 디코더의 모든 time step의 hidden state를 어텐션 층에 전달하고 결과를 리턴\n",
    "attn_out = attn_layer([decoder_outputs, encoder_outputs])\n",
    "\n",
    "\n",
    "# 어텐션의 결과와 디코더의 hidden state들을 연결\n",
    "decoder_concat_input = Concatenate(axis=-1, name='concat_layer')([decoder_outputs, attn_out])\n",
    "\n",
    "# 디코더의 출력층\n",
    "decoder_softmax_layer = Dense(tar_vocab, activation='softmax')\n",
    "decoder_softmax_outputs = decoder_softmax_layer(decoder_concat_input)\n",
    "\n",
    "# 모델 정의\n",
    "model = Model([encoder_inputs, decoder_inputs], decoder_softmax_outputs)\n",
    "model.summary()"
   ]
  },
  {
   "cell_type": "markdown",
   "metadata": {
    "id": "OvM6EtQbUXja"
   },
   "source": [
    "## 4. 모델 훈련하기"
   ]
  },
  {
   "cell_type": "code",
   "execution_count": null,
   "metadata": {
    "colab": {
     "base_uri": "https://localhost:8080/"
    },
    "executionInfo": {
     "elapsed": 568666,
     "status": "ok",
     "timestamp": 1653141740869,
     "user": {
      "displayName": "changhwan lee",
      "userId": "04303211996600941657"
     },
     "user_tz": -540
    },
    "id": "kzoiA2jHTx8O",
    "outputId": "0ceb75ed-6b4f-49e0-9c9b-88c721d438e8"
   },
   "outputs": [
    {
     "name": "stdout",
     "output_type": "stream",
     "text": [
      "Epoch 1/50\n",
      "269/269 [==============================] - 52s 144ms/step - loss: 5.9288 - val_loss: 5.4546\n",
      "Epoch 2/50\n",
      "269/269 [==============================] - 37s 137ms/step - loss: 5.2761 - val_loss: 4.9634\n",
      "Epoch 3/50\n",
      "269/269 [==============================] - 37s 137ms/step - loss: 4.7952 - val_loss: 4.6537\n",
      "Epoch 4/50\n",
      "269/269 [==============================] - 37s 137ms/step - loss: 4.4202 - val_loss: 4.3848\n",
      "Epoch 5/50\n",
      "269/269 [==============================] - 37s 137ms/step - loss: 4.1152 - val_loss: 4.2365\n",
      "Epoch 6/50\n",
      "269/269 [==============================] - 37s 137ms/step - loss: 3.8575 - val_loss: 4.0952\n",
      "Epoch 7/50\n",
      "269/269 [==============================] - 37s 137ms/step - loss: 3.6327 - val_loss: 3.9986\n",
      "Epoch 8/50\n",
      "269/269 [==============================] - 37s 138ms/step - loss: 3.4337 - val_loss: 3.9563\n",
      "Epoch 9/50\n",
      "269/269 [==============================] - 37s 137ms/step - loss: 3.2579 - val_loss: 3.9154\n",
      "Epoch 10/50\n",
      "269/269 [==============================] - 37s 137ms/step - loss: 3.0932 - val_loss: 3.9043\n",
      "Epoch 11/50\n",
      "269/269 [==============================] - 37s 138ms/step - loss: 2.9456 - val_loss: 3.8757\n",
      "Epoch 12/50\n",
      "269/269 [==============================] - 37s 137ms/step - loss: 2.8080 - val_loss: 3.8723\n",
      "Epoch 13/50\n",
      "269/269 [==============================] - 37s 137ms/step - loss: 2.6805 - val_loss: 3.8686\n",
      "Epoch 14/50\n",
      "269/269 [==============================] - 37s 137ms/step - loss: 2.5619 - val_loss: 3.8833\n",
      "Epoch 15/50\n",
      "269/269 [==============================] - 37s 137ms/step - loss: 2.4518 - val_loss: 3.8965\n",
      "Epoch 15: early stopping\n"
     ]
    }
   ],
   "source": [
    "# 모델 훈련하기\n",
    "model.compile(optimizer='rmsprop', loss='sparse_categorical_crossentropy')\n",
    "es = EarlyStopping(monitor='val_loss', patience=2, verbose=1)\n",
    "history = model.fit(x=[encoder_input_train, decoder_input_train], y=decoder_target_train, \\\n",
    "          validation_data=([encoder_input_test, decoder_input_test], decoder_target_test), \\\n",
    "          batch_size=256, callbacks=[es], epochs=50)"
   ]
  },
  {
   "cell_type": "markdown",
   "metadata": {
    "id": "DoTxfZBEUhMI"
   },
   "source": [
    "epoch 15에서 val_loss 증가로 조기 종료됨"
   ]
  },
  {
   "cell_type": "code",
   "execution_count": null,
   "metadata": {
    "colab": {
     "base_uri": "https://localhost:8080/",
     "height": 265
    },
    "executionInfo": {
     "elapsed": 24808,
     "status": "ok",
     "timestamp": 1653141803026,
     "user": {
      "displayName": "changhwan lee",
      "userId": "04303211996600941657"
     },
     "user_tz": -540
    },
    "id": "iJlDT3roUP7P",
    "outputId": "eb1ed3cb-af13-4169-d55f-3af8c8013395"
   },
   "outputs": [
    {
     "data": {
      "image/png": "[encoded data removed]",
      "text/plain": [
       "<Figure size 432x288 with 1 Axes>"
      ]
     },
     "metadata": {
      "needs_background": "light"
     },
     "output_type": "display_data"
    }
   ],
   "source": [
    "plt.plot(history.history['loss'], label='train')\n",
    "plt.plot(history.history['val_loss'], label='test')\n",
    "plt.legend()\n",
    "plt.show()"
   ]
  },
  {
   "cell_type": "markdown",
   "metadata": {
    "id": "mJ-2a3mpVGLj"
   },
   "source": [
    "## 5. 인퍼런스 모델 구현하기"
   ]
  },
  {
   "cell_type": "code",
   "execution_count": null,
   "metadata": {
    "id": "MJklH4q6VhCh"
   },
   "outputs": [],
   "source": [
    "src_index_to_word = src_tokenizer.index_word # 원문 단어 집합에서 정수 -> 단어를 얻음\n",
    "tar_word_to_index = tar_tokenizer.word_index # 요약 단어 집합에서 단어 -> 정수를 얻음\n",
    "tar_index_to_word = tar_tokenizer.index_word # 요약 단어 집합에서 정수 -> 단어를 얻음\n"
   ]
  },
  {
   "cell_type": "markdown",
   "metadata": {
    "id": "u9jzyBWMVN5g"
   },
   "source": [
    "테스트 단계에서 정수 인덱스 행렬로 존재하던 텍스트 데이터 복원을 위해 3개의 사전을 미리 준비"
   ]
  },
  {
   "cell_type": "code",
   "execution_count": null,
   "metadata": {
    "id": "MGa3yPlFV-GQ"
   },
   "outputs": [],
   "source": [
    "# 인코더 설계\n",
    "encoder_model = Model(inputs=encoder_inputs, outputs=[encoder_outputs, state_h, state_c])\n",
    "\n",
    "# 이전 시점의 상태들을 저장하는 텐서\n",
    "decoder_state_input_h = Input(shape=(hidden_size,))\n",
    "decoder_state_input_c = Input(shape=(hidden_size,))\n",
    "\n",
    "dec_emb2 = dec_emb_layer(decoder_inputs)\n",
    "\n",
    "# 문장의 다음 단어를 예측하기 위해서 초기 상태(initial_state)를 이전 시점의 상태로 사용. 이는 뒤의 함수 decode_sequence()에 구현\n",
    "# 훈련 과정에서와 달리 LSTM의 리턴하는 은닉 상태와 셀 상태인 state_h와 state_c를 버리지 않음.\n",
    "decoder_outputs2, state_h2, state_c2 = decoder_lstm(dec_emb2, initial_state=[decoder_state_input_h, decoder_state_input_c])\n"
   ]
  },
  {
   "cell_type": "markdown",
   "metadata": {
    "id": "Gx2f-NjAVgOx"
   },
   "source": [
    "seq2seq는 훈련할 때와 실제 동작할 때(인퍼런스 단계)의 방식이 다르므로 모델 설계를 별개로 진행해야 함"
   ]
  },
  {
   "cell_type": "code",
   "execution_count": null,
   "metadata": {
    "id": "mxLCC7jGWZsw"
   },
   "outputs": [],
   "source": [
    "# 어텐션 함수\n",
    "decoder_hidden_state_input = Input(shape=(text_max_len, hidden_size))\n",
    "attn_out_inf = attn_layer([decoder_outputs2, decoder_hidden_state_input])\n",
    "decoder_inf_concat = Concatenate(axis=-1, name='concat')([decoder_outputs2, attn_out_inf])\n",
    "\n",
    "# 디코더의 출력층\n",
    "decoder_outputs2 = decoder_softmax_layer(decoder_inf_concat) \n",
    "\n",
    "# 최종 디코더 모델\n",
    "decoder_model = Model(\n",
    "    [decoder_inputs] + [decoder_hidden_state_input,decoder_state_input_h, decoder_state_input_c],\n",
    "    [decoder_outputs2] + [state_h2, state_c2])\n"
   ]
  },
  {
   "cell_type": "code",
   "execution_count": null,
   "metadata": {
    "id": "N841Sy3HWp3i"
   },
   "outputs": [],
   "source": [
    "def decode_sequence(input_seq):\n",
    "    # 입력으로부터 인코더의 상태를 얻음\n",
    "    e_out, e_h, e_c = encoder_model.predict(input_seq)\n",
    "\n",
    "     # <SOS>에 해당하는 토큰 생성\n",
    "    target_seq = np.zeros((1,1))\n",
    "    target_seq[0, 0] = tar_word_to_index['sostoken']\n",
    "\n",
    "    stop_condition = False\n",
    "    decoded_sentence = ''\n",
    "    while not stop_condition: # stop_condition이 True가 될 때까지 루프 반복\n",
    "\n",
    "        output_tokens, h, c = decoder_model.predict([target_seq] + [e_out, e_h, e_c])\n",
    "        sampled_token_index = np.argmax(output_tokens[0, -1, :])\n",
    "        sampled_token = tar_index_to_word[sampled_token_index]\n",
    "\n",
    "        if (sampled_token!='eostoken'):\n",
    "            decoded_sentence += ' '+sampled_token\n",
    "\n",
    "        #  <eos>에 도달하거나 최대 길이를 넘으면 중단.\n",
    "        if (sampled_token == 'eostoken'  or len(decoded_sentence.split()) >= (summary_max_len-1)):\n",
    "            stop_condition = True\n",
    "\n",
    "        # 길이가 1인 타겟 시퀀스를 업데이트\n",
    "        target_seq = np.zeros((1,1))\n",
    "        target_seq[0, 0] = sampled_token_index\n",
    "\n",
    "        # 상태를 업데이트 합니다.\n",
    "        e_h, e_c = h, c\n",
    "\n",
    "    return decoded_sentence"
   ]
  },
  {
   "cell_type": "markdown",
   "metadata": {
    "id": "hJfvwgYfWLgM"
   },
   "source": [
    "## 6. 모델 테스트하기"
   ]
  },
  {
   "cell_type": "code",
   "execution_count": null,
   "metadata": {
    "id": "Vohif9IyXPeW"
   },
   "outputs": [],
   "source": [
    "# 원문의 정수 시퀀스를 텍스트 시퀀스로 변환\n",
    "def seq2text(input_seq):\n",
    "    temp=''\n",
    "    for i in input_seq:\n",
    "        if (i!=0):\n",
    "            temp = temp + src_index_to_word[i]+' '\n",
    "    return temp\n",
    "\n",
    "# 요약문의 정수 시퀀스를 텍스트 시퀀스로 변환\n",
    "def seq2summary(input_seq):\n",
    "    temp=''\n",
    "    for i in input_seq:\n",
    "        if ((i!=0 and i!=tar_word_to_index['sostoken']) and i!=tar_word_to_index['eostoken']):\n",
    "            temp = temp + tar_index_to_word[i] + ' '\n",
    "    return temp\n"
   ]
  },
  {
   "cell_type": "code",
   "execution_count": null,
   "metadata": {
    "colab": {
     "base_uri": "https://localhost:8080/"
    },
    "executionInfo": {
     "elapsed": 20448,
     "status": "ok",
     "timestamp": 1653142147918,
     "user": {
      "displayName": "changhwan lee",
      "userId": "04303211996600941657"
     },
     "user_tz": -540
    },
    "id": "1TWoyLJvXwga",
    "outputId": "27f1a985-6058-4f30-eaf9-8774f6d5e04c"
   },
   "outputs": [
    {
     "name": "stdout",
     "output_type": "stream",
     "text": [
      "원문 : muslim man bihar broke ramadan fast donate blood eight year old patient sudden drop level boy family contacted blood donating society found match hospital refused take blood due fasting decided break fast \n",
      "실제 요약 : muslim man breaks ramadan fast to donate blood to year old \n",
      "예측 요약 :  mp man who was caught in hospital in\n",
      "\n",
      "\n",
      "원문 : committee formed human resource development ministry may recommend duration cbse class exams reduced seven four weeks attempt prevent paper leaks reports said committee formed leak class economics class maths paper april year \n",
      "실제 요약 : reduce cbse board exam from to weeks govt body \n",
      "예측 요약 :  cbse class board exams to be held in exam\n",
      "\n",
      "\n",
      "원문 : late actor vinod khanna born peshawar modern day pakistan family moved india partition made bollywood debut man ka meet khanna appeared films later joined bjp actor reportedly suffering cancer passed away thursday age \n",
      "실제 요약 : video shows journey of vinod khanna from actor to politician \n",
      "예측 요약 :  vinod khanna was the best actor at india\n",
      "\n",
      "\n",
      "원문 : mahatma gandhi grandson gopalkrishna gandhi said leader would laughed remark utter hidden mischief amit shah referred gandhi said congress never party based principles merely special purpose vehicle secure freedom \n",
      "실제 요약 : gandhi would have at remark grandson \n",
      "예측 요약 :  pranab mukherjee was never never said to sonia gandhi\n",
      "\n",
      "\n",
      "원문 : least two police officers killed three gunmen attacked chinese consulate pakistan karachi friday attacker suicide vest gunned condition security guard injured attack critical baloch separatist group named balochistan liberation army claimed responsibility attack \n",
      "실제 요약 : policemen killed in attack on chinese embassy in pakistan \n",
      "예측 요약 :  killed injured in terrorist attack in pakistan\n",
      "\n",
      "\n",
      "원문 : family sold belongings gone th trip together two years garrett jessica visited countries two kids namely four year old two year old garrett said big part journey opportunity spend quality time children \n",
      "실제 요약 : family that sold all its goes on th trip \n",
      "예측 요약 :  who is the biggest of the biggest ever\n",
      "\n",
      "\n",
      "원문 : sister priyanka gandhi vadra entered active politics congress president rahul gandhi said discussion include priyanka going years added said children young needed take care children reached age one gone university another go \n",
      "실제 요약 : talk of priyanka entering politics was ongoing for years rahul \n",
      "예측 요약 :  priyanka has been my own politics priyanka\n",
      "\n",
      "\n",
      "원문 : hottest known planet whose star facing side reaches temperatures atmosphere iron titanium study revealed temperatures insane even though planet atmosphere star said co author discovered last year orbiting star light years earth \n",
      "실제 요약 : iron found in atmosphere of hottest known planet \n",
      "예측 요약 :  astronomers star in planet orbit\n",
      "\n",
      "\n",
      "원문 : oneplus emerged trusted smartphone brand india survey capturing consumer preferences around smartphone brands revealed report stated oneplus users satisfied phones satisfied availability spare parts problem resolution moreover oneplus ranked second behind htc premium smartphone segment \n",
      "실제 요약 : oneplus most trusted smartphone brand in india report \n",
      "예측 요약 :  oneplus to launch smartphone in india\n",
      "\n",
      "\n",
      "원문 : indian american billionaire founder john kapoor resigned company board days arrested charges bribery accused bribing doctors us prescribe firm opioid also resigned chairman director us generic drugmaker \n",
      "실제 요약 : indian american billionaire resigns after bribe case \n",
      "예측 요약 :  ceo of ex girlfriend arrested in us\n",
      "\n",
      "\n",
      "원문 : former pakistani cricketer ahmed first person stumped test cricket never managed score international century career ahmed born march remained cricketer stumped years notably ahmed stumped playing india \n",
      "실제 요약 : st cricketer to be on never scored test ton \n",
      "예측 요약 :  only to test cricket after yrs\n",
      "\n",
      "\n",
      "원문 : ministry skill development entrepreneurship secretary kp krishnan said private skill training centres india worse condition compared government ones said around industrial training institutes country belong private sector krishnan said private lack quality labs equipment \n",
      "실제 요약 : private training centres worse in india govt official \n",
      "예측 요약 :  states to work in states for states\n",
      "\n",
      "\n",
      "원문 : members cleaning staff wimbledon said picked food trash bins wages get enough buy lunch dinner working staff also revealed corridors breaks due lack official break areas added duration breaks also insufficient \n",
      "실제 요약 : wimbledon cleaning staff take food from due to low pay \n",
      "예측 요약 :  to get leave to eat staff\n",
      "\n",
      "\n",
      "원문 : american rapper started crowdfunding campaign show bob aims raise million launch satellites space find earth flat initial campaign raised far last year got twitter fight astrophysicist neil tyson matter \n",
      "실제 요약 : us rapper satellites to find if earth is flat \n",
      "예측 요약 :  video shows satellite worth crore in space\n",
      "\n",
      "\n",
      "원문 : india recently retrieved stolen th century idol brahma london idol stolen unesco world heritage site rani ki gujarat smuggled country archaeological survey india officials said th century idol lord ganesha also stolen open sky museum time \n",
      "실제 요약 : india stolen th century idol from london \n",
      "예측 요약 :  india jewellery painting with stolen stolen from museum\n",
      "\n",
      "\n",
      "원문 : data procured health department rti revealed haryana government claim made march state sex ratio birth touched mark first time history incorrect according data haryana sex ratio birth till june year females per males \n",
      "실제 요약 : rti haryana govt sex ratio figure claim \n",
      "예측 요약 :  govt to give birth to child sex abuse in maharashtra\n",
      "\n",
      "\n",
      "원문 : facebook reportedly investigation us privacy regulator use personal data million users analytics firm help elect president donald trump cambridge analytica alleged improperly gained access data probe relates whether facebook violated consent decree signed regulator \n",
      "실제 요약 : us facebook for use of personal data reports \n",
      "예측 요약 :  facebook to buy facebook ads to data scandal\n",
      "\n",
      "\n",
      "원문 : union minister hansraj ahir tuesday informed lok sabha many terrorists civilians killed jammu kashmir since ahir added since till december incidents involving terrorists said period six incidents involving terrorists reported parts country \n",
      "실제 요약 : terrorists civilians killed in since govt \n",
      "예측 요약 :  centre will not take action against militants in militants\n",
      "\n",
      "\n",
      "원문 : australian mp bob criticised calling homosexuality fashion trend campaign trail queensland ahead upcoming federal election whole life never seen heard homosexual person year old said also called anti bullying campaigns schools pro homosexual \n",
      "실제 요약 : homosexuality is fashion trend australian mp \n",
      "예측 요약 :  mp apologises for using homosexuality to promote\n",
      "\n",
      "\n",
      "원문 : adjudged karachi kings colin called review claiming ball hit helmet quetta rahat ali caught psl match interestingly ball showed standing non striker end jofra archer bowling legitimate delivery replays confirmed glove touched ball \n",
      "실제 요약 : no ball shows batsman on strike standing at other end \n",
      "예측 요약 :  batsman gets ball to take off with umpire\n",
      "\n",
      "\n",
      "원문 : emergency alert warning people incoming ballistic missile mistakenly dispatched mobile phones across us hawaii saturday officials sent corrected message around minutes later adding alarm caused human error wrong button pushed hawaii previously depicted target amid rising tensions america north korea \n",
      "실제 요약 : false alert of missile sent to phones across hawaii \n",
      "예측 요약 :  over drone that caused by hawaii missiles on\n",
      "\n",
      "\n",
      "원문 : pune best city country terms local governance bengaluru worst according annual survey india city system pune followed kolkata thiruvananthapuram bhubaneswar surat study ranked cities evaluated quality governance analysing functioning urban local bodies \n",
      "실제 요약 : pune best city in country bengaluru worst survey \n",
      "예측 요약 :  hyderabad tops india city for nd year\n",
      "\n",
      "\n",
      "원문 : world number one denmark progressed qatar open quarter finals thursday complained apparently mocked opponent monica umpire said thought everything regular said way win later complained opponent used unfair methods match \n",
      "실제 요약 : world no mocks complains about opponent \n",
      "예측 요약 :  sindhu slams italian champion for not\n",
      "\n",
      "\n",
      "원문 : actress nushrat speaking career roles comedy films revealed journey comfortable comedy films done certain nushrat added said comedy quite difficult timing tone delivery crucial \n",
      "실제 요약 : it is been journey on acting in comedy films \n",
      "예측 요약 :  my films is not doing actors\n",
      "\n",
      "\n",
      "원문 : railway station belgium capital brussels evacuated tuesday security forces foiled terror attack fatally shooting suspected suicide bomber following failed explosion suspect shouted islamist slogans explosives witnesses claimed capital high alert since brussels based islamic state cell killed people paris \n",
      "실제 요약 : terror attack in belgium suspect shot dead \n",
      "예측 요약 :  railway station near srinagar terror alert in london\n",
      "\n",
      "\n",
      "원문 : speaking song upcoming film simmba director rohit shetty revealed around people including dancers featured video title track film think career biggest song director said film starring ranveer singh sara ali khan release december \n",
      "실제 요약 : people in title track rohit shetty on simmba \n",
      "예측 요약 :  video shows taapsee debut with his version of\n",
      "\n",
      "\n",
      "원문 : israeli border police arrested man deliberately got arrested disperse six phones prisoners man described israeli police arab trying scale security fence surrounding jerusalem placed custody however body search done minutes putting inmates revealed carrying phones intestines \n",
      "실제 요약 : man gets arrested to give phones hid in body to inmates \n",
      "예측 요약 :  arrested in connection with pm modi in iran\n",
      "\n",
      "\n",
      "원문 : google spinoff waymo become first company receive approval launch commercial driverless commercial ride hailing service us company reportedly use fleet driverless pickup drop paying riders smartphone app website company aims start paid service waymo spokesperson said \n",
      "실제 요약 : us gives first approval for commercial driverless service \n",
      "예측 요약 :  google to launch self driving service in us\n",
      "\n",
      "\n",
      "원문 : west bengal chief minister mamata banerjee banned display arms ram navami celebrations sunday however state bjp president dilip ghosh said people ram navami would carry arms per tradition also carry one rallies said \n",
      "실제 요약 : wb govt bans display of arms at ram celebrations \n",
      "예측 요약 :  mamata calls for ram temple\n",
      "\n",
      "\n",
      "원문 : brazilian forward neymar reportedly paid appearing commercial wherein admitted world cup promised become new man year old psg forward criticised diving antics quadrennial tournament neymar also pledged leave childish things next national jersey \n",
      "실제 요약 : neymar earned crore for world cup apology video reports \n",
      "예측 요약 :  neymar pays tribute to nike world cup\n",
      "\n",
      "\n"
     ]
    }
   ],
   "source": [
    "for i in range(50, 80):\n",
    "    print(\"원문 :\", seq2text(encoder_input_test[i]))\n",
    "    print(\"실제 요약 :\", seq2summary(decoder_input_test[i]))\n",
    "    print(\"예측 요약 :\", decode_sequence(encoder_input_test[i].reshape(1, text_max_len)))\n",
    "    print(\"\\n\")"
   ]
  },
  {
   "cell_type": "markdown",
   "metadata": {
    "id": "2_xvIHF5WXB8"
   },
   "source": [
    "원문 및 실제요약과 대비한 예측 요약이 상당히 비슷한 부분이 많으나, 일부는 전혀 다른 부분도 있음. 이는 원문에 없는 문장을 산출하는 추상적 요약의 특징이기도 함"
   ]
  },
  {
   "cell_type": "markdown",
   "metadata": {
    "id": "5sCGk6KTW8R2"
   },
   "source": [
    "## 7. 추출적 요약해보기"
   ]
  },
  {
   "cell_type": "code",
   "execution_count": null,
   "metadata": {
    "colab": {
     "base_uri": "https://localhost:8080/"
    },
    "executionInfo": {
     "elapsed": 5825,
     "status": "ok",
     "timestamp": 1653202187468,
     "user": {
      "displayName": "changhwan lee",
      "userId": "04303211996600941657"
     },
     "user_tz": -540
    },
    "id": "6-PcgYrSZ-yu",
    "outputId": "d15f2e5d-89d1-4a8b-82f1-62c3408fb858"
   },
   "outputs": [
    {
     "name": "stdout",
     "output_type": "stream",
     "text": [
      "Collecting summa\n",
      "  Downloading summa-1.2.0.tar.gz (54 kB)\n",
      "\u001b[?25l\r\u001b[K     |██████                          | 10 kB 29.1 MB/s eta 0:00:01\r\u001b[K     |████████████                    | 20 kB 12.2 MB/s eta 0:00:01\r\u001b[K     |██████████████████              | 30 kB 9.4 MB/s eta 0:00:01\r\u001b[K     |███████████████████████▉        | 40 kB 8.6 MB/s eta 0:00:01\r\u001b[K     |█████████████████████████████▉  | 51 kB 5.4 MB/s eta 0:00:01\r\u001b[K     |████████████████████████████████| 54 kB 2.0 MB/s \n",
      "\u001b[?25hRequirement already satisfied: scipy>=0.19 in /usr/local/lib/python3.7/dist-packages (from summa) (1.4.1)\n",
      "Requirement already satisfied: numpy>=1.13.3 in /usr/local/lib/python3.7/dist-packages (from scipy>=0.19->summa) (1.21.6)\n",
      "Building wheels for collected packages: summa\n",
      "  Building wheel for summa (setup.py) ... \u001b[?25l\u001b[?25hdone\n",
      "  Created wheel for summa: filename=summa-1.2.0-py3-none-any.whl size=54412 sha256=ea176e52b3f425f0f9c4d85843d90f68ab469b82451498a6524d5b08a4fcb34e\n",
      "  Stored in directory: /root/.cache/pip/wheels/29/64/ac/7b443477588d365ef37ada30d456bdf5f07dc5be9f6324cb6e\n",
      "Successfully built summa\n",
      "Installing collected packages: summa\n",
      "Successfully installed summa-1.2.0\n"
     ]
    }
   ],
   "source": [
    "!pip install summa"
   ]
  },
  {
   "cell_type": "code",
   "execution_count": null,
   "metadata": {
    "id": "6oDLnuEGYJGo"
   },
   "outputs": [],
   "source": [
    "import requests\n",
    "from summa.summarizer import summarize"
   ]
  },
  {
   "cell_type": "code",
   "execution_count": null,
   "metadata": {
    "colab": {
     "base_uri": "https://localhost:8080/"
    },
    "executionInfo": {
     "elapsed": 7,
     "status": "ok",
     "timestamp": 1653173010865,
     "user": {
      "displayName": "changhwan lee",
      "userId": "04303211996600941657"
     },
     "user_tz": -540
    },
    "id": "LutXDD5GZt0P",
    "outputId": "9c7914ff-3039-483d-9597-d2f1b0f1bd50"
   },
   "outputs": [
    {
     "name": "stdout",
     "output_type": "stream",
     "text": [
      "원문 : Saurav Kant, an alumnus of upGrad and IIIT-B's PG Program in Machine learning and Artificial Intelligence, was a Sr Systems Engineer at Infosys with almost 5 years of work experience. The program and upGrad's 360-degree career support helped him transition to a Data Scientist at Tech Mahindra with 90% salary hike. upGrad's Online Power Learning has powered 3 lakh+ careers.\n",
      "실제 요약 : upGrad learner switches to career in ML & Al with 90% salary hike\n",
      "예측 요약 : upGrad's Online Power Learning has powered 3 lakh+ careers.\n",
      "\n",
      "\n",
      "원문 : Kunal Shah's credit card bill payment platform, CRED, gave users a chance to win free food from Swiggy for one year. Pranav Kaushik, a Delhi techie, bagged this reward after spending 2000 CRED coins. Users get one CRED coin per rupee of bill paid, which can be used to avail rewards from brands like Ixigo, BookMyShow, UberEats, Cult.Fit and more.\n",
      "실제 요약 : Delhi techie wins free food from Swiggy for one year on CRED\n",
      "예측 요약 : Users get one CRED coin per rupee of bill paid, which can be used to avail rewards from brands like Ixigo, BookMyShow, UberEats, Cult.Fit and more.\n",
      "\n",
      "\n",
      "원문 : New Zealand defeated India by 8 wickets in the fourth ODI at Hamilton on Thursday to win their first match of the five-match ODI series. India lost an international match under Rohit Sharma's captaincy after 12 consecutive victories dating back to March 2018. The match witnessed India getting all out for 92, their seventh lowest total in ODI cricket history.\n",
      "실제 요약 : New Zealand end Rohit Sharma-led India's 12-match winning streak\n",
      "예측 요약 : The match witnessed India getting all out for 92, their seventh lowest total in ODI cricket history.\n",
      "\n",
      "\n",
      "원문 : With Aegon Life iTerm Insurance plan, customers can enjoy tax benefits on your premiums paid and save up to Ã¢ÂÂ¹46,800^ on taxes. The plan provides life cover up to the age of 100 years. Also, customers have options to insure against Critical Illnesses, Disability and Accidental Death Benefit Rider with a life cover up to the age of 80 years.\n",
      "실제 요약 : Aegon life iTerm insurance plan helps customers save tax\n",
      "예측 요약 : Also, customers have options to insure against Critical Illnesses, Disability and Accidental Death Benefit Rider with a life cover up to the age of 80 years.\n",
      "\n",
      "\n",
      "원문 : Speaking about the sexual harassment allegations against Rajkumar Hirani, Sonam Kapoor said, \"I've known Hirani for many years...What if it's not true, the [#MeToo] movement will get derailed.\" \"In the #MeToo movement, I always believe a woman. But in this case, we need to reserve our judgment,\" she added. Hirani has been accused by an assistant who worked in 'Sanju'.\n",
      "실제 요약 : Have known Hirani for yrs, what if MeToo claims are not true: Sonam\n",
      "예측 요약 : \n",
      "\n",
      "\n",
      "원문 : Pakistani singer Rahat Fateh Ali Khan has denied receiving any notice from the Enforcement Directorate over allegedly smuggling foreign currency out of India. \"It would have been better if the authorities would have served the notice first if any and then publicised this,\" reads a press release issued on behalf of Rahat. The statement further called the allegation \"bizarre\".\n",
      "실제 요약 : Rahat Fateh Ali Khan denies getting notice for smuggling currency\n",
      "예측 요약 : Pakistani singer Rahat Fateh Ali Khan has denied receiving any notice from the Enforcement Directorate over allegedly smuggling foreign currency out of India.\n",
      "\n",
      "\n",
      "원문 : India recorded their lowest ODI total in New Zealand after getting all out for 92 runs in 30.5 overs in the fourth ODI at Hamilton on Thursday. Seven of India's batsmen were dismissed for single-digit scores, while their number ten batsman Yuzvendra Chahal top-scored with 18*(37). India's previous lowest ODI total in New Zealand was 108.\n",
      "실제 요약 : India get all out for 92, their lowest ODI total in New Zealand\n",
      "예측 요약 : India's previous lowest ODI total in New Zealand was 108.\n",
      "\n",
      "\n",
      "원문 : Weeks after ex-CBI Director Alok Verma told the Department of Personnel and Training to consider him retired, the Home Ministry asked him to join work on the last day of his fixed tenure as Director on Thursday. The ministry directed him to immediately join as DG, Fire Services, the post he was transferred to after his removal as CBI chief.\n",
      "실제 요약 : Govt directs Alok Verma to join work 1 day before his retirement\n",
      "예측 요약 : \n",
      "\n",
      "\n",
      "원문 : Andhra Pradesh CM N Chandrababu Naidu has said, \"When I met then US President Bill Clinton, I addressed him as Mr Clinton, not as 'sir'. (PM Narendra) Modi is my junior in politics...I addressed him as sir 10 times.\" \"I did this...to satisfy his ego in the hope that he will do justice to the state,\" he added.\n",
      "실제 요약 : Called PM Modi 'sir' 10 times to satisfy his ego: Andhra CM\n",
      "예측 요약 : Andhra Pradesh CM N Chandrababu Naidu has said, \"When I met then US President Bill Clinton, I addressed him as Mr Clinton, not as 'sir'.\n",
      "\n",
      "\n",
      "원문 : Congress candidate Shafia Zubair won the Ramgarh Assembly seat in Rajasthan, by defeating BJP's Sukhwant Singh with a margin of 12,228 votes in the bypoll. With this victory, Congress has taken its total to 100 seats in the 200-member assembly. The election to the Ramgarh seat was delayed due to the death of sitting MLA and BSP candidate Laxman Singh.\n",
      "실제 요약 : Cong wins Ramgarh bypoll in Rajasthan, takes total to 100 seats\n",
      "예측 요약 : Congress candidate Shafia Zubair won the Ramgarh Assembly seat in Rajasthan, by defeating BJP's Sukhwant Singh with a margin of 12,228 votes in the bypoll.\n",
      "\n",
      "\n",
      "원문 : Two minor cousins in Uttar Pradesh's Gorakhpur were allegedly repeatedly burnt with tongs and forced to eat human excreta by their family for being friends with two boys from the same school. The cousins revealed their ordeal to the police and Child Welfare Committee after being brought back to Gorakhpur from Nepal, where they had fled to escape the torture.\n",
      "실제 요약 : UP cousins fed human excreta for friendship with boys\n",
      "예측 요약 : \n",
      "\n",
      "\n",
      "원문 : Isha Ghosh, an 81-year-old member of Bharat Scouts and Guides (BSG), has been imparting physical and mental training to schoolchildren in Jharkhand for several decades. Chaibasa-based Ghosh reportedly walks seven kilometres daily and spends eight hours conducting physical training, apart from climbing and yoga sessions. She says, \"One should do something for society till one's last breath.\"\n",
      "실제 요약 : 81-yr-old woman conducts physical training in J'khand schools\n",
      "예측 요약 : Isha Ghosh, an 81-year-old member of Bharat Scouts and Guides (BSG), has been imparting physical and mental training to schoolchildren in Jharkhand for several decades.\n",
      "\n",
      "\n",
      "원문 : Urging saints and seers at the Kumbh Mela to quit smoking, Yoga guru Ramdev said, \"We follow Ram and Krishna who never smoked in their life then why should we?\" Making them take a pledge to quit tobacco, he collected chillum (clay pipe) from several sadhus. He said he will deposit the chillums for display at a museum he'll build.\n",
      "실제 요약 : Ram, Krishna didn't smoke, why should we: Ramdev to sadhus at Kumbh\n",
      "예측 요약 : \n",
      "\n",
      "\n",
      "원문 : Former stripper and regional sales director of a pharmaceutical company, Sunrise Lee, gave a doctor a lap dance in a nightclub to persuade him to prescribe an addictive fentanyl spray in 2012, the company's sales representative told a US court. She said she saw Lee \"sitting on [doctor's] lap, kind of bouncing around.\" Lee has been accused of bribing doctors.\n",
      "실제 요약 : Pharma exec gave doctor a lap dance to sell medicine in US: Witness\n",
      "예측 요약 : \n",
      "\n",
      "\n",
      "원문 : Reliance Industries' Chairman Mukesh Ambani's daughter Isha Ambani, who got married last month, said she only cried at her 'bidaai' because she felt peer pressure as everyone was crying, especially her parents. \"I was emotional too but everyone around me would cry all the time,\" she added. \"It was a very emotional affair for everyone in my family,\" said Isha.\n",
      "실제 요약 :  I only cried at my 'bidaai' as I felt peer pressure: Isha Ambani\n",
      "예측 요약 : \"It was a very emotional affair for everyone in my family,\" said Isha.\n",
      "\n",
      "\n",
      "원문 : Louis Vuitton owner LVMH, which makes high-end beverages like MoÃÂ«t & Chandon champagne and Hennessy cognac, said it's stockpiling four months' worth of wine and spirits in UK in preparation for Brexit. \"We're ready for worst case scenario if there are difficulties with deliveries,\" the French luxury giant said. The UK is scheduled to leave the EU on March 29.\n",
      "실제 요약 : Louis Vuitton owner to stockpile 4 months of wine, spirits in UK\n",
      "예측 요약 : \n",
      "\n",
      "\n",
      "원문 : Filmmaker Karan Johar and actress Tabu turned showstoppers for Gaurav Gupta on the opening night of LakmÃÂ© Fashion Week Summer/ Resort 2019. While Johar wore a red sequinned jacket with black pants, Tabu walked the ramp in a grey embellished gown. The fashion show, which began on January 29, will continue till February 3.\n",
      "실제 요약 : Karan Johar, Tabu turn showstoppers on opening night of LFW\n",
      "예측 요약 : Filmmaker Karan Johar and actress Tabu turned showstoppers for Gaurav Gupta on the opening night of LakmÃÂ© Fashion Week Summer/ Resort 2019.\n",
      "\n",
      "\n",
      "원문 : In a jibe at Congress President Rahul Gandhi, PM Narendra Modi on Wednesday said those on \"bail will have to go to jail.\" PM Modi added, \"He is out on bail and his associates too are facing charges...I know they will be convicted one day.\" The PM claimed he'd waged a war on corruption because he's from a common household. \n",
      "실제 요약 : Those on bail will go to jail: PM Modi takes jibe at Rahul\n",
      "예측 요약 : \n",
      "\n",
      "\n",
      "원문 : Days after he threatened to step down from his post if Congress MLAs continue \"crossing the line,\" Karnataka Chief Minister HD Kumaraswamy accused them of taking potshots and asked, \"How many more days can I tolerate such stuff?\" Kumaraswamy, who made the statements after a Congress MLA demanded that Siddaramaiah be made CM again, said, \"Power is ephemeral.\"\n",
      "실제 요약 : How long can I tolerate Congress leaders' potshots: K'taka CM\n",
      "예측 요약 : \n",
      "\n",
      "\n",
      "원문 : Union Minister Dharmendra Pradhan on Wednesday claimed the illegal mining mafia in Odisha operates under the control of CM Naveen Patnaik and state Congress chief Niranjan Patnaik. He added, \"The time has come for the people of Odisha to put a full stop to their activities...The time has come for us to ask for an explanation from this corrupt government.\"\n",
      "실제 요약 : Odisha CM Patnaik controls mining mafia: Union Minister\n",
      "예측 요약 : Union Minister Dharmendra Pradhan on Wednesday claimed the illegal mining mafia in Odisha operates under the control of CM Naveen Patnaik and state Congress chief Niranjan Patnaik.\n",
      "\n",
      "\n"
     ]
    }
   ],
   "source": [
    "for idx, (head, text) in enumerate(zip(data['headlines'], data['text'])):\n",
    "    if idx == 20:\n",
    "        break\n",
    "    print(\"원문 :\", text)\n",
    "    print(\"실제 요약 :\", head)\n",
    "    print(\"예측 요약 :\", summarize(text,words=15))\n",
    "    print(\"\\n\")"
   ]
  },
  {
   "cell_type": "markdown",
   "metadata": {
    "id": "-FLijGC4Xfly"
   },
   "source": [
    "추출적 요약은 본문내의 문장을 가져와 엉뚱한 내용을 가져오는 경우는 없으나, 예측요약을 하지 못하는 경우가 있거나, 문장 구성이 다소 경직적임"
   ]
  },
  {
   "cell_type": "markdown",
   "metadata": {
    "id": "2VzFwqMwyBAn"
   },
   "source": [
    "## 8. aihub 한글 뉴스 데이터 활용해 보기"
   ]
  },
  {
   "cell_type": "markdown",
   "metadata": {
    "id": "FSt0NMRKyg6l"
   },
   "source": [
    " ### 8-1 데이터 준비"
   ]
  },
  {
   "cell_type": "code",
   "execution_count": null,
   "metadata": {
    "colab": {
     "base_uri": "https://localhost:8080/"
    },
    "executionInfo": {
     "elapsed": 28402,
     "status": "ok",
     "timestamp": 1653190323310,
     "user": {
      "displayName": "changhwan lee",
      "userId": "04303211996600941657"
     },
     "user_tz": -540
    },
    "id": "lvAqABZoajA4",
    "outputId": "1708d5ac-2a16-4e1c-8215-7ac32f8bac53"
   },
   "outputs": [
    {
     "data": {
      "text/plain": [
       "dict"
      ]
     },
     "execution_count": 3,
     "metadata": {},
     "output_type": "execute_result"
    }
   ],
   "source": [
    "import pandas as pd\n",
    "import json\n",
    "\n",
    "data = \"/content/drive/MyDrive/LMS/E_07/train_original.json\"\n",
    "\n",
    "# df=pd.read_json(data, encoding='utf-8')\n",
    "file = open(data, encoding='utf-8')  # 한글 깨짐 현상 방지\n",
    "contents = json.load(file)   # dict_keys(['name', 'delivery_date', 'documents'])\n",
    "cs = contents['documents']   # dict들의 list 반환 --> 'text', 'title' 발췌\n",
    "type(cs[0])"
   ]
  },
  {
   "cell_type": "code",
   "execution_count": null,
   "metadata": {
    "colab": {
     "base_uri": "https://localhost:8080/"
    },
    "executionInfo": {
     "elapsed": 273,
     "status": "ok",
     "timestamp": 1653194088565,
     "user": {
      "displayName": "changhwan lee",
      "userId": "04303211996600941657"
     },
     "user_tz": -540
    },
    "id": "u_qRXWuS0scU",
    "outputId": "778e46d7-a33c-4fa0-9853-b47707d3c5f2"
   },
   "outputs": [
    {
     "data": {
      "text/plain": [
       "{'abstractive': [\"전라남도가 쌀 과잉문제를 근본적으로 해결하기 위해 올해부터 벼를 심었던 논에 벼 대신 사료작물이나 콩 등 다른 작물을 심으면 벼와의 일정 소득차를 보전해주는 '쌀 생산조정제'를 적극적으로 시행하기로 하고 오는 22일부터 2월 28일까지 농지 소재지 읍면동사무소에서 신청받는다 .\"],\n",
       " 'annotator_id': 11,\n",
       " 'category': '종합',\n",
       " 'char_count': '927',\n",
       " 'document_quality_scores': {'accurate': 3,\n",
       "  'informative': 3,\n",
       "  'readable': 4,\n",
       "  'trustworthy': 3},\n",
       " 'extractive': [2, 3, 10],\n",
       " 'id': '290741778',\n",
       " 'media_name': '광양신문',\n",
       " 'media_sub_type': '지역지',\n",
       " 'media_type': 'online',\n",
       " 'publish_date': '2018-01-05 18:54:55',\n",
       " 'size': 'small',\n",
       " 'text': [[{'highlight_indices': '',\n",
       "    'index': 0,\n",
       "    'sentence': 'ha당 조사료 400만원…작물별 차등 지원'}],\n",
       "  [{'highlight_indices': '',\n",
       "    'index': 1,\n",
       "    'sentence': '이성훈 sinawi@hanmail.net'}],\n",
       "  [{'highlight_indices': '',\n",
       "    'index': 2,\n",
       "    'sentence': '전라남도가 쌀 과잉문제를 근본적으로 해결하기 위해 올해부터 시행하는 쌀 생산조정제를 적극 추진키로 했다.'}],\n",
       "  [{'highlight_indices': '35,37',\n",
       "    'index': 3,\n",
       "    'sentence': '쌀 생산조정제는 벼를 심었던 논에 벼 대신 사료작물이나 콩 등 다른 작물을 심으면 벼와의 일정 소득차를 보전해주는 제도다.'}],\n",
       "  [{'highlight_indices': '9,11;33,34',\n",
       "    'index': 4,\n",
       "    'sentence': '올해 전남의 논 다른 작물 재배 계획면적은 전국 5만ha의 약 21%인 1만 698ha로, 세부시행지침을 확정, 시군에 통보했다.'},\n",
       "   {'highlight_indices': '50,52',\n",
       "    'index': 5,\n",
       "    'sentence': '지원사업 대상은 2017년산 쌀 변동직불금을 받은 농지에 10a(300평) 이상 벼 이외 다른 작물을 재배한 농업인이다.'}],\n",
       "  [{'highlight_indices': '24,26',\n",
       "    'index': 6,\n",
       "    'sentence': '지원 대상 작물은 1년생을 포함한 다년생의 모든 작물이 해당되나 재배 면적 확대 시 수급과잉이 우려되는 고추, 무, 배추, 인삼, 대파 등 수급 불안 품목은 제외된다.'}],\n",
       "  [{'highlight_indices': '8,10;11,13',\n",
       "    'index': 7,\n",
       "    'sentence': '농지의 경우도 이미 다른 작물 재배 의무가 부여된 간척지, 정부매입비축농지, 농진청 시범사업, 경관보전 직불금 수령 농지 등은 제외될 예정이다.'}],\n",
       "  [{'highlight_indices': '',\n",
       "    'index': 8,\n",
       "    'sentence': 'ha(3000평)당 지원 단가는 평균 340만원으로 사료작물 400만원, 일반작물은 340만원, 콩·팥 등 두류작물은 280만원 등이다.'},\n",
       "   {'highlight_indices': '',\n",
       "    'index': 9,\n",
       "    'sentence': '벼와 소득차와 영농 편이성을 감안해 작물별로 차등 지원된다.'}],\n",
       "  [{'highlight_indices': '3,5',\n",
       "    'index': 10,\n",
       "    'sentence': '논에 다른 작물 재배를 바라는 농가는 오는 22일부터 2월 28일까지 농지 소재지 읍면동사무소에 신청해야 한다.'}],\n",
       "  [{'highlight_indices': '32,33;69,70',\n",
       "    'index': 11,\n",
       "    'sentence': '전남도는 도와 시군에 관련 기관과 농가 등이 참여하는‘논 타작물 지원사업 추진협의회’를 구성, 지역 특성에 맞는 작목 선정 및 사업 심의 등을 본격 추진할 방침이다.'}],\n",
       "  [{'highlight_indices': '26,28;39,41;97,98;110,112',\n",
       "    'index': 12,\n",
       "    'sentence': '최향철 전라남도 친환경농업과장은 “최근 쌀값이 다소 상승추세에 있으나 매년 공급과잉에 따른 가격 하락으로 쌀농가에 어려움이 있었다”며“쌀 공급과잉을 구조적으로 해결하도록 논 타작물 재배 지원사업에 많이 참여해주길 바란다”고 말했다.'}]],\n",
       " 'title': '논 타작물 재배, 2월 말까지 신청하세요'}"
      ]
     },
     "execution_count": 18,
     "metadata": {},
     "output_type": "execute_result"
    }
   ],
   "source": [
    "cs[0]"
   ]
  },
  {
   "cell_type": "markdown",
   "metadata": {
    "id": "6ZFGrbd702bH"
   },
   "source": [
    "documents 내의 정보들이 다시 list, dictionary, list 구조로 중첩되어 있고, 뉴스 본문이 여러개의 인덱스로 나누어져 있어 어떻게 가져와야 할지 난감   \n",
    "--> json 파일정보를 잘 다루는 tool이 있을 것 같았는데, 못 찾고 파이썬 기초지식으로 어렵게 작업 진행 [많은 시간 뺏겼음]"
   ]
  },
  {
   "cell_type": "code",
   "execution_count": null,
   "metadata": {
    "id": "iYPcszQPztoe"
   },
   "outputs": [],
   "source": [
    "# 일단 pandas dataframe에 넣기 위해 title과 본문 text를 담을 리스트를 준비\n",
    "\n",
    "list1 = []\n",
    "list2 = []\n",
    "\n",
    "# title은 dictionary key로 바로 찾을 수 있어 쉬웠음\n",
    "for tt in cs:\n",
    "    list1.append(tt['title'])"
   ]
  },
  {
   "cell_type": "code",
   "execution_count": null,
   "metadata": {
    "colab": {
     "base_uri": "https://localhost:8080/"
    },
    "executionInfo": {
     "elapsed": 299,
     "status": "ok",
     "timestamp": 1653194097616,
     "user": {
      "displayName": "changhwan lee",
      "userId": "04303211996600941657"
     },
     "user_tz": -540
    },
    "id": "kGk4dw9x2uiX",
    "outputId": "d6f32a82-9fa5-4e4a-a7f7-8379984bac22"
   },
   "outputs": [
    {
     "name": "stdout",
     "output_type": "stream",
     "text": [
      "ha당 조사료 400만원…작물별 차등 지원\n",
      "이성훈 sinawi@hanmail.net\n",
      "전라남도가 쌀 과잉문제를 근본적으로 해결하기 위해 올해부터 시행하는 쌀 생산조정제를 적극 추진키로 했다.\n",
      "쌀 생산조정제는 벼를 심었던 논에 벼 대신 사료작물이나 콩 등 다른 작물을 심으면 벼와의 일정 소득차를 보전해주는 제도다.\n"
     ]
    }
   ],
   "source": [
    "# 본문 text 위치 찾기    \n",
    "print(cs[0]['text'][0][0]['sentence'])  # 제목\n",
    "print(cs[0]['text'][1][0]['sentence'])  # 작성자\n",
    "print(cs[0]['text'][2][0]['sentence'])  # 본문 시작\n",
    "print(cs[0]['text'][3][0]['sentence'])  # 본문 계속 ..."
   ]
  },
  {
   "cell_type": "code",
   "execution_count": null,
   "metadata": {
    "colab": {
     "base_uri": "https://localhost:8080/",
     "height": 206
    },
    "executionInfo": {
     "elapsed": 55494,
     "status": "ok",
     "timestamp": 1653194164868,
     "user": {
      "displayName": "changhwan lee",
      "userId": "04303211996600941657"
     },
     "user_tz": -540
    },
    "id": "7KPJvlUC2dRr",
    "outputId": "822f5c2a-c723-4a11-90ba-315baba62f18"
   },
   "outputs": [
    {
     "data": {
      "text/html": [
       "\n",
       "  <div id=\"df-33b98436-f99d-4ad3-ab5c-2fae5ccb9e73\">\n",
       "    <div class=\"colab-df-container\">\n",
       "      <div>\n",
       "<style scoped>\n",
       "    .dataframe tbody tr th:only-of-type {\n",
       "        vertical-align: middle;\n",
       "    }\n",
       "\n",
       "    .dataframe tbody tr th {\n",
       "        vertical-align: top;\n",
       "    }\n",
       "\n",
       "    .dataframe thead th {\n",
       "        text-align: right;\n",
       "    }\n",
       "</style>\n",
       "<table border=\"1\" class=\"dataframe\">\n",
       "  <thead>\n",
       "    <tr style=\"text-align: right;\">\n",
       "      <th></th>\n",
       "      <th>title</th>\n",
       "      <th>text</th>\n",
       "    </tr>\n",
       "  </thead>\n",
       "  <tbody>\n",
       "    <tr>\n",
       "      <th>243978</th>\n",
       "      <td>당진시, 찾아가는 청소년 노동인권 교육 진행</td>\n",
       "      <td>내달 12일까지, 노동인권 감수성 높인다당진시는 지난 12일 첫 교육을 시작으로 내...</td>\n",
       "    </tr>\n",
       "    <tr>\n",
       "      <th>243979</th>\n",
       "      <td>서산시, 2020년 성인문해교실 신청하세요!</td>\n",
       "      <td>마을별 10명 이상이면 신청가능, 12월 24일까지 모집서산 마을학교 합동졸업식 모...</td>\n",
       "    </tr>\n",
       "    <tr>\n",
       "      <th>243980</th>\n",
       "      <td>서산시의회, 제247회 제2차 정례회 개회</td>\n",
       "      <td>2020년 예산안, 제4회 추경예산안 및 조례안 29건 등 41개 안건 처리 예정서...</td>\n",
       "    </tr>\n",
       "    <tr>\n",
       "      <th>243981</th>\n",
       "      <td>아산시, 온천 재활 헬스케어 힐링산업 본격 추진</td>\n",
       "      <td>전담기관 설립 추진, 타당성 검토 용역 착수보고회 개최아산시(시장 오세현)가 온천수...</td>\n",
       "    </tr>\n",
       "    <tr>\n",
       "      <th>243982</th>\n",
       "      <td>용인 비상에듀 기숙학원, 대입조기선발반 모집... 12월 15일 개강</td>\n",
       "      <td>용인비상에듀기숙학원 전경입시 전문 재수기숙학원 용인비상에듀기숙학원이 2021학년도 ...</td>\n",
       "    </tr>\n",
       "  </tbody>\n",
       "</table>\n",
       "</div>\n",
       "      <button class=\"colab-df-convert\" onclick=\"convertToInteractive('df-33b98436-f99d-4ad3-ab5c-2fae5ccb9e73')\"\n",
       "              title=\"Convert this dataframe to an interactive table.\"\n",
       "              style=\"display:none;\">\n",
       "        \n",
       "  <svg xmlns=\"http://www.w3.org/2000/svg\" height=\"24px\"viewBox=\"0 0 24 24\"\n",
       "       width=\"24px\">\n",
       "    <path d=\"M0 0h24v24H0V0z\" fill=\"none\"/>\n",
       "    <path d=\"M18.56 5.44l.94 2.06.94-2.06 2.06-.94-2.06-.94-.94-2.06-.94 2.06-2.06.94zm-11 1L8.5 8.5l.94-2.06 2.06-.94-2.06-.94L8.5 2.5l-.94 2.06-2.06.94zm10 10l.94 2.06.94-2.06 2.06-.94-2.06-.94-.94-2.06-.94 2.06-2.06.94z\"/><path d=\"M17.41 7.96l-1.37-1.37c-.4-.4-.92-.59-1.43-.59-.52 0-1.04.2-1.43.59L10.3 9.45l-7.72 7.72c-.78.78-.78 2.05 0 2.83L4 21.41c.39.39.9.59 1.41.59.51 0 1.02-.2 1.41-.59l7.78-7.78 2.81-2.81c.8-.78.8-2.07 0-2.86zM5.41 20L4 18.59l7.72-7.72 1.47 1.35L5.41 20z\"/>\n",
       "  </svg>\n",
       "      </button>\n",
       "      \n",
       "  <style>\n",
       "    .colab-df-container {\n",
       "      display:flex;\n",
       "      flex-wrap:wrap;\n",
       "      gap: 12px;\n",
       "    }\n",
       "\n",
       "    .colab-df-convert {\n",
       "      background-color: #E8F0FE;\n",
       "      border: none;\n",
       "      border-radius: 50%;\n",
       "      cursor: pointer;\n",
       "      display: none;\n",
       "      fill: #1967D2;\n",
       "      height: 32px;\n",
       "      padding: 0 0 0 0;\n",
       "      width: 32px;\n",
       "    }\n",
       "\n",
       "    .colab-df-convert:hover {\n",
       "      background-color: #E2EBFA;\n",
       "      box-shadow: 0px 1px 2px rgba(60, 64, 67, 0.3), 0px 1px 3px 1px rgba(60, 64, 67, 0.15);\n",
       "      fill: #174EA6;\n",
       "    }\n",
       "\n",
       "    [theme=dark] .colab-df-convert {\n",
       "      background-color: #3B4455;\n",
       "      fill: #D2E3FC;\n",
       "    }\n",
       "\n",
       "    [theme=dark] .colab-df-convert:hover {\n",
       "      background-color: #434B5C;\n",
       "      box-shadow: 0px 1px 3px 1px rgba(0, 0, 0, 0.15);\n",
       "      filter: drop-shadow(0px 1px 2px rgba(0, 0, 0, 0.3));\n",
       "      fill: #FFFFFF;\n",
       "    }\n",
       "  </style>\n",
       "\n",
       "      <script>\n",
       "        const buttonEl =\n",
       "          document.querySelector('#df-33b98436-f99d-4ad3-ab5c-2fae5ccb9e73 button.colab-df-convert');\n",
       "        buttonEl.style.display =\n",
       "          google.colab.kernel.accessAllowed ? 'block' : 'none';\n",
       "\n",
       "        async function convertToInteractive(key) {\n",
       "          const element = document.querySelector('#df-33b98436-f99d-4ad3-ab5c-2fae5ccb9e73');\n",
       "          const dataTable =\n",
       "            await google.colab.kernel.invokeFunction('convertToInteractive',\n",
       "                                                     [key], {});\n",
       "          if (!dataTable) return;\n",
       "\n",
       "          const docLinkHtml = 'Like what you see? Visit the ' +\n",
       "            '<a target=\"_blank\" href=https://colab.research.google.com/notebooks/data_table.ipynb>data table notebook</a>'\n",
       "            + ' to learn more about interactive tables.';\n",
       "          element.innerHTML = '';\n",
       "          dataTable['output_type'] = 'display_data';\n",
       "          await google.colab.output.renderOutput(dataTable, element);\n",
       "          const docLink = document.createElement('div');\n",
       "          docLink.innerHTML = docLinkHtml;\n",
       "          element.appendChild(docLink);\n",
       "        }\n",
       "      </script>\n",
       "    </div>\n",
       "  </div>\n",
       "  "
      ],
      "text/plain": [
       "                                         title  \\\n",
       "243978                당진시, 찾아가는 청소년 노동인권 교육 진행   \n",
       "243979                서산시, 2020년 성인문해교실 신청하세요!   \n",
       "243980                 서산시의회, 제247회 제2차 정례회 개회   \n",
       "243981              아산시, 온천 재활 헬스케어 힐링산업 본격 추진   \n",
       "243982  용인 비상에듀 기숙학원, 대입조기선발반 모집... 12월 15일 개강   \n",
       "\n",
       "                                                     text  \n",
       "243978  내달 12일까지, 노동인권 감수성 높인다당진시는 지난 12일 첫 교육을 시작으로 내...  \n",
       "243979  마을별 10명 이상이면 신청가능, 12월 24일까지 모집서산 마을학교 합동졸업식 모...  \n",
       "243980  2020년 예산안, 제4회 추경예산안 및 조례안 29건 등 41개 안건 처리 예정서...  \n",
       "243981  전담기관 설립 추진, 타당성 검토 용역 착수보고회 개최아산시(시장 오세현)가 온천수...  \n",
       "243982  용인비상에듀기숙학원 전경입시 전문 재수기숙학원 용인비상에듀기숙학원이 2021학년도 ...  "
      ]
     },
     "execution_count": 21,
     "metadata": {},
     "output_type": "execute_result"
    }
   ],
   "source": [
    "# for문을 돌려 본문을 merge하고, title과 함께 pandas dataframe 작성\n",
    "# 일부 앞쪽 text 본문에 e-mail 주소 뒷부분이 남은 샘플 있음: 샘플제외 또는 text 전처리시 영문 삭제\n",
    "\n",
    "for c in cs:\n",
    "    p = \"\"\n",
    "    temp = []\n",
    "    for txt in c['text']:\n",
    "        for lst in txt:\n",
    "            for stc in lst['sentence']:\n",
    "                p += stc\n",
    "    temp.append(p)\n",
    "    dt = \" \".join(temp)\n",
    "    list2.append(dt)\n",
    "    \n",
    "#list = [x.split(\"@\")[1] for x in list2]   # 메모리 부족\n",
    "                \n",
    "df = pd.DataFrame({'title':list1, 'text':list2})\n",
    "#df2 =df['text'].str.split(r\"@\",n=1,expand=True)\n",
    "#df3 = pd.concat([df,df2[1]], axis =1)\n",
    "#df3.drop(['text'], axis=1, inplace=True)\n",
    "#df3.columns = ['title','text']\n",
    "df.tail()"
   ]
  },
  {
   "cell_type": "code",
   "execution_count": null,
   "metadata": {
    "colab": {
     "base_uri": "https://localhost:8080/"
    },
    "executionInfo": {
     "elapsed": 287,
     "status": "ok",
     "timestamp": 1653194308951,
     "user": {
      "displayName": "changhwan lee",
      "userId": "04303211996600941657"
     },
     "user_tz": -540
    },
    "id": "XyuXz8D15REc",
    "outputId": "4a0a5d89-c15d-4cb7-c739-82df3c63437b"
   },
   "outputs": [
    {
     "name": "stdout",
     "output_type": "stream",
     "text": [
      "전체 샘플수 : 243983\n"
     ]
    }
   ],
   "source": [
    "print('전체 샘플수 :', (len(df)))"
   ]
  },
  {
   "cell_type": "markdown",
   "metadata": {
    "id": "Cr4U8ziu6MLc"
   },
   "source": [
    "전체 샘플수는 24만여개인데, 이중 10만개만 사용"
   ]
  },
  {
   "cell_type": "code",
   "execution_count": null,
   "metadata": {
    "colab": {
     "base_uri": "https://localhost:8080/"
    },
    "executionInfo": {
     "elapsed": 389,
     "status": "ok",
     "timestamp": 1653194316520,
     "user": {
      "displayName": "changhwan lee",
      "userId": "04303211996600941657"
     },
     "user_tz": -540
    },
    "id": "VmXBIGRq4fTb",
    "outputId": "01518a39-f71e-4b76-d736-bb3fd2f8c4d4"
   },
   "outputs": [
    {
     "name": "stdout",
     "output_type": "stream",
     "text": [
      "사용 샘플수 : 100000\n"
     ]
    }
   ],
   "source": [
    "data = df[143983:]\n",
    "print('사용 샘플수 :', (len(data)))"
   ]
  },
  {
   "cell_type": "markdown",
   "metadata": {
    "id": "pWPHXovN7zWv"
   },
   "source": [
    "### 8-2 데이터 전처리\n",
    "한글의 경우 전처리 과정에 많은 절차들이 있다고 하는데, 아직 배우지 못했고, ai_hub 제공 데이터가 상당부분 전처리가 진행된 자료로서 기본만 처리하기로 함\n",
    "\n",
    "참고로 한국어 전처리 과정은 다음과 같은 내용이 포함된다고 함  \n",
    "\n",
    "Basic 가장 기초적인 전처리   \n",
    "  - html tag 제거   \n",
    "  - 숫자 제거   \n",
    "  - Lowercasing   \n",
    "  - \"@%*=()/+ 와 같은 punctuation 제거   \n",
    "  - Spell check  \n",
    "\n",
    "사전 기반의 오탈자 교정  \n",
    "  - 줄임말 원형 복원 (e.g. I'm not happy -> I am not happy)  \n",
    "\n",
    "Part-of-Speech  \n",
    "  - 형태소 분석  \n",
    "  - Noun, Adjective, Verb, Adverb만 학습에 사용\n",
    "\n",
    "Stemming\n",
    "  - 형태소 분석 이후 동사 원형 복원  \n",
    "\n",
    "Stopwords\n",
    "  - 불용어 제거  \n",
    "\n",
    "Negation\n",
    "  - 논문\n",
    "  - 부정 표현에 대한 단순화 (e.g. I'm not happy -> I'm sad)"
   ]
  },
  {
   "cell_type": "code",
   "execution_count": null,
   "metadata": {
    "colab": {
     "base_uri": "https://localhost:8080/"
    },
    "executionInfo": {
     "elapsed": 675,
     "status": "ok",
     "timestamp": 1653194350759,
     "user": {
      "displayName": "changhwan lee",
      "userId": "04303211996600941657"
     },
     "user_tz": -540
    },
    "id": "kWIYnGCU6nW4",
    "outputId": "4bd2d445-40ad-4c99-c3f3-dcc77e1cdd54"
   },
   "outputs": [
    {
     "name": "stdout",
     "output_type": "stream",
     "text": [
      "text 열에서 중복을 배제한 유일한 샘플의 수 : 99738\n",
      "title 열에서 중복을 배제한 유일한 샘플의 수 : 100000\n"
     ]
    }
   ],
   "source": [
    "# 중복샘플 / Null값 존재 체크 \n",
    "print('text 열에서 중복을 배제한 유일한 샘플의 수 :', data['text'].nunique())\n",
    "print('title 열에서 중복을 배제한 유일한 샘플의 수 :', data['title'].nunique())"
   ]
  },
  {
   "cell_type": "markdown",
   "metadata": {
    "id": "f2JAs4g2ELBW"
   },
   "source": [
    "text 열에서 중복된 샘플은 중복으로 보아 제거"
   ]
  },
  {
   "cell_type": "code",
   "execution_count": null,
   "metadata": {
    "colab": {
     "base_uri": "https://localhost:8080/"
    },
    "executionInfo": {
     "elapsed": 652,
     "status": "ok",
     "timestamp": 1653194458716,
     "user": {
      "displayName": "changhwan lee",
      "userId": "04303211996600941657"
     },
     "user_tz": -540
    },
    "id": "ew2U70-x99Gg",
    "outputId": "d2c20a58-99b1-40e3-c6e6-18b9cb0444d2"
   },
   "outputs": [
    {
     "name": "stdout",
     "output_type": "stream",
     "text": [
      "전체 샘플수 : 99738\n"
     ]
    },
    {
     "name": "stderr",
     "output_type": "stream",
     "text": [
      "/usr/local/lib/python3.7/dist-packages/pandas/util/_decorators.py:311: SettingWithCopyWarning: \n",
      "A value is trying to be set on a copy of a slice from a DataFrame\n",
      "\n",
      "See the caveats in the documentation: https://pandas.pydata.org/pandas-docs/stable/user_guide/indexing.html#returning-a-view-versus-a-copy\n",
      "  return func(*args, **kwargs)\n"
     ]
    }
   ],
   "source": [
    "data.drop_duplicates(subset = ['text'], inplace=True)\n",
    "print('전체 샘플수 :', (len(data)))"
   ]
  },
  {
   "cell_type": "code",
   "execution_count": null,
   "metadata": {
    "colab": {
     "base_uri": "https://localhost:8080/"
    },
    "executionInfo": {
     "elapsed": 264,
     "status": "ok",
     "timestamp": 1653194495190,
     "user": {
      "displayName": "changhwan lee",
      "userId": "04303211996600941657"
     },
     "user_tz": -540
    },
    "id": "9yHdaWB1--1Y",
    "outputId": "7862b671-8cbe-4cc8-fed3-4e4b36bb49dd"
   },
   "outputs": [
    {
     "name": "stdout",
     "output_type": "stream",
     "text": [
      "title    0\n",
      "text     0\n",
      "dtype: int64\n"
     ]
    }
   ],
   "source": [
    "print(data.isnull().sum())"
   ]
  },
  {
   "cell_type": "markdown",
   "metadata": {
    "id": "HPFH_tBlEsZu"
   },
   "source": [
    "### 8-3 텍스트 정규화와 불용어 제거\n",
    "\n",
    "  - 한글은 정규화 외 음소별 분석을 해야 하나 생략\n",
    "  - 불용어 사전은 일부 사용"
   ]
  },
  {
   "cell_type": "code",
   "execution_count": null,
   "metadata": {
    "colab": {
     "base_uri": "https://localhost:8080/"
    },
    "executionInfo": {
     "elapsed": 293,
     "status": "ok",
     "timestamp": 1653195106172,
     "user": {
      "displayName": "changhwan lee",
      "userId": "04303211996600941657"
     },
     "user_tz": -540
    },
    "id": "Ymw7eKczEhJM",
    "outputId": "f6d157ee-80c6-403a-bf30-b17661aea7c3"
   },
   "outputs": [
    {
     "name": "stdout",
     "output_type": "stream",
     "text": [
      "불용어 개수:  30\n"
     ]
    }
   ],
   "source": [
    "stopwords = ['에','는','은','을','했','에게','있','이','의','하','한','다','과','때문','할','수','무단','따른','및','금지','전재','신문','기자','는데','가','등','들','저작','등','뉴스',]\n",
    "print('불용어 개수: ', len(stopwords))"
   ]
  },
  {
   "cell_type": "code",
   "execution_count": null,
   "metadata": {
    "id": "-TpavxKAGpbi"
   },
   "outputs": [],
   "source": [
    "# 데이터 전처리 함수\n",
    "def preprocess_sentence(sentence, remove_stopwords=True):\n",
    "    sentence = BeautifulSoup(sentence, \"lxml\").text # <br />, <a href = ...> 등의 html 태그 제거\n",
    "    sentence = re.sub(r'\\([^)]*\\)', '', sentence) # 괄호로 닫힌 문자열 (...) 제거\n",
    "    sentence = re.sub('\"','', sentence) # 쌍따옴표 \" 제거\n",
    "    sentence = re.sub(\"[^ㄱ-ㅎㅏ-ㅣ가-힣]\", \" \", sentence) # 한글외 공백으로 변환\n",
    "    \n",
    "    # 불용어 제거 (Text)\n",
    "    if remove_stopwords:\n",
    "        tokens = ' '.join(word for word in sentence.split() if not word in stopwords if len(word) > 1)\n",
    "    # 불용어 미제거 (Summary)\n",
    "    else:\n",
    "        tokens = ' '.join(word for word in sentence.split() if len(word) > 1)\n",
    "    return tokens"
   ]
  },
  {
   "cell_type": "code",
   "execution_count": null,
   "metadata": {
    "colab": {
     "base_uri": "https://localhost:8080/"
    },
    "executionInfo": {
     "elapsed": 48763,
     "status": "ok",
     "timestamp": 1653195961676,
     "user": {
      "displayName": "changhwan lee",
      "userId": "04303211996600941657"
     },
     "user_tz": -540
    },
    "id": "MoEiWfYgJpSt",
    "outputId": "d753361e-6cb7-44a2-ba71-35ee100fff53"
   },
   "outputs": [
    {
     "name": "stdout",
     "output_type": "stream",
     "text": [
      "text 전처리 후 결과:  ['강소농 경영 컨설턴트 지원 생산적 일손 긴급지원반 운영 등충북일보 보은 보은군은 강소농 경영 컨설턴트 지원 사업과 생산적 일손 긴급지원반 이달부터 본격적으로 운영한다고 밝혔다 영농철을 앞두고 일손 부족으로 어려움을 겪는 농업인의 어려움을 해소하기 위한 조처다 먼저 강소농경영 컨설턴트 지원 퇴직한 전문 농업경영인을 활용해 농산물 판매촉진과 영농 노하우를 지원하는 사업이다 올해 처음으로 시행하는 사업은 고용노동부 공모사업에 선정돼 추진한다 군은 오는 일까지 명을 꾸려 노동력 확보가 힘들거나 많은 인력이 필요한 농작업을 집중적으로 지원할 계획이다 노동력이 부족한 질병 고령 여성 농가의 신청을 받아 일손을 지원하는 생산적 일손 긴급지원반 적극 운영한다 지난해 곳에 회를 투입해 효자 노릇을 톡톡히 했던 생산적 일손 긴급지원반 지난 일부터 명이 농가 지원에 나섰다 이들 사업에 추가 신청을 원하는 농가는 사업을 종료하기 전까지 일자리종합지원센터를 방문해 신청서를 제출하면 농가와 근로자 매칭을 통해 일손돕기 서비스를 받을 있다 관계자는본격적인 영농철을 맞아 일손 부족으로 어려움을 겪는 농업인의 애로사항을 해소하고 적기 영농 실현으로 영농의욕을 고취하겠다고 말했다', '충북농기원 품종보호출원 마쳐심사 거쳐 오는 도내 중점 보급충북일보 충북농업기술원은 기존 찰수수보다 수확량이 많고 기계 수확이 용이한 청풍찰수수를 개발했다고 밝혔다 청풍찰수수는 년의 품종개발 기간이 소요됐다 농업기술원은 지난 충북 재래종에서 종자를 수집한 이후 생산성 시험 전국 지역 적응시험을 진행해 왔다 결과 재배적응성과 수량성이 우수해 지난달 국립종자원에 품종보호출원을 하게 됐다 청풍찰수수는 앞으로 년간 구별성 균일성 안정성 신규성 등을 검증하는 재배 심사과정을 거쳐 오는 년부터 충북지역에 중점 보급되게 된다 신품종으로 개발한 청풍찰수수의 가장 특징은 찰기가 강하고 수량이 높다는 것이다 아밀로스 함량이 으로 낮기 때문에 찰기가 강하고 수량도 기존의 찰수수보다 증가된 우수한 것으로 나타났다 수수의 키가 지면에서 이삭목까지 정도로 작아서 콤바인으로 쉽게 수확할 있어 인력으로 수확하는 것과 비교해 노동력을 이상 있다 이외에도 청풍찰수수는 생육기 중에 이삭이 나뭇가지처럼 퍼져 있는 형태이기 때문에 바람이 통해 수수 재배할 가장 문제 되는 이삭곰팡이병 발병이 낮아 수수 종자의 품질과 수량을 높일 있는 장점도 있다 윤건식 연구사는 도내 잡곡작목반 중심으로 청풍찰수수를 확대 보급할 계획이라며 앞으로 농가 노동력 절감 소득향상에 기여하게 것고 이라고 밝혔다 용어설명 아밀로스 식물에서 발견할 있는 다당류의 일종으로 녹말의 주요 성분이다', '영동군 직원들과 농업인들이 전문가로부터 드론교육을 받고 있다 영동군 충북일보 영동 드론 분야 선도 지자체인 영동군이 고령화시대 농업의 위기극복을 위해 농업용 드론에 주목하고 있다 군에 따르면 농업분야 악성노동으로 농업인의 애로사항중 하나인 병해충 방제 작업을 첨단기기인 드론을 활용해 타파하고자 농업용 드론 전문인력 양성에 공을 들이고 있다 지난 올해 시책사업으로 추진할 농업인대상 드론교육과정 수요조사 결과 예정인원의 배가 넘게 수요가 폭주하는 농업인들 관심이 집중되기도 했다 농지면적과 품목 등을 고려해 최종 명이 선발됐다 이번 드론자격취득 과정은 천만 원의 예산으로 농업인 공무원 명을 대상으로 이론 모의주행 실습 주로 과정이 진행된다 과정을 모두 마친 교육생에 한해 면허증이 주어지며 농업드론 전문가로 인정받게 된다 지난달 이론과 모의주행 교육을 시작으로 명이 전문교육원에 입소해 농업용 드론 전문인력으로의 변신을 시도하고 있다 입찰공고를 통해 국토교통부에 승인된 무인항공 전문교육원인 드론전문교육원 교육진행을 맡아 알차게 운영중이다 이달 일부터는 금산에 위치한 전문 교육장에서 직접 드론을 조종하며 방제 기술 등을 습득할 예정이다 자격증을 취득 후에는 드론을 이용해 병해충 방제뿐만 아니라 시비 종자파종 방제 다양한 분야에서 활약하게 된다 효율성은 물론 경제성 부문에서도 지역 농업이 단계 성장하게 된다 영동군은 교육 성과평가에 따라 차후 교육추진도 고려하여 점차 확대하고 노동력 부족으로 고심하고 있는 농촌사회에 활력을 불어넣을 계획이다 이와 함께 영동군은 농정과 산림과 농업기술센터 직원들로 구성된 드론 꾸리고 천여만원의 예산으로 방제용 드론 대를 도입해 외래병해충 구제역 과수화상병 비상방역 활동에 드론을 접목할 계획이다 군은 인구 감소 고령화로 급변하는 농업 농촌의 환경변화에 효율적으로 대응하고 지역특성에 맞는 시책들을 발굴해 농업의 가치를 극대화한다는 방침이다 조원제 농업기술센터소장은 현재 농촌은 고령화 문제가 심각해 도시에 있는 자녀들이 병해충방제 등의 일손을 돕지 않으면 농사를 포기해야 하는 상황이라며 드론 전문가 양성으로 병해충방제 뿐만 아니라 파종 시비처리 등의 악성노동력 절감의 효과를 가져와 농촌에 도움이 것이라고 말했다', '업체 참여 여명 채용 계획일자리박람회가 열리는 모습 충주시 충북일보 충주 충주시가 오후 시부터 충주체육관에서 올해 일자리박람회를 개최한다 이날 박람회는 청년 중장년 장애인 다양한 계층의 구직자에게 취업 기회를 제공하고 구인기업에게 인력 지원 기회를 제공하기 위해 마련됐다 일자리박람회 포스터 충주시 행사에는 장애인을 병행 채용하는 동화 글로텍 비롯해 코오롱생명과학 지앤피 미원스페셜티케미칼 대경코빌 더블유씨피 업체가 참여해 명을 채용할 계획이다 행사장에는 입사지원서 코칭 이력서용 무료 사진촬영 면접 이미지 메이킹 서비스를 진행해 현장에서 이력서 작성을 있도록 도울 예정이다 일자리 유관기관들의 구직상담 직업훈련 등의 다양한 일자리 정보 제공과 근로자와 기업의 협력관계를 높이기 위한 노사 고충처리 상담부스도 운영한다 행사 당일 이력서를 준비해 오면 누구나 현장면접이 가능하다 하지만 자사 이력서를 제출해야 하는 기업도 있는 만큼 확인하고 준비해야 이중 제출하는 번거로움을 있다 이상록 경제기업과장은 매년 열리는 일자리 박람회는 충주시에서 가장 채용행사라며 많은 분들이 참여해 취업에 성공하길 바라며 기업의 인력채용에 도움이 되는 소중한 시간이 되길 바란다고 말했다 한편 이번 일자리박람회는 월경 열릴 예정이다', '새롬동에 종합기상관측장비 설치 내년 월부터 정규 관측대전지방기상청이 세종시 새롬동 설치한 종관기상관측장비 모습 년간 예비관측을 거쳐 일부터는 정규관측을 한다 대전지방기상청 충북일보 세종 충청지방에 눈이 내린 지난 겨울 어느 아침 기자는 대전지방기상청에 전화를 걸어 세종시 적설량이 얼마나 되나라고 물었다 이에 담당자는 대전과 달리 세종은 공식적으로 적설량을 측정하는 지역이 아니기 때문에 정확히 없다라고 말했다 세종시 관련 자료는 통계청 한국은행 정부기관들이 생산하는 각종 경제통계는 물론 기상청이 제공하는 공식 정보에도 포함되지 않는 경우가 적지 않아 시민들의 불만이 많다 국무총리실을 비롯한 정부 부처의 분의 이상이 몰려 있는 광역지방자치단체이지만 다른 도보다 인구가 훨씬 적은 데다 도시 출범 역사가 년여 밖에 되지 않아 누적된 과거 통계들이 부족하기 때문이다 하지만 앞으로 뒤부터는 세종시민들도 대전 청주 다른 도청 소재지 주민들과 마찬가지로 더욱 신속 정확 풍부한 기상정보를 얻을 있게 됐다 대전지방기상청이 종관기상관측장비를 설치한 세종시 새롬동 위치도 네이버 대전지방기상청은 세종시청 소유인 새롬동 일대 배수지 첨단 종관기상관측장비 설치했다며 장비 운영상태 등을 점검하기 위해 년간 예비관측을 거쳐 일부터는 직원이 상주하며 정규관측을 예정이라고 밝혔다 이에 따라 세종시에서도 자동기상관측장비에서 측정되는 바람 기온 습도 강수량 기본적 기상관측 요소 외에 초상과 지면 온도 일조량 기압 적설량 등이 공식적으로 측정된다고 기상청은 설명했다 기상청에 따르면 세종시에는 동안 전국 광역지방자치단체 유일하게 종관기상관측장비가 설치돼 있지 않았다 사람이 없이 컴퓨터로 작동되는 재난 방지용 자동기상관측장비만 에서 대씩 운영됨에 따라 기상정보 제공에 한계가 있었다 손승희 대전기상청장은 종관기상관측장비에서는 세종시를 대표하는 각종 실시간 기상관측자료가 생산된다라며 앞으로 공공기관의 정책 결정이나 산업분야는 물론 일반 시민들의 생활에서도 유용하게 활용될 있을 것이라고 말했다']\n"
     ]
    }
   ],
   "source": [
    "# 전체 text 전처리\n",
    "clean_text = []\n",
    "\n",
    "for s in data['text']:\n",
    "    clean_text.append(preprocess_sentence(s))\n",
    "\n",
    "# 전처리 후 출력\n",
    "print(\"text 전처리 후 결과: \", clean_text[:5])"
   ]
  },
  {
   "cell_type": "code",
   "execution_count": null,
   "metadata": {
    "colab": {
     "base_uri": "https://localhost:8080/"
    },
    "executionInfo": {
     "elapsed": 25380,
     "status": "ok",
     "timestamp": 1653196112418,
     "user": {
      "displayName": "changhwan lee",
      "userId": "04303211996600941657"
     },
     "user_tz": -540
    },
    "id": "Z4VfntarJ7VA",
    "outputId": "d4f9c155-9842-473d-dbcd-432a24b1a4e0"
   },
   "outputs": [
    {
     "name": "stdout",
     "output_type": "stream",
     "text": [
      "Summary 전처리 후 결과:  ['보은군 봄철 농촌일손돕기 본격 추진', '수량 많고 기계수확 쉬운 청풍찰수수 개발', '영동군 키운 드론하나 일꾼 부럽다', '충주시 일자리 박람회 개최', '세종시민에게 제공되는 기상정보 신속 정확 풍부해진다']\n"
     ]
    }
   ],
   "source": [
    "# title 전처리: 불용어 적용하지 않음\n",
    "clean_summary = []\n",
    "\n",
    "for s in data['title']:\n",
    "    clean_summary.append(preprocess_sentence(s, False))\n",
    "\n",
    "print(\"Summary 전처리 후 결과: \", clean_summary[:5])"
   ]
  },
  {
   "cell_type": "code",
   "execution_count": null,
   "metadata": {
    "colab": {
     "base_uri": "https://localhost:8080/"
    },
    "executionInfo": {
     "elapsed": 277,
     "status": "ok",
     "timestamp": 1653196361833,
     "user": {
      "displayName": "changhwan lee",
      "userId": "04303211996600941657"
     },
     "user_tz": -540
    },
    "id": "MoE10lgWKl14",
    "outputId": "58eafd1a-a555-47fa-ce29-85366835466f"
   },
   "outputs": [
    {
     "name": "stderr",
     "output_type": "stream",
     "text": [
      "/usr/local/lib/python3.7/dist-packages/ipykernel_launcher.py:1: SettingWithCopyWarning: \n",
      "A value is trying to be set on a copy of a slice from a DataFrame.\n",
      "Try using .loc[row_indexer,col_indexer] = value instead\n",
      "\n",
      "See the caveats in the documentation: https://pandas.pydata.org/pandas-docs/stable/user_guide/indexing.html#returning-a-view-versus-a-copy\n",
      "  \"\"\"Entry point for launching an IPython kernel.\n",
      "/usr/local/lib/python3.7/dist-packages/ipykernel_launcher.py:2: SettingWithCopyWarning: \n",
      "A value is trying to be set on a copy of a slice from a DataFrame.\n",
      "Try using .loc[row_indexer,col_indexer] = value instead\n",
      "\n",
      "See the caveats in the documentation: https://pandas.pydata.org/pandas-docs/stable/user_guide/indexing.html#returning-a-view-versus-a-copy\n",
      "  \n"
     ]
    }
   ],
   "source": [
    "data['text'] = clean_text\n",
    "data['title'] = clean_summary"
   ]
  },
  {
   "cell_type": "code",
   "execution_count": null,
   "metadata": {
    "colab": {
     "base_uri": "https://localhost:8080/"
    },
    "executionInfo": {
     "elapsed": 276,
     "status": "ok",
     "timestamp": 1653196520865,
     "user": {
      "displayName": "changhwan lee",
      "userId": "04303211996600941657"
     },
     "user_tz": -540
    },
    "id": "elbdc3ubLNH0",
    "outputId": "029ea2e1-5c46-438c-e339-19a0e0a8437d"
   },
   "outputs": [
    {
     "name": "stderr",
     "output_type": "stream",
     "text": [
      "/usr/local/lib/python3.7/dist-packages/pandas/core/frame.py:5244: SettingWithCopyWarning: \n",
      "A value is trying to be set on a copy of a slice from a DataFrame\n",
      "\n",
      "See the caveats in the documentation: https://pandas.pydata.org/pandas-docs/stable/user_guide/indexing.html#returning-a-view-versus-a-copy\n",
      "  method=method,\n"
     ]
    },
    {
     "data": {
      "text/plain": [
       "title    7\n",
       "text     4\n",
       "dtype: int64"
      ]
     },
     "execution_count": 43,
     "metadata": {},
     "output_type": "execute_result"
    }
   ],
   "source": [
    "# 빈 값을 Null 값으로 변환, 혹시 발생할 가능성\n",
    "data.replace('', np.nan, inplace=True)\n",
    "data.isnull().sum()"
   ]
  },
  {
   "cell_type": "code",
   "execution_count": null,
   "metadata": {
    "colab": {
     "base_uri": "https://localhost:8080/"
    },
    "executionInfo": {
     "elapsed": 282,
     "status": "ok",
     "timestamp": 1653196561255,
     "user": {
      "displayName": "changhwan lee",
      "userId": "04303211996600941657"
     },
     "user_tz": -540
    },
    "id": "0SkpXs4pMC4D",
    "outputId": "4c413838-d635-484c-8896-231666c736bb"
   },
   "outputs": [
    {
     "name": "stdout",
     "output_type": "stream",
     "text": [
      "전체 샘플수 : 99731\n"
     ]
    },
    {
     "name": "stderr",
     "output_type": "stream",
     "text": [
      "/usr/local/lib/python3.7/dist-packages/pandas/util/_decorators.py:311: SettingWithCopyWarning: \n",
      "A value is trying to be set on a copy of a slice from a DataFrame\n",
      "\n",
      "See the caveats in the documentation: https://pandas.pydata.org/pandas-docs/stable/user_guide/indexing.html#returning-a-view-versus-a-copy\n",
      "  return func(*args, **kwargs)\n"
     ]
    }
   ],
   "source": [
    "data.dropna(axis=0, inplace=True)\n",
    "print('전체 샘플수 :', (len(data)))"
   ]
  },
  {
   "cell_type": "markdown",
   "metadata": {
    "id": "5r1a4h0RMydV"
   },
   "source": [
    "### 8-4 샘플 최대길이 정하기"
   ]
  },
  {
   "cell_type": "code",
   "execution_count": null,
   "metadata": {
    "colab": {
     "base_uri": "https://localhost:8080/",
     "height": 962
    },
    "executionInfo": {
     "elapsed": 2505,
     "status": "ok",
     "timestamp": 1653196759633,
     "user": {
      "displayName": "changhwan lee",
      "userId": "04303211996600941657"
     },
     "user_tz": -540
    },
    "id": "hIkcsob5MIQG",
    "outputId": "bf4eff33-09b4-435a-e091-08482904681b"
   },
   "outputs": [
    {
     "name": "stdout",
     "output_type": "stream",
     "text": [
      "텍스트의 최소 길이 : 10\n",
      "텍스트의 최대 길이 : 444\n",
      "텍스트의 평균 길이 : 196.2971894395925\n",
      "요약의 최소 길이 : 1\n",
      "요약의 최대 길이 : 16\n",
      "요약의 평균 길이 : 6.267539681743891\n"
     ]
    },
    {
     "data": {
      "image/png": "[encoded data removed]",
      "text/plain": [
       "<Figure size 432x288 with 2 Axes>"
      ]
     },
     "metadata": {
      "needs_background": "light"
     },
     "output_type": "display_data"
    },
    {
     "data": {
      "image/png": "[encoded data removed]",
      "text/plain": [
       "<Figure size 432x288 with 1 Axes>"
      ]
     },
     "metadata": {
      "needs_background": "light"
     },
     "output_type": "display_data"
    },
    {
     "data": {
      "image/png": "[encoded data removed]",
      "text/plain": [
       "<Figure size 432x288 with 1 Axes>"
      ]
     },
     "metadata": {
      "needs_background": "light"
     },
     "output_type": "display_data"
    }
   ],
   "source": [
    "# 길이 분포 출력\n",
    "import matplotlib.pyplot as plt\n",
    "\n",
    "text_len = [len(s.split()) for s in data['text']]\n",
    "summary_len = [len(s.split()) for s in data['title']]\n",
    "\n",
    "print('텍스트의 최소 길이 : {}'.format(np.min(text_len)))\n",
    "print('텍스트의 최대 길이 : {}'.format(np.max(text_len)))\n",
    "print('텍스트의 평균 길이 : {}'.format(np.mean(text_len)))\n",
    "print('요약의 최소 길이 : {}'.format(np.min(summary_len)))\n",
    "print('요약의 최대 길이 : {}'.format(np.max(summary_len)))\n",
    "print('요약의 평균 길이 : {}'.format(np.mean(summary_len)))\n",
    "\n",
    "plt.subplot(1,2,1)\n",
    "plt.boxplot(text_len)\n",
    "plt.title('text')\n",
    "plt.subplot(1,2,2)\n",
    "plt.boxplot(summary_len)\n",
    "plt.title('title')\n",
    "plt.tight_layout()\n",
    "plt.show()\n",
    "\n",
    "plt.title('text')\n",
    "plt.hist(text_len, bins = 40)\n",
    "plt.xlabel('length of samples')\n",
    "plt.ylabel('number of samples')\n",
    "plt.show()\n",
    "\n",
    "plt.title('title')\n",
    "plt.hist(summary_len, bins = 40)\n",
    "plt.xlabel('length of samples')\n",
    "plt.ylabel('number of samples')\n",
    "plt.show()"
   ]
  },
  {
   "cell_type": "markdown",
   "metadata": {
    "id": "6PB_UYFbOCWl"
   },
   "source": [
    "text는 300, headlines은 10로 최대길이를 정함(약 90% 커버)"
   ]
  },
  {
   "cell_type": "code",
   "execution_count": null,
   "metadata": {
    "id": "XLAhLAANM9k4"
   },
   "outputs": [],
   "source": [
    "text_max_len = 300\n",
    "summary_max_len = 10"
   ]
  },
  {
   "cell_type": "code",
   "execution_count": null,
   "metadata": {
    "id": "UcM3HhvMNmdC"
   },
   "outputs": [],
   "source": [
    "def below_threshold_len(max_len, nested_list):\n",
    "  cnt = 0\n",
    "  for s in nested_list:\n",
    "    if(len(s.split()) <= max_len):\n",
    "        cnt = cnt + 1\n",
    "  print('전체 샘플 중 길이가 %s 이하인 샘플의 비율: %s'%(max_len, (cnt / len(nested_list))))"
   ]
  },
  {
   "cell_type": "code",
   "execution_count": null,
   "metadata": {
    "colab": {
     "base_uri": "https://localhost:8080/"
    },
    "executionInfo": {
     "elapsed": 2010,
     "status": "ok",
     "timestamp": 1653196924566,
     "user": {
      "displayName": "changhwan lee",
      "userId": "04303211996600941657"
     },
     "user_tz": -540
    },
    "id": "BAEjp_ccNvAP",
    "outputId": "5aae448f-9135-44e1-bd81-3fdf25833016"
   },
   "outputs": [
    {
     "name": "stdout",
     "output_type": "stream",
     "text": [
      "전체 샘플 중 길이가 300 이하인 샘플의 비율: 0.9177387171491311\n",
      "전체 샘플 중 길이가 10 이하인 샘플의 비율: 0.98507986483641\n"
     ]
    }
   ],
   "source": [
    "below_threshold_len(text_max_len, data['text'])\n",
    "below_threshold_len(summary_max_len,  data['title'])"
   ]
  },
  {
   "cell_type": "code",
   "execution_count": null,
   "metadata": {
    "colab": {
     "base_uri": "https://localhost:8080/"
    },
    "executionInfo": {
     "elapsed": 1998,
     "status": "ok",
     "timestamp": 1653196973094,
     "user": {
      "displayName": "changhwan lee",
      "userId": "04303211996600941657"
     },
     "user_tz": -540
    },
    "id": "v95ul6XbNx0y",
    "outputId": "c224745a-4615-46c1-90a6-71cf91705858"
   },
   "outputs": [
    {
     "name": "stdout",
     "output_type": "stream",
     "text": [
      "전체 샘플수 : 90279\n"
     ]
    }
   ],
   "source": [
    "data = data[data['text'].apply(lambda x: len(x.split()) <= text_max_len)]\n",
    "data = data[data['title'].apply(lambda x: len(x.split()) <= summary_max_len)]\n",
    "print('전체 샘플수 :', (len(data)))"
   ]
  },
  {
   "cell_type": "markdown",
   "metadata": {
    "id": "97sSESHvOddi"
   },
   "source": [
    "### 8-5 시작토큰/ 종료토큰 추가"
   ]
  },
  {
   "cell_type": "code",
   "execution_count": null,
   "metadata": {
    "colab": {
     "base_uri": "https://localhost:8080/",
     "height": 337
    },
    "executionInfo": {
     "elapsed": 285,
     "status": "ok",
     "timestamp": 1653197177196,
     "user": {
      "displayName": "changhwan lee",
      "userId": "04303211996600941657"
     },
     "user_tz": -540
    },
    "id": "Q9IZS3MVN9rP",
    "outputId": "5ebc590f-e858-4356-a998-72d1c6dfd019"
   },
   "outputs": [
    {
     "data": {
      "text/html": [
       "\n",
       "  <div id=\"df-9330e9da-b9d8-4681-ae62-eb5fcd2c8916\">\n",
       "    <div class=\"colab-df-container\">\n",
       "      <div>\n",
       "<style scoped>\n",
       "    .dataframe tbody tr th:only-of-type {\n",
       "        vertical-align: middle;\n",
       "    }\n",
       "\n",
       "    .dataframe tbody tr th {\n",
       "        vertical-align: top;\n",
       "    }\n",
       "\n",
       "    .dataframe thead th {\n",
       "        text-align: right;\n",
       "    }\n",
       "</style>\n",
       "<table border=\"1\" class=\"dataframe\">\n",
       "  <thead>\n",
       "    <tr style=\"text-align: right;\">\n",
       "      <th></th>\n",
       "      <th>title</th>\n",
       "      <th>text</th>\n",
       "      <th>decoder_input</th>\n",
       "      <th>decoder_target</th>\n",
       "    </tr>\n",
       "  </thead>\n",
       "  <tbody>\n",
       "    <tr>\n",
       "      <th>143983</th>\n",
       "      <td>보은군 봄철 농촌일손돕기 본격 추진</td>\n",
       "      <td>강소농 경영 컨설턴트 지원 생산적 일손 긴급지원반 운영 등충북일보 보은 보은군은 강...</td>\n",
       "      <td>sostoken 보은군 봄철 농촌일손돕기 본격 추진</td>\n",
       "      <td>보은군 봄철 농촌일손돕기 본격 추진 eostoken</td>\n",
       "    </tr>\n",
       "    <tr>\n",
       "      <th>143984</th>\n",
       "      <td>수량 많고 기계수확 쉬운 청풍찰수수 개발</td>\n",
       "      <td>충북농기원 품종보호출원 마쳐심사 거쳐 오는 도내 중점 보급충북일보 충북농업기술원은 ...</td>\n",
       "      <td>sostoken 수량 많고 기계수확 쉬운 청풍찰수수 개발</td>\n",
       "      <td>수량 많고 기계수확 쉬운 청풍찰수수 개발 eostoken</td>\n",
       "    </tr>\n",
       "    <tr>\n",
       "      <th>143985</th>\n",
       "      <td>영동군 키운 드론하나 일꾼 부럽다</td>\n",
       "      <td>영동군 직원들과 농업인들이 전문가로부터 드론교육을 받고 있다 영동군 충북일보 영동 ...</td>\n",
       "      <td>sostoken 영동군 키운 드론하나 일꾼 부럽다</td>\n",
       "      <td>영동군 키운 드론하나 일꾼 부럽다 eostoken</td>\n",
       "    </tr>\n",
       "    <tr>\n",
       "      <th>143986</th>\n",
       "      <td>충주시 일자리 박람회 개최</td>\n",
       "      <td>업체 참여 여명 채용 계획일자리박람회가 열리는 모습 충주시 충북일보 충주 충주시가 ...</td>\n",
       "      <td>sostoken 충주시 일자리 박람회 개최</td>\n",
       "      <td>충주시 일자리 박람회 개최 eostoken</td>\n",
       "    </tr>\n",
       "    <tr>\n",
       "      <th>143987</th>\n",
       "      <td>세종시민에게 제공되는 기상정보 신속 정확 풍부해진다</td>\n",
       "      <td>새롬동에 종합기상관측장비 설치 내년 월부터 정규 관측대전지방기상청이 세종시 새롬동 ...</td>\n",
       "      <td>sostoken 세종시민에게 제공되는 기상정보 신속 정확 풍부해진다</td>\n",
       "      <td>세종시민에게 제공되는 기상정보 신속 정확 풍부해진다 eostoken</td>\n",
       "    </tr>\n",
       "  </tbody>\n",
       "</table>\n",
       "</div>\n",
       "      <button class=\"colab-df-convert\" onclick=\"convertToInteractive('df-9330e9da-b9d8-4681-ae62-eb5fcd2c8916')\"\n",
       "              title=\"Convert this dataframe to an interactive table.\"\n",
       "              style=\"display:none;\">\n",
       "        \n",
       "  <svg xmlns=\"http://www.w3.org/2000/svg\" height=\"24px\"viewBox=\"0 0 24 24\"\n",
       "       width=\"24px\">\n",
       "    <path d=\"M0 0h24v24H0V0z\" fill=\"none\"/>\n",
       "    <path d=\"M18.56 5.44l.94 2.06.94-2.06 2.06-.94-2.06-.94-.94-2.06-.94 2.06-2.06.94zm-11 1L8.5 8.5l.94-2.06 2.06-.94-2.06-.94L8.5 2.5l-.94 2.06-2.06.94zm10 10l.94 2.06.94-2.06 2.06-.94-2.06-.94-.94-2.06-.94 2.06-2.06.94z\"/><path d=\"M17.41 7.96l-1.37-1.37c-.4-.4-.92-.59-1.43-.59-.52 0-1.04.2-1.43.59L10.3 9.45l-7.72 7.72c-.78.78-.78 2.05 0 2.83L4 21.41c.39.39.9.59 1.41.59.51 0 1.02-.2 1.41-.59l7.78-7.78 2.81-2.81c.8-.78.8-2.07 0-2.86zM5.41 20L4 18.59l7.72-7.72 1.47 1.35L5.41 20z\"/>\n",
       "  </svg>\n",
       "      </button>\n",
       "      \n",
       "  <style>\n",
       "    .colab-df-container {\n",
       "      display:flex;\n",
       "      flex-wrap:wrap;\n",
       "      gap: 12px;\n",
       "    }\n",
       "\n",
       "    .colab-df-convert {\n",
       "      background-color: #E8F0FE;\n",
       "      border: none;\n",
       "      border-radius: 50%;\n",
       "      cursor: pointer;\n",
       "      display: none;\n",
       "      fill: #1967D2;\n",
       "      height: 32px;\n",
       "      padding: 0 0 0 0;\n",
       "      width: 32px;\n",
       "    }\n",
       "\n",
       "    .colab-df-convert:hover {\n",
       "      background-color: #E2EBFA;\n",
       "      box-shadow: 0px 1px 2px rgba(60, 64, 67, 0.3), 0px 1px 3px 1px rgba(60, 64, 67, 0.15);\n",
       "      fill: #174EA6;\n",
       "    }\n",
       "\n",
       "    [theme=dark] .colab-df-convert {\n",
       "      background-color: #3B4455;\n",
       "      fill: #D2E3FC;\n",
       "    }\n",
       "\n",
       "    [theme=dark] .colab-df-convert:hover {\n",
       "      background-color: #434B5C;\n",
       "      box-shadow: 0px 1px 3px 1px rgba(0, 0, 0, 0.15);\n",
       "      filter: drop-shadow(0px 1px 2px rgba(0, 0, 0, 0.3));\n",
       "      fill: #FFFFFF;\n",
       "    }\n",
       "  </style>\n",
       "\n",
       "      <script>\n",
       "        const buttonEl =\n",
       "          document.querySelector('#df-9330e9da-b9d8-4681-ae62-eb5fcd2c8916 button.colab-df-convert');\n",
       "        buttonEl.style.display =\n",
       "          google.colab.kernel.accessAllowed ? 'block' : 'none';\n",
       "\n",
       "        async function convertToInteractive(key) {\n",
       "          const element = document.querySelector('#df-9330e9da-b9d8-4681-ae62-eb5fcd2c8916');\n",
       "          const dataTable =\n",
       "            await google.colab.kernel.invokeFunction('convertToInteractive',\n",
       "                                                     [key], {});\n",
       "          if (!dataTable) return;\n",
       "\n",
       "          const docLinkHtml = 'Like what you see? Visit the ' +\n",
       "            '<a target=\"_blank\" href=https://colab.research.google.com/notebooks/data_table.ipynb>data table notebook</a>'\n",
       "            + ' to learn more about interactive tables.';\n",
       "          element.innerHTML = '';\n",
       "          dataTable['output_type'] = 'display_data';\n",
       "          await google.colab.output.renderOutput(dataTable, element);\n",
       "          const docLink = document.createElement('div');\n",
       "          docLink.innerHTML = docLinkHtml;\n",
       "          element.appendChild(docLink);\n",
       "        }\n",
       "      </script>\n",
       "    </div>\n",
       "  </div>\n",
       "  "
      ],
      "text/plain": [
       "                               title  \\\n",
       "143983           보은군 봄철 농촌일손돕기 본격 추진   \n",
       "143984        수량 많고 기계수확 쉬운 청풍찰수수 개발   \n",
       "143985            영동군 키운 드론하나 일꾼 부럽다   \n",
       "143986                충주시 일자리 박람회 개최   \n",
       "143987  세종시민에게 제공되는 기상정보 신속 정확 풍부해진다   \n",
       "\n",
       "                                                     text  \\\n",
       "143983  강소농 경영 컨설턴트 지원 생산적 일손 긴급지원반 운영 등충북일보 보은 보은군은 강...   \n",
       "143984  충북농기원 품종보호출원 마쳐심사 거쳐 오는 도내 중점 보급충북일보 충북농업기술원은 ...   \n",
       "143985  영동군 직원들과 농업인들이 전문가로부터 드론교육을 받고 있다 영동군 충북일보 영동 ...   \n",
       "143986  업체 참여 여명 채용 계획일자리박람회가 열리는 모습 충주시 충북일보 충주 충주시가 ...   \n",
       "143987  새롬동에 종합기상관측장비 설치 내년 월부터 정규 관측대전지방기상청이 세종시 새롬동 ...   \n",
       "\n",
       "                                decoder_input  \\\n",
       "143983           sostoken 보은군 봄철 농촌일손돕기 본격 추진   \n",
       "143984        sostoken 수량 많고 기계수확 쉬운 청풍찰수수 개발   \n",
       "143985            sostoken 영동군 키운 드론하나 일꾼 부럽다   \n",
       "143986                sostoken 충주시 일자리 박람회 개최   \n",
       "143987  sostoken 세종시민에게 제공되는 기상정보 신속 정확 풍부해진다   \n",
       "\n",
       "                               decoder_target  \n",
       "143983           보은군 봄철 농촌일손돕기 본격 추진 eostoken  \n",
       "143984        수량 많고 기계수확 쉬운 청풍찰수수 개발 eostoken  \n",
       "143985            영동군 키운 드론하나 일꾼 부럽다 eostoken  \n",
       "143986                충주시 일자리 박람회 개최 eostoken  \n",
       "143987  세종시민에게 제공되는 기상정보 신속 정확 풍부해진다 eostoken  "
      ]
     },
     "execution_count": 51,
     "metadata": {},
     "output_type": "execute_result"
    }
   ],
   "source": [
    "# 요약 데이터에는 시작 토큰과 종료 토큰을 추가\n",
    "data['decoder_input'] = data['title'].apply(lambda x : 'sostoken '+ x)\n",
    "data['decoder_target'] = data['title'].apply(lambda x : x + ' eostoken')\n",
    "data.head()"
   ]
  },
  {
   "cell_type": "code",
   "execution_count": null,
   "metadata": {
    "id": "6tGfoFNSOv6o"
   },
   "outputs": [],
   "source": [
    "encoder_input = np.array(data['text']) # 인코더의 입력\n",
    "decoder_input = np.array(data['decoder_input']) # 디코더의 입력\n",
    "decoder_target = np.array(data['decoder_target']) # 디코더의 레이블"
   ]
  },
  {
   "cell_type": "markdown",
   "metadata": {
    "id": "GoB4AiVnO6_Q"
   },
   "source": [
    "### 8-6 훈련데이터/테스트 데이터 나누기"
   ]
  },
  {
   "cell_type": "code",
   "execution_count": null,
   "metadata": {
    "colab": {
     "base_uri": "https://localhost:8080/"
    },
    "executionInfo": {
     "elapsed": 267,
     "status": "ok",
     "timestamp": 1653197253202,
     "user": {
      "displayName": "changhwan lee",
      "userId": "04303211996600941657"
     },
     "user_tz": -540
    },
    "id": "sBCCZZuvO4AP",
    "outputId": "f6f4e064-889f-4345-9352-6a7da839631c"
   },
   "outputs": [
    {
     "data": {
      "text/plain": [
       "90279"
      ]
     },
     "execution_count": 53,
     "metadata": {},
     "output_type": "execute_result"
    }
   ],
   "source": [
    "encoder_input.shape[0]"
   ]
  },
  {
   "cell_type": "code",
   "execution_count": null,
   "metadata": {
    "colab": {
     "base_uri": "https://localhost:8080/"
    },
    "executionInfo": {
     "elapsed": 270,
     "status": "ok",
     "timestamp": 1653197269228,
     "user": {
      "displayName": "changhwan lee",
      "userId": "04303211996600941657"
     },
     "user_tz": -540
    },
    "id": "65lEbB2-PCfO",
    "outputId": "995a5549-5bb2-4b97-85e6-0f2437c02e53"
   },
   "outputs": [
    {
     "name": "stdout",
     "output_type": "stream",
     "text": [
      "[80639 67791 45236 ... 46540 38119 68185]\n"
     ]
    }
   ],
   "source": [
    "indices = np.arange(encoder_input.shape[0])\n",
    "np.random.shuffle(indices)\n",
    "print(indices)"
   ]
  },
  {
   "cell_type": "code",
   "execution_count": null,
   "metadata": {
    "id": "wPRgy__XPGXQ"
   },
   "outputs": [],
   "source": [
    "encoder_input = encoder_input[indices]\n",
    "decoder_input = decoder_input[indices]\n",
    "decoder_target = decoder_target[indices]"
   ]
  },
  {
   "cell_type": "code",
   "execution_count": null,
   "metadata": {
    "colab": {
     "base_uri": "https://localhost:8080/"
    },
    "executionInfo": {
     "elapsed": 338,
     "status": "ok",
     "timestamp": 1653197306554,
     "user": {
      "displayName": "changhwan lee",
      "userId": "04303211996600941657"
     },
     "user_tz": -540
    },
    "id": "K5x_U1s1PJMv",
    "outputId": "2140a5ba-4681-4c7a-9753-5f18fa2e96e3"
   },
   "outputs": [
    {
     "name": "stdout",
     "output_type": "stream",
     "text": [
      "테스트 데이터의 수 : 18055\n"
     ]
    }
   ],
   "source": [
    "# 잘 섞은 데이터를 8:2 비율로 훈련데이터와 테스트 데이터로 분리\n",
    "n_of_val = int(len(encoder_input)*0.2)\n",
    "print('테스트 데이터의 수 :', n_of_val)"
   ]
  },
  {
   "cell_type": "code",
   "execution_count": null,
   "metadata": {
    "colab": {
     "base_uri": "https://localhost:8080/"
    },
    "executionInfo": {
     "elapsed": 316,
     "status": "ok",
     "timestamp": 1653197323050,
     "user": {
      "displayName": "changhwan lee",
      "userId": "04303211996600941657"
     },
     "user_tz": -540
    },
    "id": "XuhvAp2gPPfk",
    "outputId": "353ddb06-46d5-4d12-f48a-5454201469de"
   },
   "outputs": [
    {
     "name": "stdout",
     "output_type": "stream",
     "text": [
      "훈련 데이터의 개수 : 72224\n",
      "훈련 레이블의 개수 : 72224\n",
      "테스트 데이터의 개수 : 18055\n",
      "테스트 레이블의 개수 : 18055\n"
     ]
    }
   ],
   "source": [
    "encoder_input_train = encoder_input[:-n_of_val]\n",
    "decoder_input_train = decoder_input[:-n_of_val]\n",
    "decoder_target_train = decoder_target[:-n_of_val]\n",
    "\n",
    "encoder_input_test = encoder_input[-n_of_val:]\n",
    "decoder_input_test = decoder_input[-n_of_val:]\n",
    "decoder_target_test = decoder_target[-n_of_val:]\n",
    "\n",
    "print('훈련 데이터의 개수 :', len(encoder_input_train))\n",
    "print('훈련 레이블의 개수 :', len(decoder_input_train))\n",
    "print('테스트 데이터의 개수 :', len(encoder_input_test))\n",
    "print('테스트 레이블의 개수 :', len(decoder_input_test))"
   ]
  },
  {
   "cell_type": "code",
   "execution_count": null,
   "metadata": {
    "id": "MuSJlaJlPThn"
   },
   "outputs": [],
   "source": [
    "### 8-7 단어집합 만들기/ 정수 인코딩\n",
    "src_tokenizer = Tokenizer() # 토크나이저 정의\n",
    "src_tokenizer.fit_on_texts(encoder_input_train) # 입력된 데이터로부터 단어 집합 생성\n"
   ]
  },
  {
   "cell_type": "code",
   "execution_count": null,
   "metadata": {
    "colab": {
     "base_uri": "https://localhost:8080/"
    },
    "executionInfo": {
     "elapsed": 1129,
     "status": "ok",
     "timestamp": 1653197506181,
     "user": {
      "displayName": "changhwan lee",
      "userId": "04303211996600941657"
     },
     "user_tz": -540
    },
    "id": "-LzdNq-QPy59",
    "outputId": "183880ba-e2cd-4fd1-e525-3cb627fd369a"
   },
   "outputs": [
    {
     "name": "stdout",
     "output_type": "stream",
     "text": [
      "단어 집합(vocabulary)의 크기 : 1114623\n",
      "등장 빈도가 6번 이하인 희귀 단어의 수: 960787\n",
      "단어 집합에서 희귀 단어를 제외시킬 경우의 단어 집합의 크기 153836\n",
      "단어 집합에서 희귀 단어의 비율: 86.19838277157389\n",
      "전체 등장 빈도에서 희귀 단어 등장 빈도 비율: 12.503707757303273\n"
     ]
    }
   ],
   "source": [
    "threshold = 7\n",
    "total_cnt = len(src_tokenizer.word_index) # 단어의 수\n",
    "rare_cnt = 0 # 등장 빈도수가 threshold보다 작은 단어의 개수를 카운트\n",
    "total_freq = 0 # 훈련 데이터의 전체 단어 빈도수 총 합\n",
    "rare_freq = 0 # 등장 빈도수가 threshold보다 작은 단어의 등장 빈도수의 총 합\n",
    "\n",
    "# 단어와 빈도수의 쌍(pair)을 key와 value로 받는다.\n",
    "for key, value in src_tokenizer.word_counts.items():\n",
    "    total_freq = total_freq + value\n",
    "\n",
    "    # 단어의 등장 빈도수가 threshold보다 작으면\n",
    "    if(value < threshold):\n",
    "        rare_cnt = rare_cnt + 1\n",
    "        rare_freq = rare_freq + value\n",
    "\n",
    "print('단어 집합(vocabulary)의 크기 :', total_cnt)\n",
    "print('등장 빈도가 %s번 이하인 희귀 단어의 수: %s'%(threshold - 1, rare_cnt))\n",
    "print('단어 집합에서 희귀 단어를 제외시킬 경우의 단어 집합의 크기 %s'%(total_cnt - rare_cnt))\n",
    "print(\"단어 집합에서 희귀 단어의 비율:\", (rare_cnt / total_cnt)*100)\n",
    "print(\"전체 등장 빈도에서 희귀 단어 등장 빈도 비율:\", (rare_freq / total_freq)*100)"
   ]
  },
  {
   "cell_type": "markdown",
   "metadata": {
    "id": "8QeqNJpIQNC2"
   },
   "source": [
    "등장빈도가 적으면서 단어 집합에서 큰 비중을 차지하는 정수 인코딩 과정에서 빼고 훈련데이터에서 제거. 단어집합의 크기를 150,000으로 제한"
   ]
  },
  {
   "cell_type": "code",
   "execution_count": null,
   "metadata": {
    "id": "15uboSEmQACI"
   },
   "outputs": [],
   "source": [
    "src_vocab = 150000\n",
    "src_tokenizer = Tokenizer(num_words=src_vocab) # 단어 집합의 크기를 150,000으로 제한\n",
    "src_tokenizer.fit_on_texts(encoder_input_train) # 단어 집합 재생성"
   ]
  },
  {
   "cell_type": "code",
   "execution_count": null,
   "metadata": {
    "colab": {
     "base_uri": "https://localhost:8080/"
    },
    "executionInfo": {
     "elapsed": 19275,
     "status": "ok",
     "timestamp": 1653197711162,
     "user": {
      "displayName": "changhwan lee",
      "userId": "04303211996600941657"
     },
     "user_tz": -540
    },
    "id": "zBQZbA_EQjKr",
    "outputId": "cbfc01c5-c791-430a-e630-977ec0bd17cc"
   },
   "outputs": [
    {
     "name": "stdout",
     "output_type": "stream",
     "text": [
      "[[29674, 2103, 35616, 21760, 321, 2348, 77, 15537, 688, 113, 12508, 6168, 11413, 1023, 1994, 67396, 722, 6, 2107, 15407, 17364, 7295, 42753, 33009, 9120, 17364, 19546, 512, 1267, 2, 49, 5414, 10181, 10773, 14313, 1834, 1819, 9, 11331, 1880, 1346, 19, 2103, 1283, 3993, 2103, 21760, 17696, 3993, 22615, 485, 81544, 7296, 437, 5861, 1023, 1994, 67396, 4426, 189, 81544, 53859, 437, 5861, 1402, 73, 97789, 1278, 73, 813, 269, 297, 753, 62026, 35, 639, 1260, 4494, 44, 2014, 73, 3993, 35617, 336, 1435, 1305, 40666, 73, 113819, 3993, 35617, 111, 331, 4494, 528, 73, 1834, 3993, 25487, 113, 7296, 95, 3538, 7608, 7296, 437, 3993, 57577, 37, 30200, 35618, 17697, 3925, 124412, 31828, 437, 3993, 36, 2513, 77379, 19547, 290, 3993, 24100, 1181, 22615, 112, 17364, 7295, 13454, 437, 5861, 328, 4636, 70469, 290, 5861, 485, 73, 813, 8211, 269, 73, 437, 3993, 297, 753, 62026, 35, 639, 1260, 4494, 44, 2014, 13257, 81545, 1445, 26571, 70470, 189, 336, 1435, 1305, 40666, 73, 113819, 3993, 1445, 26571, 35617, 111, 331, 4494, 528, 73, 4631, 25487, 144, 7296, 7296, 437, 5861, 95, 3538, 30708, 86340, 49, 22, 297, 753, 62026, 35, 4494, 2014, 105061, 23492, 1917, 112, 10, 3145, 67, 44, 3219, 1065, 22910, 183, 86, 19340, 4317, 30201, 1739, 28245, 1653, 86341, 2193, 2824, 16885, 91736, 116, 7608, 6123, 37907, 3879, 441, 24436, 13761, 19341, 1152], [86342, 581, 50, 53, 2669, 591, 13762, 67397, 1742, 2, 9278, 51, 27379, 3419, 31263, 1077, 10, 2688, 13455, 3092, 5338, 1995, 3858, 294, 677, 74, 81546, 3419, 477, 161, 6548, 19548, 26, 5590, 46235, 5160, 246, 18571, 30, 670, 18572, 2068, 124413, 8089, 83, 6866, 47, 892, 4517, 15, 4909, 216, 9, 55647, 12, 10018, 23, 4099, 31829, 9, 5929, 40667, 10075, 4959, 2, 10, 18571, 581, 38796, 3715, 238, 124414, 7297, 47547, 43, 661, 264, 37, 38796, 33010, 79, 124415, 124416, 1742, 2, 560, 7511, 13, 31830, 15, 26572, 13, 83, 86343, 73734, 4593, 2806, 23, 1374, 3438, 5401, 5954, 3, 5917, 25488, 461, 1233, 11009, 2110, 75, 2460, 20, 10, 6548, 3230, 41706, 164, 8465, 26, 6169, 915, 4, 2841, 47, 1151, 870, 322, 8], [633, 1757, 643, 4605, 72, 319, 5515, 430, 11708, 43836, 38797, 124417, 1, 23196, 17698, 14314, 12251, 43836, 3087, 81547, 15277, 72, 39701, 4021, 6274, 15277, 9874, 4, 1030, 633, 1757, 643, 1219, 20991, 15277, 4838, 113820, 2349, 1032, 6584, 42754, 19, 17, 6332, 504, 86344, 116, 65, 741, 1974, 67398, 336, 35, 166, 297, 35, 166, 639, 35, 166, 1435, 35, 166, 719, 35, 166, 5930, 35, 166, 10591, 35, 166, 486, 2629, 42, 65, 77380, 1974, 67398, 336, 166, 297, 166, 639, 166, 1435, 166, 719, 166, 5930, 166, 10591, 166, 486, 19780, 17, 37091, 4879, 19549, 387, 4, 1568, 17698, 25104, 12251, 6402, 3042, 12252, 21761, 12251, 6402, 10360, 881, 19780, 17, 48968, 15277, 101, 1219, 9875, 72, 12092, 6421, 567, 9874, 4, 1568]]\n"
     ]
    }
   ],
   "source": [
    "# 텍스트 시퀀스를 정수 시퀀스로 변환\n",
    "encoder_input_train = src_tokenizer.texts_to_sequences(encoder_input_train) \n",
    "encoder_input_test = src_tokenizer.texts_to_sequences(encoder_input_test)\n",
    "\n",
    "# 잘 진행되었는지 샘플 출력\n",
    "print(encoder_input_train[:3])"
   ]
  },
  {
   "cell_type": "code",
   "execution_count": null,
   "metadata": {
    "id": "FZm7cETeQtpP"
   },
   "outputs": [],
   "source": [
    "# Title에 대해서도 동일한 작업 수행\n",
    "tar_tokenizer = Tokenizer()\n",
    "tar_tokenizer.fit_on_texts(decoder_input_train)"
   ]
  },
  {
   "cell_type": "code",
   "execution_count": null,
   "metadata": {
    "colab": {
     "base_uri": "https://localhost:8080/"
    },
    "executionInfo": {
     "elapsed": 283,
     "status": "ok",
     "timestamp": 1653197790840,
     "user": {
      "displayName": "changhwan lee",
      "userId": "04303211996600941657"
     },
     "user_tz": -540
    },
    "id": "AxFYBZueQ_OS",
    "outputId": "95db535c-e1f1-4d24-904e-ed2690d781d6"
   },
   "outputs": [
    {
     "name": "stdout",
     "output_type": "stream",
     "text": [
      "단어 집합(vocabulary)의 크기 : 106174\n",
      "등장 빈도가 5번 이하인 희귀 단어의 수: 94972\n",
      "단어 집합에서 희귀 단어를 제외시킬 경우의 단어 집합의 크기 11202\n",
      "단어 집합에서 희귀 단어의 비율: 89.44939439034039\n",
      "전체 등장 빈도에서 희귀 단어 등장 빈도 비율: 27.34567817722537\n"
     ]
    }
   ],
   "source": [
    "threshold = 6\n",
    "total_cnt = len(tar_tokenizer.word_index) # 단어의 수\n",
    "rare_cnt = 0 # 등장 빈도수가 threshold보다 작은 단어의 개수를 카운트\n",
    "total_freq = 0 # 훈련 데이터의 전체 단어 빈도수 총 합\n",
    "rare_freq = 0 # 등장 빈도수가 threshold보다 작은 단어의 등장 빈도수의 총 합\n",
    "\n",
    "# 단어와 빈도수의 쌍(pair)을 key와 value로 받는다.\n",
    "for key, value in tar_tokenizer.word_counts.items():\n",
    "    total_freq = total_freq + value\n",
    "\n",
    "    # 단어의 등장 빈도수가 threshold보다 작으면\n",
    "    if(value < threshold):\n",
    "        rare_cnt = rare_cnt + 1\n",
    "        rare_freq = rare_freq + value\n",
    "\n",
    "print('단어 집합(vocabulary)의 크기 :', total_cnt)\n",
    "print('등장 빈도가 %s번 이하인 희귀 단어의 수: %s'%(threshold - 1, rare_cnt))\n",
    "print('단어 집합에서 희귀 단어를 제외시킬 경우의 단어 집합의 크기 %s'%(total_cnt - rare_cnt))\n",
    "print(\"단어 집합에서 희귀 단어의 비율:\", (rare_cnt / total_cnt)*100)\n",
    "print(\"전체 등장 빈도에서 희귀 단어 등장 빈도 비율:\", (rare_freq / total_freq)*100)"
   ]
  },
  {
   "cell_type": "markdown",
   "metadata": {
    "id": "n18lWK--RRZ1"
   },
   "source": [
    "title 데이터에서는 희귀단어의 빈도를 고려, 단어집합의 크기를 15,000으로 정함"
   ]
  },
  {
   "cell_type": "code",
   "execution_count": null,
   "metadata": {
    "colab": {
     "base_uri": "https://localhost:8080/"
    },
    "executionInfo": {
     "elapsed": 5646,
     "status": "ok",
     "timestamp": 1653197982799,
     "user": {
      "displayName": "changhwan lee",
      "userId": "04303211996600941657"
     },
     "user_tz": -540
    },
    "id": "u0PPy1lzRFuh",
    "outputId": "c1bddc22-f8dc-4a05-fd89-af13ae5056b5"
   },
   "outputs": [
    {
     "name": "stdout",
     "output_type": "stream",
     "text": [
      "input\n",
      "input  [[1, 4753, 1126, 181, 11204], [1, 1438, 5613, 2576, 39], [1, 67, 391, 480, 3901, 1822], [1, 225, 6712, 95, 2146, 4], [1, 2803, 5614, 1152, 435, 2466, 3902, 2804]]\n",
      "target\n",
      "decoder  [[4753, 1126, 181, 11204, 2], [1438, 5613, 2576, 39, 2], [67, 391, 480, 3901, 1822, 2], [225, 6712, 95, 2146, 4, 2], [2803, 5614, 1152, 435, 2466, 3902, 2804, 2]]\n"
     ]
    }
   ],
   "source": [
    "tar_vocab = 15000\n",
    "tar_tokenizer = Tokenizer(num_words=tar_vocab) \n",
    "tar_tokenizer.fit_on_texts(decoder_input_train)\n",
    "tar_tokenizer.fit_on_texts(decoder_target_train)\n",
    "\n",
    "# 텍스트 시퀀스를 정수 시퀀스로 변환\n",
    "decoder_input_train = tar_tokenizer.texts_to_sequences(decoder_input_train) \n",
    "decoder_target_train = tar_tokenizer.texts_to_sequences(decoder_target_train)\n",
    "decoder_input_test = tar_tokenizer.texts_to_sequences(decoder_input_test)\n",
    "decoder_target_test = tar_tokenizer.texts_to_sequences(decoder_target_test)\n",
    "\n",
    "# 잘 변환되었는지 확인\n",
    "print('input')\n",
    "print('input ',decoder_input_train[:5])\n",
    "print('target')\n",
    "print('decoder ',decoder_target_train[:5])"
   ]
  },
  {
   "cell_type": "code",
   "execution_count": null,
   "metadata": {
    "colab": {
     "base_uri": "https://localhost:8080/"
    },
    "executionInfo": {
     "elapsed": 2006,
     "status": "ok",
     "timestamp": 1653198050820,
     "user": {
      "displayName": "changhwan lee",
      "userId": "04303211996600941657"
     },
     "user_tz": -540
    },
    "id": "RnSv1n86RzSM",
    "outputId": "0b470961-db09-4890-fe2b-6136545d2867"
   },
   "outputs": [
    {
     "name": "stdout",
     "output_type": "stream",
     "text": [
      "삭제할 훈련 데이터의 개수 : 506\n",
      "삭제할 테스트 데이터의 개수 : 135\n",
      "훈련 데이터의 개수 : 71718\n",
      "훈련 레이블의 개수 : 71718\n",
      "테스트 데이터의 개수 : 17920\n",
      "테스트 레이블의 개수 : 17920\n"
     ]
    }
   ],
   "source": [
    "# 빈도수 낮은 단어로 구성된 샘플이 비어있을 경우 삭제\n",
    "drop_train = [index for index, sentence in enumerate(decoder_input_train) if len(sentence) == 1]\n",
    "drop_test = [index for index, sentence in enumerate(decoder_input_test) if len(sentence) == 1]\n",
    "\n",
    "print('삭제할 훈련 데이터의 개수 :', len(drop_train))\n",
    "print('삭제할 테스트 데이터의 개수 :', len(drop_test))\n",
    "\n",
    "encoder_input_train = [sentence for index, sentence in enumerate(encoder_input_train) if index not in drop_train]\n",
    "decoder_input_train = [sentence for index, sentence in enumerate(decoder_input_train) if index not in drop_train]\n",
    "decoder_target_train = [sentence for index, sentence in enumerate(decoder_target_train) if index not in drop_train]\n",
    "\n",
    "encoder_input_test = [sentence for index, sentence in enumerate(encoder_input_test) if index not in drop_test]\n",
    "decoder_input_test = [sentence for index, sentence in enumerate(decoder_input_test) if index not in drop_test]\n",
    "decoder_target_test = [sentence for index, sentence in enumerate(decoder_target_test) if index not in drop_test]\n",
    "\n",
    "print('훈련 데이터의 개수 :', len(encoder_input_train))\n",
    "print('훈련 레이블의 개수 :', len(decoder_input_train))\n",
    "print('테스트 데이터의 개수 :', len(encoder_input_test))\n",
    "print('테스트 레이블의 개수 :', len(decoder_input_test))"
   ]
  },
  {
   "cell_type": "code",
   "execution_count": null,
   "metadata": {
    "id": "cKzWRZefSEyP"
   },
   "outputs": [],
   "source": [
    "# 패딩하기\n",
    "encoder_input_train = pad_sequences(encoder_input_train, maxlen=text_max_len, padding='post')\n",
    "encoder_input_test = pad_sequences(encoder_input_test, maxlen=text_max_len, padding='post')\n",
    "decoder_input_train = pad_sequences(decoder_input_train, maxlen=summary_max_len, padding='post')\n",
    "decoder_target_train = pad_sequences(decoder_target_train, maxlen=summary_max_len, padding='post')\n",
    "decoder_input_test = pad_sequences(decoder_input_test, maxlen=summary_max_len, padding='post')\n",
    "decoder_target_test = pad_sequences(decoder_target_test, maxlen=summary_max_len, padding='post')"
   ]
  },
  {
   "cell_type": "markdown",
   "metadata": {
    "id": "pwrWpNTSSXmN"
   },
   "source": [
    "### 8-7 모델 설계"
   ]
  },
  {
   "cell_type": "code",
   "execution_count": null,
   "metadata": {
    "id": "6NJ-vxwcSQuP"
   },
   "outputs": [],
   "source": [
    "# 인코드 설계\n",
    "from tensorflow.keras.layers import Input, LSTM, Embedding, Dense, Concatenate, TimeDistributed\n",
    "from tensorflow.keras.models import Model\n",
    "from tensorflow.keras.callbacks import EarlyStopping, ModelCheckpoint\n",
    "\n",
    "\n",
    "# 인코더 설계 시작\n",
    "embedding_dim = 256\n",
    "hidden_size = 512\n",
    "\n",
    "# 인코더\n",
    "encoder_inputs = Input(shape=(text_max_len,))\n",
    "\n",
    "# 인코더의 임베딩 층\n",
    "enc_emb = Embedding(src_vocab, embedding_dim)(encoder_inputs)\n",
    "\n",
    "# 인코더의 LSTM 1\n",
    "# encoder_lstm1 = LSTM(hidden_size, return_sequences=True, return_state=True ,dropout = 0.4, recurrent_dropout = 0.4)\n",
    "encoder_lstm1 = LSTM(hidden_size, return_sequences=True, return_state=True ,dropout = 0.4)\n",
    "encoder_output1, state_h1, state_c1 = encoder_lstm1(enc_emb)\n",
    "\n",
    "# 인코더의 LSTM 2\n",
    "# encoder_lstm2 = LSTM(hidden_size, return_sequences=True, return_state=True, dropout=0.4, recurrent_dropout=0.4)\n",
    "encoder_lstm2 = LSTM(hidden_size, return_sequences=True, return_state=True, dropout=0.4)\n",
    "encoder_output2, state_h2, state_c2 = encoder_lstm2(encoder_output1)\n",
    "\n",
    "# 인코더의 LSTM 3\n",
    "# encoder_lstm3 = LSTM(hidden_size, return_state=True, return_sequences=True, dropout=0.4, recurrent_dropout=0.4)\n",
    "encoder_lstm3 = LSTM(hidden_size, return_state=True, return_sequences=True, dropout=0.4)\n",
    "encoder_outputs, state_h, state_c= encoder_lstm3(encoder_output2)"
   ]
  },
  {
   "cell_type": "code",
   "execution_count": null,
   "metadata": {
    "id": "Hkbig9ghSk1C"
   },
   "outputs": [],
   "source": [
    "# 디코더 설계\n",
    "decoder_inputs = Input(shape=(None,))\n",
    "\n",
    "# 디코더의 임베딩 층\n",
    "dec_emb_layer = Embedding(tar_vocab, embedding_dim)\n",
    "dec_emb = dec_emb_layer(decoder_inputs)\n",
    "\n",
    "# 디코더의 LSTM\n",
    "# decoder_lstm = LSTM(hidden_size, return_sequences=True, return_state=True, dropout=0.4, recurrent_dropout=0.2)\n",
    "decoder_lstm = LSTM(hidden_size, return_sequences=True, return_state=True, dropout=0.4)\n",
    "decoder_outputs, _, _ = decoder_lstm(dec_emb, initial_state=[state_h, state_c])\n",
    "\n",
    "# 디코더의 출력층\n",
    "decoder_softmax_layer = Dense(tar_vocab, activation='softmax')\n",
    "decoder_softmax_outputs = decoder_softmax_layer(decoder_outputs) "
   ]
  },
  {
   "cell_type": "code",
   "execution_count": null,
   "metadata": {
    "colab": {
     "base_uri": "https://localhost:8080/"
    },
    "executionInfo": {
     "elapsed": 304,
     "status": "ok",
     "timestamp": 1653198277700,
     "user": {
      "displayName": "changhwan lee",
      "userId": "04303211996600941657"
     },
     "user_tz": -540
    },
    "id": "TJ5BC0zgS3_u",
    "outputId": "f8d1fdca-ba7a-43e5-9769-8e87171c2aa3"
   },
   "outputs": [
    {
     "name": "stdout",
     "output_type": "stream",
     "text": [
      "Model: \"model\"\n",
      "__________________________________________________________________________________________________\n",
      " Layer (type)                   Output Shape         Param #     Connected to                     \n",
      "==================================================================================================\n",
      " input_1 (InputLayer)           [(None, 300)]        0           []                               \n",
      "                                                                                                  \n",
      " embedding (Embedding)          (None, 300, 256)     38400000    ['input_1[0][0]']                \n",
      "                                                                                                  \n",
      " lstm (LSTM)                    [(None, 300, 512),   1574912     ['embedding[0][0]']              \n",
      "                                 (None, 512),                                                     \n",
      "                                 (None, 512)]                                                     \n",
      "                                                                                                  \n",
      " input_3 (InputLayer)           [(None, None)]       0           []                               \n",
      "                                                                                                  \n",
      " lstm_1 (LSTM)                  [(None, 300, 512),   2099200     ['lstm[0][0]']                   \n",
      "                                 (None, 512),                                                     \n",
      "                                 (None, 512)]                                                     \n",
      "                                                                                                  \n",
      " embedding_2 (Embedding)        (None, None, 256)    3840000     ['input_3[0][0]']                \n",
      "                                                                                                  \n",
      " lstm_2 (LSTM)                  [(None, 300, 512),   2099200     ['lstm_1[0][0]']                 \n",
      "                                 (None, 512),                                                     \n",
      "                                 (None, 512)]                                                     \n",
      "                                                                                                  \n",
      " lstm_4 (LSTM)                  [(None, None, 512),  1574912     ['embedding_2[0][0]',            \n",
      "                                 (None, 512),                     'lstm_2[0][1]',                 \n",
      "                                 (None, 512)]                     'lstm_2[0][2]']                 \n",
      "                                                                                                  \n",
      " dense (Dense)                  (None, None, 15000)  7695000     ['lstm_4[0][0]']                 \n",
      "                                                                                                  \n",
      "==================================================================================================\n",
      "Total params: 57,283,224\n",
      "Trainable params: 57,283,224\n",
      "Non-trainable params: 0\n",
      "__________________________________________________________________________________________________\n"
     ]
    }
   ],
   "source": [
    "# 모델 정의\n",
    "model = Model([encoder_inputs, decoder_inputs], decoder_softmax_outputs)\n",
    "model.summary()"
   ]
  },
  {
   "cell_type": "code",
   "execution_count": null,
   "metadata": {
    "colab": {
     "base_uri": "https://localhost:8080/"
    },
    "executionInfo": {
     "elapsed": 302,
     "status": "ok",
     "timestamp": 1653198334594,
     "user": {
      "displayName": "changhwan lee",
      "userId": "04303211996600941657"
     },
     "user_tz": -540
    },
    "id": "Ojoybv93S8l0",
    "outputId": "0fe88337-a009-4a75-c9ad-52c2ea35a462"
   },
   "outputs": [
    {
     "name": "stdout",
     "output_type": "stream",
     "text": [
      "Model: \"model_1\"\n",
      "__________________________________________________________________________________________________\n",
      " Layer (type)                   Output Shape         Param #     Connected to                     \n",
      "==================================================================================================\n",
      " input_1 (InputLayer)           [(None, 300)]        0           []                               \n",
      "                                                                                                  \n",
      " embedding (Embedding)          (None, 300, 256)     38400000    ['input_1[0][0]']                \n",
      "                                                                                                  \n",
      " lstm (LSTM)                    [(None, 300, 512),   1574912     ['embedding[0][0]']              \n",
      "                                 (None, 512),                                                     \n",
      "                                 (None, 512)]                                                     \n",
      "                                                                                                  \n",
      " input_3 (InputLayer)           [(None, None)]       0           []                               \n",
      "                                                                                                  \n",
      " lstm_1 (LSTM)                  [(None, 300, 512),   2099200     ['lstm[0][0]']                   \n",
      "                                 (None, 512),                                                     \n",
      "                                 (None, 512)]                                                     \n",
      "                                                                                                  \n",
      " embedding_2 (Embedding)        (None, None, 256)    3840000     ['input_3[0][0]']                \n",
      "                                                                                                  \n",
      " lstm_2 (LSTM)                  [(None, 300, 512),   2099200     ['lstm_1[0][0]']                 \n",
      "                                 (None, 512),                                                     \n",
      "                                 (None, 512)]                                                     \n",
      "                                                                                                  \n",
      " lstm_4 (LSTM)                  [(None, None, 512),  1574912     ['embedding_2[0][0]',            \n",
      "                                 (None, 512),                     'lstm_2[0][1]',                 \n",
      "                                 (None, 512)]                     'lstm_2[0][2]']                 \n",
      "                                                                                                  \n",
      " attention_layer (AdditiveAtten  (None, None, 512)   512         ['lstm_4[0][0]',                 \n",
      " tion)                                                            'lstm_2[0][0]']                 \n",
      "                                                                                                  \n",
      " concat_layer (Concatenate)     (None, None, 1024)   0           ['lstm_4[0][0]',                 \n",
      "                                                                  'attention_layer[0][0]']        \n",
      "                                                                                                  \n",
      " dense_1 (Dense)                (None, None, 15000)  15375000    ['concat_layer[0][0]']           \n",
      "                                                                                                  \n",
      "==================================================================================================\n",
      "Total params: 64,963,736\n",
      "Trainable params: 64,963,736\n",
      "Non-trainable params: 0\n",
      "__________________________________________________________________________________________________\n"
     ]
    }
   ],
   "source": [
    "# 어텐션 적용\n",
    "from tensorflow.keras.layers import AdditiveAttention\n",
    "\n",
    "# 어텐션 층(어텐션 함수)\n",
    "attn_layer = AdditiveAttention(name='attention_layer')\n",
    "\n",
    "# 인코더와 디코더의 모든 time step의 hidden state를 어텐션 층에 전달하고 결과를 리턴\n",
    "attn_out = attn_layer([decoder_outputs, encoder_outputs])\n",
    "\n",
    "\n",
    "# 어텐션의 결과와 디코더의 hidden state들을 연결\n",
    "decoder_concat_input = Concatenate(axis=-1, name='concat_layer')([decoder_outputs, attn_out])\n",
    "\n",
    "# 디코더의 출력층\n",
    "decoder_softmax_layer = Dense(tar_vocab, activation='softmax')\n",
    "decoder_softmax_outputs = decoder_softmax_layer(decoder_concat_input)\n",
    "\n",
    "# 모델 정의\n",
    "model = Model([encoder_inputs, decoder_inputs], decoder_softmax_outputs)\n",
    "model.summary()"
   ]
  },
  {
   "cell_type": "markdown",
   "metadata": {
    "id": "kEs1YMn_TWcr"
   },
   "source": [
    "### 8-8 모델 훈련하기"
   ]
  },
  {
   "cell_type": "code",
   "execution_count": null,
   "metadata": {
    "colab": {
     "base_uri": "https://localhost:8080/"
    },
    "executionInfo": {
     "elapsed": 3023606,
     "status": "ok",
     "timestamp": 1653201449047,
     "user": {
      "displayName": "changhwan lee",
      "userId": "04303211996600941657"
     },
     "user_tz": -540
    },
    "id": "lFl-6c84TUc3",
    "outputId": "1e8c1892-5196-4878-ef0e-54ef1a4249ae"
   },
   "outputs": [
    {
     "name": "stdout",
     "output_type": "stream",
     "text": [
      "Epoch 1/50\n",
      "281/281 [==============================] - 218s 725ms/step - loss: 4.1652 - val_loss: 3.7331\n",
      "Epoch 2/50\n",
      "281/281 [==============================] - 201s 714ms/step - loss: 3.8332 - val_loss: 3.6136\n",
      "Epoch 3/50\n",
      "281/281 [==============================] - 200s 713ms/step - loss: 3.6395 - val_loss: 3.4296\n",
      "Epoch 4/50\n",
      "281/281 [==============================] - 200s 712ms/step - loss: 3.4201 - val_loss: 3.2973\n",
      "Epoch 5/50\n",
      "281/281 [==============================] - 200s 713ms/step - loss: 3.2507 - val_loss: 3.2066\n",
      "Epoch 6/50\n",
      "281/281 [==============================] - 200s 713ms/step - loss: 3.1122 - val_loss: 3.1591\n",
      "Epoch 7/50\n",
      "281/281 [==============================] - 200s 712ms/step - loss: 2.9795 - val_loss: 3.0802\n",
      "Epoch 8/50\n",
      "281/281 [==============================] - 200s 713ms/step - loss: 2.8555 - val_loss: 3.0426\n",
      "Epoch 9/50\n",
      "281/281 [==============================] - 201s 714ms/step - loss: 2.7415 - val_loss: 3.0117\n",
      "Epoch 10/50\n",
      "281/281 [==============================] - 200s 713ms/step - loss: 2.6314 - val_loss: 3.0038\n",
      "Epoch 11/50\n",
      "281/281 [==============================] - 200s 712ms/step - loss: 2.5237 - val_loss: 2.9866\n",
      "Epoch 12/50\n",
      "281/281 [==============================] - 200s 713ms/step - loss: 2.4178 - val_loss: 2.9876\n",
      "Epoch 13/50\n",
      "281/281 [==============================] - 201s 714ms/step - loss: 2.3233 - val_loss: 2.9729\n",
      "Epoch 14/50\n",
      "281/281 [==============================] - 201s 715ms/step - loss: 2.2299 - val_loss: 2.9848\n",
      "Epoch 15/50\n",
      "281/281 [==============================] - 200s 714ms/step - loss: 2.1361 - val_loss: 2.9962\n",
      "Epoch 15: early stopping\n"
     ]
    }
   ],
   "source": [
    "# 모델 훈련하기\n",
    "model.compile(optimizer='rmsprop', loss='sparse_categorical_crossentropy')\n",
    "es = EarlyStopping(monitor='val_loss', patience=2, verbose=1)\n",
    "history = model.fit(x=[encoder_input_train, decoder_input_train], y=decoder_target_train, \\\n",
    "          validation_data=([encoder_input_test, decoder_input_test], decoder_target_test), \\\n",
    "          batch_size=256, callbacks=[es], epochs=50)"
   ]
  },
  {
   "cell_type": "code",
   "execution_count": null,
   "metadata": {
    "colab": {
     "base_uri": "https://localhost:8080/",
     "height": 268
    },
    "executionInfo": {
     "elapsed": 327,
     "status": "ok",
     "timestamp": 1653201496584,
     "user": {
      "displayName": "changhwan lee",
      "userId": "04303211996600941657"
     },
     "user_tz": -540
    },
    "id": "KfyMHUZfTgu5",
    "outputId": "76e81462-a447-49fa-b9ef-09a57cbfa2ad"
   },
   "outputs": [
    {
     "data": {
      "image/png": "[encoded data removed]",
      "text/plain": [
       "<Figure size 432x288 with 1 Axes>"
      ]
     },
     "metadata": {
      "needs_background": "light"
     },
     "output_type": "display_data"
    }
   ],
   "source": [
    "# 학습과정 시각화\n",
    "plt.plot(history.history['loss'], label='train')\n",
    "plt.plot(history.history['val_loss'], label='test')\n",
    "plt.legend()\n",
    "plt.show()"
   ]
  },
  {
   "cell_type": "markdown",
   "metadata": {
    "id": "epjrFel3fSXQ"
   },
   "source": [
    "### 8-9 인퍼런스 모델 구현"
   ]
  },
  {
   "cell_type": "code",
   "execution_count": null,
   "metadata": {
    "id": "5cVF7OokfOc1"
   },
   "outputs": [],
   "source": [
    "src_index_to_word = src_tokenizer.index_word # 원문 단어 집합에서 정수 -> 단어를 얻음\n",
    "tar_word_to_index = tar_tokenizer.word_index # 요약 단어 집합에서 단어 -> 정수를 얻음\n",
    "tar_index_to_word = tar_tokenizer.index_word # 요약 단어 집합에서 정수 -> 단어를 얻음\n"
   ]
  },
  {
   "cell_type": "code",
   "execution_count": null,
   "metadata": {
    "id": "8Y3GjrEOfZVx"
   },
   "outputs": [],
   "source": [
    "# 인코더 설계\n",
    "encoder_model = Model(inputs=encoder_inputs, outputs=[encoder_outputs, state_h, state_c])\n",
    "\n",
    "# 이전 시점의 상태들을 저장하는 텐서\n",
    "decoder_state_input_h = Input(shape=(hidden_size,))\n",
    "decoder_state_input_c = Input(shape=(hidden_size,))\n",
    "\n",
    "dec_emb2 = dec_emb_layer(decoder_inputs)\n",
    "\n",
    "# 문장의 다음 단어를 예측하기 위해서 초기 상태(initial_state)를 이전 시점의 상태로 사용. 이는 뒤의 함수 decode_sequence()에 구현\n",
    "# 훈련 과정에서와 달리 LSTM의 리턴하는 은닉 상태와 셀 상태인 state_h와 state_c를 버리지 않음.\n",
    "decoder_outputs2, state_h2, state_c2 = decoder_lstm(dec_emb2, initial_state=[decoder_state_input_h, decoder_state_input_c])\n"
   ]
  },
  {
   "cell_type": "code",
   "execution_count": null,
   "metadata": {
    "id": "WC8BdgJzfgY3"
   },
   "outputs": [],
   "source": [
    "# 어텐션 함수\n",
    "decoder_hidden_state_input = Input(shape=(text_max_len, hidden_size))\n",
    "attn_out_inf = attn_layer([decoder_outputs2, decoder_hidden_state_input])\n",
    "decoder_inf_concat = Concatenate(axis=-1, name='concat')([decoder_outputs2, attn_out_inf])\n",
    "\n",
    "# 디코더의 출력층\n",
    "decoder_outputs2 = decoder_softmax_layer(decoder_inf_concat) \n",
    "\n",
    "# 최종 디코더 모델\n",
    "decoder_model = Model(\n",
    "    [decoder_inputs] + [decoder_hidden_state_input,decoder_state_input_h, decoder_state_input_c],\n",
    "    [decoder_outputs2] + [state_h2, state_c2])\n"
   ]
  },
  {
   "cell_type": "code",
   "execution_count": null,
   "metadata": {
    "id": "L2CmVFF3fnNy"
   },
   "outputs": [],
   "source": [
    "def decode_sequence(input_seq):\n",
    "    # 입력으로부터 인코더의 상태를 얻음\n",
    "    e_out, e_h, e_c = encoder_model.predict(input_seq)\n",
    "\n",
    "     # <SOS>에 해당하는 토큰 생성\n",
    "    target_seq = np.zeros((1,1))\n",
    "    target_seq[0, 0] = tar_word_to_index['sostoken']\n",
    "\n",
    "    stop_condition = False\n",
    "    decoded_sentence = ''\n",
    "    while not stop_condition: # stop_condition이 True가 될 때까지 루프 반복\n",
    "\n",
    "        output_tokens, h, c = decoder_model.predict([target_seq] + [e_out, e_h, e_c])\n",
    "        sampled_token_index = np.argmax(output_tokens[0, -1, :])\n",
    "        sampled_token = tar_index_to_word[sampled_token_index]\n",
    "\n",
    "        if (sampled_token!='eostoken'):\n",
    "            decoded_sentence += ' '+sampled_token\n",
    "\n",
    "        #  <eos>에 도달하거나 최대 길이를 넘으면 중단.\n",
    "        if (sampled_token == 'eostoken'  or len(decoded_sentence.split()) >= (summary_max_len-1)):\n",
    "            stop_condition = True\n",
    "\n",
    "        # 길이가 1인 타겟 시퀀스를 업데이트\n",
    "        target_seq = np.zeros((1,1))\n",
    "        target_seq[0, 0] = sampled_token_index\n",
    "\n",
    "        # 상태를 업데이트 합니다.\n",
    "        e_h, e_c = h, c\n",
    "\n",
    "    return decoded_sentence"
   ]
  },
  {
   "cell_type": "markdown",
   "metadata": {
    "id": "5cLh15dPf15Z"
   },
   "source": [
    "### 8-10 모델 테스트"
   ]
  },
  {
   "cell_type": "code",
   "execution_count": null,
   "metadata": {
    "id": "kt7e2DYwf024"
   },
   "outputs": [],
   "source": [
    "# 원문의 정수 시퀀스를 텍스트 시퀀스로 변환\n",
    "def seq2text(input_seq):\n",
    "    temp=''\n",
    "    for i in input_seq:\n",
    "        if (i!=0):\n",
    "            temp = temp + src_index_to_word[i]+' '\n",
    "    return temp\n",
    "\n",
    "# 요약문의 정수 시퀀스를 텍스트 시퀀스로 변환\n",
    "def seq2summary(input_seq):\n",
    "    temp=''\n",
    "    for i in input_seq:\n",
    "        if ((i!=0 and i!=tar_word_to_index['sostoken']) and i!=tar_word_to_index['eostoken']):\n",
    "            temp = temp + tar_index_to_word[i] + ' '\n",
    "    return temp\n"
   ]
  },
  {
   "cell_type": "code",
   "execution_count": null,
   "metadata": {
    "colab": {
     "base_uri": "https://localhost:8080/"
    },
    "executionInfo": {
     "elapsed": 21671,
     "status": "ok",
     "timestamp": 1653201753836,
     "user": {
      "displayName": "changhwan lee",
      "userId": "04303211996600941657"
     },
     "user_tz": -540
    },
    "id": "9-KV_2_uf_lM",
    "outputId": "f4951bcb-95e5-403f-d456-2217519dc7e0"
   },
   "outputs": [
    {
     "name": "stdout",
     "output_type": "stream",
     "text": [
      "원문 : 괴산군이 지난 자연휴양림 세미나실에서 괴산고추축제 개최했다 이날 보고회에는 이차영 군수 신동운 군의장 군의원 장재영 위원 부서장 면장 명이 참석했다 보고회에서는 먼저 지난해 증가한 만여 명의 방문객이 다녀가며 억원의 판매 매출을 올린 점이 지역경제 활성화에 도움이 것으로 분석했다 각종 행사에서는 찾아라 등이 방문객들로부터 가장 많은 호응을 얻었고 신규 프로그램인 아이들에게 인기를 끌었다 특히 지역민 화합을 위해 지난해부터 다시 시작된 기관단체 등의 다양한 주제의 공연으로 풍성하게 장식한 것으로 평가됐다 여기에 표현되는 공간에 의미를 부여해 다양성을 확장한 고추 관련 먹거리를 다양화해 방문객의 입맛을 사로잡은 등도 긍정적인 점수를 받았다 다만 축제 주제와 연관이 없는 프로그램의 중장기적 발전전략 개발 축제 참여 트렌드 변화에 프로그램 업그레이드 등은 다음 축제의 보완할 점으로 지적됐다 이차영 보고회에서 나온 다양한 의견을 내년 축제에 적극 반영해 더욱 알찬 축제로 만들어 나가겠다고 말했다 \n",
      "실제 요약 : 괴산 개최 \n",
      "예측 요약 :  영동\n",
      "\n",
      "\n",
      "원문 : 서울경제 영화 검은 장재현 감독이 신흥 소재로 영화 사바하 만에 돌아온다 달리 불교의 이미지를 차용한 미스터리 스릴러다 서울 강남구 신사동 사바하 열렸다 장재현 감독을 비롯해 배우 이정재 박정민 참석했다 감독은 사바하 라는 말은 불교 나오는 주문을 마지막에 사바하 라는 말을 소원을 바라는 마음을 담는 용어다 말하자면 같은 것이라며 영화 사바하 미스터리 스릴러다 연구소를 운영하는 목사가 불교 계열의 벌어지는 설명했다 감독은 사바하 에서도 전작 검은 마찬가지로 부각했다 이번에도 다수의 남성과 약자인 소녀가 등장한다 감독은 검은 세계관을 담고 있다고 수도 있지만 사실 안에 요소가 많았다 그때 대해 공부하면서 됐다 관심이 사바하 까지 같다고 말했다 검은 남자 명이 극을 이끌고 약자인 여성이 나온다고 있지만 시나리오를 때는 명의 캐릭터가 함께 싸우는 이야기로 했다며 이번에도 비슷한 보일 있지만 뒤로 갈수록 것이라고 귀띔했다 이정재는 추운 겨울에 강원도에서 열심히 관심을 요청했다 시나리오를 받고 너무 좋아서 소식을 들었을 정말 기뻤다 좋은 전부 표현할 말했다 사바하 애정을 드러냈다 사바하 이게 영화다 감독은 오늘 새벽에 작업을 모두 마무리했다 동안 정말 열심히 해왔다며 재미있게 봐달라고 요청했다 한편 사바하 오는 개봉한다 \n",
      "실제 요약 : 사바하 스릴러 이정재 박정민 기대 없는 영화 \n",
      "예측 요약 :  세븐틴 개봉 확정\n",
      "\n",
      "\n",
      "원문 : 만의 국제농구연맹 월드컵 조별리그 승은 다음을 됐다 이제 이후 처음으로 이길 있느냐에 도전한다 한국은 중국 우한 체육관에서 열린 농구월드컵 차전을 졌다 조별리그를 최하위로 마쳤다 추모하는 검은 테이프를 부착하고 나왔지만 대회 실점을 허용하고 말았다 한국은 위와 농구월드컵 결정 차전을 치른다 한국은 결정전 승리 순위 결정 라운드 결정전 승으로 조별리그 아픔을 있다 농구월드컵 마지막 경기에서 대패를 막지 못했다 사진 대한민국농구협회 한국은 맞아 쿼터는 근소한 쿼터 전반을 마친 것이 뼈아팠다 한국은 으로 확정됐다 나이지리아는 좋은 팀들이 즐비한 한국은 세계 아르헨티나 러시아와의 농구월드컵 상대로 높이 열세를 한층 실감했다 간판스타 라건아는 리바운드 도움 리바운드 도움으로 힘을 거리가 멀었다 미국프로농구 경기 실력을 한국에 보여줬다 \n",
      "실제 요약 : 한국 완패 \n",
      "예측 요약 :  한국 한국 감독 감독 승리\n",
      "\n",
      "\n",
      "원문 : 대통령 직속 국토교통부가 정기 국회 공공건축 특별법 제정을 계획 설계 시공 감리 공공건축 절차를 새로이 구축한 이번 특별법은 건축가 중심의 공공건축 변화를 예고했다 국토부는 대상으로 총괄건축가 확산과 공공건축 디자인 개선 주요 추진현황을 설명하는 자리를 가졌다 위원장 인을 비롯해 민간 인과 당연직 위원을 포함해 이내로 구성되는 건축분야 유일의 범부처 위원회로 위원장은 대통령이 이날 정책 추진 현황을 직접 설명한 승효상 위원장은 국내 공공건축 전반을 관리하는 공공건축 특별법 제정을 준비 중이며 가능하면 한두 안에 가능할 것이라고 밝혔다 현재 전국 지자체에 총괄건축가 도입을 확산하고 공공건축 공모 설계자 선정 시공 이르는 단계를 촘촘하게 관리해 공공 건축물의 적정 품질을 보장하기 위한 특별법 제정을 준비 중이다 특별법 제정을 필두로 국토부와 건축가 중심의 공공건축 발주 설계 시공 시스템을 만들기 위한 가지 제도 추진할 방침이다 당장 직접적 영향을 것으로 기대되는 항목은 폐지 지자체 사업의 디자인 관리기준 마련 디자인 감리 도입 억원 이상 공공건축물 설계용역 배제 등이다 이들 사안은 건축설계 업계에서 오랜 시간 요구해 위원들 임기가 끝나기 전에 관련 제도 개선을 마무리 지을 계획이다 하지만 디자인 현장에서 적정 수준의 권한을 확보할 있을지는 여전히 미지수다 대형 건축사사무소 대표는 현재 총괄 아틀리에 중심의 건축가들이 있으며 이들의 현재의 건설산업 구조를 부정하는 데서 현장에서 얼마나 합리적으로 없다고 우려했다 소규모 운영하는 이들도 우려를 마찬가지다 건축사사무소 대표는 폐지는 일단 절대적으로 환영하는 근본적 개선을 위해서는 지자체의 사업비 손을 대야 하는데 추진과제 대부분이 어젠다 수준이라며 디자인 현장에서 강제할 만큼의 권한과 적정한 대가를 주지 않으면 의미가 크지 않다고 지적했다 \n",
      "실제 요약 : 특별법 입법 추진 \n",
      "예측 요약 :  국회 국회\n",
      "\n",
      "\n",
      "원문 : 중장년층의 올림픽으로 불리는 아시아 태평양 마스터즈 대회 유치전에 뛰어 들었다 전국체전과 치르며 충분한 기반시설을 갖춘 장점을 살린 결과는 이르면 월께 결정된다 익산시는 오는 열리는 아시아 태평양 마스터즈 대회를 유치하기 위해 철저한 준비에 나서는 행정력을 집중하고 있다고 밝혔다 년에 번씩 개최되는 아시아 태평양 마스터즈 대회는 참가 연령이 평균 세로 중장년층의 올림픽 으로 불린다 대회는 국가대표 은퇴 선수와 선수 아마추어 선수 남녀노소 누구나 참가 가능하다 올해 말레이시아에서 개최될 대회에는 개국에서 만여명의 선수단이 참가한다 육상과 양궁 배드민턴 농구 사이클 축구 골프 하키 넷볼 펜칵실랏 사격 수영 탁구 태권도 배구 역도 종목으로 대회를 개최할 예정이지만 개최국 사정에 맞게 일부 조정이 가능하다 대회에 참가자들이 직접 등록비 만원 상당의 내고 각자 해결해야 하기 때문에 대회 유치의 경제적 효과가 상당하다 익산시는 전국체전을 치르며 이미 갖춰진 기반시설을 활용하면 없이 대규모 국제대회를 치를 있다는 장점을 집중 계획이다 익산시는 이미 적극적인 유치전에 뛰어든 전라북도와 공조체계를 구축해 대회를 주관하는 설득해 나갈 예정이다 오는 제출해 결정될 전망이다 아울러 익산시는 성공적으로 치른 경험을 살려 적극적인 스포츠 마케팅에도 나설 방침이다 관계자는 익산시가 체육 도시로 더욱 발돋움할 있도록 도시 브랜드를 강화할 계획이다며 아시아 태평양 마스터스 대회 유치에 적극 나서고 있다고 말했다 \n",
      "실제 요약 : 익산시 아시아 태평양 대회 유치 도전 \n",
      "예측 요약 :  제주\n",
      "\n",
      "\n",
      "원문 : 지난 광화문 교보생명 본사에서 열린 교보생명 이노스테이지 데모데이 에서 윤열현 교보생명 사장이 오픈이노베이션 전시된 부스 전시장을 둘러보고 있다 교보생명이 스타트업의 혁신적인 아이디어를 활용한 신규 사업모델 개발에 적극 나서고 있다 교보생명은 지난 서울 광화문 교보생명 본사에서 교보생명 이노스테이지 데모데이 열고 선발된 스타트업의 성과와 개발 현황을 공개했다고 밝혔다 이날 데모데이는 유망 스타트업과의 사업 연계 후속투자 유치를 위해 마련됐다 이노스테이지 선발 스타트업이 참여해 각사 고유의 비즈니스 모델을 소개하고 함께 개발한 공동 시연했다 교보생명은 지난 보험과 헬스케어 등의 분야에 적용될 새로운 사업모델을 보유한 스타트업을 선발했다 이들 사업화에 적합한 솔루션을 제시한 스타트업과 협업을 통해 신규 서비스를 개발했다 데모데이를 통해 공개된 교보생명의 스타트업 번째 개인 건강 헬스케어 서비스 파트너사는 인공지능 음식 사진 인식기술 솔루션 개발한 이다 기존 솔루션을 탑재해 식사 패턴을 분석하고 식습관 개선을 유도하는 건강관리 플랫폼을 강화할 예정이다 사업모델을 활용해 고객들에게 아이돌봄 선생님 매칭 서비스 제공하는 제시됐다 개인별 맞춤형 푸드 큐레이션 서비스를 제공하는 아침 식사 자판기 등도 설치돼 이목을 끌었다 이외에도 일부 직원들에게 중년 남성 패션 서비스를 체험하는 기회도 제공됐다 교보생명은 다양한 스타트업과의 협업을 통해 종합적인 라이프케어 확대할 계획이다 아울러 오픈 활용한 스타트업과의 보험금 청구 간소화와 소액 투자 기회까지 제공하는 핀테크 플랫폼 개발 방안 등도 소개됐다 \n",
      "실제 요약 : 교보생명 스타트업과 협업 헬스케어 서비스 개발 \n",
      "예측 요약 :  신한카드 디지털 생태계 영입\n",
      "\n",
      "\n",
      "원문 : 청주시 계획수립 홍보 전국 시간 접근 가능 인력 공급 최적 환경 충청일보 박재남기자 충북 청주시가 지역경제 활성화를 위해 투자유치 목표액을 억원으로 정하고 투자유치 종합계획을 수립하는 투자유치에 총력을 기울인다 시는 미분양 있는 오창 산업단지를 분양하고 수도권 소재 기업을 대상으로 발굴 업체 방문을 통한 투자설명회 등을 통해 수도권 기업유치에 나설 예정이며 투자유치를 촉진하기 위해 지원도 확대할 계획이다 청주는 오송역 청주공항 전국 시간대 접근이 가능한 사통팔달의 보건의료 있는 국가전략 사업의 중심지로 자연재해에 안전하고 우수한 인력을 안정적으로 공급할 있는 최적의 투자환경을 자랑한다 시는 이런 점을 담은 여부를 제작해 업체에 발송하고 적극 활용하기로 했다 분야별로는 바이오의약 화장품 정보통신 지역 전략산업 유치에 주력할 계획이며 충북도 코트라와 협조해 외국인 투자기업 유치에도 힘쓸 예정이다 현재 부족한 산업용지 확보와 미래 기업 수요에 적극 대비하기 위해 옥산 산업단지 등의 조성과 관련 인프라 구축을 조속히 추진해 산업용지를 안정적으로 공급하고 대규모 투자가 가능한 발굴해 기업들의 활발한 투자를 유도할 계획이다 투자가 계획대로 진행될 있도록 행정적 지원과 사후관리를 강화하고 투자기업에 대한 다양한 시책을 발굴해 최적의 투자환경 인프라를 구축한다 청주시 투자유치과장은 세계적 불황과 대내 외의 불확실성 불리한 시청 협업체계를 구축해 지역경제 활성화를 위한 기업유치를 위해 힘쓰겠다고 말했다 \n",
      "실제 요약 : 올해 투자 유치 \n",
      "예측 요약 :  청주시 조성\n",
      "\n",
      "\n",
      "원문 : 과학기술정보통신부가 지난 프랑스 열린 세계적인 방송콘텐츠 컨퍼런스 에서 한국 홍보관 운영해 국내 제작사가 제작한 초고화질 콘텐츠의 우수성을 알렸다고 밝혔다 국내 방송 제작사는 초고화질 콘텐츠 편을 출품했다 만달러 규모의 콘텐츠 투자 구매 상담과 건의 해외투자 유치 성과를 거뒀다 특히 올해는 한국의 콘텐츠 홍보하기 위해 콘텐츠 전시와 별도로 콘텐츠 마련했다 프랑스 미디어 그룹은 한반도의 자연을 다룬 초고화질 다큐멘터리의 국제 위해 달러 규모의 체결하고 폴란드의 미디어와 주제로 다큐멘터리를 공동 제작하기로 하고 달러 유치 계약을 체결했다 캐나다 배급사 글로벌 영국 배급사 국제 위한 컨설팅 네트워크 형성에 관한 업무협약을 체결해 향후 콘텐츠에 대한 해외진출 지원을 북미 지역까지 확대해나갈 방침이다 과기정통부 관계자는 이번 행사에선 세계시장을 무대로 한국 콘텐츠의 뛰어난 기획 확인할 있었다며 월에 개최될 글로벌 네트워킹 데이 등을 통해 유통 지원을 지속해 나갈 것이라고 말했다 프랑스에서 매년 월경 개최되는 세계 최대 규모의 콘텐츠 마켓으로 매년 여개국에서 여개 여명의 참가한다 과학기술정보통신부가 일부터 일까지 프랑스 열린 세계 에서 운영한 한국 모습 \n",
      "실제 요약 : 과기정통부 세계적 방송콘텐츠 한국의 초고화질 콘텐츠 알려 \n",
      "예측 요약 :  텔레콤 컨퍼런스 컨퍼런스 개최\n",
      "\n",
      "\n",
      "원문 : 서울경제 텔레콤이 인공지능 기반의 미디어 품질개선 솔루션 슈퍼노바 세계 최대 모바일 전시회 에서 선보인다 텔레콤은 스페인 바르셀로나에서 열리는 에서 공개한다고 밝혔다 행사장 커넥티드 팩토리 부스에 활용한 반도체 제조공정 혁신 모델을 전시하고 방송 콘텐츠를 결합한 솔루션을 공개할 예정이다 영상이나 화질을 개선해 서비스 품질을 높이고 줄여 주는 기술이다 영상 음성 데이터를 처리하는 딥러닝 알고리즘 기반의 초고해상도 기술을 적용하면서 가능해진 서비스다 이용하면 카메라로 촬영한 영상 산업용 장비의 센서가 감지한 이미지를 다양하게 분석할 있다 텔레콤은 지난해 하이닉스 반도체 품질평가 공정에 슈퍼노바 시범 적용했고 이후 지속적인 성능 개선 효과를 거뒀다 슈퍼노바 적용 웨이퍼 이미지를 검사하는 걸리는 시간이 획기적으로 줄었다 지난해 월에는 인터넷 적용한 이후 방송사가 원본 영상을 단계 높은 화질로 시청자에게 제공할 있게 됐다 이는 기반 미디어 품질 향상 기술이 적용된 국내 최초 텔레콤은 엔터테인먼트의 미디어 데이터베이스에 접목해 미디어 파일의 음질을 수준으로 끌어올리는 기술 등도 선보일 계획이다 보안 서비스에 적용해 지능형 촬영한 영상 식별하는 기술도 고도화할 예정이다 \n",
      "실제 요약 : 에서 기반 미디어 솔루션 공개 \n",
      "예측 요약 :  네이버 자율주행 플랫폼 플랫폼 오픈\n",
      "\n",
      "\n",
      "원문 : 화요일 현재 코스닥 상장사인 에이치엘비생명과학 종목은 작성시간기준 코스닥시장 현재가 원에 거래되고 있다 현재 거래금액은 전일대비 상승한 금액이며 상승했다 업종별 상승주식 정보에너지장비및서비스업종 상위권을 차지하고 있는 종목들에 대해 알아보자 등락률 위를 차지한 이시간 등락률은 현재 이며 원에 거래되고 있다 해당 종목의 매수호가는 매도호가는 원이다 등락률 위인 이시간 등락률은 이며 원에 거래되고 있다 해당 종목의 매수호가는 매도호가는 원이다 등락률 등락률은 이며 원에 거래되고 있다 해당 종목의 매수호가는 매도호가는 원이다 \n",
      "실제 요약 : 에너지장비및서비스업종내 상승종목 에이치엘비생명과학 에스에너지 \n",
      "예측 요약 :  에너지장비및서비스업종내 상승종목 젬백스지오 젬백스지오\n",
      "\n",
      "\n",
      "원문 : 최근 년간 당뇨병 건으로 다양화와 개선 필요성 제기 충북일보 서울 당뇨병 환자들의 소모성 재료 대한 청구 개선해야 한다는 필요성이 제기됐다 더불어민주당 오제세 의원은 오후 국회의원회관 세미나실에서 당뇨병 개선 정책토론회 주제로 도입에 관한 각계 전문가들의 의견을 모으는 자리를 마련했다 의원은 자리에서 최근 당뇨병 년에는 반해 불과 년만인 년에는 원으로 이상 증가하고 있다며 이토록 폭발적인 증가로 인한 다양화와 개선이 필요하다고 강조했다 현재 인슐린 주사 등에 필요한 소모성 재료 전산 청구가 가능하나 일반 의한 이러한 초래하고 있으며 이에 민원도 폭증하고 있는 상황이다 또한 이러한 시스템으로 인해 처방전 서류의 가리기 힘들 아니라 서류 작성의 착오로 인하여 당뇨병 환자와 피해를 보는 사례가 발생하고 업무 부담이 늘어나는 부작용이 발생하고 있다 의원은 오늘 토론회에서 당뇨병 환자들과 최소화 있는 방안이 마련되길 바란다며 오늘 논의된 내용이 정책에 반영될 있도록 국회에서 최선의 노력을 다하겠다고 말했다 \n",
      "실제 요약 : 오제세 당뇨병 개선 토론회 \n",
      "예측 요약 :  충남도의회 의원 근절\n",
      "\n",
      "\n",
      "원문 : 충청일보 배명식 파업을 즉시 철회하고 교육현장에 촉구했다 협의회는 이날 성명서를 통해 합법적 내세워 학생들의 급식 학습권을 침해하는 행위는 어떤 경우에도 정당화될 없다며 이같이 요구했다 단체는 차원이라는 주장은 이해가 되나 결과가 학생들에게 미칠 사회적 심리적 영향이 매우 크다는 사실을 잊어서는 된다며 학생들이 행복하게 학습에 임할 있는 기회를 박탈하는 행동이라고 지적했다 이어 파업에 참가한 조합원 또한 자녀를 키우는 부모로서 학부모의 마음을 이해하고 있다면 절대로 있을 없는 행위라며 비정규직 차별 개선과 임금 인상 요구 학생들의 기본권을 외면하는 자신들의 이득을 위한 무책임한 태도에 강조했다 협의회는 절제 소통 과정을 확립하고 민주적 절차로 상생을 학생 급식과 돌봄 중요성을 감안하면 파업은 없고 학생을 볼모로 극단적인 선택은 누구에게도 인정받지 못한다고 주장했다 이어 교육부와 도교육청은 매년 되풀이되는 파업의 악순환을 막을 있는 예측 가능한 근본 대책을 수립해 학교 급식과 자녀 돌봄 교육 활동이 않도록 하라고 덧붙였다 \n",
      "실제 요약 : 파업 \n",
      "예측 요약 :  상산고 자사고 전교조 요구\n",
      "\n",
      "\n",
      "원문 : 충남 아산신도시 탕정지구 블록에 탕정지구 지웰시티 푸르지오 분양한다 단지는 지하 지상 개동 전용면적 가구 규모다 시공은 대우건설이 맡는다 전용면적별로 가구 가구 가구 가구 등으로 이뤄진다 단지가 들어서는 아산신도시 탕정지구 현재 가구가 향후 가구에 달하는 주거타운으로 조성될 예정이다 앞서 탕정지구 지웰시티 푸르지오 차는 지난 순위 청약 당시 평균 높은 경쟁률을 기록하며 단기간 완판된 역사가 있다 이번에 공급되는 탕정지구 지웰시티 푸르지오 못지않게 우수한 입지여건을 갖췄다 단지 중심 반경 거리에 완공 예정인 수도권 전철 호선 탕정역이 있는 초역세권 입지로 이동할 있다 생활 편의시설도 풍부하다 천안아산역 주변의 이마트 트레이더스 갤러리아백화점 롯데마트 이마트 모다아울렛 등의 대형 비롯해 조성중인 연면적 규모의 탕정역 지웰시티몰 탕정지구 단지와 인접해 있다 단지 바로 유치원과 초등학교 예정부지가 있어 가능하고 중학교 예정 부지도 도보권에 있다 천안과 아산지역 일대 명문 자사고인 인근에 위치해 있으며 반경 정도 거리에 배방지구 등이 있다 단지에서 반경 이내에 삼성디스플레이 아산 캠퍼스 코닝정밀소재 등이 아산디스플레이시티 일반산업단지가 있어 빠른 출퇴근이 가능하다 아산디스플레이시티 일반산업단지 탕정일반산업단지 등도 조성 예정에 있어 배후수요는 더욱 증가할 전망이다 견본주택은 충남 천안시 서북구 불당동 번지에 위치해 있으며 개관할 예정이다 입주는 예정이다 \n",
      "실제 요약 : 탕정지구 지웰시티 푸르지오 분양 \n",
      "예측 요약 :  탕정지구 지웰시티 푸르지오 분양\n",
      "\n",
      "\n",
      "원문 : 광화문 광장 만여명 제정으로 혁신 서울 광화문 광장에서 선포식 개최했다 선포식에는 전국 간호사 재외 만여 명이 참석한 가운데 시상식 문화행사 선포식 활동 보고 문화행사 순으로 진행됐다 이번 행사를 주최한 회장은 개회사를 통해 광화문 광장에서 선포식을 개최한 이유는 세계보건기구가 보편적 실현에 기여하는 세계 간호사를 격려하고자 년을 간호사의 해로 이를 국민에게 알리고 기념하기 말했다 이어 세계에서 유래를 찾기 힘든 저출산 고령화로 인해 현재 복지 시스템에 지속가능한 것인지 엄중한 고민과 해법이 필요하다고 덧붙였다 그러면서 치료 중심에서 예방과 만성질환 관리로 공급자 중심에서 환자 중심으로 병원 기관 중심에서 지역사회 네트워크 중심으로 보건의료 혁신이 시급하다며 우리 해법이 시작될 있음을 선언한다고 강조했다 또한 회장은 제정으로 라는 슬로건 아래 중점과제를 선포했다 이날 이낙연 국무총리는 영상을 통해 축하를 전하면서 혁신을 위한 제안을 정책에 밝혔다 이낙연 국무총리는 여러분의 제안을 정부가 정책에 여러분의 의견을 바탕으로 지역사회 통합돌봄 시스템을 취약지역 간호사 인건비 지원을 통해 간호 인력의 수급 불균형을 완화하고 건강보험 수가 개선이 간호사 이어지도록 점검하고 확인하겠다고 말했다 \n",
      "실제 요약 : 선포식 개최 \n",
      "예측 요약 :  대한민국 간담회 개최\n",
      "\n",
      "\n",
      "원문 : 권홍우 논설위원 올해 일부터 시작됐다 오는 일까지 계속되는 대상자는 대부분 올해 받아야 하는 포함해 모두 여명이다 모든 대상인 심리검사 혈액 소변 검사 혈압 등을 실시된다 이를 통해 간질환 간염 심혈관계 질환 등을 확인할 있다 결과와 본인이 작성한 지참한 진단서 등으로 내과와 외과 과목별로 질환 유무를 면밀히 살펴본다 병력이 있거나 현재 질환을 앓고 있는 한해 실시된다 병무청 관계자는 올해는 모든 도입해 쌍둥이 강화했고 당화혈색소 검사를 시범 실시해 당뇨 질환을 정확성을 높였다고 밝혔다 장소는 병무청 홈페이지에서 휴대전화 인증 공인인증서 등을 통해 본인이 직접 선택할 있다 복무 가능 여부를 판단하기 위한 판정하는 이외에도 청년이 생애 있는 개념으로 강한 안보와 청년들의 건강 증진에 기여하기를 기대한다고 밝혔다 \n",
      "실제 요약 : 올해 천여명 시작 생애 발전 \n",
      "예측 요약 :  겨울철 사망자 발생\n",
      "\n",
      "\n",
      "원문 : 여명 넘을 것으로 추정 국책사업 협조 결과는 식당 주민 피해 도미노 충청투데이 김영 국립 건설공사에 자재를 업체들이 수개월 동안 밀린 돈을 받지 못한 것으로 나타났다 조성에 조경 목을 씨는 지난 월부터 소나무와 단풍나무 그루 이상을 전체 금액 만원 잔금 원을 받지 못했다고 주장했다 그러면서 피해를 입은 사람들이 명으로 이들이 받지 못한 돈을 모두 합하면 억원이 넘을 것으로 추정한다고 밝혔다 다른 업체 관계자 씨는 인해 지역 업체와 주민들이 피해를 입고 있다며 생각을 못하고 공사에 지금은 뿐이라고 말했다 자재 아니라 식비 만원을 받지 못한 식당 억울함을 호소했다 씨는 소장이 해서 밥을 이제 와서 하니 너무 억울함을 호소했다 보훈처 관계자는 공사대금을 이미 하도급 업체가 서로 책임을 미루고 있어 문제가 되고 있다고 주장했다 관계자는 하도급 업체와 협의 중이며 걸려 있어 대금 지급이 원활하지 못하고 있다고 말했다 수개월째 대금을 받지 못한 이들은 앞으로 공사대금을 받기 위해 업체 물론 항의 방문을 이어가기로 했다 \n",
      "실제 요약 : 괴산 밀린 공사대금 달라 \n",
      "예측 요약 :  최근 년간\n",
      "\n",
      "\n",
      "원문 : 전북현대 유스팀 선수들이 정상에 오른 기념촬영을 하고 있다 시즌을 앞두고 유스 이룬다 전북 유스 선수 전원이 제주도 서귀포 일원에서 합동 실시한다고 밝혔다 팀은 오는 일부터 일까지 운동장 등에서 훈련을 실시하고 팀은 일까지 훈련과 등을 통해 조직력을 합동 훈련은 유럽 선진 유소년 도입했다 훈련 등이 가능해 선수들에게 동기부여와 심어줄 있다 또한 연령별 코칭스태프 간의 소통이 원활하고 훈련 운영 관련 내용을 공유할 있어 일원화된 유스 팀의 구축할 있다는 장점이 있다 전북은 이번에 실시하는 합동 통해 경험과 성장의 기회를 창출할 것으로 기대를 하고 있다 지난 일에는 합동훈련 출발에 앞서 유스 선수 전원이 나서 위한 의지를 다졌다 감독은 리옹 연수 시절 보고 우리 유스 싶었다 구단에서 이해하고 아낌없이 감사하다며 전북 유스 팀이 함께 성장하고 시너지 효과를 있는 기회가 되도록 최선을 하겠다고 말했다 전북 프로 팀에 합류한 코치를 대신해 감독이 지휘봉을 잡았다 코치를 감독으로 선임해 지도자 개편을 완성했다 \n",
      "실제 요약 : 전북 유소년 합동 실시 유럽 도입 \n",
      "예측 요약 :  제천\n",
      "\n",
      "\n",
      "원문 : 열린 개발자 콘퍼런스 행사에서 삼성 홍원표 대표가 발언하고 있다 삼성 개최했다고 밝혔다 올해로 회째를 맞는 행사는 개발자 생태계 확장을 위해 삼성 보유한 최신 기술과 개발 노하우를 공유하는 콘퍼런스다 소프트웨어 개발자 연구원 박사 대학생 여명이 참석한 이날 콘퍼런스에서 삼성 기술 동향과 실제 적용 사례 등을 공유했다 삼성 최고기술책임자는 기조 강연에서 신사업 아이디어 공모 통한 산학 연계 프로그램 전문 전략 투자 등을 포함하는 삼성 이노베이션 프레임워크 소개했다 이날 삼성 기술인 인공지능 블록체인 클라우드 데이터 분석 보안이 적용된 기술 플랫폼과 이를 통한 혁신 사례도 함께 발표했다 이어 삼성 자체 개발한 개발 가속화 기술 소개했다 데이터 분석 모델을 적용하기 위해 데이터를 분석하는 과정 분류를 위한 작업에 가장 많은 시간을 개발 가속화 기술은 데이터 자동화해 전체 데이터 분석 작업의 줄여준다 또한 기술은 메모리 자원을 많이 사용하는 딥러닝 모델 선정 작업 시간을 줄이기 위해 데이터 맞는 딥러닝 모델을 자동 개발 생산성을 삼성전자 스마트폰 메시지 챗봇 서비스를 글로벌 시장에 빠르고 안정적으로 배포 운영하기 위해 모델을 적용한 사례를 소개했다 홍원표 삼성 대표는 오픈소스 공개 개발자 콘퍼런스 개발자 생태계 활성화를 위해 했다 \n",
      "실제 요약 : 삼성 개발자 콘퍼런스 개최 개발 가속화 기술 공개 \n",
      "예측 요약 :  삼성 블록체인 디지털 혁신 혁신 혁신 혁신\n",
      "\n",
      "\n",
      "원문 : 최근 대학본부 회의실에서 평생 교육과 연구에 후학을 양성한 명의 교수에 대해 정년 행사를 가졌다고 밝혔다 이날 행사를 통해 교수 교수 교수와 교수에게 그동안의 노고에 감사를 표하는 전달했다 특히 교수는 교수는 교수는 지난 부임한 이래 역임하고 위원으로 활동했다 또한 스승의 수상하고 가공용 쌀을 이용한 산업화 연구과제 등을 수행해 연구와 학문 발전에 기여했다 교수는 지난 임명된 이후 역임했고 스승의 수상했다 이와 함께 갈대 생태 연구 연구 연구과제 수행 등을 통해 연구와 학문 발전에 공헌했다 교수는 지난 부임한 이후 역임했고 스승의 수상했다 아울러 소재의 미학적 성과 연구과제 수행 등을 통해 연구와 학문 발전에 기여했다 교수는 지난 임명된 이후 사회과학대학 역임했으며 등으로 활동하면서 지역 영유아 보육 발전의 기틀을 마련했다 스승의 수상했고 순천대학교 연구과제 수행 등을 통해 연구와 학문 발전에 공헌했다 \n",
      "실제 요약 : 순천대 교수 정년 진행 \n",
      "예측 요약 :  호남대 사회공헌 프로젝트 펼쳐\n",
      "\n",
      "\n",
      "원문 : 경기 광명시 도서관이 특성화 옷을 입고 시민 공유 공간으로 거듭난다 시는 지역 문화적 특성과 시민의 의견을 반영 주제별 특성화 도서관을 운영한다 독서동아리 활성화 특화 공간 조성으로 시민들이 소통하고 공감하는 지역 공동체 공간으로 만들 계획이다 시는 년부터 주제를 정해 철학 예술 특화해 운영하고 있다 주제별 자료 특화 서비스로 집중적으로 도서를 구입 절감하고 해당 주제 분야 이용편의를 위해 서비스를 운영하여 시민의 호응을 얻고 있다 시는 도서관 기존대로 운영하고 나아가 도서관이 책을 보관하고 대여하는 장소를 넘어 도서관의 질적 혁신을 기대하는 사회적 분위기에 맞춰 시민의 의견을 반영한 새로운 특성화 주제를 선정했다 지난달 일부터 도서관 이용 시민 백여 명을 대상으로 설문조사를 실시했다 최종 결정된 특성화 주제는 반려동물 미디어 청소년 이다 시는 아닌 지역주민과 소통하고 공감하며 차별화된 도서관 운영을 위해 해당분야 지속적으로 확충하고 연계된 다양한 프로그램을 운영할 계획이다 아울러 특성화 정체성을 강화하기 위해 별도 설치할 예정이다 리모델링 공사 새롭게 조성하여 운영하고 하반기 중에 녹음 갖춘 신규 조성할 계획이다 시는 주제별 특성화 운영과 더불어 도서관 소속 동아리를 차별화 활성화 하고자 도서관 특성과 밀접한 집중 양성할 계획이다 박승원 시장은 시민의 의견이 반영되어 도서관 특성화 결정된 것은 시민이 도서관의 스스로 나은 도서관을 만들기를 마음이 반영된 것이라며 앞으로도 도서관이 지역의 시민의 선도할 있도록 다양한 사업을 추진하겠다고 약속했다 \n",
      "실제 요약 : 광명시 도서관 시민 공유 공간으로 거듭난다 \n",
      "예측 요약 :  군포시 시민 시민 최종보고회 최종보고회 개최\n",
      "\n",
      "\n",
      "원문 : 리얼미터 유권자 조사 반등 기록 서울 충청일보 이득수기자 문재인 대통령의 국정 지지도가 지난 주간의 오름세를 마감하고 하락했다 리얼미터가 의뢰로 지난 전국 이상 유권자 명에게 조사한 결과 주차 대통령 국정 지지도는 지난주보다 내려간 기록했다 대통령의 국정 지지도는 주차 에서 주차 연속 상승세를 국정 수행 부정평가는 오른 나타났다 이에 따라 부정평가가 긍정평가를 부정과 격차는 뛰어넘었다 리얼미터는 이같은 지난주 후반 북한의 방사포 발사 여파 청와대 국정감사 파행 논란 독도 헬기 사고 대입 정시확대 논란 자영업자 감소 경제 어려움 미국의 주한미군 방위비 증액 압박 대일 논란 조국 법무부 장관 압수수색 검찰 소환 가능성 각종 부정적 보도가 확대된 것으로 풀이된다고 분석했다 이념 진보층에서 긍정평가가 중반으로 떨어졌고 보수층에서는 부정평가가 다시 대를 넘어섰다 중도층에서는 긍정평가가 후반으로 상승하고 상승했다 정당 더불어민주당이 내린 주째 하락세를 보였다 자유한국당은 지난 동안의 하락세를 멈추고 반등해 오른 기록했다 한국당은 중도층 대와 이상 서울과 충청권 상승했다 바른미래당도 대를 회복하고 만에 정의당을 앞섰다 정의당은 대로 떨어졌다 이번 조사의 표본오차는 신뢰수준에서 자세한 조사 개요와 결과는 리얼미터 또는 중앙선거여론조사심의위원회 홈페이지에서 확인할 있다 \n",
      "실제 요약 : 대통령 국정 지지율 주만에 하락 \n",
      "예측 요약 :  대통령 지지율 지지율 상승 반대\n",
      "\n",
      "\n",
      "원문 : 정부는 고령자가 소유한 노후주택을 연금 형식으로 매입하고 해당 주택은 리모델링해 공공임대주택으로 활용하는 정책이 본격적으로 시행된다 국토교통부는 오는 연금형 희망나눔주택 사업의 주택 실시한다고 밝혔다 연금형 희망나눔주택 사업은 노후주택을 한국토지주택공사가 매입해 매각대금을 매월 지급하고 해당 주택은 재건축 또는 리모델링 저소득 청년 고령자에게 공공임대주택으로 공급하는 방식이다 작년 시범 추진했던 사업은 기존 이상에서 세로 낮추고 보유 대한 제한을 폐지하는 당시보다 확대했다 신청 희망자는 신청서 관련서류를 작성해 일부터 일까지 지역본부에 방문 우편 또는 인터넷으로 접수하면 된다 신청 이후에는 현장 실태조사를 통해 입지여건 주택 상태 권리관계 등을 종합적으로 검토한 선정 매매계약을 진행하며 신청자는 주택 기간을 년에서 사이에서 자유롭게 선택할 있다 주택을 매도한 자가 공공임대주택 입주자격을 충족하는 경우 본인이 매도해 리모델링 재건축한 주택 또는 인근 지역의 매입 입주할 있게 했다 국토부 이번 사업으로 안정된 노후를 보장하고 미래를 준비할 있는 저렴한 임대주택을 효과적으로 제공할 있을 것이라고 말했다 \n",
      "실제 요약 : 국토부 고령자 노후주택 \n",
      "예측 요약 :  국토부 공공지원 민간임대주택 민간사업자 공모\n",
      "\n",
      "\n",
      "원문 : 방배 모습 일반 비해 일반분양 물량이 많은 단독주택 관심을 받고 있다 학교 공원 도로 기반시설 좋은 데다 선호도 높은 호수 당첨 가능성이 높기 때문이다 주택업계에 따르면 단독주택 재건축은 노후 다세대 다가구 연립주택 등을 허물고 아파트를 짓는 해당 지역 노후 이상일 경우 안전진단 대상에서 제외돼 사업 속도가 아파트 빠르다 미비 지역에서 추진하는 차이가 있다 무엇보다 주택 지역을 개발하는 만큼 일반 많다는 가장 장점이다 단독주택 재건축 사업장은 높은 편이다 지난 대구 부천 재건축해 공급된 이안 부천 동대구 비스타동원 각각 평균 경쟁률로 순위 청약에서 마감됐다 하반기에도 단독주택을 재건축하는 신규 물량이 적잖이 공급될 예정이다 대표적인 사업장으로는 서구 재건축 편한세상 두류역 강서구 등촌동 재건축 서초구 방배동 단독주택 재건축 방배 구역 재건축 등이 있다 관계자는 단독주택 재건축은 아파트 일반 많고 중소 주택형 비율도 높아 실수요자들이 일반적으로 지역 기반이 탄탄한 곳에 공급되는 만큼 높고 찾는 수요가 많아 담보가치 상승률도 높다고 말했다 \n",
      "실제 요약 : 선호 당첨 가능성 높은 단독주택 재건축 눈길 \n",
      "예측 요약 :  서울 아파트 정비사업 입주\n",
      "\n",
      "\n",
      "원문 : 공정거래위원회는 수급사업자의 하도급 대금을 부당하게 깎은 건설사 검찰에 했다 공정위는 부당한 하도급 대금 결정 감액 부당특약 설정 하도급 대금 지급 불공정 하도급 거래를 과징금 만원과 시정명령을 부과하고 법인과 대표를 했다고 밝혔다 공정위에 따르면 지난 월부터 월까지 수급사업자에게 불공정 하도급 거래 행위를 저질렀다 우선 경쟁입찰로 수급사업자에게 건의 건설공사를 통해 최저가 입찰 금액보다 낮게 하도급 대금을 매겼다 이렇게 낮춘 금액만 만원에 이른다 수급사업자 곳의 계약금 만원을 부당 했다 하도급 거래 과정에서 발생한 민원처리 비용을 수급사업자가 모두 하는 설정했다 이는 원사업자가 부담해야 민원처리 산업재해 등과 관련된 비용을 수급사업자에게 약정 금지한 하도급거래 공정화에 관한 법률 위반이다 이뿐 아니라 하도급대금 지급보증을 하지 않거나 계약 체결일로부터 일을 넘겨 지급보증을 했다 일을 넘겨 하도급 대금을 초과한 날에 대한 지연이자 만원을 지급하지 않았다 \n",
      "실제 요약 : 억원대 하도급대금 공정위 검찰 고발 \n",
      "예측 요약 :  공정위 과징금 만원 부과\n",
      "\n",
      "\n",
      "원문 : 지역경제 활성화 기틀 활성화 기틀 마련 서울경제 경남도가 지역경제 활성화 기반이 산업용지 수급 안정을 위해 행정력을 집중하고 있다 경남도는 최근 국토교통부와 최종 협의를 거쳐 년도 신규 산업단지 지구 규모를 지정했다고 밝혔다 지난해 군에서 요청한 지구를 대상으로 입지여건 분석 입주 수요 사업시행자 자격요건 등을 종합적으로 고려한 국토부의 수요 검증과 심의 단계의 엄격한 심사와 심의를 거친 것이다 현재 도내에는 산업단지가 지정돼 있다 단지는 조성이 완료 업체가 여명을 고용해 운영 중이고 단지는 개발 단계다 특히 최근 자금 입주 수요 부족 등으로 사업이 부진한 점을 감안 올해 신규 지정 대상지 선정은 실수요자가 개발하는 지구를 우선적으로 지정했다 산업단지 지정 절차는 사업시행자가 산업단지 사업계획을 수립 승인 신청을 하면 주민설명회 환경영향평가 관련기관 협의 등의 절차를 이행하고 최종적으로 심의를 거쳐 지정 여부를 결정하게 된다 경남도 이번에 계획된 신규 지정 대상 이외에도 입주 수요가 확실하고 등이 마련돼 사업 가능한 대상지가 있을 경우에는 국토부와의 협의를 통해 신규 지정 물량에 추가로 반영할 계획이라며 산업용지를 적기에 공급해 고용창출을 도모하고 지역경제 활성화의 기틀을 마련해 나가겠다고 말했다 \n",
      "실제 요약 : 경남도 산단 지정 \n",
      "예측 요약 :  대전시 부지 부지 건립\n",
      "\n",
      "\n",
      "원문 : 전남 화순군은 지난 서울 서초구 주관한 기술 부문에서 농업기술센터 우수상을 받았다고 밝혔다 농업기술 개발과 보급을 선도하며 한국 농업의 국가 경쟁력을 높이고 농가소득 향상에 크게 이바지한 발굴해 위한 상이다 상은 연구 부문과 기술 부문 분야에서 수상자를 선정했다 농업기술센터 기후변화대응 아열대 작목 실증연구 보급 딸기 조기 수확을 위한 연구과제 추진과 기술보급 등을 통한 농가 소득 증대 생산비 절감 지속가능한 농업을 실현한 공로를 인정받아 기술 부문에서 우수상을 받았다 지난 임용된 팀장은 지난 취득하며 딸기 토마토 아열대 작물 다양한 작물 실증사업을 추진해 농업 생산비 절감과 농가 소득 증진에 이바지했다 특히 지난 년과 지난 농촌진흥청이 주관한 프로젝트 우수단지 심사에서 군이 딸기 분야에서 연속 역할을 했다 이번 수상을 밑거름 삼아 농업인이 현장에서 필요로 하는 농업기술 개발과 실증연구 등을 통해 제정 취지인 한국 농업의 국가 경쟁력 제고와 농가소득 향상을 위해 최선을 다하겠다고 말했다 \n",
      "실제 요약 : 화순군 우수상 수상 \n",
      "예측 요약 :  대한민국 수상\n",
      "\n",
      "\n",
      "원문 : 은행별 항공사 제휴 현황 항공 마일리지 대금 지급 규모 아시아나항공이 은행에 항공 마일리지를 판매해 억원의 수입을 거둔 것으로 나타났다 국회 정무위원회 소속 고용진 의원에 따르면 대한항공과 아시아나항공이 판매한 것은 지난 년부터 올해 기간 대한항공은 국민 신한 팔아 만원의 수입을 거둔 것으로 조사됐다 아시아나항공은 국민 신한 만원의 마일리지를 팔았다 소비자가 항공 마일리지 적립이 가능한 제휴 금융 서비스를 이용하면 항공사는 은행이 미리 구매해 놓은 마일리지를 해당 고객에게 지급한다 항공사들은 항공 마일리지 제공을 무상 서비스라고 실제로는 제휴를 통한 마일리지 판매가 항공사의 수익 사업이라고 의원 측은 설명했다 앞서 대한항공과 아시아나항공은 국내 카드사를 대상으로 억원의 항공 마일리지 판매 이익을 얻은 사실이 확인되기도 했다 년부터 올해 월까지 대한항공이 카드사에 마일리지를 판매해 억원의 수익을 아시아나항공은 카드사를 상대로 억원의 수익을 올렸다 또한 항공사들은 자체적으로 마일리지 유효기간을 년으로 소멸 시효 관한 내용을 약관에 포함하지 않아 공정거래위원회가 위법성 여부를 조사 중이다 의원은 항공 마일리지의 사용 용도와 범위가 오랜 기간 마일리지를 적립한 소비자들의 불편과 불만이 크다며 항공 마일리지 유효기간을 없애고 허용해 소비자가 권리를 쉽게 행사할 있게 해야 한다고 말했다 \n",
      "실제 요약 : 대한항공 아시아나 마일리지 장사 은행에 팔아 년간 수입 거둬 \n",
      "예측 요약 :  공정위\n",
      "\n",
      "\n",
      "원문 : 옥천 청산 안내판 설치 옥천군 청산면 비석 개가 개의 서있다 옥천군 청산면 비석 개가 개의 서있다 시간동안 바람과 빗물에 새겨져 있는 글자를 알아보기 힘들어 주민과 방문객들은 내용에 대해 매우 궁금해 하고 있었다 이에 옥천군에서는 군비 만원을 투입해 청산 천년 찾기 연구용역을 발주하고 옥천군 청산면 청성면 일원의 무형 문화유산 조사해 결과로 내용을 조선 때부터 충청도 또는 부임한 감사 마을에 선정을 당시 공적을 잊지 않기 위한 등으로 밝혀졌다 옥천군은 밝혀진 내용을 토대로 방문객과 주민 그리고 후대에 전할 있도록 군비 만원으로 안내판을 제작 설치했다 비석 기의 특징을 그려 번호를 부여하고 한자의 달아 누구나 쉽게 알아볼 있도록 제작했다 관계자는 시간 역사를 알려주는 이제야 설치돼 군민 방문객들에게 죄송하다는 말씀을 드린다며 앞으로도 군에 산재한 문화재 안내가 필요한 문화재에 안내판을 설치해 옥천군을 찾아오는 방문객들에게 정보를 제공하는데 최선을 다하겠다고 말했다 \n",
      "실제 요약 : 잃어버린 \n",
      "예측 요약 :  영동군 시신 최초 오픈\n",
      "\n",
      "\n",
      "원문 : 초청 선수로 출전한 아마추어 미국여자프로골프 투어 한다 오픈 첫날 펄펄 호주 비치 골프 코스에서 열린 대회 라운드에서 언더파 타를 쳤다 보기 없이 버디 개를 무결점 플레이를 선보인 단독 선두 뒤진 공동 위에 이름을 올렸다 대회가 치러지는 코스 가운데 코스 번홀에서 이날 경기를 시작한 번홀과 번홀에서 버디를 낚아채며 초반부터 기세를 올렸다 행진을 이어가며 기회를 엿본 번홀과 번홀에서도 버디를 추가했고 전반에만 타를 줄였다 후반에도 흔들리지 않았다 연속 행진을 벌이다 마지막 번홀에서 버디를 보태며 언더파를 완성했다 올해 고등학교 학년이 되는 지난달 우승을 차지하며 이번 대회 초청 출전권을 획득했다 지난해 한국여자프로골프 투어 네트웍스 서울경제 레이디스 클래식 하이트 진로 챔피언십에 출전하며 경험치를 쌓은 이번 대회 첫날 돌풍을 일으키며 투어 챔피언에 오를 기회를 잡았다 단독 선두에는 언더파 타를 작성한 존슨이 자리했고 홀인원을 기록한 오수현은 언더파 타를 적어내며 공동 위에 올랐다 시즌 개막전 준우승자 언더파 타를 치며 공동 위에 포진했고 투어 최연소 퀄리파잉 합격자 전영인은 오버파 타로 위로 라운드를 마무리했다 \n",
      "실제 요약 : 펄펄 아마추어 오픈 언더파 돌풍 \n",
      "예측 요약 :  투어 오픈 총상금 오픈\n",
      "\n",
      "\n",
      "원문 : 현대자동차는 외장 디자인을 변경하고 편의사양을 강화한 아이오닉 하이브리드 플러그인을 출시한다고 밝혔다 현대차는 동급 최초로 인치 디스플레이 내비게이션 차로 유지 보조 고속도로 주행 보조 등을 적용해 상품성을 높였다 특히 별도 적용하지 않아도 안드로이드 오토 애플 사용할 있도록 인치 디스플레이 오디오를 기본 적용했다 가장 상위 적용할 있던 전방 충돌 경고 전방 충돌방지 보조 차로 이탈 경고 차로 이탈방지 보조 운전자 주의 경고 전방 차량 출발 알림 지능형 트림에 기본 장착했다 리어 적용하고 입체적인 패턴이 더해진 메쉬 타입 라디에이터 그릴 주간주행등 신규 컬러가 적용된 리어 범퍼 신규 디자인 등으로 역동적인 이미지를 구현했다 실내에는 시트 적용한 클러스터 하우징 온도 터치 타입을 적용했다 아울러 터치 타입 공조 컨트롤 쾌적한 실내 공기를 위한 마이크로 에어 필터 등을 트림에 적용하는 한편 최상위 적용해 고급스러움을 더했다 모델별 가격은 하이브리드 트림 만원 트림 만원 트림 만원 플러그인 트림 만원 트림 만원이다 \n",
      "실제 요약 : 현대차 출시 만원부터 \n",
      "예측 요약 :  현대차 년형 출시\n",
      "\n",
      "\n",
      "원문 : 모델 발레리나 변신이 담긴 화보가 화제다 지난달 자신의 인스타그램에 패션 매거진 함께 진행한 화보를 공개했다 어릴 일을 했다 가장 장점을 누구보다 알고 있었다 모델 그저 소울 있으면 된다는 하지만 나이가 들면서 기본이 않으면 쉽게 깨달았다 무너지지 않는 몸의 중심을 잡기 위해 년간 필라테스를 하고 요가와 웨이트 트레이닝을 병행하고 있다 그리고 본질적 움직임을 만들어낼 있도록 도전한 것이 적었다 이번 촬영을 위해 요가를 예전부터 배우고 싶었다 어느 프로와 차이는 작은 몸을 사용하고 움직이는 본질적 변화를 시도하고 싶었다며 모습을 보였다 앞서 자신의 인스타그램에 신고 있는 모습을 공개한 있다 장면 또한 이번 화보를 준비하는 것으로 알려지며 누리꾼들의 호응을 받았다 한편 년을 마무리하는 화보는 패션 매거진 보그 월호를 통해 확인할 있다 \n",
      "실제 요약 : 변신 독보적 \n",
      "예측 요약 :  결혼\n",
      "\n",
      "\n",
      "원문 : 글로벌 체인 호텔 도약을 위한 걸음을 뗐다 오는 일부터 그룹의 글로벌 전략에 따라 리조트 변경하고 적용할 브랜드도 발표했다 가장 변화는 여년간 간판으로 활용된 대명 모두 신규 브랜드인 점이다 이탈리아어로 의미한다 지난 문을 프리미엄 가진 유산을 기반으로 글로벌 호텔과 리조트 시장에서의 꿈을 실현하겠다는 경영진의 의지가 반영됐다고 측은 설명했다 리조트는 기반으로 빌리지 호텔 리조트 호텔 리조트 호텔 리조트 구성됐다 호텔 리조트 기존 처럼 독립 브랜드로 운영된다 리조트는 공식 개편에 들어갔다 리조트 홈페이지 고급스러움과 한층 세련되고 디자인을 적용했으며 앞으로 시인성을 높인 예약 화면과 고객 친화적인 메뉴 구성 등을 순차적으로 업데이트할 방침이다 대명그룹 부회장은 이번 브랜드 변경이 글로벌 체인 리조트로 도약하는 오리엔탈 넘어 글로벌 체인 개를 목표로 키우겠다고 강조했다 부회장은 이어 미주 유럽 아시아 지역에 이름을 알리고 세계인이 사랑하는 글로벌 브랜드로 키워 나가겠다고 덧붙였다 \n",
      "실제 요약 : 리조트 사명 변경 글로벌 리조트 잰걸음 \n",
      "예측 요약 :  오픈\n",
      "\n",
      "\n",
      "원문 : 사우디아라비아 법원이 언론인 살해 혐의로 기소된 피고인 명에게 사형을 명에게 징역형을 내렸다고 보도됐다 미국 워싱턴포스트 지난해 터키 이스탄불 주재 사우디 개인 사우디 정부 소속 의해 잔인하게 사우디 유력 살해 사건의 배후로 무함마드 살만 왕세자가 사우디 정부는 강력히 부인해왔다 미국 무함마드 왕세자가 지시한 것으로 보고 있다 사우디 검찰은 지난해 살해 사건에 직간접적으로 연루된 용의자 명을 기소하고 명에 대해 사형을 구형했다 당시 사우디 검찰이 발표한 수사 결과에 따르면 사우디 무함마드 왕세자의 최측근인 아흐메드 그러나 이날 법원에서 증거 불충분으로 석방됐다 무함마드 왕세자의 수석 역시 용의 선상에 올랐지만 사우디 검찰은 않았다 미국 정부는 사건과 관련해 제재 명단에 올렸다 사건으로 구속기소된 무함마드 이스탄불 이날 무죄가 석방됐다 \n",
      "실제 요약 : 사우디 법원 명에 사형 선고 \n",
      "예측 요약 :  대법 위반\n",
      "\n",
      "\n",
      "원문 : 의료기기 전문기업 스위스 기업인 인터내셔널 당화혈색소 주문자상표부착생산 공급 계약을 체결했다고 밝혔다 계약조건은 년간 만달러 규모다 현지 네트워크를 구축하고 있는 인터내셔널은 비롯해 여개에 이르는 제품을 생산하는 글로벌 의료기기 전문기업이다 이번 계약으로 인터내셔널이 보유한 자체 영업망을 활용해 당화혈색소 시스템 전체를 공급하게 된다 인터내셔널은 지난 의약품 의료기기 생산시설을 현재 알제리 시장 점유율 위를 기록하고 있다 회사는 이번 계약이 향후 시장 선점과 점유율 확대로 이어지길 기대하고 있다 녹십자엠에스 대표는 유럽과 만큼 향후 북아프리카 시장 확대에도 도움이 것으로 기대한다며 이번 계약과 같은 사업 다각화가 국내외 시장에서 수익성 이어질 것이라고 말했다 한편 기존 제품과 달리 혈액 샘플 채취 당화혈색소 측정 결과 모든 과정이 이뤄져 신뢰도와 사용자 편의성을 높인 제품이다 \n",
      "실제 요약 : 녹십자엠에스 시장 진출 \n",
      "예측 요약 :  두산밥캣 인수 완료\n",
      "\n",
      "\n",
      "원문 : 현대자동차가 카운티 미술관과 중국 상하이 미술관의 협업 전시 지원으로 중국에서 문화예술 파트너십을 확대한다 현대차는 년부터 장기 파트너십을 맺어온 카운티 미술관과 중국 상하이 미술관에서 문화예술 파트너십 활동을 확장한다고 밝혔다 현대차는 이번 파트너십을 통해 미술관 파트너십을 알리는 전시 비롯해 앞으로 이어질 전시와 다양한 고객 프로그램을 후원하게 된다 이번 파트너십은 미술관 설립자 부디 지난해 공동 설립한 재단 재단 기반으로 추진되고 운영될 예정이다 전시 프로그램 컬렉션 관리 전반을 미술관이 공동 현대차는 개막 전시를 비롯한 전시 후원 프로그램 운영을 함께 진행한다 중국 상하이 미술관 전경 사진 베이징을 통해 이미 중국 혁신적인 문화예술 프로그램을 선보인 있는 현대차는 향후 다양한 전시와 프로그램을 통해 현지 글로벌 고객과 소통할 예정이다 이번 신규 파트너십 프로젝트를 통해 최근 상하이 문화예술계의 빠른 변화와 발전에 기여할 있길 바란다며 많은 고객에게 색다른 경험을 선사할 있을 것으로 기대한다고 말했다 오는 개막하는 미술관이 공동 기획한 전시는 시각 예술 또는 헐리우드 영화의 제작 현장이 지난 년간 어떠한 모습으로 보여주는 현대미술 전시다 소장품 영화 영상 분야와 연계된 명의 현대미술 작가의 작품들로 구성됐다 \n",
      "실제 요약 : 현대차 문화예술 파트너십 확대 상해 미술관 전시 지원 \n",
      "예측 요약 :  현대차 글로벌 체결\n",
      "\n",
      "\n",
      "원문 : 제이준코스메틱은 자회사인 현지 유통 네트워크 확대를 본격 추진하며 몽골 시장 진출을 밝혔다 올해부터 자회사인 제이준 안정적인 성장세를 유지하고 있다 제이준 몽골 시장 공략을 위해 지난 몽골 현지 법인 설립을 완료했다 한국 유통사인 이마트가 몽골에 진출해 있어 이마트와 함께 몽골 현지 주요 유통채널 입점을 추진할 예정이다 몽골의 지역 소비 특성을 고려해 경쟁력 있는 화장품은 물론 라이프스타일을 고려한 다양한 제품군으로 지역 맞춤형 전략을 추진한다는 방침이다 우선 국내에서 높은 판매 추이를 보이고 있는 펩타이드 에센스 비롯한 코스메틱 제품과 건강기능식품 이너뷰티 제품을 중심으로 브랜드 인지도 시장 경쟁력을 확대할 계획이다 특히 국내 최초로 미국 로부터 인증을 획득한 성분이 함유된 프리미엄 라인업을 강화할 예정이다 회사 관계자는 전형적인 대체로 춥고 강해 여성들의 피부가 건조해 수요가 많다면서 최근 몽골에서 건강 트렌드가 확산되는 추세인데 한국 화장품과 성분과 기능성 신뢰도와 인기가 높아 제이준 경쟁력 있는 다양한 제품들을 기반으로 현지 시장에 빠르게 진입할 계획이라고 설명했다 팝과 영화 드라마 한류 열풍으로 한국 브랜드에 대한 호감도가 높은 시장으로 알려져 있다 인구 만의 작은 시장이지만 없어 생필품 소비재 이상을 수입하고 있다 특히 차지할 정도로 각축전이 벌어지고 있으나 몽골 한국 뷰티 트렌드를 인기를 끌고 있다 몽골 관세청에 따르면 한국의 화장품 수출액이 억원에서 지난해 억원을 기록하며 증가세를 이어가고 있다 작년 몽골 화장품 한국 점유율은 프랑스에 이어 위였다 프랑스 제품 향수 제품임을 고려할 한국은 기초 색조 화장품 제품이 달해 한국 화장품에 대한 선호도와 성장 가능성이 크다는 것이 회사 측의 설명이다 제이준 대표는 떠오르는 신흥 시장인 몽골 진출을 통해 해외 사업의 노하우를 확보는 물론 제이준 만의 제품력과 마케팅 역량을 검증 받는 좋은 기회가 것이라며 몽골에서 우선 성공적인 진출 성과를 이루고 앞으로도 성장 잠재력이 높은 신흥시장 진출을 통해 글로벌 기업으로 성장해 나갈 계획이라고 밝혔다 \n",
      "실제 요약 : 제이준코스메틱 자회사 몽골 진출 본격화 화장품 시장 공략 \n",
      "예측 요약 :  중국 진출 시장 공략 박차\n",
      "\n",
      "\n",
      "원문 : 넷마블은 지난 분기 연결 재무제표 기준 영업이익이 억원으로 전년 동기 대비 감소했다고 밝혔다 같은 기간 매출액은 억원으로 증가했지만 순이익은 억원으로 줄었다 넷마블은 지난 분기 블레이드 소울 레볼루션 리니지 레볼루션 마블 콘테스트 오브 오브 올스타 일곱 개의 대죄 월드 등을 선보였으며 특히 일곱 개의 일본 시장에서 출시 열흘 만에 매출 위를 기록하며 매출 신장을 견인했다 지난 분기 매출 비중은 억원으로 북미 서구권 시장에서 높은 인기를 누리고 있는 마블 콘테스트 오브 비롯해 일곱 개의 대죄 일본 흥행에 기인했다 넷마블 대표는 지난 분기부터 다양한 장르의 신작을 국내와 북미 일본 성공적으로 출시하면서 글로벌 경쟁력을 한층 높이는데 주력하고 있다며 분기에는 지난 분기에 출시한 실적이 온기 반영돼 영업이익이 개선되는 본격적인 실적 턴어라운드를 기대하고 있다고 말했다 이어 비중 역시 올해 하반기에는 수준까지 지속 증가할 것이라며 하반기에도 블레이드 소울 일본 출시를 비롯해 세븐나이츠 다양한 장르의 자체 신작 출시를 준비 중이라고 전했다 \n",
      "실제 요약 : 넷마블 분기 영업이익 억원 전년 동기 \n",
      "예측 요약 :  넷마블 분기 실적 예상치 하회 목표가 신한\n",
      "\n",
      "\n",
      "원문 : 폭행이 급증하고 있는 것으로 나타났다 폭행 건수는 배나 급증했다 지난해 월에는 층간소음 민원을 않는다는 이유로 입주민에게 폭행을 당해 빠진 끝내 사망하는 사건이 발생했고 올해 월에도 서울 강남구 삼성동 아파트에서 입주자가 늦게 이유로 분간 폭행하는 아파트 대한 폭언 폭행이 심각한 수준이다 특히 년과 년에는 건이던 폭언 폭행 건수가 년에 건으로 증가했고 지난해에는 건으로 급증했다 올해도 월까지 폭언 폭행이 건이나 발생해 작년 달했다 최근 년간 대한 입주민의 폭언 관리사무소 직원에 대한 입주민의 폭언 폭행은 더욱 심각했다 년부터 올해 월까지 폭언 폭행 건수가 무려 건에 달했다 특히 폭행이 건으로 전체의 차지했다 건이나 발생했다 최근 년간 임대아파트 관리사무소 직원에 대한 입주민의 폭언 민경욱 의원은 대한 입주민의 갑질 있는 폭언 폭행이 증가하고 있는 것은 사회적인 문제라며 제도적인 처우 개선과 함께 아파트 공동체의 주민들의 필요하다고 강조했다 \n",
      "실제 요약 : 최근 년간 임대아파트 대한 입주민 급증 \n",
      "예측 요약 :  최근 년간\n",
      "\n",
      "\n",
      "원문 : 아프리카돼지열병이 국내 처음으로 발생한 경기 파주시 발병 농장에서 관계자들이 살처분 작업을 하고 있다 아프리카돼지열병은 발생하는 바이러스성 질병으로 경우 치사율 백신이 개발돼 있지 않아 대부분 국가에서 살처분 정책을 시행하고 있다 아프리카돼지열병 확산 우려가 커지면서 정부가 발생 농가 주변에 대한 예방적 살처분 범위를 기존 에서 이내로 확대했다 농림축산식품부는 확산을 차단하기 위해 번째 경기 연천 돼지농가 이내 돼지를 살처분 하기로 했다 밝혔다 아프리카돼지열병 확산방지를 위해 이내 관리지역 농장에서 즉시 돼지를 있도록 규정하고 있다 하지만 경기 파주 연천 번째 발생하자 위해 적극적인 예방적 살처분을 선택했다 발생한 연천 돼지농장 주변 이내에는 돼지 농장이 없지만 이내에는 농가에 돼지 두가 있다 연천 살처분 두는 여기에 포함되지 않았다 농식품부는 이와 함께 발생한 파주와 연천을 포함한 경기도 강원도 시군을 중점관리지역으로 선정해 고강도 방역활동에 들어갔다 이들 농가에 돼지 사육되고 있다 농식품부 관계자는 예방적 살처분 범위 확대는 확산 우려를 반영한 조치라며 지금으로서는 확산방지를 위한 철저한 차단 방역 특히 중점관리지역으로 지정된 시군을 마지노선으로 방역이 제일 중요하다고 말했다 \n",
      "실제 요약 : 아프리카돼지열병 살처분 범위 이내 확대 \n",
      "예측 요약 :  아프리카돼지열병 구제역 방역\n",
      "\n",
      "\n",
      "원문 : 부여군은 지난 일을 기해 금강 단계적으로 따라 개방에 금강 수위 모니터링을 추진하는 동시에 백제보 인근 부여읍 일원 농가의 원활한 농업용수 공급을 위해 지하수 추진한다 부여군은 지난 백제보 당시 저하로 주변의 호박 시금치 하우스에 피해가 발생하여 해당 주민들이 개방을 반대하는 개최하며 갈등을 빚은 있다 이에 군은 작년 월부터 차례의 백제보 개방 민관협의체 회의를 거쳐 그해 환경부 금강유역환경청 부여군 수자원공사 한국농어촌공사 참여하여 국비 지원으로 개방에 추진 등을 골자로 하는 백제보 개방 업무협약을 체결했다 올해 환경부가 백제보 계획을 발표하자 이어 열린 백제보 개방 주요 내용으로 하는 백제보 부여군과 항구적인 농업용수 공급을 위한 사업비 억원을 국비로 지원해줄 것을 이에 지하수 수립 추진 용수공급 타당성 조사 실시설계 추진 처리방안 세부 실행계획 수립 연구용역을 실시하여 금강의 자연성을 회복하는 방안을 마련하고 있다 단계적 개방이 따라 환경부 부여군 수자원공사 업무협약을 맺어 인근 대한 농업용수 공급을 위해 국비 억원을 투입 백제보 인근 농가에 공의 대체 관정 개발을 지원하는 방안을 대체 관정 개발을 보조금 지원사업으로 추진할 것을 부여군에 이에 부여군은 올해 부여군 금강 인한 피해지역 지원 조례 제정하여 지원 근거를 마련하였다 이달부터 부여군은 환경부 공동으로 지하수 업무협력 협약을 체결하고 본격적으로 지하수 관정 개발 지원에 착수했다 지하수 관정 개발 대상 농가는 환경부에서 수행한 백제보 주변지역 지하수 평가 연구용역 결과를 토대로 환경부와 협의하여 지하수 보조금 사업지가 군은 예산을 긴급 편성하여 이미 보조금 완료했으며 별도로 구성하여 오는 월까지 사업을 차질 없이 완료한다는 방침이다 관계자는 부여군은 백제보 원칙적으로 입장이지만 인근 농가들이 년과 같은 피해를 입는 것을 방지하기 위해 환경부의 국비 지원을 받아 해당 사업에 착수하게 되었다면서 해당 지역 주민들이 납득할 있는 객관적이고 공정한 금강을 본래의 취지가 훼손되지 않도록 면밀히 살피고 점검하겠다고 말했다 \n",
      "실제 요약 : 개방 대비 안정적 농업용수 위한 추진 \n",
      "예측 요약 :  부여군 저감 총력\n",
      "\n",
      "\n",
      "원문 : 인공지능 기반 의료 헬스케어 솔루션 전문기업 제이엘케이인스펙션은 최근 인도 퇴치 기구 자사의 인공지능 폐질환 분석 장비 제품의 체결했다고 밝혔다 제이엘케이인스펙션은 인도 정부로부터 자국 퇴치를 위한 캠페인의 참여 기업으로 선정됐다 해당 캠페인의 일환으로 협력해 오는 월부터 인도 도시 만명을 대상으로 흉부 엑스레이 검사 사업을 진행하고 확대해 나갈 계획이다 이에 따라 회사는 폐질환 분석 장비 공급할 예정이며 이를 계기로 해외 시장 진출을 가속화해 나간다는 전략이다 관련 의료기기와 인공지능 분석 솔루션을 결합한 인공지능 폐질환 분석 장비 하드웨어의 소형화 경량화 기술과 인공지능 알고리즘의 경량 노하우가 적용돼 휴대성을 높이고 상용화에 성공했다 언제 어디서나 쉽고 빠르게 흉부 촬영하고 결과를 실시간으로 분석할 있다는 것이 장점이다 일반적으로 인공지능 솔루션은 고사양의 무거운 시스템이 필요한 제이엘케이인스펙션은 핵심 요소 기술들을 일반 장비 연동 패키징 기술을 접목해 제품화 상용화에 성공했다는 설명이다 김동민 대표이사는 의료 환경이 열악한 지역을 시작으로 점진적으로 해외 시장을 개척해 나가겠다면서 인도 외에도 남아프리카공화국 진출을 앞두고 있으며 통해 싱가포르 회사의 원격 진단 플랫폼에 당사의 인공지능 솔루션을 협의하는 해외 진출의 속도를 높이고 있다고 설명했다 \n",
      "실제 요약 : 인도 분석 장비 공급 \n",
      "예측 요약 :  미래에셋대우 연속 글로벌 기반 기반 선정\n",
      "\n",
      "\n",
      "원문 : 주가가 개월여만에 넘게 올랐다 라인 네이버웹툰 주력 가치 상승이 주가에 반영되며 주가가 올랐다는 분석이다 증권업계는 월들어 목표주가를 일제히 기대감을 내비치고 있는데 주가 상승이 언제까지 이어질지 주목된다 오전 주가는 전날보다 하락한 원에 거래됐다 외국인 매물이 나오며 주가가 소폭 하락했는데 그럼에도 지난 대비로는 상승한 가격이다 초부터 이날까지 기관은 억원을 순매수한 것으로 나타났다 주가 상승은 자회사들의 성장이 주도했다는 분석이다 그동안 형태로 사업을 이를 자회사로 확장을 대한 기대감은 꾸준히 커지고 있다 증권에 따르면 사업영역 확장에 영업적자를 기록 중이나 분사 이후 기업가치 재평가가 본격화될 것으로 기대된다 증권 연구원은 네이버웹툰은 높은 성장이 지속되는 가운데 한국 미국 일본 동남아 주요 거점에서 지난해 하반기부터 본격적인 힘입어 거래대금이 빠르게 증가 추세인 것으로 파악된다고 밝혔다 이어 지난해 억원의 기록했으나 본격적으로 반영되는 년에는 적자폭이 크게 축소될 전망이라며 네이버파이낸셜 역시 커머스를 중심으로 거래대금이 꾸준히 성장 향후 협력을 통한 금융상품 판매로 사업영역 확장이 예상된다고 전망했다 기존 사업도 더욱 있다 김창권 미래에셋대우 연구원은 쿠팡과 함께 전자상거래 시장 올해 상반기 더욱 구체화되고 있다며 거래액은 상반기 증가한 것으로 추정되는 가운데 이베이코리아와 번가는 각각 기록했다고 설명했다 기존 사업이 대한 기대감이 커지는 만큼 증권업계도 목표가를 일제히 올리고 있다 지난 만원에 불과했던 목표주가는 현재 만원까지 올랐다 가장 높은 목표가를 제시한 미래에셋대우는 주가는 이후 예정인 네이버파이낸셜 가치를 반영하지 못하고 있다며 매수하는 것은 것과 같은 기회라고 판단된다고 덧붙였다 \n",
      "실제 요약 : 개월만에 넘게 오른 아직도 저평가 \n",
      "예측 요약 :  실적 개선 기대\n",
      "\n",
      "\n",
      "원문 : 정신건강복지센터 설치 운영 조례안 발의 충청투데이 이선규 충주시의회 의원들이 지난 임시회에서 건의 조례안 건을 활발한 이어가고 있다 의원이 대표발의한 충주시 금고 지정과 운영에 조례 일부개정조례안 에서는 지역경제활성화를 위한 금융기관 역할 확대와 은행간 완화를 하고자 했다 의원이 대표발의한 충주시 정신건강증진 정신건강복지센터 설치 운영에 관한 조례안 에서는 복지와 권리 예방 치료에 관한 사항과 의원이 대표발의한 충주시 관한 조례안 의료서비스 제공 규정을 마련해 요즘 부각되고 있는 시민의 도모하고자 했다 의원이 대표발의한 토론회 등의 지원에 관한 조례안 에서는 중요한 현안사항에 대해 의원이 토론회를 개최할 있도록 함으로써 시민의 다양한 의견을 수렴하고 해결방안 모색을 통해 시민을 위한 발빠른 의회를 만들겠다는 의지가 돋보였다 허영옥 의장은 앞으로도 기반과 시민의 눈과 귀가 되는 활발하게 예정이라고 밝혔다 의원발의 조례안 건은 임시회 마지막 날인 오는 본회의에서 최종 \n",
      "실제 요약 : 충주시의회 역할 톡톡 \n",
      "예측 요약 :  충북도 국회의원 건립\n",
      "\n",
      "\n",
      "원문 : 우리나라 최초 선박 설계 년간 기업을 이어온 대에 걸쳐 석회석 상품화에 인정받았다 중소벤처기업부는 서울 여의도 중소기업중앙회에서 선정된 이들 기업에게 확인서를 수여하고 격려하는 자리를 가졌다 창업 중소기업에게 바람직한 성장 제시하고 경제적 사회적 책임을 다하는 발굴해 기업들이 존경받는 문화를 조성하는 제도다 년부터 도입돼 차례에 걸쳐 기업을 선정했다 확인 받으려면 해당 업종에서 이상 사업을 유지하면서 안정적인 일자리 창출과 성실한 경제적 물론 사회공헌 사회적 기여와 혁신역량 분야에서도 높은 평가를 받아야 한다 올해 선정된 개사 지난 월부터 서면평가 현장평가 정부기관 언론 등의 심층평가 엄격한 절차를 통과한 기업들이다 국내에서 처음으로 민간 전문기업으로 창업해 년간 선박 설계와 등의 분야에서 독보적인 지위를 점하고 있다 우리나라 최초이자 유일한 비롯해 원유 석유제품 운반선 여종의 선박과 국내외 개의 초대형 조선소 건설 계획의 수립 설계에 참여했다 수출이 전체 매출액의 분의 차지하고 있고 최근에는 친환경 조선해양 기술개발에 박차를 가하고 있다 창업해 석회석 고부가가치 상품화에 드물게 대인 대표가 기업을 이끌고 있다 사료용 석회석 국내 공급량 업체로 꾸준한 성장세를 유지하면서 채광 제품 생산 접목한 연구개발에 집중 투자하고 있다 대를 이어서 지역 보육시설 학교 사회 적극적으로 참여 중이다 이들 기업은 기업과 제품 홍보 마크를 사용할 있으며 중기부 지원사업 참여 우선 선정 가점 부여 등의 혜택도 받을 있다 박영선 중기부 장관은 우리나라도 일본처럼 대를 이어 장기간 경제와 사회 발전에 기여하는 많이 탄생하고 이들 기업들이 지속적으로 성장해나갈 있도록 정부 지원을 밝혔다 \n",
      "실제 요약 : 선정 \n",
      "예측 요약 :  포스코 올해 선정\n",
      "\n",
      "\n",
      "원문 : 올해 수상자로 다카시 아사히 기자가 선정됐다 심사위원회는 역사 내세운 아베 정부가 군대 위안부 문제 강제노역 문제 과거사에 대한 일체의 반성을 거부하면서 한일 갈등을 시기에 기자를 것은 선생이 평생을 바쳐 동북아 평화를 위한 길이라고 밝혔다 기자는 일본군 위안부 출신 김학순 할머니의 확보해 문제를 최초로 보도했다 군대 위안부 실태를 확인한 소식은 사흘 김학순 할머니의 이어져 일본 정부의 사과와 배상을 요구하는 국내외 운동의 발단이 됐다 일본 정부는 기자가 대학에 압력을 넣어 그의 취업을 막는 그와 가족을 위협했다 기자는 이에 굴하지 않고 나는 기자가 아니다 라는 책을 발간해 일본 우익 세력의 부당한 공격에 반박했다 그를 비방하는 인사들을 상대로 명예훼손 소송도 전개하고 있다 최근에는 경영난에 처한 일본의 진보적 주간지 주간 금요일 맡아 일본에서 균형 잡힌 인식을 확산하기 위해 노력한다 수상 소식을 전해들은 기자는 지지 말고 힘내라 한국 생각한다라고 말했다 수상을 계기로 일본과 한국의 세력의 교류가 한층 바란다고 했다 시상식은 내달 오후 중구 프레스센터에서 선생 주기 함께 열린다 \n",
      "실제 요약 : 위안부 문제 최초 보도 기자 \n",
      "예측 요약 :  광주형 선정\n",
      "\n",
      "\n",
      "원문 : 이데일리 함지현 티몬은 명절을 앞두고 남녀 기혼자 명에게 설문을 진행한 결과 대다수가 상여금 전액을 배우자에게 공개한다고 답했다고 밝혔다 티몬에 따르면 상여금을 받은 배우자에게 얘기할 것인가를 묻는 질문에서 상여금 전액을 가장 높게 나타났다 전액 공개 답변은 다음 순위인 일부만 비밀로 가량의 차이를 보였다 공개 여부에 대한 평상시 생각을 묻는 당연히 투명하게 공개해야 가장 높았다 반대로 가능하다면 비밀로 하고 싶다는 답변은 불과했다 티몬은 마찬가지로 공개된 공동의 인식하는 비중이 것이라고 해석했다 남성보다 여성이 본인의 상여금 배우자에게 알리고 않는 비율이 이상 높았다 남성의 경우 전체 응답자의 상여금 비밀로 한다고 여성은 답했다 회사 측은 여성의 사회활동 증가와 함께 독자적인 경제권을 가지는 경우가 많아지면서 마련해 개인적으로 활용하려는 비중이 높아진 것으로 분석했다 상여금을 관해서는 응답자의 상여금을 받는다고 답했으며 금액은 만원 이하가 가장 높았다 상여금 사용 계획에 대해 묻는 질문에서는 명절 선물과 부모님 용돈 지급에 사용 가족과 레저 개인 비상금 사용 순이었다 특히 저축을 선택한 연령대는 대가 가장 많았고 위를 차지했다 상여금 이외 회사에서 지급하는 품목으로는 참치 가공식품이 가장 높았고 과일류 생활용품 적립금 또는 상품권 등이었다 아무것도 받지 못한다는 응답도 달했다 티몬은 설을 맞아 선물세트와 건강식품 여개 상품을 온라인 최저가로 판매하는 기획전을 내달 일까지 진행한다 올해 특징은 온라인 최저가 무료배송 이다 이진원 티몬 최고운영책임자는 명절을 앞두고 고객들이 부담 없이 쇼핑할 있도록 여개 상품을 선정해 가격 경쟁력을 갖출 있도록 노력했다며 고마운 분들과 나눌 있는 풍성한 바란다고 말했다 \n",
      "실제 요약 : 상여금 비밀 전액 밝힌다 \n",
      "예측 요약 :  직장인 명중\n",
      "\n",
      "\n",
      "원문 : 금융감독원은 추석 연휴기간 금융소비자가 금융서비스를 이용하는데 불편함이 없도록 다양한 금융정보를 안내해 눈길을 끈다 장거리 자동차 운행이 운행 차량 무상점검 서비스를 받고 각종 보험 특약 사항 교통사고 발생 등을 확인하는 것이 좋다 일부 금융회사는 전산시스템 교체 등으로 온라인 거래가 중단되는 경우가 있어 금융거래 미리 체크하는 것이 좋다 금감원에 따르면 연휴 기간 자동차를 이용한다면 일부 보험사에서 제공하는 차량 무상점검 서비스 이용하는 것이 좋다 현재 서비스를 제공하는 보험사는 메리츠화재 삼성화재 한화손해보험 현대해상 흥국화재 손해보험 손해보험 손해보험 개사로 서비스 이용시 각종 보충 점검 타이어 공기압 체크 등을 서비스 받을 있다 아울러 자동차보험 가입 차량 긴급출동 서비스 특약을 미리 확인해봐야 한다 차량 긴급출동 서비스는 장시간 운전 배터리 타이어 펑크 예상치 못한 상황 발생 유용하게 이용할 있다 긴급출동 서비스 가입하지 않다면 한국도로공사의 서비스를 이용하는 것도 방법이다 한국도로공사 서비스는 으로 문의하면 된다 불가피하게 일반 이용할 경우 비용이 사례가 있는데 비용 청구 전에 미리 국토교통부가 정한 대조 확인하는 것도 좋은 방법이다 한국소비자원이 운영하는 소비자상담센터 조정을 요청할 있다 자료 제공 금감원 추석 연휴 기간동안 급한 은행 업무가 필요하다면 은행이 운영하는 이동점포를 이용하면 된다 농협은행 신한은행 우리은행 하나은행 기업은행 등은 국민은행과 경남은행은 부산은행은 대구은행은 각각 이동점포를 운영한다 외국인 근로자 밀집지역 등에서 운영해 입출금 송금 환전 서비스를 제공한다 농협은행 국민카드 교보생명 생명 대신증권 개사는 추석 연휴기간 전환 작업으로 인해 일부 전자금융 서비스를 중단할 예정이다 금감원 관계자는 연휴기간 은행 탄력점포 이동점포 현황 필요한 금융서비스 정보를 쉽게 확인할 있도록 네이버 다음 온라인 매체 영등포구청 오프라인 채널 등을 통해 주요내용을 적극 홍보 전파 예정이라고 밝혔다 \n",
      "실제 요약 : 서비스 이용하세요 \n",
      "예측 요약 :  추석 앞두고\n",
      "\n",
      "\n",
      "원문 : 결혼정보회사 내달 대상으로 진행한다 이번 행사는 남녀 명씩 명의 참가자로 구성된 가운데 매회 많은 신청자가 몰린 만큼 이번 행사도 다수의 신청자가 지원할 것으로 예상된다 가연은 다양한 프로그램과 사은품을 통해 파티 분위기를 더욱 고조시킬 예정이다 고급스러운 분위기의 호텔 라운지에서 와인과 세미 뷔페를 마련 설레는 데이트 분위기를 조성한다 또한 참가자에게는 추첨을 통해 캔들 고급 와인 화장품 세트 다양한 상품을 제공할 예정이다 특히 이번 미팅 비치는 도심 호텔 특별한 만남 이란 주제로 아름다운 야경을 자랑하는 코트야드 메리어트 남대문 에서 진행된다 이번 행사는 기존에 검증된 회원만을 위한 자리로 가연 누구나 신청할 있다 결혼정보업체 가연 관계자는 가을을 맞아 위한 미팅 파티를 비롯해 다양한 만남 자리를 기획하고 있다며 최대한 편안하고 고급스러운 분위기 속에서 이뤄지는 데이트 시간을 누릴 있는 기회인 만큼 많은 참여와 지원 바란다고 말했다 한편 참가신청은 내달 일까지 결혼정보회사 가연 홈페이지를 통해 가능하며 오는 일부터 순차적으로 당첨자를 발표한다 \n",
      "실제 요약 : 결혼정보회사 가연 내달 위한 \n",
      "예측 요약 :  추석 맞이 맞아 나눔 행사 진행\n",
      "\n",
      "\n",
      "원문 : 한상혁 방송통신위원장 후보자가 오전 서울 여의도 국회에서 열린 인사청문회에서 의원들의 질의에 답하고 있다 한상혁 방송통신위원장 후보자가 해외 국내 관련 제도를 개선할 필요가 있다고 밝혔다 후보자는 이날 오후 국회 과학기술정보방송통신위원회 인사청문회에서 문제는 전적으로 당사자들의 사적 때문에 정부에서 개입할 여지가 적다고 생각한다며 이같이 말했다 이어 최근 페이스북과 방통위의 판결과 관련해선 소비자 불편을 야기한 것은 사실이나 이용 않았다고 판단된 것이라면서 구체적으로 어떤 부분이 이용 제한에 소비자 불편을 끼치는 행위 중에 어떤 부분을 책임져야 하는지를 명확하게 기준이 있어야 한다고 했다 그러면서 이효성 전임 국내외 사업자의 역차별 해소 문제는 지속적으로 노력해나갈 것이라고 덧붙였다 아울러 방송법 개정으로 유튜브나 넷플릭스 분류 최소한의 규제를 해야 한다는 김성수 더불어민주당 의원의 동의한다고 답했다 후보자는 향후 미디어 산업 대세를 이룰 것으로 보이는 상황에서 기존 방송과 전혀 다른 규제가 이뤄지는 것은 불합리하다고 본다면서도 규제 체계로 끌어들일 산업 성장을 현장의 문제 귀를 기울여 합리적인 규제를 만들어나가겠다고 말했다 \n",
      "실제 요약 : 한상혁 해외 제도 개선 합리적 규제 필요 \n",
      "예측 요약 :  인권위 공정위원장 후보자\n",
      "\n",
      "\n",
      "원문 : 경찰에서 마약 투약 혐의로 조사를 받던 대가 호흡곤란 증세를 보여 병원으로 숨졌다 따르면 전날 오후 분께 마약 투약 혐의로 조사를 받기 위해 씨가 숨을 없다며 가슴 통증을 호소했다 담당 경찰관이 곧바로 구급대원이 도착하기 전까지 구급대원의 경찰관이 응급조치를 실시했다고 경찰은 밝혔다 씨는 인근 병원으로 옮겨졌으나 응급 없어 다른 병원으로 증세가 악화해 숨졌다 출동 당시 씨가 약간 높은 의식은 없었으며 낮게 하는 상태였다고 경찰은 전했다 씨는 지난 베트남에서 마약을 투약한 혐의가 경찰에 포착돼 오전 분께 경찰에 공항에서 있었던 간이 시약 검사에서 마약 투약 양성 반응이 나왔고 경찰은 씨를 차량으로 오후 분께 도착했다 씨는 오후 분께 부산경찰청 구내식당에서 전인 오후 분께부터 부인과 통화를 하다가 갑자기 호흡 곤란 증세를 보였다고 경찰은 전했다 경찰은 유족들이 사망에 이의가 없고 부검을 원치 않는다고 정확한 밝히기 위해 시신을 예정이다 \n",
      "실제 요약 : 마약 혐의 숨져 \n",
      "예측 요약 :  경찰 고유정 의붓아들 폭행 경찰 수사 착수\n",
      "\n",
      "\n"
     ]
    }
   ],
   "source": [
    "for i in range(0, 50):\n",
    "    print(\"원문 :\", seq2text(encoder_input_test[i]))\n",
    "    print(\"실제 요약 :\", seq2summary(decoder_input_test[i]))\n",
    "    print(\"예측 요약 :\", decode_sequence(encoder_input_test[i].reshape(1, text_max_len)))\n",
    "    print(\"\\n\")"
   ]
  },
  {
   "cell_type": "markdown",
   "metadata": {
    "id": "8DieeIk9gZP-"
   },
   "source": [
    "가끔 너무 간략히 요약하고, 단어중복 하기도 하나, 전반적으로 적정한 요약을 보여주고 있음. 일부는 실제요약보다 나아 보임"
   ]
  },
  {
   "cell_type": "markdown",
   "metadata": {
    "id": "xHf6AFLmoy4s"
   },
   "source": [
    "### 8-12 모델 저장\n",
    "\n",
    "모델학습 시간이 많이 소요되어 모델 저장"
   ]
  },
  {
   "cell_type": "code",
   "execution_count": null,
   "metadata": {
    "id": "jQlO5QS-o_cH"
   },
   "outputs": [],
   "source": [
    "model.save('/content/drive/MyDrive/LMS/E_07/[E-07]NewsSummary_bk.h5')"
   ]
  },
  {
   "cell_type": "markdown",
   "metadata": {
    "id": "G_QL_m0eg41n"
   },
   "source": [
    "### 8-13 추출적 요약"
   ]
  },
  {
   "cell_type": "code",
   "execution_count": null,
   "metadata": {
    "colab": {
     "base_uri": "https://localhost:8080/"
    },
    "executionInfo": {
     "elapsed": 377,
     "status": "ok",
     "timestamp": 1653202703211,
     "user": {
      "displayName": "changhwan lee",
      "userId": "04303211996600941657"
     },
     "user_tz": -540
    },
    "id": "cnVDZ29TgIDA",
    "outputId": "1ccd779c-8959-4f02-9419-ff7dbce47904"
   },
   "outputs": [
    {
     "name": "stdout",
     "output_type": "stream",
     "text": [
      "원문 : 강소농 경영 컨설턴트 지원 생산적 일손 긴급지원반 운영 등충북일보 보은 보은군은 강소농 경영 컨설턴트 지원 사업과 생산적 일손 긴급지원반 이달부터 본격적으로 운영한다고 밝혔다 영농철을 앞두고 일손 부족으로 어려움을 겪는 농업인의 어려움을 해소하기 위한 조처다 먼저 강소농경영 컨설턴트 지원 퇴직한 전문 농업경영인을 활용해 농산물 판매촉진과 영농 노하우를 지원하는 사업이다 올해 처음으로 시행하는 사업은 고용노동부 공모사업에 선정돼 추진한다 군은 오는 일까지 명을 꾸려 노동력 확보가 힘들거나 많은 인력이 필요한 농작업을 집중적으로 지원할 계획이다 노동력이 부족한 질병 고령 여성 농가의 신청을 받아 일손을 지원하는 생산적 일손 긴급지원반 적극 운영한다 지난해 곳에 회를 투입해 효자 노릇을 톡톡히 했던 생산적 일손 긴급지원반 지난 일부터 명이 농가 지원에 나섰다 이들 사업에 추가 신청을 원하는 농가는 사업을 종료하기 전까지 일자리종합지원센터를 방문해 신청서를 제출하면 농가와 근로자 매칭을 통해 일손돕기 서비스를 받을 있다 관계자는본격적인 영농철을 맞아 일손 부족으로 어려움을 겪는 농업인의 애로사항을 해소하고 적기 영농 실현으로 영농의욕을 고취하겠다고 말했다\n",
      "실제 요약 : 보은군 봄철 농촌일손돕기 본격 추진\n",
      "예측 요약 : \n",
      "\n",
      "\n",
      "원문 : 충북농기원 품종보호출원 마쳐심사 거쳐 오는 도내 중점 보급충북일보 충북농업기술원은 기존 찰수수보다 수확량이 많고 기계 수확이 용이한 청풍찰수수를 개발했다고 밝혔다 청풍찰수수는 년의 품종개발 기간이 소요됐다 농업기술원은 지난 충북 재래종에서 종자를 수집한 이후 생산성 시험 전국 지역 적응시험을 진행해 왔다 결과 재배적응성과 수량성이 우수해 지난달 국립종자원에 품종보호출원을 하게 됐다 청풍찰수수는 앞으로 년간 구별성 균일성 안정성 신규성 등을 검증하는 재배 심사과정을 거쳐 오는 년부터 충북지역에 중점 보급되게 된다 신품종으로 개발한 청풍찰수수의 가장 특징은 찰기가 강하고 수량이 높다는 것이다 아밀로스 함량이 으로 낮기 때문에 찰기가 강하고 수량도 기존의 찰수수보다 증가된 우수한 것으로 나타났다 수수의 키가 지면에서 이삭목까지 정도로 작아서 콤바인으로 쉽게 수확할 있어 인력으로 수확하는 것과 비교해 노동력을 이상 있다 이외에도 청풍찰수수는 생육기 중에 이삭이 나뭇가지처럼 퍼져 있는 형태이기 때문에 바람이 통해 수수 재배할 가장 문제 되는 이삭곰팡이병 발병이 낮아 수수 종자의 품질과 수량을 높일 있는 장점도 있다 윤건식 연구사는 도내 잡곡작목반 중심으로 청풍찰수수를 확대 보급할 계획이라며 앞으로 농가 노동력 절감 소득향상에 기여하게 것고 이라고 밝혔다 용어설명 아밀로스 식물에서 발견할 있는 다당류의 일종으로 녹말의 주요 성분이다\n",
      "실제 요약 : 수량 많고 기계수확 쉬운 청풍찰수수 개발\n",
      "예측 요약 : \n",
      "\n",
      "\n",
      "원문 : 영동군 직원들과 농업인들이 전문가로부터 드론교육을 받고 있다 영동군 충북일보 영동 드론 분야 선도 지자체인 영동군이 고령화시대 농업의 위기극복을 위해 농업용 드론에 주목하고 있다 군에 따르면 농업분야 악성노동으로 농업인의 애로사항중 하나인 병해충 방제 작업을 첨단기기인 드론을 활용해 타파하고자 농업용 드론 전문인력 양성에 공을 들이고 있다 지난 올해 시책사업으로 추진할 농업인대상 드론교육과정 수요조사 결과 예정인원의 배가 넘게 수요가 폭주하는 농업인들 관심이 집중되기도 했다 농지면적과 품목 등을 고려해 최종 명이 선발됐다 이번 드론자격취득 과정은 천만 원의 예산으로 농업인 공무원 명을 대상으로 이론 모의주행 실습 주로 과정이 진행된다 과정을 모두 마친 교육생에 한해 면허증이 주어지며 농업드론 전문가로 인정받게 된다 지난달 이론과 모의주행 교육을 시작으로 명이 전문교육원에 입소해 농업용 드론 전문인력으로의 변신을 시도하고 있다 입찰공고를 통해 국토교통부에 승인된 무인항공 전문교육원인 드론전문교육원 교육진행을 맡아 알차게 운영중이다 이달 일부터는 금산에 위치한 전문 교육장에서 직접 드론을 조종하며 방제 기술 등을 습득할 예정이다 자격증을 취득 후에는 드론을 이용해 병해충 방제뿐만 아니라 시비 종자파종 방제 다양한 분야에서 활약하게 된다 효율성은 물론 경제성 부문에서도 지역 농업이 단계 성장하게 된다 영동군은 교육 성과평가에 따라 차후 교육추진도 고려하여 점차 확대하고 노동력 부족으로 고심하고 있는 농촌사회에 활력을 불어넣을 계획이다 이와 함께 영동군은 농정과 산림과 농업기술센터 직원들로 구성된 드론 꾸리고 천여만원의 예산으로 방제용 드론 대를 도입해 외래병해충 구제역 과수화상병 비상방역 활동에 드론을 접목할 계획이다 군은 인구 감소 고령화로 급변하는 농업 농촌의 환경변화에 효율적으로 대응하고 지역특성에 맞는 시책들을 발굴해 농업의 가치를 극대화한다는 방침이다 조원제 농업기술센터소장은 현재 농촌은 고령화 문제가 심각해 도시에 있는 자녀들이 병해충방제 등의 일손을 돕지 않으면 농사를 포기해야 하는 상황이라며 드론 전문가 양성으로 병해충방제 뿐만 아니라 파종 시비처리 등의 악성노동력 절감의 효과를 가져와 농촌에 도움이 것이라고 말했다\n",
      "실제 요약 : 영동군 키운 드론하나 일꾼 부럽다\n",
      "예측 요약 : \n",
      "\n",
      "\n",
      "원문 : 업체 참여 여명 채용 계획일자리박람회가 열리는 모습 충주시 충북일보 충주 충주시가 오후 시부터 충주체육관에서 올해 일자리박람회를 개최한다 이날 박람회는 청년 중장년 장애인 다양한 계층의 구직자에게 취업 기회를 제공하고 구인기업에게 인력 지원 기회를 제공하기 위해 마련됐다 일자리박람회 포스터 충주시 행사에는 장애인을 병행 채용하는 동화 글로텍 비롯해 코오롱생명과학 지앤피 미원스페셜티케미칼 대경코빌 더블유씨피 업체가 참여해 명을 채용할 계획이다 행사장에는 입사지원서 코칭 이력서용 무료 사진촬영 면접 이미지 메이킹 서비스를 진행해 현장에서 이력서 작성을 있도록 도울 예정이다 일자리 유관기관들의 구직상담 직업훈련 등의 다양한 일자리 정보 제공과 근로자와 기업의 협력관계를 높이기 위한 노사 고충처리 상담부스도 운영한다 행사 당일 이력서를 준비해 오면 누구나 현장면접이 가능하다 하지만 자사 이력서를 제출해야 하는 기업도 있는 만큼 확인하고 준비해야 이중 제출하는 번거로움을 있다 이상록 경제기업과장은 매년 열리는 일자리 박람회는 충주시에서 가장 채용행사라며 많은 분들이 참여해 취업에 성공하길 바라며 기업의 인력채용에 도움이 되는 소중한 시간이 되길 바란다고 말했다 한편 이번 일자리박람회는 월경 열릴 예정이다\n",
      "실제 요약 : 충주시 일자리 박람회 개최\n",
      "예측 요약 : \n",
      "\n",
      "\n",
      "원문 : 새롬동에 종합기상관측장비 설치 내년 월부터 정규 관측대전지방기상청이 세종시 새롬동 설치한 종관기상관측장비 모습 년간 예비관측을 거쳐 일부터는 정규관측을 한다 대전지방기상청 충북일보 세종 충청지방에 눈이 내린 지난 겨울 어느 아침 기자는 대전지방기상청에 전화를 걸어 세종시 적설량이 얼마나 되나라고 물었다 이에 담당자는 대전과 달리 세종은 공식적으로 적설량을 측정하는 지역이 아니기 때문에 정확히 없다라고 말했다 세종시 관련 자료는 통계청 한국은행 정부기관들이 생산하는 각종 경제통계는 물론 기상청이 제공하는 공식 정보에도 포함되지 않는 경우가 적지 않아 시민들의 불만이 많다 국무총리실을 비롯한 정부 부처의 분의 이상이 몰려 있는 광역지방자치단체이지만 다른 도보다 인구가 훨씬 적은 데다 도시 출범 역사가 년여 밖에 되지 않아 누적된 과거 통계들이 부족하기 때문이다 하지만 앞으로 뒤부터는 세종시민들도 대전 청주 다른 도청 소재지 주민들과 마찬가지로 더욱 신속 정확 풍부한 기상정보를 얻을 있게 됐다 대전지방기상청이 종관기상관측장비를 설치한 세종시 새롬동 위치도 네이버 대전지방기상청은 세종시청 소유인 새롬동 일대 배수지 첨단 종관기상관측장비 설치했다며 장비 운영상태 등을 점검하기 위해 년간 예비관측을 거쳐 일부터는 직원이 상주하며 정규관측을 예정이라고 밝혔다 이에 따라 세종시에서도 자동기상관측장비에서 측정되는 바람 기온 습도 강수량 기본적 기상관측 요소 외에 초상과 지면 온도 일조량 기압 적설량 등이 공식적으로 측정된다고 기상청은 설명했다 기상청에 따르면 세종시에는 동안 전국 광역지방자치단체 유일하게 종관기상관측장비가 설치돼 있지 않았다 사람이 없이 컴퓨터로 작동되는 재난 방지용 자동기상관측장비만 에서 대씩 운영됨에 따라 기상정보 제공에 한계가 있었다 손승희 대전기상청장은 종관기상관측장비에서는 세종시를 대표하는 각종 실시간 기상관측자료가 생산된다라며 앞으로 공공기관의 정책 결정이나 산업분야는 물론 일반 시민들의 생활에서도 유용하게 활용될 있을 것이라고 말했다\n",
      "실제 요약 : 세종시민에게 제공되는 기상정보 신속 정확 풍부해진다\n",
      "예측 요약 : \n",
      "\n",
      "\n"
     ]
    }
   ],
   "source": [
    "for idx, (title, text) in enumerate(zip(data['title'], data['text'])):\n",
    "    if idx == 5:\n",
    "        break\n",
    "    print(\"원문 :\", text)\n",
    "    print(\"실제 요약 :\", title)\n",
    "    print(\"예측 요약 :\", summarize(text,ratio=0.3))\n",
    "    print(\"\\n\")"
   ]
  },
  {
   "cell_type": "markdown",
   "metadata": {
    "id": "WaK5NIRHj4KS"
   },
   "source": [
    "영문뉴스의 경우 추출적 요약도 제법 작성이 되나, 한글뉴스의 경우 추출적 요약 출력이 잘 되지 않음: 전처리가 더 필요한 것일까?"
   ]
  },
  {
   "cell_type": "markdown",
   "metadata": {
    "id": "E8nNty2OrGHm"
   },
   "source": [
    "## [ 회   고  ]\n",
    "\n",
    "###  - AI 분석과정에서 데이터 전처리 과정의 중요성을 배울 수 있었음. 특히 한글의 경우 세심한 주의가 필요   \n",
    "###  - json 파일을 다운받아 세부정보를 추출하는데 시간을 너무 많이 소모함. parsing tool이 있을 것이나, 파이썬 기본문법으로 접근하며 데이터 처리 어려움을 경험함\n",
    "### - 다양한 API를 활용할 수 있는 수단이 많아 앞으로 배워야 할 것이 많음\n",
    "###  - 분석적 요약은 영문과 한글에 차이가 많이 났으며, 추상적 요약은 한글에서도 제법 자연스러운 결과를 보여줌\n"
   ]
  },
  {
   "cell_type": "markdown",
   "metadata": {
    "id": "yY9M_dnZtP1s"
   },
   "source": [
    "### < reference >\n",
    "\n",
    "   - wikidics.net/21698\n",
    "   - codong.tistory.com/32\n",
    "   - ebbnflow.tistory.com/246\n",
    "   - intrepodgeeks.com/tutorial/preprocessing-text-data"
   ]
  }
 ],
 "metadata": {
  "accelerator": "GPU",
  "colab": {
   "authorship_tag": "ABX9TyOe3PoVfY0+wJnTqdVbgYuM",
   "collapsed_sections": [],
   "machine_shape": "hm",
   "mount_file_id": "175fXJMeL9xS7sSelUtEOhR8Gkaw7kZ4u",
   "name": "[E-07]NewsSummary_e.ipynb",
   "provenance": [
    {
     "file_id": "1VqaPrWDEaw0n-vsZfPYrWaXLz8ro4nE4",
     "timestamp": 1653172484060
    },
    {
     "file_id": "1zpFChzIwIMKXFIfbw5rn-7nzucFDPiI1",
     "timestamp": 1653137755505
    },
    {
     "file_id": "1KeLbb2YsX015ms94ebxn6Zg5TD7y0ysZ",
     "timestamp": 1652781753973
    }
   ]
  },
  "kernelspec": {
   "display_name": "Python 3",
   "name": "python3"
  },
  "language_info": {
   "name": "python"
  }
 },
 "nbformat": 4,
 "nbformat_minor": 0
}
