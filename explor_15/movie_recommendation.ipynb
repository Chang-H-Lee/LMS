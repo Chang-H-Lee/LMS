{
 "cells": [
  {
   "cell_type": "markdown",
   "metadata": {
    "id": "uQWHRE-Hjd0e"
   },
   "source": [
    "## 아이유팬이 좋아할 만한 다른 아티스트 찾기"
   ]
  },
  {
   "cell_type": "markdown",
   "metadata": {
    "id": "Rfkwsx8fjjX6"
   },
   "source": [
    "### [목  차 ]\n",
    "\n",
    "1. 데이터 준비와 전처리\n",
    "2. 데이터 분석\n",
    "3. 내가 선호하는 영화를 5가지 골라서 ratings에 추가\n",
    "4. CSR matrix를 직접 작성\n",
    "5. als_model = AlternatingLeastSquares 모델을 직접 구성하여 훈련\n",
    "6. 내가 선호하는 5가지 영화 중 하나와 그 외의 영화 하나를 골라 훈련된 모델이 예측한 나의 선호도 파악\n",
    "7. 내가 좋아하는 영화와 비슷한 영화 추천\n",
    "8. 내가 가장 좋아할 만한 영화들 추천\n",
    "\n",
    "\n",
    "### [ 회 고 ]"
   ]
  },
  {
   "cell_type": "markdown",
   "metadata": {
    "id": "nDG5JtBWkNW7"
   },
   "source": [
    "### 1. 데이터 준비와 전처리\n",
    " * 기본 데이터(평점) 불러오기: Movielens 데이터 rating.dat\n",
    "   - Ratings are made on a 5-star scale\n",
    "   - Timestamp is represented in seconds\n",
    "   - Each user has at least 20 ratings"
   ]
  },
  {
   "cell_type": "code",
   "execution_count": 1,
   "metadata": {
    "executionInfo": {
     "elapsed": 202135,
     "status": "ok",
     "timestamp": 1656221730844,
     "user": {
      "displayName": "changhwan lee",
      "userId": "04303211996600941657"
     },
     "user_tz": -540
    },
    "id": "Ajh9gfz2k5Px"
   },
   "outputs": [],
   "source": [
    "%%capture\n",
    "!pip install --upgrade pip setuptools wheel\n",
    "!pip install implicit==0.4.8"
   ]
  },
  {
   "cell_type": "code",
   "execution_count": 2,
   "metadata": {
    "executionInfo": {
     "elapsed": 438,
     "status": "ok",
     "timestamp": 1656221872790,
     "user": {
      "displayName": "changhwan lee",
      "userId": "04303211996600941657"
     },
     "user_tz": -540
    },
    "id": "xW8iGgQslL6y"
   },
   "outputs": [],
   "source": [
    "import os\n",
    "import numpy as np\n",
    "import pandas as pd\n",
    "import matplotlib.pyplot as plt\n",
    "from datetime import datetime"
   ]
  },
  {
   "cell_type": "code",
   "execution_count": 3,
   "metadata": {
    "colab": {
     "base_uri": "https://localhost:8080/",
     "height": 424
    },
    "executionInfo": {
     "elapsed": 7139,
     "status": "ok",
     "timestamp": 1656221883737,
     "user": {
      "displayName": "changhwan lee",
      "userId": "04303211996600941657"
     },
     "user_tz": -540
    },
    "id": "RtrIoI1slkcN",
    "outputId": "12742fb0-72c7-4ff8-fd2e-191e98502644"
   },
   "outputs": [
    {
     "data": {
      "text/html": [
       "\n",
       "  <div id=\"df-19f4e128-e783-4142-9d4b-c20133ddf18f\">\n",
       "    <div class=\"colab-df-container\">\n",
       "      <div>\n",
       "<style scoped>\n",
       "    .dataframe tbody tr th:only-of-type {\n",
       "        vertical-align: middle;\n",
       "    }\n",
       "\n",
       "    .dataframe tbody tr th {\n",
       "        vertical-align: top;\n",
       "    }\n",
       "\n",
       "    .dataframe thead th {\n",
       "        text-align: right;\n",
       "    }\n",
       "</style>\n",
       "<table border=\"1\" class=\"dataframe\">\n",
       "  <thead>\n",
       "    <tr style=\"text-align: right;\">\n",
       "      <th></th>\n",
       "      <th>user_id</th>\n",
       "      <th>movie_id</th>\n",
       "      <th>ratings</th>\n",
       "      <th>timestamp</th>\n",
       "    </tr>\n",
       "  </thead>\n",
       "  <tbody>\n",
       "    <tr>\n",
       "      <th>0</th>\n",
       "      <td>1</td>\n",
       "      <td>1193</td>\n",
       "      <td>5</td>\n",
       "      <td>978300760</td>\n",
       "    </tr>\n",
       "    <tr>\n",
       "      <th>1</th>\n",
       "      <td>1</td>\n",
       "      <td>661</td>\n",
       "      <td>3</td>\n",
       "      <td>978302109</td>\n",
       "    </tr>\n",
       "    <tr>\n",
       "      <th>2</th>\n",
       "      <td>1</td>\n",
       "      <td>914</td>\n",
       "      <td>3</td>\n",
       "      <td>978301968</td>\n",
       "    </tr>\n",
       "    <tr>\n",
       "      <th>3</th>\n",
       "      <td>1</td>\n",
       "      <td>3408</td>\n",
       "      <td>4</td>\n",
       "      <td>978300275</td>\n",
       "    </tr>\n",
       "    <tr>\n",
       "      <th>4</th>\n",
       "      <td>1</td>\n",
       "      <td>2355</td>\n",
       "      <td>5</td>\n",
       "      <td>978824291</td>\n",
       "    </tr>\n",
       "    <tr>\n",
       "      <th>...</th>\n",
       "      <td>...</td>\n",
       "      <td>...</td>\n",
       "      <td>...</td>\n",
       "      <td>...</td>\n",
       "    </tr>\n",
       "    <tr>\n",
       "      <th>1000204</th>\n",
       "      <td>6040</td>\n",
       "      <td>1091</td>\n",
       "      <td>1</td>\n",
       "      <td>956716541</td>\n",
       "    </tr>\n",
       "    <tr>\n",
       "      <th>1000205</th>\n",
       "      <td>6040</td>\n",
       "      <td>1094</td>\n",
       "      <td>5</td>\n",
       "      <td>956704887</td>\n",
       "    </tr>\n",
       "    <tr>\n",
       "      <th>1000206</th>\n",
       "      <td>6040</td>\n",
       "      <td>562</td>\n",
       "      <td>5</td>\n",
       "      <td>956704746</td>\n",
       "    </tr>\n",
       "    <tr>\n",
       "      <th>1000207</th>\n",
       "      <td>6040</td>\n",
       "      <td>1096</td>\n",
       "      <td>4</td>\n",
       "      <td>956715648</td>\n",
       "    </tr>\n",
       "    <tr>\n",
       "      <th>1000208</th>\n",
       "      <td>6040</td>\n",
       "      <td>1097</td>\n",
       "      <td>4</td>\n",
       "      <td>956715569</td>\n",
       "    </tr>\n",
       "  </tbody>\n",
       "</table>\n",
       "<p>1000209 rows × 4 columns</p>\n",
       "</div>\n",
       "      <button class=\"colab-df-convert\" onclick=\"convertToInteractive('df-19f4e128-e783-4142-9d4b-c20133ddf18f')\"\n",
       "              title=\"Convert this dataframe to an interactive table.\"\n",
       "              style=\"display:none;\">\n",
       "        \n",
       "  <svg xmlns=\"http://www.w3.org/2000/svg\" height=\"24px\"viewBox=\"0 0 24 24\"\n",
       "       width=\"24px\">\n",
       "    <path d=\"M0 0h24v24H0V0z\" fill=\"none\"/>\n",
       "    <path d=\"M18.56 5.44l.94 2.06.94-2.06 2.06-.94-2.06-.94-.94-2.06-.94 2.06-2.06.94zm-11 1L8.5 8.5l.94-2.06 2.06-.94-2.06-.94L8.5 2.5l-.94 2.06-2.06.94zm10 10l.94 2.06.94-2.06 2.06-.94-2.06-.94-.94-2.06-.94 2.06-2.06.94z\"/><path d=\"M17.41 7.96l-1.37-1.37c-.4-.4-.92-.59-1.43-.59-.52 0-1.04.2-1.43.59L10.3 9.45l-7.72 7.72c-.78.78-.78 2.05 0 2.83L4 21.41c.39.39.9.59 1.41.59.51 0 1.02-.2 1.41-.59l7.78-7.78 2.81-2.81c.8-.78.8-2.07 0-2.86zM5.41 20L4 18.59l7.72-7.72 1.47 1.35L5.41 20z\"/>\n",
       "  </svg>\n",
       "      </button>\n",
       "      \n",
       "  <style>\n",
       "    .colab-df-container {\n",
       "      display:flex;\n",
       "      flex-wrap:wrap;\n",
       "      gap: 12px;\n",
       "    }\n",
       "\n",
       "    .colab-df-convert {\n",
       "      background-color: #E8F0FE;\n",
       "      border: none;\n",
       "      border-radius: 50%;\n",
       "      cursor: pointer;\n",
       "      display: none;\n",
       "      fill: #1967D2;\n",
       "      height: 32px;\n",
       "      padding: 0 0 0 0;\n",
       "      width: 32px;\n",
       "    }\n",
       "\n",
       "    .colab-df-convert:hover {\n",
       "      background-color: #E2EBFA;\n",
       "      box-shadow: 0px 1px 2px rgba(60, 64, 67, 0.3), 0px 1px 3px 1px rgba(60, 64, 67, 0.15);\n",
       "      fill: #174EA6;\n",
       "    }\n",
       "\n",
       "    [theme=dark] .colab-df-convert {\n",
       "      background-color: #3B4455;\n",
       "      fill: #D2E3FC;\n",
       "    }\n",
       "\n",
       "    [theme=dark] .colab-df-convert:hover {\n",
       "      background-color: #434B5C;\n",
       "      box-shadow: 0px 1px 3px 1px rgba(0, 0, 0, 0.15);\n",
       "      filter: drop-shadow(0px 1px 2px rgba(0, 0, 0, 0.3));\n",
       "      fill: #FFFFFF;\n",
       "    }\n",
       "  </style>\n",
       "\n",
       "      <script>\n",
       "        const buttonEl =\n",
       "          document.querySelector('#df-19f4e128-e783-4142-9d4b-c20133ddf18f button.colab-df-convert');\n",
       "        buttonEl.style.display =\n",
       "          google.colab.kernel.accessAllowed ? 'block' : 'none';\n",
       "\n",
       "        async function convertToInteractive(key) {\n",
       "          const element = document.querySelector('#df-19f4e128-e783-4142-9d4b-c20133ddf18f');\n",
       "          const dataTable =\n",
       "            await google.colab.kernel.invokeFunction('convertToInteractive',\n",
       "                                                     [key], {});\n",
       "          if (!dataTable) return;\n",
       "\n",
       "          const docLinkHtml = 'Like what you see? Visit the ' +\n",
       "            '<a target=\"_blank\" href=https://colab.research.google.com/notebooks/data_table.ipynb>data table notebook</a>'\n",
       "            + ' to learn more about interactive tables.';\n",
       "          element.innerHTML = '';\n",
       "          dataTable['output_type'] = 'display_data';\n",
       "          await google.colab.output.renderOutput(dataTable, element);\n",
       "          const docLink = document.createElement('div');\n",
       "          docLink.innerHTML = docLinkHtml;\n",
       "          element.appendChild(docLink);\n",
       "        }\n",
       "      </script>\n",
       "    </div>\n",
       "  </div>\n",
       "  "
      ],
      "text/plain": [
       "         user_id  movie_id  ratings  timestamp\n",
       "0              1      1193        5  978300760\n",
       "1              1       661        3  978302109\n",
       "2              1       914        3  978301968\n",
       "3              1      3408        4  978300275\n",
       "4              1      2355        5  978824291\n",
       "...          ...       ...      ...        ...\n",
       "1000204     6040      1091        1  956716541\n",
       "1000205     6040      1094        5  956704887\n",
       "1000206     6040       562        5  956704746\n",
       "1000207     6040      1096        4  956715648\n",
       "1000208     6040      1097        4  956715569\n",
       "\n",
       "[1000209 rows x 4 columns]"
      ]
     },
     "execution_count": 3,
     "metadata": {},
     "output_type": "execute_result"
    }
   ],
   "source": [
    "rating_file_path='/content/drive/MyDrive/LMS/E_15/ratings.dat'\n",
    "ratings_cols = ['user_id', 'movie_id', 'ratings', 'timestamp']\n",
    "ratings = pd.read_csv(rating_file_path, sep='::', names=ratings_cols, engine='python', encoding = \"ISO-8859-1\")\n",
    "orginal_data_size = len(ratings)\n",
    "ratings"
   ]
  },
  {
   "cell_type": "code",
   "execution_count": 4,
   "metadata": {
    "colab": {
     "base_uri": "https://localhost:8080/"
    },
    "executionInfo": {
     "elapsed": 389,
     "status": "ok",
     "timestamp": 1656221888323,
     "user": {
      "displayName": "changhwan lee",
      "userId": "04303211996600941657"
     },
     "user_tz": -540
    },
    "id": "BGnLWKIhmA16",
    "outputId": "c0c197d5-5d23-4289-900d-a15917d83d9c"
   },
   "outputs": [
    {
     "name": "stdout",
     "output_type": "stream",
     "text": [
      "1000209\n"
     ]
    }
   ],
   "source": [
    "# 원본 데이터 보관\n",
    "ratings_orig = ratings.copy()\n",
    "ratings_orig_size = len(ratings)\n",
    "print(ratings_orig_size)"
   ]
  },
  {
   "cell_type": "markdown",
   "metadata": {
    "id": "Ks0KAUPjmgZr"
   },
   "source": [
    "#### 유저별 컬럼에 대한 통계 확인"
   ]
  },
  {
   "cell_type": "code",
   "execution_count": 5,
   "metadata": {
    "colab": {
     "base_uri": "https://localhost:8080/"
    },
    "executionInfo": {
     "elapsed": 9,
     "status": "ok",
     "timestamp": 1656221891619,
     "user": {
      "displayName": "changhwan lee",
      "userId": "04303211996600941657"
     },
     "user_tz": -540
    },
    "id": "CCh5dlkFmczf",
    "outputId": "7ee46e0e-922a-4e1c-8f07-39fe6f6389fe"
   },
   "outputs": [
    {
     "data": {
      "text/plain": [
       "count    6040.000000\n",
       "mean      165.597517\n",
       "std       192.747029\n",
       "min        20.000000\n",
       "25%        44.000000\n",
       "50%        96.000000\n",
       "75%       208.000000\n",
       "max      2314.000000\n",
       "Name: movie_id, dtype: float64"
      ]
     },
     "execution_count": 5,
     "metadata": {},
     "output_type": "execute_result"
    }
   ],
   "source": [
    "# 유저별 몇 개의 영화를 보고 있는지에 대한 통계\n",
    "\n",
    "user_count_orig = ratings_orig.groupby('user_id')['movie_id'].count()\n",
    "user_count_orig.describe()"
   ]
  },
  {
   "cell_type": "code",
   "execution_count": 6,
   "metadata": {
    "colab": {
     "base_uri": "https://localhost:8080/"
    },
    "executionInfo": {
     "elapsed": 416,
     "status": "ok",
     "timestamp": 1656221899313,
     "user": {
      "displayName": "changhwan lee",
      "userId": "04303211996600941657"
     },
     "user_tz": -540
    },
    "id": "PEe-lV0Om1CD",
    "outputId": "108ae8d7-a526-448f-ede3-e609154f8f31"
   },
   "outputs": [
    {
     "data": {
      "text/plain": [
       "count    6040.000000\n",
       "mean        3.840811\n",
       "std         0.577449\n",
       "min         1.000000\n",
       "25%         4.000000\n",
       "50%         4.000000\n",
       "75%         4.000000\n",
       "max         5.000000\n",
       "Name: ratings, dtype: float64"
      ]
     },
     "execution_count": 6,
     "metadata": {},
     "output_type": "execute_result"
    }
   ],
   "source": [
    "# 유저별 별점개수 중앙값에 대한 통계\n",
    "\n",
    "user_median_orig = ratings_orig.groupby('user_id')['ratings'].median()\n",
    "user_median_orig.describe()"
   ]
  },
  {
   "cell_type": "code",
   "execution_count": 7,
   "metadata": {
    "colab": {
     "base_uri": "https://localhost:8080/",
     "height": 513
    },
    "executionInfo": {
     "elapsed": 449,
     "status": "ok",
     "timestamp": 1656221903514,
     "user": {
      "displayName": "changhwan lee",
      "userId": "04303211996600941657"
     },
     "user_tz": -540
    },
    "id": "vikVe6NLm8qx",
    "outputId": "1e078ef4-4e76-4dc9-cafb-b3ff866df507"
   },
   "outputs": [
    {
     "data": {
      "image/png": "[encoded data removed]",
      "text/plain": [
       "<Figure size 576x576 with 1 Axes>"
      ]
     },
     "metadata": {
      "needs_background": "light"
     },
     "output_type": "display_data"
    }
   ],
   "source": [
    "# 별점 개수(ratings)와 사용자 수(users) 관계\n",
    "\n",
    "ratings_users = ratings.groupby(by=['ratings']).agg({'user_id': 'count'}).reset_index()\n",
    "ratings_users.columns = ['ratings', 'users']\n",
    "#ratings_users_dic = {ratings:users for ratings, users in zip(ratings_users.ratings, ratings_users.users)}\n",
    "\n",
    "plt.figure(figsize=(8,8))\n",
    "plt.bar(ratings_users.ratings, ratings_users.users, color='g')\n",
    "plt.yticks(ratings_users.users)\n",
    "plt.xticks(ratings_users.ratings)\n",
    "plt.legend(ratings_users.columns)\n",
    "plt.ylabel('users')\n",
    "plt.xlabel('ratings')\n",
    "plt.title('Ratings and Users')\n",
    "\n",
    "plt.show()"
   ]
  },
  {
   "cell_type": "code",
   "execution_count": 8,
   "metadata": {
    "colab": {
     "base_uri": "https://localhost:8080/"
    },
    "executionInfo": {
     "elapsed": 413,
     "status": "ok",
     "timestamp": 1656221908362,
     "user": {
      "displayName": "changhwan lee",
      "userId": "04303211996600941657"
     },
     "user_tz": -540
    },
    "id": "I30mP4_lo80e",
    "outputId": "09a2c24a-83d4-4568-9f58-39af8d53ff29"
   },
   "outputs": [
    {
     "name": "stdout",
     "output_type": "stream",
     "text": [
      "orginal_data_size: 1000209, filtered_data_size: 836478\n",
      "Ratio of Remaining Data is 83.63%\n"
     ]
    }
   ],
   "source": [
    "# 3점 이상만 남깁니다.\n",
    "\n",
    "ratings = ratings[ratings['ratings']>=3]\n",
    "filtered_data_size = len(ratings)\n",
    "\n",
    "print(f'orginal_data_size: {orginal_data_size}, filtered_data_size: {filtered_data_size}')\n",
    "print(f'Ratio of Remaining Data is {filtered_data_size / orginal_data_size:.2%}')"
   ]
  },
  {
   "cell_type": "code",
   "execution_count": 9,
   "metadata": {
    "colab": {
     "base_uri": "https://localhost:8080/"
    },
    "executionInfo": {
     "elapsed": 393,
     "status": "ok",
     "timestamp": 1656221912460,
     "user": {
      "displayName": "changhwan lee",
      "userId": "04303211996600941657"
     },
     "user_tz": -540
    },
    "id": "Kwq__Vp2qSDN",
    "outputId": "c570a6d9-a682-4bb0-cfff-aad3d0c9acc5"
   },
   "outputs": [
    {
     "name": "stderr",
     "output_type": "stream",
     "text": [
      "/usr/local/lib/python3.7/dist-packages/pandas/core/frame.py:5047: SettingWithCopyWarning: \n",
      "A value is trying to be set on a copy of a slice from a DataFrame\n",
      "\n",
      "See the caveats in the documentation: https://pandas.pydata.org/pandas-docs/stable/user_guide/indexing.html#returning-a-view-versus-a-copy\n",
      "  errors=errors,\n"
     ]
    },
    {
     "data": {
      "text/plain": [
       "0          5\n",
       "1          3\n",
       "2          3\n",
       "3          4\n",
       "4          5\n",
       "          ..\n",
       "1000203    3\n",
       "1000205    5\n",
       "1000206    5\n",
       "1000207    4\n",
       "1000208    4\n",
       "Name: counts, Length: 836478, dtype: int64"
      ]
     },
     "execution_count": 9,
     "metadata": {},
     "output_type": "execute_result"
    }
   ],
   "source": [
    "# ratings 컬럼의 이름을 counts로 바꿉니다.\n",
    "\n",
    "ratings.rename(columns={'ratings':'counts'}, inplace=True)\n",
    "ratings['counts']"
   ]
  },
  {
   "cell_type": "code",
   "execution_count": 10,
   "metadata": {
    "colab": {
     "base_uri": "https://localhost:8080/"
    },
    "executionInfo": {
     "elapsed": 394,
     "status": "ok",
     "timestamp": 1656221916533,
     "user": {
      "displayName": "changhwan lee",
      "userId": "04303211996600941657"
     },
     "user_tz": -540
    },
    "id": "ATd2LUuTrc2B",
    "outputId": "f6c29814-4a3b-41b1-ecbe-bdde9aa9676f"
   },
   "outputs": [
    {
     "data": {
      "text/plain": [
       "count    6039.000000\n",
       "mean      138.512668\n",
       "std       156.241599\n",
       "min         1.000000\n",
       "25%        38.000000\n",
       "50%        81.000000\n",
       "75%       177.000000\n",
       "max      1968.000000\n",
       "Name: movie_id, dtype: float64"
      ]
     },
     "execution_count": 10,
     "metadata": {},
     "output_type": "execute_result"
    }
   ],
   "source": [
    "# 유저별 몇 개의 영화를 보고 있는지에 대한 통계\n",
    "\n",
    "user_count = ratings.groupby('user_id')['movie_id'].count()\n",
    "user_count.describe()"
   ]
  },
  {
   "cell_type": "code",
   "execution_count": 11,
   "metadata": {
    "colab": {
     "base_uri": "https://localhost:8080/"
    },
    "executionInfo": {
     "elapsed": 534,
     "status": "ok",
     "timestamp": 1656221920332,
     "user": {
      "displayName": "changhwan lee",
      "userId": "04303211996600941657"
     },
     "user_tz": -540
    },
    "id": "Gcggawk0vAGo",
    "outputId": "a2d49b75-9b3b-45e9-8483-595611725210"
   },
   "outputs": [
    {
     "data": {
      "text/plain": [
       "count    6039.000000\n",
       "mean        4.055970\n",
       "std         0.432143\n",
       "min         3.000000\n",
       "25%         4.000000\n",
       "50%         4.000000\n",
       "75%         4.000000\n",
       "max         5.000000\n",
       "Name: counts, dtype: float64"
      ]
     },
     "execution_count": 11,
     "metadata": {},
     "output_type": "execute_result"
    }
   ],
   "source": [
    "# 유저별 별점개수 중앙값에 대한 통계\n",
    "\n",
    "user_median = ratings.groupby('user_id')['counts'].median()\n",
    "user_median.describe()"
   ]
  },
  {
   "cell_type": "code",
   "execution_count": 12,
   "metadata": {
    "colab": {
     "base_uri": "https://localhost:8080/",
     "height": 532
    },
    "executionInfo": {
     "elapsed": 438,
     "status": "ok",
     "timestamp": 1656221923729,
     "user": {
      "displayName": "changhwan lee",
      "userId": "04303211996600941657"
     },
     "user_tz": -540
    },
    "id": "P6yjU0RnvNNn",
    "outputId": "fbaf0315-6279-461d-9174-3d49329ff6ac"
   },
   "outputs": [
    {
     "name": "stderr",
     "output_type": "stream",
     "text": [
      "/usr/local/lib/python3.7/dist-packages/ipykernel_launcher.py:3: SettingWithCopyWarning: \n",
      "A value is trying to be set on a copy of a slice from a DataFrame.\n",
      "Try using .loc[row_indexer,col_indexer] = value instead\n",
      "\n",
      "See the caveats in the documentation: https://pandas.pydata.org/pandas-docs/stable/user_guide/indexing.html#returning-a-view-versus-a-copy\n",
      "  This is separate from the ipykernel package so we can avoid doing imports until\n"
     ]
    },
    {
     "data": {
      "text/html": [
       "\n",
       "  <div id=\"df-753d787c-868d-4a85-b315-e0321b7cfa6c\">\n",
       "    <div class=\"colab-df-container\">\n",
       "      <div>\n",
       "<style scoped>\n",
       "    .dataframe tbody tr th:only-of-type {\n",
       "        vertical-align: middle;\n",
       "    }\n",
       "\n",
       "    .dataframe tbody tr th {\n",
       "        vertical-align: top;\n",
       "    }\n",
       "\n",
       "    .dataframe thead th {\n",
       "        text-align: right;\n",
       "    }\n",
       "</style>\n",
       "<table border=\"1\" class=\"dataframe\">\n",
       "  <thead>\n",
       "    <tr style=\"text-align: right;\">\n",
       "      <th></th>\n",
       "      <th>user_id</th>\n",
       "      <th>movie_id</th>\n",
       "      <th>counts</th>\n",
       "      <th>timestamp</th>\n",
       "    </tr>\n",
       "  </thead>\n",
       "  <tbody>\n",
       "    <tr>\n",
       "      <th>0</th>\n",
       "      <td>1</td>\n",
       "      <td>1193</td>\n",
       "      <td>5</td>\n",
       "      <td>2000-12-31 22:12:40</td>\n",
       "    </tr>\n",
       "    <tr>\n",
       "      <th>1</th>\n",
       "      <td>1</td>\n",
       "      <td>661</td>\n",
       "      <td>3</td>\n",
       "      <td>2000-12-31 22:35:09</td>\n",
       "    </tr>\n",
       "    <tr>\n",
       "      <th>2</th>\n",
       "      <td>1</td>\n",
       "      <td>914</td>\n",
       "      <td>3</td>\n",
       "      <td>2000-12-31 22:32:48</td>\n",
       "    </tr>\n",
       "    <tr>\n",
       "      <th>3</th>\n",
       "      <td>1</td>\n",
       "      <td>3408</td>\n",
       "      <td>4</td>\n",
       "      <td>2000-12-31 22:04:35</td>\n",
       "    </tr>\n",
       "    <tr>\n",
       "      <th>4</th>\n",
       "      <td>1</td>\n",
       "      <td>2355</td>\n",
       "      <td>5</td>\n",
       "      <td>2001-01-06 23:38:11</td>\n",
       "    </tr>\n",
       "    <tr>\n",
       "      <th>...</th>\n",
       "      <td>...</td>\n",
       "      <td>...</td>\n",
       "      <td>...</td>\n",
       "      <td>...</td>\n",
       "    </tr>\n",
       "    <tr>\n",
       "      <th>1000203</th>\n",
       "      <td>6040</td>\n",
       "      <td>1090</td>\n",
       "      <td>3</td>\n",
       "      <td>2000-04-26 02:18:38</td>\n",
       "    </tr>\n",
       "    <tr>\n",
       "      <th>1000205</th>\n",
       "      <td>6040</td>\n",
       "      <td>1094</td>\n",
       "      <td>5</td>\n",
       "      <td>2000-04-25 23:21:27</td>\n",
       "    </tr>\n",
       "    <tr>\n",
       "      <th>1000206</th>\n",
       "      <td>6040</td>\n",
       "      <td>562</td>\n",
       "      <td>5</td>\n",
       "      <td>2000-04-25 23:19:06</td>\n",
       "    </tr>\n",
       "    <tr>\n",
       "      <th>1000207</th>\n",
       "      <td>6040</td>\n",
       "      <td>1096</td>\n",
       "      <td>4</td>\n",
       "      <td>2000-04-26 02:20:48</td>\n",
       "    </tr>\n",
       "    <tr>\n",
       "      <th>1000208</th>\n",
       "      <td>6040</td>\n",
       "      <td>1097</td>\n",
       "      <td>4</td>\n",
       "      <td>2000-04-26 02:19:29</td>\n",
       "    </tr>\n",
       "  </tbody>\n",
       "</table>\n",
       "<p>836478 rows × 4 columns</p>\n",
       "</div>\n",
       "      <button class=\"colab-df-convert\" onclick=\"convertToInteractive('df-753d787c-868d-4a85-b315-e0321b7cfa6c')\"\n",
       "              title=\"Convert this dataframe to an interactive table.\"\n",
       "              style=\"display:none;\">\n",
       "        \n",
       "  <svg xmlns=\"http://www.w3.org/2000/svg\" height=\"24px\"viewBox=\"0 0 24 24\"\n",
       "       width=\"24px\">\n",
       "    <path d=\"M0 0h24v24H0V0z\" fill=\"none\"/>\n",
       "    <path d=\"M18.56 5.44l.94 2.06.94-2.06 2.06-.94-2.06-.94-.94-2.06-.94 2.06-2.06.94zm-11 1L8.5 8.5l.94-2.06 2.06-.94-2.06-.94L8.5 2.5l-.94 2.06-2.06.94zm10 10l.94 2.06.94-2.06 2.06-.94-2.06-.94-.94-2.06-.94 2.06-2.06.94z\"/><path d=\"M17.41 7.96l-1.37-1.37c-.4-.4-.92-.59-1.43-.59-.52 0-1.04.2-1.43.59L10.3 9.45l-7.72 7.72c-.78.78-.78 2.05 0 2.83L4 21.41c.39.39.9.59 1.41.59.51 0 1.02-.2 1.41-.59l7.78-7.78 2.81-2.81c.8-.78.8-2.07 0-2.86zM5.41 20L4 18.59l7.72-7.72 1.47 1.35L5.41 20z\"/>\n",
       "  </svg>\n",
       "      </button>\n",
       "      \n",
       "  <style>\n",
       "    .colab-df-container {\n",
       "      display:flex;\n",
       "      flex-wrap:wrap;\n",
       "      gap: 12px;\n",
       "    }\n",
       "\n",
       "    .colab-df-convert {\n",
       "      background-color: #E8F0FE;\n",
       "      border: none;\n",
       "      border-radius: 50%;\n",
       "      cursor: pointer;\n",
       "      display: none;\n",
       "      fill: #1967D2;\n",
       "      height: 32px;\n",
       "      padding: 0 0 0 0;\n",
       "      width: 32px;\n",
       "    }\n",
       "\n",
       "    .colab-df-convert:hover {\n",
       "      background-color: #E2EBFA;\n",
       "      box-shadow: 0px 1px 2px rgba(60, 64, 67, 0.3), 0px 1px 3px 1px rgba(60, 64, 67, 0.15);\n",
       "      fill: #174EA6;\n",
       "    }\n",
       "\n",
       "    [theme=dark] .colab-df-convert {\n",
       "      background-color: #3B4455;\n",
       "      fill: #D2E3FC;\n",
       "    }\n",
       "\n",
       "    [theme=dark] .colab-df-convert:hover {\n",
       "      background-color: #434B5C;\n",
       "      box-shadow: 0px 1px 3px 1px rgba(0, 0, 0, 0.15);\n",
       "      filter: drop-shadow(0px 1px 2px rgba(0, 0, 0, 0.3));\n",
       "      fill: #FFFFFF;\n",
       "    }\n",
       "  </style>\n",
       "\n",
       "      <script>\n",
       "        const buttonEl =\n",
       "          document.querySelector('#df-753d787c-868d-4a85-b315-e0321b7cfa6c button.colab-df-convert');\n",
       "        buttonEl.style.display =\n",
       "          google.colab.kernel.accessAllowed ? 'block' : 'none';\n",
       "\n",
       "        async function convertToInteractive(key) {\n",
       "          const element = document.querySelector('#df-753d787c-868d-4a85-b315-e0321b7cfa6c');\n",
       "          const dataTable =\n",
       "            await google.colab.kernel.invokeFunction('convertToInteractive',\n",
       "                                                     [key], {});\n",
       "          if (!dataTable) return;\n",
       "\n",
       "          const docLinkHtml = 'Like what you see? Visit the ' +\n",
       "            '<a target=\"_blank\" href=https://colab.research.google.com/notebooks/data_table.ipynb>data table notebook</a>'\n",
       "            + ' to learn more about interactive tables.';\n",
       "          element.innerHTML = '';\n",
       "          dataTable['output_type'] = 'display_data';\n",
       "          await google.colab.output.renderOutput(dataTable, element);\n",
       "          const docLink = document.createElement('div');\n",
       "          docLink.innerHTML = docLinkHtml;\n",
       "          element.appendChild(docLink);\n",
       "        }\n",
       "      </script>\n",
       "    </div>\n",
       "  </div>\n",
       "  "
      ],
      "text/plain": [
       "         user_id  movie_id  counts           timestamp\n",
       "0              1      1193       5 2000-12-31 22:12:40\n",
       "1              1       661       3 2000-12-31 22:35:09\n",
       "2              1       914       3 2000-12-31 22:32:48\n",
       "3              1      3408       4 2000-12-31 22:04:35\n",
       "4              1      2355       5 2001-01-06 23:38:11\n",
       "...          ...       ...     ...                 ...\n",
       "1000203     6040      1090       3 2000-04-26 02:18:38\n",
       "1000205     6040      1094       5 2000-04-25 23:21:27\n",
       "1000206     6040       562       5 2000-04-25 23:19:06\n",
       "1000207     6040      1096       4 2000-04-26 02:20:48\n",
       "1000208     6040      1097       4 2000-04-26 02:19:29\n",
       "\n",
       "[836478 rows x 4 columns]"
      ]
     },
     "execution_count": 12,
     "metadata": {},
     "output_type": "execute_result"
    }
   ],
   "source": [
    "# Convert timestamp to datetime\n",
    "\n",
    "ratings['timestamp'] = pd.to_datetime(ratings['timestamp'], unit='s')\n",
    "ratings"
   ]
  },
  {
   "cell_type": "code",
   "execution_count": 13,
   "metadata": {
    "colab": {
     "base_uri": "https://localhost:8080/"
    },
    "executionInfo": {
     "elapsed": 429,
     "status": "ok",
     "timestamp": 1656221935454,
     "user": {
      "displayName": "changhwan lee",
      "userId": "04303211996600941657"
     },
     "user_tz": -540
    },
    "id": "ZzV6JaNdvj4A",
    "outputId": "709a5d5e-0ee7-4784-d5ef-378c2e2e4b08"
   },
   "outputs": [
    {
     "data": {
      "text/plain": [
       "user_id      0\n",
       "movie_id     0\n",
       "counts       0\n",
       "timestamp    0\n",
       "dtype: int64"
      ]
     },
     "execution_count": 13,
     "metadata": {},
     "output_type": "execute_result"
    }
   ],
   "source": [
    "# 결측치 확인\n",
    "ratings.isna().sum()"
   ]
  },
  {
   "cell_type": "code",
   "execution_count": 14,
   "metadata": {
    "colab": {
     "base_uri": "https://localhost:8080/"
    },
    "executionInfo": {
     "elapsed": 419,
     "status": "ok",
     "timestamp": 1656221938513,
     "user": {
      "displayName": "changhwan lee",
      "userId": "04303211996600941657"
     },
     "user_tz": -540
    },
    "id": "cFfwVMTnwDqI",
    "outputId": "a0d5b5fa-fa88-41df-fbfc-5ba2ffddc9f6"
   },
   "outputs": [
    {
     "name": "stdout",
     "output_type": "stream",
     "text": [
      "<class 'pandas.core.frame.DataFrame'>\n",
      "Int64Index: 836478 entries, 0 to 1000208\n",
      "Data columns (total 4 columns):\n",
      " #   Column     Non-Null Count   Dtype         \n",
      "---  ------     --------------   -----         \n",
      " 0   user_id    836478 non-null  int64         \n",
      " 1   movie_id   836478 non-null  int64         \n",
      " 2   counts     836478 non-null  int64         \n",
      " 3   timestamp  836478 non-null  datetime64[ns]\n",
      "dtypes: datetime64[ns](1), int64(3)\n",
      "memory usage: 31.9 MB\n"
     ]
    }
   ],
   "source": [
    "ratings.info()"
   ]
  },
  {
   "cell_type": "code",
   "execution_count": 15,
   "metadata": {
    "colab": {
     "base_uri": "https://localhost:8080/",
     "height": 1000
    },
    "executionInfo": {
     "elapsed": 415,
     "status": "ok",
     "timestamp": 1656221942241,
     "user": {
      "displayName": "changhwan lee",
      "userId": "04303211996600941657"
     },
     "user_tz": -540
    },
    "id": "bta5CreHwH-P",
    "outputId": "9705a65f-1e32-40fc-a671-e21fb65be98a"
   },
   "outputs": [
    {
     "name": "stdout",
     "output_type": "stream",
     "text": [
      "user_1 이 시청한 영화 개수: 53\n"
     ]
    },
    {
     "data": {
      "text/html": [
       "\n",
       "  <div id=\"df-86faa566-c734-4795-9aab-8f7753bbc98b\">\n",
       "    <div class=\"colab-df-container\">\n",
       "      <div>\n",
       "<style scoped>\n",
       "    .dataframe tbody tr th:only-of-type {\n",
       "        vertical-align: middle;\n",
       "    }\n",
       "\n",
       "    .dataframe tbody tr th {\n",
       "        vertical-align: top;\n",
       "    }\n",
       "\n",
       "    .dataframe thead th {\n",
       "        text-align: right;\n",
       "    }\n",
       "</style>\n",
       "<table border=\"1\" class=\"dataframe\">\n",
       "  <thead>\n",
       "    <tr style=\"text-align: right;\">\n",
       "      <th></th>\n",
       "      <th>user_id</th>\n",
       "      <th>movie_id</th>\n",
       "      <th>counts</th>\n",
       "      <th>timestamp</th>\n",
       "    </tr>\n",
       "  </thead>\n",
       "  <tbody>\n",
       "    <tr>\n",
       "      <th>0</th>\n",
       "      <td>1</td>\n",
       "      <td>1193</td>\n",
       "      <td>5</td>\n",
       "      <td>2000-12-31 22:12:40</td>\n",
       "    </tr>\n",
       "    <tr>\n",
       "      <th>1</th>\n",
       "      <td>1</td>\n",
       "      <td>661</td>\n",
       "      <td>3</td>\n",
       "      <td>2000-12-31 22:35:09</td>\n",
       "    </tr>\n",
       "    <tr>\n",
       "      <th>2</th>\n",
       "      <td>1</td>\n",
       "      <td>914</td>\n",
       "      <td>3</td>\n",
       "      <td>2000-12-31 22:32:48</td>\n",
       "    </tr>\n",
       "    <tr>\n",
       "      <th>3</th>\n",
       "      <td>1</td>\n",
       "      <td>3408</td>\n",
       "      <td>4</td>\n",
       "      <td>2000-12-31 22:04:35</td>\n",
       "    </tr>\n",
       "    <tr>\n",
       "      <th>4</th>\n",
       "      <td>1</td>\n",
       "      <td>2355</td>\n",
       "      <td>5</td>\n",
       "      <td>2001-01-06 23:38:11</td>\n",
       "    </tr>\n",
       "    <tr>\n",
       "      <th>5</th>\n",
       "      <td>1</td>\n",
       "      <td>1197</td>\n",
       "      <td>3</td>\n",
       "      <td>2000-12-31 22:37:48</td>\n",
       "    </tr>\n",
       "    <tr>\n",
       "      <th>6</th>\n",
       "      <td>1</td>\n",
       "      <td>1287</td>\n",
       "      <td>5</td>\n",
       "      <td>2000-12-31 22:33:59</td>\n",
       "    </tr>\n",
       "    <tr>\n",
       "      <th>7</th>\n",
       "      <td>1</td>\n",
       "      <td>2804</td>\n",
       "      <td>5</td>\n",
       "      <td>2000-12-31 22:11:59</td>\n",
       "    </tr>\n",
       "    <tr>\n",
       "      <th>8</th>\n",
       "      <td>1</td>\n",
       "      <td>594</td>\n",
       "      <td>4</td>\n",
       "      <td>2000-12-31 22:37:48</td>\n",
       "    </tr>\n",
       "    <tr>\n",
       "      <th>9</th>\n",
       "      <td>1</td>\n",
       "      <td>919</td>\n",
       "      <td>4</td>\n",
       "      <td>2000-12-31 22:22:48</td>\n",
       "    </tr>\n",
       "    <tr>\n",
       "      <th>10</th>\n",
       "      <td>1</td>\n",
       "      <td>595</td>\n",
       "      <td>5</td>\n",
       "      <td>2001-01-06 23:37:48</td>\n",
       "    </tr>\n",
       "    <tr>\n",
       "      <th>11</th>\n",
       "      <td>1</td>\n",
       "      <td>938</td>\n",
       "      <td>4</td>\n",
       "      <td>2000-12-31 22:29:12</td>\n",
       "    </tr>\n",
       "    <tr>\n",
       "      <th>12</th>\n",
       "      <td>1</td>\n",
       "      <td>2398</td>\n",
       "      <td>4</td>\n",
       "      <td>2000-12-31 22:38:01</td>\n",
       "    </tr>\n",
       "    <tr>\n",
       "      <th>13</th>\n",
       "      <td>1</td>\n",
       "      <td>2918</td>\n",
       "      <td>4</td>\n",
       "      <td>2000-12-31 22:35:24</td>\n",
       "    </tr>\n",
       "    <tr>\n",
       "      <th>14</th>\n",
       "      <td>1</td>\n",
       "      <td>1035</td>\n",
       "      <td>5</td>\n",
       "      <td>2000-12-31 22:29:13</td>\n",
       "    </tr>\n",
       "    <tr>\n",
       "      <th>15</th>\n",
       "      <td>1</td>\n",
       "      <td>2791</td>\n",
       "      <td>4</td>\n",
       "      <td>2000-12-31 22:36:28</td>\n",
       "    </tr>\n",
       "    <tr>\n",
       "      <th>16</th>\n",
       "      <td>1</td>\n",
       "      <td>2687</td>\n",
       "      <td>3</td>\n",
       "      <td>2001-01-06 23:37:48</td>\n",
       "    </tr>\n",
       "    <tr>\n",
       "      <th>17</th>\n",
       "      <td>1</td>\n",
       "      <td>2018</td>\n",
       "      <td>4</td>\n",
       "      <td>2000-12-31 22:29:37</td>\n",
       "    </tr>\n",
       "    <tr>\n",
       "      <th>18</th>\n",
       "      <td>1</td>\n",
       "      <td>3105</td>\n",
       "      <td>5</td>\n",
       "      <td>2000-12-31 22:28:33</td>\n",
       "    </tr>\n",
       "    <tr>\n",
       "      <th>19</th>\n",
       "      <td>1</td>\n",
       "      <td>2797</td>\n",
       "      <td>4</td>\n",
       "      <td>2000-12-31 22:33:59</td>\n",
       "    </tr>\n",
       "    <tr>\n",
       "      <th>20</th>\n",
       "      <td>1</td>\n",
       "      <td>2321</td>\n",
       "      <td>3</td>\n",
       "      <td>2000-12-31 22:36:45</td>\n",
       "    </tr>\n",
       "    <tr>\n",
       "      <th>21</th>\n",
       "      <td>1</td>\n",
       "      <td>720</td>\n",
       "      <td>3</td>\n",
       "      <td>2000-12-31 22:12:40</td>\n",
       "    </tr>\n",
       "    <tr>\n",
       "      <th>22</th>\n",
       "      <td>1</td>\n",
       "      <td>1270</td>\n",
       "      <td>5</td>\n",
       "      <td>2000-12-31 22:00:55</td>\n",
       "    </tr>\n",
       "    <tr>\n",
       "      <th>23</th>\n",
       "      <td>1</td>\n",
       "      <td>527</td>\n",
       "      <td>5</td>\n",
       "      <td>2001-01-06 23:36:35</td>\n",
       "    </tr>\n",
       "    <tr>\n",
       "      <th>24</th>\n",
       "      <td>1</td>\n",
       "      <td>2340</td>\n",
       "      <td>3</td>\n",
       "      <td>2000-12-31 22:01:43</td>\n",
       "    </tr>\n",
       "    <tr>\n",
       "      <th>25</th>\n",
       "      <td>1</td>\n",
       "      <td>48</td>\n",
       "      <td>5</td>\n",
       "      <td>2001-01-06 23:39:11</td>\n",
       "    </tr>\n",
       "    <tr>\n",
       "      <th>26</th>\n",
       "      <td>1</td>\n",
       "      <td>1097</td>\n",
       "      <td>4</td>\n",
       "      <td>2000-12-31 22:32:33</td>\n",
       "    </tr>\n",
       "    <tr>\n",
       "      <th>27</th>\n",
       "      <td>1</td>\n",
       "      <td>1721</td>\n",
       "      <td>4</td>\n",
       "      <td>2000-12-31 22:00:55</td>\n",
       "    </tr>\n",
       "    <tr>\n",
       "      <th>28</th>\n",
       "      <td>1</td>\n",
       "      <td>1545</td>\n",
       "      <td>4</td>\n",
       "      <td>2001-01-06 23:35:39</td>\n",
       "    </tr>\n",
       "    <tr>\n",
       "      <th>29</th>\n",
       "      <td>1</td>\n",
       "      <td>745</td>\n",
       "      <td>3</td>\n",
       "      <td>2001-01-06 23:37:48</td>\n",
       "    </tr>\n",
       "    <tr>\n",
       "      <th>30</th>\n",
       "      <td>1</td>\n",
       "      <td>2294</td>\n",
       "      <td>4</td>\n",
       "      <td>2001-01-06 23:38:11</td>\n",
       "    </tr>\n",
       "    <tr>\n",
       "      <th>31</th>\n",
       "      <td>1</td>\n",
       "      <td>3186</td>\n",
       "      <td>4</td>\n",
       "      <td>2000-12-31 22:00:19</td>\n",
       "    </tr>\n",
       "    <tr>\n",
       "      <th>32</th>\n",
       "      <td>1</td>\n",
       "      <td>1566</td>\n",
       "      <td>4</td>\n",
       "      <td>2001-01-06 23:38:50</td>\n",
       "    </tr>\n",
       "    <tr>\n",
       "      <th>33</th>\n",
       "      <td>1</td>\n",
       "      <td>588</td>\n",
       "      <td>4</td>\n",
       "      <td>2001-01-06 23:37:48</td>\n",
       "    </tr>\n",
       "    <tr>\n",
       "      <th>34</th>\n",
       "      <td>1</td>\n",
       "      <td>1907</td>\n",
       "      <td>4</td>\n",
       "      <td>2001-01-06 23:38:50</td>\n",
       "    </tr>\n",
       "    <tr>\n",
       "      <th>35</th>\n",
       "      <td>1</td>\n",
       "      <td>783</td>\n",
       "      <td>4</td>\n",
       "      <td>2001-01-06 23:38:11</td>\n",
       "    </tr>\n",
       "    <tr>\n",
       "      <th>36</th>\n",
       "      <td>1</td>\n",
       "      <td>1836</td>\n",
       "      <td>5</td>\n",
       "      <td>2000-12-31 22:02:52</td>\n",
       "    </tr>\n",
       "    <tr>\n",
       "      <th>37</th>\n",
       "      <td>1</td>\n",
       "      <td>1022</td>\n",
       "      <td>5</td>\n",
       "      <td>2000-12-31 22:00:55</td>\n",
       "    </tr>\n",
       "    <tr>\n",
       "      <th>38</th>\n",
       "      <td>1</td>\n",
       "      <td>2762</td>\n",
       "      <td>4</td>\n",
       "      <td>2000-12-31 22:34:51</td>\n",
       "    </tr>\n",
       "    <tr>\n",
       "      <th>39</th>\n",
       "      <td>1</td>\n",
       "      <td>150</td>\n",
       "      <td>5</td>\n",
       "      <td>2000-12-31 22:29:37</td>\n",
       "    </tr>\n",
       "    <tr>\n",
       "      <th>40</th>\n",
       "      <td>1</td>\n",
       "      <td>1</td>\n",
       "      <td>5</td>\n",
       "      <td>2001-01-06 23:37:48</td>\n",
       "    </tr>\n",
       "    <tr>\n",
       "      <th>41</th>\n",
       "      <td>1</td>\n",
       "      <td>1961</td>\n",
       "      <td>5</td>\n",
       "      <td>2000-12-31 22:26:30</td>\n",
       "    </tr>\n",
       "    <tr>\n",
       "      <th>42</th>\n",
       "      <td>1</td>\n",
       "      <td>1962</td>\n",
       "      <td>4</td>\n",
       "      <td>2000-12-31 22:29:13</td>\n",
       "    </tr>\n",
       "    <tr>\n",
       "      <th>43</th>\n",
       "      <td>1</td>\n",
       "      <td>2692</td>\n",
       "      <td>4</td>\n",
       "      <td>2000-12-31 22:26:10</td>\n",
       "    </tr>\n",
       "    <tr>\n",
       "      <th>44</th>\n",
       "      <td>1</td>\n",
       "      <td>260</td>\n",
       "      <td>4</td>\n",
       "      <td>2000-12-31 22:12:40</td>\n",
       "    </tr>\n",
       "    <tr>\n",
       "      <th>45</th>\n",
       "      <td>1</td>\n",
       "      <td>1028</td>\n",
       "      <td>5</td>\n",
       "      <td>2000-12-31 22:29:37</td>\n",
       "    </tr>\n",
       "    <tr>\n",
       "      <th>46</th>\n",
       "      <td>1</td>\n",
       "      <td>1029</td>\n",
       "      <td>5</td>\n",
       "      <td>2000-12-31 22:36:45</td>\n",
       "    </tr>\n",
       "    <tr>\n",
       "      <th>47</th>\n",
       "      <td>1</td>\n",
       "      <td>1207</td>\n",
       "      <td>4</td>\n",
       "      <td>2000-12-31 22:11:59</td>\n",
       "    </tr>\n",
       "    <tr>\n",
       "      <th>48</th>\n",
       "      <td>1</td>\n",
       "      <td>2028</td>\n",
       "      <td>5</td>\n",
       "      <td>2000-12-31 22:26:59</td>\n",
       "    </tr>\n",
       "    <tr>\n",
       "      <th>49</th>\n",
       "      <td>1</td>\n",
       "      <td>531</td>\n",
       "      <td>4</td>\n",
       "      <td>2000-12-31 22:35:49</td>\n",
       "    </tr>\n",
       "    <tr>\n",
       "      <th>50</th>\n",
       "      <td>1</td>\n",
       "      <td>3114</td>\n",
       "      <td>4</td>\n",
       "      <td>2000-12-31 22:36:14</td>\n",
       "    </tr>\n",
       "    <tr>\n",
       "      <th>51</th>\n",
       "      <td>1</td>\n",
       "      <td>608</td>\n",
       "      <td>4</td>\n",
       "      <td>2000-12-31 22:23:18</td>\n",
       "    </tr>\n",
       "    <tr>\n",
       "      <th>52</th>\n",
       "      <td>1</td>\n",
       "      <td>1246</td>\n",
       "      <td>4</td>\n",
       "      <td>2000-12-31 22:34:51</td>\n",
       "    </tr>\n",
       "  </tbody>\n",
       "</table>\n",
       "</div>\n",
       "      <button class=\"colab-df-convert\" onclick=\"convertToInteractive('df-86faa566-c734-4795-9aab-8f7753bbc98b')\"\n",
       "              title=\"Convert this dataframe to an interactive table.\"\n",
       "              style=\"display:none;\">\n",
       "        \n",
       "  <svg xmlns=\"http://www.w3.org/2000/svg\" height=\"24px\"viewBox=\"0 0 24 24\"\n",
       "       width=\"24px\">\n",
       "    <path d=\"M0 0h24v24H0V0z\" fill=\"none\"/>\n",
       "    <path d=\"M18.56 5.44l.94 2.06.94-2.06 2.06-.94-2.06-.94-.94-2.06-.94 2.06-2.06.94zm-11 1L8.5 8.5l.94-2.06 2.06-.94-2.06-.94L8.5 2.5l-.94 2.06-2.06.94zm10 10l.94 2.06.94-2.06 2.06-.94-2.06-.94-.94-2.06-.94 2.06-2.06.94z\"/><path d=\"M17.41 7.96l-1.37-1.37c-.4-.4-.92-.59-1.43-.59-.52 0-1.04.2-1.43.59L10.3 9.45l-7.72 7.72c-.78.78-.78 2.05 0 2.83L4 21.41c.39.39.9.59 1.41.59.51 0 1.02-.2 1.41-.59l7.78-7.78 2.81-2.81c.8-.78.8-2.07 0-2.86zM5.41 20L4 18.59l7.72-7.72 1.47 1.35L5.41 20z\"/>\n",
       "  </svg>\n",
       "      </button>\n",
       "      \n",
       "  <style>\n",
       "    .colab-df-container {\n",
       "      display:flex;\n",
       "      flex-wrap:wrap;\n",
       "      gap: 12px;\n",
       "    }\n",
       "\n",
       "    .colab-df-convert {\n",
       "      background-color: #E8F0FE;\n",
       "      border: none;\n",
       "      border-radius: 50%;\n",
       "      cursor: pointer;\n",
       "      display: none;\n",
       "      fill: #1967D2;\n",
       "      height: 32px;\n",
       "      padding: 0 0 0 0;\n",
       "      width: 32px;\n",
       "    }\n",
       "\n",
       "    .colab-df-convert:hover {\n",
       "      background-color: #E2EBFA;\n",
       "      box-shadow: 0px 1px 2px rgba(60, 64, 67, 0.3), 0px 1px 3px 1px rgba(60, 64, 67, 0.15);\n",
       "      fill: #174EA6;\n",
       "    }\n",
       "\n",
       "    [theme=dark] .colab-df-convert {\n",
       "      background-color: #3B4455;\n",
       "      fill: #D2E3FC;\n",
       "    }\n",
       "\n",
       "    [theme=dark] .colab-df-convert:hover {\n",
       "      background-color: #434B5C;\n",
       "      box-shadow: 0px 1px 3px 1px rgba(0, 0, 0, 0.15);\n",
       "      filter: drop-shadow(0px 1px 2px rgba(0, 0, 0, 0.3));\n",
       "      fill: #FFFFFF;\n",
       "    }\n",
       "  </style>\n",
       "\n",
       "      <script>\n",
       "        const buttonEl =\n",
       "          document.querySelector('#df-86faa566-c734-4795-9aab-8f7753bbc98b button.colab-df-convert');\n",
       "        buttonEl.style.display =\n",
       "          google.colab.kernel.accessAllowed ? 'block' : 'none';\n",
       "\n",
       "        async function convertToInteractive(key) {\n",
       "          const element = document.querySelector('#df-86faa566-c734-4795-9aab-8f7753bbc98b');\n",
       "          const dataTable =\n",
       "            await google.colab.kernel.invokeFunction('convertToInteractive',\n",
       "                                                     [key], {});\n",
       "          if (!dataTable) return;\n",
       "\n",
       "          const docLinkHtml = 'Like what you see? Visit the ' +\n",
       "            '<a target=\"_blank\" href=https://colab.research.google.com/notebooks/data_table.ipynb>data table notebook</a>'\n",
       "            + ' to learn more about interactive tables.';\n",
       "          element.innerHTML = '';\n",
       "          dataTable['output_type'] = 'display_data';\n",
       "          await google.colab.output.renderOutput(dataTable, element);\n",
       "          const docLink = document.createElement('div');\n",
       "          docLink.innerHTML = docLinkHtml;\n",
       "          element.appendChild(docLink);\n",
       "        }\n",
       "      </script>\n",
       "    </div>\n",
       "  </div>\n",
       "  "
      ],
      "text/plain": [
       "    user_id  movie_id  counts           timestamp\n",
       "0         1      1193       5 2000-12-31 22:12:40\n",
       "1         1       661       3 2000-12-31 22:35:09\n",
       "2         1       914       3 2000-12-31 22:32:48\n",
       "3         1      3408       4 2000-12-31 22:04:35\n",
       "4         1      2355       5 2001-01-06 23:38:11\n",
       "5         1      1197       3 2000-12-31 22:37:48\n",
       "6         1      1287       5 2000-12-31 22:33:59\n",
       "7         1      2804       5 2000-12-31 22:11:59\n",
       "8         1       594       4 2000-12-31 22:37:48\n",
       "9         1       919       4 2000-12-31 22:22:48\n",
       "10        1       595       5 2001-01-06 23:37:48\n",
       "11        1       938       4 2000-12-31 22:29:12\n",
       "12        1      2398       4 2000-12-31 22:38:01\n",
       "13        1      2918       4 2000-12-31 22:35:24\n",
       "14        1      1035       5 2000-12-31 22:29:13\n",
       "15        1      2791       4 2000-12-31 22:36:28\n",
       "16        1      2687       3 2001-01-06 23:37:48\n",
       "17        1      2018       4 2000-12-31 22:29:37\n",
       "18        1      3105       5 2000-12-31 22:28:33\n",
       "19        1      2797       4 2000-12-31 22:33:59\n",
       "20        1      2321       3 2000-12-31 22:36:45\n",
       "21        1       720       3 2000-12-31 22:12:40\n",
       "22        1      1270       5 2000-12-31 22:00:55\n",
       "23        1       527       5 2001-01-06 23:36:35\n",
       "24        1      2340       3 2000-12-31 22:01:43\n",
       "25        1        48       5 2001-01-06 23:39:11\n",
       "26        1      1097       4 2000-12-31 22:32:33\n",
       "27        1      1721       4 2000-12-31 22:00:55\n",
       "28        1      1545       4 2001-01-06 23:35:39\n",
       "29        1       745       3 2001-01-06 23:37:48\n",
       "30        1      2294       4 2001-01-06 23:38:11\n",
       "31        1      3186       4 2000-12-31 22:00:19\n",
       "32        1      1566       4 2001-01-06 23:38:50\n",
       "33        1       588       4 2001-01-06 23:37:48\n",
       "34        1      1907       4 2001-01-06 23:38:50\n",
       "35        1       783       4 2001-01-06 23:38:11\n",
       "36        1      1836       5 2000-12-31 22:02:52\n",
       "37        1      1022       5 2000-12-31 22:00:55\n",
       "38        1      2762       4 2000-12-31 22:34:51\n",
       "39        1       150       5 2000-12-31 22:29:37\n",
       "40        1         1       5 2001-01-06 23:37:48\n",
       "41        1      1961       5 2000-12-31 22:26:30\n",
       "42        1      1962       4 2000-12-31 22:29:13\n",
       "43        1      2692       4 2000-12-31 22:26:10\n",
       "44        1       260       4 2000-12-31 22:12:40\n",
       "45        1      1028       5 2000-12-31 22:29:37\n",
       "46        1      1029       5 2000-12-31 22:36:45\n",
       "47        1      1207       4 2000-12-31 22:11:59\n",
       "48        1      2028       5 2000-12-31 22:26:59\n",
       "49        1       531       4 2000-12-31 22:35:49\n",
       "50        1      3114       4 2000-12-31 22:36:14\n",
       "51        1       608       4 2000-12-31 22:23:18\n",
       "52        1      1246       4 2000-12-31 22:34:51"
      ]
     },
     "execution_count": 15,
     "metadata": {},
     "output_type": "execute_result"
    }
   ],
   "source": [
    "# 첫 번째 유저가 어떤 영화를 봤는지 확인\n",
    "\n",
    "ratings_user_1 = (ratings['user_id']==ratings.loc[0, 'user_id'])\n",
    "movies_user_1 = ratings.loc[ratings_user_1]\n",
    "print(f'user_1 이 시청한 영화 개수: {len(movies_user_1)}')\n",
    "movies_user_1"
   ]
  },
  {
   "cell_type": "markdown",
   "metadata": {
    "id": "vaKl9ACPwmIA"
   },
   "source": [
    "##### 메타 데이터(영화) 불러오기: \n",
    " * Movielens 데이터 movies.dat (MovieID::Title::Genres)"
   ]
  },
  {
   "cell_type": "code",
   "execution_count": 16,
   "metadata": {
    "colab": {
     "base_uri": "https://localhost:8080/",
     "height": 424
    },
    "executionInfo": {
     "elapsed": 975,
     "status": "ok",
     "timestamp": 1656221949025,
     "user": {
      "displayName": "changhwan lee",
      "userId": "04303211996600941657"
     },
     "user_tz": -540
    },
    "id": "UiKmDvsmwdR5",
    "outputId": "033e51dd-cceb-4a2e-a124-c5a7f9b0a982"
   },
   "outputs": [
    {
     "data": {
      "text/html": [
       "\n",
       "  <div id=\"df-8cbb2837-6d77-420d-bd1c-e524fd79c259\">\n",
       "    <div class=\"colab-df-container\">\n",
       "      <div>\n",
       "<style scoped>\n",
       "    .dataframe tbody tr th:only-of-type {\n",
       "        vertical-align: middle;\n",
       "    }\n",
       "\n",
       "    .dataframe tbody tr th {\n",
       "        vertical-align: top;\n",
       "    }\n",
       "\n",
       "    .dataframe thead th {\n",
       "        text-align: right;\n",
       "    }\n",
       "</style>\n",
       "<table border=\"1\" class=\"dataframe\">\n",
       "  <thead>\n",
       "    <tr style=\"text-align: right;\">\n",
       "      <th></th>\n",
       "      <th>movie_id</th>\n",
       "      <th>title</th>\n",
       "      <th>genre</th>\n",
       "    </tr>\n",
       "  </thead>\n",
       "  <tbody>\n",
       "    <tr>\n",
       "      <th>0</th>\n",
       "      <td>1</td>\n",
       "      <td>Toy Story (1995)</td>\n",
       "      <td>Animation|Children's|Comedy</td>\n",
       "    </tr>\n",
       "    <tr>\n",
       "      <th>1</th>\n",
       "      <td>2</td>\n",
       "      <td>Jumanji (1995)</td>\n",
       "      <td>Adventure|Children's|Fantasy</td>\n",
       "    </tr>\n",
       "    <tr>\n",
       "      <th>2</th>\n",
       "      <td>3</td>\n",
       "      <td>Grumpier Old Men (1995)</td>\n",
       "      <td>Comedy|Romance</td>\n",
       "    </tr>\n",
       "    <tr>\n",
       "      <th>3</th>\n",
       "      <td>4</td>\n",
       "      <td>Waiting to Exhale (1995)</td>\n",
       "      <td>Comedy|Drama</td>\n",
       "    </tr>\n",
       "    <tr>\n",
       "      <th>4</th>\n",
       "      <td>5</td>\n",
       "      <td>Father of the Bride Part II (1995)</td>\n",
       "      <td>Comedy</td>\n",
       "    </tr>\n",
       "    <tr>\n",
       "      <th>...</th>\n",
       "      <td>...</td>\n",
       "      <td>...</td>\n",
       "      <td>...</td>\n",
       "    </tr>\n",
       "    <tr>\n",
       "      <th>3878</th>\n",
       "      <td>3948</td>\n",
       "      <td>Meet the Parents (2000)</td>\n",
       "      <td>Comedy</td>\n",
       "    </tr>\n",
       "    <tr>\n",
       "      <th>3879</th>\n",
       "      <td>3949</td>\n",
       "      <td>Requiem for a Dream (2000)</td>\n",
       "      <td>Drama</td>\n",
       "    </tr>\n",
       "    <tr>\n",
       "      <th>3880</th>\n",
       "      <td>3950</td>\n",
       "      <td>Tigerland (2000)</td>\n",
       "      <td>Drama</td>\n",
       "    </tr>\n",
       "    <tr>\n",
       "      <th>3881</th>\n",
       "      <td>3951</td>\n",
       "      <td>Two Family House (2000)</td>\n",
       "      <td>Drama</td>\n",
       "    </tr>\n",
       "    <tr>\n",
       "      <th>3882</th>\n",
       "      <td>3952</td>\n",
       "      <td>Contender, The (2000)</td>\n",
       "      <td>Drama|Thriller</td>\n",
       "    </tr>\n",
       "  </tbody>\n",
       "</table>\n",
       "<p>3883 rows × 3 columns</p>\n",
       "</div>\n",
       "      <button class=\"colab-df-convert\" onclick=\"convertToInteractive('df-8cbb2837-6d77-420d-bd1c-e524fd79c259')\"\n",
       "              title=\"Convert this dataframe to an interactive table.\"\n",
       "              style=\"display:none;\">\n",
       "        \n",
       "  <svg xmlns=\"http://www.w3.org/2000/svg\" height=\"24px\"viewBox=\"0 0 24 24\"\n",
       "       width=\"24px\">\n",
       "    <path d=\"M0 0h24v24H0V0z\" fill=\"none\"/>\n",
       "    <path d=\"M18.56 5.44l.94 2.06.94-2.06 2.06-.94-2.06-.94-.94-2.06-.94 2.06-2.06.94zm-11 1L8.5 8.5l.94-2.06 2.06-.94-2.06-.94L8.5 2.5l-.94 2.06-2.06.94zm10 10l.94 2.06.94-2.06 2.06-.94-2.06-.94-.94-2.06-.94 2.06-2.06.94z\"/><path d=\"M17.41 7.96l-1.37-1.37c-.4-.4-.92-.59-1.43-.59-.52 0-1.04.2-1.43.59L10.3 9.45l-7.72 7.72c-.78.78-.78 2.05 0 2.83L4 21.41c.39.39.9.59 1.41.59.51 0 1.02-.2 1.41-.59l7.78-7.78 2.81-2.81c.8-.78.8-2.07 0-2.86zM5.41 20L4 18.59l7.72-7.72 1.47 1.35L5.41 20z\"/>\n",
       "  </svg>\n",
       "      </button>\n",
       "      \n",
       "  <style>\n",
       "    .colab-df-container {\n",
       "      display:flex;\n",
       "      flex-wrap:wrap;\n",
       "      gap: 12px;\n",
       "    }\n",
       "\n",
       "    .colab-df-convert {\n",
       "      background-color: #E8F0FE;\n",
       "      border: none;\n",
       "      border-radius: 50%;\n",
       "      cursor: pointer;\n",
       "      display: none;\n",
       "      fill: #1967D2;\n",
       "      height: 32px;\n",
       "      padding: 0 0 0 0;\n",
       "      width: 32px;\n",
       "    }\n",
       "\n",
       "    .colab-df-convert:hover {\n",
       "      background-color: #E2EBFA;\n",
       "      box-shadow: 0px 1px 2px rgba(60, 64, 67, 0.3), 0px 1px 3px 1px rgba(60, 64, 67, 0.15);\n",
       "      fill: #174EA6;\n",
       "    }\n",
       "\n",
       "    [theme=dark] .colab-df-convert {\n",
       "      background-color: #3B4455;\n",
       "      fill: #D2E3FC;\n",
       "    }\n",
       "\n",
       "    [theme=dark] .colab-df-convert:hover {\n",
       "      background-color: #434B5C;\n",
       "      box-shadow: 0px 1px 3px 1px rgba(0, 0, 0, 0.15);\n",
       "      filter: drop-shadow(0px 1px 2px rgba(0, 0, 0, 0.3));\n",
       "      fill: #FFFFFF;\n",
       "    }\n",
       "  </style>\n",
       "\n",
       "      <script>\n",
       "        const buttonEl =\n",
       "          document.querySelector('#df-8cbb2837-6d77-420d-bd1c-e524fd79c259 button.colab-df-convert');\n",
       "        buttonEl.style.display =\n",
       "          google.colab.kernel.accessAllowed ? 'block' : 'none';\n",
       "\n",
       "        async function convertToInteractive(key) {\n",
       "          const element = document.querySelector('#df-8cbb2837-6d77-420d-bd1c-e524fd79c259');\n",
       "          const dataTable =\n",
       "            await google.colab.kernel.invokeFunction('convertToInteractive',\n",
       "                                                     [key], {});\n",
       "          if (!dataTable) return;\n",
       "\n",
       "          const docLinkHtml = 'Like what you see? Visit the ' +\n",
       "            '<a target=\"_blank\" href=https://colab.research.google.com/notebooks/data_table.ipynb>data table notebook</a>'\n",
       "            + ' to learn more about interactive tables.';\n",
       "          element.innerHTML = '';\n",
       "          dataTable['output_type'] = 'display_data';\n",
       "          await google.colab.output.renderOutput(dataTable, element);\n",
       "          const docLink = document.createElement('div');\n",
       "          docLink.innerHTML = docLinkHtml;\n",
       "          element.appendChild(docLink);\n",
       "        }\n",
       "      </script>\n",
       "    </div>\n",
       "  </div>\n",
       "  "
      ],
      "text/plain": [
       "      movie_id                               title  \\\n",
       "0            1                    Toy Story (1995)   \n",
       "1            2                      Jumanji (1995)   \n",
       "2            3             Grumpier Old Men (1995)   \n",
       "3            4            Waiting to Exhale (1995)   \n",
       "4            5  Father of the Bride Part II (1995)   \n",
       "...        ...                                 ...   \n",
       "3878      3948             Meet the Parents (2000)   \n",
       "3879      3949          Requiem for a Dream (2000)   \n",
       "3880      3950                    Tigerland (2000)   \n",
       "3881      3951             Two Family House (2000)   \n",
       "3882      3952               Contender, The (2000)   \n",
       "\n",
       "                             genre  \n",
       "0      Animation|Children's|Comedy  \n",
       "1     Adventure|Children's|Fantasy  \n",
       "2                   Comedy|Romance  \n",
       "3                     Comedy|Drama  \n",
       "4                           Comedy  \n",
       "...                            ...  \n",
       "3878                        Comedy  \n",
       "3879                         Drama  \n",
       "3880                         Drama  \n",
       "3881                         Drama  \n",
       "3882                Drama|Thriller  \n",
       "\n",
       "[3883 rows x 3 columns]"
      ]
     },
     "execution_count": 16,
     "metadata": {},
     "output_type": "execute_result"
    }
   ],
   "source": [
    "# 영화 제목을 보기 위해 메타 데이터를 읽어옵니다.\n",
    "\n",
    "movie_file_path='/content/drive/MyDrive/LMS/E_15/movies.dat'\n",
    "cols = ['movie_id', 'title', 'genre'] \n",
    "movies = pd.read_csv(movie_file_path, sep='::', names=cols, engine='python', encoding='ISO-8859-1')\n",
    "movies"
   ]
  },
  {
   "cell_type": "code",
   "execution_count": 17,
   "metadata": {
    "colab": {
     "base_uri": "https://localhost:8080/"
    },
    "executionInfo": {
     "elapsed": 8,
     "status": "ok",
     "timestamp": 1656221952935,
     "user": {
      "displayName": "changhwan lee",
      "userId": "04303211996600941657"
     },
     "user_tz": -540
    },
    "id": "z758yYDmxC1B",
    "outputId": "5297ea01-eaca-4783-b082-172c0558004d"
   },
   "outputs": [
    {
     "name": "stdout",
     "output_type": "stream",
     "text": [
      "3883\n"
     ]
    }
   ],
   "source": [
    "# 원본 메타 데이터 보관\n",
    "\n",
    "movies_orig = movies.copy()\n",
    "movies_orig_size = len(movies)\n",
    "print(movies_orig_size)"
   ]
  },
  {
   "cell_type": "markdown",
   "metadata": {
    "id": "al4s34UWx5UC"
   },
   "source": [
    "movies 데이터 확인"
   ]
  },
  {
   "cell_type": "code",
   "execution_count": 18,
   "metadata": {
    "colab": {
     "base_uri": "https://localhost:8080/"
    },
    "executionInfo": {
     "elapsed": 4,
     "status": "ok",
     "timestamp": 1656221956469,
     "user": {
      "displayName": "changhwan lee",
      "userId": "04303211996600941657"
     },
     "user_tz": -540
    },
    "id": "o8vyQ0nBx09n",
    "outputId": "0b8587fe-7c3f-4f4a-e592-47593c29a3e6"
   },
   "outputs": [
    {
     "data": {
      "text/plain": [
       "movie_id    0\n",
       "title       0\n",
       "genre       0\n",
       "dtype: int64"
      ]
     },
     "execution_count": 18,
     "metadata": {},
     "output_type": "execute_result"
    }
   ],
   "source": [
    "# 결측치 확인\n",
    "movies.isna().sum()"
   ]
  },
  {
   "cell_type": "code",
   "execution_count": 19,
   "metadata": {
    "colab": {
     "base_uri": "https://localhost:8080/"
    },
    "executionInfo": {
     "elapsed": 5,
     "status": "ok",
     "timestamp": 1656221962494,
     "user": {
      "displayName": "changhwan lee",
      "userId": "04303211996600941657"
     },
     "user_tz": -540
    },
    "id": "Lw3uS4Bax-F4",
    "outputId": "320dfc82-5d62-464f-bf50-16a3b72828c4"
   },
   "outputs": [
    {
     "name": "stdout",
     "output_type": "stream",
     "text": [
      "<class 'pandas.core.frame.DataFrame'>\n",
      "RangeIndex: 3883 entries, 0 to 3882\n",
      "Data columns (total 3 columns):\n",
      " #   Column    Non-Null Count  Dtype \n",
      "---  ------    --------------  ----- \n",
      " 0   movie_id  3883 non-null   int64 \n",
      " 1   title     3883 non-null   object\n",
      " 2   genre     3883 non-null   object\n",
      "dtypes: int64(1), object(2)\n",
      "memory usage: 91.1+ KB\n"
     ]
    }
   ],
   "source": [
    "movies.info()"
   ]
  },
  {
   "cell_type": "markdown",
   "metadata": {
    "id": "etgZ8HdOyOix"
   },
   "source": [
    "데이터 합치기: ratings + movies"
   ]
  },
  {
   "cell_type": "code",
   "execution_count": 20,
   "metadata": {
    "colab": {
     "base_uri": "https://localhost:8080/",
     "height": 363
    },
    "executionInfo": {
     "elapsed": 550,
     "status": "ok",
     "timestamp": 1656221966843,
     "user": {
      "displayName": "changhwan lee",
      "userId": "04303211996600941657"
     },
     "user_tz": -540
    },
    "id": "oFDnpKd0yHEA",
    "outputId": "36b9b79e-a5dd-4dda-d402-aacb73b83964"
   },
   "outputs": [
    {
     "data": {
      "text/html": [
       "\n",
       "  <div id=\"df-b00ace37-847a-41ac-86db-777e1b0fc55c\">\n",
       "    <div class=\"colab-df-container\">\n",
       "      <div>\n",
       "<style scoped>\n",
       "    .dataframe tbody tr th:only-of-type {\n",
       "        vertical-align: middle;\n",
       "    }\n",
       "\n",
       "    .dataframe tbody tr th {\n",
       "        vertical-align: top;\n",
       "    }\n",
       "\n",
       "    .dataframe thead th {\n",
       "        text-align: right;\n",
       "    }\n",
       "</style>\n",
       "<table border=\"1\" class=\"dataframe\">\n",
       "  <thead>\n",
       "    <tr style=\"text-align: right;\">\n",
       "      <th></th>\n",
       "      <th>user_id</th>\n",
       "      <th>movie_id</th>\n",
       "      <th>counts</th>\n",
       "      <th>timestamp</th>\n",
       "      <th>title</th>\n",
       "      <th>genre</th>\n",
       "    </tr>\n",
       "  </thead>\n",
       "  <tbody>\n",
       "    <tr>\n",
       "      <th>0</th>\n",
       "      <td>1</td>\n",
       "      <td>1193</td>\n",
       "      <td>5</td>\n",
       "      <td>2000-12-31 22:12:40</td>\n",
       "      <td>One Flew Over the Cuckoo's Nest (1975)</td>\n",
       "      <td>Drama</td>\n",
       "    </tr>\n",
       "    <tr>\n",
       "      <th>1</th>\n",
       "      <td>1</td>\n",
       "      <td>661</td>\n",
       "      <td>3</td>\n",
       "      <td>2000-12-31 22:35:09</td>\n",
       "      <td>James and the Giant Peach (1996)</td>\n",
       "      <td>Animation|Children's|Musical</td>\n",
       "    </tr>\n",
       "    <tr>\n",
       "      <th>2</th>\n",
       "      <td>1</td>\n",
       "      <td>914</td>\n",
       "      <td>3</td>\n",
       "      <td>2000-12-31 22:32:48</td>\n",
       "      <td>My Fair Lady (1964)</td>\n",
       "      <td>Musical|Romance</td>\n",
       "    </tr>\n",
       "    <tr>\n",
       "      <th>3</th>\n",
       "      <td>1</td>\n",
       "      <td>3408</td>\n",
       "      <td>4</td>\n",
       "      <td>2000-12-31 22:04:35</td>\n",
       "      <td>Erin Brockovich (2000)</td>\n",
       "      <td>Drama</td>\n",
       "    </tr>\n",
       "    <tr>\n",
       "      <th>4</th>\n",
       "      <td>1</td>\n",
       "      <td>2355</td>\n",
       "      <td>5</td>\n",
       "      <td>2001-01-06 23:38:11</td>\n",
       "      <td>Bug's Life, A (1998)</td>\n",
       "      <td>Animation|Children's|Comedy</td>\n",
       "    </tr>\n",
       "    <tr>\n",
       "      <th>5</th>\n",
       "      <td>1</td>\n",
       "      <td>1197</td>\n",
       "      <td>3</td>\n",
       "      <td>2000-12-31 22:37:48</td>\n",
       "      <td>Princess Bride, The (1987)</td>\n",
       "      <td>Action|Adventure|Comedy|Romance</td>\n",
       "    </tr>\n",
       "    <tr>\n",
       "      <th>6</th>\n",
       "      <td>1</td>\n",
       "      <td>1287</td>\n",
       "      <td>5</td>\n",
       "      <td>2000-12-31 22:33:59</td>\n",
       "      <td>Ben-Hur (1959)</td>\n",
       "      <td>Action|Adventure|Drama</td>\n",
       "    </tr>\n",
       "    <tr>\n",
       "      <th>7</th>\n",
       "      <td>1</td>\n",
       "      <td>2804</td>\n",
       "      <td>5</td>\n",
       "      <td>2000-12-31 22:11:59</td>\n",
       "      <td>Christmas Story, A (1983)</td>\n",
       "      <td>Comedy|Drama</td>\n",
       "    </tr>\n",
       "    <tr>\n",
       "      <th>8</th>\n",
       "      <td>1</td>\n",
       "      <td>594</td>\n",
       "      <td>4</td>\n",
       "      <td>2000-12-31 22:37:48</td>\n",
       "      <td>Snow White and the Seven Dwarfs (1937)</td>\n",
       "      <td>Animation|Children's|Musical</td>\n",
       "    </tr>\n",
       "    <tr>\n",
       "      <th>9</th>\n",
       "      <td>1</td>\n",
       "      <td>919</td>\n",
       "      <td>4</td>\n",
       "      <td>2000-12-31 22:22:48</td>\n",
       "      <td>Wizard of Oz, The (1939)</td>\n",
       "      <td>Adventure|Children's|Drama|Musical</td>\n",
       "    </tr>\n",
       "  </tbody>\n",
       "</table>\n",
       "</div>\n",
       "      <button class=\"colab-df-convert\" onclick=\"convertToInteractive('df-b00ace37-847a-41ac-86db-777e1b0fc55c')\"\n",
       "              title=\"Convert this dataframe to an interactive table.\"\n",
       "              style=\"display:none;\">\n",
       "        \n",
       "  <svg xmlns=\"http://www.w3.org/2000/svg\" height=\"24px\"viewBox=\"0 0 24 24\"\n",
       "       width=\"24px\">\n",
       "    <path d=\"M0 0h24v24H0V0z\" fill=\"none\"/>\n",
       "    <path d=\"M18.56 5.44l.94 2.06.94-2.06 2.06-.94-2.06-.94-.94-2.06-.94 2.06-2.06.94zm-11 1L8.5 8.5l.94-2.06 2.06-.94-2.06-.94L8.5 2.5l-.94 2.06-2.06.94zm10 10l.94 2.06.94-2.06 2.06-.94-2.06-.94-.94-2.06-.94 2.06-2.06.94z\"/><path d=\"M17.41 7.96l-1.37-1.37c-.4-.4-.92-.59-1.43-.59-.52 0-1.04.2-1.43.59L10.3 9.45l-7.72 7.72c-.78.78-.78 2.05 0 2.83L4 21.41c.39.39.9.59 1.41.59.51 0 1.02-.2 1.41-.59l7.78-7.78 2.81-2.81c.8-.78.8-2.07 0-2.86zM5.41 20L4 18.59l7.72-7.72 1.47 1.35L5.41 20z\"/>\n",
       "  </svg>\n",
       "      </button>\n",
       "      \n",
       "  <style>\n",
       "    .colab-df-container {\n",
       "      display:flex;\n",
       "      flex-wrap:wrap;\n",
       "      gap: 12px;\n",
       "    }\n",
       "\n",
       "    .colab-df-convert {\n",
       "      background-color: #E8F0FE;\n",
       "      border: none;\n",
       "      border-radius: 50%;\n",
       "      cursor: pointer;\n",
       "      display: none;\n",
       "      fill: #1967D2;\n",
       "      height: 32px;\n",
       "      padding: 0 0 0 0;\n",
       "      width: 32px;\n",
       "    }\n",
       "\n",
       "    .colab-df-convert:hover {\n",
       "      background-color: #E2EBFA;\n",
       "      box-shadow: 0px 1px 2px rgba(60, 64, 67, 0.3), 0px 1px 3px 1px rgba(60, 64, 67, 0.15);\n",
       "      fill: #174EA6;\n",
       "    }\n",
       "\n",
       "    [theme=dark] .colab-df-convert {\n",
       "      background-color: #3B4455;\n",
       "      fill: #D2E3FC;\n",
       "    }\n",
       "\n",
       "    [theme=dark] .colab-df-convert:hover {\n",
       "      background-color: #434B5C;\n",
       "      box-shadow: 0px 1px 3px 1px rgba(0, 0, 0, 0.15);\n",
       "      filter: drop-shadow(0px 1px 2px rgba(0, 0, 0, 0.3));\n",
       "      fill: #FFFFFF;\n",
       "    }\n",
       "  </style>\n",
       "\n",
       "      <script>\n",
       "        const buttonEl =\n",
       "          document.querySelector('#df-b00ace37-847a-41ac-86db-777e1b0fc55c button.colab-df-convert');\n",
       "        buttonEl.style.display =\n",
       "          google.colab.kernel.accessAllowed ? 'block' : 'none';\n",
       "\n",
       "        async function convertToInteractive(key) {\n",
       "          const element = document.querySelector('#df-b00ace37-847a-41ac-86db-777e1b0fc55c');\n",
       "          const dataTable =\n",
       "            await google.colab.kernel.invokeFunction('convertToInteractive',\n",
       "                                                     [key], {});\n",
       "          if (!dataTable) return;\n",
       "\n",
       "          const docLinkHtml = 'Like what you see? Visit the ' +\n",
       "            '<a target=\"_blank\" href=https://colab.research.google.com/notebooks/data_table.ipynb>data table notebook</a>'\n",
       "            + ' to learn more about interactive tables.';\n",
       "          element.innerHTML = '';\n",
       "          dataTable['output_type'] = 'display_data';\n",
       "          await google.colab.output.renderOutput(dataTable, element);\n",
       "          const docLink = document.createElement('div');\n",
       "          docLink.innerHTML = docLinkHtml;\n",
       "          element.appendChild(docLink);\n",
       "        }\n",
       "      </script>\n",
       "    </div>\n",
       "  </div>\n",
       "  "
      ],
      "text/plain": [
       "   user_id  movie_id  counts           timestamp  \\\n",
       "0        1      1193       5 2000-12-31 22:12:40   \n",
       "1        1       661       3 2000-12-31 22:35:09   \n",
       "2        1       914       3 2000-12-31 22:32:48   \n",
       "3        1      3408       4 2000-12-31 22:04:35   \n",
       "4        1      2355       5 2001-01-06 23:38:11   \n",
       "5        1      1197       3 2000-12-31 22:37:48   \n",
       "6        1      1287       5 2000-12-31 22:33:59   \n",
       "7        1      2804       5 2000-12-31 22:11:59   \n",
       "8        1       594       4 2000-12-31 22:37:48   \n",
       "9        1       919       4 2000-12-31 22:22:48   \n",
       "\n",
       "                                    title                               genre  \n",
       "0  One Flew Over the Cuckoo's Nest (1975)                               Drama  \n",
       "1        James and the Giant Peach (1996)        Animation|Children's|Musical  \n",
       "2                     My Fair Lady (1964)                     Musical|Romance  \n",
       "3                  Erin Brockovich (2000)                               Drama  \n",
       "4                    Bug's Life, A (1998)         Animation|Children's|Comedy  \n",
       "5              Princess Bride, The (1987)     Action|Adventure|Comedy|Romance  \n",
       "6                          Ben-Hur (1959)              Action|Adventure|Drama  \n",
       "7               Christmas Story, A (1983)                        Comedy|Drama  \n",
       "8  Snow White and the Seven Dwarfs (1937)        Animation|Children's|Musical  \n",
       "9                Wizard of Oz, The (1939)  Adventure|Children's|Drama|Musical  "
      ]
     },
     "execution_count": 20,
     "metadata": {},
     "output_type": "execute_result"
    }
   ],
   "source": [
    "# ratings 와 movies 데이터 프레임 합치기\n",
    "\n",
    "ratings = ratings.join(movies.set_index('movie_id'), on='movie_id')\n",
    "ratings.head(10)"
   ]
  },
  {
   "cell_type": "code",
   "execution_count": 21,
   "metadata": {
    "colab": {
     "base_uri": "https://localhost:8080/",
     "height": 1000
    },
    "executionInfo": {
     "elapsed": 449,
     "status": "ok",
     "timestamp": 1656221971761,
     "user": {
      "displayName": "changhwan lee",
      "userId": "04303211996600941657"
     },
     "user_tz": -540
    },
    "id": "9dGx-P3Mya_g",
    "outputId": "9b5372a4-d7d1-45f1-d12b-afeeffa117f3"
   },
   "outputs": [
    {
     "name": "stdout",
     "output_type": "stream",
     "text": [
      "user_1 이 시청한 영화 개수: 53\n"
     ]
    },
    {
     "data": {
      "text/html": [
       "\n",
       "  <div id=\"df-b96f36de-a6de-4310-8139-75ba84a2a66a\">\n",
       "    <div class=\"colab-df-container\">\n",
       "      <div>\n",
       "<style scoped>\n",
       "    .dataframe tbody tr th:only-of-type {\n",
       "        vertical-align: middle;\n",
       "    }\n",
       "\n",
       "    .dataframe tbody tr th {\n",
       "        vertical-align: top;\n",
       "    }\n",
       "\n",
       "    .dataframe thead th {\n",
       "        text-align: right;\n",
       "    }\n",
       "</style>\n",
       "<table border=\"1\" class=\"dataframe\">\n",
       "  <thead>\n",
       "    <tr style=\"text-align: right;\">\n",
       "      <th></th>\n",
       "      <th>user_id</th>\n",
       "      <th>movie_id</th>\n",
       "      <th>counts</th>\n",
       "      <th>timestamp</th>\n",
       "      <th>title</th>\n",
       "      <th>genre</th>\n",
       "    </tr>\n",
       "  </thead>\n",
       "  <tbody>\n",
       "    <tr>\n",
       "      <th>0</th>\n",
       "      <td>1</td>\n",
       "      <td>1193</td>\n",
       "      <td>5</td>\n",
       "      <td>2000-12-31 22:12:40</td>\n",
       "      <td>One Flew Over the Cuckoo's Nest (1975)</td>\n",
       "      <td>Drama</td>\n",
       "    </tr>\n",
       "    <tr>\n",
       "      <th>1</th>\n",
       "      <td>1</td>\n",
       "      <td>661</td>\n",
       "      <td>3</td>\n",
       "      <td>2000-12-31 22:35:09</td>\n",
       "      <td>James and the Giant Peach (1996)</td>\n",
       "      <td>Animation|Children's|Musical</td>\n",
       "    </tr>\n",
       "    <tr>\n",
       "      <th>2</th>\n",
       "      <td>1</td>\n",
       "      <td>914</td>\n",
       "      <td>3</td>\n",
       "      <td>2000-12-31 22:32:48</td>\n",
       "      <td>My Fair Lady (1964)</td>\n",
       "      <td>Musical|Romance</td>\n",
       "    </tr>\n",
       "    <tr>\n",
       "      <th>3</th>\n",
       "      <td>1</td>\n",
       "      <td>3408</td>\n",
       "      <td>4</td>\n",
       "      <td>2000-12-31 22:04:35</td>\n",
       "      <td>Erin Brockovich (2000)</td>\n",
       "      <td>Drama</td>\n",
       "    </tr>\n",
       "    <tr>\n",
       "      <th>4</th>\n",
       "      <td>1</td>\n",
       "      <td>2355</td>\n",
       "      <td>5</td>\n",
       "      <td>2001-01-06 23:38:11</td>\n",
       "      <td>Bug's Life, A (1998)</td>\n",
       "      <td>Animation|Children's|Comedy</td>\n",
       "    </tr>\n",
       "    <tr>\n",
       "      <th>5</th>\n",
       "      <td>1</td>\n",
       "      <td>1197</td>\n",
       "      <td>3</td>\n",
       "      <td>2000-12-31 22:37:48</td>\n",
       "      <td>Princess Bride, The (1987)</td>\n",
       "      <td>Action|Adventure|Comedy|Romance</td>\n",
       "    </tr>\n",
       "    <tr>\n",
       "      <th>6</th>\n",
       "      <td>1</td>\n",
       "      <td>1287</td>\n",
       "      <td>5</td>\n",
       "      <td>2000-12-31 22:33:59</td>\n",
       "      <td>Ben-Hur (1959)</td>\n",
       "      <td>Action|Adventure|Drama</td>\n",
       "    </tr>\n",
       "    <tr>\n",
       "      <th>7</th>\n",
       "      <td>1</td>\n",
       "      <td>2804</td>\n",
       "      <td>5</td>\n",
       "      <td>2000-12-31 22:11:59</td>\n",
       "      <td>Christmas Story, A (1983)</td>\n",
       "      <td>Comedy|Drama</td>\n",
       "    </tr>\n",
       "    <tr>\n",
       "      <th>8</th>\n",
       "      <td>1</td>\n",
       "      <td>594</td>\n",
       "      <td>4</td>\n",
       "      <td>2000-12-31 22:37:48</td>\n",
       "      <td>Snow White and the Seven Dwarfs (1937)</td>\n",
       "      <td>Animation|Children's|Musical</td>\n",
       "    </tr>\n",
       "    <tr>\n",
       "      <th>9</th>\n",
       "      <td>1</td>\n",
       "      <td>919</td>\n",
       "      <td>4</td>\n",
       "      <td>2000-12-31 22:22:48</td>\n",
       "      <td>Wizard of Oz, The (1939)</td>\n",
       "      <td>Adventure|Children's|Drama|Musical</td>\n",
       "    </tr>\n",
       "    <tr>\n",
       "      <th>10</th>\n",
       "      <td>1</td>\n",
       "      <td>595</td>\n",
       "      <td>5</td>\n",
       "      <td>2001-01-06 23:37:48</td>\n",
       "      <td>Beauty and the Beast (1991)</td>\n",
       "      <td>Animation|Children's|Musical</td>\n",
       "    </tr>\n",
       "    <tr>\n",
       "      <th>11</th>\n",
       "      <td>1</td>\n",
       "      <td>938</td>\n",
       "      <td>4</td>\n",
       "      <td>2000-12-31 22:29:12</td>\n",
       "      <td>Gigi (1958)</td>\n",
       "      <td>Musical</td>\n",
       "    </tr>\n",
       "    <tr>\n",
       "      <th>12</th>\n",
       "      <td>1</td>\n",
       "      <td>2398</td>\n",
       "      <td>4</td>\n",
       "      <td>2000-12-31 22:38:01</td>\n",
       "      <td>Miracle on 34th Street (1947)</td>\n",
       "      <td>Drama</td>\n",
       "    </tr>\n",
       "    <tr>\n",
       "      <th>13</th>\n",
       "      <td>1</td>\n",
       "      <td>2918</td>\n",
       "      <td>4</td>\n",
       "      <td>2000-12-31 22:35:24</td>\n",
       "      <td>Ferris Bueller's Day Off (1986)</td>\n",
       "      <td>Comedy</td>\n",
       "    </tr>\n",
       "    <tr>\n",
       "      <th>14</th>\n",
       "      <td>1</td>\n",
       "      <td>1035</td>\n",
       "      <td>5</td>\n",
       "      <td>2000-12-31 22:29:13</td>\n",
       "      <td>Sound of Music, The (1965)</td>\n",
       "      <td>Musical</td>\n",
       "    </tr>\n",
       "    <tr>\n",
       "      <th>15</th>\n",
       "      <td>1</td>\n",
       "      <td>2791</td>\n",
       "      <td>4</td>\n",
       "      <td>2000-12-31 22:36:28</td>\n",
       "      <td>Airplane! (1980)</td>\n",
       "      <td>Comedy</td>\n",
       "    </tr>\n",
       "    <tr>\n",
       "      <th>16</th>\n",
       "      <td>1</td>\n",
       "      <td>2687</td>\n",
       "      <td>3</td>\n",
       "      <td>2001-01-06 23:37:48</td>\n",
       "      <td>Tarzan (1999)</td>\n",
       "      <td>Animation|Children's</td>\n",
       "    </tr>\n",
       "    <tr>\n",
       "      <th>17</th>\n",
       "      <td>1</td>\n",
       "      <td>2018</td>\n",
       "      <td>4</td>\n",
       "      <td>2000-12-31 22:29:37</td>\n",
       "      <td>Bambi (1942)</td>\n",
       "      <td>Animation|Children's</td>\n",
       "    </tr>\n",
       "    <tr>\n",
       "      <th>18</th>\n",
       "      <td>1</td>\n",
       "      <td>3105</td>\n",
       "      <td>5</td>\n",
       "      <td>2000-12-31 22:28:33</td>\n",
       "      <td>Awakenings (1990)</td>\n",
       "      <td>Drama</td>\n",
       "    </tr>\n",
       "    <tr>\n",
       "      <th>19</th>\n",
       "      <td>1</td>\n",
       "      <td>2797</td>\n",
       "      <td>4</td>\n",
       "      <td>2000-12-31 22:33:59</td>\n",
       "      <td>Big (1988)</td>\n",
       "      <td>Comedy|Fantasy</td>\n",
       "    </tr>\n",
       "    <tr>\n",
       "      <th>20</th>\n",
       "      <td>1</td>\n",
       "      <td>2321</td>\n",
       "      <td>3</td>\n",
       "      <td>2000-12-31 22:36:45</td>\n",
       "      <td>Pleasantville (1998)</td>\n",
       "      <td>Comedy</td>\n",
       "    </tr>\n",
       "    <tr>\n",
       "      <th>21</th>\n",
       "      <td>1</td>\n",
       "      <td>720</td>\n",
       "      <td>3</td>\n",
       "      <td>2000-12-31 22:12:40</td>\n",
       "      <td>Wallace &amp; Gromit: The Best of Aardman Animatio...</td>\n",
       "      <td>Animation</td>\n",
       "    </tr>\n",
       "    <tr>\n",
       "      <th>22</th>\n",
       "      <td>1</td>\n",
       "      <td>1270</td>\n",
       "      <td>5</td>\n",
       "      <td>2000-12-31 22:00:55</td>\n",
       "      <td>Back to the Future (1985)</td>\n",
       "      <td>Comedy|Sci-Fi</td>\n",
       "    </tr>\n",
       "    <tr>\n",
       "      <th>23</th>\n",
       "      <td>1</td>\n",
       "      <td>527</td>\n",
       "      <td>5</td>\n",
       "      <td>2001-01-06 23:36:35</td>\n",
       "      <td>Schindler's List (1993)</td>\n",
       "      <td>Drama|War</td>\n",
       "    </tr>\n",
       "    <tr>\n",
       "      <th>24</th>\n",
       "      <td>1</td>\n",
       "      <td>2340</td>\n",
       "      <td>3</td>\n",
       "      <td>2000-12-31 22:01:43</td>\n",
       "      <td>Meet Joe Black (1998)</td>\n",
       "      <td>Romance</td>\n",
       "    </tr>\n",
       "    <tr>\n",
       "      <th>25</th>\n",
       "      <td>1</td>\n",
       "      <td>48</td>\n",
       "      <td>5</td>\n",
       "      <td>2001-01-06 23:39:11</td>\n",
       "      <td>Pocahontas (1995)</td>\n",
       "      <td>Animation|Children's|Musical|Romance</td>\n",
       "    </tr>\n",
       "    <tr>\n",
       "      <th>26</th>\n",
       "      <td>1</td>\n",
       "      <td>1097</td>\n",
       "      <td>4</td>\n",
       "      <td>2000-12-31 22:32:33</td>\n",
       "      <td>E.T. the Extra-Terrestrial (1982)</td>\n",
       "      <td>Children's|Drama|Fantasy|Sci-Fi</td>\n",
       "    </tr>\n",
       "    <tr>\n",
       "      <th>27</th>\n",
       "      <td>1</td>\n",
       "      <td>1721</td>\n",
       "      <td>4</td>\n",
       "      <td>2000-12-31 22:00:55</td>\n",
       "      <td>Titanic (1997)</td>\n",
       "      <td>Drama|Romance</td>\n",
       "    </tr>\n",
       "    <tr>\n",
       "      <th>28</th>\n",
       "      <td>1</td>\n",
       "      <td>1545</td>\n",
       "      <td>4</td>\n",
       "      <td>2001-01-06 23:35:39</td>\n",
       "      <td>Ponette (1996)</td>\n",
       "      <td>Drama</td>\n",
       "    </tr>\n",
       "    <tr>\n",
       "      <th>29</th>\n",
       "      <td>1</td>\n",
       "      <td>745</td>\n",
       "      <td>3</td>\n",
       "      <td>2001-01-06 23:37:48</td>\n",
       "      <td>Close Shave, A (1995)</td>\n",
       "      <td>Animation|Comedy|Thriller</td>\n",
       "    </tr>\n",
       "    <tr>\n",
       "      <th>30</th>\n",
       "      <td>1</td>\n",
       "      <td>2294</td>\n",
       "      <td>4</td>\n",
       "      <td>2001-01-06 23:38:11</td>\n",
       "      <td>Antz (1998)</td>\n",
       "      <td>Animation|Children's</td>\n",
       "    </tr>\n",
       "    <tr>\n",
       "      <th>31</th>\n",
       "      <td>1</td>\n",
       "      <td>3186</td>\n",
       "      <td>4</td>\n",
       "      <td>2000-12-31 22:00:19</td>\n",
       "      <td>Girl, Interrupted (1999)</td>\n",
       "      <td>Drama</td>\n",
       "    </tr>\n",
       "    <tr>\n",
       "      <th>32</th>\n",
       "      <td>1</td>\n",
       "      <td>1566</td>\n",
       "      <td>4</td>\n",
       "      <td>2001-01-06 23:38:50</td>\n",
       "      <td>Hercules (1997)</td>\n",
       "      <td>Adventure|Animation|Children's|Comedy|Musical</td>\n",
       "    </tr>\n",
       "    <tr>\n",
       "      <th>33</th>\n",
       "      <td>1</td>\n",
       "      <td>588</td>\n",
       "      <td>4</td>\n",
       "      <td>2001-01-06 23:37:48</td>\n",
       "      <td>Aladdin (1992)</td>\n",
       "      <td>Animation|Children's|Comedy|Musical</td>\n",
       "    </tr>\n",
       "    <tr>\n",
       "      <th>34</th>\n",
       "      <td>1</td>\n",
       "      <td>1907</td>\n",
       "      <td>4</td>\n",
       "      <td>2001-01-06 23:38:50</td>\n",
       "      <td>Mulan (1998)</td>\n",
       "      <td>Animation|Children's</td>\n",
       "    </tr>\n",
       "    <tr>\n",
       "      <th>35</th>\n",
       "      <td>1</td>\n",
       "      <td>783</td>\n",
       "      <td>4</td>\n",
       "      <td>2001-01-06 23:38:11</td>\n",
       "      <td>Hunchback of Notre Dame, The (1996)</td>\n",
       "      <td>Animation|Children's|Musical</td>\n",
       "    </tr>\n",
       "    <tr>\n",
       "      <th>36</th>\n",
       "      <td>1</td>\n",
       "      <td>1836</td>\n",
       "      <td>5</td>\n",
       "      <td>2000-12-31 22:02:52</td>\n",
       "      <td>Last Days of Disco, The (1998)</td>\n",
       "      <td>Drama</td>\n",
       "    </tr>\n",
       "    <tr>\n",
       "      <th>37</th>\n",
       "      <td>1</td>\n",
       "      <td>1022</td>\n",
       "      <td>5</td>\n",
       "      <td>2000-12-31 22:00:55</td>\n",
       "      <td>Cinderella (1950)</td>\n",
       "      <td>Animation|Children's|Musical</td>\n",
       "    </tr>\n",
       "    <tr>\n",
       "      <th>38</th>\n",
       "      <td>1</td>\n",
       "      <td>2762</td>\n",
       "      <td>4</td>\n",
       "      <td>2000-12-31 22:34:51</td>\n",
       "      <td>Sixth Sense, The (1999)</td>\n",
       "      <td>Thriller</td>\n",
       "    </tr>\n",
       "    <tr>\n",
       "      <th>39</th>\n",
       "      <td>1</td>\n",
       "      <td>150</td>\n",
       "      <td>5</td>\n",
       "      <td>2000-12-31 22:29:37</td>\n",
       "      <td>Apollo 13 (1995)</td>\n",
       "      <td>Drama</td>\n",
       "    </tr>\n",
       "    <tr>\n",
       "      <th>40</th>\n",
       "      <td>1</td>\n",
       "      <td>1</td>\n",
       "      <td>5</td>\n",
       "      <td>2001-01-06 23:37:48</td>\n",
       "      <td>Toy Story (1995)</td>\n",
       "      <td>Animation|Children's|Comedy</td>\n",
       "    </tr>\n",
       "    <tr>\n",
       "      <th>41</th>\n",
       "      <td>1</td>\n",
       "      <td>1961</td>\n",
       "      <td>5</td>\n",
       "      <td>2000-12-31 22:26:30</td>\n",
       "      <td>Rain Man (1988)</td>\n",
       "      <td>Drama</td>\n",
       "    </tr>\n",
       "    <tr>\n",
       "      <th>42</th>\n",
       "      <td>1</td>\n",
       "      <td>1962</td>\n",
       "      <td>4</td>\n",
       "      <td>2000-12-31 22:29:13</td>\n",
       "      <td>Driving Miss Daisy (1989)</td>\n",
       "      <td>Drama</td>\n",
       "    </tr>\n",
       "    <tr>\n",
       "      <th>43</th>\n",
       "      <td>1</td>\n",
       "      <td>2692</td>\n",
       "      <td>4</td>\n",
       "      <td>2000-12-31 22:26:10</td>\n",
       "      <td>Run Lola Run (Lola rennt) (1998)</td>\n",
       "      <td>Action|Crime|Romance</td>\n",
       "    </tr>\n",
       "    <tr>\n",
       "      <th>44</th>\n",
       "      <td>1</td>\n",
       "      <td>260</td>\n",
       "      <td>4</td>\n",
       "      <td>2000-12-31 22:12:40</td>\n",
       "      <td>Star Wars: Episode IV - A New Hope (1977)</td>\n",
       "      <td>Action|Adventure|Fantasy|Sci-Fi</td>\n",
       "    </tr>\n",
       "    <tr>\n",
       "      <th>45</th>\n",
       "      <td>1</td>\n",
       "      <td>1028</td>\n",
       "      <td>5</td>\n",
       "      <td>2000-12-31 22:29:37</td>\n",
       "      <td>Mary Poppins (1964)</td>\n",
       "      <td>Children's|Comedy|Musical</td>\n",
       "    </tr>\n",
       "    <tr>\n",
       "      <th>46</th>\n",
       "      <td>1</td>\n",
       "      <td>1029</td>\n",
       "      <td>5</td>\n",
       "      <td>2000-12-31 22:36:45</td>\n",
       "      <td>Dumbo (1941)</td>\n",
       "      <td>Animation|Children's|Musical</td>\n",
       "    </tr>\n",
       "    <tr>\n",
       "      <th>47</th>\n",
       "      <td>1</td>\n",
       "      <td>1207</td>\n",
       "      <td>4</td>\n",
       "      <td>2000-12-31 22:11:59</td>\n",
       "      <td>To Kill a Mockingbird (1962)</td>\n",
       "      <td>Drama</td>\n",
       "    </tr>\n",
       "    <tr>\n",
       "      <th>48</th>\n",
       "      <td>1</td>\n",
       "      <td>2028</td>\n",
       "      <td>5</td>\n",
       "      <td>2000-12-31 22:26:59</td>\n",
       "      <td>Saving Private Ryan (1998)</td>\n",
       "      <td>Action|Drama|War</td>\n",
       "    </tr>\n",
       "    <tr>\n",
       "      <th>49</th>\n",
       "      <td>1</td>\n",
       "      <td>531</td>\n",
       "      <td>4</td>\n",
       "      <td>2000-12-31 22:35:49</td>\n",
       "      <td>Secret Garden, The (1993)</td>\n",
       "      <td>Children's|Drama</td>\n",
       "    </tr>\n",
       "    <tr>\n",
       "      <th>50</th>\n",
       "      <td>1</td>\n",
       "      <td>3114</td>\n",
       "      <td>4</td>\n",
       "      <td>2000-12-31 22:36:14</td>\n",
       "      <td>Toy Story 2 (1999)</td>\n",
       "      <td>Animation|Children's|Comedy</td>\n",
       "    </tr>\n",
       "    <tr>\n",
       "      <th>51</th>\n",
       "      <td>1</td>\n",
       "      <td>608</td>\n",
       "      <td>4</td>\n",
       "      <td>2000-12-31 22:23:18</td>\n",
       "      <td>Fargo (1996)</td>\n",
       "      <td>Crime|Drama|Thriller</td>\n",
       "    </tr>\n",
       "    <tr>\n",
       "      <th>52</th>\n",
       "      <td>1</td>\n",
       "      <td>1246</td>\n",
       "      <td>4</td>\n",
       "      <td>2000-12-31 22:34:51</td>\n",
       "      <td>Dead Poets Society (1989)</td>\n",
       "      <td>Drama</td>\n",
       "    </tr>\n",
       "  </tbody>\n",
       "</table>\n",
       "</div>\n",
       "      <button class=\"colab-df-convert\" onclick=\"convertToInteractive('df-b96f36de-a6de-4310-8139-75ba84a2a66a')\"\n",
       "              title=\"Convert this dataframe to an interactive table.\"\n",
       "              style=\"display:none;\">\n",
       "        \n",
       "  <svg xmlns=\"http://www.w3.org/2000/svg\" height=\"24px\"viewBox=\"0 0 24 24\"\n",
       "       width=\"24px\">\n",
       "    <path d=\"M0 0h24v24H0V0z\" fill=\"none\"/>\n",
       "    <path d=\"M18.56 5.44l.94 2.06.94-2.06 2.06-.94-2.06-.94-.94-2.06-.94 2.06-2.06.94zm-11 1L8.5 8.5l.94-2.06 2.06-.94-2.06-.94L8.5 2.5l-.94 2.06-2.06.94zm10 10l.94 2.06.94-2.06 2.06-.94-2.06-.94-.94-2.06-.94 2.06-2.06.94z\"/><path d=\"M17.41 7.96l-1.37-1.37c-.4-.4-.92-.59-1.43-.59-.52 0-1.04.2-1.43.59L10.3 9.45l-7.72 7.72c-.78.78-.78 2.05 0 2.83L4 21.41c.39.39.9.59 1.41.59.51 0 1.02-.2 1.41-.59l7.78-7.78 2.81-2.81c.8-.78.8-2.07 0-2.86zM5.41 20L4 18.59l7.72-7.72 1.47 1.35L5.41 20z\"/>\n",
       "  </svg>\n",
       "      </button>\n",
       "      \n",
       "  <style>\n",
       "    .colab-df-container {\n",
       "      display:flex;\n",
       "      flex-wrap:wrap;\n",
       "      gap: 12px;\n",
       "    }\n",
       "\n",
       "    .colab-df-convert {\n",
       "      background-color: #E8F0FE;\n",
       "      border: none;\n",
       "      border-radius: 50%;\n",
       "      cursor: pointer;\n",
       "      display: none;\n",
       "      fill: #1967D2;\n",
       "      height: 32px;\n",
       "      padding: 0 0 0 0;\n",
       "      width: 32px;\n",
       "    }\n",
       "\n",
       "    .colab-df-convert:hover {\n",
       "      background-color: #E2EBFA;\n",
       "      box-shadow: 0px 1px 2px rgba(60, 64, 67, 0.3), 0px 1px 3px 1px rgba(60, 64, 67, 0.15);\n",
       "      fill: #174EA6;\n",
       "    }\n",
       "\n",
       "    [theme=dark] .colab-df-convert {\n",
       "      background-color: #3B4455;\n",
       "      fill: #D2E3FC;\n",
       "    }\n",
       "\n",
       "    [theme=dark] .colab-df-convert:hover {\n",
       "      background-color: #434B5C;\n",
       "      box-shadow: 0px 1px 3px 1px rgba(0, 0, 0, 0.15);\n",
       "      filter: drop-shadow(0px 1px 2px rgba(0, 0, 0, 0.3));\n",
       "      fill: #FFFFFF;\n",
       "    }\n",
       "  </style>\n",
       "\n",
       "      <script>\n",
       "        const buttonEl =\n",
       "          document.querySelector('#df-b96f36de-a6de-4310-8139-75ba84a2a66a button.colab-df-convert');\n",
       "        buttonEl.style.display =\n",
       "          google.colab.kernel.accessAllowed ? 'block' : 'none';\n",
       "\n",
       "        async function convertToInteractive(key) {\n",
       "          const element = document.querySelector('#df-b96f36de-a6de-4310-8139-75ba84a2a66a');\n",
       "          const dataTable =\n",
       "            await google.colab.kernel.invokeFunction('convertToInteractive',\n",
       "                                                     [key], {});\n",
       "          if (!dataTable) return;\n",
       "\n",
       "          const docLinkHtml = 'Like what you see? Visit the ' +\n",
       "            '<a target=\"_blank\" href=https://colab.research.google.com/notebooks/data_table.ipynb>data table notebook</a>'\n",
       "            + ' to learn more about interactive tables.';\n",
       "          element.innerHTML = '';\n",
       "          dataTable['output_type'] = 'display_data';\n",
       "          await google.colab.output.renderOutput(dataTable, element);\n",
       "          const docLink = document.createElement('div');\n",
       "          docLink.innerHTML = docLinkHtml;\n",
       "          element.appendChild(docLink);\n",
       "        }\n",
       "      </script>\n",
       "    </div>\n",
       "  </div>\n",
       "  "
      ],
      "text/plain": [
       "    user_id  movie_id  counts           timestamp  \\\n",
       "0         1      1193       5 2000-12-31 22:12:40   \n",
       "1         1       661       3 2000-12-31 22:35:09   \n",
       "2         1       914       3 2000-12-31 22:32:48   \n",
       "3         1      3408       4 2000-12-31 22:04:35   \n",
       "4         1      2355       5 2001-01-06 23:38:11   \n",
       "5         1      1197       3 2000-12-31 22:37:48   \n",
       "6         1      1287       5 2000-12-31 22:33:59   \n",
       "7         1      2804       5 2000-12-31 22:11:59   \n",
       "8         1       594       4 2000-12-31 22:37:48   \n",
       "9         1       919       4 2000-12-31 22:22:48   \n",
       "10        1       595       5 2001-01-06 23:37:48   \n",
       "11        1       938       4 2000-12-31 22:29:12   \n",
       "12        1      2398       4 2000-12-31 22:38:01   \n",
       "13        1      2918       4 2000-12-31 22:35:24   \n",
       "14        1      1035       5 2000-12-31 22:29:13   \n",
       "15        1      2791       4 2000-12-31 22:36:28   \n",
       "16        1      2687       3 2001-01-06 23:37:48   \n",
       "17        1      2018       4 2000-12-31 22:29:37   \n",
       "18        1      3105       5 2000-12-31 22:28:33   \n",
       "19        1      2797       4 2000-12-31 22:33:59   \n",
       "20        1      2321       3 2000-12-31 22:36:45   \n",
       "21        1       720       3 2000-12-31 22:12:40   \n",
       "22        1      1270       5 2000-12-31 22:00:55   \n",
       "23        1       527       5 2001-01-06 23:36:35   \n",
       "24        1      2340       3 2000-12-31 22:01:43   \n",
       "25        1        48       5 2001-01-06 23:39:11   \n",
       "26        1      1097       4 2000-12-31 22:32:33   \n",
       "27        1      1721       4 2000-12-31 22:00:55   \n",
       "28        1      1545       4 2001-01-06 23:35:39   \n",
       "29        1       745       3 2001-01-06 23:37:48   \n",
       "30        1      2294       4 2001-01-06 23:38:11   \n",
       "31        1      3186       4 2000-12-31 22:00:19   \n",
       "32        1      1566       4 2001-01-06 23:38:50   \n",
       "33        1       588       4 2001-01-06 23:37:48   \n",
       "34        1      1907       4 2001-01-06 23:38:50   \n",
       "35        1       783       4 2001-01-06 23:38:11   \n",
       "36        1      1836       5 2000-12-31 22:02:52   \n",
       "37        1      1022       5 2000-12-31 22:00:55   \n",
       "38        1      2762       4 2000-12-31 22:34:51   \n",
       "39        1       150       5 2000-12-31 22:29:37   \n",
       "40        1         1       5 2001-01-06 23:37:48   \n",
       "41        1      1961       5 2000-12-31 22:26:30   \n",
       "42        1      1962       4 2000-12-31 22:29:13   \n",
       "43        1      2692       4 2000-12-31 22:26:10   \n",
       "44        1       260       4 2000-12-31 22:12:40   \n",
       "45        1      1028       5 2000-12-31 22:29:37   \n",
       "46        1      1029       5 2000-12-31 22:36:45   \n",
       "47        1      1207       4 2000-12-31 22:11:59   \n",
       "48        1      2028       5 2000-12-31 22:26:59   \n",
       "49        1       531       4 2000-12-31 22:35:49   \n",
       "50        1      3114       4 2000-12-31 22:36:14   \n",
       "51        1       608       4 2000-12-31 22:23:18   \n",
       "52        1      1246       4 2000-12-31 22:34:51   \n",
       "\n",
       "                                                title  \\\n",
       "0              One Flew Over the Cuckoo's Nest (1975)   \n",
       "1                    James and the Giant Peach (1996)   \n",
       "2                                 My Fair Lady (1964)   \n",
       "3                              Erin Brockovich (2000)   \n",
       "4                                Bug's Life, A (1998)   \n",
       "5                          Princess Bride, The (1987)   \n",
       "6                                      Ben-Hur (1959)   \n",
       "7                           Christmas Story, A (1983)   \n",
       "8              Snow White and the Seven Dwarfs (1937)   \n",
       "9                            Wizard of Oz, The (1939)   \n",
       "10                        Beauty and the Beast (1991)   \n",
       "11                                        Gigi (1958)   \n",
       "12                      Miracle on 34th Street (1947)   \n",
       "13                    Ferris Bueller's Day Off (1986)   \n",
       "14                         Sound of Music, The (1965)   \n",
       "15                                   Airplane! (1980)   \n",
       "16                                      Tarzan (1999)   \n",
       "17                                       Bambi (1942)   \n",
       "18                                  Awakenings (1990)   \n",
       "19                                         Big (1988)   \n",
       "20                               Pleasantville (1998)   \n",
       "21  Wallace & Gromit: The Best of Aardman Animatio...   \n",
       "22                          Back to the Future (1985)   \n",
       "23                            Schindler's List (1993)   \n",
       "24                              Meet Joe Black (1998)   \n",
       "25                                  Pocahontas (1995)   \n",
       "26                  E.T. the Extra-Terrestrial (1982)   \n",
       "27                                     Titanic (1997)   \n",
       "28                                     Ponette (1996)   \n",
       "29                              Close Shave, A (1995)   \n",
       "30                                        Antz (1998)   \n",
       "31                           Girl, Interrupted (1999)   \n",
       "32                                    Hercules (1997)   \n",
       "33                                     Aladdin (1992)   \n",
       "34                                       Mulan (1998)   \n",
       "35                Hunchback of Notre Dame, The (1996)   \n",
       "36                     Last Days of Disco, The (1998)   \n",
       "37                                  Cinderella (1950)   \n",
       "38                            Sixth Sense, The (1999)   \n",
       "39                                   Apollo 13 (1995)   \n",
       "40                                   Toy Story (1995)   \n",
       "41                                    Rain Man (1988)   \n",
       "42                          Driving Miss Daisy (1989)   \n",
       "43                   Run Lola Run (Lola rennt) (1998)   \n",
       "44          Star Wars: Episode IV - A New Hope (1977)   \n",
       "45                                Mary Poppins (1964)   \n",
       "46                                       Dumbo (1941)   \n",
       "47                       To Kill a Mockingbird (1962)   \n",
       "48                         Saving Private Ryan (1998)   \n",
       "49                          Secret Garden, The (1993)   \n",
       "50                                 Toy Story 2 (1999)   \n",
       "51                                       Fargo (1996)   \n",
       "52                          Dead Poets Society (1989)   \n",
       "\n",
       "                                            genre  \n",
       "0                                           Drama  \n",
       "1                    Animation|Children's|Musical  \n",
       "2                                 Musical|Romance  \n",
       "3                                           Drama  \n",
       "4                     Animation|Children's|Comedy  \n",
       "5                 Action|Adventure|Comedy|Romance  \n",
       "6                          Action|Adventure|Drama  \n",
       "7                                    Comedy|Drama  \n",
       "8                    Animation|Children's|Musical  \n",
       "9              Adventure|Children's|Drama|Musical  \n",
       "10                   Animation|Children's|Musical  \n",
       "11                                        Musical  \n",
       "12                                          Drama  \n",
       "13                                         Comedy  \n",
       "14                                        Musical  \n",
       "15                                         Comedy  \n",
       "16                           Animation|Children's  \n",
       "17                           Animation|Children's  \n",
       "18                                          Drama  \n",
       "19                                 Comedy|Fantasy  \n",
       "20                                         Comedy  \n",
       "21                                      Animation  \n",
       "22                                  Comedy|Sci-Fi  \n",
       "23                                      Drama|War  \n",
       "24                                        Romance  \n",
       "25           Animation|Children's|Musical|Romance  \n",
       "26                Children's|Drama|Fantasy|Sci-Fi  \n",
       "27                                  Drama|Romance  \n",
       "28                                          Drama  \n",
       "29                      Animation|Comedy|Thriller  \n",
       "30                           Animation|Children's  \n",
       "31                                          Drama  \n",
       "32  Adventure|Animation|Children's|Comedy|Musical  \n",
       "33            Animation|Children's|Comedy|Musical  \n",
       "34                           Animation|Children's  \n",
       "35                   Animation|Children's|Musical  \n",
       "36                                          Drama  \n",
       "37                   Animation|Children's|Musical  \n",
       "38                                       Thriller  \n",
       "39                                          Drama  \n",
       "40                    Animation|Children's|Comedy  \n",
       "41                                          Drama  \n",
       "42                                          Drama  \n",
       "43                           Action|Crime|Romance  \n",
       "44                Action|Adventure|Fantasy|Sci-Fi  \n",
       "45                      Children's|Comedy|Musical  \n",
       "46                   Animation|Children's|Musical  \n",
       "47                                          Drama  \n",
       "48                               Action|Drama|War  \n",
       "49                               Children's|Drama  \n",
       "50                    Animation|Children's|Comedy  \n",
       "51                           Crime|Drama|Thriller  \n",
       "52                                          Drama  "
      ]
     },
     "execution_count": 21,
     "metadata": {},
     "output_type": "execute_result"
    }
   ],
   "source": [
    "# 첫 번째 유저(user_id == 1)가 시청한 영화 정보 확인\n",
    "\n",
    "movies_detail_user_1 = ratings[ratings['user_id']==1]\n",
    "print(f'user_1 이 시청한 영화 개수: {len(movies_detail_user_1)}')\n",
    "movies_detail_user_1"
   ]
  },
  {
   "cell_type": "markdown",
   "metadata": {
    "id": "72Tg7KX9zRuQ"
   },
   "source": [
    "### 2. 데이터 분석\n",
    "  * ratings에 있는 유니크한 영화 개수\n",
    "  * ratings에 있는 유니크한 사용자 수\n",
    "  * 가장 인기 있는 영화 30개(인기순)"
   ]
  },
  {
   "cell_type": "markdown",
   "metadata": {
    "id": "IprMalsuzXCz"
   },
   "source": [
    "#### ratings에 있는 유니크한 영화 개수"
   ]
  },
  {
   "cell_type": "code",
   "execution_count": 22,
   "metadata": {
    "colab": {
     "base_uri": "https://localhost:8080/"
    },
    "executionInfo": {
     "elapsed": 403,
     "status": "ok",
     "timestamp": 1656221977888,
     "user": {
      "displayName": "changhwan lee",
      "userId": "04303211996600941657"
     },
     "user_tz": -540
    },
    "id": "sVg-5D3eypY4",
    "outputId": "60f1c4ad-a90a-4b65-fede-2d7c9a79446a"
   },
   "outputs": [
    {
     "data": {
      "text/plain": [
       "3628"
      ]
     },
     "execution_count": 22,
     "metadata": {},
     "output_type": "execute_result"
    }
   ],
   "source": [
    "# 영화 개수\n",
    "\n",
    "ratings['movie_id'].nunique()"
   ]
  },
  {
   "cell_type": "markdown",
   "metadata": {
    "id": "3a0DMM7Fzhmp"
   },
   "source": [
    "#### ratings에 있는 유니크한 사용자 수"
   ]
  },
  {
   "cell_type": "code",
   "execution_count": 23,
   "metadata": {
    "colab": {
     "base_uri": "https://localhost:8080/"
    },
    "executionInfo": {
     "elapsed": 409,
     "status": "ok",
     "timestamp": 1656221981454,
     "user": {
      "displayName": "changhwan lee",
      "userId": "04303211996600941657"
     },
     "user_tz": -540
    },
    "id": "Y5xYx9PpzeVW",
    "outputId": "e18a6568-0262-4960-cd52-2711fb9aa34a"
   },
   "outputs": [
    {
     "data": {
      "text/plain": [
       "6039"
      ]
     },
     "execution_count": 23,
     "metadata": {},
     "output_type": "execute_result"
    }
   ],
   "source": [
    "# 사용자 수\n",
    "\n",
    "ratings['user_id'].nunique()"
   ]
  },
  {
   "cell_type": "markdown",
   "metadata": {
    "id": "Ki6fSr6bzsWa"
   },
   "source": [
    "#### 가장 인기 있는 영화 30개(인기순)"
   ]
  },
  {
   "cell_type": "code",
   "execution_count": 24,
   "metadata": {
    "colab": {
     "base_uri": "https://localhost:8080/"
    },
    "executionInfo": {
     "elapsed": 529,
     "status": "ok",
     "timestamp": 1656221985241,
     "user": {
      "displayName": "changhwan lee",
      "userId": "04303211996600941657"
     },
     "user_tz": -540
    },
    "id": "bAuvPFZxzmmK",
    "outputId": "e3cc9e27-9b9b-4f50-f818-b4adab26e674"
   },
   "outputs": [
    {
     "data": {
      "text/plain": [
       "movie_id  title                                                \n",
       "2858      American Beauty (1999)                                   3211\n",
       "260       Star Wars: Episode IV - A New Hope (1977)                2910\n",
       "1196      Star Wars: Episode V - The Empire Strikes Back (1980)    2885\n",
       "1210      Star Wars: Episode VI - Return of the Jedi (1983)        2716\n",
       "2028      Saving Private Ryan (1998)                               2561\n",
       "589       Terminator 2: Judgment Day (1991)                        2509\n",
       "593       Silence of the Lambs, The (1991)                         2498\n",
       "1198      Raiders of the Lost Ark (1981)                           2473\n",
       "1270      Back to the Future (1985)                                2460\n",
       "2571      Matrix, The (1999)                                       2434\n",
       "480       Jurassic Park (1993)                                     2413\n",
       "2762      Sixth Sense, The (1999)                                  2385\n",
       "608       Fargo (1996)                                             2371\n",
       "110       Braveheart (1995)                                        2314\n",
       "1580      Men in Black (1997)                                      2297\n",
       "527       Schindler's List (1993)                                  2257\n",
       "1197      Princess Bride, The (1987)                               2252\n",
       "2396      Shakespeare in Love (1998)                               2213\n",
       "1617      L.A. Confidential (1997)                                 2210\n",
       "318       Shawshank Redemption, The (1994)                         2194\n",
       "858       Godfather, The (1972)                                    2167\n",
       "1265      Groundhog Day (1993)                                     2121\n",
       "1097      E.T. the Extra-Terrestrial (1982)                        2102\n",
       "2997      Being John Malkovich (1999)                              2066\n",
       "2716      Ghostbusters (1984)                                      2051\n",
       "296       Pulp Fiction (1994)                                      2030\n",
       "356       Forrest Gump (1994)                                      2022\n",
       "1240      Terminator, The (1984)                                   2019\n",
       "1         Toy Story (1995)                                         2000\n",
       "457       Fugitive, The (1993)                                     1941\n",
       "Name: user_id, dtype: int64"
      ]
     },
     "execution_count": 24,
     "metadata": {},
     "output_type": "execute_result"
    }
   ],
   "source": [
    "# 인기 많은 영화 내림차순 30개\n",
    "\n",
    "movie_count = ratings.groupby(by=['movie_id', 'title'])['user_id'].count()\n",
    "movie_count.sort_values(ascending=False).head(30)"
   ]
  },
  {
   "cell_type": "markdown",
   "metadata": {
    "id": "_h4MARr8050A"
   },
   "source": [
    "### 3. 내가 선호하는 영화를 5가지 골라서 ratings에 추가\n",
    "  * user_id: 6041 # user.dat 의 마지막 번호가 6040 이므로 추가할 user_id 값은 6041 로 설정"
   ]
  },
  {
   "cell_type": "code",
   "execution_count": 25,
   "metadata": {
    "executionInfo": {
     "elapsed": 407,
     "status": "ok",
     "timestamp": 1656221995204,
     "user": {
      "displayName": "changhwan lee",
      "userId": "04303211996600941657"
     },
     "user_tz": -540
    },
    "id": "0pZvpxtEz_Oa"
   },
   "outputs": [],
   "source": [
    "# 영화 제목으로 장르 추출하는 함수\n",
    "\n",
    "def get_genre_of_movie(my_favorite):\n",
    "    genres_of_my_favorite = []\n",
    "    for k, v in my_favorite.items():\n",
    "        genres_of_my_favorite.extend(movies[movies['title'] == v]['genre'].to_list())\n",
    "    return genres_of_my_favorite"
   ]
  },
  {
   "cell_type": "code",
   "execution_count": 27,
   "metadata": {
    "colab": {
     "base_uri": "https://localhost:8080/",
     "height": 363
    },
    "executionInfo": {
     "elapsed": 441,
     "status": "ok",
     "timestamp": 1656222028087,
     "user": {
      "displayName": "changhwan lee",
      "userId": "04303211996600941657"
     },
     "user_tz": -540
    },
    "id": "t-5zuvYD2Si8",
    "outputId": "418ef558-7811-4d1f-b6df-9141fc711c23"
   },
   "outputs": [
    {
     "data": {
      "text/html": [
       "\n",
       "  <div id=\"df-41cd6286-f00e-49cb-8ec8-f93cf7ab912a\">\n",
       "    <div class=\"colab-df-container\">\n",
       "      <div>\n",
       "<style scoped>\n",
       "    .dataframe tbody tr th:only-of-type {\n",
       "        vertical-align: middle;\n",
       "    }\n",
       "\n",
       "    .dataframe tbody tr th {\n",
       "        vertical-align: top;\n",
       "    }\n",
       "\n",
       "    .dataframe thead th {\n",
       "        text-align: right;\n",
       "    }\n",
       "</style>\n",
       "<table border=\"1\" class=\"dataframe\">\n",
       "  <thead>\n",
       "    <tr style=\"text-align: right;\">\n",
       "      <th></th>\n",
       "      <th>user_id</th>\n",
       "      <th>movie_id</th>\n",
       "      <th>counts</th>\n",
       "      <th>timestamp</th>\n",
       "      <th>title</th>\n",
       "      <th>genre</th>\n",
       "    </tr>\n",
       "  </thead>\n",
       "  <tbody>\n",
       "    <tr>\n",
       "      <th>1000203</th>\n",
       "      <td>6040</td>\n",
       "      <td>1090</td>\n",
       "      <td>3</td>\n",
       "      <td>2000-04-26 02:18:38</td>\n",
       "      <td>Platoon (1986)</td>\n",
       "      <td>Drama|War</td>\n",
       "    </tr>\n",
       "    <tr>\n",
       "      <th>1000205</th>\n",
       "      <td>6040</td>\n",
       "      <td>1094</td>\n",
       "      <td>5</td>\n",
       "      <td>2000-04-25 23:21:27</td>\n",
       "      <td>Crying Game, The (1992)</td>\n",
       "      <td>Drama|Romance|War</td>\n",
       "    </tr>\n",
       "    <tr>\n",
       "      <th>1000206</th>\n",
       "      <td>6040</td>\n",
       "      <td>562</td>\n",
       "      <td>5</td>\n",
       "      <td>2000-04-25 23:19:06</td>\n",
       "      <td>Welcome to the Dollhouse (1995)</td>\n",
       "      <td>Comedy|Drama</td>\n",
       "    </tr>\n",
       "    <tr>\n",
       "      <th>1000207</th>\n",
       "      <td>6040</td>\n",
       "      <td>1096</td>\n",
       "      <td>4</td>\n",
       "      <td>2000-04-26 02:20:48</td>\n",
       "      <td>Sophie's Choice (1982)</td>\n",
       "      <td>Drama</td>\n",
       "    </tr>\n",
       "    <tr>\n",
       "      <th>1000208</th>\n",
       "      <td>6040</td>\n",
       "      <td>1097</td>\n",
       "      <td>4</td>\n",
       "      <td>2000-04-26 02:19:29</td>\n",
       "      <td>E.T. the Extra-Terrestrial (1982)</td>\n",
       "      <td>Children's|Drama|Fantasy|Sci-Fi</td>\n",
       "    </tr>\n",
       "    <tr>\n",
       "      <th>0</th>\n",
       "      <td>6041</td>\n",
       "      <td>70</td>\n",
       "      <td>3</td>\n",
       "      <td>2022-06-26 05:40:04</td>\n",
       "      <td>From Dusk Till Dawn (1996)</td>\n",
       "      <td>Action|Comedy|Crime|Horror|Thriller</td>\n",
       "    </tr>\n",
       "    <tr>\n",
       "      <th>1</th>\n",
       "      <td>6041</td>\n",
       "      <td>164</td>\n",
       "      <td>4</td>\n",
       "      <td>2022-06-26 05:40:04</td>\n",
       "      <td>Devil in a Blue Dress (1995)</td>\n",
       "      <td>Crime|Film-Noir|Mystery|Thriller</td>\n",
       "    </tr>\n",
       "    <tr>\n",
       "      <th>2</th>\n",
       "      <td>6041</td>\n",
       "      <td>293</td>\n",
       "      <td>4</td>\n",
       "      <td>2022-06-26 05:40:04</td>\n",
       "      <td>Professional, The (a.k.a. Leon: The Profession...</td>\n",
       "      <td>Crime|Drama|Romance|Thriller</td>\n",
       "    </tr>\n",
       "    <tr>\n",
       "      <th>3</th>\n",
       "      <td>6041</td>\n",
       "      <td>426</td>\n",
       "      <td>5</td>\n",
       "      <td>2022-06-26 05:40:04</td>\n",
       "      <td>Body Snatchers (1993)</td>\n",
       "      <td>Horror|Sci-Fi|Thriller</td>\n",
       "    </tr>\n",
       "    <tr>\n",
       "      <th>4</th>\n",
       "      <td>6041</td>\n",
       "      <td>3476</td>\n",
       "      <td>5</td>\n",
       "      <td>2022-06-26 05:40:04</td>\n",
       "      <td>Jacob's Ladder (1990)</td>\n",
       "      <td>Horror|Mystery|Thriller</td>\n",
       "    </tr>\n",
       "  </tbody>\n",
       "</table>\n",
       "</div>\n",
       "      <button class=\"colab-df-convert\" onclick=\"convertToInteractive('df-41cd6286-f00e-49cb-8ec8-f93cf7ab912a')\"\n",
       "              title=\"Convert this dataframe to an interactive table.\"\n",
       "              style=\"display:none;\">\n",
       "        \n",
       "  <svg xmlns=\"http://www.w3.org/2000/svg\" height=\"24px\"viewBox=\"0 0 24 24\"\n",
       "       width=\"24px\">\n",
       "    <path d=\"M0 0h24v24H0V0z\" fill=\"none\"/>\n",
       "    <path d=\"M18.56 5.44l.94 2.06.94-2.06 2.06-.94-2.06-.94-.94-2.06-.94 2.06-2.06.94zm-11 1L8.5 8.5l.94-2.06 2.06-.94-2.06-.94L8.5 2.5l-.94 2.06-2.06.94zm10 10l.94 2.06.94-2.06 2.06-.94-2.06-.94-.94-2.06-.94 2.06-2.06.94z\"/><path d=\"M17.41 7.96l-1.37-1.37c-.4-.4-.92-.59-1.43-.59-.52 0-1.04.2-1.43.59L10.3 9.45l-7.72 7.72c-.78.78-.78 2.05 0 2.83L4 21.41c.39.39.9.59 1.41.59.51 0 1.02-.2 1.41-.59l7.78-7.78 2.81-2.81c.8-.78.8-2.07 0-2.86zM5.41 20L4 18.59l7.72-7.72 1.47 1.35L5.41 20z\"/>\n",
       "  </svg>\n",
       "      </button>\n",
       "      \n",
       "  <style>\n",
       "    .colab-df-container {\n",
       "      display:flex;\n",
       "      flex-wrap:wrap;\n",
       "      gap: 12px;\n",
       "    }\n",
       "\n",
       "    .colab-df-convert {\n",
       "      background-color: #E8F0FE;\n",
       "      border: none;\n",
       "      border-radius: 50%;\n",
       "      cursor: pointer;\n",
       "      display: none;\n",
       "      fill: #1967D2;\n",
       "      height: 32px;\n",
       "      padding: 0 0 0 0;\n",
       "      width: 32px;\n",
       "    }\n",
       "\n",
       "    .colab-df-convert:hover {\n",
       "      background-color: #E2EBFA;\n",
       "      box-shadow: 0px 1px 2px rgba(60, 64, 67, 0.3), 0px 1px 3px 1px rgba(60, 64, 67, 0.15);\n",
       "      fill: #174EA6;\n",
       "    }\n",
       "\n",
       "    [theme=dark] .colab-df-convert {\n",
       "      background-color: #3B4455;\n",
       "      fill: #D2E3FC;\n",
       "    }\n",
       "\n",
       "    [theme=dark] .colab-df-convert:hover {\n",
       "      background-color: #434B5C;\n",
       "      box-shadow: 0px 1px 3px 1px rgba(0, 0, 0, 0.15);\n",
       "      filter: drop-shadow(0px 1px 2px rgba(0, 0, 0, 0.3));\n",
       "      fill: #FFFFFF;\n",
       "    }\n",
       "  </style>\n",
       "\n",
       "      <script>\n",
       "        const buttonEl =\n",
       "          document.querySelector('#df-41cd6286-f00e-49cb-8ec8-f93cf7ab912a button.colab-df-convert');\n",
       "        buttonEl.style.display =\n",
       "          google.colab.kernel.accessAllowed ? 'block' : 'none';\n",
       "\n",
       "        async function convertToInteractive(key) {\n",
       "          const element = document.querySelector('#df-41cd6286-f00e-49cb-8ec8-f93cf7ab912a');\n",
       "          const dataTable =\n",
       "            await google.colab.kernel.invokeFunction('convertToInteractive',\n",
       "                                                     [key], {});\n",
       "          if (!dataTable) return;\n",
       "\n",
       "          const docLinkHtml = 'Like what you see? Visit the ' +\n",
       "            '<a target=\"_blank\" href=https://colab.research.google.com/notebooks/data_table.ipynb>data table notebook</a>'\n",
       "            + ' to learn more about interactive tables.';\n",
       "          element.innerHTML = '';\n",
       "          dataTable['output_type'] = 'display_data';\n",
       "          await google.colab.output.renderOutput(dataTable, element);\n",
       "          const docLink = document.createElement('div');\n",
       "          docLink.innerHTML = docLinkHtml;\n",
       "          element.appendChild(docLink);\n",
       "        }\n",
       "      </script>\n",
       "    </div>\n",
       "  </div>\n",
       "  "
      ],
      "text/plain": [
       "         user_id  movie_id  counts            timestamp  \\\n",
       "1000203     6040      1090       3  2000-04-26 02:18:38   \n",
       "1000205     6040      1094       5  2000-04-25 23:21:27   \n",
       "1000206     6040       562       5  2000-04-25 23:19:06   \n",
       "1000207     6040      1096       4  2000-04-26 02:20:48   \n",
       "1000208     6040      1097       4  2000-04-26 02:19:29   \n",
       "0           6041        70       3  2022-06-26 05:40:04   \n",
       "1           6041       164       4  2022-06-26 05:40:04   \n",
       "2           6041       293       4  2022-06-26 05:40:04   \n",
       "3           6041       426       5  2022-06-26 05:40:04   \n",
       "4           6041      3476       5  2022-06-26 05:40:04   \n",
       "\n",
       "                                                     title  \\\n",
       "1000203                                     Platoon (1986)   \n",
       "1000205                            Crying Game, The (1992)   \n",
       "1000206                    Welcome to the Dollhouse (1995)   \n",
       "1000207                             Sophie's Choice (1982)   \n",
       "1000208                  E.T. the Extra-Terrestrial (1982)   \n",
       "0                               From Dusk Till Dawn (1996)   \n",
       "1                             Devil in a Blue Dress (1995)   \n",
       "2        Professional, The (a.k.a. Leon: The Profession...   \n",
       "3                                    Body Snatchers (1993)   \n",
       "4                                    Jacob's Ladder (1990)   \n",
       "\n",
       "                                       genre  \n",
       "1000203                            Drama|War  \n",
       "1000205                    Drama|Romance|War  \n",
       "1000206                         Comedy|Drama  \n",
       "1000207                                Drama  \n",
       "1000208      Children's|Drama|Fantasy|Sci-Fi  \n",
       "0        Action|Comedy|Crime|Horror|Thriller  \n",
       "1           Crime|Film-Noir|Mystery|Thriller  \n",
       "2               Crime|Drama|Romance|Thriller  \n",
       "3                     Horror|Sci-Fi|Thriller  \n",
       "4                    Horror|Mystery|Thriller  "
      ]
     },
     "execution_count": 27,
     "metadata": {},
     "output_type": "execute_result"
    }
   ],
   "source": [
    "# 현재 시간\n",
    "now = datetime.now().strftime('%Y-%m-%d %H:%M:%S')\n",
    "\n",
    "# 영화 데이터 추가! 단, 이름은 꼭 데이터셋에 있는 것과 동일하게 맞춰주세요.\n",
    "my_favorite = {\n",
    "    70: \"From Dusk Till Dawn (1996)\",\n",
    "    164: \"Devil in a Blue Dress (1995)\",\n",
    "    293: \"Professional, The (a.k.a. Leon: The Professional) (1994)\",\n",
    "    426: \"Body Snatchers (1993)\",\n",
    "    3476: \"Jacob's Ladder (1990)\",\n",
    "}\n",
    "\n",
    "# 6041이라는 user_id가 위 영화를 counts회씩 시청했다고 가정하겠습니다.\n",
    "my_playlist = pd.DataFrame({\n",
    "    'user_id': [6041]*5,\n",
    "    'movie_id': my_favorite.keys(),\n",
    "    'counts': [3,4,4,5,5],\n",
    "    'timestamp': [now]*5,\n",
    "    'title': my_favorite.values(),\n",
    "    'genre': get_genre_of_movie(my_favorite)\n",
    "})\n",
    "\n",
    "if not ratings.isin({'user_id':[6041]})['user_id'].any():  # user_id에 6041이라는 데이터가 없다면\n",
    "    ratings = ratings.append(my_playlist)  # my_favorite 데이터 추가\n",
    "\n",
    "ratings.tail(10)  # 잘 추가되었는지 확인해 봅시다."
   ]
  },
  {
   "cell_type": "markdown",
   "metadata": {
    "id": "mFJ1IBFK34yE"
   },
   "source": [
    "##### 모델에 활용하기 위한 전처리\n",
    "indexing: 데이터 user 와 movie 각각에 번호 붙이기    \n",
    "pandas.DataFrame.unique(): 특정 컬럼에 포함된 유니크한 데이터만 모아줌"
   ]
  },
  {
   "cell_type": "code",
   "execution_count": 28,
   "metadata": {
    "executionInfo": {
     "elapsed": 392,
     "status": "ok",
     "timestamp": 1656222035886,
     "user": {
      "displayName": "changhwan lee",
      "userId": "04303211996600941657"
     },
     "user_tz": -540
    },
    "id": "8aoyhlx83jo7"
   },
   "outputs": [],
   "source": [
    "# 고유한 유저, 영화를 찾아내는 코드\n",
    "\n",
    "user_unique = ratings['user_id'].unique()\n",
    "# movie_unique = ratings['movie_id'].unique()\n",
    "movie_unique = ratings['title'].unique()\n",
    "\n",
    "# 유저, 영화 indexing 하는 코드 idx는 index의 약자입니다.\n",
    "\n",
    "user_to_idx = {v:k for k,v in enumerate(user_unique)}\n",
    "movie_to_idx = {v:k for k,v in enumerate(movie_unique)}"
   ]
  },
  {
   "cell_type": "code",
   "execution_count": 29,
   "metadata": {
    "colab": {
     "base_uri": "https://localhost:8080/"
    },
    "executionInfo": {
     "elapsed": 404,
     "status": "ok",
     "timestamp": 1656222040605,
     "user": {
      "displayName": "changhwan lee",
      "userId": "04303211996600941657"
     },
     "user_tz": -540
    },
    "id": "N_1HNvA54LnQ",
    "outputId": "1473f7f1-bc10-4ca5-a205-4c49d9528495"
   },
   "outputs": [
    {
     "name": "stdout",
     "output_type": "stream",
     "text": [
      "user_id indexing: 6039\n",
      "\n",
      "movie_id indexing: 1034\n",
      "movie_id indexing: 864\n",
      "movie_id indexing: 890\n",
      "movie_id indexing: 2361\n",
      "movie_id indexing: 279\n"
     ]
    }
   ],
   "source": [
    "# 인덱싱이 잘 되었는지 확인해 봅니다. \n",
    "print('user_id indexing: {}\\n'.format(user_to_idx[6041]))\n",
    "\n",
    "for k, v in my_favorite.items():\n",
    "    print('movie_id indexing: {}'.format(movie_to_idx[v]))"
   ]
  },
  {
   "cell_type": "code",
   "execution_count": 30,
   "metadata": {
    "colab": {
     "base_uri": "https://localhost:8080/",
     "height": 399
    },
    "executionInfo": {
     "elapsed": 963,
     "status": "ok",
     "timestamp": 1656222045762,
     "user": {
      "displayName": "changhwan lee",
      "userId": "04303211996600941657"
     },
     "user_tz": -540
    },
    "id": "Eq5Tes3Q4UE5",
    "outputId": "66ee1a84-9073-4ad3-be38-b219ca31c68e"
   },
   "outputs": [
    {
     "name": "stdout",
     "output_type": "stream",
     "text": [
      "user_id column indexing OK!!\n",
      "movie column indexing OK!!\n"
     ]
    },
    {
     "data": {
      "text/html": [
       "\n",
       "  <div id=\"df-b1eb89c0-4d40-4b3c-b560-1e41b0014b9c\">\n",
       "    <div class=\"colab-df-container\">\n",
       "      <div>\n",
       "<style scoped>\n",
       "    .dataframe tbody tr th:only-of-type {\n",
       "        vertical-align: middle;\n",
       "    }\n",
       "\n",
       "    .dataframe tbody tr th {\n",
       "        vertical-align: top;\n",
       "    }\n",
       "\n",
       "    .dataframe thead th {\n",
       "        text-align: right;\n",
       "    }\n",
       "</style>\n",
       "<table border=\"1\" class=\"dataframe\">\n",
       "  <thead>\n",
       "    <tr style=\"text-align: right;\">\n",
       "      <th></th>\n",
       "      <th>user_id</th>\n",
       "      <th>movie_id</th>\n",
       "      <th>counts</th>\n",
       "      <th>timestamp</th>\n",
       "      <th>title</th>\n",
       "      <th>genre</th>\n",
       "    </tr>\n",
       "  </thead>\n",
       "  <tbody>\n",
       "    <tr>\n",
       "      <th>1000203</th>\n",
       "      <td>6038</td>\n",
       "      <td>1030</td>\n",
       "      <td>3</td>\n",
       "      <td>2000-04-26 02:18:38</td>\n",
       "      <td>Platoon (1986)</td>\n",
       "      <td>Drama|War</td>\n",
       "    </tr>\n",
       "    <tr>\n",
       "      <th>1000205</th>\n",
       "      <td>6038</td>\n",
       "      <td>986</td>\n",
       "      <td>5</td>\n",
       "      <td>2000-04-25 23:21:27</td>\n",
       "      <td>Crying Game, The (1992)</td>\n",
       "      <td>Drama|Romance|War</td>\n",
       "    </tr>\n",
       "    <tr>\n",
       "      <th>1000206</th>\n",
       "      <td>6038</td>\n",
       "      <td>311</td>\n",
       "      <td>5</td>\n",
       "      <td>2000-04-25 23:19:06</td>\n",
       "      <td>Welcome to the Dollhouse (1995)</td>\n",
       "      <td>Comedy|Drama</td>\n",
       "    </tr>\n",
       "    <tr>\n",
       "      <th>1000207</th>\n",
       "      <td>6038</td>\n",
       "      <td>142</td>\n",
       "      <td>4</td>\n",
       "      <td>2000-04-26 02:20:48</td>\n",
       "      <td>Sophie's Choice (1982)</td>\n",
       "      <td>Drama</td>\n",
       "    </tr>\n",
       "    <tr>\n",
       "      <th>1000208</th>\n",
       "      <td>6038</td>\n",
       "      <td>26</td>\n",
       "      <td>4</td>\n",
       "      <td>2000-04-26 02:19:29</td>\n",
       "      <td>E.T. the Extra-Terrestrial (1982)</td>\n",
       "      <td>Children's|Drama|Fantasy|Sci-Fi</td>\n",
       "    </tr>\n",
       "    <tr>\n",
       "      <th>0</th>\n",
       "      <td>6039</td>\n",
       "      <td>1034</td>\n",
       "      <td>3</td>\n",
       "      <td>2022-06-26 05:40:04</td>\n",
       "      <td>From Dusk Till Dawn (1996)</td>\n",
       "      <td>Action|Comedy|Crime|Horror|Thriller</td>\n",
       "    </tr>\n",
       "    <tr>\n",
       "      <th>1</th>\n",
       "      <td>6039</td>\n",
       "      <td>864</td>\n",
       "      <td>4</td>\n",
       "      <td>2022-06-26 05:40:04</td>\n",
       "      <td>Devil in a Blue Dress (1995)</td>\n",
       "      <td>Crime|Film-Noir|Mystery|Thriller</td>\n",
       "    </tr>\n",
       "    <tr>\n",
       "      <th>2</th>\n",
       "      <td>6039</td>\n",
       "      <td>890</td>\n",
       "      <td>4</td>\n",
       "      <td>2022-06-26 05:40:04</td>\n",
       "      <td>Professional, The (a.k.a. Leon: The Profession...</td>\n",
       "      <td>Crime|Drama|Romance|Thriller</td>\n",
       "    </tr>\n",
       "    <tr>\n",
       "      <th>3</th>\n",
       "      <td>6039</td>\n",
       "      <td>2361</td>\n",
       "      <td>5</td>\n",
       "      <td>2022-06-26 05:40:04</td>\n",
       "      <td>Body Snatchers (1993)</td>\n",
       "      <td>Horror|Sci-Fi|Thriller</td>\n",
       "    </tr>\n",
       "    <tr>\n",
       "      <th>4</th>\n",
       "      <td>6039</td>\n",
       "      <td>279</td>\n",
       "      <td>5</td>\n",
       "      <td>2022-06-26 05:40:04</td>\n",
       "      <td>Jacob's Ladder (1990)</td>\n",
       "      <td>Horror|Mystery|Thriller</td>\n",
       "    </tr>\n",
       "  </tbody>\n",
       "</table>\n",
       "</div>\n",
       "      <button class=\"colab-df-convert\" onclick=\"convertToInteractive('df-b1eb89c0-4d40-4b3c-b560-1e41b0014b9c')\"\n",
       "              title=\"Convert this dataframe to an interactive table.\"\n",
       "              style=\"display:none;\">\n",
       "        \n",
       "  <svg xmlns=\"http://www.w3.org/2000/svg\" height=\"24px\"viewBox=\"0 0 24 24\"\n",
       "       width=\"24px\">\n",
       "    <path d=\"M0 0h24v24H0V0z\" fill=\"none\"/>\n",
       "    <path d=\"M18.56 5.44l.94 2.06.94-2.06 2.06-.94-2.06-.94-.94-2.06-.94 2.06-2.06.94zm-11 1L8.5 8.5l.94-2.06 2.06-.94-2.06-.94L8.5 2.5l-.94 2.06-2.06.94zm10 10l.94 2.06.94-2.06 2.06-.94-2.06-.94-.94-2.06-.94 2.06-2.06.94z\"/><path d=\"M17.41 7.96l-1.37-1.37c-.4-.4-.92-.59-1.43-.59-.52 0-1.04.2-1.43.59L10.3 9.45l-7.72 7.72c-.78.78-.78 2.05 0 2.83L4 21.41c.39.39.9.59 1.41.59.51 0 1.02-.2 1.41-.59l7.78-7.78 2.81-2.81c.8-.78.8-2.07 0-2.86zM5.41 20L4 18.59l7.72-7.72 1.47 1.35L5.41 20z\"/>\n",
       "  </svg>\n",
       "      </button>\n",
       "      \n",
       "  <style>\n",
       "    .colab-df-container {\n",
       "      display:flex;\n",
       "      flex-wrap:wrap;\n",
       "      gap: 12px;\n",
       "    }\n",
       "\n",
       "    .colab-df-convert {\n",
       "      background-color: #E8F0FE;\n",
       "      border: none;\n",
       "      border-radius: 50%;\n",
       "      cursor: pointer;\n",
       "      display: none;\n",
       "      fill: #1967D2;\n",
       "      height: 32px;\n",
       "      padding: 0 0 0 0;\n",
       "      width: 32px;\n",
       "    }\n",
       "\n",
       "    .colab-df-convert:hover {\n",
       "      background-color: #E2EBFA;\n",
       "      box-shadow: 0px 1px 2px rgba(60, 64, 67, 0.3), 0px 1px 3px 1px rgba(60, 64, 67, 0.15);\n",
       "      fill: #174EA6;\n",
       "    }\n",
       "\n",
       "    [theme=dark] .colab-df-convert {\n",
       "      background-color: #3B4455;\n",
       "      fill: #D2E3FC;\n",
       "    }\n",
       "\n",
       "    [theme=dark] .colab-df-convert:hover {\n",
       "      background-color: #434B5C;\n",
       "      box-shadow: 0px 1px 3px 1px rgba(0, 0, 0, 0.15);\n",
       "      filter: drop-shadow(0px 1px 2px rgba(0, 0, 0, 0.3));\n",
       "      fill: #FFFFFF;\n",
       "    }\n",
       "  </style>\n",
       "\n",
       "      <script>\n",
       "        const buttonEl =\n",
       "          document.querySelector('#df-b1eb89c0-4d40-4b3c-b560-1e41b0014b9c button.colab-df-convert');\n",
       "        buttonEl.style.display =\n",
       "          google.colab.kernel.accessAllowed ? 'block' : 'none';\n",
       "\n",
       "        async function convertToInteractive(key) {\n",
       "          const element = document.querySelector('#df-b1eb89c0-4d40-4b3c-b560-1e41b0014b9c');\n",
       "          const dataTable =\n",
       "            await google.colab.kernel.invokeFunction('convertToInteractive',\n",
       "                                                     [key], {});\n",
       "          if (!dataTable) return;\n",
       "\n",
       "          const docLinkHtml = 'Like what you see? Visit the ' +\n",
       "            '<a target=\"_blank\" href=https://colab.research.google.com/notebooks/data_table.ipynb>data table notebook</a>'\n",
       "            + ' to learn more about interactive tables.';\n",
       "          element.innerHTML = '';\n",
       "          dataTable['output_type'] = 'display_data';\n",
       "          await google.colab.output.renderOutput(dataTable, element);\n",
       "          const docLink = document.createElement('div');\n",
       "          docLink.innerHTML = docLinkHtml;\n",
       "          element.appendChild(docLink);\n",
       "        }\n",
       "      </script>\n",
       "    </div>\n",
       "  </div>\n",
       "  "
      ],
      "text/plain": [
       "         user_id  movie_id  counts            timestamp  \\\n",
       "1000203     6038      1030       3  2000-04-26 02:18:38   \n",
       "1000205     6038       986       5  2000-04-25 23:21:27   \n",
       "1000206     6038       311       5  2000-04-25 23:19:06   \n",
       "1000207     6038       142       4  2000-04-26 02:20:48   \n",
       "1000208     6038        26       4  2000-04-26 02:19:29   \n",
       "0           6039      1034       3  2022-06-26 05:40:04   \n",
       "1           6039       864       4  2022-06-26 05:40:04   \n",
       "2           6039       890       4  2022-06-26 05:40:04   \n",
       "3           6039      2361       5  2022-06-26 05:40:04   \n",
       "4           6039       279       5  2022-06-26 05:40:04   \n",
       "\n",
       "                                                     title  \\\n",
       "1000203                                     Platoon (1986)   \n",
       "1000205                            Crying Game, The (1992)   \n",
       "1000206                    Welcome to the Dollhouse (1995)   \n",
       "1000207                             Sophie's Choice (1982)   \n",
       "1000208                  E.T. the Extra-Terrestrial (1982)   \n",
       "0                               From Dusk Till Dawn (1996)   \n",
       "1                             Devil in a Blue Dress (1995)   \n",
       "2        Professional, The (a.k.a. Leon: The Profession...   \n",
       "3                                    Body Snatchers (1993)   \n",
       "4                                    Jacob's Ladder (1990)   \n",
       "\n",
       "                                       genre  \n",
       "1000203                            Drama|War  \n",
       "1000205                    Drama|Romance|War  \n",
       "1000206                         Comedy|Drama  \n",
       "1000207                                Drama  \n",
       "1000208      Children's|Drama|Fantasy|Sci-Fi  \n",
       "0        Action|Comedy|Crime|Horror|Thriller  \n",
       "1           Crime|Film-Noir|Mystery|Thriller  \n",
       "2               Crime|Drama|Romance|Thriller  \n",
       "3                     Horror|Sci-Fi|Thriller  \n",
       "4                    Horror|Mystery|Thriller  "
      ]
     },
     "execution_count": 30,
     "metadata": {},
     "output_type": "execute_result"
    }
   ],
   "source": [
    "# indexing을 통해 데이터 컬럼 내 값을 바꾸는 코드\n",
    "# dictionary 자료형의 get 함수는 https://wikidocs.net/16 을 참고하세요.\n",
    "\n",
    "# user_to_idx.get을 통해 user_id 컬럼의 모든 값을 인덱싱한 Series를 구해 봅시다. \n",
    "# 혹시 정상적으로 인덱싱되지 않은 row가 있다면 인덱스가 NaN이 될 테니 dropna()로 제거합니다. \n",
    "temp_user_ratings = ratings['user_id'].map(user_to_idx.get).dropna()\n",
    "if len(temp_user_ratings) == len(ratings):   # 모든 row가 정상적으로 인덱싱되었다면\n",
    "    print('user_id column indexing OK!!')\n",
    "    ratings['user_id'] = temp_user_ratings   # ratings['user_id']을 인덱싱된 Series로 교체해 줍니다. \n",
    "else:\n",
    "    print('user_id column indexing Fail!!')\n",
    "\n",
    "# movie_to_idx을 통해 movie 컬럼도 동일한 방식으로 인덱싱해 줍니다. \n",
    "# temp_movie_ratings = ratings['movie_id'].map(movie_to_idx.get).dropna()\n",
    "temp_movie_ratings = ratings['title'].map(movie_to_idx.get).dropna()\n",
    "if len(temp_movie_ratings) == len(ratings):\n",
    "    print('movie column indexing OK!!')\n",
    "    ratings['movie_id'] = temp_movie_ratings\n",
    "else:\n",
    "    print('movie column indexing Fail!!')\n",
    "\n",
    "ratings.tail(10)"
   ]
  },
  {
   "cell_type": "markdown",
   "metadata": {
    "id": "66v6Qtgs5WWN"
   },
   "source": [
    "데이터 확인"
   ]
  },
  {
   "cell_type": "code",
   "execution_count": 31,
   "metadata": {
    "colab": {
     "base_uri": "https://localhost:8080/"
    },
    "executionInfo": {
     "elapsed": 418,
     "status": "ok",
     "timestamp": 1656222058112,
     "user": {
      "displayName": "changhwan lee",
      "userId": "04303211996600941657"
     },
     "user_tz": -540
    },
    "id": "P0AVyqYK4wW7",
    "outputId": "2014204b-927e-4880-feb7-ee3f2144c996"
   },
   "outputs": [
    {
     "data": {
      "text/plain": [
       "user_id      0\n",
       "movie_id     0\n",
       "counts       0\n",
       "timestamp    0\n",
       "title        0\n",
       "genre        0\n",
       "dtype: int64"
      ]
     },
     "execution_count": 31,
     "metadata": {},
     "output_type": "execute_result"
    }
   ],
   "source": [
    "ratings.isna().sum()"
   ]
  },
  {
   "cell_type": "code",
   "execution_count": 32,
   "metadata": {
    "colab": {
     "base_uri": "https://localhost:8080/"
    },
    "executionInfo": {
     "elapsed": 3,
     "status": "ok",
     "timestamp": 1656222061800,
     "user": {
      "displayName": "changhwan lee",
      "userId": "04303211996600941657"
     },
     "user_tz": -540
    },
    "id": "FLdHHhtT5be7",
    "outputId": "430abfc3-8092-4746-e899-9fa98bc06416"
   },
   "outputs": [
    {
     "name": "stdout",
     "output_type": "stream",
     "text": [
      "<class 'pandas.core.frame.DataFrame'>\n",
      "Int64Index: 836483 entries, 0 to 4\n",
      "Data columns (total 6 columns):\n",
      " #   Column     Non-Null Count   Dtype \n",
      "---  ------     --------------   ----- \n",
      " 0   user_id    836483 non-null  int64 \n",
      " 1   movie_id   836483 non-null  int64 \n",
      " 2   counts     836483 non-null  int64 \n",
      " 3   timestamp  836483 non-null  object\n",
      " 4   title      836483 non-null  object\n",
      " 5   genre      836483 non-null  object\n",
      "dtypes: int64(3), object(3)\n",
      "memory usage: 44.7+ MB\n"
     ]
    }
   ],
   "source": [
    "ratings.info()"
   ]
  },
  {
   "cell_type": "markdown",
   "metadata": {
    "id": "yd1kzjc25jQO"
   },
   "source": [
    "시청횟수별 데이터 비율"
   ]
  },
  {
   "cell_type": "code",
   "execution_count": 33,
   "metadata": {
    "colab": {
     "base_uri": "https://localhost:8080/"
    },
    "executionInfo": {
     "elapsed": 401,
     "status": "ok",
     "timestamp": 1656222067348,
     "user": {
      "displayName": "changhwan lee",
      "userId": "04303211996600941657"
     },
     "user_tz": -540
    },
    "id": "ZYg24J6q5eHX",
    "outputId": "ac71af4e-ce64-44c2-9e2a-45cee615a825"
   },
   "outputs": [
    {
     "name": "stdout",
     "output_type": "stream",
     "text": [
      "All data: 836483\n",
      "\n",
      "Only 3 data: 261198, Ratio: 31.23%\n",
      "Only 4 data: 348973, Ratio: 41.72%\n",
      "Only 5 data: 226312, Ratio: 27.06%\n"
     ]
    }
   ],
   "source": [
    "# 총 데이터 개수\n",
    "\n",
    "all_data = len(ratings)\n",
    "print(f'All data: {all_data}\\n')\n",
    "\n",
    "# n회 시청한 데이터의 비율을 보는 코드\n",
    "\n",
    "view_counts = set(ratings['counts'])\n",
    "ratio_list = []\n",
    "for n in view_counts:\n",
    "    only_num = ratings[ratings['counts']==n]\n",
    "    len_only_num = len(only_num)  # n회 시청한 데이터 개수\n",
    "    ratio = len_only_num/all_data\n",
    "    ratio_list.append(ratio)\n",
    "\n",
    "    print(f'Only {n} data: {len_only_num}, Ratio: {ratio:.2%}')"
   ]
  },
  {
   "cell_type": "markdown",
   "metadata": {
    "id": "7zZr-6vE6M92"
   },
   "source": [
    "### 4. CSR matrix를 직접 만들어 봅시다."
   ]
  },
  {
   "cell_type": "code",
   "execution_count": 34,
   "metadata": {
    "colab": {
     "base_uri": "https://localhost:8080/"
    },
    "executionInfo": {
     "elapsed": 398,
     "status": "ok",
     "timestamp": 1656222073097,
     "user": {
      "displayName": "changhwan lee",
      "userId": "04303211996600941657"
     },
     "user_tz": -540
    },
    "id": "LOc_5uFW56HZ",
    "outputId": "84fbad7b-57a2-40e8-d87c-f2b9223c2576"
   },
   "outputs": [
    {
     "data": {
      "text/plain": [
       "<6040x3628 sparse matrix of type '<class 'numpy.longlong'>'\n",
       "\twith 836483 stored elements in Compressed Sparse Row format>"
      ]
     },
     "execution_count": 34,
     "metadata": {},
     "output_type": "execute_result"
    }
   ],
   "source": [
    "from scipy.sparse import csr_matrix\n",
    "\n",
    "num_user = ratings['user_id'].nunique()\n",
    "num_movie = ratings['movie_id'].nunique()\n",
    "\n",
    "csr_data = csr_matrix((ratings.counts, (ratings.user_id, ratings.movie_id)), shape= (num_user, num_movie))\n",
    "csr_data"
   ]
  },
  {
   "cell_type": "code",
   "execution_count": 35,
   "metadata": {
    "colab": {
     "base_uri": "https://localhost:8080/"
    },
    "executionInfo": {
     "elapsed": 547,
     "status": "ok",
     "timestamp": 1656222077170,
     "user": {
      "displayName": "changhwan lee",
      "userId": "04303211996600941657"
     },
     "user_tz": -540
    },
    "id": "6YfxBe-b6cVA",
    "outputId": "ac21c8ba-408b-4f28-f45f-d742393f10ff"
   },
   "outputs": [
    {
     "data": {
      "text/plain": [
       "(6040, 3628)"
      ]
     },
     "execution_count": 35,
     "metadata": {},
     "output_type": "execute_result"
    }
   ],
   "source": [
    "csr_data.shape"
   ]
  },
  {
   "cell_type": "markdown",
   "metadata": {
    "id": "DU0nKk3L6koA"
   },
   "source": [
    "### 5. als_model = AlternatingLeastSquares 모델을 직접 구성하여 훈련"
   ]
  },
  {
   "cell_type": "code",
   "execution_count": 36,
   "metadata": {
    "executionInfo": {
     "elapsed": 559,
     "status": "ok",
     "timestamp": 1656222081977,
     "user": {
      "displayName": "changhwan lee",
      "userId": "04303211996600941657"
     },
     "user_tz": -540
    },
    "id": "pgV6F-rw6fQo"
   },
   "outputs": [],
   "source": [
    "from implicit.als import AlternatingLeastSquares\n",
    "import os\n",
    "import numpy as np\n",
    "\n",
    "# implicit 라이브러리에서 권장하고 있는 부분입니다. 학습 내용과는 무관합니다.\n",
    "os.environ['OPENBLAS_NUM_THREADS']='1'\n",
    "os.environ['KMP_DUPLICATE_LIB_OK']='True'\n",
    "os.environ['MKL_NUM_THREADS']='1'"
   ]
  },
  {
   "cell_type": "code",
   "execution_count": 37,
   "metadata": {
    "executionInfo": {
     "elapsed": 6,
     "status": "ok",
     "timestamp": 1656222087365,
     "user": {
      "displayName": "changhwan lee",
      "userId": "04303211996600941657"
     },
     "user_tz": -540
    },
    "id": "9ZWM2DJx6sMY"
   },
   "outputs": [],
   "source": [
    "# Implicit AlternatingLeastSquares 모델의 선언\n",
    "\n",
    "als_model = AlternatingLeastSquares(factors=300, regularization=0.01, use_gpu=False, iterations=15, dtype=np.float32)"
   ]
  },
  {
   "cell_type": "code",
   "execution_count": 38,
   "metadata": {
    "colab": {
     "base_uri": "https://localhost:8080/"
    },
    "executionInfo": {
     "elapsed": 444,
     "status": "ok",
     "timestamp": 1656222093967,
     "user": {
      "displayName": "changhwan lee",
      "userId": "04303211996600941657"
     },
     "user_tz": -540
    },
    "id": "HfYz1apFCLLl",
    "outputId": "2a3c020a-2db1-40b3-d589-c12f182f26df"
   },
   "outputs": [
    {
     "data": {
      "text/plain": [
       "<3628x6040 sparse matrix of type '<class 'numpy.longlong'>'\n",
       "\twith 836483 stored elements in Compressed Sparse Column format>"
      ]
     },
     "execution_count": 38,
     "metadata": {},
     "output_type": "execute_result"
    }
   ],
   "source": [
    "# als 모델은 input으로 (item X user 꼴의 matrix를 받기 때문에 Transpose해줍니다.)\n",
    "\n",
    "csr_data_transpose = csr_data.T\n",
    "csr_data_transpose"
   ]
  },
  {
   "cell_type": "code",
   "execution_count": 39,
   "metadata": {
    "colab": {
     "base_uri": "https://localhost:8080/"
    },
    "executionInfo": {
     "elapsed": 405,
     "status": "ok",
     "timestamp": 1656222099120,
     "user": {
      "displayName": "changhwan lee",
      "userId": "04303211996600941657"
     },
     "user_tz": -540
    },
    "id": "mnoSVB2GCPlP",
    "outputId": "69b85283-d388-48d7-daba-83e9ae003af2"
   },
   "outputs": [
    {
     "data": {
      "text/plain": [
       "(3628, 6040)"
      ]
     },
     "execution_count": 39,
     "metadata": {},
     "output_type": "execute_result"
    }
   ],
   "source": [
    "csr_data_transpose.shape"
   ]
  },
  {
   "cell_type": "code",
   "execution_count": 40,
   "metadata": {
    "colab": {
     "base_uri": "https://localhost:8080/",
     "height": 49,
     "referenced_widgets": [
      "5807c7d3f4cc4edaadbd07b4feb67355",
      "5a7260e0a4fd4a4cbe5e42f6fd4ba3d9",
      "eb66902dabc54877ac4b3ad6e9d0e166",
      "b348120a11c74eebaf4bab9b83125f67",
      "5df5f4f941d54e759ce1a4f349048503",
      "3fc86beaaf094372b5bce7072e60f7aa",
      "fa70d9dc656043b3a45218157fdda28c",
      "20da601fe3d24da68ef87625daf4fc08",
      "cdea06eccf474cddb2c4592a706f9f23",
      "e9c74b79e0474971b8fb4dfe3bc391b7",
      "831690aeacdb44c99f52b9a73cda05f6"
     ]
    },
    "executionInfo": {
     "elapsed": 56109,
     "status": "ok",
     "timestamp": 1656222161112,
     "user": {
      "displayName": "changhwan lee",
      "userId": "04303211996600941657"
     },
     "user_tz": -540
    },
    "id": "M4vhcEvSCSh6",
    "outputId": "320882c7-736e-44ba-e015-4253d18770ca"
   },
   "outputs": [
    {
     "data": {
      "application/vnd.jupyter.widget-view+json": {
       "model_id": "5807c7d3f4cc4edaadbd07b4feb67355",
       "version_major": 2,
       "version_minor": 0
      },
      "text/plain": [
       "  0%|          | 0/15 [00:00<?, ?it/s]"
      ]
     },
     "metadata": {},
     "output_type": "display_data"
    }
   ],
   "source": [
    "# 모델 훈련\n",
    "als_model.fit(csr_data_transpose)"
   ]
  },
  {
   "cell_type": "markdown",
   "metadata": {
    "id": "JUSA8MtTCr4x"
   },
   "source": [
    "### 6. 내가 선호하는 5가지 영화 중 하나와 그 외의 영화 하나를 골라 훈련된 모델이 예측한 나의 선호도 파악"
   ]
  },
  {
   "cell_type": "code",
   "execution_count": 41,
   "metadata": {
    "colab": {
     "base_uri": "https://localhost:8080/"
    },
    "executionInfo": {
     "elapsed": 422,
     "status": "ok",
     "timestamp": 1656222169406,
     "user": {
      "displayName": "changhwan lee",
      "userId": "04303211996600941657"
     },
     "user_tz": -540
    },
    "id": "ZS6EV_gkCXAK",
    "outputId": "22b68486-a5e0-4fd2-c48a-059458693e84"
   },
   "outputs": [
    {
     "data": {
      "text/plain": [
       "array([ 0.06197754, -0.7016521 ,  0.00177722,  0.00906109, -0.25644854,\n",
       "       -0.7520716 , -0.93122053, -0.17453517, -0.18646318,  0.10878181,\n",
       "       -0.60751873,  0.17472248,  0.14442891,  0.1962906 , -0.05199755,\n",
       "        0.15718313,  0.06925183,  0.21604736,  0.36177698,  0.13763152,\n",
       "       -0.285512  , -0.15177067,  0.6199218 ,  0.0123729 , -0.2991796 ,\n",
       "       -0.24390212, -0.26045325,  0.1303257 , -0.49574637, -0.42865965,\n",
       "       -0.05360967, -0.00372688, -0.01602009, -0.17566283,  0.62788033,\n",
       "       -0.6633371 ,  0.10248499,  0.18397897, -0.37110102,  0.03389423,\n",
       "        0.4711077 ,  0.06600112,  0.37673846,  0.3190916 ,  0.34737903,\n",
       "       -0.2857844 , -0.3010455 , -0.44599557, -0.76128787,  0.09775089,\n",
       "       -0.1442387 ,  0.07874352, -0.10331488,  0.06013015, -0.3633438 ,\n",
       "       -1.1314052 ,  0.02038649,  0.27817866, -0.33874306, -0.5587037 ,\n",
       "       -0.28085825, -0.3936833 ,  0.04047465,  0.09052088,  0.33579344,\n",
       "       -0.1199545 ,  0.51649207, -0.01987617, -0.29857996,  0.14166825,\n",
       "       -0.3416574 ,  0.05158508,  0.243572  ,  0.00549763,  0.18347178,\n",
       "        0.41507837,  0.00569952, -0.22423929, -0.28694487,  0.02905346,\n",
       "       -0.07773219, -0.69791555, -0.8834494 , -0.5726682 ,  0.1484168 ,\n",
       "       -0.5082821 ,  0.19308586,  0.03266462,  0.23641062,  0.43609953,\n",
       "       -0.4009847 ,  0.1415186 , -0.05870053,  0.6060675 , -0.31929386,\n",
       "       -0.07168081, -0.25610244,  0.00675705,  0.2038584 , -0.5306162 ,\n",
       "        0.62603986, -0.11690653,  0.14689492, -0.47877637, -0.5853913 ,\n",
       "       -0.08779545,  0.50267345,  0.30524796,  0.57609683, -0.07710069,\n",
       "        0.34315377,  0.1138943 ,  0.2927983 ,  0.22783501, -0.21682473,\n",
       "        0.22906682, -0.24590106,  0.378767  , -0.74553716, -0.28738037,\n",
       "       -0.17180076,  0.6406725 ,  0.5848012 , -0.23281406, -0.16251704,\n",
       "       -0.25805095, -0.34044912,  0.10650298,  0.0994879 ,  0.02441961,\n",
       "        0.31106365, -0.36571237, -0.30558833,  0.411614  , -0.14566314,\n",
       "        0.30024007, -0.03826774,  0.31344885,  0.70293   , -0.46694672,\n",
       "        0.51958   , -0.46199006,  0.15822081,  0.18564557,  0.4630972 ,\n",
       "        0.10049766,  0.10846873,  0.49486303, -0.5331176 ,  0.10757318,\n",
       "        0.06546664, -0.2823423 , -0.03147782, -0.2526555 ,  0.8779978 ,\n",
       "        0.00865286, -0.02779877,  0.10890505,  0.01443211,  0.14967862,\n",
       "       -0.20235105,  0.18559301,  0.47795385,  0.44228524, -0.7571431 ,\n",
       "       -0.08280889, -0.68546903,  0.25955486, -0.26457804, -0.10290132,\n",
       "        0.01476962, -0.01184994,  0.09859137, -0.4483864 , -0.21178877,\n",
       "        0.13317531,  0.16306959, -0.15577132, -0.03949848,  0.1629288 ,\n",
       "       -0.14635955,  0.31794757,  0.10098827, -0.03325266,  0.263075  ,\n",
       "       -0.2502266 , -0.20115867, -0.06698165,  0.03140512,  0.5832732 ,\n",
       "        0.12061747, -0.246346  , -0.6255176 ,  0.30464014,  0.01700769,\n",
       "       -0.5313792 , -0.44468173, -0.19047377, -0.14119603, -0.33202305,\n",
       "       -0.63488656,  0.08460429,  0.4204657 , -0.11723284,  0.12494487,\n",
       "       -0.21585505, -0.260656  ,  0.54858   ,  0.6355244 , -0.16115257,\n",
       "       -0.0346678 ,  0.74199617,  0.22619838,  0.6976408 ,  0.20452715,\n",
       "        0.5589581 , -0.07719384, -0.4270434 ,  0.45690373,  0.18589437,\n",
       "       -0.01152043,  0.41169655,  0.394255  , -0.37761462,  0.724293  ,\n",
       "        0.3293407 ,  0.12427689, -0.34974474,  0.1775186 , -0.32350355,\n",
       "       -0.2762581 ,  0.30507603,  0.45641303,  0.6679539 ,  0.02583488,\n",
       "       -0.20719036,  0.2777704 ,  0.00500842, -0.27315065, -0.33979526,\n",
       "        0.1952611 , -0.18957604,  0.2641112 ,  0.03746411, -0.2883507 ,\n",
       "        0.25972825,  0.19481876, -0.26660335,  0.14171194,  0.49030015,\n",
       "       -0.62765723,  0.5772698 ,  0.59809977, -0.01060817,  0.49924812,\n",
       "        0.09044403, -1.0170326 , -0.29765356,  0.2879984 ,  0.1446946 ,\n",
       "        0.07293604,  0.4738263 , -0.07055623, -0.17178963, -0.10517465,\n",
       "       -0.0547759 ,  0.11537662, -0.2635907 , -0.06617276, -0.12728655,\n",
       "        0.25587797,  1.2190965 ,  0.44745058,  0.8474921 , -0.41240847,\n",
       "        0.55484235,  0.10255162, -0.05625399, -0.4344999 , -0.47582644,\n",
       "        0.16777419, -0.31031257,  0.2585368 , -0.14717358,  0.29997376,\n",
       "       -0.2517372 ,  0.517465  , -0.19732136, -0.33751145,  0.12805265,\n",
       "       -0.2258045 ,  0.07006864,  0.0505155 ,  0.22885016,  0.6825505 ,\n",
       "       -0.3047623 , -0.23452483,  0.6785151 , -0.17122658,  0.2582011 ],\n",
       "      dtype=float32)"
      ]
     },
     "execution_count": 41,
     "metadata": {},
     "output_type": "execute_result"
    }
   ],
   "source": [
    "user = user_to_idx[6041]\n",
    "user_vector = als_model.user_factors[user]\n",
    "user_vector  # 사용자 벡터"
   ]
  },
  {
   "cell_type": "code",
   "execution_count": 44,
   "metadata": {
    "colab": {
     "base_uri": "https://localhost:8080/"
    },
    "executionInfo": {
     "elapsed": 398,
     "status": "ok",
     "timestamp": 1656222269900,
     "user": {
      "displayName": "changhwan lee",
      "userId": "04303211996600941657"
     },
     "user_tz": -540
    },
    "id": "Hf8vKKJeC1IK",
    "outputId": "ba67ede5-06cf-4f9d-d0d3-263f3cdee006"
   },
   "outputs": [
    {
     "data": {
      "text/plain": [
       "array([-5.31076174e-03,  9.33168549e-03, -6.43647835e-03,  1.60359349e-02,\n",
       "        2.10115146e-02,  4.81994450e-03, -4.48749028e-03,  3.39304283e-03,\n",
       "        7.73852551e-03,  3.72507870e-02,  8.77885334e-03,  1.80024207e-02,\n",
       "        1.33151049e-02,  9.20849293e-03,  1.73188839e-02, -7.78263249e-03,\n",
       "        2.47590058e-03,  3.35588679e-02, -1.65593904e-02,  1.05753751e-03,\n",
       "        2.21466795e-02, -1.44884447e-02, -2.43128179e-05, -3.25494679e-03,\n",
       "       -3.90002481e-03,  8.90442170e-04,  3.04029719e-03, -1.65719017e-02,\n",
       "        9.71961021e-03, -3.45553947e-03, -8.60467646e-03, -2.44880473e-04,\n",
       "       -1.70286968e-02,  1.37736229e-02,  1.20583642e-02,  5.30613912e-03,\n",
       "        3.04877721e-02,  6.89319859e-04,  2.11999808e-02,  9.39555175e-04,\n",
       "        2.48147245e-03, -1.29075600e-02,  1.64764673e-02,  1.95078067e-02,\n",
       "        1.44660342e-02,  1.25967935e-02,  1.57249831e-02,  8.63147620e-03,\n",
       "        1.34705370e-02,  1.36257010e-02,  8.55889544e-03,  1.24693383e-02,\n",
       "        1.42904194e-02,  2.84780050e-03, -1.62372447e-03,  1.00503033e-02,\n",
       "       -1.02216238e-02,  1.26864770e-02,  1.81483291e-02,  1.27462773e-02,\n",
       "        1.08008888e-02,  2.05983338e-03,  1.09847356e-02,  2.66249571e-02,\n",
       "        9.08117928e-03, -2.72944104e-04, -4.78264596e-03,  1.34027824e-02,\n",
       "        2.48725098e-02,  2.70345751e-02,  5.19204419e-03,  1.34836640e-02,\n",
       "       -6.75939815e-03,  3.90565731e-02,  2.82868035e-02,  1.37661835e-02,\n",
       "        1.35780973e-02, -9.93118715e-03,  6.33945642e-03,  2.16328651e-02,\n",
       "       -3.25377355e-03, -5.86507050e-03,  1.46835549e-02,  9.40744858e-03,\n",
       "        4.43452829e-03,  1.64010618e-02, -1.83249637e-02,  7.52181467e-03,\n",
       "        1.38704863e-03, -1.76577398e-03,  1.35991098e-02,  8.02309625e-03,\n",
       "        1.85719747e-02,  7.45202135e-03, -5.99119347e-03,  5.20472974e-03,\n",
       "        9.78698768e-03, -6.20117597e-03,  1.32477032e-02,  1.14655169e-02,\n",
       "        1.51796071e-02,  6.36581797e-03, -1.68064032e-02,  1.46506019e-02,\n",
       "       -1.25629976e-02, -1.39228404e-02,  9.22160503e-03,  6.22822787e-04,\n",
       "       -6.17486192e-03,  1.07027628e-02, -1.63089577e-02,  5.22693095e-04,\n",
       "        1.05225928e-02,  1.53099308e-02, -1.31531656e-02, -9.43695311e-04,\n",
       "        1.01452246e-02,  3.20698582e-02, -1.87303789e-03,  1.86344162e-02,\n",
       "        7.99978059e-03,  2.47747134e-02,  2.65694838e-02, -1.93910394e-02,\n",
       "        2.28234585e-02, -4.37496882e-03, -8.00646958e-05,  1.39128286e-02,\n",
       "        3.90075007e-03,  4.83423145e-03, -2.16801441e-03, -1.38908112e-02,\n",
       "       -1.94382779e-02,  1.71076953e-02,  1.83666460e-02, -1.24473386e-02,\n",
       "       -1.41307735e-03,  1.38732651e-02, -8.03988520e-03,  9.67847556e-03,\n",
       "        1.11038145e-02,  1.39623648e-03,  2.92460080e-02,  2.12609060e-02,\n",
       "        1.29431169e-02,  3.85508611e-05, -2.00589933e-02, -1.54155800e-02,\n",
       "        6.91590691e-03, -1.47516867e-02,  6.29368844e-03,  1.65164024e-02,\n",
       "        1.95864085e-02,  1.00688525e-02,  2.24970393e-02,  1.22995144e-02,\n",
       "       -3.41519364e-03,  7.02625560e-03,  1.04950462e-02, -1.38777541e-03,\n",
       "        2.00925637e-02,  1.14421593e-02,  1.40624009e-02,  3.51747585e-04,\n",
       "        2.30284464e-02, -2.15479005e-02, -8.57577776e-04, -8.93869263e-04,\n",
       "        3.26191261e-02,  1.23149985e-02, -1.33385910e-02,  3.41783278e-03,\n",
       "        1.25466324e-02, -7.52797537e-03,  1.66998487e-02,  1.95506588e-02,\n",
       "        1.44931842e-02,  1.13301165e-03,  3.28768790e-03,  2.93416344e-03,\n",
       "        4.35678940e-03, -3.54871154e-03, -3.30553693e-03, -2.20583752e-02,\n",
       "       -2.55392143e-03, -2.23260392e-02,  5.99037670e-03, -1.27975596e-02,\n",
       "       -6.35516504e-03, -5.36062429e-03,  3.04284263e-02,  1.03772981e-02,\n",
       "        2.39159055e-02, -1.50666544e-02,  1.63617749e-02,  2.38746852e-02,\n",
       "        7.17687421e-03, -2.17566406e-03,  1.33857802e-02,  2.87245605e-02,\n",
       "        2.44277101e-02, -1.80565100e-02, -1.04640918e-02,  1.32695334e-02,\n",
       "       -9.94942058e-03, -1.47057092e-03,  1.38369389e-02, -1.01609640e-02,\n",
       "        2.00362988e-02,  8.58811941e-03,  1.92570649e-02,  6.03608275e-03,\n",
       "        2.51129325e-02, -7.17051676e-04,  1.43133737e-02, -5.34328911e-03,\n",
       "       -3.70298978e-03,  4.81170230e-03,  2.14648689e-03, -8.70681275e-03,\n",
       "       -5.60443988e-03,  1.54129937e-02, -3.01752007e-03,  1.65691152e-02,\n",
       "        3.01026162e-02,  1.97720155e-02, -1.65026858e-02, -8.83763190e-04,\n",
       "        1.62139814e-02,  1.88614763e-02,  2.53259605e-05,  8.75137746e-03,\n",
       "        1.22548845e-02,  1.67310741e-02,  2.95601971e-02, -2.06481456e-03,\n",
       "       -1.49944508e-02, -5.68119995e-03,  8.07677920e-04, -1.09528583e-02,\n",
       "       -3.42858653e-03, -2.66184956e-02, -9.26686730e-03, -2.47611804e-03,\n",
       "        1.02959340e-02, -2.04014201e-02, -4.05336078e-03, -2.28844173e-02,\n",
       "       -2.76576757e-04, -1.34147660e-04,  1.94044337e-02,  1.15857285e-03,\n",
       "        2.98939529e-03,  2.48716436e-02, -2.36977823e-03, -2.41642958e-03,\n",
       "       -1.85810346e-02,  1.39765795e-02, -1.18681490e-02,  2.09266879e-02,\n",
       "        8.59382749e-03,  1.18910167e-02, -1.48223583e-02, -8.07712972e-03,\n",
       "        1.88570563e-02,  8.12860578e-03, -5.54506760e-03,  1.65523663e-02,\n",
       "        2.89733857e-02, -7.88826495e-03,  4.41047037e-03, -1.47617329e-02,\n",
       "       -1.24829775e-02,  1.82653815e-02,  8.57848150e-04,  1.01183709e-02,\n",
       "       -9.43818502e-03,  2.69172490e-02,  3.67773250e-02, -1.30540431e-02,\n",
       "       -1.86404586e-02, -1.44881252e-02,  7.51560228e-03, -5.17406268e-03,\n",
       "       -5.84192248e-03,  1.50548238e-02,  1.01991957e-02,  2.80831568e-02,\n",
       "       -1.37479752e-02,  1.99834183e-02,  2.37254184e-02, -1.28576960e-02,\n",
       "       -1.36520509e-02,  1.19714753e-03,  1.08587062e-02, -1.25151258e-02,\n",
       "        1.48898643e-02,  1.34124206e-02,  9.82700288e-03, -2.12877635e-02],\n",
       "      dtype=float32)"
      ]
     },
     "execution_count": 44,
     "metadata": {},
     "output_type": "execute_result"
    }
   ],
   "source": [
    "ET = movie_to_idx['E.T. the Extra-Terrestrial (1982)']\n",
    "ET_vector = als_model.item_factors[star_wars_epi_4]\n",
    "ET_vector  # 영화 벡터"
   ]
  },
  {
   "cell_type": "code",
   "execution_count": 45,
   "metadata": {
    "colab": {
     "base_uri": "https://localhost:8080/"
    },
    "executionInfo": {
     "elapsed": 11,
     "status": "ok",
     "timestamp": 1656222282059,
     "user": {
      "displayName": "changhwan lee",
      "userId": "04303211996600941657"
     },
     "user_tz": -540
    },
    "id": "HWPBvj5jC69B",
    "outputId": "e3d4f253-d5d2-44df-8046-c0d5ceb7460d"
   },
   "outputs": [
    {
     "data": {
      "text/plain": [
       "-0.032510936"
      ]
     },
     "execution_count": 45,
     "metadata": {},
     "output_type": "execute_result"
    }
   ],
   "source": [
    "# user와 star_wars_epi_4를 내적하는 코드\n",
    "np.dot(user_vector, ET_vector)"
   ]
  },
  {
   "cell_type": "code",
   "execution_count": 46,
   "metadata": {
    "executionInfo": {
     "elapsed": 4,
     "status": "ok",
     "timestamp": 1656222304799,
     "user": {
      "displayName": "changhwan lee",
      "userId": "04303211996600941657"
     },
     "user_tz": -540
    },
    "id": "5Wy1e1uaDALb"
   },
   "outputs": [],
   "source": [
    "def predict_my_preference(user_vector, title, print_flag=True):\n",
    "    movie = movie_to_idx.get(title, 0)\n",
    "    movie_vector = als_model.item_factors[movie]\n",
    "\n",
    "    # user_vector와 movie_vector를 내적하는 코드\n",
    "    dot_user_movie = np.dot(user_vector, movie_vector)\n",
    "    if print_flag:\n",
    "        print(f'* user_vector 와 movie_vector({title}) 를 내적한 결과: {dot_user_movie:.2f}')\n",
    "    else:\n",
    "        return round(dot_user_movie, 2)"
   ]
  },
  {
   "cell_type": "code",
   "execution_count": 47,
   "metadata": {
    "colab": {
     "base_uri": "https://localhost:8080/"
    },
    "executionInfo": {
     "elapsed": 397,
     "status": "ok",
     "timestamp": 1656222307935,
     "user": {
      "displayName": "changhwan lee",
      "userId": "04303211996600941657"
     },
     "user_tz": -540
    },
    "id": "imAIdhLdDI5A",
    "outputId": "7d7fdf2b-18e2-450c-8cc0-fd6b083c0394"
   },
   "outputs": [
    {
     "name": "stdout",
     "output_type": "stream",
     "text": [
      "* user_vector 와 movie_vector(From Dusk Till Dawn (1996)) 를 내적한 결과: 0.48\n",
      "* user_vector 와 movie_vector(Devil in a Blue Dress (1995)) 를 내적한 결과: 0.43\n",
      "* user_vector 와 movie_vector(Professional, The (a.k.a. Leon: The Professional) (1994)) 를 내적한 결과: 0.72\n",
      "* user_vector 와 movie_vector(Body Snatchers (1993)) 를 내적한 결과: 0.37\n",
      "* user_vector 와 movie_vector(Jacob's Ladder (1990)) 를 내적한 결과: 0.60\n"
     ]
    }
   ],
   "source": [
    "for movie_id, movie_title in my_favorite.items():\n",
    "    predict_my_preference(user_vector, movie_title)"
   ]
  },
  {
   "cell_type": "markdown",
   "metadata": {
    "id": "bl1-DbAaDRrF"
   },
   "source": [
    "영화 데이터에 선호도 컬럼 추가"
   ]
  },
  {
   "cell_type": "code",
   "execution_count": 48,
   "metadata": {
    "executionInfo": {
     "elapsed": 409,
     "status": "ok",
     "timestamp": 1656222391633,
     "user": {
      "displayName": "changhwan lee",
      "userId": "04303211996600941657"
     },
     "user_tz": -540
    },
    "id": "NHXn5HGbDNb3"
   },
   "outputs": [],
   "source": [
    "my_prefer = []\n",
    "for title in movies['title'].to_list():\n",
    "    my_prefer.append(predict_my_preference(user_vector, title, False))"
   ]
  },
  {
   "cell_type": "code",
   "execution_count": 49,
   "metadata": {
    "colab": {
     "base_uri": "https://localhost:8080/",
     "height": 424
    },
    "executionInfo": {
     "elapsed": 480,
     "status": "ok",
     "timestamp": 1656222394510,
     "user": {
      "displayName": "changhwan lee",
      "userId": "04303211996600941657"
     },
     "user_tz": -540
    },
    "id": "iHEEwpETDuIf",
    "outputId": "ace1fb60-7514-4bb8-ed4a-ba633d47c7b2"
   },
   "outputs": [
    {
     "data": {
      "text/html": [
       "\n",
       "  <div id=\"df-0454f288-b38e-4372-8c1e-bcf81bccf2b2\">\n",
       "    <div class=\"colab-df-container\">\n",
       "      <div>\n",
       "<style scoped>\n",
       "    .dataframe tbody tr th:only-of-type {\n",
       "        vertical-align: middle;\n",
       "    }\n",
       "\n",
       "    .dataframe tbody tr th {\n",
       "        vertical-align: top;\n",
       "    }\n",
       "\n",
       "    .dataframe thead th {\n",
       "        text-align: right;\n",
       "    }\n",
       "</style>\n",
       "<table border=\"1\" class=\"dataframe\">\n",
       "  <thead>\n",
       "    <tr style=\"text-align: right;\">\n",
       "      <th></th>\n",
       "      <th>movie_id</th>\n",
       "      <th>title</th>\n",
       "      <th>genre</th>\n",
       "      <th>my_prefer</th>\n",
       "    </tr>\n",
       "  </thead>\n",
       "  <tbody>\n",
       "    <tr>\n",
       "      <th>0</th>\n",
       "      <td>1</td>\n",
       "      <td>Toy Story (1995)</td>\n",
       "      <td>Animation|Children's|Comedy</td>\n",
       "      <td>-0.09</td>\n",
       "    </tr>\n",
       "    <tr>\n",
       "      <th>1</th>\n",
       "      <td>2</td>\n",
       "      <td>Jumanji (1995)</td>\n",
       "      <td>Adventure|Children's|Fantasy</td>\n",
       "      <td>0.00</td>\n",
       "    </tr>\n",
       "    <tr>\n",
       "      <th>2</th>\n",
       "      <td>3</td>\n",
       "      <td>Grumpier Old Men (1995)</td>\n",
       "      <td>Comedy|Romance</td>\n",
       "      <td>-0.01</td>\n",
       "    </tr>\n",
       "    <tr>\n",
       "      <th>3</th>\n",
       "      <td>4</td>\n",
       "      <td>Waiting to Exhale (1995)</td>\n",
       "      <td>Comedy|Drama</td>\n",
       "      <td>0.02</td>\n",
       "    </tr>\n",
       "    <tr>\n",
       "      <th>4</th>\n",
       "      <td>5</td>\n",
       "      <td>Father of the Bride Part II (1995)</td>\n",
       "      <td>Comedy</td>\n",
       "      <td>0.01</td>\n",
       "    </tr>\n",
       "    <tr>\n",
       "      <th>...</th>\n",
       "      <td>...</td>\n",
       "      <td>...</td>\n",
       "      <td>...</td>\n",
       "      <td>...</td>\n",
       "    </tr>\n",
       "    <tr>\n",
       "      <th>3878</th>\n",
       "      <td>3948</td>\n",
       "      <td>Meet the Parents (2000)</td>\n",
       "      <td>Comedy</td>\n",
       "      <td>-0.04</td>\n",
       "    </tr>\n",
       "    <tr>\n",
       "      <th>3879</th>\n",
       "      <td>3949</td>\n",
       "      <td>Requiem for a Dream (2000)</td>\n",
       "      <td>Drama</td>\n",
       "      <td>-0.04</td>\n",
       "    </tr>\n",
       "    <tr>\n",
       "      <th>3880</th>\n",
       "      <td>3950</td>\n",
       "      <td>Tigerland (2000)</td>\n",
       "      <td>Drama</td>\n",
       "      <td>-0.01</td>\n",
       "    </tr>\n",
       "    <tr>\n",
       "      <th>3881</th>\n",
       "      <td>3951</td>\n",
       "      <td>Two Family House (2000)</td>\n",
       "      <td>Drama</td>\n",
       "      <td>-0.02</td>\n",
       "    </tr>\n",
       "    <tr>\n",
       "      <th>3882</th>\n",
       "      <td>3952</td>\n",
       "      <td>Contender, The (2000)</td>\n",
       "      <td>Drama|Thriller</td>\n",
       "      <td>0.04</td>\n",
       "    </tr>\n",
       "  </tbody>\n",
       "</table>\n",
       "<p>3883 rows × 4 columns</p>\n",
       "</div>\n",
       "      <button class=\"colab-df-convert\" onclick=\"convertToInteractive('df-0454f288-b38e-4372-8c1e-bcf81bccf2b2')\"\n",
       "              title=\"Convert this dataframe to an interactive table.\"\n",
       "              style=\"display:none;\">\n",
       "        \n",
       "  <svg xmlns=\"http://www.w3.org/2000/svg\" height=\"24px\"viewBox=\"0 0 24 24\"\n",
       "       width=\"24px\">\n",
       "    <path d=\"M0 0h24v24H0V0z\" fill=\"none\"/>\n",
       "    <path d=\"M18.56 5.44l.94 2.06.94-2.06 2.06-.94-2.06-.94-.94-2.06-.94 2.06-2.06.94zm-11 1L8.5 8.5l.94-2.06 2.06-.94-2.06-.94L8.5 2.5l-.94 2.06-2.06.94zm10 10l.94 2.06.94-2.06 2.06-.94-2.06-.94-.94-2.06-.94 2.06-2.06.94z\"/><path d=\"M17.41 7.96l-1.37-1.37c-.4-.4-.92-.59-1.43-.59-.52 0-1.04.2-1.43.59L10.3 9.45l-7.72 7.72c-.78.78-.78 2.05 0 2.83L4 21.41c.39.39.9.59 1.41.59.51 0 1.02-.2 1.41-.59l7.78-7.78 2.81-2.81c.8-.78.8-2.07 0-2.86zM5.41 20L4 18.59l7.72-7.72 1.47 1.35L5.41 20z\"/>\n",
       "  </svg>\n",
       "      </button>\n",
       "      \n",
       "  <style>\n",
       "    .colab-df-container {\n",
       "      display:flex;\n",
       "      flex-wrap:wrap;\n",
       "      gap: 12px;\n",
       "    }\n",
       "\n",
       "    .colab-df-convert {\n",
       "      background-color: #E8F0FE;\n",
       "      border: none;\n",
       "      border-radius: 50%;\n",
       "      cursor: pointer;\n",
       "      display: none;\n",
       "      fill: #1967D2;\n",
       "      height: 32px;\n",
       "      padding: 0 0 0 0;\n",
       "      width: 32px;\n",
       "    }\n",
       "\n",
       "    .colab-df-convert:hover {\n",
       "      background-color: #E2EBFA;\n",
       "      box-shadow: 0px 1px 2px rgba(60, 64, 67, 0.3), 0px 1px 3px 1px rgba(60, 64, 67, 0.15);\n",
       "      fill: #174EA6;\n",
       "    }\n",
       "\n",
       "    [theme=dark] .colab-df-convert {\n",
       "      background-color: #3B4455;\n",
       "      fill: #D2E3FC;\n",
       "    }\n",
       "\n",
       "    [theme=dark] .colab-df-convert:hover {\n",
       "      background-color: #434B5C;\n",
       "      box-shadow: 0px 1px 3px 1px rgba(0, 0, 0, 0.15);\n",
       "      filter: drop-shadow(0px 1px 2px rgba(0, 0, 0, 0.3));\n",
       "      fill: #FFFFFF;\n",
       "    }\n",
       "  </style>\n",
       "\n",
       "      <script>\n",
       "        const buttonEl =\n",
       "          document.querySelector('#df-0454f288-b38e-4372-8c1e-bcf81bccf2b2 button.colab-df-convert');\n",
       "        buttonEl.style.display =\n",
       "          google.colab.kernel.accessAllowed ? 'block' : 'none';\n",
       "\n",
       "        async function convertToInteractive(key) {\n",
       "          const element = document.querySelector('#df-0454f288-b38e-4372-8c1e-bcf81bccf2b2');\n",
       "          const dataTable =\n",
       "            await google.colab.kernel.invokeFunction('convertToInteractive',\n",
       "                                                     [key], {});\n",
       "          if (!dataTable) return;\n",
       "\n",
       "          const docLinkHtml = 'Like what you see? Visit the ' +\n",
       "            '<a target=\"_blank\" href=https://colab.research.google.com/notebooks/data_table.ipynb>data table notebook</a>'\n",
       "            + ' to learn more about interactive tables.';\n",
       "          element.innerHTML = '';\n",
       "          dataTable['output_type'] = 'display_data';\n",
       "          await google.colab.output.renderOutput(dataTable, element);\n",
       "          const docLink = document.createElement('div');\n",
       "          docLink.innerHTML = docLinkHtml;\n",
       "          element.appendChild(docLink);\n",
       "        }\n",
       "      </script>\n",
       "    </div>\n",
       "  </div>\n",
       "  "
      ],
      "text/plain": [
       "      movie_id                               title  \\\n",
       "0            1                    Toy Story (1995)   \n",
       "1            2                      Jumanji (1995)   \n",
       "2            3             Grumpier Old Men (1995)   \n",
       "3            4            Waiting to Exhale (1995)   \n",
       "4            5  Father of the Bride Part II (1995)   \n",
       "...        ...                                 ...   \n",
       "3878      3948             Meet the Parents (2000)   \n",
       "3879      3949          Requiem for a Dream (2000)   \n",
       "3880      3950                    Tigerland (2000)   \n",
       "3881      3951             Two Family House (2000)   \n",
       "3882      3952               Contender, The (2000)   \n",
       "\n",
       "                             genre  my_prefer  \n",
       "0      Animation|Children's|Comedy      -0.09  \n",
       "1     Adventure|Children's|Fantasy       0.00  \n",
       "2                   Comedy|Romance      -0.01  \n",
       "3                     Comedy|Drama       0.02  \n",
       "4                           Comedy       0.01  \n",
       "...                            ...        ...  \n",
       "3878                        Comedy      -0.04  \n",
       "3879                         Drama      -0.04  \n",
       "3880                         Drama      -0.01  \n",
       "3881                         Drama      -0.02  \n",
       "3882                Drama|Thriller       0.04  \n",
       "\n",
       "[3883 rows x 4 columns]"
      ]
     },
     "execution_count": 49,
     "metadata": {},
     "output_type": "execute_result"
    }
   ],
   "source": [
    "movies.insert(len(movies.columns), 'my_prefer', my_prefer, allow_duplicates=True)\n",
    "movies"
   ]
  },
  {
   "cell_type": "markdown",
   "metadata": {
    "id": "krj4nmPMD5d3"
   },
   "source": [
    "선호도 0.6 이상인 영화 목록"
   ]
  },
  {
   "cell_type": "code",
   "execution_count": 50,
   "metadata": {
    "colab": {
     "base_uri": "https://localhost:8080/",
     "height": 112
    },
    "executionInfo": {
     "elapsed": 414,
     "status": "ok",
     "timestamp": 1656222402947,
     "user": {
      "displayName": "changhwan lee",
      "userId": "04303211996600941657"
     },
     "user_tz": -540
    },
    "id": "669cXq6pD0-Y",
    "outputId": "eb47c92e-a1c6-4a13-b91d-b31af5d446b8"
   },
   "outputs": [
    {
     "data": {
      "text/html": [
       "\n",
       "  <div id=\"df-9af5e632-fdf7-473c-8c4e-0e44f607c66e\">\n",
       "    <div class=\"colab-df-container\">\n",
       "      <div>\n",
       "<style scoped>\n",
       "    .dataframe tbody tr th:only-of-type {\n",
       "        vertical-align: middle;\n",
       "    }\n",
       "\n",
       "    .dataframe tbody tr th {\n",
       "        vertical-align: top;\n",
       "    }\n",
       "\n",
       "    .dataframe thead th {\n",
       "        text-align: right;\n",
       "    }\n",
       "</style>\n",
       "<table border=\"1\" class=\"dataframe\">\n",
       "  <thead>\n",
       "    <tr style=\"text-align: right;\">\n",
       "      <th></th>\n",
       "      <th>movie_id</th>\n",
       "      <th>title</th>\n",
       "      <th>genre</th>\n",
       "      <th>my_prefer</th>\n",
       "    </tr>\n",
       "  </thead>\n",
       "  <tbody>\n",
       "    <tr>\n",
       "      <th>290</th>\n",
       "      <td>293</td>\n",
       "      <td>Professional, The (a.k.a. Leon: The Profession...</td>\n",
       "      <td>Crime|Drama|Romance|Thriller</td>\n",
       "      <td>0.72</td>\n",
       "    </tr>\n",
       "    <tr>\n",
       "      <th>3407</th>\n",
       "      <td>3476</td>\n",
       "      <td>Jacob's Ladder (1990)</td>\n",
       "      <td>Horror|Mystery|Thriller</td>\n",
       "      <td>0.60</td>\n",
       "    </tr>\n",
       "  </tbody>\n",
       "</table>\n",
       "</div>\n",
       "      <button class=\"colab-df-convert\" onclick=\"convertToInteractive('df-9af5e632-fdf7-473c-8c4e-0e44f607c66e')\"\n",
       "              title=\"Convert this dataframe to an interactive table.\"\n",
       "              style=\"display:none;\">\n",
       "        \n",
       "  <svg xmlns=\"http://www.w3.org/2000/svg\" height=\"24px\"viewBox=\"0 0 24 24\"\n",
       "       width=\"24px\">\n",
       "    <path d=\"M0 0h24v24H0V0z\" fill=\"none\"/>\n",
       "    <path d=\"M18.56 5.44l.94 2.06.94-2.06 2.06-.94-2.06-.94-.94-2.06-.94 2.06-2.06.94zm-11 1L8.5 8.5l.94-2.06 2.06-.94-2.06-.94L8.5 2.5l-.94 2.06-2.06.94zm10 10l.94 2.06.94-2.06 2.06-.94-2.06-.94-.94-2.06-.94 2.06-2.06.94z\"/><path d=\"M17.41 7.96l-1.37-1.37c-.4-.4-.92-.59-1.43-.59-.52 0-1.04.2-1.43.59L10.3 9.45l-7.72 7.72c-.78.78-.78 2.05 0 2.83L4 21.41c.39.39.9.59 1.41.59.51 0 1.02-.2 1.41-.59l7.78-7.78 2.81-2.81c.8-.78.8-2.07 0-2.86zM5.41 20L4 18.59l7.72-7.72 1.47 1.35L5.41 20z\"/>\n",
       "  </svg>\n",
       "      </button>\n",
       "      \n",
       "  <style>\n",
       "    .colab-df-container {\n",
       "      display:flex;\n",
       "      flex-wrap:wrap;\n",
       "      gap: 12px;\n",
       "    }\n",
       "\n",
       "    .colab-df-convert {\n",
       "      background-color: #E8F0FE;\n",
       "      border: none;\n",
       "      border-radius: 50%;\n",
       "      cursor: pointer;\n",
       "      display: none;\n",
       "      fill: #1967D2;\n",
       "      height: 32px;\n",
       "      padding: 0 0 0 0;\n",
       "      width: 32px;\n",
       "    }\n",
       "\n",
       "    .colab-df-convert:hover {\n",
       "      background-color: #E2EBFA;\n",
       "      box-shadow: 0px 1px 2px rgba(60, 64, 67, 0.3), 0px 1px 3px 1px rgba(60, 64, 67, 0.15);\n",
       "      fill: #174EA6;\n",
       "    }\n",
       "\n",
       "    [theme=dark] .colab-df-convert {\n",
       "      background-color: #3B4455;\n",
       "      fill: #D2E3FC;\n",
       "    }\n",
       "\n",
       "    [theme=dark] .colab-df-convert:hover {\n",
       "      background-color: #434B5C;\n",
       "      box-shadow: 0px 1px 3px 1px rgba(0, 0, 0, 0.15);\n",
       "      filter: drop-shadow(0px 1px 2px rgba(0, 0, 0, 0.3));\n",
       "      fill: #FFFFFF;\n",
       "    }\n",
       "  </style>\n",
       "\n",
       "      <script>\n",
       "        const buttonEl =\n",
       "          document.querySelector('#df-9af5e632-fdf7-473c-8c4e-0e44f607c66e button.colab-df-convert');\n",
       "        buttonEl.style.display =\n",
       "          google.colab.kernel.accessAllowed ? 'block' : 'none';\n",
       "\n",
       "        async function convertToInteractive(key) {\n",
       "          const element = document.querySelector('#df-9af5e632-fdf7-473c-8c4e-0e44f607c66e');\n",
       "          const dataTable =\n",
       "            await google.colab.kernel.invokeFunction('convertToInteractive',\n",
       "                                                     [key], {});\n",
       "          if (!dataTable) return;\n",
       "\n",
       "          const docLinkHtml = 'Like what you see? Visit the ' +\n",
       "            '<a target=\"_blank\" href=https://colab.research.google.com/notebooks/data_table.ipynb>data table notebook</a>'\n",
       "            + ' to learn more about interactive tables.';\n",
       "          element.innerHTML = '';\n",
       "          dataTable['output_type'] = 'display_data';\n",
       "          await google.colab.output.renderOutput(dataTable, element);\n",
       "          const docLink = document.createElement('div');\n",
       "          docLink.innerHTML = docLinkHtml;\n",
       "          element.appendChild(docLink);\n",
       "        }\n",
       "      </script>\n",
       "    </div>\n",
       "  </div>\n",
       "  "
      ],
      "text/plain": [
       "      movie_id                                              title  \\\n",
       "290        293  Professional, The (a.k.a. Leon: The Profession...   \n",
       "3407      3476                              Jacob's Ladder (1990)   \n",
       "\n",
       "                             genre  my_prefer  \n",
       "290   Crime|Drama|Romance|Thriller       0.72  \n",
       "3407       Horror|Mystery|Thriller       0.60  "
      ]
     },
     "execution_count": 50,
     "metadata": {},
     "output_type": "execute_result"
    }
   ],
   "source": [
    "movies[movies['my_prefer'] >= 0.6]"
   ]
  },
  {
   "cell_type": "markdown",
   "metadata": {
    "id": "YK0Sx65RFaq1"
   },
   "source": [
    "### 7. 내가 좋아하는 영화와 비슷한 영화 추천"
   ]
  },
  {
   "cell_type": "code",
   "execution_count": 51,
   "metadata": {
    "colab": {
     "base_uri": "https://localhost:8080/"
    },
    "executionInfo": {
     "elapsed": 403,
     "status": "ok",
     "timestamp": 1656222412795,
     "user": {
      "displayName": "changhwan lee",
      "userId": "04303211996600941657"
     },
     "user_tz": -540
    },
    "id": "9pQwO3A4EEJR",
    "outputId": "fc6be9f3-67ef-443c-dec4-da029ddced96"
   },
   "outputs": [
    {
     "data": {
      "text/plain": [
       "[(513, 1.0),\n",
       " (596, 0.6119546),\n",
       " (1130, 0.5769446),\n",
       " (828, 0.5450341),\n",
       " (173, 0.529033),\n",
       " (687, 0.49828786),\n",
       " (935, 0.49061766),\n",
       " (2017, 0.48915917),\n",
       " (1238, 0.48888052),\n",
       " (2340, 0.4885462),\n",
       " (1985, 0.48179296),\n",
       " (1246, 0.47743794),\n",
       " (1518, 0.47352368),\n",
       " (545, 0.47196925),\n",
       " (686, 0.47157162)]"
      ]
     },
     "execution_count": 51,
     "metadata": {},
     "output_type": "execute_result"
    }
   ],
   "source": [
    "favorite_movie = 'Jumanji (1995)'\n",
    "movie_title = movie_to_idx[favorite_movie]\n",
    "similar_movies = als_model.similar_items(movie_title, N=15)\n",
    "similar_movies"
   ]
  },
  {
   "cell_type": "code",
   "execution_count": 52,
   "metadata": {
    "colab": {
     "base_uri": "https://localhost:8080/"
    },
    "executionInfo": {
     "elapsed": 400,
     "status": "ok",
     "timestamp": 1656222418226,
     "user": {
      "displayName": "changhwan lee",
      "userId": "04303211996600941657"
     },
     "user_tz": -540
    },
    "id": "JmxilX6GFpBC",
    "outputId": "10b7b468-59d8-4e4e-d8d6-ae33be6d40e1"
   },
   "outputs": [
    {
     "data": {
      "text/plain": [
       "['Jumanji (1995)',\n",
       " 'Hook (1991)',\n",
       " 'Indian in the Cupboard, The (1995)',\n",
       " 'Flubber (1997)',\n",
       " 'Dragonheart (1996)',\n",
       " 'Simple Wish, A (1997)',\n",
       " 'Casper (1995)',\n",
       " 'Pagemaster, The (1994)',\n",
       " 'Mighty Joe Young (1998)',\n",
       " 'One Magic Christmas (1985)',\n",
       " 'NeverEnding Story II: The Next Chapter, The (1990)',\n",
       " 'Homeward Bound II: Lost in San Francisco (1996)',\n",
       " 'Free Willy (1993)',\n",
       " 'Santa Clause, The (1994)',\n",
       " 'FairyTale: A True Story (1997)']"
      ]
     },
     "execution_count": 52,
     "metadata": {},
     "output_type": "execute_result"
    }
   ],
   "source": [
    "# movie_to_idx 를 뒤집어, index로부터 movie 이름을 얻는 dict를 생성합니다. \n",
    "\n",
    "idx_to_movie = {v:k for k,v in movie_to_idx.items()}\n",
    "[idx_to_movie[i[0]] for i in similar_movies]"
   ]
  },
  {
   "cell_type": "code",
   "execution_count": 53,
   "metadata": {
    "colab": {
     "base_uri": "https://localhost:8080/"
    },
    "executionInfo": {
     "elapsed": 476,
     "status": "ok",
     "timestamp": 1656222425304,
     "user": {
      "displayName": "changhwan lee",
      "userId": "04303211996600941657"
     },
     "user_tz": -540
    },
    "id": "PCoH9b4vFs4A",
    "outputId": "a6d77f1d-6b4f-4e08-cce9-1a6ffaea5dbc"
   },
   "outputs": [
    {
     "name": "stdout",
     "output_type": "stream",
     "text": [
      "슝=3\n"
     ]
    }
   ],
   "source": [
    "def get_similar_movie(movie_name: str):\n",
    "    movie_title = movie_to_idx[movie_name]\n",
    "    similar_movies = als_model.similar_items(movie_title, N=15)\n",
    "    similar_movies = [idx_to_movie[i[0]] for i in similar_movies]\n",
    "    return similar_movies\n",
    "\n",
    "print(\"슝=3\")"
   ]
  },
  {
   "cell_type": "code",
   "execution_count": 54,
   "metadata": {
    "colab": {
     "base_uri": "https://localhost:8080/"
    },
    "executionInfo": {
     "elapsed": 402,
     "status": "ok",
     "timestamp": 1656222432647,
     "user": {
      "displayName": "changhwan lee",
      "userId": "04303211996600941657"
     },
     "user_tz": -540
    },
    "id": "THqIMnK9F-kJ",
    "outputId": "f3212b90-fbc6-41ef-b367-97f637081b7e"
   },
   "outputs": [
    {
     "data": {
      "text/plain": [
       "['Deep Impact (1998)',\n",
       " 'Armageddon (1998)',\n",
       " 'Lost in Space (1998)',\n",
       " \"Dante's Peak (1997)\",\n",
       " 'Babysitter, The (1995)',\n",
       " 'For All Mankind (1989)',\n",
       " 'Couch in New York, A (1996)',\n",
       " 'Confessional, The (Le Confessionnal) (1995)',\n",
       " 'Light It Up (1999)',\n",
       " 'Mute Witness (1994)',\n",
       " 'Substance of Fire, The (1996)',\n",
       " 'Belly (1998)',\n",
       " 'Flying Saucer, The (1950)',\n",
       " 'Aimée & Jaguar (1999)',\n",
       " \"Relax... It's Just Sex (1998)\"]"
      ]
     },
     "execution_count": 54,
     "metadata": {},
     "output_type": "execute_result"
    }
   ],
   "source": [
    "get_similar_movie('Deep Impact (1998)')"
   ]
  },
  {
   "cell_type": "markdown",
   "metadata": {
    "id": "5LvUmyAyIL_l"
   },
   "source": [
    "### 8. 내가 가장 좋아할 만한 영화들 추천"
   ]
  },
  {
   "cell_type": "code",
   "execution_count": 55,
   "metadata": {
    "colab": {
     "base_uri": "https://localhost:8080/"
    },
    "executionInfo": {
     "elapsed": 408,
     "status": "ok",
     "timestamp": 1656222441199,
     "user": {
      "displayName": "changhwan lee",
      "userId": "04303211996600941657"
     },
     "user_tz": -540
    },
    "id": "Pyp6weFPGIiw",
    "outputId": "bcd438f9-4d00-40aa-fd32-159eab78d3cb"
   },
   "outputs": [
    {
     "data": {
      "text/plain": [
       "[(831, 0.30552197),\n",
       " (855, 0.21403578),\n",
       " (299, 0.17410168),\n",
       " (136, 0.17278528),\n",
       " (1113, 0.171538),\n",
       " (1486, 0.17066014),\n",
       " (250, 0.16660464),\n",
       " (1090, 0.16510475),\n",
       " (400, 0.16412322),\n",
       " (174, 0.1639392),\n",
       " (456, 0.15427303),\n",
       " (913, 0.15422873),\n",
       " (1368, 0.1506048),\n",
       " (467, 0.15058874),\n",
       " (919, 0.14936337),\n",
       " (289, 0.1465288),\n",
       " (1450, 0.14509892),\n",
       " (997, 0.14389572),\n",
       " (1107, 0.14263439),\n",
       " (1709, 0.13979551)]"
      ]
     },
     "execution_count": 55,
     "metadata": {},
     "output_type": "execute_result"
    }
   ],
   "source": [
    "user = user_to_idx[6041]\n",
    "# recommend에서는 user*item CSR Matrix를 받습니다.\n",
    "movie_recommended = als_model.recommend(user, csr_data, N=20, filter_already_liked_items=True)\n",
    "movie_recommended"
   ]
  },
  {
   "cell_type": "code",
   "execution_count": 56,
   "metadata": {
    "colab": {
     "base_uri": "https://localhost:8080/"
    },
    "executionInfo": {
     "elapsed": 417,
     "status": "ok",
     "timestamp": 1656222446290,
     "user": {
      "displayName": "changhwan lee",
      "userId": "04303211996600941657"
     },
     "user_tz": -540
    },
    "id": "L5wg8DDlJhdk",
    "outputId": "a0d045ff-f7d8-4a2b-e218-f80b6f3c3978"
   },
   "outputs": [
    {
     "data": {
      "text/plain": [
       "[\"Devil's Advocate, The (1997)\",\n",
       " 'Grifters, The (1990)',\n",
       " 'Mariachi, El (1992)',\n",
       " 'Desperado (1995)',\n",
       " 'Dead Again (1991)',\n",
       " 'Angel Heart (1987)',\n",
       " 'Edward Scissorhands (1990)',\n",
       " 'Nikita (La Femme Nikita) (1990)',\n",
       " 'Postino, Il (The Postman) (1994)',\n",
       " 'Blade (1998)',\n",
       " 'Arachnophobia (1990)',\n",
       " 'Fly, The (1986)',\n",
       " 'Henry: Portrait of a Serial Killer (1990)',\n",
       " 'Cape Fear (1991)',\n",
       " 'Mulholland Falls (1996)',\n",
       " 'Reservoir Dogs (1992)',\n",
       " 'Big Kahuna, The (2000)',\n",
       " 'Scream (1996)',\n",
       " \"Rosemary's Baby (1968)\",\n",
       " 'Thin Man, The (1934)']"
      ]
     },
     "execution_count": 56,
     "metadata": {},
     "output_type": "execute_result"
    }
   ],
   "source": [
    "[idx_to_movie[i[0]] for i in movie_recommended]"
   ]
  },
  {
   "cell_type": "code",
   "execution_count": 59,
   "metadata": {
    "executionInfo": {
     "elapsed": 432,
     "status": "ok",
     "timestamp": 1656222509897,
     "user": {
      "displayName": "changhwan lee",
      "userId": "04303211996600941657"
     },
     "user_tz": -540
    },
    "id": "9noeUAmLJqSo"
   },
   "outputs": [],
   "source": [
    "item_movie = movie_to_idx['Grifters, The (1990)']\n",
    "explain = als_model.explain(user, csr_data, itemid=item_movie)"
   ]
  },
  {
   "cell_type": "markdown",
   "metadata": {
    "id": "Tv40dWEzjrrf"
   },
   "source": [
    "Grifters, The (1990) 추천에는 Devil in a Blue Dress (1995) 와 Jacob's Ladder (1990)의 기여도가 높게 설명됨"
   ]
  },
  {
   "cell_type": "code",
   "execution_count": 60,
   "metadata": {
    "colab": {
     "base_uri": "https://localhost:8080/"
    },
    "executionInfo": {
     "elapsed": 7,
     "status": "ok",
     "timestamp": 1656222512090,
     "user": {
      "displayName": "changhwan lee",
      "userId": "04303211996600941657"
     },
     "user_tz": -540
    },
    "id": "NgTJ7j79KBxL",
    "outputId": "645498bf-a288-40ff-c329-cea016b5ec2f"
   },
   "outputs": [
    {
     "data": {
      "text/plain": [
       "[('Devil in a Blue Dress (1995)', 0.11440915753367634),\n",
       " (\"Jacob's Ladder (1990)\", 0.07333767448637993),\n",
       " ('Professional, The (a.k.a. Leon: The Professional) (1994)',\n",
       "  0.01827661129915292),\n",
       " ('Body Snatchers (1993)', 0.016569898523688984),\n",
       " ('From Dusk Till Dawn (1996)', -0.009209038942256317)]"
      ]
     },
     "execution_count": 60,
     "metadata": {},
     "output_type": "execute_result"
    }
   ],
   "source": [
    "[(idx_to_movie[i[0]], i[1]) for i in explain[1]]"
   ]
  },
  {
   "cell_type": "markdown",
   "metadata": {
    "id": "qjM3-kPZKdzO"
   },
   "source": [
    "### [ 결 론 ]\n",
    "  * CSR Matrix 를 사용자(user_id 유니크 개수: 6040)와 아이템 개수(movie_id 유니크 개수: 3628)를 바탕으로 생성 및 CSR Matrix 를 transpose 한 값을 als_model 을 훈련할 때 사용\n",
    "  * 파라미터는 factors=300, iterations=15 로 훈련진행\n",
    "  * 사용자(user_id)와 아이템(movie_id) 벡터 내적수치를 각 영화마다 구해서 0.6 이상인 영화 목록을 출력해서 확인\n",
    "  * 유저 선호도, 아이템간 유사도, 기여도를 측정해서 비슷한 영화를 찾아서 유저에게 추천해 봄\n",
    "\n",
    "\n",
    "#### [ 회 고 ]\n",
    "   * LMS의 implicit 버전과 코렙의 버전이 맞지 않아, 해결책 강구: 범석님이 코렙의 높은 버전을 쓰되, transpose 하지 않는 방안제시 \n",
    "   * 다른 방법으로 LMS의 낮은 버전으로 전환하는 방법 사용: 설치 에러가 계속되어 pip setuptools wheel upgrade로 설치해결\n",
    "   * Matrix 인수분해로 특징을 잡아낼 수 있다는 아이디어가 신선함\n",
    "   * 다른 상업용 사이트들은 어떤 추천 시스템을 쓰고 있을까? 내가 몇 가지만 서치해도 유사한 item 추천이 들어온다(굉장히 민감)\n",
    "\n",
    "< reference >   \n",
    " * https://wikidocs.net/48797\n",
    " * https://abluesnake.tistory.com/105\n",
    " * https://yganalyst.github.io/data_handling/Pd_12/ (데이터프레임 합치기)\n"
   ]
  }
 ],
 "metadata": {
  "colab": {
   "authorship_tag": "ABX9TyMC+Wc9O/pP6jIb7oo2o7Ll",
   "collapsed_sections": [],
   "mount_file_id": "1-o1pbYaYXOmPLzGBdrQgbvmaDFedZmgQ",
   "name": "movie_recommendation.ipynb",
   "provenance": []
  },
  "kernelspec": {
   "display_name": "Python 3",
   "name": "python3"
  },
  "language_info": {
   "name": "python"
  },
  "widgets": {
   "application/vnd.jupyter.widget-state+json": {
    "20da601fe3d24da68ef87625daf4fc08": {
     "model_module": "@jupyter-widgets/base",
     "model_module_version": "1.2.0",
     "model_name": "LayoutModel",
     "state": {
      "_model_module": "@jupyter-widgets/base",
      "_model_module_version": "1.2.0",
      "_model_name": "LayoutModel",
      "_view_count": null,
      "_view_module": "@jupyter-widgets/base",
      "_view_module_version": "1.2.0",
      "_view_name": "LayoutView",
      "align_content": null,
      "align_items": null,
      "align_self": null,
      "border": null,
      "bottom": null,
      "display": null,
      "flex": null,
      "flex_flow": null,
      "grid_area": null,
      "grid_auto_columns": null,
      "grid_auto_flow": null,
      "grid_auto_rows": null,
      "grid_column": null,
      "grid_gap": null,
      "grid_row": null,
      "grid_template_areas": null,
      "grid_template_columns": null,
      "grid_template_rows": null,
      "height": null,
      "justify_content": null,
      "justify_items": null,
      "left": null,
      "margin": null,
      "max_height": null,
      "max_width": null,
      "min_height": null,
      "min_width": null,
      "object_fit": null,
      "object_position": null,
      "order": null,
      "overflow": null,
      "overflow_x": null,
      "overflow_y": null,
      "padding": null,
      "right": null,
      "top": null,
      "visibility": null,
      "width": null
     }
    },
    "3fc86beaaf094372b5bce7072e60f7aa": {
     "model_module": "@jupyter-widgets/base",
     "model_module_version": "1.2.0",
     "model_name": "LayoutModel",
     "state": {
      "_model_module": "@jupyter-widgets/base",
      "_model_module_version": "1.2.0",
      "_model_name": "LayoutModel",
      "_view_count": null,
      "_view_module": "@jupyter-widgets/base",
      "_view_module_version": "1.2.0",
      "_view_name": "LayoutView",
      "align_content": null,
      "align_items": null,
      "align_self": null,
      "border": null,
      "bottom": null,
      "display": null,
      "flex": null,
      "flex_flow": null,
      "grid_area": null,
      "grid_auto_columns": null,
      "grid_auto_flow": null,
      "grid_auto_rows": null,
      "grid_column": null,
      "grid_gap": null,
      "grid_row": null,
      "grid_template_areas": null,
      "grid_template_columns": null,
      "grid_template_rows": null,
      "height": null,
      "justify_content": null,
      "justify_items": null,
      "left": null,
      "margin": null,
      "max_height": null,
      "max_width": null,
      "min_height": null,
      "min_width": null,
      "object_fit": null,
      "object_position": null,
      "order": null,
      "overflow": null,
      "overflow_x": null,
      "overflow_y": null,
      "padding": null,
      "right": null,
      "top": null,
      "visibility": null,
      "width": null
     }
    },
    "5807c7d3f4cc4edaadbd07b4feb67355": {
     "model_module": "@jupyter-widgets/controls",
     "model_module_version": "1.5.0",
     "model_name": "HBoxModel",
     "state": {
      "_dom_classes": [],
      "_model_module": "@jupyter-widgets/controls",
      "_model_module_version": "1.5.0",
      "_model_name": "HBoxModel",
      "_view_count": null,
      "_view_module": "@jupyter-widgets/controls",
      "_view_module_version": "1.5.0",
      "_view_name": "HBoxView",
      "box_style": "",
      "children": [
       "IPY_MODEL_5a7260e0a4fd4a4cbe5e42f6fd4ba3d9",
       "IPY_MODEL_eb66902dabc54877ac4b3ad6e9d0e166",
       "IPY_MODEL_b348120a11c74eebaf4bab9b83125f67"
      ],
      "layout": "IPY_MODEL_5df5f4f941d54e759ce1a4f349048503"
     }
    },
    "5a7260e0a4fd4a4cbe5e42f6fd4ba3d9": {
     "model_module": "@jupyter-widgets/controls",
     "model_module_version": "1.5.0",
     "model_name": "HTMLModel",
     "state": {
      "_dom_classes": [],
      "_model_module": "@jupyter-widgets/controls",
      "_model_module_version": "1.5.0",
      "_model_name": "HTMLModel",
      "_view_count": null,
      "_view_module": "@jupyter-widgets/controls",
      "_view_module_version": "1.5.0",
      "_view_name": "HTMLView",
      "description": "",
      "description_tooltip": null,
      "layout": "IPY_MODEL_3fc86beaaf094372b5bce7072e60f7aa",
      "placeholder": "​",
      "style": "IPY_MODEL_fa70d9dc656043b3a45218157fdda28c",
      "value": "100%"
     }
    },
    "5df5f4f941d54e759ce1a4f349048503": {
     "model_module": "@jupyter-widgets/base",
     "model_module_version": "1.2.0",
     "model_name": "LayoutModel",
     "state": {
      "_model_module": "@jupyter-widgets/base",
      "_model_module_version": "1.2.0",
      "_model_name": "LayoutModel",
      "_view_count": null,
      "_view_module": "@jupyter-widgets/base",
      "_view_module_version": "1.2.0",
      "_view_name": "LayoutView",
      "align_content": null,
      "align_items": null,
      "align_self": null,
      "border": null,
      "bottom": null,
      "display": null,
      "flex": null,
      "flex_flow": null,
      "grid_area": null,
      "grid_auto_columns": null,
      "grid_auto_flow": null,
      "grid_auto_rows": null,
      "grid_column": null,
      "grid_gap": null,
      "grid_row": null,
      "grid_template_areas": null,
      "grid_template_columns": null,
      "grid_template_rows": null,
      "height": null,
      "justify_content": null,
      "justify_items": null,
      "left": null,
      "margin": null,
      "max_height": null,
      "max_width": null,
      "min_height": null,
      "min_width": null,
      "object_fit": null,
      "object_position": null,
      "order": null,
      "overflow": null,
      "overflow_x": null,
      "overflow_y": null,
      "padding": null,
      "right": null,
      "top": null,
      "visibility": null,
      "width": null
     }
    },
    "831690aeacdb44c99f52b9a73cda05f6": {
     "model_module": "@jupyter-widgets/controls",
     "model_module_version": "1.5.0",
     "model_name": "DescriptionStyleModel",
     "state": {
      "_model_module": "@jupyter-widgets/controls",
      "_model_module_version": "1.5.0",
      "_model_name": "DescriptionStyleModel",
      "_view_count": null,
      "_view_module": "@jupyter-widgets/base",
      "_view_module_version": "1.2.0",
      "_view_name": "StyleView",
      "description_width": ""
     }
    },
    "b348120a11c74eebaf4bab9b83125f67": {
     "model_module": "@jupyter-widgets/controls",
     "model_module_version": "1.5.0",
     "model_name": "HTMLModel",
     "state": {
      "_dom_classes": [],
      "_model_module": "@jupyter-widgets/controls",
      "_model_module_version": "1.5.0",
      "_model_name": "HTMLModel",
      "_view_count": null,
      "_view_module": "@jupyter-widgets/controls",
      "_view_module_version": "1.5.0",
      "_view_name": "HTMLView",
      "description": "",
      "description_tooltip": null,
      "layout": "IPY_MODEL_e9c74b79e0474971b8fb4dfe3bc391b7",
      "placeholder": "​",
      "style": "IPY_MODEL_831690aeacdb44c99f52b9a73cda05f6",
      "value": " 15/15 [00:55&lt;00:00,  3.68s/it]"
     }
    },
    "cdea06eccf474cddb2c4592a706f9f23": {
     "model_module": "@jupyter-widgets/controls",
     "model_module_version": "1.5.0",
     "model_name": "ProgressStyleModel",
     "state": {
      "_model_module": "@jupyter-widgets/controls",
      "_model_module_version": "1.5.0",
      "_model_name": "ProgressStyleModel",
      "_view_count": null,
      "_view_module": "@jupyter-widgets/base",
      "_view_module_version": "1.2.0",
      "_view_name": "StyleView",
      "bar_color": null,
      "description_width": ""
     }
    },
    "e9c74b79e0474971b8fb4dfe3bc391b7": {
     "model_module": "@jupyter-widgets/base",
     "model_module_version": "1.2.0",
     "model_name": "LayoutModel",
     "state": {
      "_model_module": "@jupyter-widgets/base",
      "_model_module_version": "1.2.0",
      "_model_name": "LayoutModel",
      "_view_count": null,
      "_view_module": "@jupyter-widgets/base",
      "_view_module_version": "1.2.0",
      "_view_name": "LayoutView",
      "align_content": null,
      "align_items": null,
      "align_self": null,
      "border": null,
      "bottom": null,
      "display": null,
      "flex": null,
      "flex_flow": null,
      "grid_area": null,
      "grid_auto_columns": null,
      "grid_auto_flow": null,
      "grid_auto_rows": null,
      "grid_column": null,
      "grid_gap": null,
      "grid_row": null,
      "grid_template_areas": null,
      "grid_template_columns": null,
      "grid_template_rows": null,
      "height": null,
      "justify_content": null,
      "justify_items": null,
      "left": null,
      "margin": null,
      "max_height": null,
      "max_width": null,
      "min_height": null,
      "min_width": null,
      "object_fit": null,
      "object_position": null,
      "order": null,
      "overflow": null,
      "overflow_x": null,
      "overflow_y": null,
      "padding": null,
      "right": null,
      "top": null,
      "visibility": null,
      "width": null
     }
    },
    "eb66902dabc54877ac4b3ad6e9d0e166": {
     "model_module": "@jupyter-widgets/controls",
     "model_module_version": "1.5.0",
     "model_name": "FloatProgressModel",
     "state": {
      "_dom_classes": [],
      "_model_module": "@jupyter-widgets/controls",
      "_model_module_version": "1.5.0",
      "_model_name": "FloatProgressModel",
      "_view_count": null,
      "_view_module": "@jupyter-widgets/controls",
      "_view_module_version": "1.5.0",
      "_view_name": "ProgressView",
      "bar_style": "success",
      "description": "",
      "description_tooltip": null,
      "layout": "IPY_MODEL_20da601fe3d24da68ef87625daf4fc08",
      "max": 15,
      "min": 0,
      "orientation": "horizontal",
      "style": "IPY_MODEL_cdea06eccf474cddb2c4592a706f9f23",
      "value": 15
     }
    },
    "fa70d9dc656043b3a45218157fdda28c": {
     "model_module": "@jupyter-widgets/controls",
     "model_module_version": "1.5.0",
     "model_name": "DescriptionStyleModel",
     "state": {
      "_model_module": "@jupyter-widgets/controls",
      "_model_module_version": "1.5.0",
      "_model_name": "DescriptionStyleModel",
      "_view_count": null,
      "_view_module": "@jupyter-widgets/base",
      "_view_module_version": "1.2.0",
      "_view_name": "StyleView",
      "description_width": ""
     }
    }
   }
  }
 },
 "nbformat": 4,
 "nbformat_minor": 0
}
